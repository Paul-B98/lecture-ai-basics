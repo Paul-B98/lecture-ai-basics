{
 "cells": [
  {
   "cell_type": "markdown",
   "id": "959dd81c",
   "metadata": {},
   "source": [
    "Lecture: AI I - Basics \n",
    "\n",
    "Previous:\n",
    "[**Chapter 2.3: Control Flow**](../02_python/03_control_flow.ipynb)\n",
    "\n",
    "---"
   ]
  },
  {
   "cell_type": "markdown",
   "id": "bcd0fd68",
   "metadata": {},
   "source": [
    "# Chapter 2.4: Object Orientation\n",
    "\n",
    "- [Functions](#functions)\n",
    "- [Classes](#classes)\n",
    "- [Typing and Naming Conventions](#typing-and-naming-conventions)\n",
    "- [Python Data Model](#python-data-model)\n",
    "- [Properties](#properties)\n",
    "- [Factory Methods](#factory-methods)\n",
    "- [Decorators](#decorators)\n",
    "- [Modules](#modules)"
   ]
  },
  {
   "cell_type": "markdown",
   "id": "32c0bf80",
   "metadata": {},
   "source": [
    "## Functions"
   ]
  },
  {
   "cell_type": "code",
   "execution_count": null,
   "id": "3075f5a3",
   "metadata": {},
   "outputs": [],
   "source": []
  },
  {
   "cell_type": "markdown",
   "id": "13ce238e",
   "metadata": {},
   "source": [
    "### Lambda Functions"
   ]
  },
  {
   "cell_type": "markdown",
   "id": "8f9ac39e",
   "metadata": {},
   "source": [
    "### Call-by-value or Call-by-reference?"
   ]
  },
  {
   "cell_type": "markdown",
   "id": "fcf4e5df",
   "metadata": {},
   "source": [
    "### Arguments and keyword arguments"
   ]
  },
  {
   "cell_type": "markdown",
   "id": "412c40ad",
   "metadata": {},
   "source": [
    "## Typing, Naming Conventions and Docstrings\n",
    "\n",
    "To write clean, consistent, and maintainable Python code, it's important to follow established style guidelines defined in [Python Enhancement Proposals (PEPs)](https://peps.python.org/pep-0000/). This chapter focuses on key conventions from naming and formatting, docstrings, type hints and annotations. Understanding and applying these standards helps you write code that’s not only functional but also easier to read, understand, and collaborate on within teams and larger projects.\n",
    "\n",
    "### Naming Conventions\n",
    "\n",
    "[PEP 8](https://peps.python.org/pep-0008/) is the official style guide for Python code, providing conventions for formatting code to improve readability, consistency, and collaboration. It covers topics like indentation, line length, naming conventions, spacing, and how to structure code clearly. Following PEP 8 helps ensure that your code looks and feels familiar to other Python developers, making it easier to maintain and review in team or open-source projects. For additional details, refer to the [PEP 8](https://peps.python.org/pep-0008/) documentation.\n",
    "\n",
    "**Naming examples**:\n",
    "\n",
    "| Type | Convention | Example | Description |\n",
    "|------|------------|---------|-------------|\n",
    "| Variable (public) | `lower_case_with_underscores` | `my_variable` | Use lowercase letters and underscores to separate words. |\n",
    "| Variable (protected) | `_lower_case_with_underscores` | `_my_variable` | Use a leading underscore to indicate a private variable. |\n",
    "| Variable (private) | `__lower_case_with_underscores` | `__my_variable` | Use double leading underscores to indicate a strongly private variable. |\n",
    "| Constant | `UPPER_CASE_WITH_UNDERSCORES` | `MAX_VALUE` | Use uppercase letters with underscores for constants. |\n",
    "| Function / Method (public) | `lower_case_with_underscores` | `my_function()` | Use lowercase letters and underscores for function names. |\n",
    "| Function / Method (protected) | `_lower_case_with_underscores` | `_my_function()` | Use a leading underscore for protected functions. |\n",
    "| Function / Method (private) | `__lower_case_with_underscores` | `__my_function()` | Use double leading underscores for strongly private functions. |\n",
    "| Special Method (\"Dunder\") | `__double_underscore__` | `__init__()` | Use double underscores for special methods (dunder methods). |\n",
    "| Class | `CamelCase` | `MyClass` | Use CamelCase for class names, starting with an uppercase letter and capitalizing each word. |\n",
    "| Module | `lower_case_with_underscores` | `my_module.py` | Use lowercase letters and underscores for module names. |\n",
    "| Package | `lower_case_with_underscores` | `my_package/` | Use lowercase letters and underscores for package names. |\n",
    "\n",
    "### Docstrings\n",
    "\n",
    "Docstrings are special string literals used to document modules, classes, functions, and methods in Python. Placed directly below the definition line, a docstring describes what the object does, what arguments it takes, and what it returns. They follow the conventions outlined in [PEP 257](https://peps.python.org/pep-0257/) and are enclosed in triple quotes (\"\"\" or '''). Well-written docstrings make your code easier to understand, maintain, and use by others.\n",
    "\n",
    "Following is a simple example of a docstring for a function:"
   ]
  },
  {
   "cell_type": "code",
   "execution_count": null,
   "id": "bef53535",
   "metadata": {},
   "outputs": [],
   "source": [
    "def say_hello(time, people):\n",
    "    \"\"\"Function says a greeting depending on the time of day and the people addressed.\"\"\"\n",
    "    return f'Good {time}, {people}' "
   ]
  },
  {
   "cell_type": "markdown",
   "id": "01d42b1f",
   "metadata": {},
   "source": [
    "#### Docstring structure extension\n",
    "\n",
    "There are additional extensions to docstrings, such as the [Google style](https://google.github.io/styleguide/pyguide.html#s3.8-comments-and-docstrings), [NumPy style](https://pandas.pydata.org/docs/development/contributing_docstring.html) and [Sphinx style](https://sphinx-rtd-tutorial.readthedocs.io/en/latest/docstrings.html), which provide more structured formats for documenting parameters, return values, exceptions, and examples. These styles help in generating documentation automatically and make it easier for users to understand how to use your code.\n",
    "\n",
    "##### Google style example\n"
   ]
  },
  {
   "cell_type": "code",
   "execution_count": 3,
   "id": "30acd28f",
   "metadata": {},
   "outputs": [],
   "source": [
    "def say_hello(time, people):\n",
    "    \"\"\"Function says a greeting depending on the time of day and the people addressed.\n",
    "    \n",
    "    Args:\n",
    "        time: The time of day (e.g., \"morning\", \"afternoon\", \"evening\").\n",
    "        people: The person or group being addressed (e.g., \"Alice\", \"everyone\").\n",
    "\n",
    "    Returns:\n",
    "        str: A greeting message formatted with the time and people addressed.\n",
    "    \"\"\"\n",
    "    return f'Good {time}, {people}' "
   ]
  },
  {
   "cell_type": "markdown",
   "id": "5932a910",
   "metadata": {},
   "source": [
    "##### Numpy style example"
   ]
  },
  {
   "cell_type": "code",
   "execution_count": 4,
   "id": "2b74d538",
   "metadata": {},
   "outputs": [],
   "source": [
    "def say_hello(time, people):\n",
    "    \"\"\"Function says a greeting depending on the time of day and the people addressed.\n",
    "    \n",
    "    Parameters\n",
    "    ----------\n",
    "    time : str\n",
    "        The time of day (e.g., \"morning\", \"afternoon\", \"evening\").\n",
    "    people : str\n",
    "        The person or group being addressed (e.g., \"Alice\", \"everyone\").   \n",
    "\n",
    "    Returns\n",
    "    -------\n",
    "    str\n",
    "        A greeting message formatted with the time and people addressed.\n",
    "    \"\"\"\n",
    "    return f'Good {time}, {people}' "
   ]
  },
  {
   "cell_type": "markdown",
   "id": "a11978c9",
   "metadata": {},
   "source": [
    "##### Sphinx style example"
   ]
  },
  {
   "cell_type": "code",
   "execution_count": 7,
   "id": "77828a18",
   "metadata": {},
   "outputs": [],
   "source": [
    "def say_hello(time, people):\n",
    "    \"\"\"Function says a greeting depending on the time of day and the people addressed.\n",
    "    \n",
    "    :param time: The time of day (e.g., \"morning\", \"afternoon\", \"evening\").\n",
    "    :type time: str\n",
    "    :param people: The person or group being addressed (e.g., \"Alice\", \"everyone\").\n",
    "    :type people: str\n",
    "    :return: A greeting message formatted with the time and people addressed.\n",
    "    :rtype: str\n",
    "    \"\"\"\n",
    "    return f'Good {time}, {people}' "
   ]
  },
  {
   "cell_type": "markdown",
   "id": "10ea44f1",
   "metadata": {},
   "source": [
    "To quickly access documentation in Python, you can use the [built-in](https://docs.python.org/3/library/functions.html#help) `help()` function, which shows the docstring of a function, class, or module. In interactive environments like Jupyter or IPython, you can also use a question mark (`?`) after the object name (e.g., len?) to view a quick summary. Additionally, you can directly access the docstring of an object using its `__doc__` attribute, which returns the documentation as a string."
   ]
  },
  {
   "cell_type": "code",
   "execution_count": 5,
   "id": "a1a423d5",
   "metadata": {},
   "outputs": [
    {
     "data": {
      "text/plain": [
       "<function __main__.say_hello(time, people)>"
      ]
     },
     "execution_count": 5,
     "metadata": {},
     "output_type": "execute_result"
    }
   ],
   "source": [
    "say_hello"
   ]
  },
  {
   "cell_type": "code",
   "execution_count": 8,
   "id": "58e6237a",
   "metadata": {},
   "outputs": [
    {
     "name": "stdout",
     "output_type": "stream",
     "text": [
      "Help on function say_hello in module __main__:\n",
      "\n",
      "say_hello(time, people)\n",
      "    Function says a greeting depending on the time of day and the people addressed.\n",
      "\n",
      "    :param time: The time of day (e.g., \"morning\", \"afternoon\", \"evening\").\n",
      "    :type time: str\n",
      "    :param people: The person or group being addressed (e.g., \"Alice\", \"everyone\").\n",
      "    :type people: str\n",
      "    :return: A greeting message formatted with the time and people addressed.\n",
      "    :rtype: str\n",
      "\n"
     ]
    }
   ],
   "source": [
    "help(say_hello)"
   ]
  },
  {
   "cell_type": "code",
   "execution_count": 9,
   "id": "bb823bfe",
   "metadata": {},
   "outputs": [
    {
     "name": "stdout",
     "output_type": "stream",
     "text": [
      "\u001b[31mSignature:\u001b[39m say_hello(time, people)\n",
      "\u001b[31mDocstring:\u001b[39m\n",
      "Function says a greeting depending on the time of day and the people addressed.\n",
      "\n",
      ":param time: The time of day (e.g., \"morning\", \"afternoon\", \"evening\").\n",
      ":type time: str\n",
      ":param people: The person or group being addressed (e.g., \"Alice\", \"everyone\").\n",
      ":type people: str\n",
      ":return: A greeting message formatted with the time and people addressed.\n",
      ":rtype: str\n",
      "\u001b[31mFile:\u001b[39m      /tmp/ipykernel_6440/3964694816.py\n",
      "\u001b[31mType:\u001b[39m      function"
     ]
    }
   ],
   "source": [
    "say_hello?"
   ]
  },
  {
   "cell_type": "code",
   "execution_count": 10,
   "id": "ad87d072",
   "metadata": {},
   "outputs": [
    {
     "data": {
      "text/plain": [
       "'Function says a greeting depending on the time of day and the people addressed.\\n\\n    :param time: The time of day (e.g., \"morning\", \"afternoon\", \"evening\").\\n    :type time: str\\n    :param people: The person or group being addressed (e.g., \"Alice\", \"everyone\").\\n    :type people: str\\n    :return: A greeting message formatted with the time and people addressed.\\n    :rtype: str\\n    '"
      ]
     },
     "execution_count": 10,
     "metadata": {},
     "output_type": "execute_result"
    }
   ],
   "source": [
    "say_hello.__doc__"
   ]
  },
  {
   "cell_type": "markdown",
   "id": "2a97dc29",
   "metadata": {},
   "source": [
    "### Typing and Type Hints"
   ]
  },
  {
   "cell_type": "markdown",
   "id": "ca4a60f5",
   "metadata": {},
   "source": [
    "## Classes"
   ]
  },
  {
   "cell_type": "markdown",
   "id": "0813c2a2",
   "metadata": {},
   "source": [
    "## Inheritance, Abstract Base Classes and Protocols"
   ]
  },
  {
   "cell_type": "markdown",
   "id": "16b7afd3",
   "metadata": {},
   "source": [
    "## Python Data Model"
   ]
  },
  {
   "cell_type": "markdown",
   "id": "28ebaa0b",
   "metadata": {},
   "source": [
    "## Properties"
   ]
  },
  {
   "cell_type": "markdown",
   "id": "8bde0acd",
   "metadata": {},
   "source": [
    "## Factory Methods"
   ]
  },
  {
   "cell_type": "markdown",
   "id": "88af9964",
   "metadata": {},
   "source": [
    "## Decorators"
   ]
  },
  {
   "cell_type": "markdown",
   "id": "fa427b23",
   "metadata": {},
   "source": [
    "## Modules"
   ]
  },
  {
   "cell_type": "markdown",
   "id": "823f1f8a",
   "metadata": {},
   "source": [
    "---\n",
    "\n",
    "Lecture: AI I - Basics \n",
    "\n",
    "Exercise: [**Exercise 2.4: Object Orientation**](../02_python/exercises/04_object_orientation.ipynb)\n",
    "\n",
    "Next: [**Chapter 2.5: Additionals**](../02_python/05_additionals.ipynb)"
   ]
  }
 ],
 "metadata": {
  "kernelspec": {
   "display_name": "ai-lecture",
   "language": "python",
   "name": "python3"
  },
  "language_info": {
   "codemirror_mode": {
    "name": "ipython",
    "version": 3
   },
   "file_extension": ".py",
   "mimetype": "text/x-python",
   "name": "python",
   "nbconvert_exporter": "python",
   "pygments_lexer": "ipython3",
   "version": "3.12.11"
  }
 },
 "nbformat": 4,
 "nbformat_minor": 5
}

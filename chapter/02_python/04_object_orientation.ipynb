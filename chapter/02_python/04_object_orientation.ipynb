{
 "cells": [
  {
   "cell_type": "markdown",
   "id": "959dd81c",
   "metadata": {},
   "source": [
    "Lecture: AI I - Basics \n",
    "\n",
    "Previous:\n",
    "[**Chapter 2.3: Control Flow**](../02_python/03_control_flow.ipynb)\n",
    "\n",
    "---"
   ]
  },
  {
   "cell_type": "markdown",
   "id": "bcd0fd68",
   "metadata": {},
   "source": [
    "# Chapter 2.4: Object Orientation\n",
    "\n",
    "- [Functions](#functions)\n",
    "- [Classes](#classes)\n",
    "- [Typing and Naming Conventions](#typing-and-naming-conventions)\n",
    "- [Python Data Model](#python-data-model)\n",
    "- [Properties](#properties)\n",
    "- [Factory Methods](#factory-methods)\n",
    "- [Decorators](#decorators)\n",
    "- [Modules](#modules)"
   ]
  },
  {
   "cell_type": "markdown",
   "id": "32c0bf80",
   "metadata": {},
   "source": [
    "## Functions"
   ]
  },
  {
   "cell_type": "code",
   "execution_count": null,
   "id": "3075f5a3",
   "metadata": {
    "vscode": {
     "languageId": "plaintext"
    }
   },
   "outputs": [],
   "source": []
  },
  {
   "cell_type": "markdown",
   "id": "13ce238e",
   "metadata": {},
   "source": [
    "### Lambda Functions"
   ]
  },
  {
   "cell_type": "markdown",
   "id": "8f9ac39e",
   "metadata": {},
   "source": [
    "### Call-by-value or Call-by-reference?"
   ]
  },
  {
   "cell_type": "markdown",
   "id": "fcf4e5df",
   "metadata": {},
   "source": [
    "### Arguments and keyword arguments"
   ]
  },
  {
   "cell_type": "markdown",
   "id": "412c40ad",
   "metadata": {},
   "source": [
    "## Typing, Naming Conventions and Docstrings\n",
    "\n",
    "To write clean, consistent, and maintainable Python code, it's important to follow established style guidelines defined in [Python Enhancement Proposals (PEPs)](https://peps.python.org/pep-0000/). This chapter focuses on key conventions from naming and formatting, docstrings, type hints and annotations. Understanding and applying these standards helps you write code that’s not only functional but also easier to read, understand, and collaborate on within teams and larger projects.\n",
    "\n",
    "### Naming Conventions\n",
    "\n",
    "[PEP 8](https://peps.python.org/pep-0008/) is the official style guide for Python code, providing conventions for formatting code to improve readability, consistency, and collaboration. It covers topics like indentation, line length, naming conventions, spacing, and how to structure code clearly. Following PEP 8 helps ensure that your code looks and feels familiar to other Python developers, making it easier to maintain and review in team or open-source projects.\n",
    "\n",
    "**Naming examples**:\n",
    "\n",
    "| Type | Convention | Example | Description |\n",
    "|------|------------|---------|-------------|\n",
    "| Variable (public) | `lower_case_with_underscores` | `my_variable` | Use lowercase letters and underscores to separate words. |\n",
    "| Variable (protected) | `_lower_case_with_underscores` | `_my_variable` | Use a leading underscore to indicate a private variable. |\n",
    "| Variable (private) | `__lower_case_with_underscores` | `__my_variable` | Use double leading underscores to indicate a strongly private variable. |\n",
    "| Constant | `UPPER_CASE_WITH_UNDERSCORES` | `MAX_VALUE` | Use uppercase letters with underscores for constants. |\n",
    "| Function / Method (public) | `lower_case_with_underscores` | `my_function()` | Use lowercase letters and underscores for function names. |\n",
    "| Function / Method (protected) | `_lower_case_with_underscores` | `_my_function()` | Use a leading underscore for protected functions. |\n",
    "| Function / Method (private) | `__lower_case_with_underscores` | `__my_function()` | Use double leading underscores for strongly private functions. |\n",
    "| Special Method (\"Dunder\") | `__double_underscore__` | `__init__()` | Use double underscores for special methods (dunder methods). |\n",
    "| Class | `CamelCase` | `MyClass` | Use CamelCase for class names, starting with an uppercase letter and capitalizing each word. |\n",
    "| Module | `lower_case_with_underscores` | `my_module.py` | Use lowercase letters and underscores for module names. |\n",
    "| Package | `lower_case_with_underscores` | `my_package/` | Use lowercase letters and underscores for package names. |\n",
    "\n",
    "### Docstrings\n",
    "\n",
    "Docstrings are special string literals used to document modules, classes, functions, and methods in Python. Placed directly below the definition line, a docstring describes what the object does, what arguments it takes, and what it returns. They follow the conventions outlined in [PEP 257](https://peps.python.org/pep-0257/) and are enclosed in triple quotes (\"\"\" or '''). Well-written docstrings make your code easier to understand, maintain, and use by others."
   ]
  },
  {
   "cell_type": "code",
   "execution_count": null,
   "id": "30acd28f",
   "metadata": {
    "vscode": {
     "languageId": "plaintext"
    }
   },
   "outputs": [],
   "source": []
  },
  {
   "cell_type": "markdown",
   "id": "ca4a60f5",
   "metadata": {},
   "source": [
    "## Classes"
   ]
  },
  {
   "cell_type": "markdown",
   "id": "0813c2a2",
   "metadata": {},
   "source": [
    "## Inheritance, Abstract Base Classes and Protocols"
   ]
  },
  {
   "cell_type": "markdown",
   "id": "16b7afd3",
   "metadata": {},
   "source": [
    "## Python Data Model"
   ]
  },
  {
   "cell_type": "markdown",
   "id": "28ebaa0b",
   "metadata": {},
   "source": [
    "## Properties"
   ]
  },
  {
   "cell_type": "markdown",
   "id": "8bde0acd",
   "metadata": {},
   "source": [
    "## Factory Methods"
   ]
  },
  {
   "cell_type": "markdown",
   "id": "88af9964",
   "metadata": {},
   "source": [
    "## Decorators"
   ]
  },
  {
   "cell_type": "markdown",
   "id": "fa427b23",
   "metadata": {},
   "source": [
    "## Modules"
   ]
  },
  {
   "cell_type": "markdown",
   "id": "823f1f8a",
   "metadata": {},
   "source": [
    "---\n",
    "\n",
    "Lecture: AI I - Basics \n",
    "\n",
    "Exercise: [**Exercise 2.4: Object Orientation**](../02_python/exercises/04_object_orientation.ipynb)\n",
    "\n",
    "Next: [**Chapter 2.5: Additionals**](../02_python/05_additionals.ipynb)"
   ]
  }
 ],
 "metadata": {
  "language_info": {
   "name": "python"
  }
 },
 "nbformat": 4,
 "nbformat_minor": 5
}

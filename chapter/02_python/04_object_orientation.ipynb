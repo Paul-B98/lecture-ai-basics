{
 "cells": [
  {
   "cell_type": "markdown",
   "id": "959dd81c",
   "metadata": {},
   "source": [
    "Lecture: AI I - Basics \n",
    "\n",
    "Previous:\n",
    "[**Chapter 2.3: Control Flow**](../02_python/03_control_flow.ipynb)\n",
    "\n",
    "---"
   ]
  },
  {
   "cell_type": "markdown",
   "id": "bcd0fd68",
   "metadata": {},
   "source": [
    "# Chapter 2.4: Object Orientation\n",
    "\n",
    "- [Functions](#functions)\n",
    "- [Classes](#classes)\n",
    "- [Typing and Naming Conventions](#typing-and-naming-conventions)\n",
    "- [Python Data Model](#python-data-model)\n",
    "- [Properties](#properties)\n",
    "- [Factory Methods](#factory-methods)\n",
    "- [Decorators](#decorators)\n",
    "- [Modules](#modules)"
   ]
  },
  {
   "cell_type": "markdown",
   "id": "32c0bf80",
   "metadata": {},
   "source": [
    "## Functions\n",
    "\n",
    "A [function](https://docs.python.org/3.11/tutorial/controlflow.html#defining-functions) in Python is a reusable block of code that performs a specific task and can be executed whenever needed. Functions help organize code, avoid repetition, and improve readability by allowing you to encapsulate logic into named units. They are defined using the def keyword, can accept parameters, and optionally return a value using return.\n",
    "\n",
    "To define a function, use the following syntax:\n",
    "\n",
    "```python\n",
    "def function_name(parameters):\n",
    "    # Function body\n",
    "    return value\n",
    "```\n",
    "\n",
    "To call a function, simply use its name followed by parentheses:\n",
    "\n",
    "```python\n",
    "function_name(arguments)\n",
    "```\n",
    "\n",
    "> **Hint:** When to use a function - If you find yourself writing the same logic more than once, or if a block of code performs a distinct subtask"
   ]
  },
  {
   "cell_type": "code",
   "execution_count": 2,
   "id": "d1ff88c0",
   "metadata": {},
   "outputs": [
    {
     "name": "stdout",
     "output_type": "stream",
     "text": [
      "15\n",
      "33.4\n",
      "6.641\n"
     ]
    }
   ],
   "source": [
    "def add_numbers(a, b):\n",
    "    return a + b\n",
    "\n",
    "print(add_numbers(5, 10))\n",
    "print(add_numbers(3.4, 30))\n",
    "print(add_numbers(3.141, 3.5))"
   ]
  },
  {
   "cell_type": "markdown",
   "id": "c2760be1",
   "metadata": {},
   "source": [
    "A function can take any number of parameters, including none, and can return a value or not."
   ]
  },
  {
   "cell_type": "code",
   "execution_count": 5,
   "id": "5bc616b4",
   "metadata": {},
   "outputs": [
    {
     "name": "stdout",
     "output_type": "stream",
     "text": [
      "Hello, world!\n"
     ]
    }
   ],
   "source": [
    "def hello_world():\n",
    "    print(\"Hello, world!\")\n",
    "\n",
    "hello_world()"
   ]
  },
  {
   "cell_type": "markdown",
   "id": "7b61d06f",
   "metadata": {},
   "source": [
    "It's also possible to return multiple values from a function using tuples:"
   ]
  },
  {
   "cell_type": "code",
   "execution_count": 7,
   "id": "316d616c",
   "metadata": {},
   "outputs": [
    {
     "name": "stdout",
     "output_type": "stream",
     "text": [
      "(3, 1)\n",
      "3 1\n"
     ]
    }
   ],
   "source": [
    "def div_mod(a, b):\n",
    "    return a // b, a % b\n",
    "\n",
    "print(div_mod(10, 3))\n",
    "\n",
    "x, y = div_mod(10, 3)\n",
    "print(x, y) "
   ]
  },
  {
   "cell_type": "markdown",
   "id": "c45f9a63",
   "metadata": {},
   "source": [
    "Functions can also call other functions:"
   ]
  },
  {
   "cell_type": "code",
   "execution_count": 10,
   "id": "affec73e",
   "metadata": {},
   "outputs": [
    {
     "name": "stdout",
     "output_type": "stream",
     "text": [
      "Hello, world!\n",
      "Hello, world!\n"
     ]
    }
   ],
   "source": [
    "def do_hello_world_twice():\n",
    "    hello_world()\n",
    "    hello_world()\n",
    "\n",
    "do_hello_world_twice()"
   ]
  },
  {
   "cell_type": "markdown",
   "id": "88096181",
   "metadata": {},
   "source": [
    "Python does not support traditional function overloading like some other languages (e.g., Java). Instead, it allows you to define default values for parameters, enabling the same function to be called with different numbers of arguments. This makes code more flexible and eliminates the need to define multiple versions of a function. For example, `def greet(name=\"Guest\"):` allows the function to be called with or without an argument, adapting its behavior accordingly.\n",
    "\n",
    "> **Hint**: The order of parameters matters. If you have both positional and keyword arguments, positional arguments must come first.\n",
    "> ```python\n",
    "> def greet(\"Alice\", from_name=\"Bob\"):  # ✅ This is correct\n",
    ">     pass\n",
    "> ```\n",
    ">\n",
    "> ```python\n",
    "> def greet(from_name=\"Alice\", \"Bob\"):  # ❌ This will raise a SyntaxError\n",
    ">     pass\n",
    "> ```"
   ]
  },
  {
   "cell_type": "code",
   "execution_count": 18,
   "id": "225bc379",
   "metadata": {},
   "outputs": [
    {
     "name": "stdout",
     "output_type": "stream",
     "text": [
      "Hello, Guest!\n",
      "Hello, Alice!\n",
      "Hello, Bob! This is Charlie.\n"
     ]
    }
   ],
   "source": [
    "def greet(to_name=\"Guest\", from_name=None):\n",
    "    if from_name:\n",
    "        print(f\"Hello, {to_name}! This is {from_name}.\")\n",
    "    else:\n",
    "        print(f\"Hello, {to_name}!\")\n",
    "\n",
    "greet()\n",
    "greet(\"Alice\")\n",
    "greet(\"Bob\", \"Charlie\")"
   ]
  },
  {
   "cell_type": "markdown",
   "id": "cc6c9e65",
   "metadata": {},
   "source": [
    "Local variables are only accessible within the function where they are defined. They cannot be accessed outside of that function, which helps prevent naming conflicts and unintended side effects."
   ]
  },
  {
   "cell_type": "code",
   "execution_count": 32,
   "id": "2e81e5c7",
   "metadata": {},
   "outputs": [
    {
     "name": "stdout",
     "output_type": "stream",
     "text": [
      "2\n",
      "1\n"
     ]
    }
   ],
   "source": [
    "a = 1\n",
    "def show_var():\n",
    "    a = 2\n",
    "    print(a)\n",
    "show_var()\n",
    "print(a)"
   ]
  },
  {
   "cell_type": "markdown",
   "id": "8f9ac39e",
   "metadata": {},
   "source": [
    "### Call by value or Call by reference?\n",
    "\n",
    "Python uses a model often referred to as \"**call by object**\" or more precisely, \"call by object reference\" (also known as \"call by sharing\"). This means that when you pass a variable to a function, you’re passing a reference to the object—not the actual object, and not a copy.\n",
    "* If the object is **mutable** (like lists or dictionaries), changes made inside the function will affect the original object.\n",
    "* If the object is **immutable** (like integers, strings, or tuples), reassignment inside the function does not affect the original, because a new object is created.\n",
    "\n",
    "This behavior is different from:\n",
    "* **Call by value** (used in languages like C for primitives), where a copy is passed and the original remains unchanged.\n",
    "* **Call by reference** (used in some C++ contexts), where the original variable itself is passed and can be directly modified.\n",
    "\n",
    "This can lead to some unexpected behavior, like shown in the following example:"
   ]
  },
  {
   "cell_type": "code",
   "execution_count": null,
   "id": "8ce08a45",
   "metadata": {},
   "outputs": [
    {
     "data": {
      "text/plain": [
       "['new item']"
      ]
     },
     "execution_count": 16,
     "metadata": {},
     "output_type": "execute_result"
    }
   ],
   "source": [
    "def process_list(l):\n",
    "    l.append(\"new item\")\n",
    "    return l\n",
    "\n",
    "result_list = []\n",
    "process_list(result_list)\n",
    "result_list"
   ]
  },
  {
   "cell_type": "code",
   "execution_count": null,
   "id": "cbfaa552",
   "metadata": {},
   "outputs": [
    {
     "data": {
      "text/plain": [
       "'original'"
      ]
     },
     "execution_count": 17,
     "metadata": {},
     "output_type": "execute_result"
    }
   ],
   "source": [
    "def process_str(s):\n",
    "    s += \" - modified\"\n",
    "    return s\n",
    "\n",
    "result_str = \"original\"\n",
    "process_str(result_str)\n",
    "result_str"
   ]
  },
  {
   "cell_type": "markdown",
   "id": "4498ad74",
   "metadata": {},
   "source": [
    "In Python, default argument values are evaluated only once—at the time the function is defined, not each time it is called. This becomes problematic when using mutable types like lists or dictionaries as default values, including with `**kwargs`-like parameters in custom wrappers or API functions.\n",
    "\n",
    "> **Hint:** If you modify a mutable default value (e.g., appending to a list or updating a dictionary), the change persists across future calls, potentially leading to unexpected behavior."
   ]
  },
  {
   "cell_type": "code",
   "execution_count": 23,
   "id": "bcdc2d30",
   "metadata": {},
   "outputs": [
    {
     "name": "stdout",
     "output_type": "stream",
     "text": [
      "['new item']\n",
      "['new item', 'new item']\n",
      "['new item', 'new item', 'new item']\n",
      "['new item', 'new item', 'new item', 'new item']\n",
      "['new item', 'new item', 'new item', 'new item', 'new item']\n"
     ]
    }
   ],
   "source": [
    "def process_list(l=[]):\n",
    "    l.append(\"new item\")\n",
    "    print(l)\n",
    "\n",
    "for i in range(5):\n",
    "    process_list()"
   ]
  },
  {
   "cell_type": "markdown",
   "id": "800a938c",
   "metadata": {},
   "source": [
    "In that case `None` is prefered as a default value for mutable types."
   ]
  },
  {
   "cell_type": "code",
   "execution_count": 24,
   "id": "5a8153ae",
   "metadata": {},
   "outputs": [
    {
     "name": "stdout",
     "output_type": "stream",
     "text": [
      "['new item']\n",
      "['new item']\n",
      "['new item']\n",
      "['new item']\n",
      "['new item']\n"
     ]
    }
   ],
   "source": [
    "def process_list(l=None):\n",
    "    if l is None:\n",
    "        l = []\n",
    "\n",
    "    l.append(\"new item\")\n",
    "    print(l)\n",
    "\n",
    "for i in range(5):\n",
    "    process_list()"
   ]
  },
  {
   "cell_type": "markdown",
   "id": "fcf4e5df",
   "metadata": {},
   "source": [
    "### Arguments and keyword arguments\n",
    "\n",
    "Python functions support flexible argument passing using `*args` and `**kwargs`:\n",
    "- `*args` allows a function to accept any number of positional arguments. Inside the function, they are accessible as a tuple. Use this when you want to pass a variable number of values without defining each one explicitly.\n",
    "- `**kwargs` lets a function accept any number of keyword arguments, captured as a dictionary. This is useful for functions that need to handle optional or configurable named parameters.\n"
   ]
  },
  {
   "cell_type": "code",
   "execution_count": 3,
   "id": "c25971e8",
   "metadata": {},
   "outputs": [
    {
     "name": "stdout",
     "output_type": "stream",
     "text": [
      "HELLO\n",
      "WORLD\n"
     ]
    }
   ],
   "source": [
    "def scream(*args):\n",
    "    for arg in args:\n",
    "        print(arg.upper())\n",
    "\n",
    "scream(\"hello\", \"world\")"
   ]
  },
  {
   "cell_type": "code",
   "execution_count": 10,
   "id": "92ba18b1",
   "metadata": {},
   "outputs": [
    {
     "name": "stdout",
     "output_type": "stream",
     "text": [
      "HELLO WORLD \n",
      "HELLO WORLD \n",
      "HELLO. WORLD. "
     ]
    }
   ],
   "source": [
    "def scream(*args, **kwargs):\n",
    "    end = kwargs.get(\"end\", \" \")\n",
    "\n",
    "    for arg in args:\n",
    "        print(arg.upper(), end=end)\n",
    "\n",
    "scream(\"hello\", \"world\")\n",
    "print()\n",
    "scream(\"hello\", \"world\", end=\" \")\n",
    "print()\n",
    "scream(\"hello\", \"world\", end=\". \")"
   ]
  },
  {
   "cell_type": "markdown",
   "id": "84bfb8d9",
   "metadata": {},
   "source": [
    "`*args` and `**kwargs` can be used with specific arguments or keyword arguments:"
   ]
  },
  {
   "cell_type": "code",
   "execution_count": null,
   "id": "96167a0b",
   "metadata": {},
   "outputs": [
    {
     "name": "stdout",
     "output_type": "stream",
     "text": [
      "apple, banana, cherry; fruit=apple, vegetable=carrot; "
     ]
    }
   ],
   "source": [
    "def print_args_kwargs(sep, *args, end=\"\\n\", **kwargs):\n",
    "    print(sep.join(args), end=end)\n",
    "    print(sep.join(f\"{k}={v}\" for k, v in kwargs.items()), end=end)\n",
    "\n",
    "print_args_kwargs(\", \", \"apple\", \"banana\", \"cherry\", end=\"; \", fruit=\"apple\", vegetable=\"carrot\")"
   ]
  },
  {
   "cell_type": "markdown",
   "id": "6879f459",
   "metadata": {},
   "source": [
    "We can also use the unpacking operator (Chapter 2.2) `*` to pass a list or tuple as positional arguments, and `**` to pass a dictionary as keyword arguments:"
   ]
  },
  {
   "cell_type": "code",
   "execution_count": 15,
   "id": "883fffa7",
   "metadata": {},
   "outputs": [
    {
     "name": "stdout",
     "output_type": "stream",
     "text": [
      "apple, banana, cherry; fruit=apple, vegetable=carrot; "
     ]
    }
   ],
   "source": [
    "args = (\", \", \"apple\", \"banana\", \"cherry\")\n",
    "kwargs = {\"end\": \"; \", \"fruit\": \"apple\", \"vegetable\": \"carrot\"}\n",
    "\n",
    "print_args_kwargs(*args, **kwargs)"
   ]
  },
  {
   "cell_type": "markdown",
   "id": "13ce238e",
   "metadata": {},
   "source": [
    "### Lambda Functions\n",
    "\n",
    "A lambda function in Python is a small, anonymous function defined using the `lambda` keyword instead of `def`. It is typically used for short, throwaway operations, especially when passing a function as an argument to higher-order functions like `map()`, `filter()`, or `sorted()`.\n",
    "\n",
    "```python\n",
    "lambda parameters: expression\n",
    "```"
   ]
  },
  {
   "cell_type": "code",
   "execution_count": 25,
   "id": "3075f5a3",
   "metadata": {},
   "outputs": [
    {
     "data": {
      "text/plain": [
       "(64, function)"
      ]
     },
     "execution_count": 25,
     "metadata": {},
     "output_type": "execute_result"
    }
   ],
   "source": [
    "def square_number(x):\n",
    "    return x ** 2\n",
    "\n",
    "square_number(8), type(square_number)"
   ]
  },
  {
   "cell_type": "code",
   "execution_count": 26,
   "id": "131536b8",
   "metadata": {},
   "outputs": [
    {
     "data": {
      "text/plain": [
       "<function __main__.<lambda>(x)>"
      ]
     },
     "execution_count": 26,
     "metadata": {},
     "output_type": "execute_result"
    }
   ],
   "source": [
    "lambda x: x ** 2"
   ]
  },
  {
   "cell_type": "code",
   "execution_count": 27,
   "id": "367f9848",
   "metadata": {},
   "outputs": [
    {
     "data": {
      "text/plain": [
       "(64, function)"
      ]
     },
     "execution_count": 27,
     "metadata": {},
     "output_type": "execute_result"
    }
   ],
   "source": [
    "square_number = lambda x: x ** 2\n",
    "\n",
    "square_number(8), type(square_number)"
   ]
  },
  {
   "cell_type": "markdown",
   "id": "e67d290e",
   "metadata": {},
   "source": [
    "In the following example, we use a lambda function for list processing:"
   ]
  },
  {
   "cell_type": "code",
   "execution_count": 29,
   "id": "107d14cb",
   "metadata": {},
   "outputs": [
    {
     "data": {
      "text/plain": [
       "[{'name': 'Berta', 'age': 20},\n",
       " {'name': 'Chris', 'age': 29},\n",
       " {'name': 'Aaron', 'age': 40}]"
      ]
     },
     "execution_count": 29,
     "metadata": {},
     "output_type": "execute_result"
    }
   ],
   "source": [
    "people = [\n",
    "    {'name': 'Aaron', 'age': 40},\n",
    "    {'name': 'Berta', 'age': 20},\n",
    "    {'name': 'Chris', 'age': 29},\n",
    "]\n",
    "\n",
    "people.sort(key=lambda item: item['age'])\n",
    "people"
   ]
  },
  {
   "cell_type": "code",
   "execution_count": 30,
   "id": "2579d991",
   "metadata": {},
   "outputs": [
    {
     "data": {
      "text/plain": [
       "[{'name': 'Aaron', 'age': 40},\n",
       " {'name': 'Berta', 'age': 20},\n",
       " {'name': 'Chris', 'age': 29}]"
      ]
     },
     "execution_count": 30,
     "metadata": {},
     "output_type": "execute_result"
    }
   ],
   "source": [
    "people.sort(key=lambda item: item['name'])\n",
    "people"
   ]
  },
  {
   "cell_type": "markdown",
   "id": "9b9cddd7",
   "metadata": {},
   "source": [
    "Other functions like `max()`, `min()`, and `sum()` can also accept lambda functions as arguments for custom behavior."
   ]
  },
  {
   "cell_type": "code",
   "execution_count": 31,
   "id": "99f978ef",
   "metadata": {},
   "outputs": [
    {
     "data": {
      "text/plain": [
       "{'name': 'Aaron', 'age': 40}"
      ]
     },
     "execution_count": 31,
     "metadata": {},
     "output_type": "execute_result"
    }
   ],
   "source": [
    "max(people, key=lambda x: x['age'])"
   ]
  },
  {
   "cell_type": "markdown",
   "id": "412c40ad",
   "metadata": {},
   "source": [
    "## Typing, Naming Conventions and Docstrings\n",
    "\n",
    "To write clean, consistent, and maintainable Python code, it's important to follow established style guidelines defined in [Python Enhancement Proposals (PEPs)](https://peps.python.org/pep-0000/). This chapter focuses on key conventions from naming and formatting, docstrings, type hints and annotations. Understanding and applying these standards helps you write code that’s not only functional but also easier to read, understand, and collaborate on within teams and larger projects.\n",
    "\n",
    "### Naming Conventions\n",
    "\n",
    "[PEP 8](https://peps.python.org/pep-0008/) is the official style guide for Python code, providing conventions for formatting code to improve readability, consistency, and collaboration. It covers topics like indentation, line length, naming conventions, spacing, and how to structure code clearly. Following PEP 8 helps ensure that your code looks and feels familiar to other Python developers, making it easier to maintain and review in team or open-source projects. For additional details, refer to the [PEP 8](https://peps.python.org/pep-0008/) documentation.\n",
    "\n",
    "**Naming examples**:\n",
    "\n",
    "| Type | Convention | Example | Description |\n",
    "|------|------------|---------|-------------|\n",
    "| Variable (public) | `lower_case_with_underscores` | `my_variable` | Use lowercase letters and underscores to separate words. |\n",
    "| Variable (protected) | `_lower_case_with_underscores` | `_my_variable` | Use a leading underscore to indicate a private variable. |\n",
    "| Variable (private) | `__lower_case_with_underscores` | `__my_variable` | Use double leading underscores to indicate a strongly private variable. |\n",
    "| Constant | `UPPER_CASE_WITH_UNDERSCORES` | `MAX_VALUE` | Use uppercase letters with underscores for constants. |\n",
    "| Function / Method (public) | `lower_case_with_underscores` | `my_function()` | Use lowercase letters and underscores for function names. |\n",
    "| Function / Method (protected) | `_lower_case_with_underscores` | `_my_function()` | Use a leading underscore for protected functions. |\n",
    "| Function / Method (private) | `__lower_case_with_underscores` | `__my_function()` | Use double leading underscores for strongly private functions. |\n",
    "| Special Method (\"Dunder\") | `__double_underscore__` | `__init__()` | Use double underscores for special methods (dunder methods). |\n",
    "| Class | `CamelCase` | `MyClass` | Use CamelCase for class names, starting with an uppercase letter and capitalizing each word. |\n",
    "| Module | `lower_case_with_underscores` | `my_module.py` | Use lowercase letters and underscores for module names. |\n",
    "| Package | `lower_case_with_underscores` | `my_package/` | Use lowercase letters and underscores for package names. |\n",
    "\n",
    "### Docstrings\n",
    "\n",
    "Docstrings are special string literals used to document modules, classes, functions, and methods in Python. Placed directly below the definition line, a docstring describes what the object does, what arguments it takes, and what it returns. They follow the conventions outlined in [PEP 257](https://peps.python.org/pep-0257/) and are enclosed in triple quotes (\"\"\" or '''). Well-written docstrings make your code easier to understand, maintain, and use by others.\n",
    "\n",
    "Following is a simple example of a docstring for a function:"
   ]
  },
  {
   "cell_type": "code",
   "execution_count": null,
   "id": "bef53535",
   "metadata": {},
   "outputs": [],
   "source": [
    "def say_hello(time, people):\n",
    "    \"\"\"Function says a greeting depending on the time of day and the people addressed.\"\"\"\n",
    "    return f'Good {time}, {people}' "
   ]
  },
  {
   "cell_type": "markdown",
   "id": "01d42b1f",
   "metadata": {},
   "source": [
    "#### Docstring structure extension\n",
    "\n",
    "There are additional extensions to docstrings, such as the [Google style](https://google.github.io/styleguide/pyguide.html#s3.8-comments-and-docstrings), [NumPy style](https://pandas.pydata.org/docs/development/contributing_docstring.html) and [Sphinx style](https://sphinx-rtd-tutorial.readthedocs.io/en/latest/docstrings.html), which provide more structured formats for documenting parameters, return values, exceptions, and examples. These styles help in generating documentation automatically and make it easier for users to understand how to use your code.\n",
    "\n",
    "##### Google style example\n"
   ]
  },
  {
   "cell_type": "code",
   "execution_count": 3,
   "id": "30acd28f",
   "metadata": {},
   "outputs": [],
   "source": [
    "def say_hello(time, people):\n",
    "    \"\"\"Function says a greeting depending on the time of day and the people addressed.\n",
    "    \n",
    "    Args:\n",
    "        time: The time of day (e.g., \"morning\", \"afternoon\", \"evening\").\n",
    "        people: The person or group being addressed (e.g., \"Alice\", \"everyone\").\n",
    "\n",
    "    Returns:\n",
    "        str: A greeting message formatted with the time and people addressed.\n",
    "    \"\"\"\n",
    "    return f'Good {time}, {people}' "
   ]
  },
  {
   "cell_type": "markdown",
   "id": "5932a910",
   "metadata": {},
   "source": [
    "##### Numpy style example"
   ]
  },
  {
   "cell_type": "code",
   "execution_count": 4,
   "id": "2b74d538",
   "metadata": {},
   "outputs": [],
   "source": [
    "def say_hello(time, people):\n",
    "    \"\"\"Function says a greeting depending on the time of day and the people addressed.\n",
    "    \n",
    "    Parameters\n",
    "    ----------\n",
    "    time : str\n",
    "        The time of day (e.g., \"morning\", \"afternoon\", \"evening\").\n",
    "    people : str\n",
    "        The person or group being addressed (e.g., \"Alice\", \"everyone\").   \n",
    "\n",
    "    Returns\n",
    "    -------\n",
    "    str\n",
    "        A greeting message formatted with the time and people addressed.\n",
    "    \"\"\"\n",
    "    return f'Good {time}, {people}' "
   ]
  },
  {
   "cell_type": "markdown",
   "id": "a11978c9",
   "metadata": {},
   "source": [
    "##### Sphinx style example"
   ]
  },
  {
   "cell_type": "code",
   "execution_count": 7,
   "id": "77828a18",
   "metadata": {},
   "outputs": [],
   "source": [
    "def say_hello(time, people):\n",
    "    \"\"\"Function says a greeting depending on the time of day and the people addressed.\n",
    "    \n",
    "    :param time: The time of day (e.g., \"morning\", \"afternoon\", \"evening\").\n",
    "    :type time: str\n",
    "    :param people: The person or group being addressed (e.g., \"Alice\", \"everyone\").\n",
    "    :type people: str\n",
    "    :return: A greeting message formatted with the time and people addressed.\n",
    "    :rtype: str\n",
    "    \"\"\"\n",
    "    return f'Good {time}, {people}' "
   ]
  },
  {
   "cell_type": "markdown",
   "id": "10ea44f1",
   "metadata": {},
   "source": [
    "To quickly access documentation in Python, you can use the [built-in](https://docs.python.org/3/library/functions.html#help) `help()` function, which shows the docstring of a function, class, or module. In interactive environments like Jupyter or IPython, you can also use a question mark (`?`) after the object name (e.g., len?) to view a quick summary. Additionally, you can directly access the docstring of an object using its `__doc__` attribute, which returns the documentation as a string."
   ]
  },
  {
   "cell_type": "code",
   "execution_count": 5,
   "id": "a1a423d5",
   "metadata": {},
   "outputs": [
    {
     "data": {
      "text/plain": [
       "<function __main__.say_hello(time, people)>"
      ]
     },
     "execution_count": 5,
     "metadata": {},
     "output_type": "execute_result"
    }
   ],
   "source": [
    "say_hello"
   ]
  },
  {
   "cell_type": "code",
   "execution_count": 8,
   "id": "58e6237a",
   "metadata": {},
   "outputs": [
    {
     "name": "stdout",
     "output_type": "stream",
     "text": [
      "Help on function say_hello in module __main__:\n",
      "\n",
      "say_hello(time, people)\n",
      "    Function says a greeting depending on the time of day and the people addressed.\n",
      "\n",
      "    :param time: The time of day (e.g., \"morning\", \"afternoon\", \"evening\").\n",
      "    :type time: str\n",
      "    :param people: The person or group being addressed (e.g., \"Alice\", \"everyone\").\n",
      "    :type people: str\n",
      "    :return: A greeting message formatted with the time and people addressed.\n",
      "    :rtype: str\n",
      "\n"
     ]
    }
   ],
   "source": [
    "help(say_hello)"
   ]
  },
  {
   "cell_type": "code",
   "execution_count": 9,
   "id": "bb823bfe",
   "metadata": {},
   "outputs": [
    {
     "name": "stdout",
     "output_type": "stream",
     "text": [
      "\u001b[31mSignature:\u001b[39m say_hello(time, people)\n",
      "\u001b[31mDocstring:\u001b[39m\n",
      "Function says a greeting depending on the time of day and the people addressed.\n",
      "\n",
      ":param time: The time of day (e.g., \"morning\", \"afternoon\", \"evening\").\n",
      ":type time: str\n",
      ":param people: The person or group being addressed (e.g., \"Alice\", \"everyone\").\n",
      ":type people: str\n",
      ":return: A greeting message formatted with the time and people addressed.\n",
      ":rtype: str\n",
      "\u001b[31mFile:\u001b[39m      /tmp/ipykernel_6440/3964694816.py\n",
      "\u001b[31mType:\u001b[39m      function"
     ]
    }
   ],
   "source": [
    "say_hello?"
   ]
  },
  {
   "cell_type": "code",
   "execution_count": 10,
   "id": "ad87d072",
   "metadata": {},
   "outputs": [
    {
     "data": {
      "text/plain": [
       "'Function says a greeting depending on the time of day and the people addressed.\\n\\n    :param time: The time of day (e.g., \"morning\", \"afternoon\", \"evening\").\\n    :type time: str\\n    :param people: The person or group being addressed (e.g., \"Alice\", \"everyone\").\\n    :type people: str\\n    :return: A greeting message formatted with the time and people addressed.\\n    :rtype: str\\n    '"
      ]
     },
     "execution_count": 10,
     "metadata": {},
     "output_type": "execute_result"
    }
   ],
   "source": [
    "say_hello.__doc__"
   ]
  },
  {
   "cell_type": "markdown",
   "id": "50ce82ab",
   "metadata": {},
   "source": [
    "### Typing and Type Hints\n",
    "\n",
    "Type hinting in Python is a way to specify the expected data types of variables, function parameters, and return values using annotations. Introduced in [PEP 484](https://peps.python.org/pep-0484/), type hints improve code readability, editor support, and error checking without changing how the code runs. While Python remains dynamically typed at runtime, type hints help tools like linters, IDEs, and static type checkers (e.g. mypy or ty) detect issues earlier and make your code easier to understand and maintain.\n",
    "\n",
    "Following is an example of our `say_hello` function with type hints:"
   ]
  },
  {
   "cell_type": "code",
   "execution_count": 12,
   "id": "25fe517e",
   "metadata": {},
   "outputs": [
    {
     "data": {
      "text/plain": [
       "'Good morning, everyone'"
      ]
     },
     "execution_count": 12,
     "metadata": {},
     "output_type": "execute_result"
    }
   ],
   "source": [
    "def say_hello(time: str, people: str) -> str:\n",
    "    \"\"\"Function says a greeting depending on the time of day and the people addressed.\n",
    "    \n",
    "    Args:\n",
    "        time: The time of day (e.g., \"morning\", \"afternoon\", \"evening\").\n",
    "        people: The person or group being addressed (e.g., \"Alice\", \"everyone\").\n",
    "\n",
    "    Returns:\n",
    "        str: A greeting message formatted with the time and people addressed.\n",
    "    \"\"\"\n",
    "    return f'Good {time}, {people}' \n",
    "\n",
    "say_hello(\"morning\", \"everyone\")  # This will work as expected"
   ]
  },
  {
   "cell_type": "code",
   "execution_count": 15,
   "id": "f13c7c44",
   "metadata": {},
   "outputs": [
    {
     "name": "stdout",
     "output_type": "stream",
     "text": [
      "Help on function say_hello in module __main__:\n",
      "\n",
      "say_hello(time: str, people: str) -> str\n",
      "    Function says a greeting depending on the time of day and the people addressed.\n",
      "\n",
      "    Args:\n",
      "        time: The time of day (e.g., \"morning\", \"afternoon\", \"evening\").\n",
      "        people: The person or group being addressed (e.g., \"Alice\", \"everyone\").\n",
      "\n",
      "    Returns:\n",
      "        str: A greeting message formatted with the time and people addressed.\n",
      "\n"
     ]
    }
   ],
   "source": [
    "help(say_hello)"
   ]
  },
  {
   "cell_type": "markdown",
   "id": "697012e3",
   "metadata": {},
   "source": [
    "It's important to note that type hints are optional in Python and do not enforce type checking at runtime. This means that you can still pass arguments of different types than those specified in the type hints, and Python will not raise an error. For example like this:"
   ]
  },
  {
   "cell_type": "code",
   "execution_count": 14,
   "id": "8ec4124a",
   "metadata": {},
   "outputs": [
    {
     "data": {
      "text/plain": [
       "'Good 1, (3+2j)'"
      ]
     },
     "execution_count": 14,
     "metadata": {},
     "output_type": "execute_result"
    }
   ],
   "source": [
    "say_hello(1, 3 + 2j)  # This will also work, but it's not recommended as it goes against the type hints"
   ]
  },
  {
   "cell_type": "markdown",
   "id": "ca4a60f5",
   "metadata": {},
   "source": [
    "## Classes\n",
    "\n",
    "A class in Python is a blueprint for creating objects that bundle together data (attributes) and behavior (methods). They enable object-oriented programming (OOP), which helps organize code into logical units that model real-world entities or abstract concepts. Classes are useful when you want to create multiple objects that share the same structure and functionality but can hold different data.\n",
    "\n",
    "### Class definitions\n",
    "\n",
    "A minimal class in Python can be defined with the `class` keyword and the `pass` statement, which acts as a placeholder when no attributes or methods are needed yet. for example: "
   ]
  },
  {
   "cell_type": "code",
   "execution_count": 1,
   "id": "7ed9b35e",
   "metadata": {},
   "outputs": [],
   "source": [
    "class Greater:\n",
    "    pass\n",
    "\n",
    "g = Greater()"
   ]
  },
  {
   "cell_type": "markdown",
   "id": "42496851",
   "metadata": {},
   "source": [
    "## Constructor\n",
    "\n",
    "In Python, the constructor is a special method named `__init__` that is called automatically when a new object (instance) of a class is created. It is used to initialize attributes and set up the object’s initial state. The first parameter, `self`, refers to the instance being created, and any additional parameters can be used to pass data during instantiation."
   ]
  },
  {
   "cell_type": "code",
   "execution_count": null,
   "id": "a6f911a8",
   "metadata": {},
   "outputs": [
    {
     "data": {
      "text/plain": [
       "'Alice'"
      ]
     },
     "execution_count": 3,
     "metadata": {},
     "output_type": "execute_result"
    }
   ],
   "source": [
    "class Greater:\n",
    "    def __init__(self, from_name: str):\n",
    "        self.from_name = from_name\n",
    "\n",
    "g = Greater(\"Alice\")\n",
    "g.from_name"
   ]
  },
  {
   "cell_type": "markdown",
   "id": "884dd04b",
   "metadata": {},
   "source": [
    "### Methods\n",
    "\n",
    "Methods are functions defined inside a class that describe the behavior of its objects. The most common type is an instance method, which takes `self` as the first parameter, allowing it to access and modify the instance’s attributes. "
   ]
  },
  {
   "cell_type": "code",
   "execution_count": null,
   "id": "6c189e01",
   "metadata": {},
   "outputs": [
    {
     "data": {
      "text/plain": [
       "'Hello Bob, my name is Alice.'"
      ]
     },
     "execution_count": 4,
     "metadata": {},
     "output_type": "execute_result"
    }
   ],
   "source": [
    "class Greater:\n",
    "    def __init__(self, from_name: str):\n",
    "        self.from_name = from_name\n",
    "\n",
    "    def greet(self, to_name: str):\n",
    "        return f\"Hello {to_name}, my name is {self.from_name}.\"\n",
    "\n",
    "g = Greater(\"Alice\")\n",
    "g.greet(\"Bob\")"
   ]
  },
  {
   "cell_type": "code",
   "execution_count": 6,
   "id": "2e91184b",
   "metadata": {},
   "outputs": [
    {
     "data": {
      "text/plain": [
       "'Hello Charlie, my name is Alice.'"
      ]
     },
     "execution_count": 6,
     "metadata": {},
     "output_type": "execute_result"
    }
   ],
   "source": [
    "g.greet(\"Charlie\")"
   ]
  },
  {
   "cell_type": "markdown",
   "id": "649b7efb",
   "metadata": {},
   "source": [
    "### Class attributes\n",
    "\n",
    "A class attribute is a variable that is defined directly inside a class body and is shared by all instances of that class. Unlike instance attributes, which are stored separately for each object, class attributes belong to the class itself and have the same value across all instances unless explicitly overridden. They are often used for constants, counters, or configuration values that should be consistent for the whole class."
   ]
  },
  {
   "cell_type": "code",
   "execution_count": null,
   "id": "13fff0ea",
   "metadata": {},
   "outputs": [
    {
     "data": {
      "text/plain": [
       "2"
      ]
     },
     "execution_count": 8,
     "metadata": {},
     "output_type": "execute_result"
    }
   ],
   "source": [
    "class Greater:\n",
    "    instance_count = 0\n",
    "\n",
    "    def __init__(self, from_name: str):\n",
    "        self.from_name = from_name\n",
    "        Greater.instance_count += 1\n",
    "\n",
    "    def greet(self, to_name: str):\n",
    "        return f\"Hello {to_name}, my name is {self.from_name}.\"\n",
    "\n",
    "g1 = Greater(\"Alice\")\n",
    "g2 = Greater(\"Bob\")\n",
    "\n",
    "g1.instance_count"
   ]
  },
  {
   "cell_type": "markdown",
   "id": "a25ef7aa",
   "metadata": {},
   "source": [
    "### Destructor\n",
    "\n",
    "In Python, a destructor is a special method named `__del__` that is called when an object is about to be destroyed and its memory reclaimed by the garbage collector. It can be used to release external resources—such as closing files, network connections, or database links—before the object is removed. However, destructors are not commonly needed in everyday Python code because most resource cleanup is handled using context managers (`with` statement). Also, since garbage collection timing is not guaranteed, relying on `__del__` for critical cleanup is discouraged. The `del` operator can be used to delete references to an object, but it does not immediately trigger the destructor."
   ]
  },
  {
   "cell_type": "code",
   "execution_count": 9,
   "id": "f7f66e28",
   "metadata": {},
   "outputs": [
    {
     "data": {
      "text/plain": [
       "1"
      ]
     },
     "execution_count": 9,
     "metadata": {},
     "output_type": "execute_result"
    }
   ],
   "source": [
    "class Greater:\n",
    "    instance_count = 0\n",
    "\n",
    "    def __init__(self, from_name: str):\n",
    "        self.from_name = from_name\n",
    "        Greater.instance_count += 1\n",
    "    \n",
    "    def __del__(self):\n",
    "        Greater.instance_count -= 1\n",
    "\n",
    "    def greet(self, to_name: str):\n",
    "        return f\"Hello {to_name}, my name is {self.from_name}.\"\n",
    "    \n",
    "\n",
    "g1 = Greater(\"Alice\")\n",
    "g2 = Greater(\"Bob\")\n",
    "\n",
    "del g2\n",
    "\n",
    "g1.instance_count"
   ]
  },
  {
   "cell_type": "markdown",
   "id": "aa0f57d2",
   "metadata": {},
   "source": [
    "### Visibility\n",
    "\n",
    "Python does not enforce strict access control like some other languages; instead, it uses naming conventions to indicate the intended visibility of methods and variables:\n",
    "- **Public**: No leading underscore (`name`) — accessible from anywhere; part of the public API.\n",
    "- **Protected** (by convention): Single leading underscore (`_name`) — intended for internal use within a class or module; still accessible, but signals \"do not touch directly.\"\n",
    "- **Private** (name-mangled): Double leading underscores (`__name`) — triggers name mangling to `_ClassName__name` to avoid accidental access from outside the class or subclasses.\n",
    "- **Special methods** (\"dunder\"): Double underscores before and after (`__init__`, `__str__`) — reserved for Python’s built-in behaviors; should not be invented for custom purposes.\n",
    "\n",
    "This system relies on developer discipline rather than compiler enforcement, which aligns with Python’s philosophy of \"we are all consenting adults here.\""
   ]
  },
  {
   "cell_type": "code",
   "execution_count": 14,
   "id": "588c4fc2",
   "metadata": {},
   "outputs": [
    {
     "name": "stdout",
     "output_type": "stream",
     "text": [
      "Hello Bob, my name is Charlie.\n",
      "Charlie\n",
      "Craig\n",
      "Hello, my secret name is Craig.\n"
     ]
    }
   ],
   "source": [
    "class Greater:\n",
    "    def __init__(self, from_name: str):\n",
    "        self._from_name = from_name\n",
    "        self.__secret_name = \"Craig\"\n",
    "\n",
    "    def greet(self, to_name: str):\n",
    "        return f\"Hello {to_name}, my name is {self._from_name}.\"\n",
    "\n",
    "    def __reveal_secret(self):\n",
    "        return f\"Hello, my secret name is {self.__secret_name}.\"\n",
    "\n",
    "\n",
    "g = Greater(\"Charlie\")\n",
    "print(g.greet(\"Bob\"))\n",
    "print(g._from_name)\n",
    "print(g._Greater__secret_name)\n",
    "print(g._Greater__reveal_secret())"
   ]
  },
  {
   "cell_type": "markdown",
   "id": "0813c2a2",
   "metadata": {},
   "source": [
    "## Inheritance, Abstract Base Classes and Protocols"
   ]
  },
  {
   "cell_type": "markdown",
   "id": "16b7afd3",
   "metadata": {},
   "source": [
    "## Python Data Model"
   ]
  },
  {
   "cell_type": "markdown",
   "id": "28ebaa0b",
   "metadata": {},
   "source": [
    "## Properties"
   ]
  },
  {
   "cell_type": "markdown",
   "id": "8bde0acd",
   "metadata": {},
   "source": [
    "## Factory Methods"
   ]
  },
  {
   "cell_type": "markdown",
   "id": "88af9964",
   "metadata": {},
   "source": [
    "## Decorators"
   ]
  },
  {
   "cell_type": "markdown",
   "id": "fa427b23",
   "metadata": {},
   "source": [
    "## Modules"
   ]
  },
  {
   "cell_type": "markdown",
   "id": "823f1f8a",
   "metadata": {},
   "source": [
    "---\n",
    "\n",
    "Lecture: AI I - Basics \n",
    "\n",
    "Exercise: [**Exercise 2.4: Object Orientation**](../02_python/exercises/04_object_orientation.ipynb)\n",
    "\n",
    "Next: [**Chapter 2.5: Additionals**](../02_python/05_additionals.ipynb)"
   ]
  }
 ],
 "metadata": {
  "kernelspec": {
   "display_name": "ai-lecture",
   "language": "python",
   "name": "python3"
  },
  "language_info": {
   "codemirror_mode": {
    "name": "ipython",
    "version": 3
   },
   "file_extension": ".py",
   "mimetype": "text/x-python",
   "name": "python",
   "nbconvert_exporter": "python",
   "pygments_lexer": "ipython3",
   "version": "3.12.11"
  }
 },
 "nbformat": 4,
 "nbformat_minor": 5
}

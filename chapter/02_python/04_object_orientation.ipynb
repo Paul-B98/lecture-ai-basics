{
 "cells": [
  {
   "cell_type": "markdown",
   "id": "959dd81c",
   "metadata": {},
   "source": [
    "Lecture: AI I - Basics \n",
    "\n",
    "Previous:\n",
    "[**Chapter 2.3: Control Flow**](../02_python/03_control_flow.ipynb)\n",
    "\n",
    "---"
   ]
  },
  {
   "cell_type": "markdown",
   "id": "bcd0fd68",
   "metadata": {},
   "source": [
    "# Chapter 2.4: Object Orientation\n",
    "\n",
    "- [](#)"
   ]
  },
  {
   "cell_type": "markdown",
   "id": "32c0bf80",
   "metadata": {},
   "source": []
  },
  {
   "cell_type": "markdown",
   "id": "823f1f8a",
   "metadata": {},
   "source": [
    "---\n",
    "\n",
    "Lecture: AI I - Basics \n",
    "\n",
    "Next: [**Chapter 2.5: Additionals**](../02_python/05_additionals.ipynb)"
   ]
  }
 ],
 "metadata": {
  "language_info": {
   "name": "python"
  }
 },
 "nbformat": 4,
 "nbformat_minor": 5
}

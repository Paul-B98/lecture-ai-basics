{
 "cells": [
  {
   "cell_type": "markdown",
   "id": "959dd81c",
   "metadata": {},
   "source": [
    "Lecture: AI I - Basics \n",
    "\n",
    "Previous:\n",
    "[**Chapter 2.3: Control Flow**](../02_python/03_control_flow.ipynb)\n",
    "\n",
    "---"
   ]
  },
  {
   "cell_type": "markdown",
   "id": "bcd0fd68",
   "metadata": {},
   "source": [
    "# Chapter 2.4: Object Orientation\n",
    "\n",
    "- [Functions](#functions)\n",
    "- [Classes](#classes)\n",
    "- [Typing and Naming Conventions](#typing-and-naming-conventions)\n",
    "- [Python Data Model](#python-data-model)\n",
    "- [Properties](#properties)\n",
    "- [Factory Methods](#factory-methods)\n",
    "- [Decorators](#decorators)\n",
    "- [Modules](#modules)"
   ]
  },
  {
   "cell_type": "markdown",
   "id": "32c0bf80",
   "metadata": {},
   "source": [
    "## Functions"
   ]
  },
  {
   "cell_type": "code",
   "execution_count": null,
   "id": "3075f5a3",
   "metadata": {
    "vscode": {
     "languageId": "plaintext"
    }
   },
   "outputs": [],
   "source": []
  },
  {
   "cell_type": "markdown",
   "id": "13ce238e",
   "metadata": {},
   "source": [
    "### Lambda Functions"
   ]
  },
  {
   "cell_type": "markdown",
   "id": "412c40ad",
   "metadata": {},
   "source": [
    "## Typing and Naming Conventions"
   ]
  },
  {
   "cell_type": "markdown",
   "id": "ca4a60f5",
   "metadata": {},
   "source": [
    "## Classes"
   ]
  },
  {
   "cell_type": "markdown",
   "id": "0813c2a2",
   "metadata": {},
   "source": [
    "## Inheritance, Abstract Base Classes and Protocols"
   ]
  },
  {
   "cell_type": "markdown",
   "id": "16b7afd3",
   "metadata": {},
   "source": [
    "## Python Data Model"
   ]
  },
  {
   "cell_type": "markdown",
   "id": "28ebaa0b",
   "metadata": {},
   "source": [
    "## Properties"
   ]
  },
  {
   "cell_type": "markdown",
   "id": "8bde0acd",
   "metadata": {},
   "source": [
    "## Factory Methods"
   ]
  },
  {
   "cell_type": "markdown",
   "id": "88af9964",
   "metadata": {},
   "source": [
    "## Decorators"
   ]
  },
  {
   "cell_type": "markdown",
   "id": "fa427b23",
   "metadata": {},
   "source": [
    "## Modules"
   ]
  },
  {
   "cell_type": "markdown",
   "id": "823f1f8a",
   "metadata": {},
   "source": [
    "---\n",
    "\n",
    "Lecture: AI I - Basics \n",
    "\n",
    "Exercise: [**Exercise 2.4: Object Orientation**](../02_python/exercises/04_object_orientation.ipynb)\n",
    "\n",
    "Next: [**Chapter 2.5: Additionals**](../02_python/05_additionals.ipynb)"
   ]
  }
 ],
 "metadata": {
  "language_info": {
   "name": "python"
  }
 },
 "nbformat": 4,
 "nbformat_minor": 5
}

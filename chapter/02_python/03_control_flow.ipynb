{
 "cells": [
  {
   "cell_type": "markdown",
   "id": "77fd120d",
   "metadata": {},
   "source": []
  }
 ],
 "metadata": {
  "language_info": {
   "name": "python"
  }
 },
 "nbformat": 4,
 "nbformat_minor": 5
}

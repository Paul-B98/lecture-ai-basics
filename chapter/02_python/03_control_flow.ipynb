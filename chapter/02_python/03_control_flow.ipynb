{
 "cells": [
  {
   "cell_type": "markdown",
   "id": "7ffb935d",
   "metadata": {},
   "source": [
    "Lecture: AI I - Basics \n",
    "\n",
    "Previous:\n",
    "[**Chapter 2.2: Data Structures**](../02_python/02_data_structures.ipynb)\n",
    "\n",
    "---"
   ]
  },
  {
   "cell_type": "markdown",
   "id": "85e99f5e",
   "metadata": {},
   "source": [
    "# Chapter 2.3: Control Flow\n",
    "\n",
    "- [](#)"
   ]
  },
  {
   "cell_type": "markdown",
   "id": "19404253",
   "metadata": {},
   "source": [
    "---\n",
    "\n",
    "Lecture: AI I - Basics \n",
    "\n",
    "Next: [**Chapter 2.4: Object Orientation**](../02_python/04_object_orientation.ipynb)"
   ]
  }
 ],
 "metadata": {
  "language_info": {
   "name": "python"
  }
 },
 "nbformat": 4,
 "nbformat_minor": 5
}

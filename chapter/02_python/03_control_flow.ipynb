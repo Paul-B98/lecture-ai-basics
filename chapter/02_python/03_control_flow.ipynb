{
 "cells": [
  {
   "cell_type": "markdown",
   "id": "7ffb935d",
   "metadata": {},
   "source": [
    "Lecture: AI I - Basics \n",
    "\n",
    "Previous:\n",
    "[**Chapter 2.2: Data Structures**](../02_python/02_data_structures.ipynb)\n",
    "\n",
    "---"
   ]
  },
  {
   "cell_type": "markdown",
   "id": "85e99f5e",
   "metadata": {},
   "source": [
    "# Chapter 2.3: Control Flow\n",
    "\n",
    "- [if Statement](#if-Statement)\n",
    "- [match Statement](#match-Statement)\n",
    "- [pass Statement](#pass-Statement)\n",
    "- [loop](#loop)\n",
    "    - [for loop](#for-loop)\n",
    "    - [while loop](#while-loop)\n",
    "    - [break and continue](#break-and-continue)\n",
    "    - [else clause in loops](#else-clause-in-loops)\n"
   ]
  },
  {
   "cell_type": "markdown",
   "id": "9209bbb0",
   "metadata": {},
   "source": [
    "## if Statement\n",
    "\n",
    "Python uses [conditional statements](https://docs.python.org/3/tutorial/controlflow.html#if-statements) to control the flow of a program based on specific conditions. The `if` statement checks a condition and runs a block of code if it's true. The `elif` (short for `“else if”`) allows you to test multiple conditions in sequence if the first if is false. Finally, `else` provides a fallback block of code that runs when none of the previous conditions are met. This structure helps Python make decisions step by step, from top to bottom. How this works is shown in the example below:"
   ]
  },
  {
   "cell_type": "code",
   "execution_count": 1,
   "id": "708254a5",
   "metadata": {},
   "outputs": [
    {
     "name": "stdout",
     "output_type": "stream",
     "text": [
      "You are an adult.\n"
     ]
    }
   ],
   "source": [
    "age = int(input(\"Enter your age:\"))\n",
    "\n",
    "if age < 18:\n",
    "    print(\"You are a minor.\")\n",
    "elif age < 65:\n",
    "    print(\"You are an adult.\")\n",
    "else:\n",
    "    print(\"You are a senior citizen.\")"
   ]
  },
  {
   "cell_type": "markdown",
   "id": "cc0b5a68",
   "metadata": {},
   "source": [
    "### Ternary Operator \n",
    "\n",
    "Python supports a ternary conditional expression that lets you assign a value based on a condition in a single line. The syntax is:\n",
    "\n",
    "```python\n",
    "value_if_true if condition else value_if_false\n",
    "```\n",
    "\n",
    "This makes it easy to write concise conditional logic without using full if statements.\n",
    "\n",
    "In Java, the equivalent ternary syntax is:\n",
    "```java\n",
    "condition ? value_if_true : value_if_false\n",
    "```\n",
    "\n",
    "While both languages support ternary expressions, the order is reversed:\n",
    "- In **Python**, the expression reads like natural language (\"return X if condition else Y\").\n",
    "- In **Java**, the condition comes first, followed by the values."
   ]
  },
  {
   "cell_type": "code",
   "execution_count": 2,
   "id": "27888248",
   "metadata": {},
   "outputs": [
    {
     "name": "stdout",
     "output_type": "stream",
     "text": [
      "adult\n"
     ]
    }
   ],
   "source": [
    "print(\"minor\" if age < 18 else \"adult\")"
   ]
  },
  {
   "cell_type": "markdown",
   "id": "983e6db6",
   "metadata": {},
   "source": [
    "## match Statement\n",
    "\n",
    "In **Python 3.10** and later, you can use the `match` / `case` [statement](https://docs.python.org/3/tutorial/controlflow.html#match-statements) as a more readable and structured alternative to long chains of `if` / `elif` conditions. It works similarly to switch statements in other languages but with more powerful pattern matching capabilities. Instead of checking multiple if conditions like `if x == 1`, `elif x == 2`, you can use:"
   ]
  },
  {
   "cell_type": "code",
   "execution_count": 6,
   "id": "bb2bd028",
   "metadata": {},
   "outputs": [
    {
     "name": "stdout",
     "output_type": "stream",
     "text": [
      "You are an adult.\n"
     ]
    }
   ],
   "source": [
    "match age:\n",
    "    case _ if age < 18:\n",
    "        print(\"You are a minor.\")\n",
    "    case _ if age < 65:\n",
    "        print(\"You are an adult.\")\n",
    "    case _:\n",
    "        print(\"You are a senior citizen.\")"
   ]
  },
  {
   "cell_type": "markdown",
   "id": "9f7b4552",
   "metadata": {},
   "source": [
    "The `match` statement in Python compares a value against one or more `case` patterns, using pattern matching instead of simple equality checks. Each `case` can match literals (like numbers or strings), variable names (to bind values), tuples, lists, or even object attributes. An underscore (`_`) is used as a wildcard, matching anything that hasn’t matched before (similar to `else`). You can also add guards using `if` inside a `case` to apply additional conditions. This syntax allows for concise and expressive handling of structured data."
   ]
  },
  {
   "cell_type": "code",
   "execution_count": 7,
   "id": "38ec3f76",
   "metadata": {},
   "outputs": [
    {
     "name": "stdout",
     "output_type": "stream",
     "text": [
      "Point is on an axis.\n"
     ]
    }
   ],
   "source": [
    "x = int(input(\"Enter x coordinate: \"))\n",
    "y = int(input(\"Enter y coordinate: \"))\n",
    "point = (x, y)\n",
    "\n",
    "match point:\n",
    "    case (0, 0) | (0, _) | (_, 0):\n",
    "        print(\"Point is on an axis.\")\n",
    "    case (x, y) if x == y:\n",
    "        print(\"Point is on the line y = x.\")\n",
    "    case (x, y) if x == -y:\n",
    "        print(\"Point is on the line y = -x.\")\n",
    "    case _:\n",
    "        print(\"Point is in the plane.\")"
   ]
  },
  {
   "cell_type": "markdown",
   "id": "8c81ea5d",
   "metadata": {},
   "source": [
    "## pass Statement\n",
    "\n",
    "The `pass` [statement](https://docs.python.org/3/tutorial/controlflow.html#pass-statements) is a placeholder that does nothing, used when a syntactically required block must be left empty—for example, in function definitions or loops you plan to implement later. Here is an example:"
   ]
  },
  {
   "cell_type": "code",
   "execution_count": 8,
   "id": "29bcad82",
   "metadata": {},
   "outputs": [],
   "source": [
    "if True:\n",
    "    pass  # Placeholder for future code"
   ]
  },
  {
   "cell_type": "markdown",
   "id": "1b292f7a",
   "metadata": {},
   "source": [
    "## loop"
   ]
  },
  {
   "cell_type": "markdown",
   "id": "e74898ab",
   "metadata": {},
   "source": [
    "### for loop"
   ]
  },
  {
   "cell_type": "markdown",
   "id": "d05a827b",
   "metadata": {},
   "source": [
    "### while loop"
   ]
  },
  {
   "cell_type": "markdown",
   "id": "fc245648",
   "metadata": {},
   "source": [
    "### break and continue"
   ]
  },
  {
   "cell_type": "markdown",
   "id": "47f3f774",
   "metadata": {},
   "source": [
    "### else clause in loops"
   ]
  },
  {
   "cell_type": "markdown",
   "id": "19404253",
   "metadata": {},
   "source": [
    "---\n",
    "\n",
    "Lecture: AI I - Basics \n",
    "\n",
    "Next: [**Chapter 2.4: Object Orientation**](../02_python/04_object_orientation.ipynb)"
   ]
  }
 ],
 "metadata": {
  "kernelspec": {
   "display_name": "ai-lecture",
   "language": "python",
   "name": "python3"
  },
  "language_info": {
   "codemirror_mode": {
    "name": "ipython",
    "version": 3
   },
   "file_extension": ".py",
   "mimetype": "text/x-python",
   "name": "python",
   "nbconvert_exporter": "python",
   "pygments_lexer": "ipython3",
   "version": "3.12.11"
  }
 },
 "nbformat": 4,
 "nbformat_minor": 5
}

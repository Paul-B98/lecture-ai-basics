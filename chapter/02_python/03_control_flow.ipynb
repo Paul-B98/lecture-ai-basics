{
 "cells": [
  {
   "cell_type": "markdown",
   "id": "7ffb935d",
   "metadata": {},
   "source": [
    "Lecture: AI I - Basics \n",
    "\n",
    "Previous:\n",
    "[**Chapter 2.2: Data Structures**](../02_python/02_data_structures.ipynb)\n",
    "\n",
    "---"
   ]
  },
  {
   "cell_type": "markdown",
   "id": "85e99f5e",
   "metadata": {},
   "source": [
    "# Chapter 2.3: Control Flow\n",
    "\n",
    "- [if Statement](#if-Statement)\n",
    "- [match Statement](#match-Statement)\n",
    "- [pass Statement](#pass-Statement)\n",
    "- [loop](#loop)\n",
    "    - [for loop](#for-loop)\n",
    "    - [while loop](#while-loop)\n",
    "    - [break and continue](#break-and-continue)\n",
    "    - [else clause in loops](#else-clause-in-loops)\n"
   ]
  },
  {
   "cell_type": "markdown",
   "id": "9209bbb0",
   "metadata": {},
   "source": [
    "## if Statement"
   ]
  },
  {
   "cell_type": "markdown",
   "id": "983e6db6",
   "metadata": {},
   "source": [
    "## match Statement"
   ]
  },
  {
   "cell_type": "markdown",
   "id": "8c81ea5d",
   "metadata": {},
   "source": [
    "## pass Statement"
   ]
  },
  {
   "cell_type": "markdown",
   "id": "1b292f7a",
   "metadata": {},
   "source": [
    "## loop"
   ]
  },
  {
   "cell_type": "markdown",
   "id": "e74898ab",
   "metadata": {},
   "source": [
    "### for loop"
   ]
  },
  {
   "cell_type": "markdown",
   "id": "d05a827b",
   "metadata": {},
   "source": [
    "### while loop"
   ]
  },
  {
   "cell_type": "markdown",
   "id": "fc245648",
   "metadata": {},
   "source": [
    "### break and continue"
   ]
  },
  {
   "cell_type": "markdown",
   "id": "47f3f774",
   "metadata": {},
   "source": [
    "### else clause in loops"
   ]
  },
  {
   "cell_type": "markdown",
   "id": "19404253",
   "metadata": {},
   "source": [
    "---\n",
    "\n",
    "Lecture: AI I - Basics \n",
    "\n",
    "Next: [**Chapter 2.4: Object Orientation**](../02_python/04_object_orientation.ipynb)"
   ]
  }
 ],
 "metadata": {
  "language_info": {
   "name": "python"
  }
 },
 "nbformat": 4,
 "nbformat_minor": 5
}

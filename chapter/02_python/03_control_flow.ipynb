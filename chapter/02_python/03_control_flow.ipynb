{
 "cells": [
  {
   "cell_type": "markdown",
   "id": "7ffb935d",
   "metadata": {},
   "source": [
    "Lecture: AI I - Basics \n",
    "\n",
    "Previous:\n",
    "[**Chapter 2.2: Data Structures**](../02_python/02_data_structures.ipynb)\n",
    "\n",
    "---"
   ]
  },
  {
   "cell_type": "markdown",
   "id": "85e99f5e",
   "metadata": {},
   "source": [
    "# Chapter 2.3: Control Flow\n",
    "\n",
    "- [if Statement](#if-Statement)\n",
    "- [match Statement](#match-Statement)\n",
    "- [pass Statement](#pass-Statement)\n",
    "- [loop](#loop)\n",
    "    - [for loop](#for-loop)\n",
    "    - [while loop](#while-loop)\n",
    "    - [break and continue](#break-and-continue)\n",
    "    - [else clause in loops](#else-clause-in-loops)\n"
   ]
  },
  {
   "cell_type": "markdown",
   "id": "9209bbb0",
   "metadata": {},
   "source": [
    "## if Statement\n",
    "\n",
    "Python uses [conditional statements](https://docs.python.org/3/tutorial/controlflow.html#if-statements) to control the flow of a program based on specific conditions. The `if` statement checks a condition and runs a block of code if it's true. The `elif` (short for `“else if”`) allows you to test multiple conditions in sequence if the first if is false. Finally, `else` provides a fallback block of code that runs when none of the previous conditions are met. This structure helps Python make decisions step by step, from top to bottom. How this works is shown in the example below:"
   ]
  },
  {
   "cell_type": "code",
   "execution_count": 1,
   "id": "708254a5",
   "metadata": {},
   "outputs": [
    {
     "name": "stdout",
     "output_type": "stream",
     "text": [
      "You are an adult.\n"
     ]
    }
   ],
   "source": [
    "age = int(input(\"Enter your age:\"))\n",
    "\n",
    "if age < 18:\n",
    "    print(\"You are a minor.\")\n",
    "elif age < 65:\n",
    "    print(\"You are an adult.\")\n",
    "else:\n",
    "    print(\"You are a senior citizen.\")"
   ]
  },
  {
   "cell_type": "markdown",
   "id": "cc0b5a68",
   "metadata": {},
   "source": [
    "### Ternary Operator \n",
    "\n",
    "Python supports a ternary conditional expression that lets you assign a value based on a condition in a single line. The syntax is:\n",
    "\n",
    "```python\n",
    "value_if_true if condition else value_if_false\n",
    "```\n",
    "\n",
    "This makes it easy to write concise conditional logic without using full if statements.\n",
    "\n",
    "In Java, the equivalent ternary syntax is:\n",
    "```java\n",
    "condition ? value_if_true : value_if_false\n",
    "```\n",
    "\n",
    "While both languages support ternary expressions, the order is reversed:\n",
    "- In **Python**, the expression reads like natural language (\"return X if condition else Y\").\n",
    "- In **Java**, the condition comes first, followed by the values."
   ]
  },
  {
   "cell_type": "code",
   "execution_count": 2,
   "id": "27888248",
   "metadata": {},
   "outputs": [
    {
     "name": "stdout",
     "output_type": "stream",
     "text": [
      "adult\n"
     ]
    }
   ],
   "source": [
    "print(\"minor\" if age < 18 else \"adult\")"
   ]
  },
  {
   "cell_type": "markdown",
   "id": "983e6db6",
   "metadata": {},
   "source": [
    "## match Statement\n",
    "\n",
    "In **Python 3.10** and later, you can use the `match` / `case` [statement](https://docs.python.org/3/tutorial/controlflow.html#match-statements) as a more readable and structured alternative to long chains of `if` / `elif` conditions. It works similarly to switch statements in other languages but with more powerful pattern matching capabilities. Instead of checking multiple if conditions like `if x == 1`, `elif x == 2`, you can use:"
   ]
  },
  {
   "cell_type": "code",
   "execution_count": 6,
   "id": "bb2bd028",
   "metadata": {},
   "outputs": [
    {
     "name": "stdout",
     "output_type": "stream",
     "text": [
      "You are an adult.\n"
     ]
    }
   ],
   "source": [
    "match age:\n",
    "    case _ if age < 18:\n",
    "        print(\"You are a minor.\")\n",
    "    case _ if age < 65:\n",
    "        print(\"You are an adult.\")\n",
    "    case _:\n",
    "        print(\"You are a senior citizen.\")"
   ]
  },
  {
   "cell_type": "markdown",
   "id": "9f7b4552",
   "metadata": {},
   "source": [
    "The `match` statement in Python compares a value against one or more `case` patterns, using pattern matching instead of simple equality checks. Each `case` can match literals (like numbers or strings), variable names (to bind values), tuples, lists, or even object attributes. An underscore (`_`) is used as a wildcard, matching anything that hasn’t matched before (similar to `else`). You can also add guards using `if` inside a `case` to apply additional conditions. This syntax allows for concise and expressive handling of structured data."
   ]
  },
  {
   "cell_type": "code",
   "execution_count": 7,
   "id": "38ec3f76",
   "metadata": {},
   "outputs": [
    {
     "name": "stdout",
     "output_type": "stream",
     "text": [
      "Point is on an axis.\n"
     ]
    }
   ],
   "source": [
    "x = int(input(\"Enter x coordinate: \"))\n",
    "y = int(input(\"Enter y coordinate: \"))\n",
    "point = (x, y)\n",
    "\n",
    "match point:\n",
    "    case (0, 0) | (0, _) | (_, 0):\n",
    "        print(\"Point is on an axis.\")\n",
    "    case (x, y) if x == y:\n",
    "        print(\"Point is on the line y = x.\")\n",
    "    case (x, y) if x == -y:\n",
    "        print(\"Point is on the line y = -x.\")\n",
    "    case _:\n",
    "        print(\"Point is in the plane.\")"
   ]
  },
  {
   "cell_type": "markdown",
   "id": "8c81ea5d",
   "metadata": {},
   "source": [
    "## pass Statement\n",
    "\n",
    "The `pass` [statement](https://docs.python.org/3/tutorial/controlflow.html#pass-statements) is a placeholder that does nothing, used when a syntactically required block must be left empty—for example, in function definitions or loops you plan to implement later. Here is an example:"
   ]
  },
  {
   "cell_type": "code",
   "execution_count": 8,
   "id": "29bcad82",
   "metadata": {},
   "outputs": [],
   "source": [
    "if True:\n",
    "    pass  # Placeholder for future code"
   ]
  },
  {
   "cell_type": "markdown",
   "id": "1b292f7a",
   "metadata": {},
   "source": [
    "## loop\n",
    "\n",
    "Python provides two main types of loops to repeat code execution: the `for` loop, which iterates over items in a sequence like a list or range, and the `while` loop, which continues running as long as a given condition is true. Both are essential for automating repetitive tasks and processing data efficiently."
   ]
  },
  {
   "cell_type": "markdown",
   "id": "e74898ab",
   "metadata": {},
   "source": [
    "### for loop\n",
    "\n",
    "A `for` loop in Python is used to iterate over a sequence such as a list, string, tuple, or range. It runs once for each element in the sequence, assigning the current item to a loop variable. This makes it ideal for tasks where the number of iterations is known in advance or when working with collections of data. Python’s `for` loop is concise and readable, often replacing the traditional C-style indexed `for` loop."
   ]
  },
  {
   "cell_type": "code",
   "execution_count": 9,
   "id": "741d7f17",
   "metadata": {},
   "outputs": [
    {
     "name": "stdout",
     "output_type": "stream",
     "text": [
      "0\n",
      "1\n",
      "2\n",
      "3\n",
      "4\n"
     ]
    }
   ],
   "source": [
    "for i in range(5):\n",
    "    print(i)"
   ]
  },
  {
   "cell_type": "markdown",
   "id": "207d3891",
   "metadata": {},
   "source": [
    "The `enumerate()` function in Python is used with `for` loops to iterate over a sequence while keeping track of the index. It returns pairs of the form `(index, value)`, making it easier and more readable to access both the position and the item without manually managing a counter variable."
   ]
  },
  {
   "cell_type": "code",
   "execution_count": 11,
   "id": "39c82898",
   "metadata": {},
   "outputs": [
    {
     "name": "stdout",
     "output_type": "stream",
     "text": [
      "Animal 1: cat\n",
      "Animal 2: dog\n",
      "Animal 3: bird\n"
     ]
    }
   ],
   "source": [
    "animals = [\"cat\", \"dog\", \"bird\"]\n",
    "for i, animal in enumerate(animals, start=1):\n",
    "    print(f\"Animal {i}: {animal}\")"
   ]
  },
  {
   "cell_type": "markdown",
   "id": "d05a827b",
   "metadata": {},
   "source": [
    "### while loop\n",
    "\n",
    "A `while` loop in Python repeats as long as a condition remains true. It is useful when you don’t know in advance how many times the loop should run—for example, when waiting for user input or looping until a calculation reaches a certain result. Care must be taken to ensure the condition eventually becomes false, or the loop will run indefinitely."
   ]
  },
  {
   "cell_type": "code",
   "execution_count": 13,
   "id": "1952ccb3",
   "metadata": {},
   "outputs": [
    {
     "name": "stdout",
     "output_type": "stream",
     "text": [
      "Loop ended with n = 6\n"
     ]
    }
   ],
   "source": [
    "n = 1\n",
    "while n <= 5:\n",
    "    n += 1\n",
    "\n",
    "print(\"Loop ended with n =\", n)"
   ]
  },
  {
   "cell_type": "markdown",
   "id": "fc245648",
   "metadata": {},
   "source": [
    "### break and continue\n",
    "\n",
    "The `continue` [statement](https://docs.python.org/3/tutorial/controlflow.html#break-and-continue-statements) in Python is used to skip the rest of the current iteration of a loop and move directly to the next one. It’s useful when you want to ignore certain values or conditions without stopping the entire loop."
   ]
  },
  {
   "cell_type": "code",
   "execution_count": 18,
   "id": "f860145e",
   "metadata": {},
   "outputs": [
    {
     "name": "stdout",
     "output_type": "stream",
     "text": [
      "1\n",
      "3\n"
     ]
    }
   ],
   "source": [
    "for i in range(5):\n",
    "    if i % 2 == 0:\n",
    "        continue\n",
    "    print(i)"
   ]
  },
  {
   "cell_type": "markdown",
   "id": "e691fdf5",
   "metadata": {},
   "source": [
    "The `break` [statement](https://docs.python.org/3/tutorial/controlflow.html#break-and-continue-statements) is used to exit a loop immediately, even if the loop condition hasn’t finished or there are still items left to process. It’s typically used when a desired result is found, or an early exit condition is met."
   ]
  },
  {
   "cell_type": "code",
   "execution_count": 16,
   "id": "37deb64d",
   "metadata": {},
   "outputs": [
    {
     "name": "stdout",
     "output_type": "stream",
     "text": [
      "0\n"
     ]
    }
   ],
   "source": [
    "for i in range(5):\n",
    "    if i % 2 == 1:\n",
    "        break\n",
    "    print(i)"
   ]
  },
  {
   "cell_type": "markdown",
   "id": "47f3f774",
   "metadata": {},
   "source": [
    "### else clause in loops\n",
    "\n",
    "In Python, both `for` and `while` loops can include an `else` clause, which runs only if the loop completes normally without encountering a `break`. This is useful when you want to distinguish between a loop that finished all iterations and one that exited early. For example, in a search loop, you can use `else` to handle the case where no match was found."
   ]
  },
  {
   "cell_type": "code",
   "execution_count": 20,
   "id": "9a1e25a0",
   "metadata": {},
   "outputs": [
    {
     "name": "stdout",
     "output_type": "stream",
     "text": [
      "Loop completed without break.\n"
     ]
    }
   ],
   "source": [
    "for i in range(0):\n",
    "    print(i)\n",
    "else:\n",
    "    print(\"Loop completed without break.\")"
   ]
  },
  {
   "cell_type": "markdown",
   "id": "791cb36f",
   "metadata": {},
   "source": [
    "In the following example, the `else` block won't execute because a `break` statement is used to exit the loop before it completes normally:"
   ]
  },
  {
   "cell_type": "code",
   "execution_count": null,
   "id": "4c88fc8f",
   "metadata": {},
   "outputs": [],
   "source": [
    "for i in range(1):\n",
    "    break\n",
    "else:\n",
    "    print(\"Loop completed with break.\")"
   ]
  },
  {
   "cell_type": "markdown",
   "id": "19404253",
   "metadata": {},
   "source": [
    "---\n",
    "\n",
    "Lecture: AI I - Basics \n",
    "\n",
    "Exercise: [**Exercise 2.3: Control Flow**](../02_python/exercises/03_control_flow.ipynb)\n",
    "\n",
    "Next: [**Chapter 2.4: Object Orientation**](../02_python/04_object_orientation.ipynb)"
   ]
  }
 ],
 "metadata": {
  "kernelspec": {
   "display_name": "ai-lecture",
   "language": "python",
   "name": "python3"
  },
  "language_info": {
   "codemirror_mode": {
    "name": "ipython",
    "version": 3
   },
   "file_extension": ".py",
   "mimetype": "text/x-python",
   "name": "python",
   "nbconvert_exporter": "python",
   "pygments_lexer": "ipython3",
   "version": "3.12.11"
  }
 },
 "nbformat": 4,
 "nbformat_minor": 5
}

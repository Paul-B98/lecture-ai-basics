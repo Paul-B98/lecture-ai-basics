{
 "cells": [
  {
   "cell_type": "markdown",
   "id": "7ffb935d",
   "metadata": {},
   "source": [
    "Lecture: AI I - Basics \n",
    "\n",
    "Previous:\n",
    "[**Chapter 2.3: Control Flow**](../03_control_flow.ipynb)\n",
    "\n",
    "---"
   ]
  },
  {
   "cell_type": "markdown",
   "id": "85e99f5e",
   "metadata": {},
   "source": [
    "# Exercise 2.3: Control Flow\n",
    "\n",
    "- [Task 1: If-Else](#task-1-if--else)\n",
    "- [Task 2: Match-Case](#task-2-match--case)\n",
    "- [Task 3: For Loop](#task-3-for-loop)\n",
    "- [Task 4: While Loop](#task-4-while-loop)"
   ]
  },
  {
   "cell_type": "markdown",
   "id": "000bfa07",
   "metadata": {},
   "source": [
    "> Hint: When doing the exercises put your solution in the designated \"Solution\" section:\n",
    "> ```python\n",
    "> # Solution (put your code here)\n",
    "> ```"
   ]
  },
  {
   "cell_type": "markdown",
   "id": "03aae940",
   "metadata": {},
   "source": [
    "## Task 1: If / Else\n",
    "\n",
    "Use `if`/`else` to check if a year is a leap year.\n"
   ]
  },
  {
   "cell_type": "code",
   "execution_count": null,
   "id": "9bc404ff",
   "metadata": {},
   "outputs": [],
   "source": [
    "# prerequisites (don't edit this block)\n",
    "\n",
    "year = 2024\n",
    "is_leap_year = None"
   ]
  },
  {
   "cell_type": "code",
   "execution_count": null,
   "id": "938666e4",
   "metadata": {},
   "outputs": [],
   "source": [
    "# Solution (put your code here)\n"
   ]
  },
  {
   "cell_type": "code",
   "execution_count": null,
   "id": "7ee2966e",
   "metadata": {},
   "outputs": [],
   "source": [
    "# Test case (don't edit this block)\n",
    "assert is_leap_year is True, \"2024 should be a leap year\""
   ]
  },
  {
   "cell_type": "markdown",
   "id": "8eb3899b",
   "metadata": {},
   "source": [
    "## Task 2: Match / Case\n",
    "\n",
    "Use `match`/`case` to check if a year is a leap year.\n"
   ]
  },
  {
   "cell_type": "code",
   "execution_count": null,
   "id": "0a29ddb4",
   "metadata": {},
   "outputs": [],
   "source": [
    "# prerequisites (don't edit this block)\n",
    "year = 2024\n",
    "is_leap_year = None"
   ]
  },
  {
   "cell_type": "code",
   "execution_count": null,
   "id": "32b30d30",
   "metadata": {},
   "outputs": [],
   "source": [
    "# Solution (put your code here)\n"
   ]
  },
  {
   "cell_type": "code",
   "execution_count": null,
   "id": "ba2b94fd",
   "metadata": {},
   "outputs": [],
   "source": [
    "# Test case (don't edit this block)\n",
    "assert is_leap_year is True, \"2024 should be a leap year\""
   ]
  },
  {
   "cell_type": "markdown",
   "id": "21a1f308",
   "metadata": {},
   "source": [
    "## Task 3: For loop\n",
    "\n",
    "Iterate over a list and calculate the sum."
   ]
  },
  {
   "cell_type": "code",
   "execution_count": null,
   "id": "857da236",
   "metadata": {},
   "outputs": [],
   "source": [
    "# prerequisites (don't edit this block)\n",
    "nums = list(range(1, 11))\n",
    "total = 0"
   ]
  },
  {
   "cell_type": "code",
   "execution_count": null,
   "id": "8ee0bab4",
   "metadata": {},
   "outputs": [],
   "source": [
    "# Solution (put your code here)\n"
   ]
  },
  {
   "cell_type": "code",
   "execution_count": null,
   "id": "05d13590",
   "metadata": {},
   "outputs": [],
   "source": [
    "# Test case (don't edit this block)\n",
    "assert total == 55, \"The sum of numbers from 1 to 10 should be 55\""
   ]
  },
  {
   "cell_type": "markdown",
   "id": "8f058054",
   "metadata": {},
   "source": [
    "## Task 4: While Loop\n",
    "\n",
    "Use a while loop to count down from a number and subtract each number from the `total`."
   ]
  },
  {
   "cell_type": "code",
   "execution_count": null,
   "id": "8fe9925c",
   "metadata": {},
   "outputs": [],
   "source": [
    "# prerequisites (don't edit this block)\n",
    "nums = 10\n",
    "total = 0"
   ]
  },
  {
   "cell_type": "code",
   "execution_count": null,
   "id": "889b8cf0",
   "metadata": {},
   "outputs": [],
   "source": [
    "# Solution (put your code here)\n"
   ]
  },
  {
   "cell_type": "code",
   "execution_count": null,
   "id": "97d83856",
   "metadata": {},
   "outputs": [],
   "source": [
    "# Test case (don't edit this block)\n",
    "assert total == -55, \"The difference should be -55\""
   ]
  },
  {
   "cell_type": "markdown",
   "id": "19404253",
   "metadata": {},
   "source": [
    "---\n",
    "\n",
    "Lecture: AI I - Basics \n",
    "\n",
    "Next: [**Chapter 2.4: Object Orientation**](../02_python/04_object_orientation.ipynb)"
   ]
  }
 ],
 "metadata": {
  "kernelspec": {
   "display_name": "ai-lecture",
   "language": "python",
   "name": "python3"
  },
  "language_info": {
   "codemirror_mode": {
    "name": "ipython",
    "version": 3
   },
   "file_extension": ".py",
   "mimetype": "text/x-python",
   "name": "python",
   "nbconvert_exporter": "python",
   "pygments_lexer": "ipython3",
   "version": "3.12.11"
  }
 },
 "nbformat": 4,
 "nbformat_minor": 5
}

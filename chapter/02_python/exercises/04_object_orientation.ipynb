{
 "cells": [
  {
   "cell_type": "markdown",
   "id": "959dd81c",
   "metadata": {},
   "source": [
    "Lecture: AI I - Basics \n",
    "\n",
    "Previous:\n",
    "[**Chapter 2.4: Object Orientation**](../04_object_orientation.ipynb)\n",
    "\n",
    "---"
   ]
  },
  {
   "cell_type": "markdown",
   "id": "bcd0fd68",
   "metadata": {},
   "source": [
    "# Exercise 2.4: Object Orientation\n"
   ]
  },
  {
   "cell_type": "markdown",
   "id": "823f1f8a",
   "metadata": {},
   "source": [
    "---\n",
    "\n",
    "Lecture: AI I - Basics \n",
    "\n",
    "Next: [**Chapter 2.5: Additionals**](../02_python/05_additionals.ipynb)"
   ]
  }
 ],
 "metadata": {
  "language_info": {
   "name": "python"
  }
 },
 "nbformat": 4,
 "nbformat_minor": 5
}

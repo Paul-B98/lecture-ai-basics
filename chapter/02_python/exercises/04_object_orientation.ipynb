{
 "cells": [
  {
   "cell_type": "markdown",
   "id": "959dd81c",
   "metadata": {},
   "source": [
    "Lecture: AI I - Basics \n",
    "\n",
    "Previous:\n",
    "[**Chapter 2.4: Object Orientation**](../04_object_orientation.ipynb)\n",
    "\n",
    "---"
   ]
  },
  {
   "cell_type": "markdown",
   "id": "bcd0fd68",
   "metadata": {},
   "source": [
    "# Exercise 2.4: Object Orientation\n"
   ]
  },
  {
   "cell_type": "markdown",
   "id": "0f8b61e6",
   "metadata": {},
   "source": [
    "> Hint: When doing the exercises put your solution in the designated \"Solution\" section:\n",
    "> ```python\n",
    "> # Solution (put your code here)\n",
    "> ```"
   ]
  },
  {
   "cell_type": "markdown",
   "id": "9be08f82",
   "metadata": {},
   "source": [
    "## Task 1:"
   ]
  },
  {
   "cell_type": "code",
   "execution_count": null,
   "id": "cbe28d4d",
   "metadata": {},
   "outputs": [],
   "source": [
    "# prerequisites (don't edit this block)"
   ]
  },
  {
   "cell_type": "code",
   "execution_count": null,
   "id": "8dfb42b1",
   "metadata": {},
   "outputs": [],
   "source": [
    "# Solution (put your code here)\n"
   ]
  },
  {
   "cell_type": "code",
   "execution_count": null,
   "id": "400e9e1b",
   "metadata": {},
   "outputs": [],
   "source": [
    "# Test case (don't edit this block)"
   ]
  },
  {
   "cell_type": "markdown",
   "id": "2486534f",
   "metadata": {},
   "source": [
    "## Task 2:"
   ]
  },
  {
   "cell_type": "code",
   "execution_count": null,
   "id": "1b761514",
   "metadata": {},
   "outputs": [],
   "source": [
    "# prerequisites (don't edit this block)"
   ]
  },
  {
   "cell_type": "code",
   "execution_count": null,
   "id": "a26bfabd",
   "metadata": {},
   "outputs": [],
   "source": [
    "# Solution (put your code here)\n"
   ]
  },
  {
   "cell_type": "code",
   "execution_count": null,
   "id": "4e1d8069",
   "metadata": {},
   "outputs": [],
   "source": [
    "# Test case (don't edit this block)"
   ]
  },
  {
   "cell_type": "markdown",
   "id": "d53046a9",
   "metadata": {},
   "source": [
    "## Task 3:"
   ]
  },
  {
   "cell_type": "code",
   "execution_count": null,
   "id": "fba22d87",
   "metadata": {},
   "outputs": [],
   "source": [
    "# prerequisites (don't edit this block)"
   ]
  },
  {
   "cell_type": "code",
   "execution_count": null,
   "id": "de4b0366",
   "metadata": {},
   "outputs": [],
   "source": [
    "# Solution (put your code here)\n"
   ]
  },
  {
   "cell_type": "code",
   "execution_count": null,
   "id": "c79d6e65",
   "metadata": {},
   "outputs": [],
   "source": [
    "# Test case (don't edit this block)"
   ]
  },
  {
   "cell_type": "markdown",
   "id": "2d05a74a",
   "metadata": {},
   "source": [
    "## Task 4:"
   ]
  },
  {
   "cell_type": "code",
   "execution_count": null,
   "id": "22145466",
   "metadata": {},
   "outputs": [],
   "source": [
    "# prerequisites (don't edit this block)"
   ]
  },
  {
   "cell_type": "code",
   "execution_count": null,
   "id": "e24a8a0a",
   "metadata": {},
   "outputs": [],
   "source": [
    "# Solution (put your code here)\n"
   ]
  },
  {
   "cell_type": "code",
   "execution_count": null,
   "id": "35c86237",
   "metadata": {},
   "outputs": [],
   "source": [
    "# Test case (don't edit this block)"
   ]
  },
  {
   "cell_type": "markdown",
   "id": "0330982f",
   "metadata": {},
   "source": [
    "## Task 5:"
   ]
  },
  {
   "cell_type": "code",
   "execution_count": null,
   "id": "ac3a21d6",
   "metadata": {},
   "outputs": [],
   "source": [
    "# prerequisites (don't edit this block)"
   ]
  },
  {
   "cell_type": "code",
   "execution_count": null,
   "id": "f611bd3a",
   "metadata": {},
   "outputs": [],
   "source": [
    "# Solution (put your code here)\n"
   ]
  },
  {
   "cell_type": "code",
   "execution_count": null,
   "id": "2e4bd2dd",
   "metadata": {},
   "outputs": [],
   "source": [
    "# Test case (don't edit this block)"
   ]
  },
  {
   "cell_type": "markdown",
   "id": "823f1f8a",
   "metadata": {},
   "source": [
    "---\n",
    "\n",
    "Lecture: AI I - Basics \n",
    "\n",
    "Next: [**Chapter 2.5: Additionals**](../02_python/05_additionals.ipynb)"
   ]
  }
 ],
 "metadata": {
  "language_info": {
   "name": "python"
  }
 },
 "nbformat": 4,
 "nbformat_minor": 5
}

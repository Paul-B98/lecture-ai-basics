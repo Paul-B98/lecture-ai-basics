{
 "cells": [
  {
   "cell_type": "markdown",
   "id": "7bc6d8dc",
   "metadata": {},
   "source": [
    "Lecture: AI I - Basics \n",
    "\n",
    "Previous:\n",
    "[**Chapter 2.2: Data Structures**](../02_data_structures.ipynb)\n",
    "\n",
    "---"
   ]
  },
  {
   "cell_type": "markdown",
   "id": "8e560b93",
   "metadata": {},
   "source": [
    "# Exercise 2.2: Data Structures\n",
    "\n"
   ]
  },
  {
   "cell_type": "markdown",
   "id": "e98d645b",
   "metadata": {},
   "source": [
    "> Hint: When doing the exercises put your solution in the designated \"Solution\" section:\n",
    "> ```python\n",
    "> # Solution (put your code here)\n",
    "> ```"
   ]
  },
  {
   "cell_type": "markdown",
   "id": "88b2484f",
   "metadata": {},
   "source": [
    "## Task 1:"
   ]
  },
  {
   "cell_type": "code",
   "execution_count": null,
   "id": "5fa024a3",
   "metadata": {},
   "outputs": [],
   "source": [
    "# prerequisites (don't edit this block)"
   ]
  },
  {
   "cell_type": "code",
   "execution_count": null,
   "id": "a06f88b6",
   "metadata": {},
   "outputs": [],
   "source": [
    "# Solution (put your code here)\n"
   ]
  },
  {
   "cell_type": "code",
   "execution_count": null,
   "id": "8a7a82c2",
   "metadata": {},
   "outputs": [],
   "source": [
    "# Test case (don't edit this block)"
   ]
  },
  {
   "cell_type": "markdown",
   "id": "441b12e2",
   "metadata": {},
   "source": [
    "## Task 2:"
   ]
  },
  {
   "cell_type": "code",
   "execution_count": null,
   "id": "19f945aa",
   "metadata": {},
   "outputs": [],
   "source": [
    "# prerequisites (don't edit this block)"
   ]
  },
  {
   "cell_type": "code",
   "execution_count": null,
   "id": "51be68c8",
   "metadata": {},
   "outputs": [],
   "source": [
    "# Solution (put your code here)\n"
   ]
  },
  {
   "cell_type": "code",
   "execution_count": null,
   "id": "71d328ba",
   "metadata": {},
   "outputs": [],
   "source": [
    "# Test case (don't edit this block)"
   ]
  },
  {
   "cell_type": "markdown",
   "id": "bcd4e0b7",
   "metadata": {},
   "source": [
    "## Task 3:"
   ]
  },
  {
   "cell_type": "code",
   "execution_count": null,
   "id": "8090dab8",
   "metadata": {},
   "outputs": [],
   "source": [
    "# prerequisites (don't edit this block)"
   ]
  },
  {
   "cell_type": "code",
   "execution_count": null,
   "id": "2ed999a8",
   "metadata": {},
   "outputs": [],
   "source": [
    "# Solution (put your code here)\n"
   ]
  },
  {
   "cell_type": "code",
   "execution_count": null,
   "id": "eb7db3db",
   "metadata": {},
   "outputs": [],
   "source": [
    "# Test case (don't edit this block)"
   ]
  },
  {
   "cell_type": "markdown",
   "id": "5751499f",
   "metadata": {},
   "source": [
    "## Task 4:"
   ]
  },
  {
   "cell_type": "code",
   "execution_count": null,
   "id": "5dbe2b79",
   "metadata": {},
   "outputs": [],
   "source": [
    "# prerequisites (don't edit this block)"
   ]
  },
  {
   "cell_type": "code",
   "execution_count": null,
   "id": "15411cba",
   "metadata": {},
   "outputs": [],
   "source": [
    "# Solution (put your code here)\n"
   ]
  },
  {
   "cell_type": "code",
   "execution_count": null,
   "id": "bd15ad10",
   "metadata": {},
   "outputs": [],
   "source": [
    "# Test case (don't edit this block)"
   ]
  },
  {
   "cell_type": "markdown",
   "id": "615d9cf8",
   "metadata": {},
   "source": [
    "## Task 5:"
   ]
  },
  {
   "cell_type": "code",
   "execution_count": null,
   "id": "ddfe5988",
   "metadata": {},
   "outputs": [],
   "source": [
    "# prerequisites (don't edit this block)"
   ]
  },
  {
   "cell_type": "code",
   "execution_count": null,
   "id": "7232ff9f",
   "metadata": {},
   "outputs": [],
   "source": [
    "# Solution (put your code here)\n"
   ]
  },
  {
   "cell_type": "code",
   "execution_count": null,
   "id": "94c4998a",
   "metadata": {},
   "outputs": [],
   "source": [
    "# Test case (don't edit this block)"
   ]
  },
  {
   "cell_type": "markdown",
   "id": "fb2dbb7c",
   "metadata": {},
   "source": [
    "---\n",
    "\n",
    "Lecture: AI I - Basics \n",
    "\n",
    "Next: [**Chapter 2.3: Control Flow**](../02_python/03_control_flow.ipynb)"
   ]
  }
 ],
 "metadata": {
  "kernelspec": {
   "display_name": ".venv",
   "language": "python",
   "name": "python3"
  },
  "language_info": {
   "codemirror_mode": {
    "name": "ipython",
    "version": 3
   },
   "file_extension": ".py",
   "mimetype": "text/x-python",
   "name": "python",
   "nbconvert_exporter": "python",
   "pygments_lexer": "ipython3",
   "version": "3.12.11"
  }
 },
 "nbformat": 4,
 "nbformat_minor": 5
}

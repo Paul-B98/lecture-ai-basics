{
 "cells": [
  {
   "cell_type": "markdown",
   "id": "7ffb935d",
   "metadata": {},
   "source": [
    "Lecture: AI I - Basics \n",
    "\n",
    "Previous:\n",
    "[**Chapter 2.3: Control Flow**](../03_control_flow.ipynb)\n",
    "\n",
    "---"
   ]
  },
  {
   "cell_type": "markdown",
   "id": "46be7b3c",
   "metadata": {},
   "source": [
    "# Solution 2.3: Control Flow\n",
    "\n",
    "- [Task 1: If-Else](#task-1-if--else)\n",
    "- [Task 2: Match-Case](#task-2-match--case)\n",
    "- [Task 3: For Loop](#task-3-for-loop)\n",
    "- [Task 4: While Loop](#task-4-while-loop)"
   ]
  },
  {
   "cell_type": "markdown",
   "id": "97cc1042",
   "metadata": {},
   "source": [
    "> Hint: When doing the exercises put your solution in the designated \"Solution\" section:\n",
    "> ```python\n",
    "> # Solution (put your code here)\n",
    "> ```"
   ]
  },
  {
   "cell_type": "markdown",
   "id": "d4156240",
   "metadata": {},
   "source": [
    "## Task 1: If / Else\n",
    "\n",
    "Use `if`/`else` to check if a year is a leap year.\n"
   ]
  },
  {
   "cell_type": "code",
   "execution_count": 1,
   "id": "b0ce0801",
   "metadata": {},
   "outputs": [],
   "source": [
    "# prerequisites (don't edit this block)\n",
    "\n",
    "year = 2024\n",
    "is_leap_year = None"
   ]
  },
  {
   "cell_type": "code",
   "execution_count": 2,
   "id": "9fa9b063",
   "metadata": {},
   "outputs": [],
   "source": [
    "# Solution (put your code here)\n",
    "if year % 400 == 0:\n",
    "    is_leap_year = True\n",
    "elif year % 100 == 0:\n",
    "    is_leap_year = False\n",
    "elif year % 4 == 0:\n",
    "    is_leap_year = True\n",
    "else:\n",
    "    is_leap_year = False"
   ]
  },
  {
   "cell_type": "code",
   "execution_count": 3,
   "id": "42c13a3f",
   "metadata": {},
   "outputs": [],
   "source": [
    "# Test case (don't edit this block)\n",
    "assert is_leap_year is True, \"2024 should be a leap year\""
   ]
  },
  {
   "cell_type": "markdown",
   "id": "abe6ed3e",
   "metadata": {},
   "source": [
    "## Task 2: Match / Case\n",
    "\n",
    "Use `match`/`case` to check if a year is a leap year.\n"
   ]
  },
  {
   "cell_type": "code",
   "execution_count": 4,
   "id": "cd9936d1",
   "metadata": {},
   "outputs": [],
   "source": [
    "# prerequisites (don't edit this block)\n",
    "year = 2024\n",
    "is_leap_year = None"
   ]
  },
  {
   "cell_type": "code",
   "execution_count": 5,
   "id": "36b677c6",
   "metadata": {},
   "outputs": [],
   "source": [
    "# Solution (put your code here)\n",
    "match year:\n",
    "    case _ if year % 400 == 0:\n",
    "        is_leap_year = True\n",
    "    case _ if year % 100 == 0:\n",
    "        is_leap_year = False\n",
    "    case _ if year % 4 == 0:\n",
    "        is_leap_year = True\n",
    "    case _:\n",
    "        is_leap_year = False"
   ]
  },
  {
   "cell_type": "code",
   "execution_count": 6,
   "id": "23ee06e0",
   "metadata": {},
   "outputs": [],
   "source": [
    "# Test case (don't edit this block)\n",
    "assert is_leap_year is True, \"2024 should be a leap year\""
   ]
  },
  {
   "cell_type": "markdown",
   "id": "4507f664",
   "metadata": {},
   "source": [
    "## Task 3: For loop\n",
    "\n",
    "Iterate over a list and calculate the sum."
   ]
  },
  {
   "cell_type": "code",
   "execution_count": 7,
   "id": "15dd933d",
   "metadata": {},
   "outputs": [],
   "source": [
    "# prerequisites (don't edit this block)\n",
    "nums = list(range(1, 11))\n",
    "total = 0"
   ]
  },
  {
   "cell_type": "code",
   "execution_count": 8,
   "id": "5ae98a77",
   "metadata": {},
   "outputs": [],
   "source": [
    "# Solution (put your code here)\n",
    "for i in nums:\n",
    "    total += i"
   ]
  },
  {
   "cell_type": "code",
   "execution_count": 9,
   "id": "f2139b10",
   "metadata": {},
   "outputs": [],
   "source": [
    "# Test case (don't edit this block)\n",
    "assert total == 55, \"The sum of numbers from 1 to 10 should be 55\""
   ]
  },
  {
   "cell_type": "markdown",
   "id": "3c10e5db",
   "metadata": {},
   "source": [
    "## Task 4: While Loop\n",
    "\n",
    "Use a while loop to count down from a number and add each number to the `total`."
   ]
  },
  {
   "cell_type": "code",
   "execution_count": 11,
   "id": "b7c146c0",
   "metadata": {},
   "outputs": [],
   "source": [
    "# prerequisites (don't edit this block)\n",
    "nums = 10\n",
    "total = 0"
   ]
  },
  {
   "cell_type": "code",
   "execution_count": 12,
   "id": "d84f9921",
   "metadata": {},
   "outputs": [],
   "source": [
    "# Solution (put your code here)\n",
    "while nums > 0:\n",
    "    total += nums\n",
    "    nums -= 1"
   ]
  },
  {
   "cell_type": "code",
   "execution_count": 13,
   "id": "fbaf4053",
   "metadata": {},
   "outputs": [],
   "source": [
    "# Test case (don't edit this block)\n",
    "assert total == 55, \"The sum of numbers from 1 to 10 should be 55\""
   ]
  },
  {
   "cell_type": "markdown",
   "id": "19404253",
   "metadata": {},
   "source": [
    "---\n",
    "\n",
    "Lecture: AI I - Basics \n",
    "\n",
    "Next: [**Chapter 2.4: Object Orientation**](../02_python/04_object_orientation.ipynb)"
   ]
  }
 ],
 "metadata": {
  "kernelspec": {
   "display_name": "ai-lecture",
   "language": "python",
   "name": "python3"
  },
  "language_info": {
   "codemirror_mode": {
    "name": "ipython",
    "version": 3
   },
   "file_extension": ".py",
   "mimetype": "text/x-python",
   "name": "python",
   "nbconvert_exporter": "python",
   "pygments_lexer": "ipython3",
   "version": "3.12.11"
  }
 },
 "nbformat": 4,
 "nbformat_minor": 5
}

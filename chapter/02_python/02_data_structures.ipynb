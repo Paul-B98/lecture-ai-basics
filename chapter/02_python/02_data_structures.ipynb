{
 "cells": [
  {
   "cell_type": "markdown",
   "id": "7bc6d8dc",
   "metadata": {},
   "source": [
    "Lecture: AI I - Basics \n",
    "\n",
    "Previous:\n",
    "[**Chapter 2.1: Python Basics**](../02_python/01_basics.ipynb)\n",
    "\n",
    "---"
   ]
  },
  {
   "cell_type": "markdown",
   "id": "8e560b93",
   "metadata": {},
   "source": [
    "# Chapter 2.2: Data Structures\n",
    "\n",
    "- [Sequence types](#Sequence-types)\n",
    "- [Set types](#Set-types)\n",
    "- [Mapping types](#Mapping-types)\n",
    "- [Types for time and date](#Types-for-time-and-date)\n",
    "- [Additional data structures](#Additional-data-structures)"
   ]
  },
  {
   "cell_type": "markdown",
   "id": "a37d1281",
   "metadata": {},
   "source": [
    "## Sequence types \n",
    "\n",
    "In Python, sequences are collections of items that can be accessed by their index. The most common sequences are lists, tuples, and ranges. Together, these sequence types provide flexible and efficient ways to work with data in Python.\n",
    "\n",
    "### Ranges\n",
    "\n",
    "Ranges represent immutable sequences of numbers, typically used for generating number sequences in loops efficiently without storing all values in memory at once. The `range()` function can take one, two, or three parameters, giving you control over the generated number sequence: \n",
    "- the stop value alone\n",
    "- a start and stop value\n",
    "- a start, stop, and step value"
   ]
  },
  {
   "cell_type": "code",
   "execution_count": 1,
   "id": "3a15b013",
   "metadata": {},
   "outputs": [
    {
     "data": {
      "text/plain": [
       "range"
      ]
     },
     "execution_count": 1,
     "metadata": {},
     "output_type": "execute_result"
    }
   ],
   "source": [
    "type(range(10))"
   ]
  },
  {
   "cell_type": "code",
   "execution_count": 2,
   "id": "e01b8a77",
   "metadata": {},
   "outputs": [
    {
     "data": {
      "text/plain": [
       "range(0, 10)"
      ]
     },
     "execution_count": 2,
     "metadata": {},
     "output_type": "execute_result"
    }
   ],
   "source": [
    "range(10)  # repr of a range object"
   ]
  },
  {
   "cell_type": "code",
   "execution_count": 3,
   "id": "869c0076",
   "metadata": {},
   "outputs": [
    {
     "data": {
      "text/plain": [
       "[0, 1, 2, 3, 4, 5, 6, 7, 8, 9]"
      ]
     },
     "execution_count": 3,
     "metadata": {},
     "output_type": "execute_result"
    }
   ],
   "source": [
    "list(range(10))  # stop value alone"
   ]
  },
  {
   "cell_type": "code",
   "execution_count": 4,
   "id": "3b687a52",
   "metadata": {},
   "outputs": [
    {
     "data": {
      "text/plain": [
       "[1, 2, 3, 4, 5, 6, 7, 8, 9]"
      ]
     },
     "execution_count": 4,
     "metadata": {},
     "output_type": "execute_result"
    }
   ],
   "source": [
    "list(range(1, 10))  # start and stop value"
   ]
  },
  {
   "cell_type": "code",
   "execution_count": 5,
   "id": "025795c5",
   "metadata": {},
   "outputs": [
    {
     "data": {
      "text/plain": [
       "[1, 3, 5, 7, 9]"
      ]
     },
     "execution_count": 5,
     "metadata": {},
     "output_type": "execute_result"
    }
   ],
   "source": [
    "list(range(1, 10, 2))  # start, stop, step"
   ]
  },
  {
   "cell_type": "markdown",
   "id": "d88c7033",
   "metadata": {},
   "source": [
    "### Lists\n",
    "\n",
    "Lists are mutable, allowing you to add, remove, or change elements, making them ideal for general-purpose data storage."
   ]
  },
  {
   "cell_type": "code",
   "execution_count": 6,
   "id": "96952290",
   "metadata": {},
   "outputs": [
    {
     "data": {
      "text/plain": [
       "(list, list)"
      ]
     },
     "execution_count": 6,
     "metadata": {},
     "output_type": "execute_result"
    }
   ],
   "source": [
    "l1 = list()\n",
    "l2 = []\n",
    "\n",
    "type(l1), type(l2)"
   ]
  },
  {
   "cell_type": "markdown",
   "id": "4d65c19e",
   "metadata": {},
   "source": [
    "#### Common Sequence Operations\n",
    "\n",
    "Python supports [common sequence operations](https://docs.python.org/3/library/stdtypes.html#common-sequence-operations) like indexing, slicing, concatenation, repetition, and checking membership, which work consistently across lists, tuples, and _strings_.\n",
    "\n",
    "| Operation | Description |\n",
    "|-----------|-------------|\n",
    "| `x in s` | Check if `x` is in `s` |\n",
    "| `x not in sseq` | Check if `x` is not in `s` |\n",
    "| `s + t` | Concatenate sequences `s` and `t` |\n",
    "| `s * n` or `n * s` | Repeat sequence `s` `n` times |\n",
    "| `s[i]` | Access the `i`-th element of sequence `s` |\n",
    "| `s[i:j]` | Slice sequence `s` from index `i` to `j` |\n",
    "| `s[i:j:k]` | Slice sequence `s` from index `i` to `j`, stepping by `k` |\n",
    "| `len(s)` | Get the length of sequence `s` |\n",
    "| `min(s)` | Get the minimum value in sequence `s` |\n",
    "| `max(s)` | Get the maximum value in sequence `s` |\n",
    "| `s.index(x,[start[, end]])` | Get the index of the first occurrence of `x` in `s`, optionally within a specified range |\n",
    "| `s.count(x)` | Count the occurrences of `x` in sequence `s` |"
   ]
  },
  {
   "cell_type": "code",
   "execution_count": 7,
   "id": "6f3be6cf",
   "metadata": {},
   "outputs": [
    {
     "data": {
      "text/plain": [
       "[0, 1, 2, 3, 4, 5, 6, 7, 8, 9]"
      ]
     },
     "execution_count": 7,
     "metadata": {},
     "output_type": "execute_result"
    }
   ],
   "source": [
    "nums = list(range(10))\n",
    "nums"
   ]
  },
  {
   "cell_type": "markdown",
   "id": "a2b0291f",
   "metadata": {},
   "source": [
    "The `in` and `not in` operators are used to check whether an item exists within a sequence. Avoid using `not x in s`."
   ]
  },
  {
   "cell_type": "code",
   "execution_count": 8,
   "id": "faca89c7",
   "metadata": {},
   "outputs": [
    {
     "name": "stdout",
     "output_type": "stream",
     "text": [
      "True\n",
      "True\n"
     ]
    }
   ],
   "source": [
    "print(0 in nums)\n",
    "print(10 not in nums)"
   ]
  },
  {
   "cell_type": "markdown",
   "id": "67ec574b",
   "metadata": {},
   "source": [
    "In Python, the `+` operator concatenates sequences, joining them together, while the `*` operator repeats a sequence a specified number of times."
   ]
  },
  {
   "cell_type": "code",
   "execution_count": 9,
   "id": "e5dfcc21",
   "metadata": {},
   "outputs": [
    {
     "name": "stdout",
     "output_type": "stream",
     "text": [
      "[0, 1, 2, 3, 4, 5, 6, 7, 8, 9, 0, 1, 2, 3, 4, 5, 6, 7, 8, 9]\n",
      "[0, 1, 2, 3, 4, 5, 6, 7, 8, 9, 0, 1, 2, 3, 4, 5, 6, 7, 8, 9, 0, 1, 2, 3, 4, 5, 6, 7, 8, 9]\n"
     ]
    }
   ],
   "source": [
    "print(nums + nums)\n",
    "print(nums * 3)"
   ]
  },
  {
   "cell_type": "markdown",
   "id": "db535bcf",
   "metadata": {},
   "source": [
    "The `min()` and `max()` functions return the smallest and largest items in a sequence, while `len()` returns the number of elements in the sequence."
   ]
  },
  {
   "cell_type": "code",
   "execution_count": 10,
   "id": "ad23fd6c",
   "metadata": {},
   "outputs": [
    {
     "name": "stdout",
     "output_type": "stream",
     "text": [
      "0\n",
      "9\n",
      "10\n"
     ]
    }
   ],
   "source": [
    "print(min(nums))\n",
    "print(max(nums))\n",
    "print(len(nums))"
   ]
  },
  {
   "cell_type": "markdown",
   "id": "f3df257c",
   "metadata": {},
   "source": [
    "The `key` keyword argument in `max()` and `min()` allows you to specify a function to determine the value used for comparison, enabling custom sorting criteria when finding the largest or smallest item."
   ]
  },
  {
   "cell_type": "code",
   "execution_count": 11,
   "id": "d3ad378c",
   "metadata": {},
   "outputs": [
    {
     "name": "stdout",
     "output_type": "stream",
     "text": [
      "Alice\n",
      "Charlie\n"
     ]
    }
   ],
   "source": [
    "names = [\"Alice\", \"Bob\", \"Charlie\"]\n",
    "\n",
    "print(min(names))  # min by alphabetical order\n",
    "print(max(names))  # max by alphabetical order"
   ]
  },
  {
   "cell_type": "code",
   "execution_count": 12,
   "id": "66b5796d",
   "metadata": {},
   "outputs": [
    {
     "name": "stdout",
     "output_type": "stream",
     "text": [
      "Bob\n",
      "Charlie\n"
     ]
    }
   ],
   "source": [
    "print(min(names, key=len))  # min by length of name\n",
    "print(max(names, key=len))  # max by length of name"
   ]
  },
  {
   "cell_type": "markdown",
   "id": "9bb748ae",
   "metadata": {},
   "source": [
    "The `.index()` method returns the position of the first occurrence of a value in a sequence, while the `.count()` method returns the number of times a value appears in the sequence."
   ]
  },
  {
   "cell_type": "code",
   "execution_count": 13,
   "id": "419595a2",
   "metadata": {},
   "outputs": [
    {
     "name": "stdout",
     "output_type": "stream",
     "text": [
      "5\n",
      "1\n"
     ]
    }
   ],
   "source": [
    "print(nums.index(5))\n",
    "print(nums.count(5))"
   ]
  },
  {
   "cell_type": "markdown",
   "id": "1bf23ba2",
   "metadata": {},
   "source": [
    "#### Indexing and Slicing\n",
    "\n",
    "In Python, indexing allows you to access individual elements in a sequence using their position, with indices starting at 0 for the first item. Negative indices can be used to access elements from the end of the sequence. Slicing lets you extract a range of elements by specifying a start, stop, and optional step, creating a new subsequence without modifying the original."
   ]
  },
  {
   "cell_type": "code",
   "execution_count": 14,
   "id": "508b1c04",
   "metadata": {},
   "outputs": [
    {
     "name": "stdout",
     "output_type": "stream",
     "text": [
      "1\n",
      "9\n"
     ]
    }
   ],
   "source": [
    "print(nums[1]) # second element\n",
    "print(nums[-1]) # last element"
   ]
  },
  {
   "cell_type": "markdown",
   "id": "d74607b4",
   "metadata": {},
   "source": [
    "Follwing are a few slicing example. Slice the list from index 2 to the end:"
   ]
  },
  {
   "cell_type": "code",
   "execution_count": 15,
   "id": "daeae466",
   "metadata": {},
   "outputs": [
    {
     "data": {
      "text/plain": [
       "[2, 3, 4, 5, 6, 7, 8, 9]"
      ]
     },
     "execution_count": 15,
     "metadata": {},
     "output_type": "execute_result"
    }
   ],
   "source": [
    "nums[2:]"
   ]
  },
  {
   "cell_type": "markdown",
   "id": "611e3090",
   "metadata": {},
   "source": [
    "Slice the list from the start to index 2 (exclusive):"
   ]
  },
  {
   "cell_type": "code",
   "execution_count": 16,
   "id": "897be0a1",
   "metadata": {},
   "outputs": [
    {
     "data": {
      "text/plain": [
       "[0, 1]"
      ]
     },
     "execution_count": 16,
     "metadata": {},
     "output_type": "execute_result"
    }
   ],
   "source": [
    "nums[:2]"
   ]
  },
  {
   "cell_type": "markdown",
   "id": "48df78a8",
   "metadata": {},
   "source": [
    "Slice the list from the second last element to the end:"
   ]
  },
  {
   "cell_type": "code",
   "execution_count": 17,
   "id": "b70022cf",
   "metadata": {},
   "outputs": [
    {
     "data": {
      "text/plain": [
       "[8, 9]"
      ]
     },
     "execution_count": 17,
     "metadata": {},
     "output_type": "execute_result"
    }
   ],
   "source": [
    "nums[-2:]"
   ]
  },
  {
   "cell_type": "markdown",
   "id": "3dc322bf",
   "metadata": {},
   "source": [
    "Slice the list from index 2 to 5 (exclusive):"
   ]
  },
  {
   "cell_type": "code",
   "execution_count": 18,
   "id": "04a19d21",
   "metadata": {},
   "outputs": [
    {
     "data": {
      "text/plain": [
       "[2, 3, 4]"
      ]
     },
     "execution_count": 18,
     "metadata": {},
     "output_type": "execute_result"
    }
   ],
   "source": [
    "nums[2:5]"
   ]
  },
  {
   "cell_type": "markdown",
   "id": "0876bcd5",
   "metadata": {},
   "source": [
    "Slice the list every second element:"
   ]
  },
  {
   "cell_type": "code",
   "execution_count": 19,
   "id": "970b1c9d",
   "metadata": {},
   "outputs": [
    {
     "data": {
      "text/plain": [
       "[0, 2, 4, 6, 8]"
      ]
     },
     "execution_count": 19,
     "metadata": {},
     "output_type": "execute_result"
    }
   ],
   "source": [
    "nums[::2]"
   ]
  },
  {
   "cell_type": "markdown",
   "id": "ec452fca",
   "metadata": {},
   "source": [
    "Slice the list every second element starting from index 1:"
   ]
  },
  {
   "cell_type": "code",
   "execution_count": 20,
   "id": "4f49c1ab",
   "metadata": {},
   "outputs": [
    {
     "data": {
      "text/plain": [
       "[1, 3, 5, 7, 9]"
      ]
     },
     "execution_count": 20,
     "metadata": {},
     "output_type": "execute_result"
    }
   ],
   "source": [
    "nums[1::2]"
   ]
  },
  {
   "cell_type": "markdown",
   "id": "26b25751",
   "metadata": {},
   "source": [
    "Slice the list from index 1 to 7 (exclusive), every second element:"
   ]
  },
  {
   "cell_type": "code",
   "execution_count": 21,
   "id": "6e7e1940",
   "metadata": {},
   "outputs": [
    {
     "data": {
      "text/plain": [
       "[1, 3, 5]"
      ]
     },
     "execution_count": 21,
     "metadata": {},
     "output_type": "execute_result"
    }
   ],
   "source": [
    "nums[1:7:2]"
   ]
  },
  {
   "cell_type": "markdown",
   "id": "0d39c828",
   "metadata": {},
   "source": [
    "#### Mutable Sequence Operations\n",
    "\n",
    "Lists support various [operations](https://docs.python.org/3/library/stdtypes.html#mutable-sequence-types) for modifying their contents, such as adding, removing, and changing elements. These operations include:\n",
    "\n",
    "| Operation | Description |\n",
    "|-----------|-------------|\n",
    "| `s.append(x)` | Add `x` to the end of sequence `s` |\n",
    "| `s.extend(t)` or `s + t` | Extend sequence `s` by appending elements from sequence `t` |\n",
    "| `s.insert(i, x)` | Insert `x` at index `i` in sequence `s` |\n",
    "| `s.remove(x)` | Remove the first occurrence of `x` from sequence `s` |\n",
    "| `s.pop([i])` | Remove and return the item at index `i` from sequence `s`, or the last item if `i` is not specified |\n",
    "| `s.clear()` or `del s[:]` | Remove all items from sequence `s` |\n",
    "| `s.sort(key=None, reverse=False)` | Sort the items of sequence `s` in ascending order, optionally using a custom key function and reversing the order |\n",
    "| `s.reverse()` | Reverse the order of items in sequence `s` |\n",
    "| `s.copy()` or `s[:]` | Create a shallow copy of sequence `s` |\n",
    "\n",
    "You can add elements to a list using `.append()` to add a single item at the end, `.extend()` to add multiple items from another iterable, and `.insert()` to add a single item at a specific position."
   ]
  },
  {
   "cell_type": "code",
   "execution_count": 22,
   "id": "98661b86",
   "metadata": {},
   "outputs": [
    {
     "data": {
      "text/plain": [
       "[0, 1, 2, 3, 4, 5, 6, 7, 8, 9, 10]"
      ]
     },
     "execution_count": 22,
     "metadata": {},
     "output_type": "execute_result"
    }
   ],
   "source": [
    "nums.append(10)\n",
    "nums"
   ]
  },
  {
   "cell_type": "code",
   "execution_count": 23,
   "id": "87a9adc8",
   "metadata": {},
   "outputs": [
    {
     "data": {
      "text/plain": [
       "[0, 1, 2, 3, 4, 5, 6, 7, 8, 9, 10, 11, 12, 13]"
      ]
     },
     "execution_count": 23,
     "metadata": {},
     "output_type": "execute_result"
    }
   ],
   "source": [
    "nums.extend([11, 12, 13])\n",
    "nums"
   ]
  },
  {
   "cell_type": "code",
   "execution_count": 24,
   "id": "88840027",
   "metadata": {},
   "outputs": [
    {
     "data": {
      "text/plain": [
       "[0, 1, 2, 3, 4, 5, 6, 7, 8, 9, 'test', 10, 11, 12, 13]"
      ]
     },
     "execution_count": 24,
     "metadata": {},
     "output_type": "execute_result"
    }
   ],
   "source": [
    "nums.insert(10, \"test\")\n",
    "nums"
   ]
  },
  {
   "cell_type": "markdown",
   "id": "314c9942",
   "metadata": {},
   "source": [
    "You can use `.remove()` to delete the first occurrence of a specific value in a list, while `.pop()` removes and returns an item at a given index (or the last item by default)."
   ]
  },
  {
   "cell_type": "code",
   "execution_count": 25,
   "id": "5d97e490",
   "metadata": {},
   "outputs": [
    {
     "data": {
      "text/plain": [
       "[0, 1, 2, 3, 4, 5, 6, 7, 8, 9, 10, 11, 12, 13]"
      ]
     },
     "execution_count": 25,
     "metadata": {},
     "output_type": "execute_result"
    }
   ],
   "source": [
    "nums.remove(\"test\")\n",
    "nums"
   ]
  },
  {
   "cell_type": "code",
   "execution_count": 26,
   "id": "787d1006",
   "metadata": {},
   "outputs": [
    {
     "data": {
      "text/plain": [
       "[1, 2, 3, 4, 5, 6, 7, 8, 9, 10, 11, 12]"
      ]
     },
     "execution_count": 26,
     "metadata": {},
     "output_type": "execute_result"
    }
   ],
   "source": [
    "nums.pop(0)\n",
    "nums.pop()\n",
    "nums"
   ]
  },
  {
   "cell_type": "markdown",
   "id": "25a8effb",
   "metadata": {},
   "source": [
    "You can use `.reverse()` to reverse the order of elements in a list in place, and `.sort()` to arrange the list items in ascending order by default or with a custom key for specific sorting needs.\n",
    "\n",
    "**Hint**: For a shorter way to reverse a list ([code golf](https://codegolf.stackexchange.com/)), you can use slicing with `s[::-1]`."
   ]
  },
  {
   "cell_type": "code",
   "execution_count": 27,
   "id": "62cadd5c",
   "metadata": {},
   "outputs": [
    {
     "data": {
      "text/plain": [
       "[12, 11, 10, 9, 8, 7, 6, 5, 4, 3, 2, 1]"
      ]
     },
     "execution_count": 27,
     "metadata": {},
     "output_type": "execute_result"
    }
   ],
   "source": [
    "nums.reverse()\n",
    "nums"
   ]
  },
  {
   "cell_type": "code",
   "execution_count": 28,
   "id": "06bf3858",
   "metadata": {},
   "outputs": [
    {
     "data": {
      "text/plain": [
       "[1, 2, 3, 4, 5, 6, 7, 8, 9, 10, 11, 12]"
      ]
     },
     "execution_count": 28,
     "metadata": {},
     "output_type": "execute_result"
    }
   ],
   "source": [
    "list(reversed(nums))"
   ]
  },
  {
   "cell_type": "code",
   "execution_count": 29,
   "id": "30d45142",
   "metadata": {},
   "outputs": [
    {
     "data": {
      "text/plain": [
       "[1, 2, 3, 4, 5, 6, 7, 8, 9, 10, 11, 12]"
      ]
     },
     "execution_count": 29,
     "metadata": {},
     "output_type": "execute_result"
    }
   ],
   "source": [
    "nums.sort()  # sort in place\n",
    "nums"
   ]
  },
  {
   "cell_type": "code",
   "execution_count": 30,
   "id": "6286f4ea",
   "metadata": {},
   "outputs": [
    {
     "data": {
      "text/plain": [
       "[1, 2, 3, 4, 5, 6, 7, 8, 9, 10, 11, 12]"
      ]
     },
     "execution_count": 30,
     "metadata": {},
     "output_type": "execute_result"
    }
   ],
   "source": [
    "sorted(nums)  # sorted returns a new sorted list"
   ]
  },
  {
   "cell_type": "markdown",
   "id": "91bd1302",
   "metadata": {},
   "source": [
    "When sorting the `key` parameter allows you to specify a custom sorting function, and the `reverse` parameter can be set to `True` to sort in descending order."
   ]
  },
  {
   "cell_type": "code",
   "execution_count": 31,
   "id": "d8dcabe1",
   "metadata": {},
   "outputs": [
    {
     "name": "stdout",
     "output_type": "stream",
     "text": [
      "['Alice', 'Bob', 'Charlie']\n",
      "['Alice', 'Bob', 'Charlie']\n",
      "['Bob', 'Alice', 'Charlie']\n",
      "['Charlie', 'Bob', 'Alice']\n",
      "['Charlie', 'Alice', 'Bob']\n"
     ]
    }
   ],
   "source": [
    "print(names)\n",
    "print(sorted(names))  # sorted returns a new sorted list\n",
    "print(sorted(names, key=len))  # sorted by length of name\n",
    "print(sorted(names, reverse=True))  # sorted in reverse order\n",
    "print(sorted(names, key=len, reverse=True))  # sorted by length of name in reverse"
   ]
  },
  {
   "cell_type": "markdown",
   "id": "1a7e1bdd",
   "metadata": {},
   "source": [
    "#### Indexing and Slicing Operations\n",
    "\n",
    "You can change elements in a list by assigning a new value to an index or slice, and you can delete elements using `del` with an index or slice to remove specific items or ranges from the list."
   ]
  },
  {
   "cell_type": "code",
   "execution_count": 32,
   "id": "2758ddca",
   "metadata": {},
   "outputs": [
    {
     "data": {
      "text/plain": [
       "[-1, 2, 3, 4, 5, 6, 7, 8, 9, 10, 11, 12]"
      ]
     },
     "execution_count": 32,
     "metadata": {},
     "output_type": "execute_result"
    }
   ],
   "source": [
    "nums[0] = -1  # change first element\n",
    "nums"
   ]
  },
  {
   "cell_type": "code",
   "execution_count": 33,
   "id": "8e12cfbb",
   "metadata": {},
   "outputs": [
    {
     "data": {
      "text/plain": [
       "[0, 1, 3, 4, 5, 6, 7, 8, 9, 10, 11, 12]"
      ]
     },
     "execution_count": 33,
     "metadata": {},
     "output_type": "execute_result"
    }
   ],
   "source": [
    "nums[0:2] = [0, 1]  # change first two elements\n",
    "nums"
   ]
  },
  {
   "cell_type": "code",
   "execution_count": 34,
   "id": "a132eefe",
   "metadata": {},
   "outputs": [
    {
     "data": {
      "text/plain": [
       "[0, 100, 3, 200, 5, 300, 7, 8, 9, 10, 11, 12]"
      ]
     },
     "execution_count": 34,
     "metadata": {},
     "output_type": "execute_result"
    }
   ],
   "source": [
    "nums[1:6:2] = [100, 200, 300]  # change every second element from index 1 to 6 (exclusive)\n",
    "nums"
   ]
  },
  {
   "cell_type": "code",
   "execution_count": 35,
   "id": "fd35d9fe",
   "metadata": {},
   "outputs": [
    {
     "data": {
      "text/plain": [
       "[0, 200, 5, 300, 7, 8, 9, 10, 11, 12]"
      ]
     },
     "execution_count": 35,
     "metadata": {},
     "output_type": "execute_result"
    }
   ],
   "source": [
    "del nums[1:3]  # delete elements from index 1 to 3 (exclusive)\n",
    "nums"
   ]
  },
  {
   "cell_type": "markdown",
   "id": "06ce4f2b",
   "metadata": {},
   "source": [
    "### Tuples\n",
    "\n",
    "Tuples are immutable sequences, meaning their contents cannot be changed after creation, which is useful for fixed collections of items or when you want to ensure data integrity."
   ]
  },
  {
   "cell_type": "code",
   "execution_count": 36,
   "id": "9541b4e0",
   "metadata": {},
   "outputs": [
    {
     "data": {
      "text/plain": [
       "(tuple, tuple, tuple, tuple)"
      ]
     },
     "execution_count": 36,
     "metadata": {},
     "output_type": "execute_result"
    }
   ],
   "source": [
    "t1 = ()\n",
    "t2 = 1, # or t2 = (1,)\n",
    "t3 = 1, 2  # or t3 = (1, 2)  \n",
    "t4 = tuple([1, 2, 3])\n",
    "\n",
    "type(t1), type(t2), type(t3), type(t4)"
   ]
  },
  {
   "cell_type": "markdown",
   "id": "bbf3c200",
   "metadata": {},
   "source": [
    "In Python, unpacking allows you to assign elements from a sequence to multiple variables in a single statement, making your code cleaner and more readable. An example is the divmod operator, which returns both the quotient and remainder of a division operation:"
   ]
  },
  {
   "cell_type": "code",
   "execution_count": 37,
   "id": "e3df57b4",
   "metadata": {},
   "outputs": [
    {
     "name": "stdout",
     "output_type": "stream",
     "text": [
      "<class 'tuple'> (3, 1)\n"
     ]
    }
   ],
   "source": [
    "result = divmod(10, 3)\n",
    "print(type(result), result)"
   ]
  },
  {
   "cell_type": "code",
   "execution_count": 38,
   "id": "b3ba65b6",
   "metadata": {},
   "outputs": [
    {
     "name": "stdout",
     "output_type": "stream",
     "text": [
      "3 1\n"
     ]
    }
   ],
   "source": [
    "quotient, remainder = divmod(10, 3)\n",
    "print(quotient, remainder)"
   ]
  },
  {
   "cell_type": "markdown",
   "id": "b1ab6974",
   "metadata": {},
   "source": [
    "In Python, you can unpack arbitrarily nested sequences, meaning you can assign values from nested structures like in the following example:"
   ]
  },
  {
   "cell_type": "code",
   "execution_count": 39,
   "id": "b508e36d",
   "metadata": {},
   "outputs": [
    {
     "name": "stdout",
     "output_type": "stream",
     "text": [
      "1 2 3\n"
     ]
    }
   ],
   "source": [
    "a, (b, c) = 1, (2, 3)\n",
    "print(a, b, c)"
   ]
  },
  {
   "cell_type": "markdown",
   "id": "442c0ade",
   "metadata": {},
   "source": [
    "Or you can use the `*` operator to unpack a sequence into a variable number of elements, which is particularly useful when you want to capture the remaining elements in a sequence:"
   ]
  },
  {
   "cell_type": "code",
   "execution_count": 40,
   "id": "058a6289",
   "metadata": {},
   "outputs": [
    {
     "name": "stdout",
     "output_type": "stream",
     "text": [
      "1 2 [3, 4] 5\n"
     ]
    }
   ],
   "source": [
    "a, b, *c, d = 1, 2, 3, 4, 5\n",
    "print(a, b, c, d)"
   ]
  },
  {
   "cell_type": "markdown",
   "id": "b6238629",
   "metadata": {},
   "source": [
    "### Binary Sequence Types \n",
    "\n",
    "In addition to lists, tuples, and ranges, there are also the binary sequence types bytes and bytearray for handling binary data in Python.\n",
    "* [Bytes](https://docs.python.org/3/library/stdtypes.html#bytes-objects): Immutable sequences of bytes for binary data.\n",
    "* [Bytearray](https://docs.python.org/3/library/stdtypes.html#bytearray-objects): Mutable sequences of bytes, allowing modification of binary data."
   ]
  },
  {
   "cell_type": "markdown",
   "id": "b396aec9",
   "metadata": {},
   "source": [
    "## Set types\n",
    "\n",
    "In Python, a [set](https://docs.python.org/3/library/stdtypes.html#set-types-set-frozenset) is an unordered collection of unique elements, useful for removing duplicates and performing operations like union, intersection, and difference. Sets are mutable, so you can add or remove items after creation. In contrast, a frozenset is an immutable version of a set, meaning its contents cannot be changed once created. This makes frozensets hashable and usable as keys in dictionaries or elements in other sets, providing flexibility when working with collections of unique, unchangeable data."
   ]
  },
  {
   "cell_type": "code",
   "execution_count": 41,
   "id": "c7f26ecf",
   "metadata": {},
   "outputs": [
    {
     "data": {
      "text/plain": [
       "(set, set)"
      ]
     },
     "execution_count": 41,
     "metadata": {},
     "output_type": "execute_result"
    }
   ],
   "source": [
    "s1 = {1, 2, 3}\n",
    "s2 = set([1, 2, 3])  # create a set from a iterable\n",
    "\n",
    "type(s1), type(s2)"
   ]
  },
  {
   "cell_type": "markdown",
   "id": "d3ae0fb1",
   "metadata": {},
   "source": [
    "### Common Set Operations\n",
    "\n",
    "| Operation | Description |\n",
    "|-----------|-------------|\n",
    "| `len(s)` | Get the number of elements in set `s` |\n",
    "| `x in s` | Check if `x` is an element of set `s\n",
    "| `x not in s` | Check if `x` is not an element of set `s` |\n",
    "| `s.isdisjoint(o)` | Check if sets `s` and `o` have no elements in common |\n",
    "| `s.issubset(o)` | Check if set `s` is a subset of set `o` |\n",
    "| `s <= o` | Check if set `s` is a subset of set `o` |\n",
    "| `s < o` | Check if set `s` is a proper subset of set `o` |\n",
    "| `s.issuperset(o)` | Check if set `s` is a superset of set `o` |\n",
    "| `s >= o` | Check if set `s` is a superset of set `o` |\n",
    "| `s > o` | Check if set `s` is a proper superset of set `o` |\n",
    "| `s.union(o)` or `s \\| o` | Return a new set containing elements from both sets `s` and `o` |\n",
    "| `s.intersection(o)` or `s & o` | Return a new set containing elements common to both sets `s` and `o` |\n",
    "| `s.difference(o)` or `s - o` | Return a new set containing elements in `s` but not in `o` |\n",
    "| `s.symmetric_difference(o)` or `s ^ o` | Return a new set containing elements in either `s` or `o`, but not in both |\n",
    "| `s.copy()` | Create a shallow copy of set `s` |"
   ]
  },
  {
   "cell_type": "code",
   "execution_count": 42,
   "id": "b8869d2b",
   "metadata": {},
   "outputs": [],
   "source": [
    "set1 = {1, 2, 3}\n",
    "set2 = {1, 2, 3, 4, 5}"
   ]
  },
  {
   "cell_type": "markdown",
   "id": "96fb82c3",
   "metadata": {},
   "source": [
    "In Python, you can check if one set is a subset of another using `.issubset()`, meaning all its elements are contained in the other set, and check for a superset using `.issuperset()`, meaning it contains all elements of the other set."
   ]
  },
  {
   "cell_type": "code",
   "execution_count": 43,
   "id": "342c0476",
   "metadata": {},
   "outputs": [
    {
     "data": {
      "text/plain": [
       "True"
      ]
     },
     "execution_count": 43,
     "metadata": {},
     "output_type": "execute_result"
    }
   ],
   "source": [
    "set1.issubset(set2)"
   ]
  },
  {
   "cell_type": "code",
   "execution_count": 44,
   "id": "21fdbe24",
   "metadata": {},
   "outputs": [
    {
     "data": {
      "text/plain": [
       "True"
      ]
     },
     "execution_count": 44,
     "metadata": {},
     "output_type": "execute_result"
    }
   ],
   "source": [
    "set2.issuperset(set1)"
   ]
  },
  {
   "cell_type": "markdown",
   "id": "fede65c1",
   "metadata": {},
   "source": [
    "In Python, you can check if two sets are disjoint (having no elements in common) using `.isdisjoint()`, which returns True if the sets share no items."
   ]
  },
  {
   "cell_type": "code",
   "execution_count": 45,
   "id": "541f23fb",
   "metadata": {},
   "outputs": [
    {
     "data": {
      "text/plain": [
       "False"
      ]
     },
     "execution_count": 45,
     "metadata": {},
     "output_type": "execute_result"
    }
   ],
   "source": [
    "set1.isdisjoint(set2)"
   ]
  },
  {
   "cell_type": "markdown",
   "id": "5463f8d9",
   "metadata": {},
   "source": [
    "In Python, you can use `.union()` or `|` to combine all unique elements from two sets, and `.intersection()` or `&` to get only the elements that are common to both sets."
   ]
  },
  {
   "cell_type": "code",
   "execution_count": 46,
   "id": "65fe4af1",
   "metadata": {},
   "outputs": [
    {
     "data": {
      "text/plain": [
       "{1, 2, 3, 4, 5}"
      ]
     },
     "execution_count": 46,
     "metadata": {},
     "output_type": "execute_result"
    }
   ],
   "source": [
    "set1 | set2"
   ]
  },
  {
   "cell_type": "code",
   "execution_count": 47,
   "id": "115bc3ae",
   "metadata": {},
   "outputs": [
    {
     "data": {
      "text/plain": [
       "{1, 2, 3}"
      ]
     },
     "execution_count": 47,
     "metadata": {},
     "output_type": "execute_result"
    }
   ],
   "source": [
    "set1 & set2"
   ]
  },
  {
   "cell_type": "markdown",
   "id": "53aa2f5b",
   "metadata": {},
   "source": [
    "In Python, you can use `.difference()` or `-` to get elements that are in one set but not the other, and `.symmetric_difference()` or `^` to get elements that are in either set but not in both."
   ]
  },
  {
   "cell_type": "code",
   "execution_count": 48,
   "id": "1891bdb6",
   "metadata": {},
   "outputs": [
    {
     "data": {
      "text/plain": [
       "set()"
      ]
     },
     "execution_count": 48,
     "metadata": {},
     "output_type": "execute_result"
    }
   ],
   "source": [
    "set1 - set2"
   ]
  },
  {
   "cell_type": "code",
   "execution_count": 49,
   "id": "5f31ce71",
   "metadata": {},
   "outputs": [
    {
     "data": {
      "text/plain": [
       "{4, 5}"
      ]
     },
     "execution_count": 49,
     "metadata": {},
     "output_type": "execute_result"
    }
   ],
   "source": [
    "set1 ^ set2"
   ]
  },
  {
   "cell_type": "markdown",
   "id": "33df56c5",
   "metadata": {},
   "source": [
    "### Set Operations\n",
    "\n",
    "Sets in Python support various [operations](https://docs.python.org/3/library/stdtypes.html#set) for modifying their contents, such as adding, removing, and clearing elements. There are only supported for mutable sets, not frozensets. These operations include:\n",
    "\n",
    "| Operation | Description |\n",
    "|-----------|-------------|\n",
    "| `s.update(o)` or `s |= o` | Add elements from set `o` to set `s`, modifying `s` in place |\n",
    "| `s.intersection_update(o)` or `s &= o` | Keep only elements in set `s` that are also in set `o`, modifying `s` in place |\n",
    "| `s.difference_update(o)` or `s -= o` | Remove elements in set `o` from set `s`, modifying `s` in place |\n",
    "| `s.symmetric_difference_update(o)` or `s ^= o` | Keep elements in set `s` that are not in set `o`, modifying `s` in place |\n",
    "| `s.add(x)` | Add element `x` to set `s` |\n",
    "| `s.remove(x)` | Remove element `x` from set `s`, raises KeyError if `x` is not found |\n",
    "| `s.discard(x)` | Remove element `x` from set `s`, does not raise an error if `x` is not found |\n",
    "| `s.pop()` | Remove and return an arbitrary element from set `s`, raises KeyError if `s` is empty |\n",
    "| `s.clear()` | Remove all elements from set `s` |\n",
    "\n",
    "You can use `.add()` to insert an element into a set, and `.discard()` to remove an element without raising an error if it does not exist, making it safer than `.remove()` for deletion."
   ]
  },
  {
   "cell_type": "code",
   "execution_count": 50,
   "id": "7a5e797d",
   "metadata": {},
   "outputs": [
    {
     "data": {
      "text/plain": [
       "{1, 2, 3, 6}"
      ]
     },
     "execution_count": 50,
     "metadata": {},
     "output_type": "execute_result"
    }
   ],
   "source": [
    "set1.add(6)\n",
    "set1.add(6)\n",
    "set1"
   ]
  },
  {
   "cell_type": "code",
   "execution_count": 51,
   "id": "2db615eb",
   "metadata": {},
   "outputs": [
    {
     "data": {
      "text/plain": [
       "{2, 3, 6}"
      ]
     },
     "execution_count": 51,
     "metadata": {},
     "output_type": "execute_result"
    }
   ],
   "source": [
    "set1.discard(1)\n",
    "set1"
   ]
  },
  {
   "cell_type": "markdown",
   "id": "da9e6c8c",
   "metadata": {},
   "source": [
    "## Mapping types\n",
    "\n",
    "In Python, a dictionary (dict) is an unordered collection of key-value pairs, where each key is unique and maps to a specific value. Dictionaries are useful for storing and accessing data efficiently based on descriptive keys instead of numeric indices, such as storing student names with their grades or configuration settings by name."
   ]
  },
  {
   "cell_type": "code",
   "execution_count": 52,
   "id": "8a33a93f",
   "metadata": {},
   "outputs": [
    {
     "data": {
      "text/plain": [
       "(dict, dict, dict)"
      ]
     },
     "execution_count": 52,
     "metadata": {},
     "output_type": "execute_result"
    }
   ],
   "source": [
    "d1 = {\"name\": \"Alice\", \"age\": 30}\n",
    "d2 = dict(name=\"Bob\", age=25)\n",
    "d3 = dict([(\"name\", \"Charlie\"), (\"age\", 35)])\n",
    "\n",
    "type(d1), type(d2), type(d3)"
   ]
  },
  {
   "cell_type": "markdown",
   "id": "4699d992",
   "metadata": {},
   "source": [
    "### Dictionary Operations\n",
    "\n",
    "In Python, dictionaries support various [operations](https://docs.python.org/3/library/stdtypes.html#mapping-types-dict) for accessing and modifying their contents. These operations include:\n",
    "\n",
    "| Operation | Description |\n",
    "|-----------|-------------|\n",
    "| `list(d)` | Convert dictionary `d` to a list of it's keys |\n",
    "| `len(d)` | Get the number of key-value pairs in dictionary `d` |\n",
    "| `d[key]` | Access the value associated with `key` in dictionary `d`, raises KeyError if `key` does not exist |\n",
    "| `d[key] = value` | Set the value for `key` in dictionary `d`, creating a new key-value pair if `key` does not exist |\n",
    "| `del d[key]` | Remove the key-value pair with `key` from dictionary `d`, raises KeyError if `key` does not exist |\n",
    "| `key in d` | Check if `key` exists in dictionary `d` |\n",
    "| `key not in d` | Check if `key` does not exist in dictionary `d` |\n",
    "| `d.iter()` | Iterate over the keys in dictionary `d` |\n",
    "| `d.clear()` | Remove all key-value pairs from dictionary `d` |\n",
    "| `d.copy()` | Create a shallow copy of dictionary `d` |\n",
    "| `d.get(key, default)` | Get the value associated with `key` in dictionary `d`, returning `default` if `key` does not exist |\n",
    "| `d.items()` | Return a view object containing key-value pairs in dictionary `d` |\n",
    "| `d.keys()` | Return a view object containing the keys in dictionary `d` |\n",
    "| `d.pop(key, default)` | Remove and return the value associated with `key` in dictionary `d`, returning `default` if `key` does not exist |\n",
    "| `d.popitem()` | Remove and return an arbitrary key-value pair from dictionary `d`, raises KeyError if `d` is empty |\n",
    "| `reversed(d)` | Return a reverse iterator over the keys in dictionary `d` |\n",
    "| `d.setdefault(key, default)` | Get the value associated with `key` in dictionary `d`, setting it to `default` if `key` does not exist |\n",
    "| `d.update(other)` | Update dictionary `d` with key-value pairs from `other`, overwriting existing keys |\n",
    "| `d.values()` | Return a view object containing the values in dictionary `d` |\n",
    "| `d \\| o` | Return a view object containing the keys in dictionary `d` |\n",
    "| `d \\|= o` | Update dictionary `d` with key-value pairs from `o`, overwriting existing keys |\n",
    "\n",
    "\n"
   ]
  },
  {
   "cell_type": "code",
   "execution_count": 53,
   "id": "6653c3fb",
   "metadata": {},
   "outputs": [
    {
     "data": {
      "text/plain": [
       "{'cat': 'meow', 'dog': 'bark', 'cow': 'moo'}"
      ]
     },
     "execution_count": 53,
     "metadata": {},
     "output_type": "execute_result"
    }
   ],
   "source": [
    "d = {\n",
    "    \"cat\": \"meow\",\n",
    "    \"dog\": \"bark\",\n",
    "    \"cow\": \"moo\",\n",
    "}\n",
    "d"
   ]
  },
  {
   "cell_type": "markdown",
   "id": "06a5d5e9",
   "metadata": {},
   "source": [
    "You can add a new key-value pair to a dictionary by assigning a value to a new key, for example:"
   ]
  },
  {
   "cell_type": "code",
   "execution_count": 54,
   "id": "1adbc969",
   "metadata": {},
   "outputs": [
    {
     "data": {
      "text/plain": [
       "{'cat': 'meow', 'dog': 'bark', 'cow': 'moo', 'sheep': 'baa'}"
      ]
     },
     "execution_count": 54,
     "metadata": {},
     "output_type": "execute_result"
    }
   ],
   "source": [
    "d[\"sheep\"] = \"baa\"\n",
    "d"
   ]
  },
  {
   "cell_type": "markdown",
   "id": "8db7561d",
   "metadata": {},
   "source": [
    "You remove a key-value pair from a dictionary using the `del` statement, which raises a `KeyError` if the key does not exist:"
   ]
  },
  {
   "cell_type": "code",
   "execution_count": 59,
   "id": "07271271",
   "metadata": {},
   "outputs": [],
   "source": [
    "del d[\"sheep\"]"
   ]
  },
  {
   "cell_type": "markdown",
   "id": "66391cab",
   "metadata": {},
   "source": [
    "You can use `.get()` to retrieve a value for a key safely with an optional default if the key is missing, `.setdefault()` to retrieve a value or insert a key with a default value if it doesn’t exist, and `.pop()` to remove a key from the dictionary and return its value, optionally providing a default if the key is not found."
   ]
  },
  {
   "cell_type": "code",
   "execution_count": 55,
   "id": "4709aad5",
   "metadata": {},
   "outputs": [
    {
     "name": "stdout",
     "output_type": "stream",
     "text": [
      "meow\n",
      "None\n",
      "not found\n"
     ]
    }
   ],
   "source": [
    "print(d.get(\"cat\"))  # get value for key \"cat\"\n",
    "print(d.get(\"lion\"))  # get value for key \"lion\", returns None if not found\n",
    "print(d.get(\"lion\", \"not found\"))  # get value for key \"lion\""
   ]
  },
  {
   "cell_type": "code",
   "execution_count": 56,
   "id": "6d3162bb",
   "metadata": {},
   "outputs": [
    {
     "name": "stdout",
     "output_type": "stream",
     "text": [
      "roar\n"
     ]
    },
    {
     "data": {
      "text/plain": [
       "{'cat': 'meow', 'dog': 'bark', 'cow': 'moo', 'sheep': 'baa', 'lion': 'roar'}"
      ]
     },
     "execution_count": 56,
     "metadata": {},
     "output_type": "execute_result"
    }
   ],
   "source": [
    "print(d.setdefault(\"lion\", \"roar\"))  # set default value for key \"lion\"\n",
    "d"
   ]
  },
  {
   "cell_type": "code",
   "execution_count": null,
   "id": "fbf1b06c",
   "metadata": {},
   "outputs": [
    {
     "name": "stdout",
     "output_type": "stream",
     "text": [
      "roar\n",
      "not found\n"
     ]
    }
   ],
   "source": [
    "print(d.pop(\"lion\"))\n",
    "print(d.pop(\"lion\", \"not found\"))  # pop with default value if key not found"
   ]
  },
  {
   "cell_type": "markdown",
   "id": "3fa9a096",
   "metadata": {},
   "source": [
    "You can use `.keys()` to get a view of all dictionary keys, `.values()` to get all values, and `.items()` to get key-value pairs as tuples, which are useful for looping through or inspecting the contents of a dictionary."
   ]
  },
  {
   "cell_type": "code",
   "execution_count": 58,
   "id": "98d121a2",
   "metadata": {},
   "outputs": [
    {
     "name": "stdout",
     "output_type": "stream",
     "text": [
      "dict_keys(['cat', 'dog', 'cow', 'sheep'])\n",
      "dict_values(['meow', 'bark', 'moo', 'baa'])\n",
      "dict_items([('cat', 'meow'), ('dog', 'bark'), ('cow', 'moo'), ('sheep', 'baa')])\n"
     ]
    }
   ],
   "source": [
    "print(d.keys())\n",
    "print(d.values())\n",
    "print(d.items())"
   ]
  },
  {
   "cell_type": "markdown",
   "id": "ae242cbd",
   "metadata": {},
   "source": [
    "You can use `.update()` or `d |= o` to merge another dictionary or iterable of key-value pairs into an existing dictionary, adding new keys and overwriting values of existing keys."
   ]
  },
  {
   "cell_type": "code",
   "execution_count": 60,
   "id": "8eb80ea3",
   "metadata": {},
   "outputs": [
    {
     "data": {
      "text/plain": [
       "{'cat': 'meow', 'dog': 'bark', 'cow': 'moo', 'sheep': 'baa', 'goat': 'maa'}"
      ]
     },
     "execution_count": 60,
     "metadata": {},
     "output_type": "execute_result"
    }
   ],
   "source": [
    "d.update({\"sheep\": \"baa\", \"goat\": \"maa\"})\n",
    "d"
   ]
  },
  {
   "cell_type": "code",
   "execution_count": 61,
   "id": "4d1d08ad",
   "metadata": {},
   "outputs": [
    {
     "data": {
      "text/plain": [
       "{'cat': 'meow',\n",
       " 'dog': 'bark',\n",
       " 'cow': 'moo',\n",
       " 'sheep': 'baa',\n",
       " 'goat': 'maa',\n",
       " 'pig': 'oink',\n",
       " 'duck': 'quack'}"
      ]
     },
     "execution_count": 61,
     "metadata": {},
     "output_type": "execute_result"
    }
   ],
   "source": [
    "d |= {\"pig\": \"oink\", \"duck\": \"quack\"} \n",
    "d"
   ]
  },
  {
   "cell_type": "markdown",
   "id": "bed21bf2",
   "metadata": {},
   "source": [
    "## Types for time and date \n",
    "datetime, date, time, timedelta, tzinfo, timezone, zoneinfo, calendar"
   ]
  },
  {
   "cell_type": "code",
   "execution_count": null,
   "id": "53440967",
   "metadata": {},
   "outputs": [],
   "source": []
  },
  {
   "cell_type": "markdown",
   "id": "ed69ce48",
   "metadata": {},
   "source": [
    "## Additional data structures\n",
    "\n",
    "https://docs.python.org/3/library/collections.abc.html\n",
    "https://docs.python.org/3/library/heapq.html\n",
    "https://docs.python.org/3/library/bisect.html\n",
    "https://docs.python.org/3/library/array.html"
   ]
  },
  {
   "cell_type": "code",
   "execution_count": null,
   "id": "28cd3ab6",
   "metadata": {},
   "outputs": [],
   "source": []
  },
  {
   "cell_type": "markdown",
   "id": "fb2dbb7c",
   "metadata": {},
   "source": [
    "---\n",
    "\n",
    "Lecture: AI I - Basics \n",
    "\n",
    "Next: [**Chapter 2.3: Control Flow**](../02_python/03_control_flow.ipynb)"
   ]
  }
 ],
 "metadata": {
  "kernelspec": {
   "display_name": ".venv",
   "language": "python",
   "name": "python3"
  },
  "language_info": {
   "codemirror_mode": {
    "name": "ipython",
    "version": 3
   },
   "file_extension": ".py",
   "mimetype": "text/x-python",
   "name": "python",
   "nbconvert_exporter": "python",
   "pygments_lexer": "ipython3",
   "version": "3.12.11"
  }
 },
 "nbformat": 4,
 "nbformat_minor": 5
}

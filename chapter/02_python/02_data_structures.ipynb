{
 "cells": [
  {
   "cell_type": "markdown",
   "id": "7bc6d8dc",
   "metadata": {},
   "source": [
    "Lecture: AI I - Basics \n",
    "\n",
    "Previous:\n",
    "[**Chapter 2.1: Python Basics**](../02_python/01_basics.ipynb)\n",
    "\n",
    "---"
   ]
  },
  {
   "cell_type": "markdown",
   "id": "8e560b93",
   "metadata": {},
   "source": [
    "# Chapter 2.2: Data Structures\n",
    "\n",
    "- [Sequence types](#Sequence-types)\n",
    "- [Set types](#Set-types)\n",
    "- [Mapping types](#Mapping-types)\n",
    "- [Types for time and date](#Types-for-time-and-date)\n",
    "- [Additional data structures](#Additional-data-structures)"
   ]
  },
  {
   "cell_type": "markdown",
   "id": "a37d1281",
   "metadata": {},
   "source": [
    "## Sequence types \n",
    "\n",
    "list, tuple, range\n",
    "bytes"
   ]
  },
  {
   "cell_type": "markdown",
   "id": "b396aec9",
   "metadata": {},
   "source": [
    "## Set types\n",
    "set frozentset"
   ]
  },
  {
   "cell_type": "markdown",
   "id": "da9e6c8c",
   "metadata": {},
   "source": [
    "## Mapping types\n",
    "dict"
   ]
  },
  {
   "cell_type": "markdown",
   "id": "bed21bf2",
   "metadata": {},
   "source": [
    "## Types for time and date \n",
    "datetime, date, time, timedelta, tzinfo, timezone, zoneinfo, calendar"
   ]
  },
  {
   "cell_type": "markdown",
   "id": "ed69ce48",
   "metadata": {},
   "source": [
    "## Additional data structures\n",
    "\n",
    "https://docs.python.org/3/library/collections.abc.html\n",
    "https://docs.python.org/3/library/heapq.html\n",
    "https://docs.python.org/3/library/bisect.html\n",
    "https://docs.python.org/3/library/array.html"
   ]
  },
  {
   "cell_type": "markdown",
   "id": "fb2dbb7c",
   "metadata": {},
   "source": [
    "---\n",
    "\n",
    "Lecture: AI I - Basics \n",
    "\n",
    "Next: [**Chapter 2.3: Control Flow**](../02_python/03_control_flow.ipynb)"
   ]
  }
 ],
 "metadata": {
  "language_info": {
   "name": "python"
  }
 },
 "nbformat": 4,
 "nbformat_minor": 5
}

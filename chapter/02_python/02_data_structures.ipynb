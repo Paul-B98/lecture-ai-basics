{
 "cells": [
  {
   "cell_type": "markdown",
   "id": "7bc6d8dc",
   "metadata": {},
   "source": [
    "Lecture: AI I - Basics \n",
    "\n",
    "Previous:\n",
    "[**Chapter 2.1: Python Basics**](../02_python/01_basics.ipynb)\n",
    "\n",
    "---"
   ]
  },
  {
   "cell_type": "markdown",
   "id": "8e560b93",
   "metadata": {},
   "source": [
    "# Chapter 2.2: Data Structures\n",
    "\n",
    "- [Sequence types](#Sequence-types)\n",
    "- [Set types](#Set-types)\n",
    "- [Mapping types](#Mapping-types)\n",
    "- [Types for time and date](#Types-for-time-and-date)\n",
    "- [Additional data structures](#Additional-data-structures)"
   ]
  },
  {
   "cell_type": "markdown",
   "id": "a37d1281",
   "metadata": {},
   "source": [
    "## Sequence types \n",
    "\n",
    "In Python, sequences are collections of items that can be accessed by their index. The most common sequences are lists, tuples, and ranges. Together, these sequence types provide flexible and efficient ways to work with data in Python.\n",
    "\n",
    "### Ranges\n",
    "\n",
    "Ranges represent immutable sequences of numbers, typically used for generating number sequences in loops efficiently without storing all values in memory at once. The `range()` function can take one, two, or three parameters, giving you control over the generated number sequence: \n",
    "- the stop value alone\n",
    "- a start and stop value\n",
    "- a start, stop, and step value"
   ]
  },
  {
   "cell_type": "code",
   "execution_count": null,
   "id": "e01b8a77",
   "metadata": {},
   "outputs": [
    {
     "data": {
      "text/plain": [
       "range(0, 10)"
      ]
     },
     "execution_count": 7,
     "metadata": {},
     "output_type": "execute_result"
    }
   ],
   "source": [
    "range(10)  # repr of a range object"
   ]
  },
  {
   "cell_type": "code",
   "execution_count": null,
   "id": "869c0076",
   "metadata": {},
   "outputs": [
    {
     "data": {
      "text/plain": [
       "[0, 1, 2, 3, 4, 5, 6, 7, 8, 9]"
      ]
     },
     "execution_count": 8,
     "metadata": {},
     "output_type": "execute_result"
    }
   ],
   "source": [
    "list(range(10))  # stop value alone"
   ]
  },
  {
   "cell_type": "code",
   "execution_count": null,
   "id": "3b687a52",
   "metadata": {},
   "outputs": [
    {
     "data": {
      "text/plain": [
       "[1, 2, 3, 4, 5, 6, 7, 8, 9]"
      ]
     },
     "execution_count": 9,
     "metadata": {},
     "output_type": "execute_result"
    }
   ],
   "source": [
    "list(range(1, 10))  # start and stop value"
   ]
  },
  {
   "cell_type": "code",
   "execution_count": 10,
   "id": "025795c5",
   "metadata": {},
   "outputs": [
    {
     "data": {
      "text/plain": [
       "[1, 3, 5, 7, 9]"
      ]
     },
     "execution_count": 10,
     "metadata": {},
     "output_type": "execute_result"
    }
   ],
   "source": [
    "list(range(1, 10, 2))  # start, stop, step"
   ]
  },
  {
   "cell_type": "markdown",
   "id": "d88c7033",
   "metadata": {},
   "source": [
    "### Lists\n",
    "\n",
    "Lists are mutable, allowing you to add, remove, or change elements, making them ideal for general-purpose data storage."
   ]
  },
  {
   "cell_type": "code",
   "execution_count": null,
   "id": "6f3be6cf",
   "metadata": {},
   "outputs": [],
   "source": []
  },
  {
   "cell_type": "markdown",
   "id": "06ce4f2b",
   "metadata": {},
   "source": [
    "### Tuples\n",
    "\n",
    "Tuples are immutable sequences, meaning their contents cannot be changed after creation, which is useful for fixed collections of items or when you want to ensure data integrity."
   ]
  },
  {
   "cell_type": "code",
   "execution_count": null,
   "id": "9541b4e0",
   "metadata": {},
   "outputs": [],
   "source": []
  },
  {
   "cell_type": "markdown",
   "id": "b6238629",
   "metadata": {},
   "source": [
    "### Binary Sequence Types \n",
    "\n",
    "In addition to lists, tuples, and ranges, there are also the binary sequence types bytes and bytearray for handling binary data in Python.\n",
    "* [Bytes](https://docs.python.org/3/library/stdtypes.html#bytes-objects): Immutable sequences of bytes for binary data.\n",
    "* [Bytearray](https://docs.python.org/3/library/stdtypes.html#bytearray-objects): Mutable sequences of bytes, allowing modification of binary data."
   ]
  },
  {
   "cell_type": "markdown",
   "id": "b396aec9",
   "metadata": {},
   "source": [
    "## Set types\n",
    "set frozentset"
   ]
  },
  {
   "cell_type": "markdown",
   "id": "da9e6c8c",
   "metadata": {},
   "source": [
    "## Mapping types\n",
    "dict"
   ]
  },
  {
   "cell_type": "markdown",
   "id": "bed21bf2",
   "metadata": {},
   "source": [
    "## Types for time and date \n",
    "datetime, date, time, timedelta, tzinfo, timezone, zoneinfo, calendar"
   ]
  },
  {
   "cell_type": "markdown",
   "id": "ed69ce48",
   "metadata": {},
   "source": [
    "## Additional data structures\n",
    "\n",
    "https://docs.python.org/3/library/collections.abc.html\n",
    "https://docs.python.org/3/library/heapq.html\n",
    "https://docs.python.org/3/library/bisect.html\n",
    "https://docs.python.org/3/library/array.html"
   ]
  },
  {
   "cell_type": "markdown",
   "id": "fb2dbb7c",
   "metadata": {},
   "source": [
    "---\n",
    "\n",
    "Lecture: AI I - Basics \n",
    "\n",
    "Next: [**Chapter 2.3: Control Flow**](../02_python/03_control_flow.ipynb)"
   ]
  }
 ],
 "metadata": {
  "kernelspec": {
   "display_name": ".venv",
   "language": "python",
   "name": "python3"
  },
  "language_info": {
   "codemirror_mode": {
    "name": "ipython",
    "version": 3
   },
   "file_extension": ".py",
   "mimetype": "text/x-python",
   "name": "python",
   "nbconvert_exporter": "python",
   "pygments_lexer": "ipython3",
   "version": "3.12.11"
  }
 },
 "nbformat": 4,
 "nbformat_minor": 5
}

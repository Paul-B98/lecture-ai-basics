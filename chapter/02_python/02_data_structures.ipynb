{
 "cells": [
  {
   "cell_type": "markdown",
   "id": "7bc6d8dc",
   "metadata": {},
   "source": [
    "Lecture: AI I - Basics \n",
    "\n",
    "Previous:\n",
    "[**Chapter 2.1: Python Basics**](../02_python/01_basics.ipynb)\n",
    "\n",
    "---"
   ]
  },
  {
   "cell_type": "markdown",
   "id": "8e560b93",
   "metadata": {},
   "source": [
    "# Chapter 2.2: Data Structures\n",
    "\n",
    "- [Sequence types](#Sequence-types)\n",
    "- [Set types](#Set-types)\n",
    "- [Mapping types](#Mapping-types)\n",
    "- [Types for time and date](#Types-for-time-and-date)\n",
    "- [Additional data structures](#Additional-data-structures)"
   ]
  },
  {
   "cell_type": "markdown",
   "id": "a37d1281",
   "metadata": {},
   "source": [
    "## Sequence types \n",
    "\n",
    "In Python, sequences are collections of items that can be accessed by their index. The most common sequences are lists, tuples, and ranges. Together, these sequence types provide flexible and efficient ways to work with data in Python.\n",
    "\n",
    "### Ranges\n",
    "\n",
    "Ranges represent immutable sequences of numbers, typically used for generating number sequences in loops efficiently without storing all values in memory at once. The `range()` function can take one, two, or three parameters, giving you control over the generated number sequence: \n",
    "- the stop value alone\n",
    "- a start and stop value\n",
    "- a start, stop, and step value"
   ]
  },
  {
   "cell_type": "code",
   "execution_count": 16,
   "id": "3a15b013",
   "metadata": {},
   "outputs": [
    {
     "data": {
      "text/plain": [
       "range"
      ]
     },
     "execution_count": 16,
     "metadata": {},
     "output_type": "execute_result"
    }
   ],
   "source": [
    "type(range(10))"
   ]
  },
  {
   "cell_type": "code",
   "execution_count": null,
   "id": "e01b8a77",
   "metadata": {},
   "outputs": [
    {
     "data": {
      "text/plain": [
       "range(0, 10)"
      ]
     },
     "execution_count": 7,
     "metadata": {},
     "output_type": "execute_result"
    }
   ],
   "source": [
    "range(10)  # repr of a range object"
   ]
  },
  {
   "cell_type": "code",
   "execution_count": null,
   "id": "869c0076",
   "metadata": {},
   "outputs": [
    {
     "data": {
      "text/plain": [
       "[0, 1, 2, 3, 4, 5, 6, 7, 8, 9]"
      ]
     },
     "execution_count": 8,
     "metadata": {},
     "output_type": "execute_result"
    }
   ],
   "source": [
    "list(range(10))  # stop value alone"
   ]
  },
  {
   "cell_type": "code",
   "execution_count": null,
   "id": "3b687a52",
   "metadata": {},
   "outputs": [
    {
     "data": {
      "text/plain": [
       "[1, 2, 3, 4, 5, 6, 7, 8, 9]"
      ]
     },
     "execution_count": 9,
     "metadata": {},
     "output_type": "execute_result"
    }
   ],
   "source": [
    "list(range(1, 10))  # start and stop value"
   ]
  },
  {
   "cell_type": "code",
   "execution_count": 10,
   "id": "025795c5",
   "metadata": {},
   "outputs": [
    {
     "data": {
      "text/plain": [
       "[1, 3, 5, 7, 9]"
      ]
     },
     "execution_count": 10,
     "metadata": {},
     "output_type": "execute_result"
    }
   ],
   "source": [
    "list(range(1, 10, 2))  # start, stop, step"
   ]
  },
  {
   "cell_type": "markdown",
   "id": "d88c7033",
   "metadata": {},
   "source": [
    "### Lists\n",
    "\n",
    "Lists are mutable, allowing you to add, remove, or change elements, making them ideal for general-purpose data storage.\n",
    "\n",
    "#### Common Sequence Operations\n",
    "\n",
    "Python supports common sequence operations like indexing, slicing, concatenation, repetition, and checking membership, which work consistently across lists, tuples, and _strings_.\n",
    "\n",
    "| Operation | Description |\n",
    "|-----------|-------------|\n",
    "| `x in s` | Check if `x` is in `s` |\n",
    "| `x not in sseq` | Check if `x` is not in `s` |\n",
    "| `s + t` | Concatenate sequences `s` and `t` |\n",
    "| `s * n` or `n * s` | Repeat sequence `s` `n` times |\n",
    "| `s[i]` | Access the `i`-th element of sequence `s` |\n",
    "| `s[i:j]` | Slice sequence `s` from index `i` to `j` |\n",
    "| `s[i:j:k]` | Slice sequence `s` from index `i` to `j`, stepping by `k` |\n",
    "| `len(s)` | Get the length of sequence `s` |\n",
    "| `min(s)` | Get the minimum value in sequence `s` |\n",
    "| `max(s)` | Get the maximum value in sequence `s` |\n",
    "| `s.index(x,[start[, end]])` | Get the index of the first occurrence of `x` in `s`, optionally within a specified range |\n",
    "| `s.count(x)` | Count the occurrences of `x` in sequence `s` |"
   ]
  },
  {
   "cell_type": "code",
   "execution_count": 45,
   "id": "6f3be6cf",
   "metadata": {},
   "outputs": [
    {
     "data": {
      "text/plain": [
       "[0, 1, 2, 3, 4, 5, 6, 7, 8, 9]"
      ]
     },
     "execution_count": 45,
     "metadata": {},
     "output_type": "execute_result"
    }
   ],
   "source": [
    "nums = list(range(10))\n",
    "nums"
   ]
  },
  {
   "cell_type": "markdown",
   "id": "a2b0291f",
   "metadata": {},
   "source": [
    "The `in` and `not in` operators are used to check whether an item exists within a sequence. Avoid using `not x in s`."
   ]
  },
  {
   "cell_type": "code",
   "execution_count": 46,
   "id": "faca89c7",
   "metadata": {},
   "outputs": [
    {
     "name": "stdout",
     "output_type": "stream",
     "text": [
      "True\n",
      "True\n"
     ]
    }
   ],
   "source": [
    "print(0 in nums)\n",
    "print(10 not in nums)"
   ]
  },
  {
   "cell_type": "markdown",
   "id": "67ec574b",
   "metadata": {},
   "source": [
    "In Python, the `+` operator concatenates sequences, joining them together, while the `*` operator repeats a sequence a specified number of times."
   ]
  },
  {
   "cell_type": "code",
   "execution_count": 47,
   "id": "e5dfcc21",
   "metadata": {},
   "outputs": [
    {
     "name": "stdout",
     "output_type": "stream",
     "text": [
      "[0, 1, 2, 3, 4, 5, 6, 7, 8, 9, 0, 1, 2, 3, 4, 5, 6, 7, 8, 9]\n",
      "[0, 1, 2, 3, 4, 5, 6, 7, 8, 9, 0, 1, 2, 3, 4, 5, 6, 7, 8, 9, 0, 1, 2, 3, 4, 5, 6, 7, 8, 9]\n"
     ]
    }
   ],
   "source": [
    "print(nums + s)\n",
    "print(nums * 3)"
   ]
  },
  {
   "cell_type": "markdown",
   "id": "db535bcf",
   "metadata": {},
   "source": [
    "The `min()` and `max()` functions return the smallest and largest items in a sequence, while `len()` returns the number of elements in the sequence."
   ]
  },
  {
   "cell_type": "code",
   "execution_count": 48,
   "id": "ad23fd6c",
   "metadata": {},
   "outputs": [
    {
     "name": "stdout",
     "output_type": "stream",
     "text": [
      "0\n",
      "9\n",
      "10\n"
     ]
    }
   ],
   "source": [
    "print(min(nums))\n",
    "print(max(nums))\n",
    "print(len(nums))"
   ]
  },
  {
   "cell_type": "markdown",
   "id": "f3df257c",
   "metadata": {},
   "source": [
    "The `key` keyword argument in `max()` and `min()` allows you to specify a function to determine the value used for comparison, enabling custom sorting criteria when finding the largest or smallest item."
   ]
  },
  {
   "cell_type": "code",
   "execution_count": 49,
   "id": "d3ad378c",
   "metadata": {},
   "outputs": [
    {
     "name": "stdout",
     "output_type": "stream",
     "text": [
      "Alice\n",
      "Charlie\n"
     ]
    }
   ],
   "source": [
    "names = [\"Alice\", \"Bob\", \"Charlie\"]\n",
    "\n",
    "print(min(names))  # min by alphabetical order\n",
    "print(max(names))  # max by alphabetical order"
   ]
  },
  {
   "cell_type": "code",
   "execution_count": 50,
   "id": "66b5796d",
   "metadata": {},
   "outputs": [
    {
     "name": "stdout",
     "output_type": "stream",
     "text": [
      "Bob\n",
      "Charlie\n"
     ]
    }
   ],
   "source": [
    "print(min(names, key=len))  # min by length of name\n",
    "print(max(names, key=len))  # max by length of name"
   ]
  },
  {
   "cell_type": "markdown",
   "id": "9bb748ae",
   "metadata": {},
   "source": [
    "The `.index()` method returns the position of the first occurrence of a value in a sequence, while the `.count()` method returns the number of times a value appears in the sequence."
   ]
  },
  {
   "cell_type": "code",
   "execution_count": 51,
   "id": "419595a2",
   "metadata": {},
   "outputs": [
    {
     "name": "stdout",
     "output_type": "stream",
     "text": [
      "5\n",
      "1\n"
     ]
    }
   ],
   "source": [
    "print(nums.index(5))\n",
    "print(nums.count(5))"
   ]
  },
  {
   "cell_type": "markdown",
   "id": "1bf23ba2",
   "metadata": {},
   "source": [
    "#### Indexing and Slicing\n",
    "\n",
    "In Python, indexing allows you to access individual elements in a sequence using their position, with indices starting at 0 for the first item. Negative indices can be used to access elements from the end of the sequence. Slicing lets you extract a range of elements by specifying a start, stop, and optional step, creating a new subsequence without modifying the original."
   ]
  },
  {
   "cell_type": "code",
   "execution_count": 52,
   "id": "508b1c04",
   "metadata": {},
   "outputs": [
    {
     "name": "stdout",
     "output_type": "stream",
     "text": [
      "1\n",
      "9\n"
     ]
    }
   ],
   "source": [
    "print(nums[1]) # second element\n",
    "print(nums[-1]) # last element"
   ]
  },
  {
   "cell_type": "markdown",
   "id": "d74607b4",
   "metadata": {},
   "source": [
    "follwing is are a few slicing example:"
   ]
  },
  {
   "cell_type": "code",
   "execution_count": 53,
   "id": "daeae466",
   "metadata": {},
   "outputs": [
    {
     "data": {
      "text/plain": [
       "[2, 3, 4, 5, 6, 7, 8, 9]"
      ]
     },
     "execution_count": 53,
     "metadata": {},
     "output_type": "execute_result"
    }
   ],
   "source": [
    "nums[2:]  # slice from index 2 to the end"
   ]
  },
  {
   "cell_type": "code",
   "execution_count": null,
   "id": "897be0a1",
   "metadata": {},
   "outputs": [
    {
     "data": {
      "text/plain": [
       "[0, 1]"
      ]
     },
     "execution_count": 54,
     "metadata": {},
     "output_type": "execute_result"
    }
   ],
   "source": [
    "nums[:2]  # slice from the start to index 2 (exclusive)"
   ]
  },
  {
   "cell_type": "code",
   "execution_count": 61,
   "id": "b70022cf",
   "metadata": {},
   "outputs": [
    {
     "data": {
      "text/plain": [
       "[8, 9]"
      ]
     },
     "execution_count": 61,
     "metadata": {},
     "output_type": "execute_result"
    }
   ],
   "source": [
    "nums[-2:]  # slice from the second last element to the end"
   ]
  },
  {
   "cell_type": "code",
   "execution_count": null,
   "id": "04a19d21",
   "metadata": {},
   "outputs": [
    {
     "data": {
      "text/plain": [
       "[2, 3, 4]"
      ]
     },
     "execution_count": 55,
     "metadata": {},
     "output_type": "execute_result"
    }
   ],
   "source": [
    "nums[2:5] # slice from index 2 to 5 (exclusive)"
   ]
  },
  {
   "cell_type": "code",
   "execution_count": 56,
   "id": "970b1c9d",
   "metadata": {},
   "outputs": [
    {
     "data": {
      "text/plain": [
       "[0, 2, 4, 6, 8]"
      ]
     },
     "execution_count": 56,
     "metadata": {},
     "output_type": "execute_result"
    }
   ],
   "source": [
    "nums[::2]  # slice every second element"
   ]
  },
  {
   "cell_type": "code",
   "execution_count": null,
   "id": "4f49c1ab",
   "metadata": {},
   "outputs": [
    {
     "data": {
      "text/plain": [
       "[1, 3, 5, 7, 9]"
      ]
     },
     "execution_count": 57,
     "metadata": {},
     "output_type": "execute_result"
    }
   ],
   "source": [
    "nums[1::2]  # slice every second element starting from index 1"
   ]
  },
  {
   "cell_type": "code",
   "execution_count": 58,
   "id": "6e7e1940",
   "metadata": {},
   "outputs": [
    {
     "data": {
      "text/plain": [
       "[1, 3, 5]"
      ]
     },
     "execution_count": 58,
     "metadata": {},
     "output_type": "execute_result"
    }
   ],
   "source": [
    "nums[1:7:2]  # slice from index 1 to 7 (exclusive), every second element"
   ]
  },
  {
   "cell_type": "markdown",
   "id": "0d39c828",
   "metadata": {},
   "source": []
  },
  {
   "cell_type": "code",
   "execution_count": null,
   "id": "98661b86",
   "metadata": {},
   "outputs": [],
   "source": []
  },
  {
   "cell_type": "code",
   "execution_count": null,
   "id": "87a9adc8",
   "metadata": {},
   "outputs": [],
   "source": []
  },
  {
   "cell_type": "code",
   "execution_count": null,
   "id": "88840027",
   "metadata": {},
   "outputs": [],
   "source": []
  },
  {
   "cell_type": "code",
   "execution_count": null,
   "id": "5d97e490",
   "metadata": {},
   "outputs": [],
   "source": []
  },
  {
   "cell_type": "code",
   "execution_count": null,
   "id": "787d1006",
   "metadata": {},
   "outputs": [],
   "source": [
    "reversed = [::-1] code golf"
   ]
  },
  {
   "cell_type": "markdown",
   "id": "06ce4f2b",
   "metadata": {},
   "source": [
    "### Tuples\n",
    "\n",
    "Tuples are immutable sequences, meaning their contents cannot be changed after creation, which is useful for fixed collections of items or when you want to ensure data integrity."
   ]
  },
  {
   "cell_type": "code",
   "execution_count": 18,
   "id": "9541b4e0",
   "metadata": {},
   "outputs": [
    {
     "data": {
      "text/plain": [
       "(tuple, tuple, tuple, tuple)"
      ]
     },
     "execution_count": 18,
     "metadata": {},
     "output_type": "execute_result"
    }
   ],
   "source": [
    "t1 = ()\n",
    "t2 = 1, # or t2 = (1,)\n",
    "t3 = 1, 2  # or t3 = (1, 2)  \n",
    "t4 = tuple([1, 2, 3])\n",
    "\n",
    "type(t1), type(t2), type(t3), type(t4)"
   ]
  },
  {
   "cell_type": "markdown",
   "id": "bbf3c200",
   "metadata": {},
   "source": [
    "In Python, unpacking allows you to assign elements from a sequence to multiple variables in a single statement, making your code cleaner and more readable. An example is the divmod operator, which returns both the quotient and remainder of a division operation:"
   ]
  },
  {
   "cell_type": "code",
   "execution_count": 21,
   "id": "e3df57b4",
   "metadata": {},
   "outputs": [
    {
     "name": "stdout",
     "output_type": "stream",
     "text": [
      "<class 'tuple'> (3, 1)\n"
     ]
    }
   ],
   "source": [
    "result = divmod(10, 3)\n",
    "print(type(result), result)"
   ]
  },
  {
   "cell_type": "code",
   "execution_count": 20,
   "id": "b3ba65b6",
   "metadata": {},
   "outputs": [
    {
     "name": "stdout",
     "output_type": "stream",
     "text": [
      "3 1\n"
     ]
    }
   ],
   "source": [
    "quotient, remainder = divmod(10, 3)\n",
    "print(quotient, remainder)"
   ]
  },
  {
   "cell_type": "markdown",
   "id": "b1ab6974",
   "metadata": {},
   "source": [
    "In Python, you can unpack arbitrarily nested sequences, meaning you can assign values from nested structures like in the following example:"
   ]
  },
  {
   "cell_type": "code",
   "execution_count": 23,
   "id": "b508e36d",
   "metadata": {},
   "outputs": [
    {
     "name": "stdout",
     "output_type": "stream",
     "text": [
      "1 2 3\n"
     ]
    }
   ],
   "source": [
    "a, (b, c) = 1, (2, 3)\n",
    "print(a, b, c)"
   ]
  },
  {
   "cell_type": "markdown",
   "id": "442c0ade",
   "metadata": {},
   "source": [
    "Or you can use the `*` operator to unpack a sequence into a variable number of elements, which is particularly useful when you want to capture the remaining elements in a sequence:"
   ]
  },
  {
   "cell_type": "code",
   "execution_count": 27,
   "id": "058a6289",
   "metadata": {},
   "outputs": [
    {
     "name": "stdout",
     "output_type": "stream",
     "text": [
      "1 2 [3, 4] 5\n"
     ]
    }
   ],
   "source": [
    "a, b, *c, d = 1, 2, 3, 4, 5\n",
    "print(a, b, c, d)"
   ]
  },
  {
   "cell_type": "markdown",
   "id": "b6238629",
   "metadata": {},
   "source": [
    "### Binary Sequence Types \n",
    "\n",
    "In addition to lists, tuples, and ranges, there are also the binary sequence types bytes and bytearray for handling binary data in Python.\n",
    "* [Bytes](https://docs.python.org/3/library/stdtypes.html#bytes-objects): Immutable sequences of bytes for binary data.\n",
    "* [Bytearray](https://docs.python.org/3/library/stdtypes.html#bytearray-objects): Mutable sequences of bytes, allowing modification of binary data."
   ]
  },
  {
   "cell_type": "markdown",
   "id": "b396aec9",
   "metadata": {},
   "source": [
    "## Set types\n",
    "set frozentset"
   ]
  },
  {
   "cell_type": "markdown",
   "id": "da9e6c8c",
   "metadata": {},
   "source": [
    "## Mapping types\n",
    "dict"
   ]
  },
  {
   "cell_type": "markdown",
   "id": "bed21bf2",
   "metadata": {},
   "source": [
    "## Types for time and date \n",
    "datetime, date, time, timedelta, tzinfo, timezone, zoneinfo, calendar"
   ]
  },
  {
   "cell_type": "markdown",
   "id": "ed69ce48",
   "metadata": {},
   "source": [
    "## Additional data structures\n",
    "\n",
    "https://docs.python.org/3/library/collections.abc.html\n",
    "https://docs.python.org/3/library/heapq.html\n",
    "https://docs.python.org/3/library/bisect.html\n",
    "https://docs.python.org/3/library/array.html"
   ]
  },
  {
   "cell_type": "markdown",
   "id": "fb2dbb7c",
   "metadata": {},
   "source": [
    "---\n",
    "\n",
    "Lecture: AI I - Basics \n",
    "\n",
    "Next: [**Chapter 2.3: Control Flow**](../02_python/03_control_flow.ipynb)"
   ]
  }
 ],
 "metadata": {
  "kernelspec": {
   "display_name": ".venv",
   "language": "python",
   "name": "python3"
  },
  "language_info": {
   "codemirror_mode": {
    "name": "ipython",
    "version": 3
   },
   "file_extension": ".py",
   "mimetype": "text/x-python",
   "name": "python",
   "nbconvert_exporter": "python",
   "pygments_lexer": "ipython3",
   "version": "3.12.11"
  }
 },
 "nbformat": 4,
 "nbformat_minor": 5
}

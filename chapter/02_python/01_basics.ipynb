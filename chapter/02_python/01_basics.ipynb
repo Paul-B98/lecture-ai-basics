{
 "cells": [
  {
   "cell_type": "markdown",
   "id": "85b9dd3c",
   "metadata": {},
   "source": [
    "Lecture: AI I - Basics \n",
    "\n",
    "Previous:\n",
    "[**Chapter 1.1: Jupyter Notebook Basics**](../01_prerequisites/01_basics.ipynb)\n",
    "\n",
    "---"
   ]
  },
  {
   "cell_type": "markdown",
   "id": "519c7fe0",
   "metadata": {},
   "source": [
    "# Chapter 2.1: Python Basics\n",
    "\n",
    "- [Python](#Python)\n",
    "- [Variables](#Variables)\n",
    "- [Basic data types](#Basic-data-types)\n",
    "    - [Boolean type and operators](#Boolean-type-and-operators)\n",
    "    - [Numeric types and operators](#Numeric-types-and-operators)\n",
    "    - [String type and operators](#String-type-and-operators)\n",
    "- [String formatting](#String-formatting)\n",
    "- [Built-in functions](#Built-in-functions)"
   ]
  },
  {
   "cell_type": "markdown",
   "id": "56b243d2",
   "metadata": {},
   "source": [
    "## Python"
   ]
  },
  {
   "cell_type": "markdown",
   "id": "34ef627a",
   "metadata": {},
   "source": [
    "## Variables"
   ]
  },
  {
   "cell_type": "markdown",
   "id": "15f78c62",
   "metadata": {},
   "source": [
    "## Basic data types"
   ]
  },
  {
   "cell_type": "markdown",
   "id": "2e3636ce",
   "metadata": {},
   "source": [
    "### Boolean type and operators"
   ]
  },
  {
   "cell_type": "markdown",
   "id": "2c6c7841",
   "metadata": {},
   "source": [
    "### Numeric types and operators"
   ]
  },
  {
   "cell_type": "markdown",
   "id": "a97da626",
   "metadata": {},
   "source": [
    "### String type and operators"
   ]
  },
  {
   "cell_type": "markdown",
   "id": "df391eea",
   "metadata": {},
   "source": [
    "## String formatting"
   ]
  },
  {
   "cell_type": "markdown",
   "id": "055c8ef7",
   "metadata": {},
   "source": [
    "## Built-in functions"
   ]
  },
  {
   "cell_type": "markdown",
   "id": "3464ff25",
   "metadata": {},
   "source": [
    "---\n",
    "\n",
    "Lecture: AI I - Basics \n",
    "\n",
    "Next: [**Chapter 2.2: Data Structures**](../02_python/02_data_structures.ipynb)"
   ]
  }
 ],
 "metadata": {
  "kernelspec": {
   "display_name": ".venv",
   "language": "python",
   "name": "python3"
  },
  "language_info": {
   "name": "python",
   "version": "3.12.11"
  }
 },
 "nbformat": 4,
 "nbformat_minor": 5
}

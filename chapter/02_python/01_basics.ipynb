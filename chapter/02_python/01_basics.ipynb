{
 "cells": [
  {
   "cell_type": "markdown",
   "id": "85b9dd3c",
   "metadata": {},
   "source": [
    "Lecture: AI I - Basics \n",
    "\n",
    "Previous:\n",
    "[**Chapter 1.1: Jupyter Notebook Basics**](../01_prerequisites/01_basics.ipynb)\n",
    "\n",
    "---"
   ]
  },
  {
   "cell_type": "markdown",
   "id": "519c7fe0",
   "metadata": {},
   "source": [
    "# Chapter 2.1: Python Basics\n",
    "\n",
    "- [Python](#Python)\n",
    "- [Variables](#Variables)\n",
    "- [Basic data types](#Basic-data-types)\n",
    "    - [Numeric types and operators](#numeric-type-and-operators)\n",
    "    - [Boolean type and operators](#boolean-types-and-operators)\n",
    "    - [String type and operators](#String-type-and-operators)\n",
    "- [String formatting](#String-formatting)\n",
    "- [Built-in functions](#Built-in-functions)"
   ]
  },
  {
   "cell_type": "markdown",
   "id": "56b243d2",
   "metadata": {},
   "source": [
    "## Python\n",
    "### The Zem of Python\n",
    "\n",
    "The Zen of Python, authored by Tim Peters, is a collection of guiding principles that influence Python’s design philosophy and programming style. It emphasises simplicity, readability, and clarity. These principles encourage developers to write clean, understandable, and maintainable code rather than overly clever or complicated solutions. You can view the full Zen by running import this in a Python interpreter, reminding yourself of these best practices whenever writing Python code for data analysis, AI, or general software development."
   ]
  },
  {
   "cell_type": "code",
   "execution_count": 1,
   "id": "787a3967",
   "metadata": {},
   "outputs": [
    {
     "name": "stdout",
     "output_type": "stream",
     "text": [
      "The Zen of Python, by Tim Peters\n",
      "\n",
      "Beautiful is better than ugly.\n",
      "Explicit is better than implicit.\n",
      "Simple is better than complex.\n",
      "Complex is better than complicated.\n",
      "Flat is better than nested.\n",
      "Sparse is better than dense.\n",
      "Readability counts.\n",
      "Special cases aren't special enough to break the rules.\n",
      "Although practicality beats purity.\n",
      "Errors should never pass silently.\n",
      "Unless explicitly silenced.\n",
      "In the face of ambiguity, refuse the temptation to guess.\n",
      "There should be one-- and preferably only one --obvious way to do it.\n",
      "Although that way may not be obvious at first unless you're Dutch.\n",
      "Now is better than never.\n",
      "Although never is often better than *right* now.\n",
      "If the implementation is hard to explain, it's a bad idea.\n",
      "If the implementation is easy to explain, it may be a good idea.\n",
      "Namespaces are one honking great idea -- let's do more of those!\n"
     ]
    }
   ],
   "source": [
    "import this"
   ]
  },
  {
   "cell_type": "markdown",
   "id": "feed1c38",
   "metadata": {},
   "source": [
    "### Python version\n",
    "\n",
    "Python is a versatile, high-level programming language widely used in data analysis, AI, and software development. It has evolved significantly since its first official release, Python 1.0 in 1994, which established its core features. In 2000, Python 2.0 was released. The last version of the Python 2.x series, was Python 2.7 with a end of life support until January 1, 2020. Python 3.0, released in December 2008, which brought backward-incompatible changes to improve consistency, such as treating print as a function and supporting Unicode by default. The current version of Python is 3.13 released in 2024.\n",
    "\n",
    "For this module, ensure your environment uses Python 3.12 to remain compatible with all examples and exercises."
   ]
  },
  {
   "cell_type": "code",
   "execution_count": 2,
   "id": "c8f59197",
   "metadata": {},
   "outputs": [
    {
     "name": "stdout",
     "output_type": "stream",
     "text": [
      "Python 3.12.11\n"
     ]
    }
   ],
   "source": [
    "!python --version"
   ]
  },
  {
   "cell_type": "markdown",
   "id": "34ef627a",
   "metadata": {},
   "source": [
    "## Variables\n",
    "\n",
    "In Python, variables are names that store data values. You can assign any value to a variable using the equals sign (`=`), and the type is determined automatically based on what you assign (this is called _dynamic typing_):"
   ]
  },
  {
   "cell_type": "code",
   "execution_count": 4,
   "id": "b44fa29e",
   "metadata": {},
   "outputs": [
    {
     "data": {
      "text/plain": [
       "(1, 3.141, 'Hello, World!', True)"
      ]
     },
     "execution_count": 4,
     "metadata": {},
     "output_type": "execute_result"
    }
   ],
   "source": [
    "a = 1\n",
    "b = 3.141\n",
    "c = \"Hello, World!\"\n",
    "d = True\n",
    "\n",
    "a, b, c, d"
   ]
  },
  {
   "cell_type": "markdown",
   "id": "4d7b5eaf",
   "metadata": {},
   "source": [
    "You can assign multiple variables at the same time, for example:"
   ]
  },
  {
   "cell_type": "code",
   "execution_count": 6,
   "id": "9e7a4477",
   "metadata": {},
   "outputs": [
    {
     "data": {
      "text/plain": [
       "(10, 20)"
      ]
     },
     "execution_count": 6,
     "metadata": {},
     "output_type": "execute_result"
    }
   ],
   "source": [
    "a = b = 10\n",
    "# Or\n",
    "a, b = 10, 20\n",
    "\n",
    "a, b"
   ]
  },
  {
   "cell_type": "markdown",
   "id": "15f78c62",
   "metadata": {},
   "source": [
    "## Basic data types"
   ]
  },
  {
   "cell_type": "markdown",
   "id": "2e3636ce",
   "metadata": {},
   "source": [
    "### Numeric type and operators\n",
    "\n",
    "Python has three main [numeric types](https://docs.python.org/3/library/stdtypes.html#numeric-types-int-float-complex): \n",
    "- integers (int), which represent whole numbers like 5 or -3\n",
    "- floating-point numbers (float), which represent real numbers with decimals like 3.14 or -0.01\n",
    "- complex numbers (complex), used for calculations involving imaginary numbers, written in the form a + bj, such as 2 + 3j \n",
    "\n",
    "These types allow you to perform a wide range of mathematical operations easily in Python."
   ]
  },
  {
   "cell_type": "code",
   "execution_count": 7,
   "id": "4a5a8217",
   "metadata": {},
   "outputs": [
    {
     "data": {
      "text/plain": [
       "int"
      ]
     },
     "execution_count": 7,
     "metadata": {},
     "output_type": "execute_result"
    }
   ],
   "source": [
    "type(1)"
   ]
  },
  {
   "cell_type": "code",
   "execution_count": 8,
   "id": "96c12878",
   "metadata": {},
   "outputs": [
    {
     "data": {
      "text/plain": [
       "float"
      ]
     },
     "execution_count": 8,
     "metadata": {},
     "output_type": "execute_result"
    }
   ],
   "source": [
    "type(1.1)"
   ]
  },
  {
   "cell_type": "code",
   "execution_count": 9,
   "id": "60d85ed6",
   "metadata": {},
   "outputs": [
    {
     "data": {
      "text/plain": [
       "complex"
      ]
     },
     "execution_count": 9,
     "metadata": {},
     "output_type": "execute_result"
    }
   ],
   "source": [
    "type(1j)"
   ]
  },
  {
   "cell_type": "markdown",
   "id": "2633bd7c",
   "metadata": {},
   "source": [
    "#### Operation\n",
    "\n",
    "These symbols are Python’s basic arithmetic operators, allowing you to perform addition, subtraction, multiplication, division, modulo operations, integer division, and exponentiation in your calculations.\n",
    "\n",
    "| Operation | Meaning |\n",
    "|-----------|---------|\n",
    "| `x + y`       | Addition |\n",
    "| `x - y`       | Subtraction |\n",
    "| `x * y`       | Multiplication |\n",
    "| `x / y`       | Division (returns a float) |\n",
    "| `x // y`      | Floor division (returns the largest integer less than or equal to the result) |\n",
    "| `x % y`       | Modulus (returns the remainder of the division) |\n",
    "| `x ** y`      | Exponentiation (x raised to the power of y\n",
    "| `-x`          | Negation (changes the sign of x) |"
   ]
  },
  {
   "cell_type": "code",
   "execution_count": 41,
   "id": "25a9429f",
   "metadata": {},
   "outputs": [
    {
     "name": "stdout",
     "output_type": "stream",
     "text": [
      "45.14\n",
      "38.86\n",
      "131.88\n",
      "13.375796178343949\n",
      "13.0\n",
      "1.1799999999999984\n",
      "1764 1764\n",
      "6.48074069840786\n",
      "-42\n"
     ]
    }
   ],
   "source": [
    "x = 42\n",
    "y = 3.14\n",
    "\n",
    "print(x + y)\n",
    "print(x - y)\n",
    "print(x * y)\n",
    "print(x / y)\n",
    "print(x // y)  # Floor division\n",
    "print(x % y)   # Modulus\n",
    "print(x ** 2, pow(x, 2))  # Exponentiation\n",
    "print(x ** 0.5)  # Square root\n",
    "print(-x)"
   ]
  },
  {
   "cell_type": "code",
   "execution_count": 51,
   "id": "cbf0e10f",
   "metadata": {},
   "outputs": [
    {
     "data": {
      "text/plain": [
       "84"
      ]
     },
     "execution_count": 51,
     "metadata": {},
     "output_type": "execute_result"
    }
   ],
   "source": [
    "x += 42\n",
    "x"
   ]
  },
  {
   "cell_type": "markdown",
   "id": "d90010f4",
   "metadata": {},
   "source": [
    "#### Bitwise operations \n",
    "[Bitwise operations](https://docs.python.org/3/library/stdtypes.html#bitwise-operations-on-integer-types) in Python allow you to manipulate individual bits of integers, which can be useful for low-level programming tasks. The following table lists the bitwise operators available in Python:\n",
    "\n",
    "| Operator | Meaning |\n",
    "|----------|---------|\n",
    "| `x \\| y`       | Bitwise OR (sets each bit to 1 if either bit is 1) |\n",
    "| `x & y`       | Bitwise AND (sets each bit to 1 if both bits are 1) |\n",
    "| `x ^ y`       | Bitwise XOR (sets each bit to 1 if only one of the bits is 1) |\n",
    "| `~x`       | Bitwise NOT (inverts all bits) |\n",
    "| `x << y`       | Left shift (shifts bits of x to the left by y positions, filling with zeros) |\n",
    "| `x >> y`       | Right shift (shifts bits of x to the right by y positions, filling with the sign bit for signed integers) |"
   ]
  },
  {
   "cell_type": "code",
   "execution_count": 53,
   "id": "da9fa9d7",
   "metadata": {},
   "outputs": [
    {
     "data": {
      "text/plain": [
       "'0b11'"
      ]
     },
     "execution_count": 53,
     "metadata": {},
     "output_type": "execute_result"
    }
   ],
   "source": [
    "a = 0b10\n",
    "b = 0b11\n",
    "\n",
    "bin(a | b)"
   ]
  },
  {
   "cell_type": "code",
   "execution_count": 54,
   "id": "e5f20436",
   "metadata": {},
   "outputs": [
    {
     "data": {
      "text/plain": [
       "'0b10'"
      ]
     },
     "execution_count": 54,
     "metadata": {},
     "output_type": "execute_result"
    }
   ],
   "source": [
    "bin(a & b)"
   ]
  },
  {
   "cell_type": "code",
   "execution_count": 55,
   "id": "a0b117db",
   "metadata": {},
   "outputs": [
    {
     "data": {
      "text/plain": [
       "'0b1'"
      ]
     },
     "execution_count": 55,
     "metadata": {},
     "output_type": "execute_result"
    }
   ],
   "source": [
    "bin(a ^ b)"
   ]
  },
  {
   "cell_type": "code",
   "execution_count": 56,
   "id": "927ae643",
   "metadata": {},
   "outputs": [
    {
     "data": {
      "text/plain": [
       "'-0b11'"
      ]
     },
     "execution_count": 56,
     "metadata": {},
     "output_type": "execute_result"
    }
   ],
   "source": [
    "bin(~a)"
   ]
  },
  {
   "cell_type": "code",
   "execution_count": 57,
   "id": "c75a426c",
   "metadata": {},
   "outputs": [
    {
     "data": {
      "text/plain": [
       "'0b100'"
      ]
     },
     "execution_count": 57,
     "metadata": {},
     "output_type": "execute_result"
    }
   ],
   "source": [
    "bin(a << 1)"
   ]
  },
  {
   "cell_type": "code",
   "execution_count": 58,
   "id": "ebcc883e",
   "metadata": {},
   "outputs": [
    {
     "data": {
      "text/plain": [
       "'0b1'"
      ]
     },
     "execution_count": 58,
     "metadata": {},
     "output_type": "execute_result"
    }
   ],
   "source": [
    "bin(a >> 1)"
   ]
  },
  {
   "cell_type": "markdown",
   "id": "c72e50a9",
   "metadata": {},
   "source": [
    "You can convert a float to an int and convert an int to a float:"
   ]
  },
  {
   "cell_type": "code",
   "execution_count": 45,
   "id": "8e20503d",
   "metadata": {},
   "outputs": [
    {
     "data": {
      "text/plain": [
       "(3, 42.0)"
      ]
     },
     "execution_count": 45,
     "metadata": {},
     "output_type": "execute_result"
    }
   ],
   "source": [
    "int(y), float(x)"
   ]
  },
  {
   "cell_type": "markdown",
   "id": "4810b1e9",
   "metadata": {},
   "source": [
    "Python provides many built-in or math functions in the built-in [math](https://docs.python.org/3/library/math.html) module, such as math.sqrt(16) for square roots and math.sin(0) for trigonometric calculations:"
   ]
  },
  {
   "cell_type": "code",
   "execution_count": 59,
   "id": "fcbea4e4",
   "metadata": {},
   "outputs": [
    {
     "name": "stdout",
     "output_type": "stream",
     "text": [
      "4\n",
      "3\n",
      "84\n",
      "84.00595217006948\n",
      "3.14\n",
      "2\n"
     ]
    }
   ],
   "source": [
    "from math import ceil, floor\n",
    "\n",
    "print(ceil(y))  # Round up\n",
    "print(floor(y))  # Round down0\n",
    "\n",
    "print(abs(-x))\n",
    "print(abs(-x + 1j))\n",
    "print(round(y, 2))  # Round to 2 decimal places\n",
    "print(pow(3, 3, 5))  # 3^3 % 5"
   ]
  },
  {
   "cell_type": "markdown",
   "id": "ffbeafe1",
   "metadata": {},
   "source": [
    "#### Notation for binary, octal, and hexadecimal numbers\n",
    "\n",
    "In Python, you can write numbers in different bases using specific prefixes: \n",
    "- binary with 0b (e.g. 0b1010 for 10)\n",
    "- octal with 0o (e.g. 0o12 for 10)\n",
    "- hexadecimal with 0x (e.g. 0xA for 10)\n",
    "\n",
    "These notations are useful when working with low-level programming, bitwise operations, or interpreting data in various numeric systems."
   ]
  },
  {
   "cell_type": "code",
   "execution_count": 20,
   "id": "8452b066",
   "metadata": {},
   "outputs": [
    {
     "data": {
      "text/plain": [
       "(170, 170, '0b10101010')"
      ]
     },
     "execution_count": 20,
     "metadata": {},
     "output_type": "execute_result"
    }
   ],
   "source": [
    "0b10101010, int(\"0b10101010\", 2), bin(170)"
   ]
  },
  {
   "cell_type": "code",
   "execution_count": 21,
   "id": "8f1ad1d5",
   "metadata": {},
   "outputs": [
    {
     "data": {
      "text/plain": [
       "(170, 170, '0o252')"
      ]
     },
     "execution_count": 21,
     "metadata": {},
     "output_type": "execute_result"
    }
   ],
   "source": [
    "0o252, int(\"0o252\", 8), oct(170)"
   ]
  },
  {
   "cell_type": "code",
   "execution_count": 22,
   "id": "cee6b0f5",
   "metadata": {},
   "outputs": [
    {
     "data": {
      "text/plain": [
       "(170, 170, '0xaa')"
      ]
     },
     "execution_count": 22,
     "metadata": {},
     "output_type": "execute_result"
    }
   ],
   "source": [
    "0xAA, int(\"0xAA\", 16), hex(170)"
   ]
  },
  {
   "cell_type": "markdown",
   "id": "04a0a4c7",
   "metadata": {},
   "source": [
    "# Decimal as additional numeric type\n",
    "\n",
    "The decimal module in Python provides the [Decimal](https://docs.python.org/3/library/decimal.html) data type for decimal floating-point arithmetic with high precision, which is especially useful for financial calculations where accuracy is critical. Unlike regular float numbers that can have small rounding errors due to binary representation, Decimal ensures precise decimal calculations."
   ]
  },
  {
   "cell_type": "code",
   "execution_count": 24,
   "id": "f330f7fd",
   "metadata": {},
   "outputs": [
    {
     "data": {
      "text/plain": [
       "0.30000000000000004"
      ]
     },
     "execution_count": 24,
     "metadata": {},
     "output_type": "execute_result"
    }
   ],
   "source": [
    "0.1 + 0.2"
   ]
  },
  {
   "cell_type": "code",
   "execution_count": 26,
   "id": "8575861a",
   "metadata": {},
   "outputs": [
    {
     "data": {
      "text/plain": [
       "Decimal('0.3')"
      ]
     },
     "execution_count": 26,
     "metadata": {},
     "output_type": "execute_result"
    }
   ],
   "source": [
    "from decimal import Decimal\n",
    "\n",
    "Decimal(\"0.1\") + Decimal(\"0.2\")"
   ]
  },
  {
   "cell_type": "markdown",
   "id": "2c6c7841",
   "metadata": {},
   "source": [
    "### Boolean types and operators\n",
    "\n",
    "Boolean values in Python represent truth values and can be either `True` or `False`. They are often used in conditional statements and logical operations."
   ]
  },
  {
   "cell_type": "code",
   "execution_count": 19,
   "id": "0adf9fc0",
   "metadata": {},
   "outputs": [
    {
     "data": {
      "text/plain": [
       "(bool, bool)"
      ]
     },
     "execution_count": 19,
     "metadata": {},
     "output_type": "execute_result"
    }
   ],
   "source": [
    "type(True), type(False)"
   ]
  },
  {
   "cell_type": "markdown",
   "id": "81b0af1a",
   "metadata": {},
   "source": [
    "Python provides several [operators](https://docs.python.org/3/library/stdtypes.html#boolean-operations-and-or-not) for working with boolean values:\n",
    "\n",
    "| Operation | Meaning |\n",
    "|----|---|\n",
    "| `and`  | Logical AND (conjunction)|\n",
    "| `or`  | Logical OR (disjunction) |\n",
    "| `not`  | \tLogical NOT (negation) |"
   ]
  },
  {
   "cell_type": "code",
   "execution_count": 28,
   "id": "4cd61871",
   "metadata": {},
   "outputs": [
    {
     "data": {
      "text/plain": [
       "(True, True, True)"
      ]
     },
     "execution_count": 28,
     "metadata": {},
     "output_type": "execute_result"
    }
   ],
   "source": [
    "True and True, True or False, not False"
   ]
  },
  {
   "cell_type": "markdown",
   "id": "624af943",
   "metadata": {},
   "source": [
    "in addition to these logical operators, Python also supports [comparison operators](https://docs.python.org/3/library/stdtypes.html#comparisons) that return boolean values based on the comparison of two values:\n",
    "\n",
    "| Operation | Meaning |\n",
    "|----|---|\n",
    "| `<`  | strictly less than |\n",
    "| `<=`  | less than or equal |\n",
    "| `>`  | strictly greater than |\n",
    "| `>=`  | greater than or equal |\n",
    "| `==`  | equal |\n",
    "| `!=`  | not equal |\n",
    "| `is`  | object identity |\n",
    "| `is not`  | negated object identity |\n",
    "| `in`  | membership test (checks if a value is in a collection) |\n",
    "| `not in`  | negated membership test (checks if a value is not in a collection) |\n",
    "\n"
   ]
  },
  {
   "cell_type": "code",
   "execution_count": 33,
   "id": "a578223b",
   "metadata": {},
   "outputs": [
    {
     "name": "stdout",
     "output_type": "stream",
     "text": [
      "True\n",
      "True\n",
      "True\n",
      "True\n",
      "True\n",
      "True\n"
     ]
    }
   ],
   "source": [
    "print(1 < 2)\n",
    "print(1 <= 1)\n",
    "print(1 > 0)\n",
    "print(1 >= 1)\n",
    "print(1 == 1)\n",
    "print(1 != 2)"
   ]
  },
  {
   "cell_type": "code",
   "execution_count": 37,
   "id": "6e794e94",
   "metadata": {},
   "outputs": [
    {
     "name": "stdout",
     "output_type": "stream",
     "text": [
      "True\n",
      "True\n"
     ]
    }
   ],
   "source": [
    "print(3 > 2 > 1)\n",
    "print(1 < 2 < 3)"
   ]
  },
  {
   "cell_type": "markdown",
   "id": "a97da626",
   "metadata": {},
   "source": [
    "### String type and operators\n",
    "\n",
    "In Python, strings are sequences of characters used to store and manipulate text data. you can create them with:\n",
    "- single quotes ('Hello')\n",
    "- double quotes (\"World\")\n",
    "- triple quotes (\"\"\"This is a multiline string\"\"\") for multiline text."
   ]
  },
  {
   "cell_type": "code",
   "execution_count": 11,
   "id": "42a1fc57",
   "metadata": {},
   "outputs": [
    {
     "data": {
      "text/plain": [
       "str"
      ]
     },
     "execution_count": 11,
     "metadata": {},
     "output_type": "execute_result"
    }
   ],
   "source": [
    "type(\"Hello, World!\")"
   ]
  },
  {
   "cell_type": "code",
   "execution_count": 2,
   "id": "b3367660",
   "metadata": {},
   "outputs": [
    {
     "name": "stdout",
     "output_type": "stream",
     "text": [
      "Hello, World!\n",
      "Hello, World!\n",
      "Hello, \n",
      "World!\n",
      "Hello, World!\n"
     ]
    }
   ],
   "source": [
    "s0 = \"Hello, World!\"\n",
    "s1 = 'Hello, World!'\n",
    "s2 = \"\"\"Hello, \n",
    "World!\"\"\"\n",
    "s3 = (\n",
    "    \"Hello, \"\n",
    "    \"World!\"\n",
    ")\n",
    "\n",
    "print(s0)\n",
    "print(s1)\n",
    "print(s2)\n",
    "print(s3)"
   ]
  },
  {
   "cell_type": "markdown",
   "id": "ab5facc7",
   "metadata": {},
   "source": [
    "#### String methods\n",
    "\n",
    "**Search**\n",
    "\n",
    "You can use [methods](https://docs.python.org/3/library/stdtypes.html#string-methods) like .find() and .index() keyword to search for substrings within a string and determine their positions.\n",
    "\n",
    "| Method | Description |\n",
    "|--------|-------------|\n",
    "| `str.count(sub[, start[, end]])` | Counts the occurrences of a substring in the string, optionally within a specified range |\n",
    "| `str.endswith(suffix[, start[, end]])` | Checks if the string ends with the specified suffix, optionally within a specified range |\n",
    "| `str.find(sub[, start[, end]])` | Returns the lowest index of the substring if found, otherwise -1, optionally within a specified range |\n",
    "| `str.index(sub[, start[, end]])` | Returns the lowest index of the substring if found, otherwise raises a ValueError, optionally within a specified range |\n",
    "| `str.join(iterable)` | Joins the elements of an iterable (e.g., list, tuple) into a single string, using the string as a separator |\n",
    "| `str.rfind(sub[, start[, end]])` | Returns the highest index of the substring if found, otherwise -1, optionally within a specified range |\n",
    "| `str.rindex(sub[, start[, end]])` | Returns the highest index of the substring if found, otherwise raises a ValueError, optionally within a specified range |\n",
    "| `str.startswith(prefix[, start[, end]])` | Checks if the string starts with the specified prefix, optionally within a specified range |"
   ]
  },
  {
   "cell_type": "code",
   "execution_count": 15,
   "id": "28ab7810",
   "metadata": {},
   "outputs": [
    {
     "name": "stdout",
     "output_type": "stream",
     "text": [
      "7\n",
      "True\n"
     ]
    }
   ],
   "source": [
    "print(\"Hello, World!\".find(\"World\"))\n",
    "print(\"Hello, World!\".endswith(\"!\"))"
   ]
  },
  {
   "cell_type": "markdown",
   "id": "fc3fcf7a",
   "metadata": {},
   "source": [
    "**Checks**\n",
    "\n",
    "Python strings have check [methods](https://docs.python.org/3/library/stdtypes.html#string-methods) like .isalpha(), .isdigit(), and .isalnum() to test whether a string contains only letters, only digits, or a combination of letters and numbers.\n",
    "\n",
    "| Method | Description |\n",
    "|--------|-------------|\n",
    "| `str.isalnum()` | Checks if all characters in the string are alphanumeric (letters and digits) |\n",
    "| `str.isalpha()` | Checks if all characters in the string are alphabetic (letters) |\n",
    "| `str.isascii()` | Checks if all characters in the string are ASCII characters |\n",
    "| `str.isdecimal()` | Checks if all characters in the string are decimal characters (0-9) |\n",
    "| `str.isdigit()` | Checks if all characters in the string are digits (0-9) |\n",
    "| `str.isidentifier()` | Checks if the string is a valid Python identifier (variable name) |\n",
    "| `str.islower()` | Checks if all characters in the string are lowercase |\n",
    "| `str.isnumeric()` | Checks if all characters in the string are numeric characters (0-9) |\n",
    "| `str.isprintable()` | Checks if all characters in the string are printable (not control characters) |\n",
    "| `str.isspace()` | Checks if all characters in the string are whitespace characters (spaces, tabs, newlines) |\n",
    "| `str.istitle()` | Checks if the string is in title case (first character of each word is uppercase, others are lowercase) |\n",
    "| `str.isupper()` | Checks if all characters in the string are uppercase |"
   ]
  },
  {
   "cell_type": "code",
   "execution_count": null,
   "id": "4a84f5fc",
   "metadata": {},
   "outputs": [
    {
     "name": "stdout",
     "output_type": "stream",
     "text": [
      "True\n",
      "True\n",
      "True\n"
     ]
    }
   ],
   "source": [
    "print(\"1\".isnumeric())\n",
    "print(\"Hello\".isalpha())\n",
    "print(\"HELLO\".isupper())"
   ]
  },
  {
   "cell_type": "markdown",
   "id": "2ba1b7d7",
   "metadata": {},
   "source": [
    "**Manipulation methods**\n",
    "\n",
    "Python provides string [methods](https://docs.python.org/3/library/stdtypes.html#string-methods) like .upper(), .lower(), .replace(), and .strip() to modify and clean text easily.\n",
    "\n",
    "| Method | Description |\n",
    "|--------|-------------|\n",
    "| `str.capitalize()` | Capitalizes the first character of the string |\n",
    "| `str.casefold()` | Returns a case-insensitive version of the string |\n",
    "| `str.center(width[, fillchar])` | Centers the string within a specified width, optionally filling with a specified character |\n",
    "| `str.expandtabs(tabsize=8)` | Replaces tabs in the string with spaces, using the specified tab size (default is 8) |\n",
    "| `str.format(*args, **kwargs)` | Formats the string using the specified arguments and keyword arguments |\n",
    "| `str.ljust(width[, fillchar])` | Left-justifies the string within a specified width, optionally filling with a specified character |\n",
    "| `str.lower()` | Converts all characters in the string to lowercase |\n",
    "| `str.lstrip([chars])` | Removes leading whitespace or specified characters from the string |\n",
    "| `str.partition(sep)` | Splits the string at the first occurrence of the specified separator and returns a tuple containing the part before the separator, the separator itself, and the part after it |\n",
    "| `str.removeprefix(prefix)` | Removes the specified prefix from the string if it exists |\n",
    "| `str.removesuffix(suffix)` | Removes the specified suffix from the string if it exists |\n",
    "| `str.replace(old, new, count=1)` | Replaces occurrences of a substring with another substring, optionally limiting the number of replacements |\n",
    "| `str.rjust(width[, fillchar])` | Right-justifies the string within a specified width, optionally filling with a specified character |\n",
    "| `str.rpartition(sep)` | Splits the string at the last occurrence of the specified separator and returns a tuple containing the part before the separator, the separator itself, and the part after it |\n",
    "| `str.rsplit(sep=None, maxsplit=-1)` | Splits the string into a list of substrings, starting from the right, using the specified separator and maximum number of splits |\n",
    "| `str.rstrip([chars])` | Removes trailing whitespace or specified characters from the string |\n",
    "| `str.split(sep=None, maxsplit=-1)` | Splits the string into a list of substrings using the specified separator and maximum number of splits |\n",
    "| `str.splitlines(keepends=False)` | Splits the string into a list of lines, optionally keeping the line endings |\n",
    "| `str.strip([chars])` | Removes leading and trailing whitespace or specified characters from the string |\n",
    "| `str.swapcase()` | Swaps the case of all characters in the string (uppercase to lowercase and vice versa) |\n",
    "| `str.title()` | Converts the string to title case (first character of each word is uppercase, others are lowercase) |\n",
    "| `str.upper()` | Converts all characters in the string to uppercase |\n",
    "| `str.zfill(width)` | Pads the string with zeros on the left to reach the specified width |"
   ]
  },
  {
   "cell_type": "code",
   "execution_count": 29,
   "id": "a013d3c4",
   "metadata": {},
   "outputs": [
    {
     "name": "stdout",
     "output_type": "stream",
     "text": [
      "hELLO, wORLD!\n",
      "HELLO, WORLD!\n",
      "----------------------------Hello, World!-----------------------------\n",
      "---------------------------------------------------------Hello, World!\n",
      "Hello, World!---------------------------------------------------------\n"
     ]
    }
   ],
   "source": [
    "s = \"Hello, World!\"\n",
    "print(s.swapcase())\n",
    "print(s.upper())\n",
    "print(s.center(70,'-'))\n",
    "print(s.rjust(70,'-'))\n",
    "print(s.ljust(70,'-'))"
   ]
  },
  {
   "cell_type": "markdown",
   "id": "214e9c30",
   "metadata": {},
   "source": [
    "**Additional methods**\n",
    "\n",
    "| Method | Description |\n",
    "|--------|-------------|\n",
    "| `str.encode(encoding=\"utf-8\", errors=\"strict\")` | Encodes the string into bytes using the specified encoding (default is UTF-8) and error handling scheme |\n",
    "| `str.maketrans(x[, y[, z]])` | Creates a translation table for character mapping, used with `str.translate()` |\n",
    "| `str.translate(table)` | Translates characters in the string using a translation table created with `str.maketrans()` |\n",
    "\n",
    "The [textwrap](https://docs.python.org/3/library/textwrap.html) module in Python is used to format and wrap long strings into neatly formatted paragraphs, making it easier to display text with a specific width in outputs or console applications."
   ]
  },
  {
   "cell_type": "markdown",
   "id": "df391eea",
   "metadata": {},
   "source": [
    "## String formatting\n",
    "\n",
    "In Python, there are three main ways to format strings. The oldest is C-style formatting using the % operator, which is concise but can become hard to read with complex formats. The second is the .format() method, which offers clearer syntax and more flexibility for various formatting tasks. The most modern and recommended approach is f-strings, introduced in Python 3.6, which allow expressions to be embedded directly within strings, making the code more readable and concise."
   ]
  },
  {
   "cell_type": "code",
   "execution_count": 35,
   "id": "7752e159",
   "metadata": {},
   "outputs": [],
   "source": [
    "world = \"World!\""
   ]
  },
  {
   "cell_type": "markdown",
   "id": "6cabe3d4",
   "metadata": {},
   "source": [
    "**Option 1: F-Strings:**\n",
    "\n",
    "F-strings in Python provide a concise and readable way to embed expressions directly within strings, making formatting easier and more intuitive."
   ]
  },
  {
   "cell_type": "code",
   "execution_count": 36,
   "id": "18d376fd",
   "metadata": {},
   "outputs": [
    {
     "name": "stdout",
     "output_type": "stream",
     "text": [
      "Hello, World!\n"
     ]
    }
   ],
   "source": [
    "print(f\"Hello, {world}\")"
   ]
  },
  {
   "cell_type": "markdown",
   "id": "d3dbd1a9",
   "metadata": {},
   "source": [
    "**Option 2: `str.format()` method:**\n",
    "\n",
    "The .format() method in Python allows you to insert values into strings using placeholders."
   ]
  },
  {
   "cell_type": "code",
   "execution_count": 37,
   "id": "db7e10a8",
   "metadata": {},
   "outputs": [
    {
     "name": "stdout",
     "output_type": "stream",
     "text": [
      "Hello, World!\n",
      "Hello, World!\n"
     ]
    }
   ],
   "source": [
    "print(\"Hello, {}\".format(world))\n",
    "print(\"Hello, {world}\".format(world=world))"
   ]
  },
  {
   "cell_type": "markdown",
   "id": "c565aac4",
   "metadata": {},
   "source": [
    "**Option 1: C-Style string formatting:**\n",
    "\n",
    "C-style (%) formatting in Python is an older method for inserting values into strings and is generally avoided in new code, but it is still useful in modules like [logging](https://docs.python.org/3/library/logging.html), where it defers string interpolation until needed for efficiency."
   ]
  },
  {
   "cell_type": "code",
   "execution_count": 38,
   "id": "7c1de6ca",
   "metadata": {},
   "outputs": [
    {
     "name": "stdout",
     "output_type": "stream",
     "text": [
      "Hello, World!\n",
      "Hello, World!\n"
     ]
    }
   ],
   "source": [
    "print(\"Hello, %s\" % world)\n",
    "print(\"Hello, %(world)s\" % {\"world\": world})"
   ]
  },
  {
   "cell_type": "markdown",
   "id": "055c8ef7",
   "metadata": {},
   "source": [
    "## Built-in functions"
   ]
  },
  {
   "cell_type": "code",
   "execution_count": null,
   "id": "da5e8a68",
   "metadata": {},
   "outputs": [],
   "source": []
  },
  {
   "cell_type": "markdown",
   "id": "3464ff25",
   "metadata": {},
   "source": [
    "---\n",
    "\n",
    "Lecture: AI I - Basics \n",
    "\n",
    "Next: [**Chapter 2.2: Data Structures**](../02_python/02_data_structures.ipynb)"
   ]
  }
 ],
 "metadata": {
  "kernelspec": {
   "display_name": ".venv",
   "language": "python",
   "name": "python3"
  },
  "language_info": {
   "codemirror_mode": {
    "name": "ipython",
    "version": 3
   },
   "file_extension": ".py",
   "mimetype": "text/x-python",
   "name": "python",
   "nbconvert_exporter": "python",
   "pygments_lexer": "ipython3",
   "version": "3.12.11"
  }
 },
 "nbformat": 4,
 "nbformat_minor": 5
}

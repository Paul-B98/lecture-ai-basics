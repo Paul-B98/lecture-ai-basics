{
 "cells": [
  {
   "cell_type": "markdown",
   "id": "85b9dd3c",
   "metadata": {},
   "source": [
    "Lecture: AI I - Basics \n",
    "\n",
    "Previous:\n",
    "[**Chapter 1.1: Jupyter Notebook Basics**](../01_prerequisites/01_basics.ipynb)\n",
    "\n",
    "---"
   ]
  },
  {
   "cell_type": "markdown",
   "id": "519c7fe0",
   "metadata": {},
   "source": [
    "# Chapter 2.1: Python Basics\n",
    "\n",
    "- [Python](#Python)\n",
    "- [Variables](#Variables)\n",
    "- [Basic data types](#Basic-data-types)\n",
    "    - [Boolean type and operators](#Boolean-type-and-operators)\n",
    "    - [Numeric types and operators](#Numeric-types-and-operators)\n",
    "    - [String type and operators](#String-type-and-operators)\n",
    "- [String formatting](#String-formatting)\n",
    "- [Built-in functions](#Built-in-functions)"
   ]
  },
  {
   "cell_type": "markdown",
   "id": "56b243d2",
   "metadata": {},
   "source": [
    "## Python\n",
    "### The Zem of Python\n",
    "\n",
    "The Zen of Python, authored by Tim Peters, is a collection of guiding principles that influence Python’s design philosophy and programming style. It emphasises simplicity, readability, and clarity. These principles encourage developers to write clean, understandable, and maintainable code rather than overly clever or complicated solutions. You can view the full Zen by running import this in a Python interpreter, reminding yourself of these best practices whenever writing Python code for data analysis, AI, or general software development."
   ]
  },
  {
   "cell_type": "code",
   "execution_count": 1,
   "id": "787a3967",
   "metadata": {},
   "outputs": [
    {
     "name": "stdout",
     "output_type": "stream",
     "text": [
      "The Zen of Python, by Tim Peters\n",
      "\n",
      "Beautiful is better than ugly.\n",
      "Explicit is better than implicit.\n",
      "Simple is better than complex.\n",
      "Complex is better than complicated.\n",
      "Flat is better than nested.\n",
      "Sparse is better than dense.\n",
      "Readability counts.\n",
      "Special cases aren't special enough to break the rules.\n",
      "Although practicality beats purity.\n",
      "Errors should never pass silently.\n",
      "Unless explicitly silenced.\n",
      "In the face of ambiguity, refuse the temptation to guess.\n",
      "There should be one-- and preferably only one --obvious way to do it.\n",
      "Although that way may not be obvious at first unless you're Dutch.\n",
      "Now is better than never.\n",
      "Although never is often better than *right* now.\n",
      "If the implementation is hard to explain, it's a bad idea.\n",
      "If the implementation is easy to explain, it may be a good idea.\n",
      "Namespaces are one honking great idea -- let's do more of those!\n"
     ]
    }
   ],
   "source": [
    "import this"
   ]
  },
  {
   "cell_type": "markdown",
   "id": "feed1c38",
   "metadata": {},
   "source": [
    "### Python version\n",
    "\n",
    "Python is a versatile, high-level programming language widely used in data analysis, AI, and software development. It has evolved significantly since its first official release, Python 1.0 in 1994, which established its core features. In 2000, Python 2.0 was released. The last version of the Python 2.x series, was Python 2.7 with a end of life support until January 1, 2020. Python 3.0, released in December 2008, which brought backward-incompatible changes to improve consistency, such as treating print as a function and supporting Unicode by default. The current version of Python is 3.13 released in 2024.\n",
    "\n",
    "For this module, ensure your environment uses Python 3.12 to remain compatible with all examples and exercises."
   ]
  },
  {
   "cell_type": "code",
   "execution_count": 2,
   "id": "c8f59197",
   "metadata": {},
   "outputs": [
    {
     "name": "stdout",
     "output_type": "stream",
     "text": [
      "Python 3.12.11\n"
     ]
    }
   ],
   "source": [
    "!python --version"
   ]
  },
  {
   "cell_type": "markdown",
   "id": "34ef627a",
   "metadata": {},
   "source": [
    "## Variables\n",
    "\n",
    "In Python, variables are names that store data values. You can assign any value to a variable using the equals sign (`=`), and the type is determined automatically based on what you assign (this is called _dynamic typing_):"
   ]
  },
  {
   "cell_type": "code",
   "execution_count": 4,
   "id": "b44fa29e",
   "metadata": {},
   "outputs": [
    {
     "data": {
      "text/plain": [
       "(1, 3.141, 'Hello, World!', True)"
      ]
     },
     "execution_count": 4,
     "metadata": {},
     "output_type": "execute_result"
    }
   ],
   "source": [
    "a = 1\n",
    "b = 3.141\n",
    "c = \"Hello, World!\"\n",
    "d = True\n",
    "\n",
    "a, b, c, d"
   ]
  },
  {
   "cell_type": "markdown",
   "id": "4d7b5eaf",
   "metadata": {},
   "source": [
    "You can assign multiple variables at the same time, for example:"
   ]
  },
  {
   "cell_type": "code",
   "execution_count": 6,
   "id": "9e7a4477",
   "metadata": {},
   "outputs": [
    {
     "data": {
      "text/plain": [
       "(10, 20)"
      ]
     },
     "execution_count": 6,
     "metadata": {},
     "output_type": "execute_result"
    }
   ],
   "source": [
    "a = b = 10\n",
    "# Or\n",
    "a, b = 10, 20\n",
    "\n",
    "a, b"
   ]
  },
  {
   "cell_type": "markdown",
   "id": "15f78c62",
   "metadata": {},
   "source": [
    "## Basic data types"
   ]
  },
  {
   "cell_type": "markdown",
   "id": "2e3636ce",
   "metadata": {},
   "source": [
    "### Numeric type and operators\n",
    "\n",
    "Python has three main [numeric types](https://docs.python.org/3/library/stdtypes.html#numeric-types-int-float-complex): \n",
    "- integers (int), which represent whole numbers like 5 or -3\n",
    "- floating-point numbers (float), which represent real numbers with decimals like 3.14 or -0.01\n",
    "- complex numbers (complex), used for calculations involving imaginary numbers, written in the form a + bj, such as 2 + 3j \n",
    "\n",
    "These types allow you to perform a wide range of mathematical operations easily in Python."
   ]
  },
  {
   "cell_type": "code",
   "execution_count": 7,
   "id": "4a5a8217",
   "metadata": {},
   "outputs": [
    {
     "data": {
      "text/plain": [
       "int"
      ]
     },
     "execution_count": 7,
     "metadata": {},
     "output_type": "execute_result"
    }
   ],
   "source": [
    "type(1)"
   ]
  },
  {
   "cell_type": "code",
   "execution_count": 8,
   "id": "96c12878",
   "metadata": {},
   "outputs": [
    {
     "data": {
      "text/plain": [
       "float"
      ]
     },
     "execution_count": 8,
     "metadata": {},
     "output_type": "execute_result"
    }
   ],
   "source": [
    "type(1.1)"
   ]
  },
  {
   "cell_type": "code",
   "execution_count": 9,
   "id": "60d85ed6",
   "metadata": {},
   "outputs": [
    {
     "data": {
      "text/plain": [
       "complex"
      ]
     },
     "execution_count": 9,
     "metadata": {},
     "output_type": "execute_result"
    }
   ],
   "source": [
    "type(1j)"
   ]
  },
  {
   "cell_type": "markdown",
   "id": "2633bd7c",
   "metadata": {},
   "source": [
    "#### Operation"
   ]
  },
  {
   "cell_type": "code",
   "execution_count": null,
   "id": "25a9429f",
   "metadata": {},
   "outputs": [],
   "source": []
  },
  {
   "cell_type": "markdown",
   "id": "ffbeafe1",
   "metadata": {},
   "source": [
    "#### Notation for binary, octal, and hexadecimal numbers\n",
    "\n",
    "In Python, you can write numbers in different bases using specific prefixes: \n",
    "- binary with 0b (e.g. 0b1010 for 10)\n",
    "- octal with 0o (e.g. 0o12 for 10)\n",
    "- hexadecimal with 0x (e.g. 0xA for 10)\n",
    "\n",
    "These notations are useful when working with low-level programming, bitwise operations, or interpreting data in various numeric systems."
   ]
  },
  {
   "cell_type": "code",
   "execution_count": 20,
   "id": "8452b066",
   "metadata": {},
   "outputs": [
    {
     "data": {
      "text/plain": [
       "(170, 170, '0b10101010')"
      ]
     },
     "execution_count": 20,
     "metadata": {},
     "output_type": "execute_result"
    }
   ],
   "source": [
    "0b10101010, int(\"0b10101010\", 2), bin(170)"
   ]
  },
  {
   "cell_type": "code",
   "execution_count": 21,
   "id": "8f1ad1d5",
   "metadata": {},
   "outputs": [
    {
     "data": {
      "text/plain": [
       "(170, 170, '0o252')"
      ]
     },
     "execution_count": 21,
     "metadata": {},
     "output_type": "execute_result"
    }
   ],
   "source": [
    "0o252, int(\"0o252\", 8), oct(170)"
   ]
  },
  {
   "cell_type": "code",
   "execution_count": 22,
   "id": "cee6b0f5",
   "metadata": {},
   "outputs": [
    {
     "data": {
      "text/plain": [
       "(170, 170, '0xaa')"
      ]
     },
     "execution_count": 22,
     "metadata": {},
     "output_type": "execute_result"
    }
   ],
   "source": [
    "0xAA, int(\"0xAA\", 16), hex(170)"
   ]
  },
  {
   "cell_type": "markdown",
   "id": "04a0a4c7",
   "metadata": {},
   "source": [
    "# Decimal as additional numeric type\n",
    "\n",
    "The decimal module in Python provides the [Decimal](https://docs.python.org/3/library/decimal.html) data type for decimal floating-point arithmetic with high precision, which is especially useful for financial calculations where accuracy is critical. Unlike regular float numbers that can have small rounding errors due to binary representation, Decimal ensures precise decimal calculations."
   ]
  },
  {
   "cell_type": "code",
   "execution_count": 24,
   "id": "f330f7fd",
   "metadata": {},
   "outputs": [
    {
     "data": {
      "text/plain": [
       "0.30000000000000004"
      ]
     },
     "execution_count": 24,
     "metadata": {},
     "output_type": "execute_result"
    }
   ],
   "source": [
    "0.1 + 0.2"
   ]
  },
  {
   "cell_type": "code",
   "execution_count": 26,
   "id": "8575861a",
   "metadata": {},
   "outputs": [
    {
     "data": {
      "text/plain": [
       "Decimal('0.3')"
      ]
     },
     "execution_count": 26,
     "metadata": {},
     "output_type": "execute_result"
    }
   ],
   "source": [
    "from decimal import Decimal\n",
    "\n",
    "Decimal(\"0.1\") + Decimal(\"0.2\")"
   ]
  },
  {
   "cell_type": "markdown",
   "id": "2c6c7841",
   "metadata": {},
   "source": [
    "### Boolean types and operators\n",
    "\n",
    "Boolean values in Python represent truth values and can be either `True` or `False`. They are often used in conditional statements and logical operations."
   ]
  },
  {
   "cell_type": "code",
   "execution_count": 19,
   "id": "0adf9fc0",
   "metadata": {},
   "outputs": [
    {
     "data": {
      "text/plain": [
       "(bool, bool)"
      ]
     },
     "execution_count": 19,
     "metadata": {},
     "output_type": "execute_result"
    }
   ],
   "source": [
    "type(True), type(False)"
   ]
  },
  {
   "cell_type": "markdown",
   "id": "81b0af1a",
   "metadata": {},
   "source": [
    "Python provides several [operators](https://docs.python.org/3/library/stdtypes.html#boolean-operations-and-or-not) for working with boolean values:\n",
    "\n",
    "| Operation | Meaning |\n",
    "|----|---|\n",
    "| `and`  | Logical AND (conjunction)|\n",
    "| `or`  | Logical OR (disjunction) |\n",
    "| `not`  | \tLogical NOT (negation) |"
   ]
  },
  {
   "cell_type": "code",
   "execution_count": 28,
   "id": "4cd61871",
   "metadata": {},
   "outputs": [
    {
     "data": {
      "text/plain": [
       "(True, True, True)"
      ]
     },
     "execution_count": 28,
     "metadata": {},
     "output_type": "execute_result"
    }
   ],
   "source": [
    "True and True, True or False, not False"
   ]
  },
  {
   "cell_type": "markdown",
   "id": "624af943",
   "metadata": {},
   "source": [
    "in addition to these logical operators, Python also supports [comparison operators](https://docs.python.org/3/library/stdtypes.html#comparisons) that return boolean values based on the comparison of two values:\n",
    "\n",
    "| Operation | Meaning |\n",
    "|----|---|\n",
    "| `<`  | strictly less than |\n",
    "| `<=`  | less than or equal |\n",
    "| `>`  | strictly greater than |\n",
    "| `>=`  | greater than or equal |\n",
    "| `==`  | equal |\n",
    "| `!=`  | not equal |\n",
    "| `is`  | object identity |\n",
    "| `is not`  | negated object identity |\n",
    "| `in`  | membership test (checks if a value is in a collection) |\n",
    "| `not in`  | negated membership test (checks if a value is not in a collection) |\n",
    "\n"
   ]
  },
  {
   "cell_type": "code",
   "execution_count": 33,
   "id": "a578223b",
   "metadata": {},
   "outputs": [
    {
     "name": "stdout",
     "output_type": "stream",
     "text": [
      "True\n",
      "True\n",
      "True\n",
      "True\n",
      "True\n",
      "True\n"
     ]
    }
   ],
   "source": [
    "print(1 < 2)\n",
    "print(1 <= 1)\n",
    "print(1 > 0)\n",
    "print(1 >= 1)\n",
    "print(1 == 1)\n",
    "print(1 != 2)"
   ]
  },
  {
   "cell_type": "code",
   "execution_count": 37,
   "id": "6e794e94",
   "metadata": {},
   "outputs": [
    {
     "name": "stdout",
     "output_type": "stream",
     "text": [
      "True\n",
      "True\n"
     ]
    }
   ],
   "source": [
    "print(3 > 2 > 1)\n",
    "print(1 < 2 < 3)"
   ]
  },
  {
   "cell_type": "markdown",
   "id": "a97da626",
   "metadata": {},
   "source": [
    "### String type and operators"
   ]
  },
  {
   "cell_type": "code",
   "execution_count": 11,
   "id": "42a1fc57",
   "metadata": {},
   "outputs": [
    {
     "data": {
      "text/plain": [
       "str"
      ]
     },
     "execution_count": 11,
     "metadata": {},
     "output_type": "execute_result"
    }
   ],
   "source": [
    "type(\"Hello, World!\")"
   ]
  },
  {
   "cell_type": "markdown",
   "id": "df391eea",
   "metadata": {},
   "source": [
    "## String formatting"
   ]
  },
  {
   "cell_type": "code",
   "execution_count": null,
   "id": "18d376fd",
   "metadata": {},
   "outputs": [],
   "source": []
  },
  {
   "cell_type": "markdown",
   "id": "055c8ef7",
   "metadata": {},
   "source": [
    "## Built-in functions"
   ]
  },
  {
   "cell_type": "code",
   "execution_count": null,
   "id": "da5e8a68",
   "metadata": {},
   "outputs": [],
   "source": []
  },
  {
   "cell_type": "markdown",
   "id": "3464ff25",
   "metadata": {},
   "source": [
    "---\n",
    "\n",
    "Lecture: AI I - Basics \n",
    "\n",
    "Next: [**Chapter 2.2: Data Structures**](../02_python/02_data_structures.ipynb)"
   ]
  }
 ],
 "metadata": {
  "kernelspec": {
   "display_name": ".venv",
   "language": "python",
   "name": "python3"
  },
  "language_info": {
   "codemirror_mode": {
    "name": "ipython",
    "version": 3
   },
   "file_extension": ".py",
   "mimetype": "text/x-python",
   "name": "python",
   "nbconvert_exporter": "python",
   "pygments_lexer": "ipython3",
   "version": "3.12.11"
  }
 },
 "nbformat": 4,
 "nbformat_minor": 5
}

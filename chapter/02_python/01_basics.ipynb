{
 "cells": [
  {
   "cell_type": "markdown",
   "id": "85b9dd3c",
   "metadata": {},
   "source": [
    "Lecture: AI I - Basics \n",
    "\n",
    "Previous:\n",
    "[**Chapter 1.1: Jupyter Notebook Basics**](../01_prerequisites/01_basics.ipynb)\n",
    "\n",
    "---"
   ]
  },
  {
   "cell_type": "markdown",
   "id": "519c7fe0",
   "metadata": {},
   "source": [
    "# Chapter 2.1: Python Basics\n",
    "\n",
    "- [Python](#Python)\n",
    "- [Variables](#Variables)\n",
    "- [Basic data types](#Basic-data-types)\n",
    "    - [Boolean type and operators](#Boolean-type-and-operators)\n",
    "    - [Numeric types and operators](#Numeric-types-and-operators)\n",
    "    - [String type and operators](#String-type-and-operators)\n",
    "- [String formatting](#String-formatting)\n",
    "- [Built-in functions](#Built-in-functions)"
   ]
  },
  {
   "cell_type": "markdown",
   "id": "56b243d2",
   "metadata": {},
   "source": [
    "## Python\n",
    "### The Zem of Python\n",
    "\n",
    "The Zen of Python, authored by Tim Peters, is a collection of guiding principles that influence Python’s design philosophy and programming style. It emphasises simplicity, readability, and clarity. These principles encourage developers to write clean, understandable, and maintainable code rather than overly clever or complicated solutions. You can view the full Zen by running import this in a Python interpreter, reminding yourself of these best practices whenever writing Python code for data analysis, AI, or general software development."
   ]
  },
  {
   "cell_type": "code",
   "execution_count": 1,
   "id": "787a3967",
   "metadata": {},
   "outputs": [
    {
     "name": "stdout",
     "output_type": "stream",
     "text": [
      "The Zen of Python, by Tim Peters\n",
      "\n",
      "Beautiful is better than ugly.\n",
      "Explicit is better than implicit.\n",
      "Simple is better than complex.\n",
      "Complex is better than complicated.\n",
      "Flat is better than nested.\n",
      "Sparse is better than dense.\n",
      "Readability counts.\n",
      "Special cases aren't special enough to break the rules.\n",
      "Although practicality beats purity.\n",
      "Errors should never pass silently.\n",
      "Unless explicitly silenced.\n",
      "In the face of ambiguity, refuse the temptation to guess.\n",
      "There should be one-- and preferably only one --obvious way to do it.\n",
      "Although that way may not be obvious at first unless you're Dutch.\n",
      "Now is better than never.\n",
      "Although never is often better than *right* now.\n",
      "If the implementation is hard to explain, it's a bad idea.\n",
      "If the implementation is easy to explain, it may be a good idea.\n",
      "Namespaces are one honking great idea -- let's do more of those!\n"
     ]
    }
   ],
   "source": [
    "import this"
   ]
  },
  {
   "cell_type": "markdown",
   "id": "feed1c38",
   "metadata": {},
   "source": [
    "### Python version\n",
    "\n",
    "Python is a versatile, high-level programming language widely used in data analysis, AI, and software development. It has evolved significantly since its first official release, Python 1.0 in 1994, which established its core features. In 2000, Python 2.0 was released. The last version of the Python 2.x series, was Python 2.7 with a end of life support until January 1, 2020. Python 3.0, released in December 2008, which brought backward-incompatible changes to improve consistency, such as treating print as a function and supporting Unicode by default. The current version of Python is 3.13 released in 2024.\n",
    "\n",
    "For this module, ensure your environment uses Python 3.12 to remain compatible with all examples and exercises."
   ]
  },
  {
   "cell_type": "code",
   "execution_count": 2,
   "id": "c8f59197",
   "metadata": {},
   "outputs": [
    {
     "name": "stdout",
     "output_type": "stream",
     "text": [
      "Python 3.12.11\n"
     ]
    }
   ],
   "source": [
    "!python --version"
   ]
  },
  {
   "cell_type": "markdown",
   "id": "34ef627a",
   "metadata": {},
   "source": [
    "## Variables\n",
    "\n",
    "In Python, variables are names that store data values. You can assign any value to a variable using the equals sign (`=`), and the type is determined automatically based on what you assign (this is called _dynamic typing_):"
   ]
  },
  {
   "cell_type": "code",
   "execution_count": 4,
   "id": "b44fa29e",
   "metadata": {},
   "outputs": [
    {
     "data": {
      "text/plain": [
       "(1, 3.141, 'Hello, World!', True)"
      ]
     },
     "execution_count": 4,
     "metadata": {},
     "output_type": "execute_result"
    }
   ],
   "source": [
    "a = 1\n",
    "b = 3.141\n",
    "c = \"Hello, World!\"\n",
    "d = True\n",
    "\n",
    "a, b, c, d"
   ]
  },
  {
   "cell_type": "markdown",
   "id": "4d7b5eaf",
   "metadata": {},
   "source": [
    "You can assign multiple variables at the same time, for example:"
   ]
  },
  {
   "cell_type": "code",
   "execution_count": 6,
   "id": "9e7a4477",
   "metadata": {},
   "outputs": [
    {
     "data": {
      "text/plain": [
       "(10, 20)"
      ]
     },
     "execution_count": 6,
     "metadata": {},
     "output_type": "execute_result"
    }
   ],
   "source": [
    "a = b = 10\n",
    "# Or\n",
    "a, b = 10, 20\n",
    "\n",
    "a, b"
   ]
  },
  {
   "cell_type": "markdown",
   "id": "15f78c62",
   "metadata": {},
   "source": [
    "## Basic data types"
   ]
  },
  {
   "cell_type": "markdown",
   "id": "2e3636ce",
   "metadata": {},
   "source": [
    "### Boolean type and operators"
   ]
  },
  {
   "cell_type": "markdown",
   "id": "2c6c7841",
   "metadata": {},
   "source": [
    "### Numeric types and operators"
   ]
  },
  {
   "cell_type": "markdown",
   "id": "a97da626",
   "metadata": {},
   "source": [
    "### String type and operators"
   ]
  },
  {
   "cell_type": "markdown",
   "id": "df391eea",
   "metadata": {},
   "source": [
    "## String formatting"
   ]
  },
  {
   "cell_type": "markdown",
   "id": "055c8ef7",
   "metadata": {},
   "source": [
    "## Built-in functions"
   ]
  },
  {
   "cell_type": "markdown",
   "id": "3464ff25",
   "metadata": {},
   "source": [
    "---\n",
    "\n",
    "Lecture: AI I - Basics \n",
    "\n",
    "Next: [**Chapter 2.2: Data Structures**](../02_python/02_data_structures.ipynb)"
   ]
  }
 ],
 "metadata": {
  "kernelspec": {
   "display_name": ".venv",
   "language": "python",
   "name": "python3"
  },
  "language_info": {
   "codemirror_mode": {
    "name": "ipython",
    "version": 3
   },
   "file_extension": ".py",
   "mimetype": "text/x-python",
   "name": "python",
   "nbconvert_exporter": "python",
   "pygments_lexer": "ipython3",
   "version": "3.12.11"
  }
 },
 "nbformat": 4,
 "nbformat_minor": 5
}

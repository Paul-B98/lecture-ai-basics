{
 "cells": [
  {
   "cell_type": "markdown",
   "id": "113e5b8b",
   "metadata": {},
   "source": []
  }
 ],
 "metadata": {
  "language_info": {
   "name": "python"
  }
 },
 "nbformat": 4,
 "nbformat_minor": 5
}

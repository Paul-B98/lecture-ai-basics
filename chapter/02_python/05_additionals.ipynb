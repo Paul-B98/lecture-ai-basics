{
 "cells": [
  {
   "cell_type": "markdown",
   "id": "a3de18a4",
   "metadata": {},
   "source": [
    "Lecture: AI I - Basics \n",
    "\n",
    "Previous:\n",
    "[**Chapter 2.4: Object Orientation**](../02_python/04_object_orientation.ipynb)\n",
    "\n",
    "---"
   ]
  },
  {
   "cell_type": "markdown",
   "id": "fb75a5df",
   "metadata": {},
   "source": [
    "# Chapter 2.5: Additionals\n",
    "\n",
    "- [Exceptions](#exceptions)\n",
    "- [list, set and dict Comprehensions](#list-set-and-dict-comprehensions)\n",
    "- [Iterables and Iterator](#iterables-and-iterator)\n",
    "- [Generators](#generators)\n",
    "- [Map, Filter and Reduce](#map-filter-and-reduce)\n",
    "- [Context Manager, Pathlib and JSON](#context-manager-pathlib-and-json)"
   ]
  },
  {
   "cell_type": "markdown",
   "id": "0de82e25",
   "metadata": {},
   "source": [
    "## Exceptions\n",
    "\n",
    "[Exceptions](https://docs.python.org/3/library/exceptions.html) in Python are used to handle errors and unexpected situations that occur during program execution, such as dividing by zero or accessing a file that doesn’t exist. Instead of crashing, Python lets you catch these errors using try and except blocks, allowing your program to respond gracefully—like showing an error message or using a fallback value. Exceptions help make your code more robust and user-friendly, especially in cases where failure is possible but shouldn’t stop the entire program. Following is the hierarchy of the built-in exceptions in Python:\n",
    "\n",
    "> <pre>\n",
    "> BaseException\n",
    ">  ├── BaseExceptionGroup\n",
    ">  ├── GeneratorExit\n",
    ">  ├── KeyboardInterrupt\n",
    ">  ├── SystemExit\n",
    ">  └── Exception\n",
    ">       ├── ArithmeticError\n",
    ">       │    ├── FloatingPointError\n",
    ">       │    ├── OverflowError\n",
    ">       │    └── ZeroDivisionError\n",
    ">       ├── AssertionError\n",
    ">       ├── AttributeError\n",
    ">       ├── BufferError\n",
    ">       ├── EOFError\n",
    ">       ├── ExceptionGroup\n",
    ">       ├── ImportError\n",
    ">       │    └── ModuleNotFoundError\n",
    ">       ├── LookupError\n",
    ">       │    ├── IndexError\n",
    ">       │    └── KeyError\n",
    ">       ├── MemoryError\n",
    ">       ├── NameError\n",
    ">       │    └── UnboundLocalError\n",
    ">       ├── OSError\n",
    ">       │    ├── BlockingIOError\n",
    ">       │    ├── ChildProcessError\n",
    ">       │    ├── ConnectionError\n",
    ">       │    │    ├── BrokenPipeError\n",
    ">       │    │    ├── ConnectionAbortedError\n",
    ">       │    │    ├── ConnectionRefusedError\n",
    ">       │    │    └── ConnectionResetError\n",
    ">       │    ├── FileExistsError\n",
    ">       │    ├── FileNotFoundError\n",
    ">       │    ├── InterruptedError\n",
    ">       │    ├── IsADirectoryError\n",
    ">       │    ├── NotADirectoryError\n",
    ">       │    ├── PermissionError\n",
    ">       │    ├── ProcessLookupError\n",
    ">       │    └── TimeoutError\n",
    ">       ├── ReferenceError\n",
    ">       ├── RuntimeError\n",
    ">       │    ├── NotImplementedError\n",
    ">       │    └── RecursionError\n",
    ">       ├── StopAsyncIteration\n",
    ">       ├── StopIteration\n",
    ">       ├── SyntaxError\n",
    ">       │    └── IndentationError\n",
    ">       │         └── TabError\n",
    ">       ├── SystemError\n",
    ">       ├── TypeError\n",
    ">       ├── ValueError\n",
    ">       │    └── UnicodeError\n",
    ">       │         ├── UnicodeDecodeError\n",
    ">       │         ├── UnicodeEncodeError\n",
    ">       │         └── UnicodeTranslateError\n",
    ">       └── Warning\n",
    ">            ├── BytesWarning\n",
    ">            ├── DeprecationWarning\n",
    ">            ├── EncodingWarning\n",
    ">            ├── FutureWarning\n",
    ">            ├── ImportWarning\n",
    ">            ├── PendingDeprecationWarning\n",
    ">            ├── ResourceWarning\n",
    ">            ├── RuntimeWarning\n",
    ">            ├── SyntaxWarning\n",
    ">            ├── UnicodeWarning\n",
    ">            └── UserWarning\n",
    "> </pre>\n",
    "~ [The Python Docs](https://docs.python.org/3/library/exceptions.html#exception-hierarchy)"
   ]
  },
  {
   "cell_type": "markdown",
   "id": "4beb5113",
   "metadata": {},
   "source": [
    "Use `try` and `except Exception` to handle cases where a number might be divided by zero and avoid program crashes:"
   ]
  },
  {
   "cell_type": "code",
   "execution_count": null,
   "id": "20ba43aa",
   "metadata": {},
   "outputs": [
    {
     "name": "stdout",
     "output_type": "stream",
     "text": [
      "<class 'ZeroDivisionError'> division by zero\n"
     ]
    }
   ],
   "source": [
    "try:\n",
    "    1 / 0\n",
    "    print(\"everything worked!\")\n",
    "except Exception as e:\n",
    "    print(type(e), e)"
   ]
  },
  {
   "cell_type": "markdown",
   "id": "76b00bac",
   "metadata": {},
   "source": [
    "Instead of catching all exceptions, you can use a specific exception type like `ZeroDivisionError` to handle only expected errors more precisely and avoid masking other issues:"
   ]
  },
  {
   "cell_type": "code",
   "execution_count": null,
   "id": "21e09ef4",
   "metadata": {},
   "outputs": [
    {
     "name": "stdout",
     "output_type": "stream",
     "text": [
      "division by zero\n"
     ]
    }
   ],
   "source": [
    "try:\n",
    "    1 / 0\n",
    "except ZeroDivisionError as e:\n",
    "    print(e)"
   ]
  },
  {
   "cell_type": "markdown",
   "id": "960da440",
   "metadata": {},
   "source": [
    "you can group multiple exceptions together in a single `except` block:"
   ]
  },
  {
   "cell_type": "code",
   "execution_count": 8,
   "id": "bfc9a3f5",
   "metadata": {},
   "outputs": [
    {
     "name": "stdout",
     "output_type": "stream",
     "text": [
      "Caught a ValueError or TypeError: <class 'ValueError'> invalid literal for int() with base 10: 'not a number'\n"
     ]
    }
   ],
   "source": [
    "try:\n",
    "    int(\"not a number\")\n",
    "except (ValueError, TypeError) as e:\n",
    "    print(\"Caught a ValueError or TypeError:\", type(e), e)"
   ]
  },
  {
   "cell_type": "markdown",
   "id": "42a812b6",
   "metadata": {},
   "source": [
    "or you can handle them separately:"
   ]
  },
  {
   "cell_type": "code",
   "execution_count": 9,
   "id": "b8ace0bd",
   "metadata": {},
   "outputs": [
    {
     "name": "stdout",
     "output_type": "stream",
     "text": [
      "Caught a ValueError: <class 'ValueError'> invalid literal for int() with base 10: 'not a number'\n"
     ]
    }
   ],
   "source": [
    "try:\n",
    "    int(\"not a number\")\n",
    "except ValueError as e:\n",
    "    print(\"Caught a ValueError:\", type(e), e)\n",
    "except TypeError as e:\n",
    "    print(\"Caught a TypeError:\", type(e), e)"
   ]
  },
  {
   "cell_type": "markdown",
   "id": "b841fff8",
   "metadata": {},
   "source": [
    "The finally block runs no matter what happens—whether an exception was raised or not. It’s typically used for cleanup tasks, like closing a file or releasing a resource:"
   ]
  },
  {
   "cell_type": "code",
   "execution_count": null,
   "id": "bcfe1489",
   "metadata": {},
   "outputs": [
    {
     "name": "stdout",
     "output_type": "stream",
     "text": [
      "random choice worked!\n",
      "This will always run, regardless of whether an exception occurred or not.\n"
     ]
    }
   ],
   "source": [
    "try:\n",
    "    int(\"not a number\")\n",
    "except Exception as e:\n",
    "    print(\"Caught an exception:\", type(e), e)\n",
    "finally:\n",
    "    print(\"This will always run, regardless of whether an exception occurred or not.\")"
   ]
  },
  {
   "cell_type": "markdown",
   "id": "2b8a9bd6",
   "metadata": {},
   "source": [
    "The else block runs only if no exception was raised in the try block. It’s useful for code that should only execute when everything goes as planned."
   ]
  },
  {
   "cell_type": "code",
   "execution_count": 11,
   "id": "b6176785",
   "metadata": {},
   "outputs": [
    {
     "name": "stdout",
     "output_type": "stream",
     "text": [
      "You can't divide by zero! division by zero\n",
      "No exceptions occurred, so this runs.\n"
     ]
    }
   ],
   "source": [
    "try:\n",
    "    1 / 0\n",
    "except ZeroDivisionError as e:\n",
    "    print(\"You can't divide by zero!\", e)\n",
    "else:\n",
    "    print(\"No exceptions occurred, so this runs.\")\n",
    "\n",
    "try:\n",
    "    1 / 1\n",
    "except ZeroDivisionError as e:\n",
    "    print(\"You can't divide by zero!\", e)\n",
    "else:\n",
    "    print(\"No exceptions occurred, so this runs.\")"
   ]
  },
  {
   "cell_type": "markdown",
   "id": "d5c12c88",
   "metadata": {},
   "source": [
    "In Python, you can create custom exceptions by defining a new class that inherits from Exception, allowing you to represent specific error cases in a meaningful and structured way:"
   ]
  },
  {
   "cell_type": "code",
   "execution_count": 14,
   "id": "0a0cecb7",
   "metadata": {},
   "outputs": [
    {
     "name": "stdout",
     "output_type": "stream",
     "text": [
      "Caught a custom error: <class '__main__.CustomError'> This is a custom error message.\n"
     ]
    }
   ],
   "source": [
    "class CustomError(Exception):\n",
    "    \"\"\"Custom exception class for specific error handling.\"\"\"\n",
    "    pass\n",
    "\n",
    "try:\n",
    "    raise CustomError(\"This is a custom error message.\")\n",
    "except CustomError as e:\n",
    "    print(\"Caught a custom error:\", type(e), e)"
   ]
  },
  {
   "cell_type": "markdown",
   "id": "3b4774fb",
   "metadata": {},
   "source": [
    "Python's approach to exception handling aligns with the EAFP (Easier to Ask for Forgiveness than Permission) principle, which encourages trying an operation directly and handling errors with try/except blocks instead of pre-checking conditions.\n",
    "\n",
    "> **EAFP** <br>\n",
    "> _Easier to ask for forgiveness than permission_. This common Python coding style assumes the existence of valid keys or attributes and catches exceptions if the assumption proves false. This clean and fast style is characterized by the presence of many try and except statements. The technique contrasts with the LBYL style common to many other languages such as C.\n",
    "\n",
    "~ [The Python Docs](https://docs.python.org/3/glossary.html?highlight=duck#term-EAFP)"
   ]
  },
  {
   "cell_type": "markdown",
   "id": "b69d0fc9",
   "metadata": {},
   "source": [
    "## list, set and dict Comprehensions \n",
    "\n",
    "Python provides a powerful and readable syntax called comprehensions for creating new lists, sets, or dictionaries from existing iterables in a concise way. Instead of writing multi-line loops, you can use list, set, and dict comprehensions to filter, transform, or structure data in a single line. They make your code more expressive and are especially useful for working with collections efficiently.\n",
    "\n",
    "You can square each number in a list with a list comprehension like this:"
   ]
  },
  {
   "cell_type": "code",
   "execution_count": 16,
   "id": "b6e418df",
   "metadata": {},
   "outputs": [
    {
     "name": "stdout",
     "output_type": "stream",
     "text": [
      "[0, 1, 4, 9, 16, 25, 36, 49, 64, 81]\n"
     ]
    }
   ],
   "source": [
    "squares = [\n",
    "    x ** 2 \n",
    "    for x in range(10)\n",
    "]\n",
    "\n",
    "print(squares)"
   ]
  },
  {
   "cell_type": "markdown",
   "id": "bc0010e5",
   "metadata": {},
   "source": [
    "The list comprehension can even be filtered to only include for example even numbers:"
   ]
  },
  {
   "cell_type": "code",
   "execution_count": 17,
   "id": "33d65967",
   "metadata": {},
   "outputs": [
    {
     "name": "stdout",
     "output_type": "stream",
     "text": [
      "[0, 4, 16, 36, 64]\n"
     ]
    }
   ],
   "source": [
    "squares = [\n",
    "    x ** 2 \n",
    "    for x in range(10)\n",
    "    if x % 2 == 0\n",
    "]\n",
    "\n",
    "print(squares)"
   ]
  },
  {
   "cell_type": "markdown",
   "id": "c35f4a67",
   "metadata": {},
   "source": [
    "You can also create a set comprehension to get unique squares:"
   ]
  },
  {
   "cell_type": "code",
   "execution_count": 18,
   "id": "94d336b4",
   "metadata": {},
   "outputs": [
    {
     "name": "stdout",
     "output_type": "stream",
     "text": [
      "{64, 100, 4, 36, 16}\n"
     ]
    }
   ],
   "source": [
    "nums = [1, 2, 3, 4, 5, 6, 7, 8, 9, 10, 10]\n",
    "\n",
    "squares = {\n",
    "    x ** 2 \n",
    "    for x in nums \n",
    "    if x % 2 == 0\n",
    "}\n",
    "\n",
    "print(squares)"
   ]
  },
  {
   "cell_type": "markdown",
   "id": "a9084be8",
   "metadata": {},
   "source": [
    "Or you can create a dictionary comprehension to map numbers to their squares:\n"
   ]
  },
  {
   "cell_type": "code",
   "execution_count": 19,
   "id": "37447189",
   "metadata": {},
   "outputs": [
    {
     "name": "stdout",
     "output_type": "stream",
     "text": [
      "{2: 4, 4: 16, 6: 36, 8: 64, 10: 100}\n"
     ]
    }
   ],
   "source": [
    "squares = {\n",
    "    x: x ** 2\n",
    "    for x in nums\n",
    "    if x % 2 == 0\n",
    "}\n",
    "\n",
    "print(squares)"
   ]
  },
  {
   "cell_type": "markdown",
   "id": "54d4101a",
   "metadata": {},
   "source": [
    "You can use a list comprehension to apply any operation to each element in a list—for example, `[x ** 2 for x in numbers]` squares each number, but you can replace `x ** 2` with any expression based on `x`, such as `x + 1`, `x * 10` or a function call like `f(x)`."
   ]
  },
  {
   "cell_type": "markdown",
   "id": "16cf5559",
   "metadata": {},
   "source": [
    "## Iterables and Iterator\n",
    "\n",
    "Any object in Python that implements the `__iter__()` method is considered an iterable, meaning it can be looped over using a for loop or passed to the [built-in](https://docs.python.org/3/library/functions.html#iter) `iter()` function to create an iterator. An iterator is an object that follows the iterator protocol by implementing the `__next__()` method, allowing you to fetch elements one at a time. For example, if your custom Triple class from the last chapter defines `__iter__()`, it can be iterated over just like a list. This makes your custom objects compatible with all Python iteration tools, enabling cleaner and more Pythonic code."
   ]
  },
  {
   "cell_type": "code",
   "execution_count": 3,
   "id": "34ac77b6",
   "metadata": {},
   "outputs": [
    {
     "name": "stdout",
     "output_type": "stream",
     "text": [
      "1\n",
      "2\n",
      "3\n"
     ]
    }
   ],
   "source": [
    "from typing import Iterator\n",
    "\n",
    "\n",
    "class Triple:\n",
    "    def __init__(self, num1: int, num2: int, num3: int) -> None:\n",
    "        self.nums = num1, num2, num3\n",
    "\n",
    "    def __iter__(self) -> Iterator[int]:\n",
    "        return iter(self.nums)\n",
    "    \n",
    "triple = Triple(1, 2, 3)\n",
    "\n",
    "for value in triple:\n",
    "    print(value)"
   ]
  },
  {
   "cell_type": "markdown",
   "id": "1412535f",
   "metadata": {},
   "source": [
    "range()"
   ]
  },
  {
   "cell_type": "code",
   "execution_count": null,
   "id": "8ae384b6",
   "metadata": {},
   "outputs": [
    {
     "name": "stdout",
     "output_type": "stream",
     "text": [
      "0\n",
      "1\n",
      "2\n",
      "3\n",
      "4\n",
      "5\n"
     ]
    }
   ],
   "source": [
    "class IRange:\n",
    "    def __init__(self, end: int) -> None:\n",
    "        self.i = 0\n",
    "        self.end = end\n",
    "\n",
    "    def __iter__(self) -> Iterator[int]:\n",
    "        return self\n",
    "\n",
    "    def __next__(self) -> int:\n",
    "        if self.i <= self.end:\n",
    "            value = self.i\n",
    "            self.i += 1\n",
    "            return value\n",
    "        else:\n",
    "            raise StopIteration()\n",
    "        \n",
    "for i in IRange(5):\n",
    "    print(i)"
   ]
  },
  {
   "cell_type": "markdown",
   "id": "6fe08bb8",
   "metadata": {},
   "source": [
    "## Generators"
   ]
  },
  {
   "cell_type": "code",
   "execution_count": null,
   "id": "8a1c1398",
   "metadata": {},
   "outputs": [],
   "source": []
  },
  {
   "cell_type": "markdown",
   "id": "14cc6e2b",
   "metadata": {},
   "source": [
    "## Map, Filter and Reduce"
   ]
  },
  {
   "cell_type": "code",
   "execution_count": null,
   "id": "ee23957a",
   "metadata": {},
   "outputs": [],
   "source": []
  },
  {
   "cell_type": "markdown",
   "id": "0ea50346",
   "metadata": {},
   "source": [
    "## Context Manager, Pathlib and JSON"
   ]
  },
  {
   "cell_type": "code",
   "execution_count": null,
   "id": "9f2f672f",
   "metadata": {},
   "outputs": [],
   "source": []
  },
  {
   "cell_type": "markdown",
   "id": "090d3998",
   "metadata": {},
   "source": [
    "---\n",
    "\n",
    "Lecture: AI I - Basics \n",
    "\n",
    "Exercise: [**Exercise 2.5: Additionals**](../02_python/exercises/05_additionals.ipynb)\n",
    "\n",
    "Next: [**Chapter 3.1: Numpy**](../03_data/01_numpy.ipynb)"
   ]
  }
 ],
 "metadata": {
  "kernelspec": {
   "display_name": "ai-lecture",
   "language": "python",
   "name": "python3"
  },
  "language_info": {
   "codemirror_mode": {
    "name": "ipython",
    "version": 3
   },
   "file_extension": ".py",
   "mimetype": "text/x-python",
   "name": "python",
   "nbconvert_exporter": "python",
   "pygments_lexer": "ipython3",
   "version": "3.12.11"
  }
 },
 "nbformat": 4,
 "nbformat_minor": 5
}

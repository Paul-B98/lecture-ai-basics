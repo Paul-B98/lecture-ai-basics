{
 "cells": [
  {
   "cell_type": "markdown",
   "id": "24166fd4",
   "metadata": {},
   "source": [
    "Lecture: AI I - Basics \n",
    "\n",
    "Previous:\n",
    "[**Chapter 4.2: Machine Learning with scikit-learn**](../02_machine_learning.ipynb)\n",
    "\n",
    "---"
   ]
  },
  {
   "cell_type": "markdown",
   "id": "ea5a7d64",
   "metadata": {},
   "source": [
    "# Solution 4.2: Machine Learning with scikit-learn\n",
    "\n"
   ]
  },
  {
   "cell_type": "markdown",
   "id": "596671a3",
   "metadata": {},
   "source": [
    "---\n",
    "\n",
    "Lecture: AI I - Basics \n",
    "\n",
    "Next: [**Chapter 4.3: Evaluation with scikit-learn**](../04_ml/03_evaluation.ipynb)"
   ]
  }
 ],
 "metadata": {
  "language_info": {
   "name": "python"
  }
 },
 "nbformat": 4,
 "nbformat_minor": 5
}

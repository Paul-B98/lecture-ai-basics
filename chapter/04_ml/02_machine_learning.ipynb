{
 "cells": [
  {
   "cell_type": "markdown",
   "id": "24166fd4",
   "metadata": {},
   "source": [
    "Lecture: AI I - Basics \n",
    "\n",
    "Previous:\n",
    "[**Chapter 4.1: Data Preparation with scikit-learn**](../04_ml/01_data_preparation.ipynb)\n",
    "\n",
    "---"
   ]
  },
  {
   "cell_type": "markdown",
   "id": "ea5a7d64",
   "metadata": {},
   "source": [
    "# Chapter 4.2: Machine Learning with scikit-learn\n",
    "\n",
    "- [Decision Tree](#decision-tree)\n",
    "- [Support Vector Machines](#support-vector-machines)\n",
    "- [K-Means](#k-means)\n",
    "- [Usage in Pipelines](#usage-in-pipelines)\n",
    "- [Which Algorithm Should I Choose?](#which-algorithm-should-i-choose)"
   ]
  },
  {
   "cell_type": "markdown",
   "id": "d438bdf3",
   "metadata": {},
   "source": [
    "[Scikit-learn](https://scikit-learn.org/stable/index.html) offers a wide variety of machine learning algorithms. Since we do not have the time to look at all of them in detail, we will only examine a few algorithms from the areas of classification, regression, and clustering. For additional algorithms, we refer at this point to the [documentation](https://scikit-learn.org/stable/modules/classes.html), the [user guide](https://scikit-learn.org/stable/user_guide.html), and the [tutorials](https://scikit-learn.org/stable/tutorial/index.html). Furthermore, we also cannot go into the underlying mathematics.  \n"
   ]
  },
  {
   "cell_type": "code",
   "execution_count": 1,
   "id": "ac2bee5a",
   "metadata": {},
   "outputs": [],
   "source": [
    "import numpy as np\n",
    "from matplotlib import pyplot as plt\n",
    "from sklearn import datasets"
   ]
  },
  {
   "cell_type": "markdown",
   "id": "596671a3",
   "metadata": {},
   "source": [
    "---\n",
    "\n",
    "Lecture: AI I - Basics \n",
    "\n",
    "Exercise: [**Exercise 4.2: Machine Learning with scikit-learn**](../04_ml/exercises/02_machine_learning.ipynb)\n",
    "\n",
    "Next: [**Chapter 4.3: Evaluation with scikit-learn**](../04_ml/03_evaluation.ipynb)"
   ]
  }
 ],
 "metadata": {
  "kernelspec": {
   "display_name": "ai-lecture",
   "language": "python",
   "name": "python3"
  },
  "language_info": {
   "codemirror_mode": {
    "name": "ipython",
    "version": 3
   },
   "file_extension": ".py",
   "mimetype": "text/x-python",
   "name": "python",
   "nbconvert_exporter": "python",
   "pygments_lexer": "ipython3",
   "version": "3.12.11"
  }
 },
 "nbformat": 4,
 "nbformat_minor": 5
}

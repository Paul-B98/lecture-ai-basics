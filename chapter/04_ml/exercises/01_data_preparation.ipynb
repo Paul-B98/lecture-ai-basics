{
 "cells": [
  {
   "cell_type": "markdown",
   "id": "7eba2fee",
   "metadata": {},
   "source": [
    "Lecture: AI I - Basics \n",
    "\n",
    "Previous:\n",
    "[**Chapter 4.1: Data Preparation with scikit-learn**](../01_data_preparation.ipynb)\n",
    "\n",
    "---"
   ]
  },
  {
   "cell_type": "markdown",
   "id": "c232848e",
   "metadata": {},
   "source": [
    "# Exercise 4.1: Data Preparation with scikit-learn\n",
    "\n"
   ]
  },
  {
   "cell_type": "markdown",
   "id": "915f8a1e",
   "metadata": {},
   "source": [
    "> Hint: When doing the exercises put your solution in the designated \"Solution\" section:\n",
    "> ```python\n",
    "> # Solution (put your code here)\n",
    "> ```"
   ]
  },
  {
   "cell_type": "markdown",
   "id": "7d40cdbf",
   "metadata": {},
   "source": [
    "## Task 1:"
   ]
  },
  {
   "cell_type": "code",
   "execution_count": null,
   "id": "2c7d9f79",
   "metadata": {},
   "outputs": [],
   "source": [
    "# prerequisites (don't edit this block)"
   ]
  },
  {
   "cell_type": "code",
   "execution_count": null,
   "id": "ceb9cf8c",
   "metadata": {},
   "outputs": [],
   "source": [
    "# Solution (put your code here)\n"
   ]
  },
  {
   "cell_type": "code",
   "execution_count": null,
   "id": "bcc99aa6",
   "metadata": {},
   "outputs": [],
   "source": [
    "# Test case (don't edit this block)"
   ]
  },
  {
   "cell_type": "markdown",
   "id": "8ce4926d",
   "metadata": {},
   "source": [
    "## Task 2:"
   ]
  },
  {
   "cell_type": "code",
   "execution_count": null,
   "id": "d3e928bb",
   "metadata": {},
   "outputs": [],
   "source": [
    "# prerequisites (don't edit this block)"
   ]
  },
  {
   "cell_type": "code",
   "execution_count": null,
   "id": "a76d5bcd",
   "metadata": {},
   "outputs": [],
   "source": [
    "# Solution (put your code here)\n"
   ]
  },
  {
   "cell_type": "code",
   "execution_count": null,
   "id": "fc0a460f",
   "metadata": {},
   "outputs": [],
   "source": [
    "# Test case (don't edit this block)"
   ]
  },
  {
   "cell_type": "markdown",
   "id": "44cd38ee",
   "metadata": {},
   "source": [
    "## Task 3:"
   ]
  },
  {
   "cell_type": "code",
   "execution_count": null,
   "id": "c168a5a9",
   "metadata": {},
   "outputs": [],
   "source": [
    "# prerequisites (don't edit this block)"
   ]
  },
  {
   "cell_type": "code",
   "execution_count": null,
   "id": "0fbbfca9",
   "metadata": {},
   "outputs": [],
   "source": [
    "# Solution (put your code here)\n"
   ]
  },
  {
   "cell_type": "code",
   "execution_count": null,
   "id": "578e6c5e",
   "metadata": {},
   "outputs": [],
   "source": [
    "# Test case (don't edit this block)"
   ]
  },
  {
   "cell_type": "markdown",
   "id": "b3ef45e7",
   "metadata": {},
   "source": [
    "## Task 4:"
   ]
  },
  {
   "cell_type": "code",
   "execution_count": null,
   "id": "542ade75",
   "metadata": {},
   "outputs": [],
   "source": [
    "# prerequisites (don't edit this block)"
   ]
  },
  {
   "cell_type": "code",
   "execution_count": null,
   "id": "a3bd6c21",
   "metadata": {},
   "outputs": [],
   "source": [
    "# Solution (put your code here)\n"
   ]
  },
  {
   "cell_type": "code",
   "execution_count": null,
   "id": "e23f9065",
   "metadata": {},
   "outputs": [],
   "source": [
    "# Test case (don't edit this block)"
   ]
  },
  {
   "cell_type": "markdown",
   "id": "1f48eb65",
   "metadata": {},
   "source": [
    "## Task 5:"
   ]
  },
  {
   "cell_type": "code",
   "execution_count": null,
   "id": "efcd960e",
   "metadata": {},
   "outputs": [],
   "source": [
    "# prerequisites (don't edit this block)"
   ]
  },
  {
   "cell_type": "code",
   "execution_count": null,
   "id": "69cc0c0d",
   "metadata": {},
   "outputs": [],
   "source": [
    "# Solution (put your code here)\n"
   ]
  },
  {
   "cell_type": "code",
   "execution_count": null,
   "id": "1948ebd5",
   "metadata": {},
   "outputs": [],
   "source": [
    "# Test case (don't edit this block)"
   ]
  },
  {
   "cell_type": "markdown",
   "id": "9c57ef66",
   "metadata": {},
   "source": [
    "---\n",
    "\n",
    "Lecture: AI I - Basics \n",
    "\n",
    "Next: [**Chapter 4.2: Machine Learning with scikit-learn**](../04_ml/02_machine_learning.ipynb)"
   ]
  }
 ],
 "metadata": {
  "language_info": {
   "name": "python"
  }
 },
 "nbformat": 4,
 "nbformat_minor": 5
}

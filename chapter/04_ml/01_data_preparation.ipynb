{
 "cells": [
  {
   "cell_type": "markdown",
   "id": "7eba2fee",
   "metadata": {},
   "source": [
    "Lecture: AI I - Basics \n",
    "\n",
    "Previous:\n",
    "[**Chapter 00: **]()\n",
    "\n",
    "---"
   ]
  },
  {
   "cell_type": "markdown",
   "id": "c232848e",
   "metadata": {},
   "source": [
    "# Chapter 01: Python Basics\n",
    "\n",
    "- [](#)"
   ]
  },
  {
   "cell_type": "markdown",
   "id": "9c57ef66",
   "metadata": {},
   "source": [
    "---\n",
    "\n",
    "Lecture: AI I - Basics \n",
    "\n",
    "Next: [**Chapter 02: **]()"
   ]
  }
 ],
 "metadata": {
  "language_info": {
   "name": "python"
  }
 },
 "nbformat": 4,
 "nbformat_minor": 5
}

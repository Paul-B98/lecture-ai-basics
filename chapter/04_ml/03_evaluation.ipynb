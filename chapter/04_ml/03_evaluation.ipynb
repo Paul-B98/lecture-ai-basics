{
 "cells": [
  {
   "cell_type": "markdown",
   "id": "03054424",
   "metadata": {},
   "source": [
    "Lecture: AI I - Basics \n",
    "\n",
    "Previous:\n",
    "[**Chapter 4.2: Machine Learning with scikit-learn**](../04_ml/02_machine_learning.ipynb)\n",
    "\n",
    "---"
   ]
  },
  {
   "cell_type": "markdown",
   "id": "3e178e91",
   "metadata": {},
   "source": [
    "# Chapter 4.3: Evaluation with scikit-learn\n",
    "\n",
    "- [Cross-Validation](#cross-validation)\n",
    "- [Hyperparameter Tuning](#hyperparameter-tuning)\n",
    "- [Metrics](#metrics)\n",
    "- [Visualization of Results](#visualization-of-results)"
   ]
  },
  {
   "cell_type": "markdown",
   "id": "bc024908",
   "metadata": {},
   "source": [
    "Model selection refers to choosing the ML model that best explains the given data. However, since there is a wide variety of different models, each with large parameter ranges, this task is very critical. For example, if a model is selected that performs very well on the training data but fails miserably on new data, it has not learned the underlying data distribution.  \n",
    "\n",
    "In this notebook, we will cover the following topics:  \n",
    "- Cross-validation  \n",
    "- Hyperparameter tuning  \n",
    "- Metrics and results  \n",
    "- Visualization of results  \n",
    "\n",
    "The topic of model selection and evaluation is also covered in great detail in the [sklearn user guide](https://scikit-learn.org/stable/model_selection.html).  \n"
   ]
  },
  {
   "cell_type": "code",
   "execution_count": 1,
   "id": "c2658296",
   "metadata": {},
   "outputs": [],
   "source": [
    "import numpy as np\n",
    "from matplotlib import pyplot as plt\n",
    "from sklearn import datasets"
   ]
  },
  {
   "cell_type": "markdown",
   "id": "00bd0acd",
   "metadata": {},
   "source": [
    "---\n",
    "\n",
    "Lecture: AI I - Basics \n",
    "\n",
    "Exercise: [**Exercise 4.3: Evaluation with scikit-learn**](../04_ml/exercises/03_evaluation.ipynb)\n",
    "\n",
    "Next: [**Chapter 5.1: Assesment 1**]()"
   ]
  }
 ],
 "metadata": {
  "kernelspec": {
   "display_name": "ai-lecture",
   "language": "python",
   "name": "python3"
  },
  "language_info": {
   "codemirror_mode": {
    "name": "ipython",
    "version": 3
   },
   "file_extension": ".py",
   "mimetype": "text/x-python",
   "name": "python",
   "nbconvert_exporter": "python",
   "pygments_lexer": "ipython3",
   "version": "3.12.11"
  }
 },
 "nbformat": 4,
 "nbformat_minor": 5
}

{
 "cells": [
  {
   "cell_type": "markdown",
   "id": "e14509fc",
   "metadata": {},
   "source": [
    "Lecture: AI I - Basics \n",
    "\n",
    "---"
   ]
  },
  {
   "cell_type": "markdown",
   "id": "35a024c7",
   "metadata": {},
   "source": [
    "# Chapter 1.1: Jupyter Notebook Basics\n",
    "\n",
    "- [Jupyter Notebook](#Jupyter-Notebook)\n",
    "- [Cell Types](#Cell-Types)"
   ]
  },
  {
   "cell_type": "markdown",
   "id": "66add4eb",
   "metadata": {},
   "source": [
    "## Jupyter Notebook"
   ]
  },
  {
   "cell_type": "markdown",
   "id": "b65f1e99",
   "metadata": {},
   "source": [
    "## Cell Types"
   ]
  },
  {
   "cell_type": "markdown",
   "id": "557f12d7",
   "metadata": {},
   "source": [
    "---\n",
    "\n",
    "Lecture: AI I - Basics \n",
    "\n",
    "Next: [**Chapter 2.1: Python Basics**](../02_python/01_basics.ipynb)"
   ]
  }
 ],
 "metadata": {
  "language_info": {
   "name": "python"
  }
 },
 "nbformat": 4,
 "nbformat_minor": 5
}

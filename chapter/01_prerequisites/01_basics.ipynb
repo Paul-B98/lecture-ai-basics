{
 "cells": [
  {
   "cell_type": "markdown",
   "id": "e14509fc",
   "metadata": {},
   "source": [
    "Lecture: AI I - Basics \n",
    "\n",
    "---"
   ]
  },
  {
   "cell_type": "markdown",
   "id": "35a024c7",
   "metadata": {},
   "source": [
    "# Chapter 1.1: Jupyter Notebook Basics\n",
    "\n",
    "- [Jupyter Notebook](#Jupyter-Notebook)\n",
    "- [Cell Types](#Cell-Types)"
   ]
  },
  {
   "cell_type": "markdown",
   "id": "66add4eb",
   "metadata": {},
   "source": [
    "## Jupyter Notebook\n",
    "\n",
    "The Jupyter Notebook is an interactive web application that allows you to create and share documents combining live code, visualisations, formatted text and more. It is widely used in data science, machine learning, and education for exploratory programming, teaching, and sharing results in a clear, reproducible way. The name **“Jupyter”** is derived from the core supported languages: `Julia`, `Python`, and `R`, reflecting its origin as an evolution of the IPython project into a multi-language platform.\n",
    "\n",
    "In Jupyter, a kernel is the computational engine that runs your code. When you open a notebook, it connects to a specific kernel to execute your inputs. The most common kernel is IPython for running `Python` code, but Jupyter supports many other kernels, such as IRkernel for `R`, IJulia for `Julia`, and kernels for languages like `Ruby`, and `Haskell`, and `Scala` and some more. Each kernel executes code in its language and returns the output to the notebook interface.  It is important to note that while you can run cells in any order, the kernel maintains a global state, meaning the order of execution matters – variables or imports defined in one cell will only be available if that cell has been run beforehand. Restarting the kernel clears all definitions, resetting the notebook’s state.\n",
    "\n",
    "An `.ipynb` file stores all the information of a Jupyter Notebook in a structured JSON format. This includes the contents of your code cells, markdown cells, and their outputs, such as printed results or plots. It also saves metadata about the notebook, like kernel information and cell execution counts. Because everything – code, text, results, and notebook settings – is saved in this single file, you can share or reopen it later with the complete state and structure intact.\n",
    "\n",
    "For more details on working with notebooks, you can visit the [Jupyter Notebook documentation](https://jupyter-notebook.readthedocs.io/en/stable/notebook.html). \n",
    "* [Visual Studio Code Jupyter Documentation](https://code.visualstudio.com/docs/datascience/jupyter-notebooks): for editing, running, and managing notebooks efficiently within VS Code.\n",
    "* [Jupyter Lab](https://docs.jupyter.org/en/latest/running.html): for editing, running, and managing notebooks efficiently within Jupyter Lab.\n",
    "* **Optionally** [Google Colab](https://colab.google/): a free Jupyter notebook environment that runs entirely in the cloud."
   ]
  },
  {
   "cell_type": "markdown",
   "id": "b65f1e99",
   "metadata": {},
   "source": [
    "## Cell Types\n",
    "\n",
    "Jupyter notebooks are structured into cells, which can be executed individually. There are two main cell types: \n",
    "- **code cells**, used to write and run code with output displayed directly below\n",
    "- [**markdown cells**](https://jupyter-notebook.readthedocs.io/en/stable/examples/Notebook/Working%20With%20Markdown%20Cells.html), used for explanatory text, formatted notes, headings, links, and LaTeX equations. This combination of code and narrative makes Jupyter powerful for clear, organised, and interactive computational documents.\n",
    "\n",
    "**Code cell:**"
   ]
  },
  {
   "cell_type": "code",
   "execution_count": null,
   "id": "7d14284a",
   "metadata": {},
   "outputs": [],
   "source": [
    "!python --version"
   ]
  },
  {
   "cell_type": "markdown",
   "id": "8587a713",
   "metadata": {},
   "source": [
    "Take a few minutes to open a notebook and test some simple calculations – you’ll quickly see how it makes coding more intuitive and productive."
   ]
  },
  {
   "cell_type": "markdown",
   "id": "557f12d7",
   "metadata": {},
   "source": [
    "---\n",
    "\n",
    "Lecture: AI I - Basics \n",
    "\n",
    "Next: [**Chapter 2.1: Python Basics**](../02_python/01_basics.ipynb)"
   ]
  }
 ],
 "metadata": {
  "kernelspec": {
   "display_name": ".venv",
   "language": "python",
   "name": "python3"
  },
  "language_info": {
   "name": "python",
   "version": "3.12.11"
  }
 },
 "nbformat": 4,
 "nbformat_minor": 5
}

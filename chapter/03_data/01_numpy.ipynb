{
 "cells": [
  {
   "cell_type": "markdown",
   "id": "303936bb",
   "metadata": {},
   "source": [
    "Lecture: AI I - Basics \n",
    "\n",
    "Previous:\n",
    "[**Chapter 2.5: Additionals**](../02_python/05_additionals.ipynb)\n",
    "\n",
    "---"
   ]
  },
  {
   "cell_type": "markdown",
   "id": "80c34a6f",
   "metadata": {},
   "source": [
    "# Chapter 3.1: Numpy\n",
    "\n",
    "- [Create Numpy Arrays](#creating-numpy-arrays)\n",
    "- [Data Types](#data-types)\n",
    "- [Working with Arrays](#working-with-arrays)\n",
    "- [Applying Functions to Arrays](#applying-functions-to-arrays)\n",
    "- [Numpy Arrays as Sequences](#numpy-arrays-as-sequences)\n",
    "- [Broadcasting](#broadcasting)\n",
    "- [Aggregation Functions](#aggregation-functions)\n",
    "- [Reading and Saving Data](#reading-and-saving-data)\n",
    "- [Advanced Indexing](#advanced-indexing)\n",
    "- [Expanding, Reducing, Combining Arrays](#expanding-reducing-combining-arrays)\n",
    "- [Numpy Print Options](#numpy-print-options)\n"
   ]
  },
  {
   "cell_type": "markdown",
   "id": "b2ea84ad",
   "metadata": {},
   "source": [
    "## The Modul Numpy\n",
    "\n",
    "Python lists are very flexible since they can hold values of different data types and can easily be modified (e.g., with `append`).  \n",
    "However, this flexibility comes at the cost of performance, making lists less suitable for numerical computations.\n",
    "\n",
    "The **NumPy** [module](https://numpy.org/doc/stable/user/index.html) therefore defines the n-dimensional **array** data type `numpy.ndarray`, which relies on highly optimized C and Fortran code for efficient numerical calculations.\n",
    "\n",
    "Arrays can only store values of a single numerical data type (e.g., floating-point values) and are much more rigid than lists.  \n",
    "Nevertheless, this is exactly what we need for many scientific applications, such as working with datasets!\n",
    "\n",
    "By convention, we import the NumPy module under the abbreviation `np`:\n"
   ]
  },
  {
   "cell_type": "code",
   "execution_count": 1,
   "id": "e8e87f1d",
   "metadata": {},
   "outputs": [],
   "source": [
    "import numpy as np"
   ]
  },
  {
   "cell_type": "markdown",
   "id": "a1331224",
   "metadata": {},
   "source": [
    "### Introductory Example\n",
    "\n",
    "Built-in Python containers such as `list` provide a flexible way to store and manage data.  \n",
    "As mentioned earlier, collections usually store only references to objects. While this is very convenient when writing code, it comes with memory performance costs.  \n",
    "\n",
    "Let’s look at an example. Suppose we conducted an experiment with one million measurements and now want to calculate their average.  \n",
    "We could do this as follows:"
   ]
  },
  {
   "cell_type": "code",
   "execution_count": 2,
   "id": "26e5af78",
   "metadata": {},
   "outputs": [
    {
     "name": "stdout",
     "output_type": "stream",
     "text": [
      "[187, 168, 165, 163, 163, 154, 161, 176, 200, 183]\n"
     ]
    }
   ],
   "source": [
    "import random \n",
    "measurements = [random.randint(150, 200) for _ in range(1_000_000)]\n",
    "print(measurements[:10])"
   ]
  },
  {
   "cell_type": "markdown",
   "id": "dac02c08",
   "metadata": {},
   "source": [
    "That’s quite slow because, in each loop iteration, Python has to bind a new variable and then check whether the `+` operation is supported between the `accumulator` and the current `measurement`.  \n",
    "This prevents attempts to add objects that aren’t addable—but in our case we’re confident we’re dealing only with integers.  \n",
    "If we could tell the interpreter that we’re only adding integers, it could skip all that type checking and speed things up.  \n",
    "This is exactly the use case `numpy` was created for.\n"
   ]
  },
  {
   "cell_type": "code",
   "execution_count": 3,
   "id": "d155f493",
   "metadata": {},
   "outputs": [
    {
     "name": "stdout",
     "output_type": "stream",
     "text": [
      "17 ms ± 486 μs per loop (mean ± std. dev. of 7 runs, 100 loops each)\n"
     ]
    }
   ],
   "source": [
    "def mean(values):\n",
    "    accumulator = 0\n",
    "    for value in values:\n",
    "        accumulator += value\n",
    "    mean_value = accumulator / len(values)\n",
    "    return mean_value\n",
    "\n",
    "%timeit mean(measurements)"
   ]
  },
  {
   "cell_type": "markdown",
   "id": "46faf869",
   "metadata": {},
   "source": [
    "We can already achieve faster computations by making use of as many of Python’s built-in functions as possible, such as `sum`."
   ]
  },
  {
   "cell_type": "code",
   "execution_count": 4,
   "id": "4c655eba",
   "metadata": {},
   "outputs": [
    {
     "name": "stdout",
     "output_type": "stream",
     "text": [
      "3.55 ms ± 21.8 μs per loop (mean ± std. dev. of 7 runs, 100 loops each)\n"
     ]
    }
   ],
   "source": [
    "%timeit sum(measurements) / len(measurements)"
   ]
  },
  {
   "cell_type": "markdown",
   "id": "f4347c0e",
   "metadata": {},
   "source": [
    "The standard data type in NumPy is the `ndarray` (short for n-dimensional array). In the simplest case, a NumPy array can be created from a Python list."
   ]
  },
  {
   "cell_type": "code",
   "execution_count": 5,
   "id": "919aa252",
   "metadata": {},
   "outputs": [
    {
     "data": {
      "text/plain": [
       "array([187, 168, 165, ..., 170, 164, 158])"
      ]
     },
     "execution_count": 5,
     "metadata": {},
     "output_type": "execute_result"
    }
   ],
   "source": [
    "measurements_array = np.array(measurements)\n",
    "measurements_array"
   ]
  },
  {
   "cell_type": "code",
   "execution_count": 6,
   "id": "9014a0b3",
   "metadata": {},
   "outputs": [
    {
     "data": {
      "text/plain": [
       "numpy.ndarray"
      ]
     },
     "execution_count": 6,
     "metadata": {},
     "output_type": "execute_result"
    }
   ],
   "source": [
    "type(measurements_array)"
   ]
  },
  {
   "cell_type": "markdown",
   "id": "d72053bd",
   "metadata": {},
   "source": [
    "They behave very similarly to lists but have a fixed underlying data type. NumPy automatically detects that all our values are integers and chooses the appropriate data type: a 64-bit integer. For more details, see the documentation: https://docs.scipy.org/doc/numpy-1.13.0/user/basics.types.html"
   ]
  },
  {
   "cell_type": "code",
   "execution_count": 7,
   "id": "612d04e0",
   "metadata": {},
   "outputs": [
    {
     "data": {
      "text/plain": [
       "dtype('int64')"
      ]
     },
     "execution_count": 7,
     "metadata": {},
     "output_type": "execute_result"
    }
   ],
   "source": [
    "measurements_array.dtype"
   ]
  },
  {
   "cell_type": "markdown",
   "id": "adac6c61",
   "metadata": {},
   "source": [
    "In addition, NumPy provides a wide range of routines for performing mathematical operations on arrays. Let’s see whether using NumPy actually gives us a performance advantage."
   ]
  },
  {
   "cell_type": "code",
   "execution_count": 8,
   "id": "67eed5c5",
   "metadata": {},
   "outputs": [
    {
     "name": "stdout",
     "output_type": "stream",
     "text": [
      "370 μs ± 4.96 μs per loop (mean ± std. dev. of 7 runs, 1,000 loops each)\n"
     ]
    }
   ],
   "source": [
    "%timeit np.mean(measurements_array)"
   ]
  },
  {
   "cell_type": "markdown",
   "id": "420e5237",
   "metadata": {},
   "source": [
    "A clear speedup compared to pure Python implementations! Now that we’ve seen the usefulness of NumPy, let’s take a closer look at the NumPy array."
   ]
  },
  {
   "cell_type": "markdown",
   "id": "9e42c741",
   "metadata": {},
   "source": [
    "## Creating NumPy Arrays\n",
    "\n",
    "The simplest way to create NumPy arrays is from Python lists, using the `numpy.array` function:\n"
   ]
  },
  {
   "cell_type": "code",
   "execution_count": 9,
   "id": "91b18ae2",
   "metadata": {},
   "outputs": [
    {
     "name": "stdout",
     "output_type": "stream",
     "text": [
      "<class 'numpy.ndarray'>\n"
     ]
    }
   ],
   "source": [
    "a = np.array([1, 2, 3])   # Create a rank 1 array\n",
    "print(type(a))            # Prints \"<class 'numpy.ndarray'>\""
   ]
  },
  {
   "cell_type": "code",
   "execution_count": 10,
   "id": "004ad1fd",
   "metadata": {},
   "outputs": [
    {
     "data": {
      "text/plain": [
       "array([ 1,  2,  3,  5,  8, 13])"
      ]
     },
     "execution_count": 10,
     "metadata": {},
     "output_type": "execute_result"
    }
   ],
   "source": [
    "a = np.array([ 1, 2, 3, 5, 8, 13])\n",
    "a"
   ]
  },
  {
   "cell_type": "code",
   "execution_count": 11,
   "id": "f1d02065",
   "metadata": {},
   "outputs": [
    {
     "data": {
      "text/plain": [
       "array([[1.5, 2.2, 3.1],\n",
       "       [4. , 5.2, 6.7]])"
      ]
     },
     "execution_count": 11,
     "metadata": {},
     "output_type": "execute_result"
    }
   ],
   "source": [
    "b = np.array([[  1.5, 2.2, 3.1 ], [ 4.0, 5.2, 6.7 ]])\n",
    "b"
   ]
  },
  {
   "cell_type": "markdown",
   "id": "0e910195",
   "metadata": {},
   "source": [
    "NumPy arrays have several **attributes** that provide useful information about the array.\n",
    "\n",
    "The number of dimensions of the array:"
   ]
  },
  {
   "cell_type": "code",
   "execution_count": 12,
   "id": "e413ef88",
   "metadata": {},
   "outputs": [
    {
     "data": {
      "text/plain": [
       "(1, 2)"
      ]
     },
     "execution_count": 12,
     "metadata": {},
     "output_type": "execute_result"
    }
   ],
   "source": [
    "a.ndim, b.ndim"
   ]
  },
  {
   "cell_type": "markdown",
   "id": "6a011720",
   "metadata": {},
   "source": [
    "The length of the array in each dimension:"
   ]
  },
  {
   "cell_type": "code",
   "execution_count": 13,
   "id": "e4528239",
   "metadata": {},
   "outputs": [
    {
     "data": {
      "text/plain": [
       "((6,), (2, 3))"
      ]
     },
     "execution_count": 13,
     "metadata": {},
     "output_type": "execute_result"
    }
   ],
   "source": [
    "a.shape, b.shape"
   ]
  },
  {
   "cell_type": "markdown",
   "id": "aba7a1b1",
   "metadata": {},
   "source": [
    "The data type of the array:"
   ]
  },
  {
   "cell_type": "code",
   "execution_count": 14,
   "id": "6fcb3a3d",
   "metadata": {},
   "outputs": [
    {
     "data": {
      "text/plain": [
       "(dtype('int64'), dtype('float64'))"
      ]
     },
     "execution_count": 14,
     "metadata": {},
     "output_type": "execute_result"
    }
   ],
   "source": [
    "a.dtype, b.dtype"
   ]
  },
  {
   "cell_type": "markdown",
   "id": "0f34b83d",
   "metadata": {},
   "source": [
    "> **Reminder:** Use `<TAB>` autocompletion and the `?` documentation in Jupyter Notebook if you’re unsure which functions exist or what they do!"
   ]
  },
  {
   "cell_type": "code",
   "execution_count": 15,
   "id": "9501ce01",
   "metadata": {},
   "outputs": [
    {
     "data": {
      "text/plain": [
       "array([[0, 1, 2, 3, 4],\n",
       "       [0, 1, 2, 3, 4],\n",
       "       [0, 1, 2, 3, 4]])"
      ]
     },
     "execution_count": 15,
     "metadata": {},
     "output_type": "execute_result"
    }
   ],
   "source": [
    "values = [[0, 1, 2, 3, 4]] * 3\n",
    "two_dim_arr = np.array(values)\n",
    "two_dim_arr"
   ]
  },
  {
   "cell_type": "code",
   "execution_count": 16,
   "id": "a9c139b3",
   "metadata": {},
   "outputs": [
    {
     "data": {
      "text/plain": [
       "(3, 5)"
      ]
     },
     "execution_count": 16,
     "metadata": {},
     "output_type": "execute_result"
    }
   ],
   "source": [
    "two_dim_arr.shape"
   ]
  },
  {
   "cell_type": "code",
   "execution_count": 17,
   "id": "72dc7ac5",
   "metadata": {},
   "outputs": [
    {
     "data": {
      "text/plain": [
       "2"
      ]
     },
     "execution_count": 17,
     "metadata": {},
     "output_type": "execute_result"
    }
   ],
   "source": [
    "two_dim_arr.ndim"
   ]
  },
  {
   "cell_type": "code",
   "execution_count": 18,
   "id": "9a567424",
   "metadata": {},
   "outputs": [
    {
     "data": {
      "text/plain": [
       "array([[[0, 1, 2, 3, 4],\n",
       "        [0, 1, 2, 3, 4],\n",
       "        [0, 1, 2, 3, 4]],\n",
       "\n",
       "       [[0, 1, 2, 3, 4],\n",
       "        [0, 1, 2, 3, 4],\n",
       "        [0, 1, 2, 3, 4]],\n",
       "\n",
       "       [[0, 1, 2, 3, 4],\n",
       "        [0, 1, 2, 3, 4],\n",
       "        [0, 1, 2, 3, 4]],\n",
       "\n",
       "       [[0, 1, 2, 3, 4],\n",
       "        [0, 1, 2, 3, 4],\n",
       "        [0, 1, 2, 3, 4]],\n",
       "\n",
       "       [[0, 1, 2, 3, 4],\n",
       "        [0, 1, 2, 3, 4],\n",
       "        [0, 1, 2, 3, 4]],\n",
       "\n",
       "       [[0, 1, 2, 3, 4],\n",
       "        [0, 1, 2, 3, 4],\n",
       "        [0, 1, 2, 3, 4]]])"
      ]
     },
     "execution_count": 18,
     "metadata": {},
     "output_type": "execute_result"
    }
   ],
   "source": [
    "values = [[[0, 1, 2, 3, 4]] * 3] * 6\n",
    "three_dim_arr = np.array(values)\n",
    "three_dim_arr"
   ]
  },
  {
   "cell_type": "code",
   "execution_count": 19,
   "id": "aaf19fee",
   "metadata": {},
   "outputs": [
    {
     "data": {
      "text/plain": [
       "(6, 3, 5)"
      ]
     },
     "execution_count": 19,
     "metadata": {},
     "output_type": "execute_result"
    }
   ],
   "source": [
    "three_dim_arr.shape"
   ]
  },
  {
   "cell_type": "code",
   "execution_count": 20,
   "id": "cb21cf12",
   "metadata": {},
   "outputs": [
    {
     "data": {
      "text/plain": [
       "3"
      ]
     },
     "execution_count": 20,
     "metadata": {},
     "output_type": "execute_result"
    }
   ],
   "source": [
    "three_dim_arr.ndim"
   ]
  },
  {
   "cell_type": "markdown",
   "id": "23192867",
   "metadata": {},
   "source": [
    "---\n",
    "\n",
    "Lecture: AI I - Basics \n",
    "\n",
    "Excersie: [**Excersie 3.1: Numpy**](../03_data/exercises/01_numpy.ipynb)\n",
    "\n",
    "Next: [**Chapter 3.2: Pandas**](../03_data/02_pandas.ipynb)"
   ]
  }
 ],
 "metadata": {
  "kernelspec": {
   "display_name": "ai-lecture",
   "language": "python",
   "name": "python3"
  },
  "language_info": {
   "codemirror_mode": {
    "name": "ipython",
    "version": 3
   },
   "file_extension": ".py",
   "mimetype": "text/x-python",
   "name": "python",
   "nbconvert_exporter": "python",
   "pygments_lexer": "ipython3",
   "version": "3.12.11"
  }
 },
 "nbformat": 4,
 "nbformat_minor": 5
}

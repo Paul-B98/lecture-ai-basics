{
 "cells": [
  {
   "cell_type": "markdown",
   "id": "303936bb",
   "metadata": {},
   "source": [
    "Lecture: AI I - Basics \n",
    "\n",
    "Previous:\n",
    "[**Chapter 2.5: Additionals**](../02_python/05_additionals.ipynb)\n",
    "\n",
    "---"
   ]
  },
  {
   "cell_type": "markdown",
   "id": "80c34a6f",
   "metadata": {},
   "source": [
    "# Chapter 3.1: Numpy\n",
    "\n",
    "- [Create Numpy Arrays](#creating-numpy-arrays)\n",
    "- [Data Types](#data-types)\n",
    "- [Working with Arrays](#working-with-arrays)\n",
    "- [Applying Functions to Arrays](#applying-functions-to-arrays)\n",
    "- [Numpy Arrays as Sequences](#numpy-arrays-as-sequences)\n",
    "- [Broadcasting](#broadcasting)\n",
    "- [Aggregation Functions](#aggregation-functions)\n",
    "- [Reading and Saving Data](#reading-and-saving-data)\n",
    "- [Advanced Indexing](#advanced-indexing)\n",
    "- [Expanding, Reducing, Combining Arrays](#expanding-reducing-combining-arrays)\n",
    "- [Numpy Print Options](#numpy-print-options)\n"
   ]
  },
  {
   "cell_type": "markdown",
   "id": "b2ea84ad",
   "metadata": {},
   "source": [
    "## The Modul Numpy\n",
    "\n",
    "Python lists are very flexible since they can hold values of different data types and can easily be modified (e.g., with `append`).  \n",
    "However, this flexibility comes at the cost of performance, making lists less suitable for numerical computations.\n",
    "\n",
    "The **NumPy** [module](https://numpy.org/doc/stable/user/index.html) therefore defines the n-dimensional **array** data type `numpy.ndarray`, which relies on highly optimized C and Fortran code for efficient numerical calculations.\n",
    "\n",
    "Arrays can only store values of a single numerical data type (e.g., floating-point values) and are much more rigid than lists.  \n",
    "Nevertheless, this is exactly what we need for many scientific applications, such as working with datasets!\n",
    "\n",
    "By convention, we import the NumPy module under the abbreviation `np`:\n"
   ]
  },
  {
   "cell_type": "code",
   "execution_count": 1,
   "id": "e8e87f1d",
   "metadata": {},
   "outputs": [],
   "source": [
    "import numpy as np"
   ]
  },
  {
   "cell_type": "markdown",
   "id": "23192867",
   "metadata": {},
   "source": [
    "---\n",
    "\n",
    "Lecture: AI I - Basics \n",
    "\n",
    "Excersie: [**Excersie 3.1: Numpy**](../03_data/exercises/01_numpy.ipynb)\n",
    "\n",
    "Next: [**Chapter 3.2: Pandas**](../03_data/02_pandas.ipynb)"
   ]
  }
 ],
 "metadata": {
  "kernelspec": {
   "display_name": "ai-lecture",
   "language": "python",
   "name": "python3"
  },
  "language_info": {
   "codemirror_mode": {
    "name": "ipython",
    "version": 3
   },
   "file_extension": ".py",
   "mimetype": "text/x-python",
   "name": "python",
   "nbconvert_exporter": "python",
   "pygments_lexer": "ipython3",
   "version": "3.12.11"
  }
 },
 "nbformat": 4,
 "nbformat_minor": 5
}

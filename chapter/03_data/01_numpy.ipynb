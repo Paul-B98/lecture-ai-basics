{
 "cells": [
  {
   "cell_type": "markdown",
   "id": "303936bb",
   "metadata": {},
   "source": [
    "Lecture: AI I - Basics \n",
    "\n",
    "Previous:\n",
    "[**Chapter 2.5: Additionals**](../02_python/05_additionals.ipynb)\n",
    "\n",
    "---"
   ]
  },
  {
   "cell_type": "markdown",
   "id": "80c34a6f",
   "metadata": {},
   "source": [
    "# Chapter 3.1: Numpy\n",
    "\n",
    "- [Create Numpy Arrays](#creating-numpy-arrays)\n",
    "- [Data Types](#data-types)\n",
    "- [Working with Arrays](#working-with-arrays)\n",
    "- [Applying Functions to Arrays](#applying-functions-to-arrays)\n",
    "- [Numpy Arrays as Sequences](#numpy-arrays-as-sequences)\n",
    "- [Broadcasting](#broadcasting)\n",
    "- [Aggregation Functions](#aggregation-functions)\n",
    "- [Reading and Saving Data](#reading-and-saving-data)\n",
    "- [Advanced Indexing](#advanced-indexing)\n",
    "- [Expanding, Reducing, Combining Arrays](#expanding-reducing-combining-arrays)\n",
    "- [Numpy Print Options](#numpy-print-options)\n"
   ]
  },
  {
   "cell_type": "markdown",
   "id": "b2ea84ad",
   "metadata": {},
   "source": [
    "## The Modul Numpy\n",
    "\n",
    "Python lists are very flexible since they can hold values of different data types and can easily be modified (e.g., with `append`).  \n",
    "However, this flexibility comes at the cost of performance, making lists less suitable for numerical computations.\n",
    "\n",
    "The **NumPy** [module](https://numpy.org/doc/stable/user/index.html) therefore defines the n-dimensional **array** data type `numpy.ndarray`, which relies on highly optimized C and Fortran code for efficient numerical calculations.\n",
    "\n",
    "Arrays can only store values of a single numerical data type (e.g., floating-point values) and are much more rigid than lists.  \n",
    "Nevertheless, this is exactly what we need for many scientific applications, such as working with datasets!\n",
    "\n",
    "By convention, we import the NumPy module under the abbreviation `np`:\n"
   ]
  },
  {
   "cell_type": "code",
   "execution_count": 1,
   "id": "e8e87f1d",
   "metadata": {},
   "outputs": [],
   "source": [
    "import numpy as np"
   ]
  },
  {
   "cell_type": "markdown",
   "id": "a1331224",
   "metadata": {},
   "source": [
    "### Introductory Example\n",
    "\n",
    "Built-in Python containers such as `list` provide a flexible way to store and manage data.  \n",
    "As mentioned earlier, collections usually store only references to objects. While this is very convenient when writing code, it comes with memory performance costs.  \n",
    "\n",
    "Let’s look at an example. Suppose we conducted an experiment with one million measurements and now want to calculate their average.  \n",
    "We could do this as follows:"
   ]
  },
  {
   "cell_type": "code",
   "execution_count": 2,
   "id": "26e5af78",
   "metadata": {},
   "outputs": [
    {
     "name": "stdout",
     "output_type": "stream",
     "text": [
      "[187, 168, 165, 163, 163, 154, 161, 176, 200, 183]\n"
     ]
    }
   ],
   "source": [
    "import random \n",
    "measurements = [random.randint(150, 200) for _ in range(1_000_000)]\n",
    "print(measurements[:10])"
   ]
  },
  {
   "cell_type": "markdown",
   "id": "dac02c08",
   "metadata": {},
   "source": [
    "That’s quite slow because, in each loop iteration, Python has to bind a new variable and then check whether the `+` operation is supported between the `accumulator` and the current `measurement`.  \n",
    "This prevents attempts to add objects that aren’t addable—but in our case we’re confident we’re dealing only with integers.  \n",
    "If we could tell the interpreter that we’re only adding integers, it could skip all that type checking and speed things up.  \n",
    "This is exactly the use case `numpy` was created for.\n"
   ]
  },
  {
   "cell_type": "code",
   "execution_count": 3,
   "id": "d155f493",
   "metadata": {},
   "outputs": [
    {
     "name": "stdout",
     "output_type": "stream",
     "text": [
      "17 ms ± 486 μs per loop (mean ± std. dev. of 7 runs, 100 loops each)\n"
     ]
    }
   ],
   "source": [
    "def mean(values):\n",
    "    accumulator = 0\n",
    "    for value in values:\n",
    "        accumulator += value\n",
    "    mean_value = accumulator / len(values)\n",
    "    return mean_value\n",
    "\n",
    "%timeit mean(measurements)"
   ]
  },
  {
   "cell_type": "markdown",
   "id": "46faf869",
   "metadata": {},
   "source": [
    "We can already achieve faster computations by making use of as many of Python’s built-in functions as possible, such as `sum`."
   ]
  },
  {
   "cell_type": "code",
   "execution_count": 4,
   "id": "4c655eba",
   "metadata": {},
   "outputs": [
    {
     "name": "stdout",
     "output_type": "stream",
     "text": [
      "3.55 ms ± 21.8 μs per loop (mean ± std. dev. of 7 runs, 100 loops each)\n"
     ]
    }
   ],
   "source": [
    "%timeit sum(measurements) / len(measurements)"
   ]
  },
  {
   "cell_type": "markdown",
   "id": "f4347c0e",
   "metadata": {},
   "source": [
    "The standard data type in NumPy is the `ndarray` (short for n-dimensional array). In the simplest case, a NumPy array can be created from a Python list."
   ]
  },
  {
   "cell_type": "code",
   "execution_count": 5,
   "id": "919aa252",
   "metadata": {},
   "outputs": [
    {
     "data": {
      "text/plain": [
       "array([187, 168, 165, ..., 170, 164, 158])"
      ]
     },
     "execution_count": 5,
     "metadata": {},
     "output_type": "execute_result"
    }
   ],
   "source": [
    "measurements_array = np.array(measurements)\n",
    "measurements_array"
   ]
  },
  {
   "cell_type": "code",
   "execution_count": 6,
   "id": "9014a0b3",
   "metadata": {},
   "outputs": [
    {
     "data": {
      "text/plain": [
       "numpy.ndarray"
      ]
     },
     "execution_count": 6,
     "metadata": {},
     "output_type": "execute_result"
    }
   ],
   "source": [
    "type(measurements_array)"
   ]
  },
  {
   "cell_type": "markdown",
   "id": "d72053bd",
   "metadata": {},
   "source": [
    "They behave very similarly to lists but have a fixed underlying data type. NumPy automatically detects that all our values are integers and chooses the appropriate data type: a 64-bit integer. For more details, see the documentation: https://docs.scipy.org/doc/numpy-1.13.0/user/basics.types.html"
   ]
  },
  {
   "cell_type": "code",
   "execution_count": 7,
   "id": "612d04e0",
   "metadata": {},
   "outputs": [
    {
     "data": {
      "text/plain": [
       "dtype('int64')"
      ]
     },
     "execution_count": 7,
     "metadata": {},
     "output_type": "execute_result"
    }
   ],
   "source": [
    "measurements_array.dtype"
   ]
  },
  {
   "cell_type": "markdown",
   "id": "adac6c61",
   "metadata": {},
   "source": [
    "In addition, NumPy provides a wide range of routines for performing mathematical operations on arrays. Let’s see whether using NumPy actually gives us a performance advantage."
   ]
  },
  {
   "cell_type": "code",
   "execution_count": 8,
   "id": "67eed5c5",
   "metadata": {},
   "outputs": [
    {
     "name": "stdout",
     "output_type": "stream",
     "text": [
      "370 μs ± 4.96 μs per loop (mean ± std. dev. of 7 runs, 1,000 loops each)\n"
     ]
    }
   ],
   "source": [
    "%timeit np.mean(measurements_array)"
   ]
  },
  {
   "cell_type": "markdown",
   "id": "420e5237",
   "metadata": {},
   "source": [
    "A clear speedup compared to pure Python implementations! Now that we’ve seen the usefulness of NumPy, let’s take a closer look at the NumPy array."
   ]
  },
  {
   "cell_type": "markdown",
   "id": "9e42c741",
   "metadata": {},
   "source": [
    "## Creating NumPy Arrays\n",
    "\n",
    "The simplest way to create NumPy arrays is from Python lists, using the `numpy.array` function:\n"
   ]
  },
  {
   "cell_type": "code",
   "execution_count": 9,
   "id": "91b18ae2",
   "metadata": {},
   "outputs": [
    {
     "name": "stdout",
     "output_type": "stream",
     "text": [
      "<class 'numpy.ndarray'>\n"
     ]
    }
   ],
   "source": [
    "a = np.array([1, 2, 3])   # Create a rank 1 array\n",
    "print(type(a))            # Prints \"<class 'numpy.ndarray'>\""
   ]
  },
  {
   "cell_type": "code",
   "execution_count": 10,
   "id": "004ad1fd",
   "metadata": {},
   "outputs": [
    {
     "data": {
      "text/plain": [
       "array([ 1,  2,  3,  5,  8, 13])"
      ]
     },
     "execution_count": 10,
     "metadata": {},
     "output_type": "execute_result"
    }
   ],
   "source": [
    "a = np.array([ 1, 2, 3, 5, 8, 13])\n",
    "a"
   ]
  },
  {
   "cell_type": "code",
   "execution_count": 11,
   "id": "f1d02065",
   "metadata": {},
   "outputs": [
    {
     "data": {
      "text/plain": [
       "array([[1.5, 2.2, 3.1],\n",
       "       [4. , 5.2, 6.7]])"
      ]
     },
     "execution_count": 11,
     "metadata": {},
     "output_type": "execute_result"
    }
   ],
   "source": [
    "b = np.array([[  1.5, 2.2, 3.1 ], [ 4.0, 5.2, 6.7 ]])\n",
    "b"
   ]
  },
  {
   "cell_type": "markdown",
   "id": "0e910195",
   "metadata": {},
   "source": [
    "NumPy arrays have several **attributes** that provide useful information about the array.\n",
    "\n",
    "The number of dimensions of the array:"
   ]
  },
  {
   "cell_type": "code",
   "execution_count": 12,
   "id": "e413ef88",
   "metadata": {},
   "outputs": [
    {
     "data": {
      "text/plain": [
       "(1, 2)"
      ]
     },
     "execution_count": 12,
     "metadata": {},
     "output_type": "execute_result"
    }
   ],
   "source": [
    "a.ndim, b.ndim"
   ]
  },
  {
   "cell_type": "markdown",
   "id": "6a011720",
   "metadata": {},
   "source": [
    "The length of the array in each dimension:"
   ]
  },
  {
   "cell_type": "code",
   "execution_count": 13,
   "id": "e4528239",
   "metadata": {},
   "outputs": [
    {
     "data": {
      "text/plain": [
       "((6,), (2, 3))"
      ]
     },
     "execution_count": 13,
     "metadata": {},
     "output_type": "execute_result"
    }
   ],
   "source": [
    "a.shape, b.shape"
   ]
  },
  {
   "cell_type": "markdown",
   "id": "aba7a1b1",
   "metadata": {},
   "source": [
    "The data type of the array:"
   ]
  },
  {
   "cell_type": "code",
   "execution_count": 14,
   "id": "6fcb3a3d",
   "metadata": {},
   "outputs": [
    {
     "data": {
      "text/plain": [
       "(dtype('int64'), dtype('float64'))"
      ]
     },
     "execution_count": 14,
     "metadata": {},
     "output_type": "execute_result"
    }
   ],
   "source": [
    "a.dtype, b.dtype"
   ]
  },
  {
   "cell_type": "markdown",
   "id": "0f34b83d",
   "metadata": {},
   "source": [
    "> **Reminder:** Use `<TAB>` autocompletion and the `?` documentation in Jupyter Notebook if you’re unsure which functions exist or what they do!"
   ]
  },
  {
   "cell_type": "code",
   "execution_count": 15,
   "id": "9501ce01",
   "metadata": {},
   "outputs": [
    {
     "data": {
      "text/plain": [
       "array([[0, 1, 2, 3, 4],\n",
       "       [0, 1, 2, 3, 4],\n",
       "       [0, 1, 2, 3, 4]])"
      ]
     },
     "execution_count": 15,
     "metadata": {},
     "output_type": "execute_result"
    }
   ],
   "source": [
    "values = [[0, 1, 2, 3, 4]] * 3\n",
    "two_dim_arr = np.array(values)\n",
    "two_dim_arr"
   ]
  },
  {
   "cell_type": "code",
   "execution_count": 16,
   "id": "a9c139b3",
   "metadata": {},
   "outputs": [
    {
     "data": {
      "text/plain": [
       "(3, 5)"
      ]
     },
     "execution_count": 16,
     "metadata": {},
     "output_type": "execute_result"
    }
   ],
   "source": [
    "two_dim_arr.shape"
   ]
  },
  {
   "cell_type": "code",
   "execution_count": 17,
   "id": "72dc7ac5",
   "metadata": {},
   "outputs": [
    {
     "data": {
      "text/plain": [
       "2"
      ]
     },
     "execution_count": 17,
     "metadata": {},
     "output_type": "execute_result"
    }
   ],
   "source": [
    "two_dim_arr.ndim"
   ]
  },
  {
   "cell_type": "code",
   "execution_count": 18,
   "id": "9a567424",
   "metadata": {},
   "outputs": [
    {
     "data": {
      "text/plain": [
       "array([[[0, 1, 2, 3, 4],\n",
       "        [0, 1, 2, 3, 4],\n",
       "        [0, 1, 2, 3, 4]],\n",
       "\n",
       "       [[0, 1, 2, 3, 4],\n",
       "        [0, 1, 2, 3, 4],\n",
       "        [0, 1, 2, 3, 4]],\n",
       "\n",
       "       [[0, 1, 2, 3, 4],\n",
       "        [0, 1, 2, 3, 4],\n",
       "        [0, 1, 2, 3, 4]],\n",
       "\n",
       "       [[0, 1, 2, 3, 4],\n",
       "        [0, 1, 2, 3, 4],\n",
       "        [0, 1, 2, 3, 4]],\n",
       "\n",
       "       [[0, 1, 2, 3, 4],\n",
       "        [0, 1, 2, 3, 4],\n",
       "        [0, 1, 2, 3, 4]],\n",
       "\n",
       "       [[0, 1, 2, 3, 4],\n",
       "        [0, 1, 2, 3, 4],\n",
       "        [0, 1, 2, 3, 4]]])"
      ]
     },
     "execution_count": 18,
     "metadata": {},
     "output_type": "execute_result"
    }
   ],
   "source": [
    "values = [[[0, 1, 2, 3, 4]] * 3] * 6\n",
    "three_dim_arr = np.array(values)\n",
    "three_dim_arr"
   ]
  },
  {
   "cell_type": "code",
   "execution_count": 19,
   "id": "aaf19fee",
   "metadata": {},
   "outputs": [
    {
     "data": {
      "text/plain": [
       "(6, 3, 5)"
      ]
     },
     "execution_count": 19,
     "metadata": {},
     "output_type": "execute_result"
    }
   ],
   "source": [
    "three_dim_arr.shape"
   ]
  },
  {
   "cell_type": "code",
   "execution_count": 20,
   "id": "cb21cf12",
   "metadata": {},
   "outputs": [
    {
     "data": {
      "text/plain": [
       "3"
      ]
     },
     "execution_count": 20,
     "metadata": {},
     "output_type": "execute_result"
    }
   ],
   "source": [
    "three_dim_arr.ndim"
   ]
  },
  {
   "cell_type": "markdown",
   "id": "6f4cef54",
   "metadata": {},
   "source": [
    "#### There are many ways to create arrays\n",
    "\n",
    "- The `numpy.arange` function works similarly to Python’s `range` function, but it can also accept floating-point arguments:\n"
   ]
  },
  {
   "cell_type": "code",
   "execution_count": 21,
   "id": "85592e12",
   "metadata": {},
   "outputs": [
    {
     "data": {
      "text/plain": [
       "array([0, 1, 2, 3, 4, 5, 6, 7, 8, 9])"
      ]
     },
     "execution_count": 21,
     "metadata": {},
     "output_type": "execute_result"
    }
   ],
   "source": [
    "np.arange(10)"
   ]
  },
  {
   "cell_type": "code",
   "execution_count": 22,
   "id": "399b6812",
   "metadata": {},
   "outputs": [
    {
     "data": {
      "text/plain": [
       "array([1.5, 1.6, 1.7, 1.8, 1.9])"
      ]
     },
     "execution_count": 22,
     "metadata": {},
     "output_type": "execute_result"
    }
   ],
   "source": [
    "np.arange(1.5, 2, 0.1)"
   ]
  },
  {
   "cell_type": "markdown",
   "id": "fc3a5f4a",
   "metadata": {},
   "source": [
    "- Also very useful are `numpy.linspace` and `numpy.logspace`, which generate a sequence of values spaced linearly or logarithmically between two numbers:\n"
   ]
  },
  {
   "cell_type": "code",
   "execution_count": 23,
   "id": "0d4f0c03",
   "metadata": {},
   "outputs": [
    {
     "data": {
      "text/plain": [
       "array([10.        , 13.33333333, 16.66666667, 20.        ])"
      ]
     },
     "execution_count": 23,
     "metadata": {},
     "output_type": "execute_result"
    }
   ],
   "source": [
    "np.linspace(10, 20, 4)"
   ]
  },
  {
   "cell_type": "code",
   "execution_count": 24,
   "id": "3b42a0bc",
   "metadata": {},
   "outputs": [
    {
     "data": {
      "text/plain": [
       "array([  10.        ,   46.41588834,  215.443469  , 1000.        ])"
      ]
     },
     "execution_count": 24,
     "metadata": {},
     "output_type": "execute_result"
    }
   ],
   "source": [
    "np.logspace(1, 3, 4)"
   ]
  },
  {
   "cell_type": "markdown",
   "id": "8b06f048",
   "metadata": {},
   "source": [
    "- We can create arrays filled with zeros or ones using `numpy.zeros` and `numpy.ones`. By passing a tuple to the `shape` argument instead of a single integer, we can also generate multidimensional arrays:"
   ]
  },
  {
   "cell_type": "code",
   "execution_count": 25,
   "id": "479a5c5a",
   "metadata": {},
   "outputs": [
    {
     "data": {
      "text/plain": [
       "array([0., 0., 0., 0., 0.])"
      ]
     },
     "execution_count": 25,
     "metadata": {},
     "output_type": "execute_result"
    }
   ],
   "source": [
    "np.zeros(5)"
   ]
  },
  {
   "cell_type": "code",
   "execution_count": 26,
   "id": "3e5c2b03",
   "metadata": {},
   "outputs": [
    {
     "data": {
      "text/plain": [
       "array([[[1., 1., 1.],\n",
       "        [1., 1., 1.]],\n",
       "\n",
       "       [[1., 1., 1.],\n",
       "        [1., 1., 1.]],\n",
       "\n",
       "       [[1., 1., 1.],\n",
       "        [1., 1., 1.]],\n",
       "\n",
       "       [[1., 1., 1.],\n",
       "        [1., 1., 1.]],\n",
       "\n",
       "       [[1., 1., 1.],\n",
       "        [1., 1., 1.]]])"
      ]
     },
     "execution_count": 26,
     "metadata": {},
     "output_type": "execute_result"
    }
   ],
   "source": [
    "np.ones((5, 2, 3))"
   ]
  },
  {
   "cell_type": "code",
   "execution_count": 27,
   "id": "7cb09df0",
   "metadata": {},
   "outputs": [
    {
     "name": "stdout",
     "output_type": "stream",
     "text": [
      "[[[[4 4]\n",
      "   [4 4]]\n",
      "\n",
      "  [[4 4]\n",
      "   [4 4]]]\n",
      "\n",
      "\n",
      " [[[4 4]\n",
      "   [4 4]]\n",
      "\n",
      "  [[4 4]\n",
      "   [4 4]]]]\n"
     ]
    }
   ],
   "source": [
    "c = np.full((2,2,2,2), 4)  # Create a constant array\n",
    "print(c)               # Prints \"[[ 7.  7.]\n",
    "                       #          [ 7.  7.]]\""
   ]
  },
  {
   "cell_type": "code",
   "execution_count": 28,
   "id": "08a3e2c8",
   "metadata": {},
   "outputs": [
    {
     "data": {
      "text/plain": [
       "array([[[ 4.68293136e-310,  0.00000000e+000],\n",
       "        [ 5.83665407e-315,  0.00000000e+000],\n",
       "        [ 1.30077963e-258,  2.10966031e-321]],\n",
       "\n",
       "       [[-1.11190339e-262,  5.28614192e-308],\n",
       "        [ 1.40406108e-309,  3.73305803e-301],\n",
       "        [ 1.34164568e-301,  6.72812621e-310]]])"
      ]
     },
     "execution_count": 28,
     "metadata": {},
     "output_type": "execute_result"
    }
   ],
   "source": [
    "# Corresponds to whatever was left in memory. Using zeros for initialising arrays is usually saver.\n",
    "np.empty(shape=(2, 3, 2))"
   ]
  },
  {
   "cell_type": "code",
   "execution_count": 29,
   "id": "962038ec",
   "metadata": {},
   "outputs": [
    {
     "name": "stdout",
     "output_type": "stream",
     "text": [
      "141 ns ± 1.34 ns per loop (mean ± std. dev. of 7 runs, 10,000,000 loops each)\n",
      "12.5 μs ± 33.8 ns per loop (mean ± std. dev. of 7 runs, 100,000 loops each)\n"
     ]
    }
   ],
   "source": [
    "# empty is faster than initialized arrays but usually doesn't make a difference\n",
    "%timeit np.empty(shape=100_000)\n",
    "%timeit np.ones(shape=100_000)"
   ]
  },
  {
   "cell_type": "code",
   "execution_count": 30,
   "id": "83b61dcd",
   "metadata": {},
   "outputs": [
    {
     "name": "stdout",
     "output_type": "stream",
     "text": [
      "[[1. 0. 0.]\n",
      " [0. 1. 0.]\n",
      " [0. 0. 1.]]\n"
     ]
    }
   ],
   "source": [
    "d = np.eye(3)         # Create a 2x2 identity matrix\n",
    "print(d)              # Prints \"[[ 1.  0.]\n",
    "                      #          [ 0.  1.]]\""
   ]
  },
  {
   "cell_type": "code",
   "execution_count": 31,
   "id": "90b644c0",
   "metadata": {},
   "outputs": [
    {
     "name": "stdout",
     "output_type": "stream",
     "text": [
      "[[[[0.66813678 0.51223623]\n",
      "   [0.99186461 0.10947994]]\n",
      "\n",
      "  [[0.73995002 0.53591944]\n",
      "   [0.03925507 0.30572672]]]\n",
      "\n",
      "\n",
      " [[[0.29953368 0.05070483]\n",
      "   [0.77964292 0.1909645 ]]\n",
      "\n",
      "  [[0.48108779 0.87617989]\n",
      "   [0.56279217 0.5683731 ]]]]\n"
     ]
    }
   ],
   "source": [
    "e = np.random.random((2,2,2,2))     # Create an array filled with random values\n",
    "print(e)                            # Might print \"[[ 0.91940167  0.08143941]\n",
    "                                    #               [ 0.68744134  0.87236687]]\""
   ]
  },
  {
   "cell_type": "markdown",
   "id": "0c055ef5",
   "metadata": {},
   "source": [
    "You can read about other methods of creating arrays in the [documentation](http://docs.scipy.org/doc/numpy/user/basics.creation.html#arrays-creation).\n"
   ]
  },
  {
   "cell_type": "markdown",
   "id": "acd84eb5",
   "metadata": {},
   "source": [
    "## Data Types\n",
    "\n",
    "Every NumPy array is a grid of elements of the same type.  \n",
    "NumPy provides a wide range of numerical data types that you can use to construct arrays.  \n",
    "When you create an array, NumPy tries to infer the data type automatically, but functions that construct arrays usually also include an optional argument to explicitly specify the data type.  \n",
    "\n",
    "Here’s an example:\n"
   ]
  },
  {
   "cell_type": "code",
   "execution_count": 32,
   "id": "2a732ca1",
   "metadata": {},
   "outputs": [
    {
     "name": "stdout",
     "output_type": "stream",
     "text": [
      "int64\n"
     ]
    }
   ],
   "source": [
    "x = np.array([1, 2])   # Let numpy choose the datatype\n",
    "print(x.dtype)         # Prints \"int64\""
   ]
  },
  {
   "cell_type": "code",
   "execution_count": 33,
   "id": "fd47a1c6",
   "metadata": {},
   "outputs": [
    {
     "name": "stdout",
     "output_type": "stream",
     "text": [
      "float64\n"
     ]
    }
   ],
   "source": [
    "x = np.array([1.0, 2.0])   # Let numpy choose the datatype\n",
    "print(x.dtype)             # Prints \"float64\""
   ]
  },
  {
   "cell_type": "code",
   "execution_count": 34,
   "id": "856a30f9",
   "metadata": {},
   "outputs": [
    {
     "name": "stdout",
     "output_type": "stream",
     "text": [
      "int64\n"
     ]
    }
   ],
   "source": [
    "x = np.array([1, 2], dtype=np.int64)   # Force a particular datatype\n",
    "print(x.dtype)"
   ]
  },
  {
   "cell_type": "markdown",
   "id": "b477f7aa",
   "metadata": {},
   "source": [
    "### dtype\n",
    "\n",
    "`dtype` provides information about the data type.  \n",
    "Arrays can contain bools, ints, unsigned ints, floats, or complex numbers of various byte sizes.  \n",
    "They can also store strings or Python objects, but this has very few practical use cases.\n"
   ]
  },
  {
   "cell_type": "code",
   "execution_count": 35,
   "id": "a8010572",
   "metadata": {},
   "outputs": [
    {
     "data": {
      "text/plain": [
       "(array([0, 1, 2, 3, 4]), dtype('int64'))"
      ]
     },
     "execution_count": 35,
     "metadata": {},
     "output_type": "execute_result"
    }
   ],
   "source": [
    "values = [0, 1, 2, 3, 4]\n",
    "int_arr = np.array(values, dtype='int')\n",
    "int_arr, int_arr.dtype"
   ]
  },
  {
   "cell_type": "markdown",
   "id": "469f1105",
   "metadata": {},
   "source": [
    "If the specified `dtype` does not match the given values, NumPy will cast everything to that data type.\n"
   ]
  },
  {
   "cell_type": "code",
   "execution_count": 36,
   "id": "c53c17c7",
   "metadata": {},
   "outputs": [
    {
     "data": {
      "text/plain": [
       "(array([False,  True,  True,  True,  True]), dtype('bool'))"
      ]
     },
     "execution_count": 36,
     "metadata": {},
     "output_type": "execute_result"
    }
   ],
   "source": [
    "bool_arr = np.array(values, dtype='bool')\n",
    "bool_arr, bool_arr.dtype"
   ]
  },
  {
   "cell_type": "markdown",
   "id": "909b05a4",
   "metadata": {},
   "source": [
    "If no explicit data type is specified, NumPy chooses the “smallest common denominator.”  \n",
    "In the following example, everything is converted to a float, since integers can be represented as floats, but not the other way around.\n"
   ]
  },
  {
   "cell_type": "code",
   "execution_count": 37,
   "id": "53cd32ce",
   "metadata": {},
   "outputs": [
    {
     "data": {
      "text/plain": [
       "(array([0. , 1. , 2.5, 3. , 4. ]), dtype('float64'))"
      ]
     },
     "execution_count": 37,
     "metadata": {},
     "output_type": "execute_result"
    }
   ],
   "source": [
    "values = [0, 1, 2.5, 3, 4]\n",
    "float_arr = np.array(values)\n",
    "float_arr, float_arr.dtype"
   ]
  },
  {
   "cell_type": "markdown",
   "id": "cb43d7b8",
   "metadata": {},
   "source": [
    "Once the data type has been defined, all values are strictly enforced to match that type.\n"
   ]
  },
  {
   "cell_type": "code",
   "execution_count": 38,
   "id": "4f0a3671",
   "metadata": {},
   "outputs": [
    {
     "data": {
      "text/plain": [
       "(array([0, 2, 2, 3, 4]), dtype('int64'))"
      ]
     },
     "execution_count": 38,
     "metadata": {},
     "output_type": "execute_result"
    }
   ],
   "source": [
    "int_arr[1] = 2.5\n",
    "int_arr, int_arr.dtype"
   ]
  },
  {
   "cell_type": "markdown",
   "id": "e62386bb",
   "metadata": {},
   "source": [
    "These non-Python data types force us to once again consider issues such as overflow and similar limitations.\n"
   ]
  },
  {
   "cell_type": "code",
   "execution_count": 39,
   "id": "cfb27026",
   "metadata": {},
   "outputs": [
    {
     "data": {
      "text/plain": [
       "(array([0, 1, 2, 3, 4], dtype=uint8), dtype('uint8'))"
      ]
     },
     "execution_count": 39,
     "metadata": {},
     "output_type": "execute_result"
    }
   ],
   "source": [
    "values = [0, 1, 2, 3, 4]\n",
    "uint_arr = np.array(values, dtype='uint8')\n",
    "uint_arr, uint_arr.dtype"
   ]
  },
  {
   "cell_type": "code",
   "execution_count": 40,
   "id": "e3f25c76",
   "metadata": {},
   "outputs": [
    {
     "name": "stderr",
     "output_type": "stream",
     "text": [
      "/tmp/ipykernel_1367/609316087.py:1: RuntimeWarning: overflow encountered in scalar add\n",
      "  uint_arr[1] += 255\n"
     ]
    },
    {
     "data": {
      "text/plain": [
       "array([0, 0, 2, 3, 4], dtype=uint8)"
      ]
     },
     "execution_count": 40,
     "metadata": {},
     "output_type": "execute_result"
    }
   ],
   "source": [
    "uint_arr[1] += 255\n",
    "uint_arr"
   ]
  },
  {
   "cell_type": "markdown",
   "id": "3ae7b59e",
   "metadata": {},
   "source": [
    "...and this can lead to certain issues when comparing them with standard Python types.\n"
   ]
  },
  {
   "cell_type": "code",
   "execution_count": 41,
   "id": "c00cf075",
   "metadata": {},
   "outputs": [
    {
     "name": "stdout",
     "output_type": "stream",
     "text": [
      "<class 'numpy.uint8'> <class 'int'>\n"
     ]
    }
   ],
   "source": [
    "print(type(uint_arr[0]), type(183))"
   ]
  },
  {
   "cell_type": "code",
   "execution_count": 42,
   "id": "9bda8cfb",
   "metadata": {},
   "outputs": [
    {
     "name": "stdout",
     "output_type": "stream",
     "text": [
      "0.19999999999999996 == 0.20000000298023224 -> True\n"
     ]
    }
   ],
   "source": [
    "val = 1.2 - 1.0\n",
    "arr = np.array([val], dtype=np.float32)\n",
    "print(f'{val} == {arr[0]} -> {val == arr[0]}')"
   ]
  },
  {
   "cell_type": "markdown",
   "id": "42d3092e",
   "metadata": {},
   "source": [
    "For a more reliable comparison, you can use an epsilon value:\n"
   ]
  },
  {
   "cell_type": "code",
   "execution_count": 43,
   "id": "76bba752",
   "metadata": {},
   "outputs": [
    {
     "data": {
      "text/plain": [
       "np.True_"
      ]
     },
     "execution_count": 43,
     "metadata": {},
     "output_type": "execute_result"
    }
   ],
   "source": [
    "epsilon = 1e-6  # 1*10^(-6); 0.000001\n",
    "abs(arr[0] - val) < epsilon"
   ]
  },
  {
   "cell_type": "markdown",
   "id": "4fa357ac",
   "metadata": {},
   "source": [
    "For a deeper dive into why floating-point calculations can be inaccurate, see the [Python documentation](https://docs.python.org/3/tutorial/floatingpoint.html).\n",
    "\n",
    "You can read all about NumPy data types in the [documentation](https://numpy.org/doc/stable/reference/arrays.dtypes.html).  \n"
   ]
  },
  {
   "cell_type": "markdown",
   "id": "986e7de3",
   "metadata": {},
   "source": [
    "## Working with Arrays\n",
    "\n",
    "Arrays can be combined **element-wise** using the standard operators `+-*/**`:\n"
   ]
  },
  {
   "cell_type": "code",
   "execution_count": 44,
   "id": "ba1c8f1b",
   "metadata": {},
   "outputs": [
    {
     "name": "stdout",
     "output_type": "stream",
     "text": [
      "[[1. 2.]\n",
      " [3. 4.]]\n",
      "[[5. 6.]\n",
      " [7. 8.]]\n"
     ]
    }
   ],
   "source": [
    "x = np.array([[1,2],[3,4]], dtype=np.float64)\n",
    "y = np.array([[5,6],[7,8]], dtype=np.float64)\n",
    "print(x)\n",
    "print(y)"
   ]
  },
  {
   "cell_type": "code",
   "execution_count": 45,
   "id": "f927615f",
   "metadata": {},
   "outputs": [
    {
     "name": "stdout",
     "output_type": "stream",
     "text": [
      "[[ 6.  8.]\n",
      " [10. 12.]]\n",
      "[[ 6.  8.]\n",
      " [10. 12.]]\n"
     ]
    }
   ],
   "source": [
    "# Elementwise sum; both produce the array\n",
    "# [[ 6.0  8.0]\n",
    "#  [10.0 12.0]]\n",
    "print(x + y)\n",
    "print(np.add(x, y))"
   ]
  },
  {
   "cell_type": "code",
   "execution_count": 46,
   "id": "8171ac5b",
   "metadata": {},
   "outputs": [
    {
     "name": "stdout",
     "output_type": "stream",
     "text": [
      "[[-4. -4.]\n",
      " [-4. -4.]]\n",
      "[[-4. -4.]\n",
      " [-4. -4.]]\n"
     ]
    }
   ],
   "source": [
    "# Elementwise difference; both produce the array\n",
    "# [[-4.0 -4.0]\n",
    "#  [-4.0 -4.0]]\n",
    "print(x - y)\n",
    "print(np.subtract(x, y))"
   ]
  },
  {
   "cell_type": "code",
   "execution_count": 47,
   "id": "09e5ac11",
   "metadata": {},
   "outputs": [
    {
     "name": "stdout",
     "output_type": "stream",
     "text": [
      "[[ 5. 12.]\n",
      " [21. 32.]]\n",
      "[[ 5. 12.]\n",
      " [21. 32.]]\n"
     ]
    }
   ],
   "source": [
    "# Elementwise product; both produce the array\n",
    "# [[ 5.0 12.0]\n",
    "#  [21.0 32.0]]\n",
    "print(x * y)\n",
    "print(np.multiply(x, y))"
   ]
  },
  {
   "cell_type": "code",
   "execution_count": 48,
   "id": "a1e7caca",
   "metadata": {},
   "outputs": [
    {
     "name": "stdout",
     "output_type": "stream",
     "text": [
      "[[0.2        0.33333333]\n",
      " [0.42857143 0.5       ]]\n",
      "[[0.2        0.33333333]\n",
      " [0.42857143 0.5       ]]\n"
     ]
    }
   ],
   "source": [
    "# Elementwise division; both produce the array\n",
    "# [[ 0.2         0.33333333]\n",
    "#  [ 0.42857143  0.5       ]]\n",
    "print(x / y)\n",
    "print(np.divide(x, y))"
   ]
  },
  {
   "cell_type": "code",
   "execution_count": 49,
   "id": "a50deb1a",
   "metadata": {},
   "outputs": [
    {
     "name": "stdout",
     "output_type": "stream",
     "text": [
      "[[1.         1.41421356]\n",
      " [1.73205081 2.        ]]\n"
     ]
    }
   ],
   "source": [
    "# Elementwise square root; produces the array\n",
    "# [[ 1.          1.41421356]\n",
    "#  [ 1.73205081  2.        ]]\n",
    "print(np.sqrt(x))"
   ]
  },
  {
   "cell_type": "code",
   "execution_count": 50,
   "id": "203c3f3f",
   "metadata": {},
   "outputs": [
    {
     "name": "stdout",
     "output_type": "stream",
     "text": [
      "[1 2 3]\n",
      "[4 5 6]\n"
     ]
    }
   ],
   "source": [
    "x = np.array([1,2,3])\n",
    "y = np.array([4,5,6])\n",
    "print(x)\n",
    "print(y)"
   ]
  },
  {
   "cell_type": "code",
   "execution_count": 51,
   "id": "133a2120",
   "metadata": {},
   "outputs": [
    {
     "data": {
      "text/plain": [
       "array([ 9, 12, 15])"
      ]
     },
     "execution_count": 51,
     "metadata": {},
     "output_type": "execute_result"
    }
   ],
   "source": [
    "x + 2 * y"
   ]
  },
  {
   "cell_type": "code",
   "execution_count": 52,
   "id": "dccec0aa",
   "metadata": {},
   "outputs": [
    {
     "data": {
      "text/plain": [
       "array([  1,  32, 729])"
      ]
     },
     "execution_count": 52,
     "metadata": {},
     "output_type": "execute_result"
    }
   ],
   "source": [
    "x ** y"
   ]
  },
  {
   "cell_type": "markdown",
   "id": "336a74f2",
   "metadata": {},
   "source": [
    "With `@` you can even perform matrix multiplication.  \n",
    "In the case of 1D arrays, this corresponds to the inner product between two vectors.\n"
   ]
  },
  {
   "cell_type": "code",
   "execution_count": 53,
   "id": "52d7ae18",
   "metadata": {},
   "outputs": [
    {
     "data": {
      "text/plain": [
       "np.int64(32)"
      ]
     },
     "execution_count": 53,
     "metadata": {},
     "output_type": "execute_result"
    }
   ],
   "source": [
    "x @ y"
   ]
  },
  {
   "cell_type": "code",
   "execution_count": 54,
   "id": "4a504e32",
   "metadata": {},
   "outputs": [
    {
     "data": {
      "text/plain": [
       "np.int64(32)"
      ]
     },
     "execution_count": 54,
     "metadata": {},
     "output_type": "execute_result"
    }
   ],
   "source": [
    "# That's the same as\n",
    "np.sum(x * y)"
   ]
  },
  {
   "cell_type": "code",
   "execution_count": 55,
   "id": "6ca354b2",
   "metadata": {},
   "outputs": [
    {
     "data": {
      "text/plain": [
       "np.int64(32)"
      ]
     },
     "execution_count": 55,
     "metadata": {},
     "output_type": "execute_result"
    }
   ],
   "source": [
    "x.dot(y)"
   ]
  },
  {
   "cell_type": "markdown",
   "id": "c8433e37",
   "metadata": {},
   "source": [
    "> **Note:** For Python lists, these operators are defined completely differently!\n"
   ]
  },
  {
   "cell_type": "markdown",
   "id": "dcc9dfda",
   "metadata": {},
   "source": [
    "Note that in contrast to MATLAB, `*` performs element-wise multiplication rather than matrix multiplication.  \n",
    "Instead, we use the `dot` function to compute inner products of vectors, multiply a vector by a matrix, and multiply matrices.  \n",
    "\n",
    "`dot` is available both as a function in the NumPy module and as an instance method of array objects:\n"
   ]
  },
  {
   "cell_type": "code",
   "execution_count": 56,
   "id": "dbea8001",
   "metadata": {},
   "outputs": [],
   "source": [
    "x = np.array([[1,2],[3,4]])\n",
    "y = np.array([[5,6],[7,8]])\n",
    "\n",
    "v = np.array([9,10])\n",
    "w = np.array([11, 12])"
   ]
  },
  {
   "cell_type": "code",
   "execution_count": 57,
   "id": "63263854",
   "metadata": {},
   "outputs": [
    {
     "name": "stdout",
     "output_type": "stream",
     "text": [
      "219\n",
      "219\n"
     ]
    }
   ],
   "source": [
    "# Inner product of vectors; both produce 219\n",
    "print(v.dot(w))\n",
    "print(np.dot(v, w))"
   ]
  },
  {
   "cell_type": "code",
   "execution_count": 58,
   "id": "9609b464",
   "metadata": {},
   "outputs": [
    {
     "name": "stdout",
     "output_type": "stream",
     "text": [
      "219\n",
      "219\n"
     ]
    }
   ],
   "source": [
    "# Inner product of vectors; both produce 219\n",
    "print(v.dot(w))\n",
    "print(np.dot(v, w))"
   ]
  },
  {
   "cell_type": "code",
   "execution_count": 59,
   "id": "35bff0d0",
   "metadata": {},
   "outputs": [
    {
     "name": "stdout",
     "output_type": "stream",
     "text": [
      "[[19 22]\n",
      " [43 50]]\n",
      "[[19 22]\n",
      " [43 50]]\n"
     ]
    }
   ],
   "source": [
    "# Matrix / matrix product; both produce the rank 2 array\n",
    "# [[19 22]\n",
    "#  [43 50]]\n",
    "print(x.dot(y))\n",
    "print(np.dot(x, y))"
   ]
  },
  {
   "cell_type": "markdown",
   "id": "23192867",
   "metadata": {},
   "source": [
    "---\n",
    "\n",
    "Lecture: AI I - Basics \n",
    "\n",
    "Excersie: [**Excersie 3.1: Numpy**](../03_data/exercises/01_numpy.ipynb)\n",
    "\n",
    "Next: [**Chapter 3.2: Pandas**](../03_data/02_pandas.ipynb)"
   ]
  }
 ],
 "metadata": {
  "kernelspec": {
   "display_name": "ai-lecture",
   "language": "python",
   "name": "python3"
  },
  "language_info": {
   "codemirror_mode": {
    "name": "ipython",
    "version": 3
   },
   "file_extension": ".py",
   "mimetype": "text/x-python",
   "name": "python",
   "nbconvert_exporter": "python",
   "pygments_lexer": "ipython3",
   "version": "3.12.11"
  }
 },
 "nbformat": 4,
 "nbformat_minor": 5
}

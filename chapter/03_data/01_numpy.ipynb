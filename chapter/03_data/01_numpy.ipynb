{
 "cells": [
  {
   "cell_type": "markdown",
   "id": "303936bb",
   "metadata": {},
   "source": [
    "Lecture: AI I - Basics \n",
    "\n",
    "Previous:\n",
    "[**Chapter 2.5: Additionals**](../02_python/05_additionals.ipynb)\n",
    "\n",
    "---"
   ]
  },
  {
   "cell_type": "markdown",
   "id": "80c34a6f",
   "metadata": {},
   "source": [
    "# Chapter 3.1: Numpy\n",
    "\n",
    "- [](#)"
   ]
  },
  {
   "cell_type": "markdown",
   "id": "23192867",
   "metadata": {},
   "source": [
    "---\n",
    "\n",
    "Lecture: AI I - Basics \n",
    "\n",
    "Excersie: [**Excersie 3.1: Numpy**](../03_data/exercises/01_numpy.ipynb)\n",
    "\n",
    "Next: [**Chapter 3.2: Pandas**](../03_data/02_pandas.ipynb)"
   ]
  }
 ],
 "metadata": {
  "language_info": {
   "name": "python"
  }
 },
 "nbformat": 4,
 "nbformat_minor": 5
}

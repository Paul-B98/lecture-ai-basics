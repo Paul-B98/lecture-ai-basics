{
 "cells": [
  {
   "cell_type": "markdown",
   "id": "0659ff06",
   "metadata": {},
   "source": [
    "Lecture: AI I - Basics \n",
    "\n",
    "Previous:\n",
    "[**Chapter 3.5: Preprocessing with Pandas**](../03_data/05_preprocessing.ipynb)\n",
    "\n",
    "---"
   ]
  },
  {
   "cell_type": "markdown",
   "id": "a590d441",
   "metadata": {},
   "source": [
    "# Chapter 3.6: Additional Libraries and Tools\n",
    "\n",
    "- [Dask](#dask)\n",
    "- [DuckDB](#duckdb)\n",
    "- [Polars](#polars)\n",
    "- [Apache Arrow & PyArrow](#apache-arrow--pyarrow)\n",
    "- [RAPIDS](#rapids)\n",
    "- [Plotly](#plotly)\n",
    "- [SciPy](#scipy)\n",
    "- [Statsmodels](#statsmodels)\n"
   ]
  },
  {
   "cell_type": "markdown",
   "id": "836f3e5b",
   "metadata": {},
   "source": [
    "## Dask\n",
    "\n",
    "[Dask](https://docs.dask.org/en/stable/) is a parallel computing library in Python that enables scalable data analysis by extending familiar tools like NumPy, pandas, and scikit-learn to larger-than-memory datasets and distributed environments. It is designed for workloads that don’t fit into a single machine’s memory or need to take advantage of multiple CPU cores or even entire clusters:\n",
    "\n",
    "- Big Data Handling: Works with datasets that exceed memory by splitting them into smaller chunks and processing them in parallel.\n",
    "- Familiar APIs: Provides drop-in replacements for popular libraries:\n",
    "    - dask.array → NumPy-like parallel arrays.\n",
    "    - dask.dataframe → pandas-like parallel DataFrames.\n",
    "    - dask.delayed → Parallelize arbitrary Python code.\n",
    "- Scalability: Runs on a laptop, multicore machine, or distributed cluster with minimal code changes.\n",
    "- Task Scheduling: Uses a dynamic task scheduler to manage computations efficiently.\n",
    "\n",
    "We can read multiple CSV files simultaneously:"
   ]
  },
  {
   "cell_type": "code",
   "execution_count": 1,
   "id": "a156e4ba",
   "metadata": {},
   "outputs": [
    {
     "data": {
      "text/html": [
       "<div><strong>Dask DataFrame Structure:</strong></div>\n",
       "<table border=\"1\" class=\"dataframe\">\n",
       "  <thead>\n",
       "    <tr style=\"text-align: right;\">\n",
       "      <th></th>\n",
       "      <th>studentid</th>\n",
       "      <th>firstname</th>\n",
       "      <th>lastname</th>\n",
       "      <th>age</th>\n",
       "      <th>course</th>\n",
       "    </tr>\n",
       "    <tr>\n",
       "      <th>npartitions=2</th>\n",
       "      <th></th>\n",
       "      <th></th>\n",
       "      <th></th>\n",
       "      <th></th>\n",
       "      <th></th>\n",
       "    </tr>\n",
       "  </thead>\n",
       "  <tbody>\n",
       "    <tr>\n",
       "      <th></th>\n",
       "      <td>int64</td>\n",
       "      <td>string</td>\n",
       "      <td>string</td>\n",
       "      <td>int64</td>\n",
       "      <td>string</td>\n",
       "    </tr>\n",
       "    <tr>\n",
       "      <th></th>\n",
       "      <td>...</td>\n",
       "      <td>...</td>\n",
       "      <td>...</td>\n",
       "      <td>...</td>\n",
       "      <td>...</td>\n",
       "    </tr>\n",
       "    <tr>\n",
       "      <th></th>\n",
       "      <td>...</td>\n",
       "      <td>...</td>\n",
       "      <td>...</td>\n",
       "      <td>...</td>\n",
       "      <td>...</td>\n",
       "    </tr>\n",
       "  </tbody>\n",
       "</table>\n",
       "<div>Dask Name: to_string_dtype, 2 expressions</div>"
      ],
      "text/plain": [
       "Dask DataFrame Structure:\n",
       "              studentid firstname lastname    age  course\n",
       "npartitions=2                                            \n",
       "                  int64    string   string  int64  string\n",
       "                    ...       ...      ...    ...     ...\n",
       "                    ...       ...      ...    ...     ...\n",
       "Dask Name: to_string_dtype, 2 expressions\n",
       "Expr=ArrowStringConversion(frame=FromMapProjectable(f79da52))"
      ]
     },
     "execution_count": 1,
     "metadata": {},
     "output_type": "execute_result"
    }
   ],
   "source": [
    "import dask.dataframe as dd\n",
    "\n",
    "df = dd.read_csv(\"data/dask/students*.csv\")\n",
    "df"
   ]
  },
  {
   "cell_type": "markdown",
   "id": "252ee1a8",
   "metadata": {},
   "source": [
    "Dask executes computations lazily, meaning operations are only planned but not run immediately, and the actual evaluation happens when you explicitly call the `.compute()` method."
   ]
  },
  {
   "cell_type": "code",
   "execution_count": 2,
   "id": "708c80f4",
   "metadata": {},
   "outputs": [
    {
     "data": {
      "application/vnd.microsoft.datawrangler.viewer.v0+json": {
       "columns": [
        {
         "name": "index",
         "rawType": "int64",
         "type": "integer"
        },
        {
         "name": "studentid",
         "rawType": "int64",
         "type": "integer"
        },
        {
         "name": "firstname",
         "rawType": "string",
         "type": "string"
        },
        {
         "name": "lastname",
         "rawType": "string",
         "type": "string"
        },
        {
         "name": "age",
         "rawType": "int64",
         "type": "integer"
        },
        {
         "name": "course",
         "rawType": "string",
         "type": "string"
        }
       ],
       "ref": "e80f69bc-8acd-48fa-9adb-aa43e4cb7ce7",
       "rows": [
        [
         "0",
         "1",
         "Alice",
         "Smith",
         "20",
         "Math"
        ],
        [
         "1",
         "2",
         "Bob",
         "Johnson",
         "22",
         "CS"
        ],
        [
         "2",
         "3",
         "Charlie",
         "Williams",
         "21",
         "Physics"
        ],
        [
         "3",
         "4",
         "Diana",
         "Brown",
         "23",
         "Biology"
        ],
        [
         "4",
         "5",
         "Ethan",
         "Jones",
         "22",
         "Math"
        ],
        [
         "5",
         "6",
         "Fiona",
         "Garcia",
         "20",
         "History"
        ],
        [
         "6",
         "7",
         "George",
         "Miller",
         "24",
         "CS"
        ],
        [
         "7",
         "8",
         "Hannah",
         "Davis",
         "21",
         "Physics"
        ],
        [
         "8",
         "9",
         "Ian",
         "Martinez",
         "23",
         "Biology"
        ],
        [
         "9",
         "10",
         "Julia",
         "Taylor",
         "22",
         "History"
        ],
        [
         "0",
         "11",
         "Kevin",
         "Anderson",
         "24",
         "CS"
        ],
        [
         "1",
         "12",
         "Laura",
         "Thomas",
         "21",
         "Math"
        ],
        [
         "2",
         "13",
         "Michael",
         "Jackson",
         "22",
         "Biology"
        ],
        [
         "3",
         "14",
         "Nina",
         "White",
         "20",
         "History"
        ],
        [
         "4",
         "15",
         "Oscar",
         "Harris",
         "23",
         "Physics"
        ],
        [
         "5",
         "16",
         "Paula",
         "Martin",
         "22",
         "Math"
        ],
        [
         "6",
         "17",
         "Quentin",
         "Thompson",
         "24",
         "CS"
        ],
        [
         "7",
         "18",
         "Rachel",
         "Moore",
         "21",
         "Biology"
        ],
        [
         "8",
         "19",
         "Steve",
         "Clark",
         "23",
         "History"
        ],
        [
         "9",
         "20",
         "Tina",
         "Lee",
         "20",
         "Physics"
        ]
       ],
       "shape": {
        "columns": 5,
        "rows": 20
       }
      },
      "text/html": [
       "<div>\n",
       "<style scoped>\n",
       "    .dataframe tbody tr th:only-of-type {\n",
       "        vertical-align: middle;\n",
       "    }\n",
       "\n",
       "    .dataframe tbody tr th {\n",
       "        vertical-align: top;\n",
       "    }\n",
       "\n",
       "    .dataframe thead th {\n",
       "        text-align: right;\n",
       "    }\n",
       "</style>\n",
       "<table border=\"1\" class=\"dataframe\">\n",
       "  <thead>\n",
       "    <tr style=\"text-align: right;\">\n",
       "      <th></th>\n",
       "      <th>studentid</th>\n",
       "      <th>firstname</th>\n",
       "      <th>lastname</th>\n",
       "      <th>age</th>\n",
       "      <th>course</th>\n",
       "    </tr>\n",
       "  </thead>\n",
       "  <tbody>\n",
       "    <tr>\n",
       "      <th>0</th>\n",
       "      <td>1</td>\n",
       "      <td>Alice</td>\n",
       "      <td>Smith</td>\n",
       "      <td>20</td>\n",
       "      <td>Math</td>\n",
       "    </tr>\n",
       "    <tr>\n",
       "      <th>1</th>\n",
       "      <td>2</td>\n",
       "      <td>Bob</td>\n",
       "      <td>Johnson</td>\n",
       "      <td>22</td>\n",
       "      <td>CS</td>\n",
       "    </tr>\n",
       "    <tr>\n",
       "      <th>2</th>\n",
       "      <td>3</td>\n",
       "      <td>Charlie</td>\n",
       "      <td>Williams</td>\n",
       "      <td>21</td>\n",
       "      <td>Physics</td>\n",
       "    </tr>\n",
       "    <tr>\n",
       "      <th>3</th>\n",
       "      <td>4</td>\n",
       "      <td>Diana</td>\n",
       "      <td>Brown</td>\n",
       "      <td>23</td>\n",
       "      <td>Biology</td>\n",
       "    </tr>\n",
       "    <tr>\n",
       "      <th>4</th>\n",
       "      <td>5</td>\n",
       "      <td>Ethan</td>\n",
       "      <td>Jones</td>\n",
       "      <td>22</td>\n",
       "      <td>Math</td>\n",
       "    </tr>\n",
       "    <tr>\n",
       "      <th>5</th>\n",
       "      <td>6</td>\n",
       "      <td>Fiona</td>\n",
       "      <td>Garcia</td>\n",
       "      <td>20</td>\n",
       "      <td>History</td>\n",
       "    </tr>\n",
       "    <tr>\n",
       "      <th>6</th>\n",
       "      <td>7</td>\n",
       "      <td>George</td>\n",
       "      <td>Miller</td>\n",
       "      <td>24</td>\n",
       "      <td>CS</td>\n",
       "    </tr>\n",
       "    <tr>\n",
       "      <th>7</th>\n",
       "      <td>8</td>\n",
       "      <td>Hannah</td>\n",
       "      <td>Davis</td>\n",
       "      <td>21</td>\n",
       "      <td>Physics</td>\n",
       "    </tr>\n",
       "    <tr>\n",
       "      <th>8</th>\n",
       "      <td>9</td>\n",
       "      <td>Ian</td>\n",
       "      <td>Martinez</td>\n",
       "      <td>23</td>\n",
       "      <td>Biology</td>\n",
       "    </tr>\n",
       "    <tr>\n",
       "      <th>9</th>\n",
       "      <td>10</td>\n",
       "      <td>Julia</td>\n",
       "      <td>Taylor</td>\n",
       "      <td>22</td>\n",
       "      <td>History</td>\n",
       "    </tr>\n",
       "    <tr>\n",
       "      <th>0</th>\n",
       "      <td>11</td>\n",
       "      <td>Kevin</td>\n",
       "      <td>Anderson</td>\n",
       "      <td>24</td>\n",
       "      <td>CS</td>\n",
       "    </tr>\n",
       "    <tr>\n",
       "      <th>1</th>\n",
       "      <td>12</td>\n",
       "      <td>Laura</td>\n",
       "      <td>Thomas</td>\n",
       "      <td>21</td>\n",
       "      <td>Math</td>\n",
       "    </tr>\n",
       "    <tr>\n",
       "      <th>2</th>\n",
       "      <td>13</td>\n",
       "      <td>Michael</td>\n",
       "      <td>Jackson</td>\n",
       "      <td>22</td>\n",
       "      <td>Biology</td>\n",
       "    </tr>\n",
       "    <tr>\n",
       "      <th>3</th>\n",
       "      <td>14</td>\n",
       "      <td>Nina</td>\n",
       "      <td>White</td>\n",
       "      <td>20</td>\n",
       "      <td>History</td>\n",
       "    </tr>\n",
       "    <tr>\n",
       "      <th>4</th>\n",
       "      <td>15</td>\n",
       "      <td>Oscar</td>\n",
       "      <td>Harris</td>\n",
       "      <td>23</td>\n",
       "      <td>Physics</td>\n",
       "    </tr>\n",
       "    <tr>\n",
       "      <th>5</th>\n",
       "      <td>16</td>\n",
       "      <td>Paula</td>\n",
       "      <td>Martin</td>\n",
       "      <td>22</td>\n",
       "      <td>Math</td>\n",
       "    </tr>\n",
       "    <tr>\n",
       "      <th>6</th>\n",
       "      <td>17</td>\n",
       "      <td>Quentin</td>\n",
       "      <td>Thompson</td>\n",
       "      <td>24</td>\n",
       "      <td>CS</td>\n",
       "    </tr>\n",
       "    <tr>\n",
       "      <th>7</th>\n",
       "      <td>18</td>\n",
       "      <td>Rachel</td>\n",
       "      <td>Moore</td>\n",
       "      <td>21</td>\n",
       "      <td>Biology</td>\n",
       "    </tr>\n",
       "    <tr>\n",
       "      <th>8</th>\n",
       "      <td>19</td>\n",
       "      <td>Steve</td>\n",
       "      <td>Clark</td>\n",
       "      <td>23</td>\n",
       "      <td>History</td>\n",
       "    </tr>\n",
       "    <tr>\n",
       "      <th>9</th>\n",
       "      <td>20</td>\n",
       "      <td>Tina</td>\n",
       "      <td>Lee</td>\n",
       "      <td>20</td>\n",
       "      <td>Physics</td>\n",
       "    </tr>\n",
       "  </tbody>\n",
       "</table>\n",
       "</div>"
      ],
      "text/plain": [
       "   studentid firstname  lastname  age   course\n",
       "0          1     Alice     Smith   20     Math\n",
       "1          2       Bob   Johnson   22       CS\n",
       "2          3   Charlie  Williams   21  Physics\n",
       "3          4     Diana     Brown   23  Biology\n",
       "4          5     Ethan     Jones   22     Math\n",
       "5          6     Fiona    Garcia   20  History\n",
       "6          7    George    Miller   24       CS\n",
       "7          8    Hannah     Davis   21  Physics\n",
       "8          9       Ian  Martinez   23  Biology\n",
       "9         10     Julia    Taylor   22  History\n",
       "0         11     Kevin  Anderson   24       CS\n",
       "1         12     Laura    Thomas   21     Math\n",
       "2         13   Michael   Jackson   22  Biology\n",
       "3         14      Nina     White   20  History\n",
       "4         15     Oscar    Harris   23  Physics\n",
       "5         16     Paula    Martin   22     Math\n",
       "6         17   Quentin  Thompson   24       CS\n",
       "7         18    Rachel     Moore   21  Biology\n",
       "8         19     Steve     Clark   23  History\n",
       "9         20      Tina       Lee   20  Physics"
      ]
     },
     "execution_count": 2,
     "metadata": {},
     "output_type": "execute_result"
    }
   ],
   "source": [
    "df.compute()"
   ]
  },
  {
   "cell_type": "markdown",
   "id": "e9d253b5",
   "metadata": {},
   "source": [
    "Here, dask.dataframe works almost like pandas but processes the data in chunks across cores, and `.compute()` triggers the actual execution:"
   ]
  },
  {
   "cell_type": "code",
   "execution_count": 5,
   "id": "93b5c716",
   "metadata": {},
   "outputs": [
    {
     "data": {
      "application/vnd.microsoft.datawrangler.viewer.v0+json": {
       "columns": [
        {
         "name": "course",
         "rawType": "string",
         "type": "string"
        },
        {
         "name": "age",
         "rawType": "float64",
         "type": "float"
        }
       ],
       "ref": "959bd77a-dda5-4d35-b822-6589df40a2c2",
       "rows": [
        [
         "Biology",
         "22.25"
        ],
        [
         "CS",
         "23.5"
        ],
        [
         "History",
         "21.25"
        ],
        [
         "Math",
         "21.25"
        ],
        [
         "Physics",
         "21.25"
        ]
       ],
       "shape": {
        "columns": 1,
        "rows": 5
       }
      },
      "text/plain": [
       "course\n",
       "Biology    22.25\n",
       "CS         23.50\n",
       "History    21.25\n",
       "Math       21.25\n",
       "Physics    21.25\n",
       "Name: age, dtype: float64"
      ]
     },
     "execution_count": 5,
     "metadata": {},
     "output_type": "execute_result"
    }
   ],
   "source": [
    "df.groupby(\"course\")[\"age\"].mean().compute()"
   ]
  },
  {
   "cell_type": "markdown",
   "id": "7b285b4c",
   "metadata": {},
   "source": [
    "## DuckDB\n",
    "\n",
    "[DuckDB](https://duckdb.org/docs/stable/clients/python/overview.html) is an in-process SQL OLAP database designed for analytical workloads. Unlike traditional client-server database systems, DuckDB runs entirely inside your Python (or R, C++, etc.) process, making it lightweight and extremely easy to integrate into data workflows. Its focus is on fast analytical queries on large datasets, not transaction-heavy use cases. It works with pandas, Polars, and PyArrow allowing for zero-copy query execution on DataFrames."
   ]
  },
  {
   "cell_type": "code",
   "execution_count": 8,
   "id": "5bbb5236",
   "metadata": {},
   "outputs": [
    {
     "name": "stderr",
     "output_type": "stream",
     "text": [
      "/tmp/ipykernel_10743/1255256436.py:5: FutureWarning: ArrowStringArray._data is a deprecated and will be removed in a future version, use ._pa_array instead\n",
      "  duckdb.sql(\"SELECT course, AVG(age) FROM student_df GROUP BY course\").to_df()\n",
      "/tmp/ipykernel_10743/1255256436.py:5: FutureWarning: ArrowStringArray._data is a deprecated and will be removed in a future version, use ._pa_array instead\n",
      "  duckdb.sql(\"SELECT course, AVG(age) FROM student_df GROUP BY course\").to_df()\n"
     ]
    },
    {
     "data": {
      "application/vnd.microsoft.datawrangler.viewer.v0+json": {
       "columns": [
        {
         "name": "index",
         "rawType": "int64",
         "type": "integer"
        },
        {
         "name": "course",
         "rawType": "object",
         "type": "string"
        },
        {
         "name": "avg(age)",
         "rawType": "float64",
         "type": "float"
        }
       ],
       "ref": "db7042b4-aff7-4f43-a21b-35d130b82a78",
       "rows": [
        [
         "0",
         "Math",
         "21.25"
        ],
        [
         "1",
         "Biology",
         "22.25"
        ],
        [
         "2",
         "Physics",
         "21.25"
        ],
        [
         "3",
         "CS",
         "23.5"
        ],
        [
         "4",
         "History",
         "21.25"
        ]
       ],
       "shape": {
        "columns": 2,
        "rows": 5
       }
      },
      "text/html": [
       "<div>\n",
       "<style scoped>\n",
       "    .dataframe tbody tr th:only-of-type {\n",
       "        vertical-align: middle;\n",
       "    }\n",
       "\n",
       "    .dataframe tbody tr th {\n",
       "        vertical-align: top;\n",
       "    }\n",
       "\n",
       "    .dataframe thead th {\n",
       "        text-align: right;\n",
       "    }\n",
       "</style>\n",
       "<table border=\"1\" class=\"dataframe\">\n",
       "  <thead>\n",
       "    <tr style=\"text-align: right;\">\n",
       "      <th></th>\n",
       "      <th>course</th>\n",
       "      <th>avg(age)</th>\n",
       "    </tr>\n",
       "  </thead>\n",
       "  <tbody>\n",
       "    <tr>\n",
       "      <th>0</th>\n",
       "      <td>Math</td>\n",
       "      <td>21.25</td>\n",
       "    </tr>\n",
       "    <tr>\n",
       "      <th>1</th>\n",
       "      <td>Biology</td>\n",
       "      <td>22.25</td>\n",
       "    </tr>\n",
       "    <tr>\n",
       "      <th>2</th>\n",
       "      <td>Physics</td>\n",
       "      <td>21.25</td>\n",
       "    </tr>\n",
       "    <tr>\n",
       "      <th>3</th>\n",
       "      <td>CS</td>\n",
       "      <td>23.50</td>\n",
       "    </tr>\n",
       "    <tr>\n",
       "      <th>4</th>\n",
       "      <td>History</td>\n",
       "      <td>21.25</td>\n",
       "    </tr>\n",
       "  </tbody>\n",
       "</table>\n",
       "</div>"
      ],
      "text/plain": [
       "    course  avg(age)\n",
       "0     Math     21.25\n",
       "1  Biology     22.25\n",
       "2  Physics     21.25\n",
       "3       CS     23.50\n",
       "4  History     21.25"
      ]
     },
     "execution_count": 8,
     "metadata": {},
     "output_type": "execute_result"
    }
   ],
   "source": [
    "import duckdb\n",
    "\n",
    "student_df = df.compute()\n",
    "\n",
    "duckdb.sql(\"SELECT course, AVG(age) FROM student_df GROUP BY course\").to_df()"
   ]
  },
  {
   "cell_type": "markdown",
   "id": "05839da8",
   "metadata": {},
   "source": [
    "# Polars\n",
    "\n",
    "[Polars](https://docs.pola.rs/) is a high-performance DataFrame library built in Rust with Python bindings, designed for speed, memory efficiency, and parallelism. It uses Apache Arrow as its memory model and offers both an eager API (pandas-like, immediate execution) and a lazy API (query planning + optimization before execution). Polars excels on multi-core machines, large datasets, and complex transformations where predicate pushdown, projection pruning, and parallel execution matter.\n",
    "\n",
    "# Apache Arrow & PyArrow\n",
    "\n",
    "[PyArrow](https://arrow.apache.org/docs/python/index.html) is the Python interface to Apache Arrow, a cross-language, columnar in-memory data format designed for high-performance data analytics. It enables fast and efficient data interchange between systems without serialization overhead and forms the backbone of many modern Python data tools.\n",
    "\n",
    "# RAPIDS\n",
    "\n",
    "[RAPIDS](https://docs.rapids.ai/user-guide/) is an open-source suite of libraries developed by NVIDIA that brings the power of GPU acceleration to the Python data science ecosystem. It enables data scientists and machine learning practitioners to perform end-to-end data workflows—from data preparation to machine learning—entirely on GPUs, resulting in significant speedups compared to CPU-based tools.\n",
    "- cuDF: A pandas-like DataFrame library accelerated by GPUs for fast data manipulation.\n",
    "- cuML: A machine learning library with scikit-learn-like APIs but GPU-backed for faster training and inference.\n",
    "- ...\n",
    "\n",
    "# plotly\n",
    "\n",
    "https://plotly.com/\n",
    "\n",
    "# SciPy\n",
    "\n",
    "https://scipy.org/\n",
    "\n",
    "# statsmodels\n",
    "\n",
    "https://www.statsmodels.org/stable/index.html"
   ]
  },
  {
   "cell_type": "markdown",
   "id": "b17bfdc9",
   "metadata": {},
   "source": [
    "---\n",
    "\n",
    "Lecture: AI I - Basics \n",
    "\n",
    "Next: [**Chapter 4.1: Data Preparation**](../04_ml/01_data_preparation.ipynb)"
   ]
  }
 ],
 "metadata": {
  "kernelspec": {
   "display_name": "ai-lecture",
   "language": "python",
   "name": "python3"
  },
  "language_info": {
   "codemirror_mode": {
    "name": "ipython",
    "version": 3
   },
   "file_extension": ".py",
   "mimetype": "text/x-python",
   "name": "python",
   "nbconvert_exporter": "python",
   "pygments_lexer": "ipython3",
   "version": "3.12.11"
  }
 },
 "nbformat": 4,
 "nbformat_minor": 5
}

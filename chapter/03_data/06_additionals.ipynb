{
 "cells": [
  {
   "cell_type": "markdown",
   "id": "0659ff06",
   "metadata": {},
   "source": [
    "Lecture: AI I - Basics \n",
    "\n",
    "Previous:\n",
    "[**Chapter 3.5: Preprocessing with Pandas**](../03_data/05_preprocessing.ipynb)\n",
    "\n",
    "---"
   ]
  },
  {
   "cell_type": "markdown",
   "id": "a590d441",
   "metadata": {},
   "source": [
    "# Chapter 3.6: Additional Libraries and Tools\n",
    "\n",
    "- [Dask](#dask)\n",
    "- [DuckDB](#duckdb)\n",
    "- [Polars](#polars)\n",
    "- [Apache Arrow & PyArrow](#apache-arrow--pyarrow)\n",
    "- [RAPIDS](#rapids)\n",
    "- [Plotly](#plotly)\n",
    "- [SciPy](#scipy)\n",
    "- [Statsmodels](#statsmodels)\n"
   ]
  },
  {
   "cell_type": "markdown",
   "id": "836f3e5b",
   "metadata": {},
   "source": [
    "## Dask\n",
    "\n",
    "Dask is a parallel computing library in Python that enables scalable data analysis by extending familiar tools like NumPy, pandas, and scikit-learn to larger-than-memory datasets and distributed environments. It is designed for workloads that don’t fit into a single machine’s memory or need to take advantage of multiple CPU cores or even entire clusters:\n",
    "\n",
    "- Big Data Handling: Works with datasets that exceed memory by splitting them into smaller chunks and processing them in parallel.\n",
    "- Familiar APIs: Provides drop-in replacements for popular libraries:\n",
    "    - dask.array → NumPy-like parallel arrays.\n",
    "    - dask.dataframe → pandas-like parallel DataFrames.\n",
    "    - dask.delayed → Parallelize arbitrary Python code.\n",
    "- Scalability: Runs on a laptop, multicore machine, or distributed cluster with minimal code changes.\n",
    "- Task Scheduling: Uses a dynamic task scheduler to manage computations efficiently."
   ]
  },
  {
   "cell_type": "code",
   "execution_count": null,
   "id": "a156e4ba",
   "metadata": {
    "vscode": {
     "languageId": "plaintext"
    }
   },
   "outputs": [],
   "source": []
  },
  {
   "cell_type": "markdown",
   "id": "7b285b4c",
   "metadata": {},
   "source": [
    "## DuckDB"
   ]
  },
  {
   "cell_type": "code",
   "execution_count": null,
   "id": "5bbb5236",
   "metadata": {
    "vscode": {
     "languageId": "plaintext"
    }
   },
   "outputs": [],
   "source": []
  },
  {
   "cell_type": "markdown",
   "id": "05839da8",
   "metadata": {},
   "source": [
    "# Polars\n",
    "\n",
    "https://pola.rs/\n",
    "\n",
    "# Apache Arrow & PyArrow\n",
    "\n",
    "https://arrow.apache.org/docs/python/index.html\n",
    "\n",
    "# RAPIDS\n",
    "\n",
    "https://rapids.ai/\n",
    "\n",
    "# plotly\n",
    "\n",
    "https://plotly.com/\n",
    "\n",
    "# SciPy\n",
    "\n",
    "https://scipy.org/\n",
    "\n",
    "# statsmodels\n",
    "\n",
    "https://www.statsmodels.org/stable/index.html"
   ]
  },
  {
   "cell_type": "markdown",
   "id": "b17bfdc9",
   "metadata": {},
   "source": [
    "---\n",
    "\n",
    "Lecture: AI I - Basics \n",
    "\n",
    "Next: [**Chapter 4.1: Data Preparation**](../04_ml/01_data_preparation.ipynb)"
   ]
  }
 ],
 "metadata": {
  "language_info": {
   "name": "python"
  }
 },
 "nbformat": 4,
 "nbformat_minor": 5
}

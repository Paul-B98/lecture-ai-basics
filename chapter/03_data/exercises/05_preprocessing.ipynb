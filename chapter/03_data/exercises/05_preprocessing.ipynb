{
 "cells": [
  {
   "cell_type": "markdown",
   "id": "0659ff06",
   "metadata": {},
   "source": [
    "Lecture: AI I - Basics \n",
    "\n",
    "Previous:\n",
    "[**Chapter 3.5: Preprocessing with Pandas**](../05_preprocessing.ipynb)\n",
    "\n",
    "---"
   ]
  },
  {
   "cell_type": "markdown",
   "id": "a590d441",
   "metadata": {},
   "source": [
    "# Exercise 3.5: Preprocessing with Pandas\n"
   ]
  },
  {
   "cell_type": "markdown",
   "id": "7f9a935f",
   "metadata": {},
   "source": [
    "> Hint: When doing the exercises put your solution in the designated \"Solution\" section:\n",
    "> ```python\n",
    "> # Solution (put your code here)\n",
    "> ```"
   ]
  },
  {
   "cell_type": "markdown",
   "id": "b36b0a8d",
   "metadata": {},
   "source": [
    "## Task 1:"
   ]
  },
  {
   "cell_type": "code",
   "execution_count": null,
   "id": "eb4c317b",
   "metadata": {},
   "outputs": [],
   "source": [
    "# prerequisites (don't edit this block)"
   ]
  },
  {
   "cell_type": "code",
   "execution_count": null,
   "id": "23263015",
   "metadata": {},
   "outputs": [],
   "source": [
    "# Solution (put your code here)\n"
   ]
  },
  {
   "cell_type": "code",
   "execution_count": null,
   "id": "cbfff272",
   "metadata": {},
   "outputs": [],
   "source": [
    "# Test case (don't edit this block)"
   ]
  },
  {
   "cell_type": "markdown",
   "id": "1ca50c35",
   "metadata": {},
   "source": [
    "## Task 2:"
   ]
  },
  {
   "cell_type": "code",
   "execution_count": null,
   "id": "737d5feb",
   "metadata": {},
   "outputs": [],
   "source": [
    "# prerequisites (don't edit this block)"
   ]
  },
  {
   "cell_type": "code",
   "execution_count": null,
   "id": "abe8481e",
   "metadata": {},
   "outputs": [],
   "source": [
    "# Solution (put your code here)\n"
   ]
  },
  {
   "cell_type": "code",
   "execution_count": null,
   "id": "1a27a779",
   "metadata": {},
   "outputs": [],
   "source": [
    "# Test case (don't edit this block)"
   ]
  },
  {
   "cell_type": "markdown",
   "id": "e93aa5ab",
   "metadata": {},
   "source": [
    "## Task 3:"
   ]
  },
  {
   "cell_type": "code",
   "execution_count": null,
   "id": "26b2c923",
   "metadata": {},
   "outputs": [],
   "source": [
    "# prerequisites (don't edit this block)"
   ]
  },
  {
   "cell_type": "code",
   "execution_count": null,
   "id": "dd21f24c",
   "metadata": {},
   "outputs": [],
   "source": [
    "# Solution (put your code here)\n"
   ]
  },
  {
   "cell_type": "code",
   "execution_count": null,
   "id": "b323ac77",
   "metadata": {},
   "outputs": [],
   "source": [
    "# Test case (don't edit this block)"
   ]
  },
  {
   "cell_type": "markdown",
   "id": "745b0c83",
   "metadata": {},
   "source": [
    "## Task 4:"
   ]
  },
  {
   "cell_type": "code",
   "execution_count": null,
   "id": "fa09b026",
   "metadata": {},
   "outputs": [],
   "source": [
    "# prerequisites (don't edit this block)"
   ]
  },
  {
   "cell_type": "code",
   "execution_count": null,
   "id": "ed1fa785",
   "metadata": {},
   "outputs": [],
   "source": [
    "# Solution (put your code here)\n"
   ]
  },
  {
   "cell_type": "code",
   "execution_count": null,
   "id": "09290e46",
   "metadata": {},
   "outputs": [],
   "source": [
    "# Test case (don't edit this block)"
   ]
  },
  {
   "cell_type": "markdown",
   "id": "b2262c1e",
   "metadata": {},
   "source": [
    "## Task 5:"
   ]
  },
  {
   "cell_type": "code",
   "execution_count": null,
   "id": "7da3f118",
   "metadata": {},
   "outputs": [],
   "source": [
    "# prerequisites (don't edit this block)"
   ]
  },
  {
   "cell_type": "code",
   "execution_count": null,
   "id": "3c4318bd",
   "metadata": {},
   "outputs": [],
   "source": [
    "# Solution (put your code here)\n"
   ]
  },
  {
   "cell_type": "code",
   "execution_count": null,
   "id": "a2c8f35d",
   "metadata": {},
   "outputs": [],
   "source": [
    "# Test case (don't edit this block)"
   ]
  },
  {
   "cell_type": "markdown",
   "id": "b17bfdc9",
   "metadata": {},
   "source": [
    "---\n",
    "\n",
    "Lecture: AI I - Basics \n",
    "\n",
    "Next: [**Chapter 4.1: Data Preparation**](../04_ml/01_data_preparation.ipynb)"
   ]
  }
 ],
 "metadata": {
  "language_info": {
   "name": "python"
  }
 },
 "nbformat": 4,
 "nbformat_minor": 5
}

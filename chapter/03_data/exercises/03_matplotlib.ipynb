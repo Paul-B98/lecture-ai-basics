{
 "cells": [
  {
   "cell_type": "markdown",
   "id": "f7360f2d",
   "metadata": {},
   "source": [
    "Lecture: AI I - Basics \n",
    "\n",
    "Previous:\n",
    "[**Chapter 3.3: Visualisation with Matplotlib**](../03_matplotlib.ipynb)\n",
    "\n",
    "---"
   ]
  },
  {
   "cell_type": "markdown",
   "id": "8bf4ad77",
   "metadata": {},
   "source": [
    "# Exercise 3.3: Visualisation with Matplotlib\n",
    "\n"
   ]
  },
  {
   "cell_type": "markdown",
   "id": "627b653d",
   "metadata": {},
   "source": [
    "> Hint: When doing the exercises put your solution in the designated \"Solution\" section:\n",
    "> ```python\n",
    "> # Solution (put your code here)\n",
    "> ```"
   ]
  },
  {
   "cell_type": "markdown",
   "id": "e45580d7",
   "metadata": {},
   "source": [
    "## Task 1:"
   ]
  },
  {
   "cell_type": "code",
   "execution_count": null,
   "id": "343e6725",
   "metadata": {},
   "outputs": [],
   "source": [
    "# prerequisites (don't edit this block)"
   ]
  },
  {
   "cell_type": "code",
   "execution_count": null,
   "id": "d58104d0",
   "metadata": {},
   "outputs": [],
   "source": [
    "# Solution (put your code here)\n"
   ]
  },
  {
   "cell_type": "code",
   "execution_count": null,
   "id": "4ece82d5",
   "metadata": {},
   "outputs": [],
   "source": [
    "# Test case (don't edit this block)"
   ]
  },
  {
   "cell_type": "markdown",
   "id": "43efb95f",
   "metadata": {},
   "source": [
    "## Task 2:"
   ]
  },
  {
   "cell_type": "code",
   "execution_count": null,
   "id": "fcacb309",
   "metadata": {},
   "outputs": [],
   "source": [
    "# prerequisites (don't edit this block)"
   ]
  },
  {
   "cell_type": "code",
   "execution_count": null,
   "id": "f3478170",
   "metadata": {},
   "outputs": [],
   "source": [
    "# Solution (put your code here)\n"
   ]
  },
  {
   "cell_type": "code",
   "execution_count": null,
   "id": "10c2fa5e",
   "metadata": {},
   "outputs": [],
   "source": [
    "# Test case (don't edit this block)"
   ]
  },
  {
   "cell_type": "markdown",
   "id": "99160654",
   "metadata": {},
   "source": [
    "## Task 3:"
   ]
  },
  {
   "cell_type": "code",
   "execution_count": null,
   "id": "55d3234f",
   "metadata": {},
   "outputs": [],
   "source": [
    "# prerequisites (don't edit this block)"
   ]
  },
  {
   "cell_type": "code",
   "execution_count": null,
   "id": "41407186",
   "metadata": {},
   "outputs": [],
   "source": [
    "# Solution (put your code here)\n"
   ]
  },
  {
   "cell_type": "code",
   "execution_count": null,
   "id": "ad8e2eb1",
   "metadata": {},
   "outputs": [],
   "source": [
    "# Test case (don't edit this block)"
   ]
  },
  {
   "cell_type": "markdown",
   "id": "909e5f07",
   "metadata": {},
   "source": [
    "## Task 4:"
   ]
  },
  {
   "cell_type": "code",
   "execution_count": null,
   "id": "2a1eb21f",
   "metadata": {},
   "outputs": [],
   "source": [
    "# prerequisites (don't edit this block)"
   ]
  },
  {
   "cell_type": "code",
   "execution_count": null,
   "id": "de3952d4",
   "metadata": {},
   "outputs": [],
   "source": [
    "# Solution (put your code here)\n"
   ]
  },
  {
   "cell_type": "code",
   "execution_count": null,
   "id": "19c4967e",
   "metadata": {},
   "outputs": [],
   "source": [
    "# Test case (don't edit this block)"
   ]
  },
  {
   "cell_type": "markdown",
   "id": "495dd098",
   "metadata": {},
   "source": [
    "## Task 5:"
   ]
  },
  {
   "cell_type": "code",
   "execution_count": null,
   "id": "b34f9804",
   "metadata": {},
   "outputs": [],
   "source": [
    "# prerequisites (don't edit this block)"
   ]
  },
  {
   "cell_type": "code",
   "execution_count": null,
   "id": "d0d2f880",
   "metadata": {},
   "outputs": [],
   "source": [
    "# Solution (put your code here)\n"
   ]
  },
  {
   "cell_type": "code",
   "execution_count": null,
   "id": "fef10603",
   "metadata": {},
   "outputs": [],
   "source": [
    "# Test case (don't edit this block)"
   ]
  },
  {
   "cell_type": "markdown",
   "id": "f8f5d51b",
   "metadata": {},
   "source": [
    "---\n",
    "\n",
    "Lecture: AI I - Basics \n",
    "\n",
    "Next: [**Chapter 3.4: Visualisation with Seaborn**]()"
   ]
  }
 ],
 "metadata": {
  "language_info": {
   "name": "python"
  }
 },
 "nbformat": 4,
 "nbformat_minor": 5
}

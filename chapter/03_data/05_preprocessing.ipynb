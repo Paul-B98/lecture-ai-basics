{
 "cells": [
  {
   "cell_type": "markdown",
   "id": "0659ff06",
   "metadata": {},
   "source": [
    "Lecture: AI I - Basics \n",
    "\n",
    "Previous:\n",
    "[**Chapter 3.4: Visualisation with Seaborn**](../03_data/04_seaborn.ipynb)\n",
    "\n",
    "---"
   ]
  },
  {
   "cell_type": "markdown",
   "id": "a590d441",
   "metadata": {},
   "source": [
    "# Chapter 3.5: Preprocessing with Pandas\n",
    "\n",
    "- [Missing Values](#missing-values)\n",
    "- [Data Types](#data-types)\n",
    "- [Plotting with Pandas](#plotting-with-pandas)\n",
    "- [Merging DataFrames](#merging-dataframes)\n",
    "- [Working with Time Series Data](#working-with-time-series-data)\n",
    "- [Exploratory Data Analysis](#exploratory-data-analysis)\n"
   ]
  },
  {
   "cell_type": "markdown",
   "id": "89823a33",
   "metadata": {},
   "source": [
    "Data cleaning and data preparation are huge topics.  \n",
    "Some say that data scientists spend 80% of their time cleaning their data.  \n",
    "The topics we’ll cover here are:\n",
    "\n",
    "* Handling missing values  \n",
    "* Removing duplicates  \n",
    "* Structuring data  \n",
    "* Removing outliers  \n",
    "* Finding the right data types\n"
   ]
  },
  {
   "cell_type": "code",
   "execution_count": 1,
   "id": "d1b1328a",
   "metadata": {},
   "outputs": [],
   "source": [
    "%matplotlib inline"
   ]
  },
  {
   "cell_type": "code",
   "execution_count": 2,
   "id": "b5cc5445",
   "metadata": {},
   "outputs": [],
   "source": [
    "import numpy as np\n",
    "import matplotlib.pyplot as plt\n",
    "import pandas as pd"
   ]
  },
  {
   "cell_type": "markdown",
   "id": "b17bfdc9",
   "metadata": {},
   "source": [
    "---\n",
    "\n",
    "Lecture: AI I - Basics \n",
    "\n",
    "Exercise: [**Exercise 3.5: Preprocessing with Pandas**](../03_data/exercises/05_preprocessing.ipynb)\n",
    "\n",
    "Next: [**Chapter 3.6: Additional Libraries and Tools**](../03_data/06_additionals.ipynb)"
   ]
  }
 ],
 "metadata": {
  "kernelspec": {
   "display_name": "ai-lecture",
   "language": "python",
   "name": "python3"
  },
  "language_info": {
   "codemirror_mode": {
    "name": "ipython",
    "version": 3
   },
   "file_extension": ".py",
   "mimetype": "text/x-python",
   "name": "python",
   "nbconvert_exporter": "python",
   "pygments_lexer": "ipython3",
   "version": "3.12.11"
  }
 },
 "nbformat": 4,
 "nbformat_minor": 5
}

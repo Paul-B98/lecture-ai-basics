{
 "cells": [
  {
   "cell_type": "markdown",
   "id": "0659ff06",
   "metadata": {},
   "source": [
    "Lecture: AI I - Basics \n",
    "\n",
    "Previous:\n",
    "[**Chapter 3.4: Visualisation with Seaborn**]()\n",
    "\n",
    "---"
   ]
  },
  {
   "cell_type": "markdown",
   "id": "a590d441",
   "metadata": {},
   "source": [
    "# Chapter 3.5: Preprocessing with Pandas\n",
    "\n",
    "- [](#)"
   ]
  },
  {
   "cell_type": "markdown",
   "id": "b17bfdc9",
   "metadata": {},
   "source": [
    "---\n",
    "\n",
    "Lecture: AI I - Basics \n",
    "\n",
    "Next: [**Chapter 4.1: Data Preparation**](../04_ml/01_data_preparation.ipynb)"
   ]
  }
 ],
 "metadata": {
  "language_info": {
   "name": "python"
  }
 },
 "nbformat": 4,
 "nbformat_minor": 5
}

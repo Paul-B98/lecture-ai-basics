{
 "cells": [
  {
   "cell_type": "markdown",
   "id": "0659ff06",
   "metadata": {},
   "source": [
    "Lecture: AI I - Basics \n",
    "\n",
    "Previous:\n",
    "[**Chapter 3.4: Visualisation with Seaborn**](../03_data/04_seaborn.ipynb)\n",
    "\n",
    "---"
   ]
  },
  {
   "cell_type": "markdown",
   "id": "a590d441",
   "metadata": {},
   "source": [
    "# Chapter 3.5: Preprocessing with Pandas\n",
    "\n",
    "- [Missing Values](#missing-values)\n",
    "- [Data Types](#data-types)\n",
    "- [Plotting with Pandas](#plotting-with-pandas)\n",
    "- [Merging DataFrames](#merging-dataframes)\n",
    "- [Working with Time Series Data](#working-with-time-series-data)\n",
    "- [Exploratory Data Analysis](#exploratory-data-analysis)\n"
   ]
  },
  {
   "cell_type": "markdown",
   "id": "89823a33",
   "metadata": {},
   "source": [
    "Data cleaning and data preparation are huge topics.  \n",
    "Some say that data scientists spend 80% of their time cleaning their data.  \n",
    "The topics we’ll cover here are:\n",
    "\n",
    "* Handling missing values  \n",
    "* Removing duplicates  \n",
    "* Structuring data  \n",
    "* Removing outliers  \n",
    "* Finding the right data types\n"
   ]
  },
  {
   "cell_type": "code",
   "execution_count": 1,
   "id": "d1b1328a",
   "metadata": {},
   "outputs": [],
   "source": [
    "%matplotlib inline"
   ]
  },
  {
   "cell_type": "code",
   "execution_count": 2,
   "id": "b5cc5445",
   "metadata": {},
   "outputs": [],
   "source": [
    "import numpy as np\n",
    "import matplotlib.pyplot as plt\n",
    "import pandas as pd"
   ]
  },
  {
   "cell_type": "markdown",
   "id": "121b3f2d",
   "metadata": {},
   "source": [
    "# Missing Values\n",
    "\n",
    "A sentinel value is used to represent missing values for numbers.  \n",
    "A special bit pattern stands for \"Not a Number\" (NaN). You can think of this as the numerical equivalent of \"None.\"  \n",
    "In Python, `NaN` is available through the `NumPy` and `Pandas` packages. Since Pandas version 1.0, missing values are represented by a special object: `pd.NA`.\n",
    "\n",
    "This may seem strange at first, but it begins to make sense when we think about the semantics of `NaN` or, more generally, `NA` as a placeholder for a value that is **N**ot **A**vailable.  \n",
    "Because `NA` simply represents an unknown value, it would be incorrect to say that one unknown value equals another unknown value. Therefore, `NA` cannot truly be equal to anything.\n",
    "\n",
    "To explicitly test for `NA`, we need a dedicated function provided by `pandas`.\n"
   ]
  },
  {
   "cell_type": "code",
   "execution_count": 3,
   "id": "72649499",
   "metadata": {},
   "outputs": [
    {
     "data": {
      "text/plain": [
       "True"
      ]
     },
     "execution_count": 3,
     "metadata": {},
     "output_type": "execute_result"
    }
   ],
   "source": [
    "pd.isna(np.nan)"
   ]
  },
  {
   "cell_type": "code",
   "execution_count": 4,
   "id": "9c94ed43",
   "metadata": {},
   "outputs": [
    {
     "data": {
      "text/plain": [
       "True"
      ]
     },
     "execution_count": 4,
     "metadata": {},
     "output_type": "execute_result"
    }
   ],
   "source": [
    "pd.isna(pd.NA)"
   ]
  },
  {
   "cell_type": "code",
   "execution_count": 5,
   "id": "5bb726e9",
   "metadata": {},
   "outputs": [
    {
     "data": {
      "text/plain": [
       "False"
      ]
     },
     "execution_count": 5,
     "metadata": {},
     "output_type": "execute_result"
    }
   ],
   "source": [
    "pd.isna(42)"
   ]
  },
  {
   "cell_type": "markdown",
   "id": "f2dac178",
   "metadata": {},
   "source": [
    "### Handling Missing Values\n"
   ]
  },
  {
   "cell_type": "code",
   "execution_count": 8,
   "id": "2e1ff23b",
   "metadata": {},
   "outputs": [
    {
     "data": {
      "application/vnd.microsoft.datawrangler.viewer.v0+json": {
       "columns": [
        {
         "name": "index",
         "rawType": "int64",
         "type": "integer"
        },
        {
         "name": "Date",
         "rawType": "object",
         "type": "string"
        },
        {
         "name": "Day",
         "rawType": "int64",
         "type": "integer"
        },
        {
         "name": "Cases_Guinea",
         "rawType": "float64",
         "type": "float"
        },
        {
         "name": "Cases_Liberia",
         "rawType": "float64",
         "type": "float"
        },
        {
         "name": "Cases_SierraLeone",
         "rawType": "float64",
         "type": "float"
        },
        {
         "name": "Cases_Nigeria",
         "rawType": "float64",
         "type": "float"
        },
        {
         "name": "Cases_Senegal",
         "rawType": "float64",
         "type": "float"
        },
        {
         "name": "Cases_UnitedStates",
         "rawType": "float64",
         "type": "float"
        },
        {
         "name": "Cases_Spain",
         "rawType": "float64",
         "type": "float"
        },
        {
         "name": "Cases_Mali",
         "rawType": "float64",
         "type": "float"
        },
        {
         "name": "Deaths_Guinea",
         "rawType": "float64",
         "type": "float"
        },
        {
         "name": "Deaths_Liberia",
         "rawType": "float64",
         "type": "float"
        },
        {
         "name": "Deaths_SierraLeone",
         "rawType": "float64",
         "type": "float"
        },
        {
         "name": "Deaths_Nigeria",
         "rawType": "float64",
         "type": "float"
        },
        {
         "name": "Deaths_Senegal",
         "rawType": "float64",
         "type": "float"
        },
        {
         "name": "Deaths_UnitedStates",
         "rawType": "float64",
         "type": "float"
        },
        {
         "name": "Deaths_Spain",
         "rawType": "float64",
         "type": "float"
        },
        {
         "name": "Deaths_Mali",
         "rawType": "float64",
         "type": "float"
        }
       ],
       "ref": "1c27e467-2657-4f5c-8b66-879a501fafc7",
       "rows": [
        [
         "0",
         "1/5/2015",
         "289",
         "2776.0",
         null,
         "10030.0",
         null,
         null,
         null,
         null,
         null,
         "1786.0",
         null,
         "2977.0",
         null,
         null,
         null,
         null,
         null
        ],
        [
         "1",
         "1/4/2015",
         "288",
         "2775.0",
         null,
         "9780.0",
         null,
         null,
         null,
         null,
         null,
         "1781.0",
         null,
         "2943.0",
         null,
         null,
         null,
         null,
         null
        ],
        [
         "2",
         "1/3/2015",
         "287",
         "2769.0",
         "8166.0",
         "9722.0",
         null,
         null,
         null,
         null,
         null,
         "1767.0",
         "3496.0",
         "2915.0",
         null,
         null,
         null,
         null,
         null
        ],
        [
         "3",
         "1/2/2015",
         "286",
         null,
         "8157.0",
         null,
         null,
         null,
         null,
         null,
         null,
         null,
         "3496.0",
         null,
         null,
         null,
         null,
         null,
         null
        ],
        [
         "4",
         "12/31/2014",
         "284",
         "2730.0",
         "8115.0",
         "9633.0",
         null,
         null,
         null,
         null,
         null,
         "1739.0",
         "3471.0",
         "2827.0",
         null,
         null,
         null,
         null,
         null
        ]
       ],
       "shape": {
        "columns": 18,
        "rows": 5
       }
      },
      "text/html": [
       "<div>\n",
       "<style scoped>\n",
       "    .dataframe tbody tr th:only-of-type {\n",
       "        vertical-align: middle;\n",
       "    }\n",
       "\n",
       "    .dataframe tbody tr th {\n",
       "        vertical-align: top;\n",
       "    }\n",
       "\n",
       "    .dataframe thead th {\n",
       "        text-align: right;\n",
       "    }\n",
       "</style>\n",
       "<table border=\"1\" class=\"dataframe\">\n",
       "  <thead>\n",
       "    <tr style=\"text-align: right;\">\n",
       "      <th></th>\n",
       "      <th>Date</th>\n",
       "      <th>Day</th>\n",
       "      <th>Cases_Guinea</th>\n",
       "      <th>Cases_Liberia</th>\n",
       "      <th>Cases_SierraLeone</th>\n",
       "      <th>Cases_Nigeria</th>\n",
       "      <th>Cases_Senegal</th>\n",
       "      <th>Cases_UnitedStates</th>\n",
       "      <th>Cases_Spain</th>\n",
       "      <th>Cases_Mali</th>\n",
       "      <th>Deaths_Guinea</th>\n",
       "      <th>Deaths_Liberia</th>\n",
       "      <th>Deaths_SierraLeone</th>\n",
       "      <th>Deaths_Nigeria</th>\n",
       "      <th>Deaths_Senegal</th>\n",
       "      <th>Deaths_UnitedStates</th>\n",
       "      <th>Deaths_Spain</th>\n",
       "      <th>Deaths_Mali</th>\n",
       "    </tr>\n",
       "  </thead>\n",
       "  <tbody>\n",
       "    <tr>\n",
       "      <th>0</th>\n",
       "      <td>1/5/2015</td>\n",
       "      <td>289</td>\n",
       "      <td>2776.0</td>\n",
       "      <td>NaN</td>\n",
       "      <td>10030.0</td>\n",
       "      <td>NaN</td>\n",
       "      <td>NaN</td>\n",
       "      <td>NaN</td>\n",
       "      <td>NaN</td>\n",
       "      <td>NaN</td>\n",
       "      <td>1786.0</td>\n",
       "      <td>NaN</td>\n",
       "      <td>2977.0</td>\n",
       "      <td>NaN</td>\n",
       "      <td>NaN</td>\n",
       "      <td>NaN</td>\n",
       "      <td>NaN</td>\n",
       "      <td>NaN</td>\n",
       "    </tr>\n",
       "    <tr>\n",
       "      <th>1</th>\n",
       "      <td>1/4/2015</td>\n",
       "      <td>288</td>\n",
       "      <td>2775.0</td>\n",
       "      <td>NaN</td>\n",
       "      <td>9780.0</td>\n",
       "      <td>NaN</td>\n",
       "      <td>NaN</td>\n",
       "      <td>NaN</td>\n",
       "      <td>NaN</td>\n",
       "      <td>NaN</td>\n",
       "      <td>1781.0</td>\n",
       "      <td>NaN</td>\n",
       "      <td>2943.0</td>\n",
       "      <td>NaN</td>\n",
       "      <td>NaN</td>\n",
       "      <td>NaN</td>\n",
       "      <td>NaN</td>\n",
       "      <td>NaN</td>\n",
       "    </tr>\n",
       "    <tr>\n",
       "      <th>2</th>\n",
       "      <td>1/3/2015</td>\n",
       "      <td>287</td>\n",
       "      <td>2769.0</td>\n",
       "      <td>8166.0</td>\n",
       "      <td>9722.0</td>\n",
       "      <td>NaN</td>\n",
       "      <td>NaN</td>\n",
       "      <td>NaN</td>\n",
       "      <td>NaN</td>\n",
       "      <td>NaN</td>\n",
       "      <td>1767.0</td>\n",
       "      <td>3496.0</td>\n",
       "      <td>2915.0</td>\n",
       "      <td>NaN</td>\n",
       "      <td>NaN</td>\n",
       "      <td>NaN</td>\n",
       "      <td>NaN</td>\n",
       "      <td>NaN</td>\n",
       "    </tr>\n",
       "    <tr>\n",
       "      <th>3</th>\n",
       "      <td>1/2/2015</td>\n",
       "      <td>286</td>\n",
       "      <td>NaN</td>\n",
       "      <td>8157.0</td>\n",
       "      <td>NaN</td>\n",
       "      <td>NaN</td>\n",
       "      <td>NaN</td>\n",
       "      <td>NaN</td>\n",
       "      <td>NaN</td>\n",
       "      <td>NaN</td>\n",
       "      <td>NaN</td>\n",
       "      <td>3496.0</td>\n",
       "      <td>NaN</td>\n",
       "      <td>NaN</td>\n",
       "      <td>NaN</td>\n",
       "      <td>NaN</td>\n",
       "      <td>NaN</td>\n",
       "      <td>NaN</td>\n",
       "    </tr>\n",
       "    <tr>\n",
       "      <th>4</th>\n",
       "      <td>12/31/2014</td>\n",
       "      <td>284</td>\n",
       "      <td>2730.0</td>\n",
       "      <td>8115.0</td>\n",
       "      <td>9633.0</td>\n",
       "      <td>NaN</td>\n",
       "      <td>NaN</td>\n",
       "      <td>NaN</td>\n",
       "      <td>NaN</td>\n",
       "      <td>NaN</td>\n",
       "      <td>1739.0</td>\n",
       "      <td>3471.0</td>\n",
       "      <td>2827.0</td>\n",
       "      <td>NaN</td>\n",
       "      <td>NaN</td>\n",
       "      <td>NaN</td>\n",
       "      <td>NaN</td>\n",
       "      <td>NaN</td>\n",
       "    </tr>\n",
       "  </tbody>\n",
       "</table>\n",
       "</div>"
      ],
      "text/plain": [
       "         Date  Day  Cases_Guinea  Cases_Liberia  Cases_SierraLeone  \\\n",
       "0    1/5/2015  289        2776.0            NaN            10030.0   \n",
       "1    1/4/2015  288        2775.0            NaN             9780.0   \n",
       "2    1/3/2015  287        2769.0         8166.0             9722.0   \n",
       "3    1/2/2015  286           NaN         8157.0                NaN   \n",
       "4  12/31/2014  284        2730.0         8115.0             9633.0   \n",
       "\n",
       "   Cases_Nigeria  Cases_Senegal  Cases_UnitedStates  Cases_Spain  Cases_Mali  \\\n",
       "0            NaN            NaN                 NaN          NaN         NaN   \n",
       "1            NaN            NaN                 NaN          NaN         NaN   \n",
       "2            NaN            NaN                 NaN          NaN         NaN   \n",
       "3            NaN            NaN                 NaN          NaN         NaN   \n",
       "4            NaN            NaN                 NaN          NaN         NaN   \n",
       "\n",
       "   Deaths_Guinea  Deaths_Liberia  Deaths_SierraLeone  Deaths_Nigeria  \\\n",
       "0         1786.0             NaN              2977.0             NaN   \n",
       "1         1781.0             NaN              2943.0             NaN   \n",
       "2         1767.0          3496.0              2915.0             NaN   \n",
       "3            NaN          3496.0                 NaN             NaN   \n",
       "4         1739.0          3471.0              2827.0             NaN   \n",
       "\n",
       "   Deaths_Senegal  Deaths_UnitedStates  Deaths_Spain  Deaths_Mali  \n",
       "0             NaN                  NaN           NaN          NaN  \n",
       "1             NaN                  NaN           NaN          NaN  \n",
       "2             NaN                  NaN           NaN          NaN  \n",
       "3             NaN                  NaN           NaN          NaN  \n",
       "4             NaN                  NaN           NaN          NaN  "
      ]
     },
     "execution_count": 8,
     "metadata": {},
     "output_type": "execute_result"
    }
   ],
   "source": [
    "ebola = pd.read_csv('data/preprocessing/ebola_country_timeseries.csv')\n",
    "ebola.head()"
   ]
  },
  {
   "cell_type": "code",
   "execution_count": 9,
   "id": "8228779a",
   "metadata": {},
   "outputs": [
    {
     "data": {
      "application/vnd.microsoft.datawrangler.viewer.v0+json": {
       "columns": [
        {
         "name": "Cases_Guinea",
         "rawType": "float64",
         "type": "float"
        },
        {
         "name": "count",
         "rawType": "int64",
         "type": "integer"
        }
       ],
       "ref": "914f8ecd-d2cc-44cd-a6cc-b5942ac02a26",
       "rows": [
        [
         null,
         "29"
        ],
        [
         "86.0",
         "3"
        ],
        [
         "112.0",
         "2"
        ],
        [
         "495.0",
         "2"
        ],
        [
         "390.0",
         "2"
        ]
       ],
       "shape": {
        "columns": 1,
        "rows": 5
       }
      },
      "text/plain": [
       "Cases_Guinea\n",
       "NaN      29\n",
       "86.0      3\n",
       "112.0     2\n",
       "495.0     2\n",
       "390.0     2\n",
       "Name: count, dtype: int64"
      ]
     },
     "execution_count": 9,
     "metadata": {},
     "output_type": "execute_result"
    }
   ],
   "source": [
    "ebola['Cases_Guinea'].value_counts(dropna=False).head()"
   ]
  },
  {
   "cell_type": "markdown",
   "id": "2bd40c48",
   "metadata": {},
   "source": [
    "### Dropping\n",
    "\n",
    "The simplest way to handle missing data is to simply drop it.  \n",
    "However, this can lead to significant data loss, depending on how the data is structured.\n"
   ]
  },
  {
   "cell_type": "code",
   "execution_count": 10,
   "id": "d5df6059",
   "metadata": {},
   "outputs": [
    {
     "data": {
      "application/vnd.microsoft.datawrangler.viewer.v0+json": {
       "columns": [
        {
         "name": "index",
         "rawType": "int64",
         "type": "integer"
        },
        {
         "name": "Date",
         "rawType": "object",
         "type": "string"
        },
        {
         "name": "Day",
         "rawType": "int64",
         "type": "integer"
        },
        {
         "name": "Cases_Guinea",
         "rawType": "float64",
         "type": "float"
        },
        {
         "name": "Cases_Liberia",
         "rawType": "float64",
         "type": "float"
        },
        {
         "name": "Cases_SierraLeone",
         "rawType": "float64",
         "type": "float"
        },
        {
         "name": "Cases_Nigeria",
         "rawType": "float64",
         "type": "float"
        },
        {
         "name": "Cases_Senegal",
         "rawType": "float64",
         "type": "float"
        },
        {
         "name": "Cases_UnitedStates",
         "rawType": "float64",
         "type": "float"
        },
        {
         "name": "Cases_Spain",
         "rawType": "float64",
         "type": "float"
        },
        {
         "name": "Cases_Mali",
         "rawType": "float64",
         "type": "float"
        },
        {
         "name": "Deaths_Guinea",
         "rawType": "float64",
         "type": "float"
        },
        {
         "name": "Deaths_Liberia",
         "rawType": "float64",
         "type": "float"
        },
        {
         "name": "Deaths_SierraLeone",
         "rawType": "float64",
         "type": "float"
        },
        {
         "name": "Deaths_Nigeria",
         "rawType": "float64",
         "type": "float"
        },
        {
         "name": "Deaths_Senegal",
         "rawType": "float64",
         "type": "float"
        },
        {
         "name": "Deaths_UnitedStates",
         "rawType": "float64",
         "type": "float"
        },
        {
         "name": "Deaths_Spain",
         "rawType": "float64",
         "type": "float"
        },
        {
         "name": "Deaths_Mali",
         "rawType": "float64",
         "type": "float"
        }
       ],
       "ref": "814cb213-b74a-4d48-9afd-04664809b5f2",
       "rows": [
        [
         "19",
         "11/18/2014",
         "241",
         "2047.0",
         "7082.0",
         "6190.0",
         "20.0",
         "1.0",
         "4.0",
         "1.0",
         "6.0",
         "1214.0",
         "2963.0",
         "1267.0",
         "8.0",
         "0.0",
         "1.0",
         "0.0",
         "6.0"
        ]
       ],
       "shape": {
        "columns": 18,
        "rows": 1
       }
      },
      "text/html": [
       "<div>\n",
       "<style scoped>\n",
       "    .dataframe tbody tr th:only-of-type {\n",
       "        vertical-align: middle;\n",
       "    }\n",
       "\n",
       "    .dataframe tbody tr th {\n",
       "        vertical-align: top;\n",
       "    }\n",
       "\n",
       "    .dataframe thead th {\n",
       "        text-align: right;\n",
       "    }\n",
       "</style>\n",
       "<table border=\"1\" class=\"dataframe\">\n",
       "  <thead>\n",
       "    <tr style=\"text-align: right;\">\n",
       "      <th></th>\n",
       "      <th>Date</th>\n",
       "      <th>Day</th>\n",
       "      <th>Cases_Guinea</th>\n",
       "      <th>Cases_Liberia</th>\n",
       "      <th>Cases_SierraLeone</th>\n",
       "      <th>Cases_Nigeria</th>\n",
       "      <th>Cases_Senegal</th>\n",
       "      <th>Cases_UnitedStates</th>\n",
       "      <th>Cases_Spain</th>\n",
       "      <th>Cases_Mali</th>\n",
       "      <th>Deaths_Guinea</th>\n",
       "      <th>Deaths_Liberia</th>\n",
       "      <th>Deaths_SierraLeone</th>\n",
       "      <th>Deaths_Nigeria</th>\n",
       "      <th>Deaths_Senegal</th>\n",
       "      <th>Deaths_UnitedStates</th>\n",
       "      <th>Deaths_Spain</th>\n",
       "      <th>Deaths_Mali</th>\n",
       "    </tr>\n",
       "  </thead>\n",
       "  <tbody>\n",
       "    <tr>\n",
       "      <th>19</th>\n",
       "      <td>11/18/2014</td>\n",
       "      <td>241</td>\n",
       "      <td>2047.0</td>\n",
       "      <td>7082.0</td>\n",
       "      <td>6190.0</td>\n",
       "      <td>20.0</td>\n",
       "      <td>1.0</td>\n",
       "      <td>4.0</td>\n",
       "      <td>1.0</td>\n",
       "      <td>6.0</td>\n",
       "      <td>1214.0</td>\n",
       "      <td>2963.0</td>\n",
       "      <td>1267.0</td>\n",
       "      <td>8.0</td>\n",
       "      <td>0.0</td>\n",
       "      <td>1.0</td>\n",
       "      <td>0.0</td>\n",
       "      <td>6.0</td>\n",
       "    </tr>\n",
       "  </tbody>\n",
       "</table>\n",
       "</div>"
      ],
      "text/plain": [
       "          Date  Day  Cases_Guinea  Cases_Liberia  Cases_SierraLeone  \\\n",
       "19  11/18/2014  241        2047.0         7082.0             6190.0   \n",
       "\n",
       "    Cases_Nigeria  Cases_Senegal  Cases_UnitedStates  Cases_Spain  Cases_Mali  \\\n",
       "19           20.0            1.0                 4.0          1.0         6.0   \n",
       "\n",
       "    Deaths_Guinea  Deaths_Liberia  Deaths_SierraLeone  Deaths_Nigeria  \\\n",
       "19         1214.0          2963.0              1267.0             8.0   \n",
       "\n",
       "    Deaths_Senegal  Deaths_UnitedStates  Deaths_Spain  Deaths_Mali  \n",
       "19             0.0                  1.0           0.0          6.0  "
      ]
     },
     "execution_count": 10,
     "metadata": {},
     "output_type": "execute_result"
    }
   ],
   "source": [
    "ebola.dropna()"
   ]
  },
  {
   "cell_type": "code",
   "execution_count": 11,
   "id": "c93a0cf0",
   "metadata": {},
   "outputs": [
    {
     "data": {
      "application/vnd.microsoft.datawrangler.viewer.v0+json": {
       "columns": [
        {
         "name": "index",
         "rawType": "int64",
         "type": "integer"
        },
        {
         "name": "Date",
         "rawType": "object",
         "type": "string"
        },
        {
         "name": "Day",
         "rawType": "int64",
         "type": "integer"
        },
        {
         "name": "Cases_Guinea",
         "rawType": "float64",
         "type": "float"
        },
        {
         "name": "Cases_Liberia",
         "rawType": "float64",
         "type": "float"
        },
        {
         "name": "Cases_SierraLeone",
         "rawType": "float64",
         "type": "float"
        },
        {
         "name": "Cases_Nigeria",
         "rawType": "float64",
         "type": "float"
        },
        {
         "name": "Cases_Senegal",
         "rawType": "float64",
         "type": "float"
        },
        {
         "name": "Cases_UnitedStates",
         "rawType": "float64",
         "type": "float"
        },
        {
         "name": "Cases_Spain",
         "rawType": "float64",
         "type": "float"
        },
        {
         "name": "Cases_Mali",
         "rawType": "float64",
         "type": "float"
        },
        {
         "name": "Deaths_Guinea",
         "rawType": "float64",
         "type": "float"
        },
        {
         "name": "Deaths_Liberia",
         "rawType": "float64",
         "type": "float"
        },
        {
         "name": "Deaths_SierraLeone",
         "rawType": "float64",
         "type": "float"
        },
        {
         "name": "Deaths_Nigeria",
         "rawType": "float64",
         "type": "float"
        },
        {
         "name": "Deaths_Senegal",
         "rawType": "float64",
         "type": "float"
        },
        {
         "name": "Deaths_UnitedStates",
         "rawType": "float64",
         "type": "float"
        },
        {
         "name": "Deaths_Spain",
         "rawType": "float64",
         "type": "float"
        },
        {
         "name": "Deaths_Mali",
         "rawType": "float64",
         "type": "float"
        }
       ],
       "ref": "830b953e-f12f-485d-9c65-3938ee5328d1",
       "rows": [
        [
         "0",
         "1/5/2015",
         "289",
         "2776.0",
         null,
         "10030.0",
         null,
         null,
         null,
         null,
         null,
         "1786.0",
         null,
         "2977.0",
         null,
         null,
         null,
         null,
         null
        ],
        [
         "1",
         "1/4/2015",
         "288",
         "2775.0",
         null,
         "9780.0",
         null,
         null,
         null,
         null,
         null,
         "1781.0",
         null,
         "2943.0",
         null,
         null,
         null,
         null,
         null
        ],
        [
         "2",
         "1/3/2015",
         "287",
         "2769.0",
         "8166.0",
         "9722.0",
         null,
         null,
         null,
         null,
         null,
         "1767.0",
         "3496.0",
         "2915.0",
         null,
         null,
         null,
         null,
         null
        ],
        [
         "3",
         "1/2/2015",
         "286",
         null,
         "8157.0",
         null,
         null,
         null,
         null,
         null,
         null,
         null,
         "3496.0",
         null,
         null,
         null,
         null,
         null,
         null
        ],
        [
         "4",
         "12/31/2014",
         "284",
         "2730.0",
         "8115.0",
         "9633.0",
         null,
         null,
         null,
         null,
         null,
         "1739.0",
         "3471.0",
         "2827.0",
         null,
         null,
         null,
         null,
         null
        ],
        [
         "5",
         "12/28/2014",
         "281",
         "2706.0",
         "8018.0",
         "9446.0",
         null,
         null,
         null,
         null,
         null,
         "1708.0",
         "3423.0",
         "2758.0",
         null,
         null,
         null,
         null,
         null
        ],
        [
         "6",
         "12/27/2014",
         "280",
         "2695.0",
         null,
         "9409.0",
         null,
         null,
         null,
         null,
         null,
         "1697.0",
         null,
         "2732.0",
         null,
         null,
         null,
         null,
         null
        ],
        [
         "7",
         "12/24/2014",
         "277",
         "2630.0",
         "7977.0",
         "9203.0",
         null,
         null,
         null,
         null,
         null,
         null,
         "3413.0",
         "2655.0",
         null,
         null,
         null,
         null,
         null
        ],
        [
         "8",
         "12/21/2014",
         "273",
         "2597.0",
         null,
         "9004.0",
         null,
         null,
         null,
         null,
         null,
         "1607.0",
         null,
         "2582.0",
         null,
         null,
         null,
         null,
         null
        ],
        [
         "9",
         "12/20/2014",
         "272",
         "2571.0",
         "7862.0",
         "8939.0",
         null,
         null,
         null,
         null,
         null,
         "1586.0",
         "3384.0",
         "2556.0",
         null,
         null,
         null,
         null,
         null
        ],
        [
         "10",
         "12/18/2014",
         "271",
         null,
         "7830.0",
         null,
         null,
         null,
         null,
         null,
         null,
         null,
         "3376.0",
         null,
         null,
         null,
         null,
         null,
         null
        ],
        [
         "11",
         "12/14/2014",
         "267",
         "2416.0",
         null,
         "8356.0",
         null,
         null,
         null,
         null,
         null,
         "1525.0",
         null,
         "2085.0",
         null,
         null,
         null,
         null,
         null
        ],
        [
         "12",
         "12/9/2014",
         "262",
         null,
         "7797.0",
         null,
         null,
         null,
         null,
         null,
         null,
         null,
         "3290.0",
         null,
         null,
         null,
         null,
         null,
         null
        ],
        [
         "13",
         "12/7/2014",
         "260",
         "2292.0",
         null,
         "7897.0",
         "20.0",
         "1.0",
         "4.0",
         "1.0",
         "7.0",
         "1428.0",
         null,
         "1768.0",
         "8.0",
         "0.0",
         "1.0",
         "0.0",
         "6.0"
        ],
        [
         "14",
         "12/3/2014",
         "256",
         null,
         "7719.0",
         null,
         null,
         null,
         null,
         null,
         null,
         null,
         "3177.0",
         null,
         null,
         null,
         null,
         null,
         null
        ],
        [
         "15",
         "11/30/2014",
         "253",
         "2164.0",
         null,
         "7312.0",
         "20.0",
         "1.0",
         "4.0",
         "1.0",
         "7.0",
         "1327.0",
         null,
         "1583.0",
         "8.0",
         "0.0",
         "1.0",
         "0.0",
         "6.0"
        ],
        [
         "16",
         "11/28/2014",
         "251",
         null,
         "7635.0",
         null,
         null,
         null,
         null,
         null,
         null,
         null,
         "3145.0",
         null,
         null,
         null,
         null,
         null,
         null
        ],
        [
         "17",
         "11/23/2014",
         "246",
         "2134.0",
         null,
         "6599.0",
         "20.0",
         "1.0",
         "4.0",
         "1.0",
         "7.0",
         "1260.0",
         null,
         "1398.0",
         "8.0",
         "0.0",
         "1.0",
         "0.0",
         "6.0"
        ],
        [
         "18",
         "11/22/2014",
         "245",
         null,
         "7168.0",
         null,
         null,
         null,
         null,
         null,
         null,
         null,
         "3016.0",
         null,
         null,
         null,
         null,
         null,
         null
        ],
        [
         "19",
         "11/18/2014",
         "241",
         "2047.0",
         "7082.0",
         "6190.0",
         "20.0",
         "1.0",
         "4.0",
         "1.0",
         "6.0",
         "1214.0",
         "2963.0",
         "1267.0",
         "8.0",
         "0.0",
         "1.0",
         "0.0",
         "6.0"
        ],
        [
         "20",
         "11/16/2014",
         "239",
         "1971.0",
         null,
         "6073.0",
         "20.0",
         "1.0",
         "4.0",
         "1.0",
         "5.0",
         "1192.0",
         null,
         "1250.0",
         "8.0",
         "0.0",
         "1.0",
         "0.0",
         "5.0"
        ],
        [
         "21",
         "11/15/2014",
         "238",
         null,
         "7069.0",
         null,
         null,
         null,
         null,
         null,
         null,
         null,
         "2964.0",
         null,
         null,
         null,
         null,
         null,
         null
        ],
        [
         "22",
         "11/11/2014",
         "234",
         "1919.0",
         null,
         "5586.0",
         "20.0",
         "1.0",
         "4.0",
         "1.0",
         "4.0",
         "1166.0",
         null,
         "1187.0",
         "8.0",
         "0.0",
         "1.0",
         "0.0",
         "3.0"
        ],
        [
         "23",
         "11/10/2014",
         "233",
         null,
         "6878.0",
         null,
         null,
         null,
         null,
         null,
         null,
         null,
         "2812.0",
         null,
         null,
         null,
         null,
         null,
         null
        ],
        [
         "24",
         "11/9/2014",
         "232",
         "1878.0",
         null,
         "5368.0",
         "20.0",
         "1.0",
         "4.0",
         "1.0",
         "1.0",
         "1142.0",
         null,
         "1169.0",
         "8.0",
         "0.0",
         "1.0",
         "0.0",
         "1.0"
        ],
        [
         "25",
         "11/8/2014",
         "231",
         null,
         "6822.0",
         null,
         null,
         null,
         null,
         null,
         null,
         null,
         "2836.0",
         null,
         null,
         null,
         null,
         null,
         null
        ],
        [
         "26",
         "11/4/2014",
         "227",
         null,
         "6619.0",
         "4862.0",
         "20.0",
         "1.0",
         "4.0",
         "1.0",
         "1.0",
         null,
         "2766.0",
         "1130.0",
         "8.0",
         "0.0",
         "1.0",
         "0.0",
         "1.0"
        ],
        [
         "27",
         "11/3/2014",
         "226",
         "1760.0",
         null,
         null,
         null,
         null,
         null,
         null,
         null,
         "1054.0",
         null,
         null,
         null,
         null,
         null,
         null,
         null
        ],
        [
         "28",
         "11/2/2014",
         "225",
         "1731.0",
         null,
         "4759.0",
         "20.0",
         "1.0",
         "4.0",
         "1.0",
         "1.0",
         "1041.0",
         null,
         "1070.0",
         "8.0",
         "0.0",
         "1.0",
         "0.0",
         "1.0"
        ],
        [
         "29",
         "10/31/2014",
         "222",
         null,
         "6525.0",
         null,
         null,
         null,
         null,
         null,
         null,
         null,
         "2697.0",
         null,
         null,
         null,
         null,
         null,
         null
        ],
        [
         "30",
         "10/29/2014",
         "220",
         "1667.0",
         null,
         "5338.0",
         "20.0",
         "1.0",
         "4.0",
         "1.0",
         "1.0",
         "1018.0",
         null,
         "1510.0",
         "8.0",
         "0.0",
         "1.0",
         "0.0",
         "1.0"
        ],
        [
         "31",
         "10/27/2014",
         "218",
         "1906.0",
         null,
         "5235.0",
         "20.0",
         "1.0",
         "4.0",
         "1.0",
         "1.0",
         "997.0",
         null,
         "1500.0",
         "8.0",
         "0.0",
         "1.0",
         "0.0",
         "1.0"
        ],
        [
         "32",
         "10/25/2014",
         "216",
         null,
         "6535.0",
         null,
         null,
         null,
         null,
         null,
         null,
         null,
         "2413.0",
         null,
         null,
         null,
         null,
         null,
         null
        ],
        [
         "33",
         "10/22/2014",
         "214",
         null,
         null,
         "3896.0",
         null,
         null,
         "4.0",
         "1.0",
         "1.0",
         null,
         null,
         "1281.0",
         null,
         null,
         "1.0",
         "0.0",
         "1.0"
        ],
        [
         "34",
         "10/21/2014",
         "213",
         "1553.0",
         null,
         null,
         null,
         null,
         null,
         null,
         null,
         "926.0",
         null,
         null,
         null,
         null,
         null,
         null,
         null
        ],
        [
         "35",
         "10/19/2014",
         "211",
         "1540.0",
         null,
         "3706.0",
         "20.0",
         "1.0",
         "3.0",
         "1.0",
         null,
         "904.0",
         null,
         "1259.0",
         "8.0",
         "0.0",
         "1.0",
         "0.0",
         null
        ],
        [
         "36",
         "10/18/2014",
         "210",
         null,
         "4665.0",
         null,
         null,
         null,
         null,
         null,
         null,
         null,
         "2705.0",
         null,
         null,
         null,
         null,
         null,
         null
        ],
        [
         "37",
         "10/14/2014",
         "206",
         "1519.0",
         null,
         "3410.0",
         "20.0",
         "1.0",
         "3.0",
         "1.0",
         null,
         "862.0",
         null,
         "1200.0",
         "8.0",
         "0.0",
         "0.0",
         "1.0",
         null
        ],
        [
         "38",
         "10/13/2014",
         "205",
         null,
         "4262.0",
         null,
         null,
         null,
         null,
         null,
         null,
         null,
         "2484.0",
         null,
         null,
         null,
         null,
         null,
         null
        ],
        [
         "39",
         "10/12/2014",
         "204",
         "1472.0",
         null,
         "3252.0",
         "20.0",
         "1.0",
         "2.0",
         "1.0",
         null,
         "843.0",
         null,
         "1183.0",
         "8.0",
         "0.0",
         "1.0",
         "1.0",
         null
        ],
        [
         "40",
         "10/11/2014",
         "203",
         null,
         "4249.0",
         null,
         null,
         null,
         null,
         null,
         null,
         null,
         "2458.0",
         null,
         null,
         null,
         null,
         null,
         null
        ],
        [
         "41",
         "10/8/2014",
         "200",
         null,
         null,
         "2950.0",
         "20.0",
         "1.0",
         "1.0",
         "1.0",
         null,
         null,
         null,
         "930.0",
         "8.0",
         "0.0",
         "1.0",
         "1.0",
         null
        ],
        [
         "42",
         "10/7/2014",
         "199",
         "1350.0",
         "4076.0",
         null,
         null,
         null,
         null,
         null,
         null,
         "778.0",
         "2316.0",
         null,
         null,
         null,
         null,
         null,
         null
        ],
        [
         "43",
         "10/5/2014",
         "197",
         "1298.0",
         null,
         "2789.0",
         "20.0",
         "1.0",
         "1.0",
         null,
         null,
         "768.0",
         null,
         "879.0",
         "8.0",
         "0.0",
         "0.0",
         null,
         null
        ],
        [
         "44",
         "10/4/2014",
         "196",
         null,
         "3924.0",
         null,
         null,
         null,
         null,
         null,
         null,
         null,
         "2210.0",
         null,
         null,
         null,
         null,
         null,
         null
        ],
        [
         "45",
         "10/1/2014",
         "193",
         "1199.0",
         "3834.0",
         "2437.0",
         "20.0",
         "1.0",
         "1.0",
         null,
         null,
         "739.0",
         "2069.0",
         "623.0",
         "8.0",
         "0.0",
         "0.0",
         null,
         null
        ],
        [
         "46",
         "9/28/2014",
         "190",
         "1157.0",
         "3696.0",
         "2304.0",
         "20.0",
         "1.0",
         null,
         null,
         null,
         "710.0",
         "1998.0",
         "622.0",
         "8.0",
         "0.0",
         null,
         null,
         null
        ],
        [
         "47",
         "9/23/2014",
         "185",
         "1074.0",
         "3458.0",
         "2021.0",
         "20.0",
         "1.0",
         null,
         null,
         null,
         "648.0",
         "1830.0",
         "605.0",
         "8.0",
         "0.0",
         null,
         null,
         null
        ],
        [
         "48",
         "9/21/2014",
         "183",
         "1022.0",
         "3280.0",
         "1940.0",
         "20.0",
         "1.0",
         null,
         null,
         null,
         "635.0",
         "1677.0",
         "597.0",
         "8.0",
         "0.0",
         null,
         null,
         null
        ],
        [
         "49",
         "9/20/2014",
         "182",
         null,
         null,
         "1813.0",
         null,
         null,
         null,
         null,
         null,
         null,
         null,
         "593.0",
         null,
         null,
         null,
         null,
         null
        ]
       ],
       "shape": {
        "columns": 18,
        "rows": 122
       }
      },
      "text/html": [
       "<div>\n",
       "<style scoped>\n",
       "    .dataframe tbody tr th:only-of-type {\n",
       "        vertical-align: middle;\n",
       "    }\n",
       "\n",
       "    .dataframe tbody tr th {\n",
       "        vertical-align: top;\n",
       "    }\n",
       "\n",
       "    .dataframe thead th {\n",
       "        text-align: right;\n",
       "    }\n",
       "</style>\n",
       "<table border=\"1\" class=\"dataframe\">\n",
       "  <thead>\n",
       "    <tr style=\"text-align: right;\">\n",
       "      <th></th>\n",
       "      <th>Date</th>\n",
       "      <th>Day</th>\n",
       "      <th>Cases_Guinea</th>\n",
       "      <th>Cases_Liberia</th>\n",
       "      <th>Cases_SierraLeone</th>\n",
       "      <th>Cases_Nigeria</th>\n",
       "      <th>Cases_Senegal</th>\n",
       "      <th>Cases_UnitedStates</th>\n",
       "      <th>Cases_Spain</th>\n",
       "      <th>Cases_Mali</th>\n",
       "      <th>Deaths_Guinea</th>\n",
       "      <th>Deaths_Liberia</th>\n",
       "      <th>Deaths_SierraLeone</th>\n",
       "      <th>Deaths_Nigeria</th>\n",
       "      <th>Deaths_Senegal</th>\n",
       "      <th>Deaths_UnitedStates</th>\n",
       "      <th>Deaths_Spain</th>\n",
       "      <th>Deaths_Mali</th>\n",
       "    </tr>\n",
       "  </thead>\n",
       "  <tbody>\n",
       "    <tr>\n",
       "      <th>0</th>\n",
       "      <td>1/5/2015</td>\n",
       "      <td>289</td>\n",
       "      <td>2776.0</td>\n",
       "      <td>NaN</td>\n",
       "      <td>10030.0</td>\n",
       "      <td>NaN</td>\n",
       "      <td>NaN</td>\n",
       "      <td>NaN</td>\n",
       "      <td>NaN</td>\n",
       "      <td>NaN</td>\n",
       "      <td>1786.0</td>\n",
       "      <td>NaN</td>\n",
       "      <td>2977.0</td>\n",
       "      <td>NaN</td>\n",
       "      <td>NaN</td>\n",
       "      <td>NaN</td>\n",
       "      <td>NaN</td>\n",
       "      <td>NaN</td>\n",
       "    </tr>\n",
       "    <tr>\n",
       "      <th>1</th>\n",
       "      <td>1/4/2015</td>\n",
       "      <td>288</td>\n",
       "      <td>2775.0</td>\n",
       "      <td>NaN</td>\n",
       "      <td>9780.0</td>\n",
       "      <td>NaN</td>\n",
       "      <td>NaN</td>\n",
       "      <td>NaN</td>\n",
       "      <td>NaN</td>\n",
       "      <td>NaN</td>\n",
       "      <td>1781.0</td>\n",
       "      <td>NaN</td>\n",
       "      <td>2943.0</td>\n",
       "      <td>NaN</td>\n",
       "      <td>NaN</td>\n",
       "      <td>NaN</td>\n",
       "      <td>NaN</td>\n",
       "      <td>NaN</td>\n",
       "    </tr>\n",
       "    <tr>\n",
       "      <th>2</th>\n",
       "      <td>1/3/2015</td>\n",
       "      <td>287</td>\n",
       "      <td>2769.0</td>\n",
       "      <td>8166.0</td>\n",
       "      <td>9722.0</td>\n",
       "      <td>NaN</td>\n",
       "      <td>NaN</td>\n",
       "      <td>NaN</td>\n",
       "      <td>NaN</td>\n",
       "      <td>NaN</td>\n",
       "      <td>1767.0</td>\n",
       "      <td>3496.0</td>\n",
       "      <td>2915.0</td>\n",
       "      <td>NaN</td>\n",
       "      <td>NaN</td>\n",
       "      <td>NaN</td>\n",
       "      <td>NaN</td>\n",
       "      <td>NaN</td>\n",
       "    </tr>\n",
       "    <tr>\n",
       "      <th>3</th>\n",
       "      <td>1/2/2015</td>\n",
       "      <td>286</td>\n",
       "      <td>NaN</td>\n",
       "      <td>8157.0</td>\n",
       "      <td>NaN</td>\n",
       "      <td>NaN</td>\n",
       "      <td>NaN</td>\n",
       "      <td>NaN</td>\n",
       "      <td>NaN</td>\n",
       "      <td>NaN</td>\n",
       "      <td>NaN</td>\n",
       "      <td>3496.0</td>\n",
       "      <td>NaN</td>\n",
       "      <td>NaN</td>\n",
       "      <td>NaN</td>\n",
       "      <td>NaN</td>\n",
       "      <td>NaN</td>\n",
       "      <td>NaN</td>\n",
       "    </tr>\n",
       "    <tr>\n",
       "      <th>4</th>\n",
       "      <td>12/31/2014</td>\n",
       "      <td>284</td>\n",
       "      <td>2730.0</td>\n",
       "      <td>8115.0</td>\n",
       "      <td>9633.0</td>\n",
       "      <td>NaN</td>\n",
       "      <td>NaN</td>\n",
       "      <td>NaN</td>\n",
       "      <td>NaN</td>\n",
       "      <td>NaN</td>\n",
       "      <td>1739.0</td>\n",
       "      <td>3471.0</td>\n",
       "      <td>2827.0</td>\n",
       "      <td>NaN</td>\n",
       "      <td>NaN</td>\n",
       "      <td>NaN</td>\n",
       "      <td>NaN</td>\n",
       "      <td>NaN</td>\n",
       "    </tr>\n",
       "    <tr>\n",
       "      <th>...</th>\n",
       "      <td>...</td>\n",
       "      <td>...</td>\n",
       "      <td>...</td>\n",
       "      <td>...</td>\n",
       "      <td>...</td>\n",
       "      <td>...</td>\n",
       "      <td>...</td>\n",
       "      <td>...</td>\n",
       "      <td>...</td>\n",
       "      <td>...</td>\n",
       "      <td>...</td>\n",
       "      <td>...</td>\n",
       "      <td>...</td>\n",
       "      <td>...</td>\n",
       "      <td>...</td>\n",
       "      <td>...</td>\n",
       "      <td>...</td>\n",
       "      <td>...</td>\n",
       "    </tr>\n",
       "    <tr>\n",
       "      <th>117</th>\n",
       "      <td>3/27/2014</td>\n",
       "      <td>5</td>\n",
       "      <td>103.0</td>\n",
       "      <td>8.0</td>\n",
       "      <td>6.0</td>\n",
       "      <td>NaN</td>\n",
       "      <td>NaN</td>\n",
       "      <td>NaN</td>\n",
       "      <td>NaN</td>\n",
       "      <td>NaN</td>\n",
       "      <td>66.0</td>\n",
       "      <td>6.0</td>\n",
       "      <td>5.0</td>\n",
       "      <td>NaN</td>\n",
       "      <td>NaN</td>\n",
       "      <td>NaN</td>\n",
       "      <td>NaN</td>\n",
       "      <td>NaN</td>\n",
       "    </tr>\n",
       "    <tr>\n",
       "      <th>118</th>\n",
       "      <td>3/26/2014</td>\n",
       "      <td>4</td>\n",
       "      <td>86.0</td>\n",
       "      <td>NaN</td>\n",
       "      <td>NaN</td>\n",
       "      <td>NaN</td>\n",
       "      <td>NaN</td>\n",
       "      <td>NaN</td>\n",
       "      <td>NaN</td>\n",
       "      <td>NaN</td>\n",
       "      <td>62.0</td>\n",
       "      <td>NaN</td>\n",
       "      <td>NaN</td>\n",
       "      <td>NaN</td>\n",
       "      <td>NaN</td>\n",
       "      <td>NaN</td>\n",
       "      <td>NaN</td>\n",
       "      <td>NaN</td>\n",
       "    </tr>\n",
       "    <tr>\n",
       "      <th>119</th>\n",
       "      <td>3/25/2014</td>\n",
       "      <td>3</td>\n",
       "      <td>86.0</td>\n",
       "      <td>NaN</td>\n",
       "      <td>NaN</td>\n",
       "      <td>NaN</td>\n",
       "      <td>NaN</td>\n",
       "      <td>NaN</td>\n",
       "      <td>NaN</td>\n",
       "      <td>NaN</td>\n",
       "      <td>60.0</td>\n",
       "      <td>NaN</td>\n",
       "      <td>NaN</td>\n",
       "      <td>NaN</td>\n",
       "      <td>NaN</td>\n",
       "      <td>NaN</td>\n",
       "      <td>NaN</td>\n",
       "      <td>NaN</td>\n",
       "    </tr>\n",
       "    <tr>\n",
       "      <th>120</th>\n",
       "      <td>3/24/2014</td>\n",
       "      <td>2</td>\n",
       "      <td>86.0</td>\n",
       "      <td>NaN</td>\n",
       "      <td>NaN</td>\n",
       "      <td>NaN</td>\n",
       "      <td>NaN</td>\n",
       "      <td>NaN</td>\n",
       "      <td>NaN</td>\n",
       "      <td>NaN</td>\n",
       "      <td>59.0</td>\n",
       "      <td>NaN</td>\n",
       "      <td>NaN</td>\n",
       "      <td>NaN</td>\n",
       "      <td>NaN</td>\n",
       "      <td>NaN</td>\n",
       "      <td>NaN</td>\n",
       "      <td>NaN</td>\n",
       "    </tr>\n",
       "    <tr>\n",
       "      <th>121</th>\n",
       "      <td>3/22/2014</td>\n",
       "      <td>0</td>\n",
       "      <td>49.0</td>\n",
       "      <td>NaN</td>\n",
       "      <td>NaN</td>\n",
       "      <td>NaN</td>\n",
       "      <td>NaN</td>\n",
       "      <td>NaN</td>\n",
       "      <td>NaN</td>\n",
       "      <td>NaN</td>\n",
       "      <td>29.0</td>\n",
       "      <td>NaN</td>\n",
       "      <td>NaN</td>\n",
       "      <td>NaN</td>\n",
       "      <td>NaN</td>\n",
       "      <td>NaN</td>\n",
       "      <td>NaN</td>\n",
       "      <td>NaN</td>\n",
       "    </tr>\n",
       "  </tbody>\n",
       "</table>\n",
       "<p>122 rows × 18 columns</p>\n",
       "</div>"
      ],
      "text/plain": [
       "           Date  Day  Cases_Guinea  Cases_Liberia  Cases_SierraLeone  \\\n",
       "0      1/5/2015  289        2776.0            NaN            10030.0   \n",
       "1      1/4/2015  288        2775.0            NaN             9780.0   \n",
       "2      1/3/2015  287        2769.0         8166.0             9722.0   \n",
       "3      1/2/2015  286           NaN         8157.0                NaN   \n",
       "4    12/31/2014  284        2730.0         8115.0             9633.0   \n",
       "..          ...  ...           ...            ...                ...   \n",
       "117   3/27/2014    5         103.0            8.0                6.0   \n",
       "118   3/26/2014    4          86.0            NaN                NaN   \n",
       "119   3/25/2014    3          86.0            NaN                NaN   \n",
       "120   3/24/2014    2          86.0            NaN                NaN   \n",
       "121   3/22/2014    0          49.0            NaN                NaN   \n",
       "\n",
       "     Cases_Nigeria  Cases_Senegal  Cases_UnitedStates  Cases_Spain  \\\n",
       "0              NaN            NaN                 NaN          NaN   \n",
       "1              NaN            NaN                 NaN          NaN   \n",
       "2              NaN            NaN                 NaN          NaN   \n",
       "3              NaN            NaN                 NaN          NaN   \n",
       "4              NaN            NaN                 NaN          NaN   \n",
       "..             ...            ...                 ...          ...   \n",
       "117            NaN            NaN                 NaN          NaN   \n",
       "118            NaN            NaN                 NaN          NaN   \n",
       "119            NaN            NaN                 NaN          NaN   \n",
       "120            NaN            NaN                 NaN          NaN   \n",
       "121            NaN            NaN                 NaN          NaN   \n",
       "\n",
       "     Cases_Mali  Deaths_Guinea  Deaths_Liberia  Deaths_SierraLeone  \\\n",
       "0           NaN         1786.0             NaN              2977.0   \n",
       "1           NaN         1781.0             NaN              2943.0   \n",
       "2           NaN         1767.0          3496.0              2915.0   \n",
       "3           NaN            NaN          3496.0                 NaN   \n",
       "4           NaN         1739.0          3471.0              2827.0   \n",
       "..          ...            ...             ...                 ...   \n",
       "117         NaN           66.0             6.0                 5.0   \n",
       "118         NaN           62.0             NaN                 NaN   \n",
       "119         NaN           60.0             NaN                 NaN   \n",
       "120         NaN           59.0             NaN                 NaN   \n",
       "121         NaN           29.0             NaN                 NaN   \n",
       "\n",
       "     Deaths_Nigeria  Deaths_Senegal  Deaths_UnitedStates  Deaths_Spain  \\\n",
       "0               NaN             NaN                  NaN           NaN   \n",
       "1               NaN             NaN                  NaN           NaN   \n",
       "2               NaN             NaN                  NaN           NaN   \n",
       "3               NaN             NaN                  NaN           NaN   \n",
       "4               NaN             NaN                  NaN           NaN   \n",
       "..              ...             ...                  ...           ...   \n",
       "117             NaN             NaN                  NaN           NaN   \n",
       "118             NaN             NaN                  NaN           NaN   \n",
       "119             NaN             NaN                  NaN           NaN   \n",
       "120             NaN             NaN                  NaN           NaN   \n",
       "121             NaN             NaN                  NaN           NaN   \n",
       "\n",
       "     Deaths_Mali  \n",
       "0            NaN  \n",
       "1            NaN  \n",
       "2            NaN  \n",
       "3            NaN  \n",
       "4            NaN  \n",
       "..           ...  \n",
       "117          NaN  \n",
       "118          NaN  \n",
       "119          NaN  \n",
       "120          NaN  \n",
       "121          NaN  \n",
       "\n",
       "[122 rows x 18 columns]"
      ]
     },
     "execution_count": 11,
     "metadata": {},
     "output_type": "execute_result"
    }
   ],
   "source": [
    "ebola.dropna(how='all')"
   ]
  },
  {
   "cell_type": "markdown",
   "id": "527fb69d",
   "metadata": {},
   "source": [
    "### Filling\n",
    "\n",
    "Instead of dropping missing values, we can fill them so that the rest of the data remains usable.  \n",
    "Keep in mind, however, that this always introduces artifacts.\n",
    "\n",
    "We can fill with a constant value.\n"
   ]
  },
  {
   "cell_type": "code",
   "execution_count": 12,
   "id": "27c9b683",
   "metadata": {},
   "outputs": [
    {
     "data": {
      "application/vnd.microsoft.datawrangler.viewer.v0+json": {
       "columns": [
        {
         "name": "index",
         "rawType": "int64",
         "type": "integer"
        },
        {
         "name": "Date",
         "rawType": "object",
         "type": "string"
        },
        {
         "name": "Day",
         "rawType": "int64",
         "type": "integer"
        },
        {
         "name": "Cases_Guinea",
         "rawType": "float64",
         "type": "float"
        },
        {
         "name": "Cases_Liberia",
         "rawType": "float64",
         "type": "float"
        },
        {
         "name": "Cases_SierraLeone",
         "rawType": "float64",
         "type": "float"
        },
        {
         "name": "Cases_Nigeria",
         "rawType": "float64",
         "type": "float"
        },
        {
         "name": "Cases_Senegal",
         "rawType": "float64",
         "type": "float"
        },
        {
         "name": "Cases_UnitedStates",
         "rawType": "float64",
         "type": "float"
        },
        {
         "name": "Cases_Spain",
         "rawType": "float64",
         "type": "float"
        },
        {
         "name": "Cases_Mali",
         "rawType": "float64",
         "type": "float"
        },
        {
         "name": "Deaths_Guinea",
         "rawType": "float64",
         "type": "float"
        },
        {
         "name": "Deaths_Liberia",
         "rawType": "float64",
         "type": "float"
        },
        {
         "name": "Deaths_SierraLeone",
         "rawType": "float64",
         "type": "float"
        },
        {
         "name": "Deaths_Nigeria",
         "rawType": "float64",
         "type": "float"
        },
        {
         "name": "Deaths_Senegal",
         "rawType": "float64",
         "type": "float"
        },
        {
         "name": "Deaths_UnitedStates",
         "rawType": "float64",
         "type": "float"
        },
        {
         "name": "Deaths_Spain",
         "rawType": "float64",
         "type": "float"
        },
        {
         "name": "Deaths_Mali",
         "rawType": "float64",
         "type": "float"
        }
       ],
       "ref": "15c76f34-6262-4d2a-b3d6-3350cdfcf2b2",
       "rows": [
        [
         "0",
         "1/5/2015",
         "289",
         "2776.0",
         "0.0",
         "10030.0",
         "0.0",
         "0.0",
         "0.0",
         "0.0",
         "0.0",
         "1786.0",
         "0.0",
         "2977.0",
         "0.0",
         "0.0",
         "0.0",
         "0.0",
         "0.0"
        ],
        [
         "1",
         "1/4/2015",
         "288",
         "2775.0",
         "0.0",
         "9780.0",
         "0.0",
         "0.0",
         "0.0",
         "0.0",
         "0.0",
         "1781.0",
         "0.0",
         "2943.0",
         "0.0",
         "0.0",
         "0.0",
         "0.0",
         "0.0"
        ],
        [
         "2",
         "1/3/2015",
         "287",
         "2769.0",
         "8166.0",
         "9722.0",
         "0.0",
         "0.0",
         "0.0",
         "0.0",
         "0.0",
         "1767.0",
         "3496.0",
         "2915.0",
         "0.0",
         "0.0",
         "0.0",
         "0.0",
         "0.0"
        ],
        [
         "3",
         "1/2/2015",
         "286",
         "0.0",
         "8157.0",
         "0.0",
         "0.0",
         "0.0",
         "0.0",
         "0.0",
         "0.0",
         "0.0",
         "3496.0",
         "0.0",
         "0.0",
         "0.0",
         "0.0",
         "0.0",
         "0.0"
        ],
        [
         "4",
         "12/31/2014",
         "284",
         "2730.0",
         "8115.0",
         "9633.0",
         "0.0",
         "0.0",
         "0.0",
         "0.0",
         "0.0",
         "1739.0",
         "3471.0",
         "2827.0",
         "0.0",
         "0.0",
         "0.0",
         "0.0",
         "0.0"
        ]
       ],
       "shape": {
        "columns": 18,
        "rows": 5
       }
      },
      "text/html": [
       "<div>\n",
       "<style scoped>\n",
       "    .dataframe tbody tr th:only-of-type {\n",
       "        vertical-align: middle;\n",
       "    }\n",
       "\n",
       "    .dataframe tbody tr th {\n",
       "        vertical-align: top;\n",
       "    }\n",
       "\n",
       "    .dataframe thead th {\n",
       "        text-align: right;\n",
       "    }\n",
       "</style>\n",
       "<table border=\"1\" class=\"dataframe\">\n",
       "  <thead>\n",
       "    <tr style=\"text-align: right;\">\n",
       "      <th></th>\n",
       "      <th>Date</th>\n",
       "      <th>Day</th>\n",
       "      <th>Cases_Guinea</th>\n",
       "      <th>Cases_Liberia</th>\n",
       "      <th>Cases_SierraLeone</th>\n",
       "      <th>Cases_Nigeria</th>\n",
       "      <th>Cases_Senegal</th>\n",
       "      <th>Cases_UnitedStates</th>\n",
       "      <th>Cases_Spain</th>\n",
       "      <th>Cases_Mali</th>\n",
       "      <th>Deaths_Guinea</th>\n",
       "      <th>Deaths_Liberia</th>\n",
       "      <th>Deaths_SierraLeone</th>\n",
       "      <th>Deaths_Nigeria</th>\n",
       "      <th>Deaths_Senegal</th>\n",
       "      <th>Deaths_UnitedStates</th>\n",
       "      <th>Deaths_Spain</th>\n",
       "      <th>Deaths_Mali</th>\n",
       "    </tr>\n",
       "  </thead>\n",
       "  <tbody>\n",
       "    <tr>\n",
       "      <th>0</th>\n",
       "      <td>1/5/2015</td>\n",
       "      <td>289</td>\n",
       "      <td>2776.0</td>\n",
       "      <td>0.0</td>\n",
       "      <td>10030.0</td>\n",
       "      <td>0.0</td>\n",
       "      <td>0.0</td>\n",
       "      <td>0.0</td>\n",
       "      <td>0.0</td>\n",
       "      <td>0.0</td>\n",
       "      <td>1786.0</td>\n",
       "      <td>0.0</td>\n",
       "      <td>2977.0</td>\n",
       "      <td>0.0</td>\n",
       "      <td>0.0</td>\n",
       "      <td>0.0</td>\n",
       "      <td>0.0</td>\n",
       "      <td>0.0</td>\n",
       "    </tr>\n",
       "    <tr>\n",
       "      <th>1</th>\n",
       "      <td>1/4/2015</td>\n",
       "      <td>288</td>\n",
       "      <td>2775.0</td>\n",
       "      <td>0.0</td>\n",
       "      <td>9780.0</td>\n",
       "      <td>0.0</td>\n",
       "      <td>0.0</td>\n",
       "      <td>0.0</td>\n",
       "      <td>0.0</td>\n",
       "      <td>0.0</td>\n",
       "      <td>1781.0</td>\n",
       "      <td>0.0</td>\n",
       "      <td>2943.0</td>\n",
       "      <td>0.0</td>\n",
       "      <td>0.0</td>\n",
       "      <td>0.0</td>\n",
       "      <td>0.0</td>\n",
       "      <td>0.0</td>\n",
       "    </tr>\n",
       "    <tr>\n",
       "      <th>2</th>\n",
       "      <td>1/3/2015</td>\n",
       "      <td>287</td>\n",
       "      <td>2769.0</td>\n",
       "      <td>8166.0</td>\n",
       "      <td>9722.0</td>\n",
       "      <td>0.0</td>\n",
       "      <td>0.0</td>\n",
       "      <td>0.0</td>\n",
       "      <td>0.0</td>\n",
       "      <td>0.0</td>\n",
       "      <td>1767.0</td>\n",
       "      <td>3496.0</td>\n",
       "      <td>2915.0</td>\n",
       "      <td>0.0</td>\n",
       "      <td>0.0</td>\n",
       "      <td>0.0</td>\n",
       "      <td>0.0</td>\n",
       "      <td>0.0</td>\n",
       "    </tr>\n",
       "    <tr>\n",
       "      <th>3</th>\n",
       "      <td>1/2/2015</td>\n",
       "      <td>286</td>\n",
       "      <td>0.0</td>\n",
       "      <td>8157.0</td>\n",
       "      <td>0.0</td>\n",
       "      <td>0.0</td>\n",
       "      <td>0.0</td>\n",
       "      <td>0.0</td>\n",
       "      <td>0.0</td>\n",
       "      <td>0.0</td>\n",
       "      <td>0.0</td>\n",
       "      <td>3496.0</td>\n",
       "      <td>0.0</td>\n",
       "      <td>0.0</td>\n",
       "      <td>0.0</td>\n",
       "      <td>0.0</td>\n",
       "      <td>0.0</td>\n",
       "      <td>0.0</td>\n",
       "    </tr>\n",
       "    <tr>\n",
       "      <th>4</th>\n",
       "      <td>12/31/2014</td>\n",
       "      <td>284</td>\n",
       "      <td>2730.0</td>\n",
       "      <td>8115.0</td>\n",
       "      <td>9633.0</td>\n",
       "      <td>0.0</td>\n",
       "      <td>0.0</td>\n",
       "      <td>0.0</td>\n",
       "      <td>0.0</td>\n",
       "      <td>0.0</td>\n",
       "      <td>1739.0</td>\n",
       "      <td>3471.0</td>\n",
       "      <td>2827.0</td>\n",
       "      <td>0.0</td>\n",
       "      <td>0.0</td>\n",
       "      <td>0.0</td>\n",
       "      <td>0.0</td>\n",
       "      <td>0.0</td>\n",
       "    </tr>\n",
       "  </tbody>\n",
       "</table>\n",
       "</div>"
      ],
      "text/plain": [
       "         Date  Day  Cases_Guinea  Cases_Liberia  Cases_SierraLeone  \\\n",
       "0    1/5/2015  289        2776.0            0.0            10030.0   \n",
       "1    1/4/2015  288        2775.0            0.0             9780.0   \n",
       "2    1/3/2015  287        2769.0         8166.0             9722.0   \n",
       "3    1/2/2015  286           0.0         8157.0                0.0   \n",
       "4  12/31/2014  284        2730.0         8115.0             9633.0   \n",
       "\n",
       "   Cases_Nigeria  Cases_Senegal  Cases_UnitedStates  Cases_Spain  Cases_Mali  \\\n",
       "0            0.0            0.0                 0.0          0.0         0.0   \n",
       "1            0.0            0.0                 0.0          0.0         0.0   \n",
       "2            0.0            0.0                 0.0          0.0         0.0   \n",
       "3            0.0            0.0                 0.0          0.0         0.0   \n",
       "4            0.0            0.0                 0.0          0.0         0.0   \n",
       "\n",
       "   Deaths_Guinea  Deaths_Liberia  Deaths_SierraLeone  Deaths_Nigeria  \\\n",
       "0         1786.0             0.0              2977.0             0.0   \n",
       "1         1781.0             0.0              2943.0             0.0   \n",
       "2         1767.0          3496.0              2915.0             0.0   \n",
       "3            0.0          3496.0                 0.0             0.0   \n",
       "4         1739.0          3471.0              2827.0             0.0   \n",
       "\n",
       "   Deaths_Senegal  Deaths_UnitedStates  Deaths_Spain  Deaths_Mali  \n",
       "0             0.0                  0.0           0.0          0.0  \n",
       "1             0.0                  0.0           0.0          0.0  \n",
       "2             0.0                  0.0           0.0          0.0  \n",
       "3             0.0                  0.0           0.0          0.0  \n",
       "4             0.0                  0.0           0.0          0.0  "
      ]
     },
     "execution_count": 12,
     "metadata": {},
     "output_type": "execute_result"
    }
   ],
   "source": [
    "ebola.fillna(0).head()"
   ]
  },
  {
   "cell_type": "markdown",
   "id": "61d5abef",
   "metadata": {},
   "source": [
    "Or you can use more advanced strategies to compute the missing data, such as calculating a column mean.  \n",
    "This can be replaced with any simple summary statistic.\n"
   ]
  },
  {
   "cell_type": "code",
   "execution_count": 13,
   "id": "9959bf18",
   "metadata": {},
   "outputs": [
    {
     "data": {
      "application/vnd.microsoft.datawrangler.viewer.v0+json": {
       "columns": [
        {
         "name": "index",
         "rawType": "object",
         "type": "string"
        },
        {
         "name": "0",
         "rawType": "float64",
         "type": "float"
        }
       ],
       "ref": "d988997f-f9e7-4726-9c5d-54c507004de1",
       "rows": [
        [
         "Day",
         "144.77868852459017"
        ],
        [
         "Cases_Guinea",
         "911.0645161290323"
        ],
        [
         "Cases_Liberia",
         "2335.3373493975905"
        ],
        [
         "Cases_SierraLeone",
         "2427.367816091954"
        ],
        [
         "Cases_Nigeria",
         "16.736842105263158"
        ],
        [
         "Cases_Senegal",
         "1.08"
        ],
        [
         "Cases_UnitedStates",
         "3.2777777777777777"
        ],
        [
         "Cases_Spain",
         "1.0"
        ],
        [
         "Cases_Mali",
         "3.5"
        ],
        [
         "Deaths_Guinea",
         "563.2391304347826"
        ],
        [
         "Deaths_Liberia",
         "1101.20987654321"
        ],
        [
         "Deaths_SierraLeone",
         "693.7011494252873"
        ],
        [
         "Deaths_Nigeria",
         "6.131578947368421"
        ],
        [
         "Deaths_Senegal",
         "0.0"
        ],
        [
         "Deaths_UnitedStates",
         "0.8333333333333334"
        ],
        [
         "Deaths_Spain",
         "0.1875"
        ],
        [
         "Deaths_Mali",
         "3.1666666666666665"
        ]
       ],
       "shape": {
        "columns": 1,
        "rows": 17
       }
      },
      "text/plain": [
       "Day                     144.778689\n",
       "Cases_Guinea            911.064516\n",
       "Cases_Liberia          2335.337349\n",
       "Cases_SierraLeone      2427.367816\n",
       "Cases_Nigeria            16.736842\n",
       "Cases_Senegal             1.080000\n",
       "Cases_UnitedStates        3.277778\n",
       "Cases_Spain               1.000000\n",
       "Cases_Mali                3.500000\n",
       "Deaths_Guinea           563.239130\n",
       "Deaths_Liberia         1101.209877\n",
       "Deaths_SierraLeone      693.701149\n",
       "Deaths_Nigeria            6.131579\n",
       "Deaths_Senegal            0.000000\n",
       "Deaths_UnitedStates       0.833333\n",
       "Deaths_Spain              0.187500\n",
       "Deaths_Mali               3.166667\n",
       "dtype: float64"
      ]
     },
     "execution_count": 13,
     "metadata": {},
     "output_type": "execute_result"
    }
   ],
   "source": [
    "ebola.mean(numeric_only=True)"
   ]
  },
  {
   "cell_type": "code",
   "execution_count": 14,
   "id": "ca384c9b",
   "metadata": {},
   "outputs": [
    {
     "data": {
      "application/vnd.microsoft.datawrangler.viewer.v0+json": {
       "columns": [
        {
         "name": "index",
         "rawType": "int64",
         "type": "integer"
        },
        {
         "name": "Date",
         "rawType": "object",
         "type": "string"
        },
        {
         "name": "Day",
         "rawType": "int64",
         "type": "integer"
        },
        {
         "name": "Cases_Guinea",
         "rawType": "float64",
         "type": "float"
        },
        {
         "name": "Cases_Liberia",
         "rawType": "float64",
         "type": "float"
        },
        {
         "name": "Cases_SierraLeone",
         "rawType": "float64",
         "type": "float"
        },
        {
         "name": "Cases_Nigeria",
         "rawType": "float64",
         "type": "float"
        },
        {
         "name": "Cases_Senegal",
         "rawType": "float64",
         "type": "float"
        },
        {
         "name": "Cases_UnitedStates",
         "rawType": "float64",
         "type": "float"
        },
        {
         "name": "Cases_Spain",
         "rawType": "float64",
         "type": "float"
        },
        {
         "name": "Cases_Mali",
         "rawType": "float64",
         "type": "float"
        },
        {
         "name": "Deaths_Guinea",
         "rawType": "float64",
         "type": "float"
        },
        {
         "name": "Deaths_Liberia",
         "rawType": "float64",
         "type": "float"
        },
        {
         "name": "Deaths_SierraLeone",
         "rawType": "float64",
         "type": "float"
        },
        {
         "name": "Deaths_Nigeria",
         "rawType": "float64",
         "type": "float"
        },
        {
         "name": "Deaths_Senegal",
         "rawType": "float64",
         "type": "float"
        },
        {
         "name": "Deaths_UnitedStates",
         "rawType": "float64",
         "type": "float"
        },
        {
         "name": "Deaths_Spain",
         "rawType": "float64",
         "type": "float"
        },
        {
         "name": "Deaths_Mali",
         "rawType": "float64",
         "type": "float"
        }
       ],
       "ref": "05670cf9-1f0c-43e2-934e-65e84bbb1201",
       "rows": [
        [
         "0",
         "1/5/2015",
         "289",
         "2776.0",
         "2335.3373493975905",
         "10030.0",
         "16.736842105263158",
         "1.08",
         "3.2777777777777777",
         "1.0",
         "3.5",
         "1786.0",
         "1101.20987654321",
         "2977.0",
         "6.131578947368421",
         "0.0",
         "0.8333333333333334",
         "0.1875",
         "3.1666666666666665"
        ],
        [
         "1",
         "1/4/2015",
         "288",
         "2775.0",
         "2335.3373493975905",
         "9780.0",
         "16.736842105263158",
         "1.08",
         "3.2777777777777777",
         "1.0",
         "3.5",
         "1781.0",
         "1101.20987654321",
         "2943.0",
         "6.131578947368421",
         "0.0",
         "0.8333333333333334",
         "0.1875",
         "3.1666666666666665"
        ],
        [
         "2",
         "1/3/2015",
         "287",
         "2769.0",
         "8166.0",
         "9722.0",
         "16.736842105263158",
         "1.08",
         "3.2777777777777777",
         "1.0",
         "3.5",
         "1767.0",
         "3496.0",
         "2915.0",
         "6.131578947368421",
         "0.0",
         "0.8333333333333334",
         "0.1875",
         "3.1666666666666665"
        ],
        [
         "3",
         "1/2/2015",
         "286",
         "911.0645161290323",
         "8157.0",
         "2427.367816091954",
         "16.736842105263158",
         "1.08",
         "3.2777777777777777",
         "1.0",
         "3.5",
         "563.2391304347826",
         "3496.0",
         "693.7011494252873",
         "6.131578947368421",
         "0.0",
         "0.8333333333333334",
         "0.1875",
         "3.1666666666666665"
        ],
        [
         "4",
         "12/31/2014",
         "284",
         "2730.0",
         "8115.0",
         "9633.0",
         "16.736842105263158",
         "1.08",
         "3.2777777777777777",
         "1.0",
         "3.5",
         "1739.0",
         "3471.0",
         "2827.0",
         "6.131578947368421",
         "0.0",
         "0.8333333333333334",
         "0.1875",
         "3.1666666666666665"
        ]
       ],
       "shape": {
        "columns": 18,
        "rows": 5
       }
      },
      "text/html": [
       "<div>\n",
       "<style scoped>\n",
       "    .dataframe tbody tr th:only-of-type {\n",
       "        vertical-align: middle;\n",
       "    }\n",
       "\n",
       "    .dataframe tbody tr th {\n",
       "        vertical-align: top;\n",
       "    }\n",
       "\n",
       "    .dataframe thead th {\n",
       "        text-align: right;\n",
       "    }\n",
       "</style>\n",
       "<table border=\"1\" class=\"dataframe\">\n",
       "  <thead>\n",
       "    <tr style=\"text-align: right;\">\n",
       "      <th></th>\n",
       "      <th>Date</th>\n",
       "      <th>Day</th>\n",
       "      <th>Cases_Guinea</th>\n",
       "      <th>Cases_Liberia</th>\n",
       "      <th>Cases_SierraLeone</th>\n",
       "      <th>Cases_Nigeria</th>\n",
       "      <th>Cases_Senegal</th>\n",
       "      <th>Cases_UnitedStates</th>\n",
       "      <th>Cases_Spain</th>\n",
       "      <th>Cases_Mali</th>\n",
       "      <th>Deaths_Guinea</th>\n",
       "      <th>Deaths_Liberia</th>\n",
       "      <th>Deaths_SierraLeone</th>\n",
       "      <th>Deaths_Nigeria</th>\n",
       "      <th>Deaths_Senegal</th>\n",
       "      <th>Deaths_UnitedStates</th>\n",
       "      <th>Deaths_Spain</th>\n",
       "      <th>Deaths_Mali</th>\n",
       "    </tr>\n",
       "  </thead>\n",
       "  <tbody>\n",
       "    <tr>\n",
       "      <th>0</th>\n",
       "      <td>1/5/2015</td>\n",
       "      <td>289</td>\n",
       "      <td>2776.000000</td>\n",
       "      <td>2335.337349</td>\n",
       "      <td>10030.000000</td>\n",
       "      <td>16.736842</td>\n",
       "      <td>1.08</td>\n",
       "      <td>3.277778</td>\n",
       "      <td>1.0</td>\n",
       "      <td>3.5</td>\n",
       "      <td>1786.00000</td>\n",
       "      <td>1101.209877</td>\n",
       "      <td>2977.000000</td>\n",
       "      <td>6.131579</td>\n",
       "      <td>0.0</td>\n",
       "      <td>0.833333</td>\n",
       "      <td>0.1875</td>\n",
       "      <td>3.166667</td>\n",
       "    </tr>\n",
       "    <tr>\n",
       "      <th>1</th>\n",
       "      <td>1/4/2015</td>\n",
       "      <td>288</td>\n",
       "      <td>2775.000000</td>\n",
       "      <td>2335.337349</td>\n",
       "      <td>9780.000000</td>\n",
       "      <td>16.736842</td>\n",
       "      <td>1.08</td>\n",
       "      <td>3.277778</td>\n",
       "      <td>1.0</td>\n",
       "      <td>3.5</td>\n",
       "      <td>1781.00000</td>\n",
       "      <td>1101.209877</td>\n",
       "      <td>2943.000000</td>\n",
       "      <td>6.131579</td>\n",
       "      <td>0.0</td>\n",
       "      <td>0.833333</td>\n",
       "      <td>0.1875</td>\n",
       "      <td>3.166667</td>\n",
       "    </tr>\n",
       "    <tr>\n",
       "      <th>2</th>\n",
       "      <td>1/3/2015</td>\n",
       "      <td>287</td>\n",
       "      <td>2769.000000</td>\n",
       "      <td>8166.000000</td>\n",
       "      <td>9722.000000</td>\n",
       "      <td>16.736842</td>\n",
       "      <td>1.08</td>\n",
       "      <td>3.277778</td>\n",
       "      <td>1.0</td>\n",
       "      <td>3.5</td>\n",
       "      <td>1767.00000</td>\n",
       "      <td>3496.000000</td>\n",
       "      <td>2915.000000</td>\n",
       "      <td>6.131579</td>\n",
       "      <td>0.0</td>\n",
       "      <td>0.833333</td>\n",
       "      <td>0.1875</td>\n",
       "      <td>3.166667</td>\n",
       "    </tr>\n",
       "    <tr>\n",
       "      <th>3</th>\n",
       "      <td>1/2/2015</td>\n",
       "      <td>286</td>\n",
       "      <td>911.064516</td>\n",
       "      <td>8157.000000</td>\n",
       "      <td>2427.367816</td>\n",
       "      <td>16.736842</td>\n",
       "      <td>1.08</td>\n",
       "      <td>3.277778</td>\n",
       "      <td>1.0</td>\n",
       "      <td>3.5</td>\n",
       "      <td>563.23913</td>\n",
       "      <td>3496.000000</td>\n",
       "      <td>693.701149</td>\n",
       "      <td>6.131579</td>\n",
       "      <td>0.0</td>\n",
       "      <td>0.833333</td>\n",
       "      <td>0.1875</td>\n",
       "      <td>3.166667</td>\n",
       "    </tr>\n",
       "    <tr>\n",
       "      <th>4</th>\n",
       "      <td>12/31/2014</td>\n",
       "      <td>284</td>\n",
       "      <td>2730.000000</td>\n",
       "      <td>8115.000000</td>\n",
       "      <td>9633.000000</td>\n",
       "      <td>16.736842</td>\n",
       "      <td>1.08</td>\n",
       "      <td>3.277778</td>\n",
       "      <td>1.0</td>\n",
       "      <td>3.5</td>\n",
       "      <td>1739.00000</td>\n",
       "      <td>3471.000000</td>\n",
       "      <td>2827.000000</td>\n",
       "      <td>6.131579</td>\n",
       "      <td>0.0</td>\n",
       "      <td>0.833333</td>\n",
       "      <td>0.1875</td>\n",
       "      <td>3.166667</td>\n",
       "    </tr>\n",
       "  </tbody>\n",
       "</table>\n",
       "</div>"
      ],
      "text/plain": [
       "         Date  Day  Cases_Guinea  Cases_Liberia  Cases_SierraLeone  \\\n",
       "0    1/5/2015  289   2776.000000    2335.337349       10030.000000   \n",
       "1    1/4/2015  288   2775.000000    2335.337349        9780.000000   \n",
       "2    1/3/2015  287   2769.000000    8166.000000        9722.000000   \n",
       "3    1/2/2015  286    911.064516    8157.000000        2427.367816   \n",
       "4  12/31/2014  284   2730.000000    8115.000000        9633.000000   \n",
       "\n",
       "   Cases_Nigeria  Cases_Senegal  Cases_UnitedStates  Cases_Spain  Cases_Mali  \\\n",
       "0      16.736842           1.08            3.277778          1.0         3.5   \n",
       "1      16.736842           1.08            3.277778          1.0         3.5   \n",
       "2      16.736842           1.08            3.277778          1.0         3.5   \n",
       "3      16.736842           1.08            3.277778          1.0         3.5   \n",
       "4      16.736842           1.08            3.277778          1.0         3.5   \n",
       "\n",
       "   Deaths_Guinea  Deaths_Liberia  Deaths_SierraLeone  Deaths_Nigeria  \\\n",
       "0     1786.00000     1101.209877         2977.000000        6.131579   \n",
       "1     1781.00000     1101.209877         2943.000000        6.131579   \n",
       "2     1767.00000     3496.000000         2915.000000        6.131579   \n",
       "3      563.23913     3496.000000          693.701149        6.131579   \n",
       "4     1739.00000     3471.000000         2827.000000        6.131579   \n",
       "\n",
       "   Deaths_Senegal  Deaths_UnitedStates  Deaths_Spain  Deaths_Mali  \n",
       "0             0.0             0.833333        0.1875     3.166667  \n",
       "1             0.0             0.833333        0.1875     3.166667  \n",
       "2             0.0             0.833333        0.1875     3.166667  \n",
       "3             0.0             0.833333        0.1875     3.166667  \n",
       "4             0.0             0.833333        0.1875     3.166667  "
      ]
     },
     "execution_count": 14,
     "metadata": {},
     "output_type": "execute_result"
    }
   ],
   "source": [
    "ebola.fillna(ebola.mean(numeric_only=True)).head()"
   ]
  },
  {
   "cell_type": "markdown",
   "id": "01a19d25",
   "metadata": {},
   "source": [
    "Some more advanced techniques, such as the Expectation Maximization (EM) algorithm, exist but are not directly implemented in `pandas`.\n",
    "\n",
    "When working with continuous data, it can be useful to fill missing values with previous or subsequent values.\n"
   ]
  },
  {
   "cell_type": "code",
   "execution_count": 15,
   "id": "16f6c6e3",
   "metadata": {},
   "outputs": [
    {
     "name": "stderr",
     "output_type": "stream",
     "text": [
      "/tmp/ipykernel_933/206624273.py:1: FutureWarning: DataFrame.fillna with 'method' is deprecated and will raise in a future version. Use obj.ffill() or obj.bfill() instead.\n",
      "  ebola.fillna(method='ffill').head()\n"
     ]
    },
    {
     "data": {
      "application/vnd.microsoft.datawrangler.viewer.v0+json": {
       "columns": [
        {
         "name": "index",
         "rawType": "int64",
         "type": "integer"
        },
        {
         "name": "Date",
         "rawType": "object",
         "type": "string"
        },
        {
         "name": "Day",
         "rawType": "int64",
         "type": "integer"
        },
        {
         "name": "Cases_Guinea",
         "rawType": "float64",
         "type": "float"
        },
        {
         "name": "Cases_Liberia",
         "rawType": "float64",
         "type": "float"
        },
        {
         "name": "Cases_SierraLeone",
         "rawType": "float64",
         "type": "float"
        },
        {
         "name": "Cases_Nigeria",
         "rawType": "float64",
         "type": "float"
        },
        {
         "name": "Cases_Senegal",
         "rawType": "float64",
         "type": "float"
        },
        {
         "name": "Cases_UnitedStates",
         "rawType": "float64",
         "type": "float"
        },
        {
         "name": "Cases_Spain",
         "rawType": "float64",
         "type": "float"
        },
        {
         "name": "Cases_Mali",
         "rawType": "float64",
         "type": "float"
        },
        {
         "name": "Deaths_Guinea",
         "rawType": "float64",
         "type": "float"
        },
        {
         "name": "Deaths_Liberia",
         "rawType": "float64",
         "type": "float"
        },
        {
         "name": "Deaths_SierraLeone",
         "rawType": "float64",
         "type": "float"
        },
        {
         "name": "Deaths_Nigeria",
         "rawType": "float64",
         "type": "float"
        },
        {
         "name": "Deaths_Senegal",
         "rawType": "float64",
         "type": "float"
        },
        {
         "name": "Deaths_UnitedStates",
         "rawType": "float64",
         "type": "float"
        },
        {
         "name": "Deaths_Spain",
         "rawType": "float64",
         "type": "float"
        },
        {
         "name": "Deaths_Mali",
         "rawType": "float64",
         "type": "float"
        }
       ],
       "ref": "6ad50029-0a42-42c6-93fd-7ff9703bbe32",
       "rows": [
        [
         "0",
         "1/5/2015",
         "289",
         "2776.0",
         null,
         "10030.0",
         null,
         null,
         null,
         null,
         null,
         "1786.0",
         null,
         "2977.0",
         null,
         null,
         null,
         null,
         null
        ],
        [
         "1",
         "1/4/2015",
         "288",
         "2775.0",
         null,
         "9780.0",
         null,
         null,
         null,
         null,
         null,
         "1781.0",
         null,
         "2943.0",
         null,
         null,
         null,
         null,
         null
        ],
        [
         "2",
         "1/3/2015",
         "287",
         "2769.0",
         "8166.0",
         "9722.0",
         null,
         null,
         null,
         null,
         null,
         "1767.0",
         "3496.0",
         "2915.0",
         null,
         null,
         null,
         null,
         null
        ],
        [
         "3",
         "1/2/2015",
         "286",
         "2769.0",
         "8157.0",
         "9722.0",
         null,
         null,
         null,
         null,
         null,
         "1767.0",
         "3496.0",
         "2915.0",
         null,
         null,
         null,
         null,
         null
        ],
        [
         "4",
         "12/31/2014",
         "284",
         "2730.0",
         "8115.0",
         "9633.0",
         null,
         null,
         null,
         null,
         null,
         "1739.0",
         "3471.0",
         "2827.0",
         null,
         null,
         null,
         null,
         null
        ]
       ],
       "shape": {
        "columns": 18,
        "rows": 5
       }
      },
      "text/html": [
       "<div>\n",
       "<style scoped>\n",
       "    .dataframe tbody tr th:only-of-type {\n",
       "        vertical-align: middle;\n",
       "    }\n",
       "\n",
       "    .dataframe tbody tr th {\n",
       "        vertical-align: top;\n",
       "    }\n",
       "\n",
       "    .dataframe thead th {\n",
       "        text-align: right;\n",
       "    }\n",
       "</style>\n",
       "<table border=\"1\" class=\"dataframe\">\n",
       "  <thead>\n",
       "    <tr style=\"text-align: right;\">\n",
       "      <th></th>\n",
       "      <th>Date</th>\n",
       "      <th>Day</th>\n",
       "      <th>Cases_Guinea</th>\n",
       "      <th>Cases_Liberia</th>\n",
       "      <th>Cases_SierraLeone</th>\n",
       "      <th>Cases_Nigeria</th>\n",
       "      <th>Cases_Senegal</th>\n",
       "      <th>Cases_UnitedStates</th>\n",
       "      <th>Cases_Spain</th>\n",
       "      <th>Cases_Mali</th>\n",
       "      <th>Deaths_Guinea</th>\n",
       "      <th>Deaths_Liberia</th>\n",
       "      <th>Deaths_SierraLeone</th>\n",
       "      <th>Deaths_Nigeria</th>\n",
       "      <th>Deaths_Senegal</th>\n",
       "      <th>Deaths_UnitedStates</th>\n",
       "      <th>Deaths_Spain</th>\n",
       "      <th>Deaths_Mali</th>\n",
       "    </tr>\n",
       "  </thead>\n",
       "  <tbody>\n",
       "    <tr>\n",
       "      <th>0</th>\n",
       "      <td>1/5/2015</td>\n",
       "      <td>289</td>\n",
       "      <td>2776.0</td>\n",
       "      <td>NaN</td>\n",
       "      <td>10030.0</td>\n",
       "      <td>NaN</td>\n",
       "      <td>NaN</td>\n",
       "      <td>NaN</td>\n",
       "      <td>NaN</td>\n",
       "      <td>NaN</td>\n",
       "      <td>1786.0</td>\n",
       "      <td>NaN</td>\n",
       "      <td>2977.0</td>\n",
       "      <td>NaN</td>\n",
       "      <td>NaN</td>\n",
       "      <td>NaN</td>\n",
       "      <td>NaN</td>\n",
       "      <td>NaN</td>\n",
       "    </tr>\n",
       "    <tr>\n",
       "      <th>1</th>\n",
       "      <td>1/4/2015</td>\n",
       "      <td>288</td>\n",
       "      <td>2775.0</td>\n",
       "      <td>NaN</td>\n",
       "      <td>9780.0</td>\n",
       "      <td>NaN</td>\n",
       "      <td>NaN</td>\n",
       "      <td>NaN</td>\n",
       "      <td>NaN</td>\n",
       "      <td>NaN</td>\n",
       "      <td>1781.0</td>\n",
       "      <td>NaN</td>\n",
       "      <td>2943.0</td>\n",
       "      <td>NaN</td>\n",
       "      <td>NaN</td>\n",
       "      <td>NaN</td>\n",
       "      <td>NaN</td>\n",
       "      <td>NaN</td>\n",
       "    </tr>\n",
       "    <tr>\n",
       "      <th>2</th>\n",
       "      <td>1/3/2015</td>\n",
       "      <td>287</td>\n",
       "      <td>2769.0</td>\n",
       "      <td>8166.0</td>\n",
       "      <td>9722.0</td>\n",
       "      <td>NaN</td>\n",
       "      <td>NaN</td>\n",
       "      <td>NaN</td>\n",
       "      <td>NaN</td>\n",
       "      <td>NaN</td>\n",
       "      <td>1767.0</td>\n",
       "      <td>3496.0</td>\n",
       "      <td>2915.0</td>\n",
       "      <td>NaN</td>\n",
       "      <td>NaN</td>\n",
       "      <td>NaN</td>\n",
       "      <td>NaN</td>\n",
       "      <td>NaN</td>\n",
       "    </tr>\n",
       "    <tr>\n",
       "      <th>3</th>\n",
       "      <td>1/2/2015</td>\n",
       "      <td>286</td>\n",
       "      <td>2769.0</td>\n",
       "      <td>8157.0</td>\n",
       "      <td>9722.0</td>\n",
       "      <td>NaN</td>\n",
       "      <td>NaN</td>\n",
       "      <td>NaN</td>\n",
       "      <td>NaN</td>\n",
       "      <td>NaN</td>\n",
       "      <td>1767.0</td>\n",
       "      <td>3496.0</td>\n",
       "      <td>2915.0</td>\n",
       "      <td>NaN</td>\n",
       "      <td>NaN</td>\n",
       "      <td>NaN</td>\n",
       "      <td>NaN</td>\n",
       "      <td>NaN</td>\n",
       "    </tr>\n",
       "    <tr>\n",
       "      <th>4</th>\n",
       "      <td>12/31/2014</td>\n",
       "      <td>284</td>\n",
       "      <td>2730.0</td>\n",
       "      <td>8115.0</td>\n",
       "      <td>9633.0</td>\n",
       "      <td>NaN</td>\n",
       "      <td>NaN</td>\n",
       "      <td>NaN</td>\n",
       "      <td>NaN</td>\n",
       "      <td>NaN</td>\n",
       "      <td>1739.0</td>\n",
       "      <td>3471.0</td>\n",
       "      <td>2827.0</td>\n",
       "      <td>NaN</td>\n",
       "      <td>NaN</td>\n",
       "      <td>NaN</td>\n",
       "      <td>NaN</td>\n",
       "      <td>NaN</td>\n",
       "    </tr>\n",
       "  </tbody>\n",
       "</table>\n",
       "</div>"
      ],
      "text/plain": [
       "         Date  Day  Cases_Guinea  Cases_Liberia  Cases_SierraLeone  \\\n",
       "0    1/5/2015  289        2776.0            NaN            10030.0   \n",
       "1    1/4/2015  288        2775.0            NaN             9780.0   \n",
       "2    1/3/2015  287        2769.0         8166.0             9722.0   \n",
       "3    1/2/2015  286        2769.0         8157.0             9722.0   \n",
       "4  12/31/2014  284        2730.0         8115.0             9633.0   \n",
       "\n",
       "   Cases_Nigeria  Cases_Senegal  Cases_UnitedStates  Cases_Spain  Cases_Mali  \\\n",
       "0            NaN            NaN                 NaN          NaN         NaN   \n",
       "1            NaN            NaN                 NaN          NaN         NaN   \n",
       "2            NaN            NaN                 NaN          NaN         NaN   \n",
       "3            NaN            NaN                 NaN          NaN         NaN   \n",
       "4            NaN            NaN                 NaN          NaN         NaN   \n",
       "\n",
       "   Deaths_Guinea  Deaths_Liberia  Deaths_SierraLeone  Deaths_Nigeria  \\\n",
       "0         1786.0             NaN              2977.0             NaN   \n",
       "1         1781.0             NaN              2943.0             NaN   \n",
       "2         1767.0          3496.0              2915.0             NaN   \n",
       "3         1767.0          3496.0              2915.0             NaN   \n",
       "4         1739.0          3471.0              2827.0             NaN   \n",
       "\n",
       "   Deaths_Senegal  Deaths_UnitedStates  Deaths_Spain  Deaths_Mali  \n",
       "0             NaN                  NaN           NaN          NaN  \n",
       "1             NaN                  NaN           NaN          NaN  \n",
       "2             NaN                  NaN           NaN          NaN  \n",
       "3             NaN                  NaN           NaN          NaN  \n",
       "4             NaN                  NaN           NaN          NaN  "
      ]
     },
     "execution_count": 15,
     "metadata": {},
     "output_type": "execute_result"
    }
   ],
   "source": [
    "ebola.fillna(method='ffill').head()"
   ]
  },
  {
   "cell_type": "code",
   "execution_count": 16,
   "id": "22d9730a",
   "metadata": {},
   "outputs": [
    {
     "name": "stderr",
     "output_type": "stream",
     "text": [
      "/tmp/ipykernel_933/544263679.py:1: FutureWarning: DataFrame.fillna with 'method' is deprecated and will raise in a future version. Use obj.ffill() or obj.bfill() instead.\n",
      "  ebola.fillna(method='bfill')\n"
     ]
    },
    {
     "data": {
      "application/vnd.microsoft.datawrangler.viewer.v0+json": {
       "columns": [
        {
         "name": "index",
         "rawType": "int64",
         "type": "integer"
        },
        {
         "name": "Date",
         "rawType": "object",
         "type": "string"
        },
        {
         "name": "Day",
         "rawType": "int64",
         "type": "integer"
        },
        {
         "name": "Cases_Guinea",
         "rawType": "float64",
         "type": "float"
        },
        {
         "name": "Cases_Liberia",
         "rawType": "float64",
         "type": "float"
        },
        {
         "name": "Cases_SierraLeone",
         "rawType": "float64",
         "type": "float"
        },
        {
         "name": "Cases_Nigeria",
         "rawType": "float64",
         "type": "float"
        },
        {
         "name": "Cases_Senegal",
         "rawType": "float64",
         "type": "float"
        },
        {
         "name": "Cases_UnitedStates",
         "rawType": "float64",
         "type": "float"
        },
        {
         "name": "Cases_Spain",
         "rawType": "float64",
         "type": "float"
        },
        {
         "name": "Cases_Mali",
         "rawType": "float64",
         "type": "float"
        },
        {
         "name": "Deaths_Guinea",
         "rawType": "float64",
         "type": "float"
        },
        {
         "name": "Deaths_Liberia",
         "rawType": "float64",
         "type": "float"
        },
        {
         "name": "Deaths_SierraLeone",
         "rawType": "float64",
         "type": "float"
        },
        {
         "name": "Deaths_Nigeria",
         "rawType": "float64",
         "type": "float"
        },
        {
         "name": "Deaths_Senegal",
         "rawType": "float64",
         "type": "float"
        },
        {
         "name": "Deaths_UnitedStates",
         "rawType": "float64",
         "type": "float"
        },
        {
         "name": "Deaths_Spain",
         "rawType": "float64",
         "type": "float"
        },
        {
         "name": "Deaths_Mali",
         "rawType": "float64",
         "type": "float"
        }
       ],
       "ref": "62bc79c5-4675-48b2-b544-3a3cd43afb02",
       "rows": [
        [
         "0",
         "1/5/2015",
         "289",
         "2776.0",
         "8166.0",
         "10030.0",
         "20.0",
         "1.0",
         "4.0",
         "1.0",
         "7.0",
         "1786.0",
         "3496.0",
         "2977.0",
         "8.0",
         "0.0",
         "1.0",
         "0.0",
         "6.0"
        ],
        [
         "1",
         "1/4/2015",
         "288",
         "2775.0",
         "8166.0",
         "9780.0",
         "20.0",
         "1.0",
         "4.0",
         "1.0",
         "7.0",
         "1781.0",
         "3496.0",
         "2943.0",
         "8.0",
         "0.0",
         "1.0",
         "0.0",
         "6.0"
        ],
        [
         "2",
         "1/3/2015",
         "287",
         "2769.0",
         "8166.0",
         "9722.0",
         "20.0",
         "1.0",
         "4.0",
         "1.0",
         "7.0",
         "1767.0",
         "3496.0",
         "2915.0",
         "8.0",
         "0.0",
         "1.0",
         "0.0",
         "6.0"
        ],
        [
         "3",
         "1/2/2015",
         "286",
         "2730.0",
         "8157.0",
         "9633.0",
         "20.0",
         "1.0",
         "4.0",
         "1.0",
         "7.0",
         "1739.0",
         "3496.0",
         "2827.0",
         "8.0",
         "0.0",
         "1.0",
         "0.0",
         "6.0"
        ],
        [
         "4",
         "12/31/2014",
         "284",
         "2730.0",
         "8115.0",
         "9633.0",
         "20.0",
         "1.0",
         "4.0",
         "1.0",
         "7.0",
         "1739.0",
         "3471.0",
         "2827.0",
         "8.0",
         "0.0",
         "1.0",
         "0.0",
         "6.0"
        ],
        [
         "5",
         "12/28/2014",
         "281",
         "2706.0",
         "8018.0",
         "9446.0",
         "20.0",
         "1.0",
         "4.0",
         "1.0",
         "7.0",
         "1708.0",
         "3423.0",
         "2758.0",
         "8.0",
         "0.0",
         "1.0",
         "0.0",
         "6.0"
        ],
        [
         "6",
         "12/27/2014",
         "280",
         "2695.0",
         "7977.0",
         "9409.0",
         "20.0",
         "1.0",
         "4.0",
         "1.0",
         "7.0",
         "1697.0",
         "3413.0",
         "2732.0",
         "8.0",
         "0.0",
         "1.0",
         "0.0",
         "6.0"
        ],
        [
         "7",
         "12/24/2014",
         "277",
         "2630.0",
         "7977.0",
         "9203.0",
         "20.0",
         "1.0",
         "4.0",
         "1.0",
         "7.0",
         "1607.0",
         "3413.0",
         "2655.0",
         "8.0",
         "0.0",
         "1.0",
         "0.0",
         "6.0"
        ],
        [
         "8",
         "12/21/2014",
         "273",
         "2597.0",
         "7862.0",
         "9004.0",
         "20.0",
         "1.0",
         "4.0",
         "1.0",
         "7.0",
         "1607.0",
         "3384.0",
         "2582.0",
         "8.0",
         "0.0",
         "1.0",
         "0.0",
         "6.0"
        ],
        [
         "9",
         "12/20/2014",
         "272",
         "2571.0",
         "7862.0",
         "8939.0",
         "20.0",
         "1.0",
         "4.0",
         "1.0",
         "7.0",
         "1586.0",
         "3384.0",
         "2556.0",
         "8.0",
         "0.0",
         "1.0",
         "0.0",
         "6.0"
        ],
        [
         "10",
         "12/18/2014",
         "271",
         "2416.0",
         "7830.0",
         "8356.0",
         "20.0",
         "1.0",
         "4.0",
         "1.0",
         "7.0",
         "1525.0",
         "3376.0",
         "2085.0",
         "8.0",
         "0.0",
         "1.0",
         "0.0",
         "6.0"
        ],
        [
         "11",
         "12/14/2014",
         "267",
         "2416.0",
         "7797.0",
         "8356.0",
         "20.0",
         "1.0",
         "4.0",
         "1.0",
         "7.0",
         "1525.0",
         "3290.0",
         "2085.0",
         "8.0",
         "0.0",
         "1.0",
         "0.0",
         "6.0"
        ],
        [
         "12",
         "12/9/2014",
         "262",
         "2292.0",
         "7797.0",
         "7897.0",
         "20.0",
         "1.0",
         "4.0",
         "1.0",
         "7.0",
         "1428.0",
         "3290.0",
         "1768.0",
         "8.0",
         "0.0",
         "1.0",
         "0.0",
         "6.0"
        ],
        [
         "13",
         "12/7/2014",
         "260",
         "2292.0",
         "7719.0",
         "7897.0",
         "20.0",
         "1.0",
         "4.0",
         "1.0",
         "7.0",
         "1428.0",
         "3177.0",
         "1768.0",
         "8.0",
         "0.0",
         "1.0",
         "0.0",
         "6.0"
        ],
        [
         "14",
         "12/3/2014",
         "256",
         "2164.0",
         "7719.0",
         "7312.0",
         "20.0",
         "1.0",
         "4.0",
         "1.0",
         "7.0",
         "1327.0",
         "3177.0",
         "1583.0",
         "8.0",
         "0.0",
         "1.0",
         "0.0",
         "6.0"
        ],
        [
         "15",
         "11/30/2014",
         "253",
         "2164.0",
         "7635.0",
         "7312.0",
         "20.0",
         "1.0",
         "4.0",
         "1.0",
         "7.0",
         "1327.0",
         "3145.0",
         "1583.0",
         "8.0",
         "0.0",
         "1.0",
         "0.0",
         "6.0"
        ],
        [
         "16",
         "11/28/2014",
         "251",
         "2134.0",
         "7635.0",
         "6599.0",
         "20.0",
         "1.0",
         "4.0",
         "1.0",
         "7.0",
         "1260.0",
         "3145.0",
         "1398.0",
         "8.0",
         "0.0",
         "1.0",
         "0.0",
         "6.0"
        ],
        [
         "17",
         "11/23/2014",
         "246",
         "2134.0",
         "7168.0",
         "6599.0",
         "20.0",
         "1.0",
         "4.0",
         "1.0",
         "7.0",
         "1260.0",
         "3016.0",
         "1398.0",
         "8.0",
         "0.0",
         "1.0",
         "0.0",
         "6.0"
        ],
        [
         "18",
         "11/22/2014",
         "245",
         "2047.0",
         "7168.0",
         "6190.0",
         "20.0",
         "1.0",
         "4.0",
         "1.0",
         "6.0",
         "1214.0",
         "3016.0",
         "1267.0",
         "8.0",
         "0.0",
         "1.0",
         "0.0",
         "6.0"
        ],
        [
         "19",
         "11/18/2014",
         "241",
         "2047.0",
         "7082.0",
         "6190.0",
         "20.0",
         "1.0",
         "4.0",
         "1.0",
         "6.0",
         "1214.0",
         "2963.0",
         "1267.0",
         "8.0",
         "0.0",
         "1.0",
         "0.0",
         "6.0"
        ],
        [
         "20",
         "11/16/2014",
         "239",
         "1971.0",
         "7069.0",
         "6073.0",
         "20.0",
         "1.0",
         "4.0",
         "1.0",
         "5.0",
         "1192.0",
         "2964.0",
         "1250.0",
         "8.0",
         "0.0",
         "1.0",
         "0.0",
         "5.0"
        ],
        [
         "21",
         "11/15/2014",
         "238",
         "1919.0",
         "7069.0",
         "5586.0",
         "20.0",
         "1.0",
         "4.0",
         "1.0",
         "4.0",
         "1166.0",
         "2964.0",
         "1187.0",
         "8.0",
         "0.0",
         "1.0",
         "0.0",
         "3.0"
        ],
        [
         "22",
         "11/11/2014",
         "234",
         "1919.0",
         "6878.0",
         "5586.0",
         "20.0",
         "1.0",
         "4.0",
         "1.0",
         "4.0",
         "1166.0",
         "2812.0",
         "1187.0",
         "8.0",
         "0.0",
         "1.0",
         "0.0",
         "3.0"
        ],
        [
         "23",
         "11/10/2014",
         "233",
         "1878.0",
         "6878.0",
         "5368.0",
         "20.0",
         "1.0",
         "4.0",
         "1.0",
         "1.0",
         "1142.0",
         "2812.0",
         "1169.0",
         "8.0",
         "0.0",
         "1.0",
         "0.0",
         "1.0"
        ],
        [
         "24",
         "11/9/2014",
         "232",
         "1878.0",
         "6822.0",
         "5368.0",
         "20.0",
         "1.0",
         "4.0",
         "1.0",
         "1.0",
         "1142.0",
         "2836.0",
         "1169.0",
         "8.0",
         "0.0",
         "1.0",
         "0.0",
         "1.0"
        ],
        [
         "25",
         "11/8/2014",
         "231",
         "1760.0",
         "6822.0",
         "4862.0",
         "20.0",
         "1.0",
         "4.0",
         "1.0",
         "1.0",
         "1054.0",
         "2836.0",
         "1130.0",
         "8.0",
         "0.0",
         "1.0",
         "0.0",
         "1.0"
        ],
        [
         "26",
         "11/4/2014",
         "227",
         "1760.0",
         "6619.0",
         "4862.0",
         "20.0",
         "1.0",
         "4.0",
         "1.0",
         "1.0",
         "1054.0",
         "2766.0",
         "1130.0",
         "8.0",
         "0.0",
         "1.0",
         "0.0",
         "1.0"
        ],
        [
         "27",
         "11/3/2014",
         "226",
         "1760.0",
         "6525.0",
         "4759.0",
         "20.0",
         "1.0",
         "4.0",
         "1.0",
         "1.0",
         "1054.0",
         "2697.0",
         "1070.0",
         "8.0",
         "0.0",
         "1.0",
         "0.0",
         "1.0"
        ],
        [
         "28",
         "11/2/2014",
         "225",
         "1731.0",
         "6525.0",
         "4759.0",
         "20.0",
         "1.0",
         "4.0",
         "1.0",
         "1.0",
         "1041.0",
         "2697.0",
         "1070.0",
         "8.0",
         "0.0",
         "1.0",
         "0.0",
         "1.0"
        ],
        [
         "29",
         "10/31/2014",
         "222",
         "1667.0",
         "6525.0",
         "5338.0",
         "20.0",
         "1.0",
         "4.0",
         "1.0",
         "1.0",
         "1018.0",
         "2697.0",
         "1510.0",
         "8.0",
         "0.0",
         "1.0",
         "0.0",
         "1.0"
        ],
        [
         "30",
         "10/29/2014",
         "220",
         "1667.0",
         "6535.0",
         "5338.0",
         "20.0",
         "1.0",
         "4.0",
         "1.0",
         "1.0",
         "1018.0",
         "2413.0",
         "1510.0",
         "8.0",
         "0.0",
         "1.0",
         "0.0",
         "1.0"
        ],
        [
         "31",
         "10/27/2014",
         "218",
         "1906.0",
         "6535.0",
         "5235.0",
         "20.0",
         "1.0",
         "4.0",
         "1.0",
         "1.0",
         "997.0",
         "2413.0",
         "1500.0",
         "8.0",
         "0.0",
         "1.0",
         "0.0",
         "1.0"
        ],
        [
         "32",
         "10/25/2014",
         "216",
         "1553.0",
         "6535.0",
         "3896.0",
         "20.0",
         "1.0",
         "4.0",
         "1.0",
         "1.0",
         "926.0",
         "2413.0",
         "1281.0",
         "8.0",
         "0.0",
         "1.0",
         "0.0",
         "1.0"
        ],
        [
         "33",
         "10/22/2014",
         "214",
         "1553.0",
         "4665.0",
         "3896.0",
         "20.0",
         "1.0",
         "4.0",
         "1.0",
         "1.0",
         "926.0",
         "2705.0",
         "1281.0",
         "8.0",
         "0.0",
         "1.0",
         "0.0",
         "1.0"
        ],
        [
         "34",
         "10/21/2014",
         "213",
         "1553.0",
         "4665.0",
         "3706.0",
         "20.0",
         "1.0",
         "3.0",
         "1.0",
         null,
         "926.0",
         "2705.0",
         "1259.0",
         "8.0",
         "0.0",
         "1.0",
         "0.0",
         null
        ],
        [
         "35",
         "10/19/2014",
         "211",
         "1540.0",
         "4665.0",
         "3706.0",
         "20.0",
         "1.0",
         "3.0",
         "1.0",
         null,
         "904.0",
         "2705.0",
         "1259.0",
         "8.0",
         "0.0",
         "1.0",
         "0.0",
         null
        ],
        [
         "36",
         "10/18/2014",
         "210",
         "1519.0",
         "4665.0",
         "3410.0",
         "20.0",
         "1.0",
         "3.0",
         "1.0",
         null,
         "862.0",
         "2705.0",
         "1200.0",
         "8.0",
         "0.0",
         "0.0",
         "1.0",
         null
        ],
        [
         "37",
         "10/14/2014",
         "206",
         "1519.0",
         "4262.0",
         "3410.0",
         "20.0",
         "1.0",
         "3.0",
         "1.0",
         null,
         "862.0",
         "2484.0",
         "1200.0",
         "8.0",
         "0.0",
         "0.0",
         "1.0",
         null
        ],
        [
         "38",
         "10/13/2014",
         "205",
         "1472.0",
         "4262.0",
         "3252.0",
         "20.0",
         "1.0",
         "2.0",
         "1.0",
         null,
         "843.0",
         "2484.0",
         "1183.0",
         "8.0",
         "0.0",
         "1.0",
         "1.0",
         null
        ],
        [
         "39",
         "10/12/2014",
         "204",
         "1472.0",
         "4249.0",
         "3252.0",
         "20.0",
         "1.0",
         "2.0",
         "1.0",
         null,
         "843.0",
         "2458.0",
         "1183.0",
         "8.0",
         "0.0",
         "1.0",
         "1.0",
         null
        ],
        [
         "40",
         "10/11/2014",
         "203",
         "1350.0",
         "4249.0",
         "2950.0",
         "20.0",
         "1.0",
         "1.0",
         "1.0",
         null,
         "778.0",
         "2458.0",
         "930.0",
         "8.0",
         "0.0",
         "1.0",
         "1.0",
         null
        ],
        [
         "41",
         "10/8/2014",
         "200",
         "1350.0",
         "4076.0",
         "2950.0",
         "20.0",
         "1.0",
         "1.0",
         "1.0",
         null,
         "778.0",
         "2316.0",
         "930.0",
         "8.0",
         "0.0",
         "1.0",
         "1.0",
         null
        ],
        [
         "42",
         "10/7/2014",
         "199",
         "1350.0",
         "4076.0",
         "2789.0",
         "20.0",
         "1.0",
         "1.0",
         null,
         null,
         "778.0",
         "2316.0",
         "879.0",
         "8.0",
         "0.0",
         "0.0",
         null,
         null
        ],
        [
         "43",
         "10/5/2014",
         "197",
         "1298.0",
         "3924.0",
         "2789.0",
         "20.0",
         "1.0",
         "1.0",
         null,
         null,
         "768.0",
         "2210.0",
         "879.0",
         "8.0",
         "0.0",
         "0.0",
         null,
         null
        ],
        [
         "44",
         "10/4/2014",
         "196",
         "1199.0",
         "3924.0",
         "2437.0",
         "20.0",
         "1.0",
         "1.0",
         null,
         null,
         "739.0",
         "2210.0",
         "623.0",
         "8.0",
         "0.0",
         "0.0",
         null,
         null
        ],
        [
         "45",
         "10/1/2014",
         "193",
         "1199.0",
         "3834.0",
         "2437.0",
         "20.0",
         "1.0",
         "1.0",
         null,
         null,
         "739.0",
         "2069.0",
         "623.0",
         "8.0",
         "0.0",
         "0.0",
         null,
         null
        ],
        [
         "46",
         "9/28/2014",
         "190",
         "1157.0",
         "3696.0",
         "2304.0",
         "20.0",
         "1.0",
         null,
         null,
         null,
         "710.0",
         "1998.0",
         "622.0",
         "8.0",
         "0.0",
         null,
         null,
         null
        ],
        [
         "47",
         "9/23/2014",
         "185",
         "1074.0",
         "3458.0",
         "2021.0",
         "20.0",
         "1.0",
         null,
         null,
         null,
         "648.0",
         "1830.0",
         "605.0",
         "8.0",
         "0.0",
         null,
         null,
         null
        ],
        [
         "48",
         "9/21/2014",
         "183",
         "1022.0",
         "3280.0",
         "1940.0",
         "20.0",
         "1.0",
         null,
         null,
         null,
         "635.0",
         "1677.0",
         "597.0",
         "8.0",
         "0.0",
         null,
         null,
         null
        ],
        [
         "49",
         "9/20/2014",
         "182",
         "1008.0",
         "3022.0",
         "1813.0",
         "21.0",
         "1.0",
         null,
         null,
         null,
         "632.0",
         "1578.0",
         "593.0",
         "8.0",
         "0.0",
         null,
         null,
         null
        ]
       ],
       "shape": {
        "columns": 18,
        "rows": 122
       }
      },
      "text/html": [
       "<div>\n",
       "<style scoped>\n",
       "    .dataframe tbody tr th:only-of-type {\n",
       "        vertical-align: middle;\n",
       "    }\n",
       "\n",
       "    .dataframe tbody tr th {\n",
       "        vertical-align: top;\n",
       "    }\n",
       "\n",
       "    .dataframe thead th {\n",
       "        text-align: right;\n",
       "    }\n",
       "</style>\n",
       "<table border=\"1\" class=\"dataframe\">\n",
       "  <thead>\n",
       "    <tr style=\"text-align: right;\">\n",
       "      <th></th>\n",
       "      <th>Date</th>\n",
       "      <th>Day</th>\n",
       "      <th>Cases_Guinea</th>\n",
       "      <th>Cases_Liberia</th>\n",
       "      <th>Cases_SierraLeone</th>\n",
       "      <th>Cases_Nigeria</th>\n",
       "      <th>Cases_Senegal</th>\n",
       "      <th>Cases_UnitedStates</th>\n",
       "      <th>Cases_Spain</th>\n",
       "      <th>Cases_Mali</th>\n",
       "      <th>Deaths_Guinea</th>\n",
       "      <th>Deaths_Liberia</th>\n",
       "      <th>Deaths_SierraLeone</th>\n",
       "      <th>Deaths_Nigeria</th>\n",
       "      <th>Deaths_Senegal</th>\n",
       "      <th>Deaths_UnitedStates</th>\n",
       "      <th>Deaths_Spain</th>\n",
       "      <th>Deaths_Mali</th>\n",
       "    </tr>\n",
       "  </thead>\n",
       "  <tbody>\n",
       "    <tr>\n",
       "      <th>0</th>\n",
       "      <td>1/5/2015</td>\n",
       "      <td>289</td>\n",
       "      <td>2776.0</td>\n",
       "      <td>8166.0</td>\n",
       "      <td>10030.0</td>\n",
       "      <td>20.0</td>\n",
       "      <td>1.0</td>\n",
       "      <td>4.0</td>\n",
       "      <td>1.0</td>\n",
       "      <td>7.0</td>\n",
       "      <td>1786.0</td>\n",
       "      <td>3496.0</td>\n",
       "      <td>2977.0</td>\n",
       "      <td>8.0</td>\n",
       "      <td>0.0</td>\n",
       "      <td>1.0</td>\n",
       "      <td>0.0</td>\n",
       "      <td>6.0</td>\n",
       "    </tr>\n",
       "    <tr>\n",
       "      <th>1</th>\n",
       "      <td>1/4/2015</td>\n",
       "      <td>288</td>\n",
       "      <td>2775.0</td>\n",
       "      <td>8166.0</td>\n",
       "      <td>9780.0</td>\n",
       "      <td>20.0</td>\n",
       "      <td>1.0</td>\n",
       "      <td>4.0</td>\n",
       "      <td>1.0</td>\n",
       "      <td>7.0</td>\n",
       "      <td>1781.0</td>\n",
       "      <td>3496.0</td>\n",
       "      <td>2943.0</td>\n",
       "      <td>8.0</td>\n",
       "      <td>0.0</td>\n",
       "      <td>1.0</td>\n",
       "      <td>0.0</td>\n",
       "      <td>6.0</td>\n",
       "    </tr>\n",
       "    <tr>\n",
       "      <th>2</th>\n",
       "      <td>1/3/2015</td>\n",
       "      <td>287</td>\n",
       "      <td>2769.0</td>\n",
       "      <td>8166.0</td>\n",
       "      <td>9722.0</td>\n",
       "      <td>20.0</td>\n",
       "      <td>1.0</td>\n",
       "      <td>4.0</td>\n",
       "      <td>1.0</td>\n",
       "      <td>7.0</td>\n",
       "      <td>1767.0</td>\n",
       "      <td>3496.0</td>\n",
       "      <td>2915.0</td>\n",
       "      <td>8.0</td>\n",
       "      <td>0.0</td>\n",
       "      <td>1.0</td>\n",
       "      <td>0.0</td>\n",
       "      <td>6.0</td>\n",
       "    </tr>\n",
       "    <tr>\n",
       "      <th>3</th>\n",
       "      <td>1/2/2015</td>\n",
       "      <td>286</td>\n",
       "      <td>2730.0</td>\n",
       "      <td>8157.0</td>\n",
       "      <td>9633.0</td>\n",
       "      <td>20.0</td>\n",
       "      <td>1.0</td>\n",
       "      <td>4.0</td>\n",
       "      <td>1.0</td>\n",
       "      <td>7.0</td>\n",
       "      <td>1739.0</td>\n",
       "      <td>3496.0</td>\n",
       "      <td>2827.0</td>\n",
       "      <td>8.0</td>\n",
       "      <td>0.0</td>\n",
       "      <td>1.0</td>\n",
       "      <td>0.0</td>\n",
       "      <td>6.0</td>\n",
       "    </tr>\n",
       "    <tr>\n",
       "      <th>4</th>\n",
       "      <td>12/31/2014</td>\n",
       "      <td>284</td>\n",
       "      <td>2730.0</td>\n",
       "      <td>8115.0</td>\n",
       "      <td>9633.0</td>\n",
       "      <td>20.0</td>\n",
       "      <td>1.0</td>\n",
       "      <td>4.0</td>\n",
       "      <td>1.0</td>\n",
       "      <td>7.0</td>\n",
       "      <td>1739.0</td>\n",
       "      <td>3471.0</td>\n",
       "      <td>2827.0</td>\n",
       "      <td>8.0</td>\n",
       "      <td>0.0</td>\n",
       "      <td>1.0</td>\n",
       "      <td>0.0</td>\n",
       "      <td>6.0</td>\n",
       "    </tr>\n",
       "    <tr>\n",
       "      <th>...</th>\n",
       "      <td>...</td>\n",
       "      <td>...</td>\n",
       "      <td>...</td>\n",
       "      <td>...</td>\n",
       "      <td>...</td>\n",
       "      <td>...</td>\n",
       "      <td>...</td>\n",
       "      <td>...</td>\n",
       "      <td>...</td>\n",
       "      <td>...</td>\n",
       "      <td>...</td>\n",
       "      <td>...</td>\n",
       "      <td>...</td>\n",
       "      <td>...</td>\n",
       "      <td>...</td>\n",
       "      <td>...</td>\n",
       "      <td>...</td>\n",
       "      <td>...</td>\n",
       "    </tr>\n",
       "    <tr>\n",
       "      <th>117</th>\n",
       "      <td>3/27/2014</td>\n",
       "      <td>5</td>\n",
       "      <td>103.0</td>\n",
       "      <td>8.0</td>\n",
       "      <td>6.0</td>\n",
       "      <td>NaN</td>\n",
       "      <td>NaN</td>\n",
       "      <td>NaN</td>\n",
       "      <td>NaN</td>\n",
       "      <td>NaN</td>\n",
       "      <td>66.0</td>\n",
       "      <td>6.0</td>\n",
       "      <td>5.0</td>\n",
       "      <td>NaN</td>\n",
       "      <td>NaN</td>\n",
       "      <td>NaN</td>\n",
       "      <td>NaN</td>\n",
       "      <td>NaN</td>\n",
       "    </tr>\n",
       "    <tr>\n",
       "      <th>118</th>\n",
       "      <td>3/26/2014</td>\n",
       "      <td>4</td>\n",
       "      <td>86.0</td>\n",
       "      <td>NaN</td>\n",
       "      <td>NaN</td>\n",
       "      <td>NaN</td>\n",
       "      <td>NaN</td>\n",
       "      <td>NaN</td>\n",
       "      <td>NaN</td>\n",
       "      <td>NaN</td>\n",
       "      <td>62.0</td>\n",
       "      <td>NaN</td>\n",
       "      <td>NaN</td>\n",
       "      <td>NaN</td>\n",
       "      <td>NaN</td>\n",
       "      <td>NaN</td>\n",
       "      <td>NaN</td>\n",
       "      <td>NaN</td>\n",
       "    </tr>\n",
       "    <tr>\n",
       "      <th>119</th>\n",
       "      <td>3/25/2014</td>\n",
       "      <td>3</td>\n",
       "      <td>86.0</td>\n",
       "      <td>NaN</td>\n",
       "      <td>NaN</td>\n",
       "      <td>NaN</td>\n",
       "      <td>NaN</td>\n",
       "      <td>NaN</td>\n",
       "      <td>NaN</td>\n",
       "      <td>NaN</td>\n",
       "      <td>60.0</td>\n",
       "      <td>NaN</td>\n",
       "      <td>NaN</td>\n",
       "      <td>NaN</td>\n",
       "      <td>NaN</td>\n",
       "      <td>NaN</td>\n",
       "      <td>NaN</td>\n",
       "      <td>NaN</td>\n",
       "    </tr>\n",
       "    <tr>\n",
       "      <th>120</th>\n",
       "      <td>3/24/2014</td>\n",
       "      <td>2</td>\n",
       "      <td>86.0</td>\n",
       "      <td>NaN</td>\n",
       "      <td>NaN</td>\n",
       "      <td>NaN</td>\n",
       "      <td>NaN</td>\n",
       "      <td>NaN</td>\n",
       "      <td>NaN</td>\n",
       "      <td>NaN</td>\n",
       "      <td>59.0</td>\n",
       "      <td>NaN</td>\n",
       "      <td>NaN</td>\n",
       "      <td>NaN</td>\n",
       "      <td>NaN</td>\n",
       "      <td>NaN</td>\n",
       "      <td>NaN</td>\n",
       "      <td>NaN</td>\n",
       "    </tr>\n",
       "    <tr>\n",
       "      <th>121</th>\n",
       "      <td>3/22/2014</td>\n",
       "      <td>0</td>\n",
       "      <td>49.0</td>\n",
       "      <td>NaN</td>\n",
       "      <td>NaN</td>\n",
       "      <td>NaN</td>\n",
       "      <td>NaN</td>\n",
       "      <td>NaN</td>\n",
       "      <td>NaN</td>\n",
       "      <td>NaN</td>\n",
       "      <td>29.0</td>\n",
       "      <td>NaN</td>\n",
       "      <td>NaN</td>\n",
       "      <td>NaN</td>\n",
       "      <td>NaN</td>\n",
       "      <td>NaN</td>\n",
       "      <td>NaN</td>\n",
       "      <td>NaN</td>\n",
       "    </tr>\n",
       "  </tbody>\n",
       "</table>\n",
       "<p>122 rows × 18 columns</p>\n",
       "</div>"
      ],
      "text/plain": [
       "           Date  Day  Cases_Guinea  Cases_Liberia  Cases_SierraLeone  \\\n",
       "0      1/5/2015  289        2776.0         8166.0            10030.0   \n",
       "1      1/4/2015  288        2775.0         8166.0             9780.0   \n",
       "2      1/3/2015  287        2769.0         8166.0             9722.0   \n",
       "3      1/2/2015  286        2730.0         8157.0             9633.0   \n",
       "4    12/31/2014  284        2730.0         8115.0             9633.0   \n",
       "..          ...  ...           ...            ...                ...   \n",
       "117   3/27/2014    5         103.0            8.0                6.0   \n",
       "118   3/26/2014    4          86.0            NaN                NaN   \n",
       "119   3/25/2014    3          86.0            NaN                NaN   \n",
       "120   3/24/2014    2          86.0            NaN                NaN   \n",
       "121   3/22/2014    0          49.0            NaN                NaN   \n",
       "\n",
       "     Cases_Nigeria  Cases_Senegal  Cases_UnitedStates  Cases_Spain  \\\n",
       "0             20.0            1.0                 4.0          1.0   \n",
       "1             20.0            1.0                 4.0          1.0   \n",
       "2             20.0            1.0                 4.0          1.0   \n",
       "3             20.0            1.0                 4.0          1.0   \n",
       "4             20.0            1.0                 4.0          1.0   \n",
       "..             ...            ...                 ...          ...   \n",
       "117            NaN            NaN                 NaN          NaN   \n",
       "118            NaN            NaN                 NaN          NaN   \n",
       "119            NaN            NaN                 NaN          NaN   \n",
       "120            NaN            NaN                 NaN          NaN   \n",
       "121            NaN            NaN                 NaN          NaN   \n",
       "\n",
       "     Cases_Mali  Deaths_Guinea  Deaths_Liberia  Deaths_SierraLeone  \\\n",
       "0           7.0         1786.0          3496.0              2977.0   \n",
       "1           7.0         1781.0          3496.0              2943.0   \n",
       "2           7.0         1767.0          3496.0              2915.0   \n",
       "3           7.0         1739.0          3496.0              2827.0   \n",
       "4           7.0         1739.0          3471.0              2827.0   \n",
       "..          ...            ...             ...                 ...   \n",
       "117         NaN           66.0             6.0                 5.0   \n",
       "118         NaN           62.0             NaN                 NaN   \n",
       "119         NaN           60.0             NaN                 NaN   \n",
       "120         NaN           59.0             NaN                 NaN   \n",
       "121         NaN           29.0             NaN                 NaN   \n",
       "\n",
       "     Deaths_Nigeria  Deaths_Senegal  Deaths_UnitedStates  Deaths_Spain  \\\n",
       "0               8.0             0.0                  1.0           0.0   \n",
       "1               8.0             0.0                  1.0           0.0   \n",
       "2               8.0             0.0                  1.0           0.0   \n",
       "3               8.0             0.0                  1.0           0.0   \n",
       "4               8.0             0.0                  1.0           0.0   \n",
       "..              ...             ...                  ...           ...   \n",
       "117             NaN             NaN                  NaN           NaN   \n",
       "118             NaN             NaN                  NaN           NaN   \n",
       "119             NaN             NaN                  NaN           NaN   \n",
       "120             NaN             NaN                  NaN           NaN   \n",
       "121             NaN             NaN                  NaN           NaN   \n",
       "\n",
       "     Deaths_Mali  \n",
       "0            6.0  \n",
       "1            6.0  \n",
       "2            6.0  \n",
       "3            6.0  \n",
       "4            6.0  \n",
       "..           ...  \n",
       "117          NaN  \n",
       "118          NaN  \n",
       "119          NaN  \n",
       "120          NaN  \n",
       "121          NaN  \n",
       "\n",
       "[122 rows x 18 columns]"
      ]
     },
     "execution_count": 16,
     "metadata": {},
     "output_type": "execute_result"
    }
   ],
   "source": [
    "ebola.fillna(method='bfill')"
   ]
  },
  {
   "cell_type": "markdown",
   "id": "0fd70969",
   "metadata": {},
   "source": [
    "#### Advanced Filling\n",
    "\n",
    "Pandas also provides advanced methods for filling missing values.  \n",
    "The [interpolate](https://pandas.pydata.org/pandas-docs/stable/reference/api/pandas.DataFrame.interpolate.html#pandas-dataframe-interpolate) function offers several ways to interpolate missing values.\n"
   ]
  },
  {
   "cell_type": "code",
   "execution_count": 17,
   "id": "1d668953",
   "metadata": {},
   "outputs": [
    {
     "data": {
      "application/vnd.microsoft.datawrangler.viewer.v0+json": {
       "columns": [
        {
         "name": "index",
         "rawType": "int64",
         "type": "integer"
        },
        {
         "name": "Cases_Guinea",
         "rawType": "float64",
         "type": "float"
        }
       ],
       "ref": "33761f25-fdec-4495-aadc-bbd183828a90",
       "rows": [
        [
         "0",
         "2776.0"
        ],
        [
         "1",
         "2775.0"
        ],
        [
         "2",
         "2769.0"
        ],
        [
         "3",
         null
        ],
        [
         "4",
         "2730.0"
        ]
       ],
       "shape": {
        "columns": 1,
        "rows": 5
       }
      },
      "text/plain": [
       "0    2776.0\n",
       "1    2775.0\n",
       "2    2769.0\n",
       "3       NaN\n",
       "4    2730.0\n",
       "Name: Cases_Guinea, dtype: float64"
      ]
     },
     "execution_count": 17,
     "metadata": {},
     "output_type": "execute_result"
    }
   ],
   "source": [
    "ebola['Cases_Guinea'].head()"
   ]
  },
  {
   "cell_type": "code",
   "execution_count": 18,
   "id": "bb7bb199",
   "metadata": {},
   "outputs": [
    {
     "data": {
      "application/vnd.microsoft.datawrangler.viewer.v0+json": {
       "columns": [
        {
         "name": "index",
         "rawType": "int64",
         "type": "integer"
        },
        {
         "name": "Cases_Guinea",
         "rawType": "float64",
         "type": "float"
        }
       ],
       "ref": "122e0b94-5378-47fd-9f6f-3293d5e1036d",
       "rows": [
        [
         "0",
         "2776.0"
        ],
        [
         "1",
         "2775.0"
        ],
        [
         "2",
         "2769.0"
        ],
        [
         "3",
         "2753.4190909390245"
        ],
        [
         "4",
         "2730.0"
        ]
       ],
       "shape": {
        "columns": 1,
        "rows": 5
       }
      },
      "text/plain": [
       "0    2776.000000\n",
       "1    2775.000000\n",
       "2    2769.000000\n",
       "3    2753.419091\n",
       "4    2730.000000\n",
       "Name: Cases_Guinea, dtype: float64"
      ]
     },
     "execution_count": 18,
     "metadata": {},
     "output_type": "execute_result"
    }
   ],
   "source": [
    "ebola['Cases_Guinea'].interpolate(method='quadratic').head()"
   ]
  },
  {
   "cell_type": "markdown",
   "id": "57a83c4d",
   "metadata": {},
   "source": [
    "### Calculations with Missing Values\n",
    "\n",
    "By default, `NumPy` is very strict when it comes to calculations involving `NA` values.  \n",
    "Any operation that includes an `NA` will result in `NA`.  \n",
    "This is correct in the sense that the final value of an operation such as `sum` cannot be known if even a single value is unknown.\n"
   ]
  },
  {
   "cell_type": "code",
   "execution_count": 19,
   "id": "03edb8de",
   "metadata": {},
   "outputs": [
    {
     "data": {
      "text/plain": [
       "np.float64(6.0)"
      ]
     },
     "execution_count": 19,
     "metadata": {},
     "output_type": "execute_result"
    }
   ],
   "source": [
    "np.nansum([1, 2, np.nan, 3])"
   ]
  },
  {
   "cell_type": "markdown",
   "id": "16411f35",
   "metadata": {},
   "source": [
    "From a practical standpoint, however, this is not very useful.  \n",
    "Therefore, Pandas takes the approach of gracefully ignoring `NA`s.\n"
   ]
  },
  {
   "cell_type": "code",
   "execution_count": 20,
   "id": "94d7291e",
   "metadata": {},
   "outputs": [
    {
     "data": {
      "text/plain": [
       "np.float64(84729.0)"
      ]
     },
     "execution_count": 20,
     "metadata": {},
     "output_type": "execute_result"
    }
   ],
   "source": [
    "ebola['Cases_Guinea'].sum()"
   ]
  },
  {
   "cell_type": "markdown",
   "id": "217d4fa9",
   "metadata": {},
   "source": [
    "This behavior can be changed if desired."
   ]
  },
  {
   "cell_type": "code",
   "execution_count": 21,
   "id": "d6e45378",
   "metadata": {},
   "outputs": [
    {
     "data": {
      "text/plain": [
       "np.float64(nan)"
      ]
     },
     "execution_count": 21,
     "metadata": {},
     "output_type": "execute_result"
    }
   ],
   "source": [
    "ebola['Cases_Guinea'].sum(skipna=False)"
   ]
  },
  {
   "cell_type": "markdown",
   "id": "5d007199",
   "metadata": {},
   "source": [
    "## Removing Duplicates\n",
    "\n",
    "Duplicates can arise as part of unstructured data.  \n",
    "It is important to correctly identify and remove them so they do not affect our statistics.\n"
   ]
  },
  {
   "cell_type": "code",
   "execution_count": 22,
   "id": "3baee785",
   "metadata": {},
   "outputs": [
    {
     "data": {
      "application/vnd.microsoft.datawrangler.viewer.v0+json": {
       "columns": [
        {
         "name": "index",
         "rawType": "int64",
         "type": "integer"
        },
        {
         "name": "a",
         "rawType": "int64",
         "type": "integer"
        },
        {
         "name": "b",
         "rawType": "int64",
         "type": "integer"
        }
       ],
       "ref": "31bea5cc-19ba-4a39-92f1-f4e34e304723",
       "rows": [
        [
         "0",
         "1",
         "10"
        ],
        [
         "1",
         "1",
         "20"
        ],
        [
         "2",
         "1",
         "30"
        ],
        [
         "3",
         "2",
         "40"
        ],
        [
         "4",
         "2",
         "50"
        ],
        [
         "5",
         "2",
         "50"
        ]
       ],
       "shape": {
        "columns": 2,
        "rows": 6
       }
      },
      "text/html": [
       "<div>\n",
       "<style scoped>\n",
       "    .dataframe tbody tr th:only-of-type {\n",
       "        vertical-align: middle;\n",
       "    }\n",
       "\n",
       "    .dataframe tbody tr th {\n",
       "        vertical-align: top;\n",
       "    }\n",
       "\n",
       "    .dataframe thead th {\n",
       "        text-align: right;\n",
       "    }\n",
       "</style>\n",
       "<table border=\"1\" class=\"dataframe\">\n",
       "  <thead>\n",
       "    <tr style=\"text-align: right;\">\n",
       "      <th></th>\n",
       "      <th>a</th>\n",
       "      <th>b</th>\n",
       "    </tr>\n",
       "  </thead>\n",
       "  <tbody>\n",
       "    <tr>\n",
       "      <th>0</th>\n",
       "      <td>1</td>\n",
       "      <td>10</td>\n",
       "    </tr>\n",
       "    <tr>\n",
       "      <th>1</th>\n",
       "      <td>1</td>\n",
       "      <td>20</td>\n",
       "    </tr>\n",
       "    <tr>\n",
       "      <th>2</th>\n",
       "      <td>1</td>\n",
       "      <td>30</td>\n",
       "    </tr>\n",
       "    <tr>\n",
       "      <th>3</th>\n",
       "      <td>2</td>\n",
       "      <td>40</td>\n",
       "    </tr>\n",
       "    <tr>\n",
       "      <th>4</th>\n",
       "      <td>2</td>\n",
       "      <td>50</td>\n",
       "    </tr>\n",
       "    <tr>\n",
       "      <th>5</th>\n",
       "      <td>2</td>\n",
       "      <td>50</td>\n",
       "    </tr>\n",
       "  </tbody>\n",
       "</table>\n",
       "</div>"
      ],
      "text/plain": [
       "   a   b\n",
       "0  1  10\n",
       "1  1  20\n",
       "2  1  30\n",
       "3  2  40\n",
       "4  2  50\n",
       "5  2  50"
      ]
     },
     "execution_count": 22,
     "metadata": {},
     "output_type": "execute_result"
    }
   ],
   "source": [
    "df1 = pd.DataFrame({\n",
    "    'a': [1, 1, 1, 2, 2, 2],\n",
    "    'b': [10, 20, 30, 40, 50, 50],\n",
    "})\n",
    "\n",
    "df1"
   ]
  },
  {
   "cell_type": "markdown",
   "id": "2d2733a6",
   "metadata": {},
   "source": [
    "Check whether a row is a duplicate.\n"
   ]
  },
  {
   "cell_type": "code",
   "execution_count": 23,
   "id": "4c047929",
   "metadata": {},
   "outputs": [
    {
     "data": {
      "application/vnd.microsoft.datawrangler.viewer.v0+json": {
       "columns": [
        {
         "name": "index",
         "rawType": "int64",
         "type": "integer"
        },
        {
         "name": "0",
         "rawType": "bool",
         "type": "boolean"
        }
       ],
       "ref": "8869ba61-64aa-4b03-87e5-d48607e5736d",
       "rows": [
        [
         "0",
         "False"
        ],
        [
         "1",
         "False"
        ],
        [
         "2",
         "False"
        ],
        [
         "3",
         "False"
        ],
        [
         "4",
         "False"
        ],
        [
         "5",
         "True"
        ]
       ],
       "shape": {
        "columns": 1,
        "rows": 6
       }
      },
      "text/plain": [
       "0    False\n",
       "1    False\n",
       "2    False\n",
       "3    False\n",
       "4    False\n",
       "5     True\n",
       "dtype: bool"
      ]
     },
     "execution_count": 23,
     "metadata": {},
     "output_type": "execute_result"
    }
   ],
   "source": [
    "df1.duplicated()"
   ]
  },
  {
   "cell_type": "markdown",
   "id": "5d9760e5",
   "metadata": {},
   "source": [
    "Drop the duplicate rows.\n"
   ]
  },
  {
   "cell_type": "code",
   "execution_count": 24,
   "id": "8fac9a85",
   "metadata": {},
   "outputs": [
    {
     "data": {
      "application/vnd.microsoft.datawrangler.viewer.v0+json": {
       "columns": [
        {
         "name": "index",
         "rawType": "int64",
         "type": "integer"
        },
        {
         "name": "a",
         "rawType": "int64",
         "type": "integer"
        },
        {
         "name": "b",
         "rawType": "int64",
         "type": "integer"
        }
       ],
       "ref": "088c408b-7320-421c-a150-b34962979176",
       "rows": [
        [
         "0",
         "1",
         "10"
        ],
        [
         "1",
         "1",
         "20"
        ],
        [
         "2",
         "1",
         "30"
        ],
        [
         "3",
         "2",
         "40"
        ],
        [
         "4",
         "2",
         "50"
        ]
       ],
       "shape": {
        "columns": 2,
        "rows": 5
       }
      },
      "text/html": [
       "<div>\n",
       "<style scoped>\n",
       "    .dataframe tbody tr th:only-of-type {\n",
       "        vertical-align: middle;\n",
       "    }\n",
       "\n",
       "    .dataframe tbody tr th {\n",
       "        vertical-align: top;\n",
       "    }\n",
       "\n",
       "    .dataframe thead th {\n",
       "        text-align: right;\n",
       "    }\n",
       "</style>\n",
       "<table border=\"1\" class=\"dataframe\">\n",
       "  <thead>\n",
       "    <tr style=\"text-align: right;\">\n",
       "      <th></th>\n",
       "      <th>a</th>\n",
       "      <th>b</th>\n",
       "    </tr>\n",
       "  </thead>\n",
       "  <tbody>\n",
       "    <tr>\n",
       "      <th>0</th>\n",
       "      <td>1</td>\n",
       "      <td>10</td>\n",
       "    </tr>\n",
       "    <tr>\n",
       "      <th>1</th>\n",
       "      <td>1</td>\n",
       "      <td>20</td>\n",
       "    </tr>\n",
       "    <tr>\n",
       "      <th>2</th>\n",
       "      <td>1</td>\n",
       "      <td>30</td>\n",
       "    </tr>\n",
       "    <tr>\n",
       "      <th>3</th>\n",
       "      <td>2</td>\n",
       "      <td>40</td>\n",
       "    </tr>\n",
       "    <tr>\n",
       "      <th>4</th>\n",
       "      <td>2</td>\n",
       "      <td>50</td>\n",
       "    </tr>\n",
       "  </tbody>\n",
       "</table>\n",
       "</div>"
      ],
      "text/plain": [
       "   a   b\n",
       "0  1  10\n",
       "1  1  20\n",
       "2  1  30\n",
       "3  2  40\n",
       "4  2  50"
      ]
     },
     "execution_count": 24,
     "metadata": {},
     "output_type": "execute_result"
    }
   ],
   "source": [
    "df1.drop_duplicates()"
   ]
  },
  {
   "cell_type": "markdown",
   "id": "6a7ad953",
   "metadata": {},
   "source": [
    "Limit duplicate search to a subset of columns.\n"
   ]
  },
  {
   "cell_type": "code",
   "execution_count": 25,
   "id": "c535ff79",
   "metadata": {},
   "outputs": [
    {
     "data": {
      "application/vnd.microsoft.datawrangler.viewer.v0+json": {
       "columns": [
        {
         "name": "index",
         "rawType": "int64",
         "type": "integer"
        },
        {
         "name": "0",
         "rawType": "bool",
         "type": "boolean"
        }
       ],
       "ref": "18cbaa06-f639-4d65-a51d-c856c86b836c",
       "rows": [
        [
         "0",
         "False"
        ],
        [
         "1",
         "True"
        ],
        [
         "2",
         "True"
        ],
        [
         "3",
         "False"
        ],
        [
         "4",
         "True"
        ],
        [
         "5",
         "True"
        ]
       ],
       "shape": {
        "columns": 1,
        "rows": 6
       }
      },
      "text/plain": [
       "0    False\n",
       "1     True\n",
       "2     True\n",
       "3    False\n",
       "4     True\n",
       "5     True\n",
       "dtype: bool"
      ]
     },
     "execution_count": 25,
     "metadata": {},
     "output_type": "execute_result"
    }
   ],
   "source": [
    "df1.duplicated(subset='a')"
   ]
  },
  {
   "cell_type": "code",
   "execution_count": 26,
   "id": "c604d851",
   "metadata": {},
   "outputs": [
    {
     "data": {
      "application/vnd.microsoft.datawrangler.viewer.v0+json": {
       "columns": [
        {
         "name": "index",
         "rawType": "int64",
         "type": "integer"
        },
        {
         "name": "a",
         "rawType": "int64",
         "type": "integer"
        },
        {
         "name": "b",
         "rawType": "int64",
         "type": "integer"
        }
       ],
       "ref": "ba3c93e5-9a4b-4eb4-aa31-be3d8be9dade",
       "rows": [
        [
         "0",
         "1",
         "10"
        ],
        [
         "3",
         "2",
         "40"
        ]
       ],
       "shape": {
        "columns": 2,
        "rows": 2
       }
      },
      "text/html": [
       "<div>\n",
       "<style scoped>\n",
       "    .dataframe tbody tr th:only-of-type {\n",
       "        vertical-align: middle;\n",
       "    }\n",
       "\n",
       "    .dataframe tbody tr th {\n",
       "        vertical-align: top;\n",
       "    }\n",
       "\n",
       "    .dataframe thead th {\n",
       "        text-align: right;\n",
       "    }\n",
       "</style>\n",
       "<table border=\"1\" class=\"dataframe\">\n",
       "  <thead>\n",
       "    <tr style=\"text-align: right;\">\n",
       "      <th></th>\n",
       "      <th>a</th>\n",
       "      <th>b</th>\n",
       "    </tr>\n",
       "  </thead>\n",
       "  <tbody>\n",
       "    <tr>\n",
       "      <th>0</th>\n",
       "      <td>1</td>\n",
       "      <td>10</td>\n",
       "    </tr>\n",
       "    <tr>\n",
       "      <th>3</th>\n",
       "      <td>2</td>\n",
       "      <td>40</td>\n",
       "    </tr>\n",
       "  </tbody>\n",
       "</table>\n",
       "</div>"
      ],
      "text/plain": [
       "   a   b\n",
       "0  1  10\n",
       "3  2  40"
      ]
     },
     "execution_count": 26,
     "metadata": {},
     "output_type": "execute_result"
    }
   ],
   "source": [
    "df1.drop_duplicates(subset='a')"
   ]
  },
  {
   "cell_type": "markdown",
   "id": "089904b0",
   "metadata": {},
   "source": [
    "## Data Preparation: Analyzing Data with Pandas\n"
   ]
  },
  {
   "cell_type": "markdown",
   "id": "de46af48",
   "metadata": {},
   "source": [
    "## Data Types\n",
    "\n",
    "### Finding the Right Data Types\n",
    "\n",
    "Data can be expressed on different scales. You need to ensure that you choose the level of measurement that makes sense both semantically and computationally.\n",
    "\n",
    "A brief overview of the scales:\n",
    "\n",
    "1. **Nominal Scale** <br/>\n",
    "   Numbers represent only categories and nothing more. <br/>\n",
    "   Example: gender, colors <br/>\n",
    "   You can compute: absolute and relative frequencies, mode   \n",
    "\n",
    "1. **Ordinal Scale** <br/>\n",
    "   The order has meaning. <br/>\n",
    "   Example: school grades, music charts, answers on a Likert scale <br/>\n",
    "   You can additionally compute: cumulative frequencies, median, quantiles   \n",
    "\n",
    "1. **Interval Scale** <br/>\n",
    "   Equal intervals are assumed to have the same meaning. <br/>\n",
    "   Example: temperature in Celsius, (intelligence) test scores <br/>\n",
    "   You can additionally compute: mean, standard deviation   \n",
    "\n",
    "1. **Ratio Scale** <br/>\n",
    "   Ratios carry meaning and there is a defined zero point. <br/>\n",
    "   Example: mass, height, time, speed <br/>\n",
    "   You can compute: coefficient of variation $c = \\frac{s}{\\bar X}$, i.e., a normalized standard deviation\n"
   ]
  },
  {
   "cell_type": "markdown",
   "id": "10a6d693",
   "metadata": {},
   "source": [
    "### Categorical Data\n",
    "\n",
    "Using a [categorical](https://pandas.pydata.org/pandas-docs/stable/user_guide/categorical.html) dtype has several advantages:\n",
    "\n",
    "* It keeps memory usage low  \n",
    "* It makes the data usable for numerical modeling algorithms  \n",
    "* It signals to libraries built on top of Pandas how the data should be handled  \n",
    "* It makes the intent clear that only certain values are allowed in a column and how they relate to each other  \n",
    "\n",
    "The following `Series` could be perfectly represented with categories instead of strings.\n"
   ]
  },
  {
   "cell_type": "code",
   "execution_count": 27,
   "id": "c66d4e12",
   "metadata": {},
   "outputs": [
    {
     "data": {
      "application/vnd.microsoft.datawrangler.viewer.v0+json": {
       "columns": [
        {
         "name": "index",
         "rawType": "int64",
         "type": "integer"
        },
        {
         "name": "0",
         "rawType": "object",
         "type": "string"
        }
       ],
       "ref": "ffe7e95f-dcea-4eac-949c-a45f8279e1fa",
       "rows": [
        [
         "0",
         "a"
        ],
        [
         "1",
         "b"
        ],
        [
         "2",
         "b"
        ],
        [
         "3",
         "a"
        ],
        [
         "4",
         "c"
        ],
        [
         "5",
         "c"
        ]
       ],
       "shape": {
        "columns": 1,
        "rows": 6
       }
      },
      "text/plain": [
       "0    a\n",
       "1    b\n",
       "2    b\n",
       "3    a\n",
       "4    c\n",
       "5    c\n",
       "dtype: object"
      ]
     },
     "execution_count": 27,
     "metadata": {},
     "output_type": "execute_result"
    }
   ],
   "source": [
    "s = pd.Series(['a','b', 'b', 'a', 'c', 'c'])\n",
    "s"
   ]
  },
  {
   "cell_type": "code",
   "execution_count": 28,
   "id": "2f758244",
   "metadata": {},
   "outputs": [
    {
     "name": "stdout",
     "output_type": "stream",
     "text": [
      "The string series is 48 bytes big.\n"
     ]
    }
   ],
   "source": [
    "print(f'The string series is {s.nbytes} bytes big.')"
   ]
  },
  {
   "cell_type": "markdown",
   "id": "f4a180c5",
   "metadata": {},
   "source": [
    "By specifying the `dtype` as `\"category\"`, the data is automatically converted to a categorical scale.\n"
   ]
  },
  {
   "cell_type": "code",
   "execution_count": 29,
   "id": "ef19ec1d",
   "metadata": {},
   "outputs": [
    {
     "data": {
      "application/vnd.microsoft.datawrangler.viewer.v0+json": {
       "columns": [
        {
         "name": "index",
         "rawType": "int64",
         "type": "integer"
        },
        {
         "name": "0",
         "rawType": "category",
         "type": "unknown"
        }
       ],
       "ref": "cf3fcc0c-4ddc-4263-af0f-3fcc06e81f80",
       "rows": [
        [
         "0",
         "a"
        ],
        [
         "1",
         "b"
        ],
        [
         "2",
         "b"
        ],
        [
         "3",
         "a"
        ],
        [
         "4",
         "c"
        ],
        [
         "5",
         "c"
        ]
       ],
       "shape": {
        "columns": 1,
        "rows": 6
       }
      },
      "text/plain": [
       "0    a\n",
       "1    b\n",
       "2    b\n",
       "3    a\n",
       "4    c\n",
       "5    c\n",
       "dtype: category\n",
       "Categories (3, object): ['a', 'b', 'c']"
      ]
     },
     "execution_count": 29,
     "metadata": {},
     "output_type": "execute_result"
    }
   ],
   "source": [
    "s = pd.Series(['a','b', 'b', 'a', 'c', 'c'], dtype='category')\n",
    "s"
   ]
  },
  {
   "cell_type": "markdown",
   "id": "529122b6",
   "metadata": {},
   "source": [
    "Indeed, the `Series` becomes much smaller.  \n",
    "This effect will be even more pronounced with larger `Series`.\n"
   ]
  },
  {
   "cell_type": "code",
   "execution_count": 30,
   "id": "26b8efb6",
   "metadata": {},
   "outputs": [
    {
     "name": "stdout",
     "output_type": "stream",
     "text": [
      "The categorical series is 30 bytes big.\n"
     ]
    }
   ],
   "source": [
    "print(f'The categorical series is {s.nbytes} bytes big.')"
   ]
  },
  {
   "cell_type": "markdown",
   "id": "0c2515c9",
   "metadata": {},
   "source": [
    "Categorical data is stored under the hood using numerical codes that are mapped to the categories.\n"
   ]
  },
  {
   "cell_type": "code",
   "execution_count": 31,
   "id": "8372f9f0",
   "metadata": {},
   "outputs": [
    {
     "data": {
      "text/plain": [
       "Index(['a', 'b', 'c'], dtype='object')"
      ]
     },
     "execution_count": 31,
     "metadata": {},
     "output_type": "execute_result"
    }
   ],
   "source": [
    "s.cat.categories"
   ]
  },
  {
   "cell_type": "code",
   "execution_count": 32,
   "id": "e8cabf05",
   "metadata": {},
   "outputs": [
    {
     "data": {
      "application/vnd.microsoft.datawrangler.viewer.v0+json": {
       "columns": [
        {
         "name": "index",
         "rawType": "int64",
         "type": "integer"
        },
        {
         "name": "0",
         "rawType": "int8",
         "type": "integer"
        }
       ],
       "ref": "336a46fd-0d39-4abf-9fae-bfa125f06793",
       "rows": [
        [
         "0",
         "0"
        ],
        [
         "1",
         "1"
        ],
        [
         "2",
         "1"
        ],
        [
         "3",
         "0"
        ],
        [
         "4",
         "2"
        ],
        [
         "5",
         "2"
        ]
       ],
       "shape": {
        "columns": 1,
        "rows": 6
       }
      },
      "text/plain": [
       "0    0\n",
       "1    1\n",
       "2    1\n",
       "3    0\n",
       "4    2\n",
       "5    2\n",
       "dtype: int8"
      ]
     },
     "execution_count": 32,
     "metadata": {},
     "output_type": "execute_result"
    }
   ],
   "source": [
    "s.cat.codes"
   ]
  },
  {
   "cell_type": "markdown",
   "id": "7efdc903",
   "metadata": {},
   "source": [
    "Using `dtype='category'` creates unordered categories by default.\n"
   ]
  },
  {
   "cell_type": "code",
   "execution_count": 33,
   "id": "d64ec35b",
   "metadata": {},
   "outputs": [
    {
     "data": {
      "text/plain": [
       "False"
      ]
     },
     "execution_count": 33,
     "metadata": {},
     "output_type": "execute_result"
    }
   ],
   "source": [
    "s.cat.ordered"
   ]
  },
  {
   "cell_type": "markdown",
   "id": "54b3600d",
   "metadata": {},
   "source": [
    "The `cat` accessor allows you to modify, rename, and order categories.\n"
   ]
  },
  {
   "cell_type": "code",
   "execution_count": 34,
   "id": "59fc46f5",
   "metadata": {},
   "outputs": [
    {
     "data": {
      "text/plain": [
       "Index(['a', 'b', 'c'], dtype='object')"
      ]
     },
     "execution_count": 34,
     "metadata": {},
     "output_type": "execute_result"
    }
   ],
   "source": [
    "s.cat.categories"
   ]
  },
  {
   "cell_type": "code",
   "execution_count": 35,
   "id": "6aa3e0df",
   "metadata": {},
   "outputs": [
    {
     "data": {
      "application/vnd.microsoft.datawrangler.viewer.v0+json": {
       "columns": [
        {
         "name": "index",
         "rawType": "int64",
         "type": "integer"
        },
        {
         "name": "0",
         "rawType": "category",
         "type": "unknown"
        }
       ],
       "ref": "25fd4387-63b3-456b-ac7b-ffc5082b78b8",
       "rows": [
        [
         "0",
         "x"
        ],
        [
         "1",
         "y"
        ],
        [
         "2",
         "y"
        ],
        [
         "3",
         "x"
        ],
        [
         "4",
         "z"
        ],
        [
         "5",
         "z"
        ]
       ],
       "shape": {
        "columns": 1,
        "rows": 6
       }
      },
      "text/plain": [
       "0    x\n",
       "1    y\n",
       "2    y\n",
       "3    x\n",
       "4    z\n",
       "5    z\n",
       "dtype: category\n",
       "Categories (3, object): ['x', 'y', 'z']"
      ]
     },
     "execution_count": 35,
     "metadata": {},
     "output_type": "execute_result"
    }
   ],
   "source": [
    "s.cat.rename_categories(['x', 'y', 'z'])"
   ]
  },
  {
   "cell_type": "markdown",
   "id": "5970d456",
   "metadata": {},
   "source": [
    "A categorical Series can also be created from `pd.Categorical`.  \n",
    "This allows you to explicitly define the categories and their order.\n"
   ]
  },
  {
   "cell_type": "code",
   "execution_count": 36,
   "id": "4bb1c13b",
   "metadata": {},
   "outputs": [
    {
     "data": {
      "text/plain": [
       "[NaN, 'b', 'c', NaN]\n",
       "Categories (2, object): ['b', 'c']"
      ]
     },
     "execution_count": 36,
     "metadata": {},
     "output_type": "execute_result"
    }
   ],
   "source": [
    "pd.Categorical(['a', 'b', 'c', 'a'], categories=['b', 'c'],ordered=False)"
   ]
  },
  {
   "cell_type": "markdown",
   "id": "916ff3c8",
   "metadata": {},
   "source": [
    "The `Categorical` object can then be passed to the `Series` constructor to create a proper `Series`.\n"
   ]
  },
  {
   "cell_type": "code",
   "execution_count": null,
   "id": "105857bc",
   "metadata": {},
   "outputs": [
    {
     "data": {
      "application/vnd.microsoft.datawrangler.viewer.v0+json": {
       "columns": [
        {
         "name": "index",
         "rawType": "int64",
         "type": "integer"
        },
        {
         "name": "0",
         "rawType": "category",
         "type": "unknown"
        }
       ],
       "ref": "7cd769b6-8814-470a-ada8-14c3d2ede071",
       "rows": [
        [
         "0",
         "a"
        ],
        [
         "1",
         "b"
        ],
        [
         "2",
         "c"
        ],
        [
         "3",
         "a"
        ]
       ],
       "shape": {
        "columns": 1,
        "rows": 4
       }
      },
      "text/plain": [
       "0    a\n",
       "1    b\n",
       "2    c\n",
       "3    a\n",
       "dtype: category\n",
       "Categories (3, object): ['b', 'c', 'a']"
      ]
     },
     "execution_count": 37,
     "metadata": {},
     "output_type": "execute_result"
    }
   ],
   "source": [
    "cat_series = pd.Series(\n",
    "    pd.Categorical(\n",
    "        ['a', 'b', 'c', 'a'], \n",
    "        categories=['b', 'c', 'a'],\n",
    "        ordered=False\n",
    "    )\n",
    ")\n",
    "cat_series"
   ]
  },
  {
   "cell_type": "markdown",
   "id": "8679d292",
   "metadata": {},
   "source": [
    "### Ordered Categories\n",
    "\n",
    "What does it mean to have ordered categories?\n"
   ]
  },
  {
   "cell_type": "code",
   "execution_count": null,
   "id": "b8cc84af",
   "metadata": {},
   "outputs": [
    {
     "data": {
      "application/vnd.microsoft.datawrangler.viewer.v0+json": {
       "columns": [
        {
         "name": "index",
         "rawType": "int64",
         "type": "integer"
        },
        {
         "name": "0",
         "rawType": "category",
         "type": "unknown"
        }
       ],
       "ref": "91f9cca5-4cbb-4ff3-ac37-19b41fd7a185",
       "rows": [
        [
         "0",
         "c"
        ],
        [
         "1",
         "a"
        ],
        [
         "2",
         "c"
        ],
        [
         "3",
         "b"
        ]
       ],
       "shape": {
        "columns": 1,
        "rows": 4
       }
      },
      "text/plain": [
       "0    c\n",
       "1    a\n",
       "2    c\n",
       "3    b\n",
       "dtype: category\n",
       "Categories (3, object): ['b', 'c', 'a']"
      ]
     },
     "execution_count": 38,
     "metadata": {},
     "output_type": "execute_result"
    }
   ],
   "source": [
    "cat_series2 = pd.Series(\n",
    "    pd.Categorical(\n",
    "        ['c', 'a', 'c', 'b'], \n",
    "        categories=['b', 'c', 'a'],\n",
    "        ordered=False\n",
    "    )\n",
    ")\n",
    "cat_series2"
   ]
  },
  {
   "cell_type": "code",
   "execution_count": 39,
   "id": "33c8b576",
   "metadata": {},
   "outputs": [
    {
     "data": {
      "application/vnd.microsoft.datawrangler.viewer.v0+json": {
       "columns": [
        {
         "name": "index",
         "rawType": "int64",
         "type": "integer"
        },
        {
         "name": "0",
         "rawType": "bool",
         "type": "boolean"
        }
       ],
       "ref": "8fecf729-452a-4b77-bb41-b8f7872efcdc",
       "rows": [
        [
         "0",
         "False"
        ],
        [
         "1",
         "False"
        ],
        [
         "2",
         "True"
        ],
        [
         "3",
         "False"
        ]
       ],
       "shape": {
        "columns": 1,
        "rows": 4
       }
      },
      "text/plain": [
       "0    False\n",
       "1    False\n",
       "2     True\n",
       "3    False\n",
       "dtype: bool"
      ]
     },
     "execution_count": 39,
     "metadata": {},
     "output_type": "execute_result"
    }
   ],
   "source": [
    "cat_series == cat_series2"
   ]
  },
  {
   "cell_type": "code",
   "execution_count": 41,
   "id": "bdf4a303",
   "metadata": {},
   "outputs": [
    {
     "name": "stdout",
     "output_type": "stream",
     "text": [
      "TypeError Unordered Categoricals can only compare equality or not\n"
     ]
    }
   ],
   "source": [
    "try:\n",
    "    cat_series > cat_series2\n",
    "except TypeError as e:\n",
    "    print(\"TypeError\", e)"
   ]
  },
  {
   "cell_type": "code",
   "execution_count": 42,
   "id": "76a385d4",
   "metadata": {},
   "outputs": [
    {
     "data": {
      "application/vnd.microsoft.datawrangler.viewer.v0+json": {
       "columns": [
        {
         "name": "index",
         "rawType": "int64",
         "type": "integer"
        },
        {
         "name": "0",
         "rawType": "category",
         "type": "unknown"
        }
       ],
       "ref": "bb6c2a2d-7e56-48fc-aaa0-2f454606a928",
       "rows": [
        [
         "0",
         "a"
        ],
        [
         "1",
         "b"
        ],
        [
         "2",
         "c"
        ],
        [
         "3",
         "a"
        ]
       ],
       "shape": {
        "columns": 1,
        "rows": 4
       }
      },
      "text/plain": [
       "0    a\n",
       "1    b\n",
       "2    c\n",
       "3    a\n",
       "dtype: category\n",
       "Categories (3, object): ['b', 'c', 'a']"
      ]
     },
     "execution_count": 42,
     "metadata": {},
     "output_type": "execute_result"
    }
   ],
   "source": [
    "cat_series"
   ]
  },
  {
   "cell_type": "code",
   "execution_count": 43,
   "id": "18b1a35d",
   "metadata": {},
   "outputs": [
    {
     "data": {
      "application/vnd.microsoft.datawrangler.viewer.v0+json": {
       "columns": [
        {
         "name": "index",
         "rawType": "int64",
         "type": "integer"
        },
        {
         "name": "0",
         "rawType": "category",
         "type": "unknown"
        }
       ],
       "ref": "498207e3-aeca-42d9-87df-9bc524c1e414",
       "rows": [
        [
         "0",
         "a"
        ]
       ],
       "shape": {
        "columns": 1,
        "rows": 1
       }
      },
      "text/plain": [
       "0    a\n",
       "dtype: category\n",
       "Categories (3, object): ['b', 'c', 'a']"
      ]
     },
     "execution_count": 43,
     "metadata": {},
     "output_type": "execute_result"
    }
   ],
   "source": [
    "cat_series.mode()"
   ]
  },
  {
   "cell_type": "code",
   "execution_count": 45,
   "id": "46b7ac0f",
   "metadata": {},
   "outputs": [
    {
     "name": "stdout",
     "output_type": "stream",
     "text": [
      "TypeError Categorical is not ordered for operation max\n",
      "you can use .as_ordered() to change the Categorical to an ordered one\n",
      "\n"
     ]
    }
   ],
   "source": [
    "try:\n",
    "    cat_series.max()\n",
    "except TypeError as e:\n",
    "    print(\"TypeError\", e)"
   ]
  },
  {
   "cell_type": "markdown",
   "id": "efa2e43f",
   "metadata": {},
   "source": [
    "This semantics is lost when you extract the atomic values.  \n",
    "Only the `Series` is categorical, not the individual entries.\n"
   ]
  },
  {
   "cell_type": "code",
   "execution_count": 46,
   "id": "be525a6e",
   "metadata": {},
   "outputs": [
    {
     "data": {
      "text/plain": [
       "('a', str)"
      ]
     },
     "execution_count": 46,
     "metadata": {},
     "output_type": "execute_result"
    }
   ],
   "source": [
    "cat_series.iloc[0], type(cat_series.iloc[0])"
   ]
  },
  {
   "cell_type": "code",
   "execution_count": 47,
   "id": "65a447d0",
   "metadata": {},
   "outputs": [
    {
     "data": {
      "text/plain": [
       "True"
      ]
     },
     "execution_count": 47,
     "metadata": {},
     "output_type": "execute_result"
    }
   ],
   "source": [
    "cat_series.iloc[0] < cat_series.iloc[1]"
   ]
  },
  {
   "cell_type": "markdown",
   "id": "7a192eff",
   "metadata": {},
   "source": [
    "Now the same for an **ordered** categorical `Series`.\n"
   ]
  },
  {
   "cell_type": "code",
   "execution_count": null,
   "id": "c2efb0dd",
   "metadata": {},
   "outputs": [
    {
     "data": {
      "application/vnd.microsoft.datawrangler.viewer.v0+json": {
       "columns": [
        {
         "name": "index",
         "rawType": "int64",
         "type": "integer"
        },
        {
         "name": "0",
         "rawType": "category",
         "type": "unknown"
        }
       ],
       "ref": "02f24b41-7e93-4839-b0d0-0fb6f03e358b",
       "rows": [
        [
         "0",
         "a"
        ],
        [
         "1",
         "b"
        ],
        [
         "2",
         "c"
        ],
        [
         "3",
         "a"
        ]
       ],
       "shape": {
        "columns": 1,
        "rows": 4
       }
      },
      "text/plain": [
       "0    a\n",
       "1    b\n",
       "2    c\n",
       "3    a\n",
       "dtype: category\n",
       "Categories (4, object): ['b' < 'c' < 'a' < 'd']"
      ]
     },
     "execution_count": 48,
     "metadata": {},
     "output_type": "execute_result"
    }
   ],
   "source": [
    "cat_ordered_series = pd.Series(\n",
    "    pd.Categorical(\n",
    "        ['a', 'b', 'c', 'a'], \n",
    "        categories=['b', 'c', 'a', 'd'],\n",
    "        ordered=True\n",
    "    )\n",
    ")\n",
    "cat_ordered_series"
   ]
  },
  {
   "cell_type": "code",
   "execution_count": null,
   "id": "6c7cc2b9",
   "metadata": {},
   "outputs": [
    {
     "data": {
      "application/vnd.microsoft.datawrangler.viewer.v0+json": {
       "columns": [
        {
         "name": "index",
         "rawType": "int64",
         "type": "integer"
        },
        {
         "name": "0",
         "rawType": "category",
         "type": "unknown"
        }
       ],
       "ref": "255f1426-d5b0-4274-9bf1-204729ab2867",
       "rows": [
        [
         "0",
         "c"
        ],
        [
         "1",
         "a"
        ],
        [
         "2",
         "c"
        ],
        [
         "3",
         "b"
        ]
       ],
       "shape": {
        "columns": 1,
        "rows": 4
       }
      },
      "text/plain": [
       "0    c\n",
       "1    a\n",
       "2    c\n",
       "3    b\n",
       "dtype: category\n",
       "Categories (4, object): ['b' < 'c' < 'a' < 'd']"
      ]
     },
     "execution_count": 49,
     "metadata": {},
     "output_type": "execute_result"
    }
   ],
   "source": [
    "cat_ordered_series2 = pd.Series(\n",
    "    pd.Categorical(\n",
    "        ['c', 'a', 'c', 'b'], \n",
    "        categories=['b', 'c', 'a', 'd'],\n",
    "        ordered=True\n",
    "    )\n",
    ")\n",
    "cat_ordered_series2"
   ]
  },
  {
   "cell_type": "code",
   "execution_count": 50,
   "id": "182c7828",
   "metadata": {},
   "outputs": [
    {
     "data": {
      "application/vnd.microsoft.datawrangler.viewer.v0+json": {
       "columns": [
        {
         "name": "index",
         "rawType": "int64",
         "type": "integer"
        },
        {
         "name": "0",
         "rawType": "bool",
         "type": "boolean"
        }
       ],
       "ref": "e673e9f9-a0b3-4914-bb5f-f5c21e138154",
       "rows": [
        [
         "0",
         "True"
        ],
        [
         "1",
         "False"
        ],
        [
         "2",
         "False"
        ],
        [
         "3",
         "True"
        ]
       ],
       "shape": {
        "columns": 1,
        "rows": 4
       }
      },
      "text/plain": [
       "0     True\n",
       "1    False\n",
       "2    False\n",
       "3     True\n",
       "dtype: bool"
      ]
     },
     "execution_count": 50,
     "metadata": {},
     "output_type": "execute_result"
    }
   ],
   "source": [
    "cat_ordered_series > cat_ordered_series2"
   ]
  },
  {
   "cell_type": "code",
   "execution_count": 51,
   "id": "b97e322d",
   "metadata": {},
   "outputs": [
    {
     "data": {
      "text/plain": [
       "'a'"
      ]
     },
     "execution_count": 51,
     "metadata": {},
     "output_type": "execute_result"
    }
   ],
   "source": [
    "cat_ordered_series.max()"
   ]
  },
  {
   "cell_type": "code",
   "execution_count": 52,
   "id": "30281c7b",
   "metadata": {},
   "outputs": [
    {
     "data": {
      "application/vnd.microsoft.datawrangler.viewer.v0+json": {
       "columns": [
        {
         "name": "index",
         "rawType": "int64",
         "type": "integer"
        },
        {
         "name": "0",
         "rawType": "bool",
         "type": "boolean"
        }
       ],
       "ref": "7878db1c-ed65-4c4c-b8eb-7e829757f4a2",
       "rows": [
        [
         "0",
         "False"
        ],
        [
         "1",
         "False"
        ],
        [
         "2",
         "True"
        ],
        [
         "3",
         "False"
        ]
       ],
       "shape": {
        "columns": 1,
        "rows": 4
       }
      },
      "text/plain": [
       "0    False\n",
       "1    False\n",
       "2     True\n",
       "3    False\n",
       "dtype: bool"
      ]
     },
     "execution_count": 52,
     "metadata": {},
     "output_type": "execute_result"
    }
   ],
   "source": [
    "cat_ordered_series == cat_ordered_series2"
   ]
  },
  {
   "cell_type": "markdown",
   "id": "ec387685",
   "metadata": {},
   "source": [
    "The median does not work on categorical Series, but it can be calculated using the codes.\n"
   ]
  },
  {
   "cell_type": "code",
   "execution_count": 53,
   "id": "b5aad9c4",
   "metadata": {},
   "outputs": [
    {
     "data": {
      "application/vnd.microsoft.datawrangler.viewer.v0+json": {
       "columns": [
        {
         "name": "index",
         "rawType": "int64",
         "type": "integer"
        },
        {
         "name": "0",
         "rawType": "category",
         "type": "unknown"
        }
       ],
       "ref": "4ad18d31-c7ca-454b-80db-e09ff6ad04cf",
       "rows": [
        [
         "0",
         "a"
        ],
        [
         "1",
         "b"
        ],
        [
         "2",
         "c"
        ],
        [
         "3",
         "a"
        ]
       ],
       "shape": {
        "columns": 1,
        "rows": 4
       }
      },
      "text/plain": [
       "0    a\n",
       "1    b\n",
       "2    c\n",
       "3    a\n",
       "dtype: category\n",
       "Categories (4, object): ['b' < 'c' < 'a' < 'd']"
      ]
     },
     "execution_count": 53,
     "metadata": {},
     "output_type": "execute_result"
    }
   ],
   "source": [
    "cat_ordered_series"
   ]
  },
  {
   "cell_type": "code",
   "execution_count": 55,
   "id": "6d0248a4",
   "metadata": {},
   "outputs": [
    {
     "name": "stdout",
     "output_type": "stream",
     "text": [
      "TypeError 'Categorical' with dtype category does not support reduction 'median'\n"
     ]
    }
   ],
   "source": [
    "try:\n",
    "    cat_ordered_series.median()\n",
    "except TypeError as e:\n",
    "    print(\"TypeError\", e)"
   ]
  },
  {
   "cell_type": "code",
   "execution_count": 56,
   "id": "a2be018b",
   "metadata": {},
   "outputs": [
    {
     "data": {
      "text/plain": [
       "np.float64(1.5)"
      ]
     },
     "execution_count": 56,
     "metadata": {},
     "output_type": "execute_result"
    }
   ],
   "source": [
    "cat_ordered_series.cat.codes.median()"
   ]
  },
  {
   "cell_type": "markdown",
   "id": "1eb78c6f",
   "metadata": {},
   "source": [
    "If you want to convert existing data into a categorical type and specify the categories and their order, you can create your own categorical data type with `pd.CategoricalDtype`.  \n",
    "It works the same way as `pd.Categorical`, except that you don’t pass the data.  \n",
    "The newly created data type can then be used in an `astype()` cast.\n"
   ]
  },
  {
   "cell_type": "code",
   "execution_count": 57,
   "id": "f7644b28",
   "metadata": {},
   "outputs": [
    {
     "data": {
      "application/vnd.microsoft.datawrangler.viewer.v0+json": {
       "columns": [
        {
         "name": "index",
         "rawType": "int64",
         "type": "integer"
        },
        {
         "name": "0",
         "rawType": "object",
         "type": "string"
        }
       ],
       "ref": "c7a70fd2-9bec-4c8c-a9e0-d59ad232c7bb",
       "rows": [
        [
         "0",
         "a"
        ],
        [
         "1",
         "b"
        ],
        [
         "2",
         "c"
        ],
        [
         "3",
         "a"
        ]
       ],
       "shape": {
        "columns": 1,
        "rows": 4
       }
      },
      "text/plain": [
       "0    a\n",
       "1    b\n",
       "2    c\n",
       "3    a\n",
       "dtype: object"
      ]
     },
     "execution_count": 57,
     "metadata": {},
     "output_type": "execute_result"
    }
   ],
   "source": [
    "series = pd.Series(['a', 'b', 'c', 'a'])\n",
    "series"
   ]
  },
  {
   "cell_type": "code",
   "execution_count": null,
   "id": "cb66a7a8",
   "metadata": {},
   "outputs": [
    {
     "data": {
      "text/plain": [
       "CategoricalDtype(categories=['b', 'c', 'a'], ordered=True, categories_dtype=object)"
      ]
     },
     "execution_count": 58,
     "metadata": {},
     "output_type": "execute_result"
    }
   ],
   "source": [
    "from pandas.api.types import CategoricalDtype\n",
    "\n",
    "cat_type = CategoricalDtype(categories=['b', 'c', 'a'], ordered=True)\n",
    "cat_type"
   ]
  },
  {
   "cell_type": "code",
   "execution_count": 59,
   "id": "727dbc18",
   "metadata": {},
   "outputs": [
    {
     "data": {
      "application/vnd.microsoft.datawrangler.viewer.v0+json": {
       "columns": [
        {
         "name": "index",
         "rawType": "int64",
         "type": "integer"
        },
        {
         "name": "0",
         "rawType": "category",
         "type": "unknown"
        }
       ],
       "ref": "d3775fc3-1569-403a-b9e2-09d315755fcd",
       "rows": [
        [
         "0",
         "a"
        ],
        [
         "1",
         "b"
        ],
        [
         "2",
         "c"
        ],
        [
         "3",
         "a"
        ]
       ],
       "shape": {
        "columns": 1,
        "rows": 4
       }
      },
      "text/plain": [
       "0    a\n",
       "1    b\n",
       "2    c\n",
       "3    a\n",
       "dtype: category\n",
       "Categories (3, object): ['b' < 'c' < 'a']"
      ]
     },
     "execution_count": 59,
     "metadata": {},
     "output_type": "execute_result"
    }
   ],
   "source": [
    "series.astype(cat_type)"
   ]
  },
  {
   "cell_type": "markdown",
   "id": "bc82efdb",
   "metadata": {},
   "source": [
    "Let’s now take a look at a real-world dataset and some discretization techniques.  \n",
    "The Titanic dataset contains features about passengers from the tragic Titanic voyage.  \n",
    "A common introductory machine learning exercise is predicting passenger survival based on these features (see https://www.kaggle.com/c/titanic/data).\n"
   ]
  },
  {
   "cell_type": "code",
   "execution_count": 61,
   "id": "36f36183",
   "metadata": {},
   "outputs": [
    {
     "data": {
      "application/vnd.microsoft.datawrangler.viewer.v0+json": {
       "columns": [
        {
         "name": "index",
         "rawType": "int64",
         "type": "integer"
        },
        {
         "name": "PassengerId",
         "rawType": "int64",
         "type": "integer"
        },
        {
         "name": "Survived",
         "rawType": "int64",
         "type": "integer"
        },
        {
         "name": "Pclass",
         "rawType": "int64",
         "type": "integer"
        },
        {
         "name": "Name",
         "rawType": "object",
         "type": "string"
        },
        {
         "name": "Sex",
         "rawType": "object",
         "type": "string"
        },
        {
         "name": "Age",
         "rawType": "float64",
         "type": "float"
        },
        {
         "name": "SibSp",
         "rawType": "int64",
         "type": "integer"
        },
        {
         "name": "Parch",
         "rawType": "int64",
         "type": "integer"
        },
        {
         "name": "Ticket",
         "rawType": "object",
         "type": "string"
        },
        {
         "name": "Fare",
         "rawType": "float64",
         "type": "float"
        },
        {
         "name": "Cabin",
         "rawType": "object",
         "type": "unknown"
        },
        {
         "name": "Embarked",
         "rawType": "object",
         "type": "string"
        }
       ],
       "ref": "582e61db-2f37-4430-9dbc-3323c201fc4d",
       "rows": [
        [
         "0",
         "1",
         "0",
         "3",
         "Braund, Mr. Owen Harris",
         "male",
         "22.0",
         "1",
         "0",
         "A/5 21171",
         "7.25",
         null,
         "S"
        ],
        [
         "1",
         "2",
         "1",
         "1",
         "Cumings, Mrs. John Bradley (Florence Briggs Thayer)",
         "female",
         "38.0",
         "1",
         "0",
         "PC 17599",
         "71.2833",
         "C85",
         "C"
        ],
        [
         "2",
         "3",
         "1",
         "3",
         "Heikkinen, Miss. Laina",
         "female",
         "26.0",
         "0",
         "0",
         "STON/O2. 3101282",
         "7.925",
         null,
         "S"
        ],
        [
         "3",
         "4",
         "1",
         "1",
         "Futrelle, Mrs. Jacques Heath (Lily May Peel)",
         "female",
         "35.0",
         "1",
         "0",
         "113803",
         "53.1",
         "C123",
         "S"
        ],
        [
         "4",
         "5",
         "0",
         "3",
         "Allen, Mr. William Henry",
         "male",
         "35.0",
         "0",
         "0",
         "373450",
         "8.05",
         null,
         "S"
        ]
       ],
       "shape": {
        "columns": 12,
        "rows": 5
       }
      },
      "text/html": [
       "<div>\n",
       "<style scoped>\n",
       "    .dataframe tbody tr th:only-of-type {\n",
       "        vertical-align: middle;\n",
       "    }\n",
       "\n",
       "    .dataframe tbody tr th {\n",
       "        vertical-align: top;\n",
       "    }\n",
       "\n",
       "    .dataframe thead th {\n",
       "        text-align: right;\n",
       "    }\n",
       "</style>\n",
       "<table border=\"1\" class=\"dataframe\">\n",
       "  <thead>\n",
       "    <tr style=\"text-align: right;\">\n",
       "      <th></th>\n",
       "      <th>PassengerId</th>\n",
       "      <th>Survived</th>\n",
       "      <th>Pclass</th>\n",
       "      <th>Name</th>\n",
       "      <th>Sex</th>\n",
       "      <th>Age</th>\n",
       "      <th>SibSp</th>\n",
       "      <th>Parch</th>\n",
       "      <th>Ticket</th>\n",
       "      <th>Fare</th>\n",
       "      <th>Cabin</th>\n",
       "      <th>Embarked</th>\n",
       "    </tr>\n",
       "  </thead>\n",
       "  <tbody>\n",
       "    <tr>\n",
       "      <th>0</th>\n",
       "      <td>1</td>\n",
       "      <td>0</td>\n",
       "      <td>3</td>\n",
       "      <td>Braund, Mr. Owen Harris</td>\n",
       "      <td>male</td>\n",
       "      <td>22.0</td>\n",
       "      <td>1</td>\n",
       "      <td>0</td>\n",
       "      <td>A/5 21171</td>\n",
       "      <td>7.2500</td>\n",
       "      <td>NaN</td>\n",
       "      <td>S</td>\n",
       "    </tr>\n",
       "    <tr>\n",
       "      <th>1</th>\n",
       "      <td>2</td>\n",
       "      <td>1</td>\n",
       "      <td>1</td>\n",
       "      <td>Cumings, Mrs. John Bradley (Florence Briggs Th...</td>\n",
       "      <td>female</td>\n",
       "      <td>38.0</td>\n",
       "      <td>1</td>\n",
       "      <td>0</td>\n",
       "      <td>PC 17599</td>\n",
       "      <td>71.2833</td>\n",
       "      <td>C85</td>\n",
       "      <td>C</td>\n",
       "    </tr>\n",
       "    <tr>\n",
       "      <th>2</th>\n",
       "      <td>3</td>\n",
       "      <td>1</td>\n",
       "      <td>3</td>\n",
       "      <td>Heikkinen, Miss. Laina</td>\n",
       "      <td>female</td>\n",
       "      <td>26.0</td>\n",
       "      <td>0</td>\n",
       "      <td>0</td>\n",
       "      <td>STON/O2. 3101282</td>\n",
       "      <td>7.9250</td>\n",
       "      <td>NaN</td>\n",
       "      <td>S</td>\n",
       "    </tr>\n",
       "    <tr>\n",
       "      <th>3</th>\n",
       "      <td>4</td>\n",
       "      <td>1</td>\n",
       "      <td>1</td>\n",
       "      <td>Futrelle, Mrs. Jacques Heath (Lily May Peel)</td>\n",
       "      <td>female</td>\n",
       "      <td>35.0</td>\n",
       "      <td>1</td>\n",
       "      <td>0</td>\n",
       "      <td>113803</td>\n",
       "      <td>53.1000</td>\n",
       "      <td>C123</td>\n",
       "      <td>S</td>\n",
       "    </tr>\n",
       "    <tr>\n",
       "      <th>4</th>\n",
       "      <td>5</td>\n",
       "      <td>0</td>\n",
       "      <td>3</td>\n",
       "      <td>Allen, Mr. William Henry</td>\n",
       "      <td>male</td>\n",
       "      <td>35.0</td>\n",
       "      <td>0</td>\n",
       "      <td>0</td>\n",
       "      <td>373450</td>\n",
       "      <td>8.0500</td>\n",
       "      <td>NaN</td>\n",
       "      <td>S</td>\n",
       "    </tr>\n",
       "  </tbody>\n",
       "</table>\n",
       "</div>"
      ],
      "text/plain": [
       "   PassengerId  Survived  Pclass  \\\n",
       "0            1         0       3   \n",
       "1            2         1       1   \n",
       "2            3         1       3   \n",
       "3            4         1       1   \n",
       "4            5         0       3   \n",
       "\n",
       "                                                Name     Sex   Age  SibSp  \\\n",
       "0                            Braund, Mr. Owen Harris    male  22.0      1   \n",
       "1  Cumings, Mrs. John Bradley (Florence Briggs Th...  female  38.0      1   \n",
       "2                             Heikkinen, Miss. Laina  female  26.0      0   \n",
       "3       Futrelle, Mrs. Jacques Heath (Lily May Peel)  female  35.0      1   \n",
       "4                           Allen, Mr. William Henry    male  35.0      0   \n",
       "\n",
       "   Parch            Ticket     Fare Cabin Embarked  \n",
       "0      0         A/5 21171   7.2500   NaN        S  \n",
       "1      0          PC 17599  71.2833   C85        C  \n",
       "2      0  STON/O2. 3101282   7.9250   NaN        S  \n",
       "3      0            113803  53.1000  C123        S  \n",
       "4      0            373450   8.0500   NaN        S  "
      ]
     },
     "execution_count": 61,
     "metadata": {},
     "output_type": "execute_result"
    }
   ],
   "source": [
    "titanic = pd.read_csv('data/preprocessing/titanic.csv')\n",
    "titanic.head()"
   ]
  },
  {
   "cell_type": "code",
   "execution_count": 62,
   "id": "df75ac3f",
   "metadata": {},
   "outputs": [
    {
     "data": {
      "application/vnd.microsoft.datawrangler.viewer.v0+json": {
       "columns": [
        {
         "name": "index",
         "rawType": "object",
         "type": "string"
        },
        {
         "name": "0",
         "rawType": "object",
         "type": "unknown"
        }
       ],
       "ref": "f0d0d8a4-053e-4d3b-99cf-171d74fbe6be",
       "rows": [
        [
         "PassengerId",
         "int64"
        ],
        [
         "Survived",
         "int64"
        ],
        [
         "Pclass",
         "int64"
        ],
        [
         "Name",
         "object"
        ],
        [
         "Sex",
         "object"
        ],
        [
         "Age",
         "float64"
        ],
        [
         "SibSp",
         "int64"
        ],
        [
         "Parch",
         "int64"
        ],
        [
         "Ticket",
         "object"
        ],
        [
         "Fare",
         "float64"
        ],
        [
         "Cabin",
         "object"
        ],
        [
         "Embarked",
         "object"
        ]
       ],
       "shape": {
        "columns": 1,
        "rows": 12
       }
      },
      "text/plain": [
       "PassengerId      int64\n",
       "Survived         int64\n",
       "Pclass           int64\n",
       "Name            object\n",
       "Sex             object\n",
       "Age            float64\n",
       "SibSp            int64\n",
       "Parch            int64\n",
       "Ticket          object\n",
       "Fare           float64\n",
       "Cabin           object\n",
       "Embarked        object\n",
       "dtype: object"
      ]
     },
     "execution_count": 62,
     "metadata": {},
     "output_type": "execute_result"
    }
   ],
   "source": [
    "titanic.dtypes"
   ]
  },
  {
   "cell_type": "markdown",
   "id": "9ac13ed7",
   "metadata": {},
   "source": [
    "We include all columns in the description because \"object\" columns are described differently than \"numeric\" columns and are excluded from the description by default.\n"
   ]
  },
  {
   "cell_type": "code",
   "execution_count": 63,
   "id": "1d850555",
   "metadata": {},
   "outputs": [
    {
     "data": {
      "application/vnd.microsoft.datawrangler.viewer.v0+json": {
       "columns": [
        {
         "name": "index",
         "rawType": "object",
         "type": "string"
        },
        {
         "name": "PassengerId",
         "rawType": "float64",
         "type": "float"
        },
        {
         "name": "Survived",
         "rawType": "float64",
         "type": "float"
        },
        {
         "name": "Pclass",
         "rawType": "float64",
         "type": "float"
        },
        {
         "name": "Name",
         "rawType": "object",
         "type": "unknown"
        },
        {
         "name": "Sex",
         "rawType": "object",
         "type": "unknown"
        },
        {
         "name": "Age",
         "rawType": "float64",
         "type": "float"
        },
        {
         "name": "SibSp",
         "rawType": "float64",
         "type": "float"
        },
        {
         "name": "Parch",
         "rawType": "float64",
         "type": "float"
        },
        {
         "name": "Ticket",
         "rawType": "object",
         "type": "unknown"
        },
        {
         "name": "Fare",
         "rawType": "float64",
         "type": "float"
        },
        {
         "name": "Cabin",
         "rawType": "object",
         "type": "unknown"
        },
        {
         "name": "Embarked",
         "rawType": "object",
         "type": "unknown"
        }
       ],
       "ref": "e5c0b139-8e10-4ffa-b0d1-a0e7ba102946",
       "rows": [
        [
         "count",
         "891.0",
         "891.0",
         "891.0",
         "891",
         "891",
         "714.0",
         "891.0",
         "891.0",
         "891",
         "891.0",
         "204",
         "889"
        ],
        [
         "unique",
         null,
         null,
         null,
         "891",
         "2",
         null,
         null,
         null,
         "681",
         null,
         "147",
         "3"
        ],
        [
         "top",
         null,
         null,
         null,
         "Dooley, Mr. Patrick",
         "male",
         null,
         null,
         null,
         "1601",
         null,
         "G6",
         "S"
        ],
        [
         "freq",
         null,
         null,
         null,
         "1",
         "577",
         null,
         null,
         null,
         "7",
         null,
         "4",
         "644"
        ],
        [
         "mean",
         "446.0",
         "0.3838383838383838",
         "2.308641975308642",
         null,
         null,
         "29.69911764705882",
         "0.5230078563411896",
         "0.38159371492704824",
         null,
         "32.204207968574636",
         null,
         null
        ],
        [
         "std",
         "257.3538420152301",
         "0.4865924542648575",
         "0.836071240977049",
         null,
         null,
         "14.526497332334042",
         "1.1027434322934317",
         "0.8060572211299483",
         null,
         "49.6934285971809",
         null,
         null
        ],
        [
         "min",
         "1.0",
         "0.0",
         "1.0",
         null,
         null,
         "0.42",
         "0.0",
         "0.0",
         null,
         "0.0",
         null,
         null
        ],
        [
         "25%",
         "223.5",
         "0.0",
         "2.0",
         null,
         null,
         "20.125",
         "0.0",
         "0.0",
         null,
         "7.9104",
         null,
         null
        ],
        [
         "50%",
         "446.0",
         "0.0",
         "3.0",
         null,
         null,
         "28.0",
         "0.0",
         "0.0",
         null,
         "14.4542",
         null,
         null
        ],
        [
         "75%",
         "668.5",
         "1.0",
         "3.0",
         null,
         null,
         "38.0",
         "1.0",
         "0.0",
         null,
         "31.0",
         null,
         null
        ],
        [
         "max",
         "891.0",
         "1.0",
         "3.0",
         null,
         null,
         "80.0",
         "8.0",
         "6.0",
         null,
         "512.3292",
         null,
         null
        ]
       ],
       "shape": {
        "columns": 12,
        "rows": 11
       }
      },
      "text/html": [
       "<div>\n",
       "<style scoped>\n",
       "    .dataframe tbody tr th:only-of-type {\n",
       "        vertical-align: middle;\n",
       "    }\n",
       "\n",
       "    .dataframe tbody tr th {\n",
       "        vertical-align: top;\n",
       "    }\n",
       "\n",
       "    .dataframe thead th {\n",
       "        text-align: right;\n",
       "    }\n",
       "</style>\n",
       "<table border=\"1\" class=\"dataframe\">\n",
       "  <thead>\n",
       "    <tr style=\"text-align: right;\">\n",
       "      <th></th>\n",
       "      <th>PassengerId</th>\n",
       "      <th>Survived</th>\n",
       "      <th>Pclass</th>\n",
       "      <th>Name</th>\n",
       "      <th>Sex</th>\n",
       "      <th>Age</th>\n",
       "      <th>SibSp</th>\n",
       "      <th>Parch</th>\n",
       "      <th>Ticket</th>\n",
       "      <th>Fare</th>\n",
       "      <th>Cabin</th>\n",
       "      <th>Embarked</th>\n",
       "    </tr>\n",
       "  </thead>\n",
       "  <tbody>\n",
       "    <tr>\n",
       "      <th>count</th>\n",
       "      <td>891.000000</td>\n",
       "      <td>891.000000</td>\n",
       "      <td>891.000000</td>\n",
       "      <td>891</td>\n",
       "      <td>891</td>\n",
       "      <td>714.000000</td>\n",
       "      <td>891.000000</td>\n",
       "      <td>891.000000</td>\n",
       "      <td>891</td>\n",
       "      <td>891.000000</td>\n",
       "      <td>204</td>\n",
       "      <td>889</td>\n",
       "    </tr>\n",
       "    <tr>\n",
       "      <th>unique</th>\n",
       "      <td>NaN</td>\n",
       "      <td>NaN</td>\n",
       "      <td>NaN</td>\n",
       "      <td>891</td>\n",
       "      <td>2</td>\n",
       "      <td>NaN</td>\n",
       "      <td>NaN</td>\n",
       "      <td>NaN</td>\n",
       "      <td>681</td>\n",
       "      <td>NaN</td>\n",
       "      <td>147</td>\n",
       "      <td>3</td>\n",
       "    </tr>\n",
       "    <tr>\n",
       "      <th>top</th>\n",
       "      <td>NaN</td>\n",
       "      <td>NaN</td>\n",
       "      <td>NaN</td>\n",
       "      <td>Dooley, Mr. Patrick</td>\n",
       "      <td>male</td>\n",
       "      <td>NaN</td>\n",
       "      <td>NaN</td>\n",
       "      <td>NaN</td>\n",
       "      <td>1601</td>\n",
       "      <td>NaN</td>\n",
       "      <td>G6</td>\n",
       "      <td>S</td>\n",
       "    </tr>\n",
       "    <tr>\n",
       "      <th>freq</th>\n",
       "      <td>NaN</td>\n",
       "      <td>NaN</td>\n",
       "      <td>NaN</td>\n",
       "      <td>1</td>\n",
       "      <td>577</td>\n",
       "      <td>NaN</td>\n",
       "      <td>NaN</td>\n",
       "      <td>NaN</td>\n",
       "      <td>7</td>\n",
       "      <td>NaN</td>\n",
       "      <td>4</td>\n",
       "      <td>644</td>\n",
       "    </tr>\n",
       "    <tr>\n",
       "      <th>mean</th>\n",
       "      <td>446.000000</td>\n",
       "      <td>0.383838</td>\n",
       "      <td>2.308642</td>\n",
       "      <td>NaN</td>\n",
       "      <td>NaN</td>\n",
       "      <td>29.699118</td>\n",
       "      <td>0.523008</td>\n",
       "      <td>0.381594</td>\n",
       "      <td>NaN</td>\n",
       "      <td>32.204208</td>\n",
       "      <td>NaN</td>\n",
       "      <td>NaN</td>\n",
       "    </tr>\n",
       "    <tr>\n",
       "      <th>std</th>\n",
       "      <td>257.353842</td>\n",
       "      <td>0.486592</td>\n",
       "      <td>0.836071</td>\n",
       "      <td>NaN</td>\n",
       "      <td>NaN</td>\n",
       "      <td>14.526497</td>\n",
       "      <td>1.102743</td>\n",
       "      <td>0.806057</td>\n",
       "      <td>NaN</td>\n",
       "      <td>49.693429</td>\n",
       "      <td>NaN</td>\n",
       "      <td>NaN</td>\n",
       "    </tr>\n",
       "    <tr>\n",
       "      <th>min</th>\n",
       "      <td>1.000000</td>\n",
       "      <td>0.000000</td>\n",
       "      <td>1.000000</td>\n",
       "      <td>NaN</td>\n",
       "      <td>NaN</td>\n",
       "      <td>0.420000</td>\n",
       "      <td>0.000000</td>\n",
       "      <td>0.000000</td>\n",
       "      <td>NaN</td>\n",
       "      <td>0.000000</td>\n",
       "      <td>NaN</td>\n",
       "      <td>NaN</td>\n",
       "    </tr>\n",
       "    <tr>\n",
       "      <th>25%</th>\n",
       "      <td>223.500000</td>\n",
       "      <td>0.000000</td>\n",
       "      <td>2.000000</td>\n",
       "      <td>NaN</td>\n",
       "      <td>NaN</td>\n",
       "      <td>20.125000</td>\n",
       "      <td>0.000000</td>\n",
       "      <td>0.000000</td>\n",
       "      <td>NaN</td>\n",
       "      <td>7.910400</td>\n",
       "      <td>NaN</td>\n",
       "      <td>NaN</td>\n",
       "    </tr>\n",
       "    <tr>\n",
       "      <th>50%</th>\n",
       "      <td>446.000000</td>\n",
       "      <td>0.000000</td>\n",
       "      <td>3.000000</td>\n",
       "      <td>NaN</td>\n",
       "      <td>NaN</td>\n",
       "      <td>28.000000</td>\n",
       "      <td>0.000000</td>\n",
       "      <td>0.000000</td>\n",
       "      <td>NaN</td>\n",
       "      <td>14.454200</td>\n",
       "      <td>NaN</td>\n",
       "      <td>NaN</td>\n",
       "    </tr>\n",
       "    <tr>\n",
       "      <th>75%</th>\n",
       "      <td>668.500000</td>\n",
       "      <td>1.000000</td>\n",
       "      <td>3.000000</td>\n",
       "      <td>NaN</td>\n",
       "      <td>NaN</td>\n",
       "      <td>38.000000</td>\n",
       "      <td>1.000000</td>\n",
       "      <td>0.000000</td>\n",
       "      <td>NaN</td>\n",
       "      <td>31.000000</td>\n",
       "      <td>NaN</td>\n",
       "      <td>NaN</td>\n",
       "    </tr>\n",
       "    <tr>\n",
       "      <th>max</th>\n",
       "      <td>891.000000</td>\n",
       "      <td>1.000000</td>\n",
       "      <td>3.000000</td>\n",
       "      <td>NaN</td>\n",
       "      <td>NaN</td>\n",
       "      <td>80.000000</td>\n",
       "      <td>8.000000</td>\n",
       "      <td>6.000000</td>\n",
       "      <td>NaN</td>\n",
       "      <td>512.329200</td>\n",
       "      <td>NaN</td>\n",
       "      <td>NaN</td>\n",
       "    </tr>\n",
       "  </tbody>\n",
       "</table>\n",
       "</div>"
      ],
      "text/plain": [
       "        PassengerId    Survived      Pclass                 Name   Sex  \\\n",
       "count    891.000000  891.000000  891.000000                  891   891   \n",
       "unique          NaN         NaN         NaN                  891     2   \n",
       "top             NaN         NaN         NaN  Dooley, Mr. Patrick  male   \n",
       "freq            NaN         NaN         NaN                    1   577   \n",
       "mean     446.000000    0.383838    2.308642                  NaN   NaN   \n",
       "std      257.353842    0.486592    0.836071                  NaN   NaN   \n",
       "min        1.000000    0.000000    1.000000                  NaN   NaN   \n",
       "25%      223.500000    0.000000    2.000000                  NaN   NaN   \n",
       "50%      446.000000    0.000000    3.000000                  NaN   NaN   \n",
       "75%      668.500000    1.000000    3.000000                  NaN   NaN   \n",
       "max      891.000000    1.000000    3.000000                  NaN   NaN   \n",
       "\n",
       "               Age       SibSp       Parch Ticket        Fare Cabin Embarked  \n",
       "count   714.000000  891.000000  891.000000    891  891.000000   204      889  \n",
       "unique         NaN         NaN         NaN    681         NaN   147        3  \n",
       "top            NaN         NaN         NaN   1601         NaN    G6        S  \n",
       "freq           NaN         NaN         NaN      7         NaN     4      644  \n",
       "mean     29.699118    0.523008    0.381594    NaN   32.204208   NaN      NaN  \n",
       "std      14.526497    1.102743    0.806057    NaN   49.693429   NaN      NaN  \n",
       "min       0.420000    0.000000    0.000000    NaN    0.000000   NaN      NaN  \n",
       "25%      20.125000    0.000000    0.000000    NaN    7.910400   NaN      NaN  \n",
       "50%      28.000000    0.000000    0.000000    NaN   14.454200   NaN      NaN  \n",
       "75%      38.000000    1.000000    0.000000    NaN   31.000000   NaN      NaN  \n",
       "max      80.000000    8.000000    6.000000    NaN  512.329200   NaN      NaN  "
      ]
     },
     "execution_count": 63,
     "metadata": {},
     "output_type": "execute_result"
    }
   ],
   "source": [
    "titanic.describe(include='all')"
   ]
  },
  {
   "cell_type": "markdown",
   "id": "9ca43660",
   "metadata": {},
   "source": [
    "Let’s expand the embarkation port to its full name to make things a bit more readable.  \n",
    "For this, we’ll use a simple merge operation (more on this later).\n"
   ]
  },
  {
   "cell_type": "code",
   "execution_count": 80,
   "id": "c5aa742d",
   "metadata": {},
   "outputs": [
    {
     "data": {
      "application/vnd.microsoft.datawrangler.viewer.v0+json": {
       "columns": [
        {
         "name": "index",
         "rawType": "int64",
         "type": "integer"
        },
        {
         "name": "Embarked",
         "rawType": "object",
         "type": "string"
        },
        {
         "name": "EmbarkedLong",
         "rawType": "object",
         "type": "string"
        }
       ],
       "ref": "1f4e813c-34a3-47c6-a8ce-469393ea97a2",
       "rows": [
        [
         "0",
         "C",
         "Cherbourg"
        ],
        [
         "1",
         "Q",
         "Queenstown"
        ],
        [
         "2",
         "S",
         "Southampton"
        ]
       ],
       "shape": {
        "columns": 2,
        "rows": 3
       }
      },
      "text/html": [
       "<div>\n",
       "<style scoped>\n",
       "    .dataframe tbody tr th:only-of-type {\n",
       "        vertical-align: middle;\n",
       "    }\n",
       "\n",
       "    .dataframe tbody tr th {\n",
       "        vertical-align: top;\n",
       "    }\n",
       "\n",
       "    .dataframe thead th {\n",
       "        text-align: right;\n",
       "    }\n",
       "</style>\n",
       "<table border=\"1\" class=\"dataframe\">\n",
       "  <thead>\n",
       "    <tr style=\"text-align: right;\">\n",
       "      <th></th>\n",
       "      <th>Embarked</th>\n",
       "      <th>EmbarkedLong</th>\n",
       "    </tr>\n",
       "  </thead>\n",
       "  <tbody>\n",
       "    <tr>\n",
       "      <th>0</th>\n",
       "      <td>C</td>\n",
       "      <td>Cherbourg</td>\n",
       "    </tr>\n",
       "    <tr>\n",
       "      <th>1</th>\n",
       "      <td>Q</td>\n",
       "      <td>Queenstown</td>\n",
       "    </tr>\n",
       "    <tr>\n",
       "      <th>2</th>\n",
       "      <td>S</td>\n",
       "      <td>Southampton</td>\n",
       "    </tr>\n",
       "  </tbody>\n",
       "</table>\n",
       "</div>"
      ],
      "text/plain": [
       "  Embarked EmbarkedLong\n",
       "0        C    Cherbourg\n",
       "1        Q   Queenstown\n",
       "2        S  Southampton"
      ]
     },
     "execution_count": 80,
     "metadata": {},
     "output_type": "execute_result"
    }
   ],
   "source": [
    "embarked_map = pd.DataFrame({\n",
    "    'Embarked': ['C', 'Q', 'S'],\n",
    "    'EmbarkedLong': ['Cherbourg', 'Queenstown', 'Southampton']\n",
    "})\n",
    "embarked_map"
   ]
  },
  {
   "cell_type": "code",
   "execution_count": 65,
   "id": "1bbd7cbb",
   "metadata": {},
   "outputs": [
    {
     "data": {
      "application/vnd.microsoft.datawrangler.viewer.v0+json": {
       "columns": [
        {
         "name": "index",
         "rawType": "int64",
         "type": "integer"
        },
        {
         "name": "PassengerId",
         "rawType": "int64",
         "type": "integer"
        },
        {
         "name": "Survived",
         "rawType": "int64",
         "type": "integer"
        },
        {
         "name": "Pclass",
         "rawType": "int64",
         "type": "integer"
        },
        {
         "name": "Name",
         "rawType": "object",
         "type": "string"
        },
        {
         "name": "Sex",
         "rawType": "object",
         "type": "string"
        },
        {
         "name": "Age",
         "rawType": "float64",
         "type": "float"
        },
        {
         "name": "SibSp",
         "rawType": "int64",
         "type": "integer"
        },
        {
         "name": "Parch",
         "rawType": "int64",
         "type": "integer"
        },
        {
         "name": "Ticket",
         "rawType": "object",
         "type": "string"
        },
        {
         "name": "Fare",
         "rawType": "float64",
         "type": "float"
        },
        {
         "name": "Cabin",
         "rawType": "object",
         "type": "unknown"
        },
        {
         "name": "Embarked",
         "rawType": "object",
         "type": "string"
        },
        {
         "name": "EmbarkedLong",
         "rawType": "object",
         "type": "string"
        }
       ],
       "ref": "b4ae6059-6286-40af-8f39-b277a2175fd7",
       "rows": [
        [
         "0",
         "1",
         "0",
         "3",
         "Braund, Mr. Owen Harris",
         "male",
         "22.0",
         "1",
         "0",
         "A/5 21171",
         "7.25",
         null,
         "S",
         "Southampton"
        ],
        [
         "1",
         "2",
         "1",
         "1",
         "Cumings, Mrs. John Bradley (Florence Briggs Thayer)",
         "female",
         "38.0",
         "1",
         "0",
         "PC 17599",
         "71.2833",
         "C85",
         "C",
         "Cherbourg"
        ],
        [
         "2",
         "3",
         "1",
         "3",
         "Heikkinen, Miss. Laina",
         "female",
         "26.0",
         "0",
         "0",
         "STON/O2. 3101282",
         "7.925",
         null,
         "S",
         "Southampton"
        ],
        [
         "3",
         "4",
         "1",
         "1",
         "Futrelle, Mrs. Jacques Heath (Lily May Peel)",
         "female",
         "35.0",
         "1",
         "0",
         "113803",
         "53.1",
         "C123",
         "S",
         "Southampton"
        ],
        [
         "4",
         "5",
         "0",
         "3",
         "Allen, Mr. William Henry",
         "male",
         "35.0",
         "0",
         "0",
         "373450",
         "8.05",
         null,
         "S",
         "Southampton"
        ]
       ],
       "shape": {
        "columns": 13,
        "rows": 5
       }
      },
      "text/html": [
       "<div>\n",
       "<style scoped>\n",
       "    .dataframe tbody tr th:only-of-type {\n",
       "        vertical-align: middle;\n",
       "    }\n",
       "\n",
       "    .dataframe tbody tr th {\n",
       "        vertical-align: top;\n",
       "    }\n",
       "\n",
       "    .dataframe thead th {\n",
       "        text-align: right;\n",
       "    }\n",
       "</style>\n",
       "<table border=\"1\" class=\"dataframe\">\n",
       "  <thead>\n",
       "    <tr style=\"text-align: right;\">\n",
       "      <th></th>\n",
       "      <th>PassengerId</th>\n",
       "      <th>Survived</th>\n",
       "      <th>Pclass</th>\n",
       "      <th>Name</th>\n",
       "      <th>Sex</th>\n",
       "      <th>Age</th>\n",
       "      <th>SibSp</th>\n",
       "      <th>Parch</th>\n",
       "      <th>Ticket</th>\n",
       "      <th>Fare</th>\n",
       "      <th>Cabin</th>\n",
       "      <th>Embarked</th>\n",
       "      <th>EmbarkedLong</th>\n",
       "    </tr>\n",
       "  </thead>\n",
       "  <tbody>\n",
       "    <tr>\n",
       "      <th>0</th>\n",
       "      <td>1</td>\n",
       "      <td>0</td>\n",
       "      <td>3</td>\n",
       "      <td>Braund, Mr. Owen Harris</td>\n",
       "      <td>male</td>\n",
       "      <td>22.0</td>\n",
       "      <td>1</td>\n",
       "      <td>0</td>\n",
       "      <td>A/5 21171</td>\n",
       "      <td>7.2500</td>\n",
       "      <td>NaN</td>\n",
       "      <td>S</td>\n",
       "      <td>Southampton</td>\n",
       "    </tr>\n",
       "    <tr>\n",
       "      <th>1</th>\n",
       "      <td>2</td>\n",
       "      <td>1</td>\n",
       "      <td>1</td>\n",
       "      <td>Cumings, Mrs. John Bradley (Florence Briggs Th...</td>\n",
       "      <td>female</td>\n",
       "      <td>38.0</td>\n",
       "      <td>1</td>\n",
       "      <td>0</td>\n",
       "      <td>PC 17599</td>\n",
       "      <td>71.2833</td>\n",
       "      <td>C85</td>\n",
       "      <td>C</td>\n",
       "      <td>Cherbourg</td>\n",
       "    </tr>\n",
       "    <tr>\n",
       "      <th>2</th>\n",
       "      <td>3</td>\n",
       "      <td>1</td>\n",
       "      <td>3</td>\n",
       "      <td>Heikkinen, Miss. Laina</td>\n",
       "      <td>female</td>\n",
       "      <td>26.0</td>\n",
       "      <td>0</td>\n",
       "      <td>0</td>\n",
       "      <td>STON/O2. 3101282</td>\n",
       "      <td>7.9250</td>\n",
       "      <td>NaN</td>\n",
       "      <td>S</td>\n",
       "      <td>Southampton</td>\n",
       "    </tr>\n",
       "    <tr>\n",
       "      <th>3</th>\n",
       "      <td>4</td>\n",
       "      <td>1</td>\n",
       "      <td>1</td>\n",
       "      <td>Futrelle, Mrs. Jacques Heath (Lily May Peel)</td>\n",
       "      <td>female</td>\n",
       "      <td>35.0</td>\n",
       "      <td>1</td>\n",
       "      <td>0</td>\n",
       "      <td>113803</td>\n",
       "      <td>53.1000</td>\n",
       "      <td>C123</td>\n",
       "      <td>S</td>\n",
       "      <td>Southampton</td>\n",
       "    </tr>\n",
       "    <tr>\n",
       "      <th>4</th>\n",
       "      <td>5</td>\n",
       "      <td>0</td>\n",
       "      <td>3</td>\n",
       "      <td>Allen, Mr. William Henry</td>\n",
       "      <td>male</td>\n",
       "      <td>35.0</td>\n",
       "      <td>0</td>\n",
       "      <td>0</td>\n",
       "      <td>373450</td>\n",
       "      <td>8.0500</td>\n",
       "      <td>NaN</td>\n",
       "      <td>S</td>\n",
       "      <td>Southampton</td>\n",
       "    </tr>\n",
       "  </tbody>\n",
       "</table>\n",
       "</div>"
      ],
      "text/plain": [
       "   PassengerId  Survived  Pclass  \\\n",
       "0            1         0       3   \n",
       "1            2         1       1   \n",
       "2            3         1       3   \n",
       "3            4         1       1   \n",
       "4            5         0       3   \n",
       "\n",
       "                                                Name     Sex   Age  SibSp  \\\n",
       "0                            Braund, Mr. Owen Harris    male  22.0      1   \n",
       "1  Cumings, Mrs. John Bradley (Florence Briggs Th...  female  38.0      1   \n",
       "2                             Heikkinen, Miss. Laina  female  26.0      0   \n",
       "3       Futrelle, Mrs. Jacques Heath (Lily May Peel)  female  35.0      1   \n",
       "4                           Allen, Mr. William Henry    male  35.0      0   \n",
       "\n",
       "   Parch            Ticket     Fare Cabin Embarked EmbarkedLong  \n",
       "0      0         A/5 21171   7.2500   NaN        S  Southampton  \n",
       "1      0          PC 17599  71.2833   C85        C    Cherbourg  \n",
       "2      0  STON/O2. 3101282   7.9250   NaN        S  Southampton  \n",
       "3      0            113803  53.1000  C123        S  Southampton  \n",
       "4      0            373450   8.0500   NaN        S  Southampton  "
      ]
     },
     "execution_count": 65,
     "metadata": {},
     "output_type": "execute_result"
    }
   ],
   "source": [
    "titanic = titanic.merge(embarked_map).sort_values(by='PassengerId')\n",
    "titanic.head()"
   ]
  },
  {
   "cell_type": "code",
   "execution_count": 66,
   "id": "a5225f63",
   "metadata": {},
   "outputs": [
    {
     "data": {
      "application/vnd.microsoft.datawrangler.viewer.v0+json": {
       "columns": [
        {
         "name": "index",
         "rawType": "object",
         "type": "string"
        },
        {
         "name": "0",
         "rawType": "object",
         "type": "unknown"
        }
       ],
       "ref": "69c65000-0c11-4de4-a13a-95ac4146921a",
       "rows": [
        [
         "PassengerId",
         "int64"
        ],
        [
         "Survived",
         "int64"
        ],
        [
         "Pclass",
         "int64"
        ],
        [
         "Name",
         "object"
        ],
        [
         "Sex",
         "object"
        ],
        [
         "Age",
         "float64"
        ],
        [
         "SibSp",
         "int64"
        ],
        [
         "Parch",
         "int64"
        ],
        [
         "Ticket",
         "object"
        ],
        [
         "Fare",
         "float64"
        ],
        [
         "Cabin",
         "object"
        ],
        [
         "Embarked",
         "object"
        ],
        [
         "EmbarkedLong",
         "object"
        ]
       ],
       "shape": {
        "columns": 1,
        "rows": 13
       }
      },
      "text/plain": [
       "PassengerId       int64\n",
       "Survived          int64\n",
       "Pclass            int64\n",
       "Name             object\n",
       "Sex              object\n",
       "Age             float64\n",
       "SibSp             int64\n",
       "Parch             int64\n",
       "Ticket           object\n",
       "Fare            float64\n",
       "Cabin            object\n",
       "Embarked         object\n",
       "EmbarkedLong     object\n",
       "dtype: object"
      ]
     },
     "execution_count": 66,
     "metadata": {},
     "output_type": "execute_result"
    }
   ],
   "source": [
    "titanic.dtypes"
   ]
  },
  {
   "cell_type": "markdown",
   "id": "6ee7ba3a",
   "metadata": {},
   "source": [
    "Since the \"EmbarkedLong\" column has only three distinct values, it makes sense to represent it with categories.\n"
   ]
  },
  {
   "cell_type": "code",
   "execution_count": 67,
   "id": "0c300841",
   "metadata": {},
   "outputs": [
    {
     "data": {
      "text/plain": [
       "array(['Southampton', 'Cherbourg', 'Queenstown'], dtype=object)"
      ]
     },
     "execution_count": 67,
     "metadata": {},
     "output_type": "execute_result"
    }
   ],
   "source": [
    "titanic['EmbarkedLong'].unique()"
   ]
  },
  {
   "cell_type": "code",
   "execution_count": 68,
   "id": "1663b70c",
   "metadata": {},
   "outputs": [
    {
     "data": {
      "application/vnd.microsoft.datawrangler.viewer.v0+json": {
       "columns": [
        {
         "name": "index",
         "rawType": "int64",
         "type": "integer"
        },
        {
         "name": "EmbarkedLong",
         "rawType": "category",
         "type": "unknown"
        }
       ],
       "ref": "537b7cde-3383-4e07-bc5f-a4290b63dd29",
       "rows": [
        [
         "0",
         "Southampton"
        ],
        [
         "1",
         "Cherbourg"
        ],
        [
         "2",
         "Southampton"
        ],
        [
         "3",
         "Southampton"
        ],
        [
         "4",
         "Southampton"
        ]
       ],
       "shape": {
        "columns": 1,
        "rows": 5
       }
      },
      "text/plain": [
       "0    Southampton\n",
       "1      Cherbourg\n",
       "2    Southampton\n",
       "3    Southampton\n",
       "4    Southampton\n",
       "Name: EmbarkedLong, dtype: category\n",
       "Categories (3, object): ['Cherbourg', 'Queenstown', 'Southampton']"
      ]
     },
     "execution_count": 68,
     "metadata": {},
     "output_type": "execute_result"
    }
   ],
   "source": [
    "titanic['EmbarkedLong'] = titanic['EmbarkedLong'].astype('category')\n",
    "titanic['EmbarkedLong'].head()"
   ]
  },
  {
   "cell_type": "code",
   "execution_count": 69,
   "id": "c34096d7",
   "metadata": {},
   "outputs": [
    {
     "data": {
      "application/vnd.microsoft.datawrangler.viewer.v0+json": {
       "columns": [
        {
         "name": "index",
         "rawType": "object",
         "type": "string"
        },
        {
         "name": "0",
         "rawType": "object",
         "type": "unknown"
        }
       ],
       "ref": "f70f7b68-acbd-4fb0-936b-5489d8ebdde9",
       "rows": [
        [
         "PassengerId",
         "int64"
        ],
        [
         "Survived",
         "int64"
        ],
        [
         "Pclass",
         "int64"
        ],
        [
         "Name",
         "object"
        ],
        [
         "Sex",
         "object"
        ],
        [
         "Age",
         "float64"
        ],
        [
         "SibSp",
         "int64"
        ],
        [
         "Parch",
         "int64"
        ],
        [
         "Ticket",
         "object"
        ],
        [
         "Fare",
         "float64"
        ],
        [
         "Cabin",
         "object"
        ],
        [
         "Embarked",
         "object"
        ],
        [
         "EmbarkedLong",
         "category"
        ]
       ],
       "shape": {
        "columns": 1,
        "rows": 13
       }
      },
      "text/plain": [
       "PassengerId        int64\n",
       "Survived           int64\n",
       "Pclass             int64\n",
       "Name              object\n",
       "Sex               object\n",
       "Age              float64\n",
       "SibSp              int64\n",
       "Parch              int64\n",
       "Ticket            object\n",
       "Fare             float64\n",
       "Cabin             object\n",
       "Embarked          object\n",
       "EmbarkedLong    category\n",
       "dtype: object"
      ]
     },
     "execution_count": 69,
     "metadata": {},
     "output_type": "execute_result"
    }
   ],
   "source": [
    "titanic.dtypes"
   ]
  },
  {
   "cell_type": "markdown",
   "id": "1f479a70",
   "metadata": {},
   "source": [
    "The description for a categorical column is the same as for an `object` column.\n"
   ]
  },
  {
   "cell_type": "code",
   "execution_count": 70,
   "id": "0684c3e7",
   "metadata": {},
   "outputs": [
    {
     "data": {
      "application/vnd.microsoft.datawrangler.viewer.v0+json": {
       "columns": [
        {
         "name": "index",
         "rawType": "object",
         "type": "string"
        },
        {
         "name": "EmbarkedLong",
         "rawType": "object",
         "type": "unknown"
        }
       ],
       "ref": "7f318a65-3d2f-4776-96c6-f4192286b1a3",
       "rows": [
        [
         "count",
         "889"
        ],
        [
         "unique",
         "3"
        ],
        [
         "top",
         "Southampton"
        ],
        [
         "freq",
         "644"
        ]
       ],
       "shape": {
        "columns": 1,
        "rows": 4
       }
      },
      "text/plain": [
       "count             889\n",
       "unique              3\n",
       "top       Southampton\n",
       "freq              644\n",
       "Name: EmbarkedLong, dtype: object"
      ]
     },
     "execution_count": 70,
     "metadata": {},
     "output_type": "execute_result"
    }
   ],
   "source": [
    "titanic['EmbarkedLong'].describe()"
   ]
  },
  {
   "cell_type": "markdown",
   "id": "d477ac83",
   "metadata": {},
   "source": [
    "## Discretizing Continuous Values (Tiling)\n",
    "\n",
    "Sometimes it makes sense to convert numerical data into categorical data.  \n",
    "For example, in some problems, the exact age of a person may not matter—only whether the person is a minor or not.  \n",
    "This conversion process is called *tiling*.\n",
    "\n",
    "https://pandas.pydata.org/pandas-docs/stable/user_guide/basics.html#discretization-and-quantiling\n"
   ]
  },
  {
   "cell_type": "code",
   "execution_count": 71,
   "id": "aa38f920",
   "metadata": {},
   "outputs": [
    {
     "data": {
      "application/vnd.microsoft.datawrangler.viewer.v0+json": {
       "columns": [
        {
         "name": "index",
         "rawType": "object",
         "type": "string"
        },
        {
         "name": "Age",
         "rawType": "float64",
         "type": "float"
        }
       ],
       "ref": "2ea11713-515d-4d50-b4bf-4487b85821f3",
       "rows": [
        [
         "count",
         "712.0"
        ],
        [
         "mean",
         "29.64209269662921"
        ],
        [
         "std",
         "14.49293290032352"
        ],
        [
         "min",
         "0.42"
        ],
        [
         "25%",
         "20.0"
        ],
        [
         "50%",
         "28.0"
        ],
        [
         "75%",
         "38.0"
        ],
        [
         "max",
         "80.0"
        ]
       ],
       "shape": {
        "columns": 1,
        "rows": 8
       }
      },
      "text/plain": [
       "count    712.000000\n",
       "mean      29.642093\n",
       "std       14.492933\n",
       "min        0.420000\n",
       "25%       20.000000\n",
       "50%       28.000000\n",
       "75%       38.000000\n",
       "max       80.000000\n",
       "Name: Age, dtype: float64"
      ]
     },
     "execution_count": 71,
     "metadata": {},
     "output_type": "execute_result"
    }
   ],
   "source": [
    "titanic['Age'].describe()"
   ]
  },
  {
   "cell_type": "markdown",
   "id": "fc6e5c05",
   "metadata": {},
   "source": [
    "With `cut`, we can discretize numerical values.\n"
   ]
  },
  {
   "cell_type": "code",
   "execution_count": 72,
   "id": "36fbaa7e",
   "metadata": {},
   "outputs": [
    {
     "data": {
      "application/vnd.microsoft.datawrangler.viewer.v0+json": {
       "columns": [
        {
         "name": "index",
         "rawType": "int64",
         "type": "integer"
        },
        {
         "name": "Age",
         "rawType": "float64",
         "type": "float"
        }
       ],
       "ref": "25362482-cf43-4f34-b092-304663476e03",
       "rows": [
        [
         "0",
         "22.0"
        ],
        [
         "1",
         "38.0"
        ],
        [
         "2",
         "26.0"
        ],
        [
         "3",
         "35.0"
        ],
        [
         "4",
         "35.0"
        ],
        [
         "5",
         null
        ],
        [
         "6",
         "54.0"
        ]
       ],
       "shape": {
        "columns": 1,
        "rows": 7
       }
      },
      "text/plain": [
       "0    22.0\n",
       "1    38.0\n",
       "2    26.0\n",
       "3    35.0\n",
       "4    35.0\n",
       "5     NaN\n",
       "6    54.0\n",
       "Name: Age, dtype: float64"
      ]
     },
     "execution_count": 72,
     "metadata": {},
     "output_type": "execute_result"
    }
   ],
   "source": [
    "titanic['Age'].head(7)"
   ]
  },
  {
   "cell_type": "code",
   "execution_count": 73,
   "id": "0bd25776",
   "metadata": {},
   "outputs": [
    {
     "data": {
      "application/vnd.microsoft.datawrangler.viewer.v0+json": {
       "columns": [
        {
         "name": "index",
         "rawType": "int64",
         "type": "integer"
        },
        {
         "name": "Age",
         "rawType": "category",
         "type": "unknown"
        }
       ],
       "ref": "bb24a268-ea5f-4256-9e1b-6bdec845cb47",
       "rows": [
        [
         "0",
         "(0.34, 26.947]"
        ],
        [
         "1",
         "(26.947, 53.473]"
        ],
        [
         "2",
         "(0.34, 26.947]"
        ],
        [
         "3",
         "(26.947, 53.473]"
        ],
        [
         "4",
         "(26.947, 53.473]"
        ],
        [
         "5",
         null
        ],
        [
         "6",
         "(53.473, 80.0]"
        ]
       ],
       "shape": {
        "columns": 1,
        "rows": 7
       }
      },
      "text/plain": [
       "0      (0.34, 26.947]\n",
       "1    (26.947, 53.473]\n",
       "2      (0.34, 26.947]\n",
       "3    (26.947, 53.473]\n",
       "4    (26.947, 53.473]\n",
       "5                 NaN\n",
       "6      (53.473, 80.0]\n",
       "Name: Age, dtype: category\n",
       "Categories (3, interval[float64, right]): [(0.34, 26.947] < (26.947, 53.473] < (53.473, 80.0]]"
      ]
     },
     "execution_count": 73,
     "metadata": {},
     "output_type": "execute_result"
    }
   ],
   "source": [
    "pd.cut(titanic['Age'], bins=3).head(7)"
   ]
  },
  {
   "cell_type": "markdown",
   "id": "827ee666",
   "metadata": {},
   "source": [
    "By default, `cut()` divides the data into equal-sized intervals.  \n",
    "Since this is rarely meaningful, we can instead define the bin edges ourselves.\n"
   ]
  },
  {
   "cell_type": "code",
   "execution_count": 74,
   "id": "313e912a",
   "metadata": {},
   "outputs": [
    {
     "data": {
      "application/vnd.microsoft.datawrangler.viewer.v0+json": {
       "columns": [
        {
         "name": "index",
         "rawType": "int64",
         "type": "integer"
        },
        {
         "name": "Age",
         "rawType": "category",
         "type": "unknown"
        }
       ],
       "ref": "20a9536a-80d1-4375-a141-cddf13c1bb63",
       "rows": [
        [
         "0",
         "(17.0, 67.0]"
        ],
        [
         "1",
         "(17.0, 67.0]"
        ],
        [
         "2",
         "(17.0, 67.0]"
        ],
        [
         "3",
         "(17.0, 67.0]"
        ],
        [
         "4",
         "(17.0, 67.0]"
        ],
        [
         "5",
         null
        ],
        [
         "6",
         "(17.0, 67.0]"
        ]
       ],
       "shape": {
        "columns": 1,
        "rows": 7
       }
      },
      "text/plain": [
       "0    (17.0, 67.0]\n",
       "1    (17.0, 67.0]\n",
       "2    (17.0, 67.0]\n",
       "3    (17.0, 67.0]\n",
       "4    (17.0, 67.0]\n",
       "5             NaN\n",
       "6    (17.0, 67.0]\n",
       "Name: Age, dtype: category\n",
       "Categories (3, interval[float64, right]): [(-0.001, 17.0] < (17.0, 67.0] < (67.0, 80.0]]"
      ]
     },
     "execution_count": 74,
     "metadata": {},
     "output_type": "execute_result"
    }
   ],
   "source": [
    "pd.cut(titanic['Age'], bins=[0, 17, 67, 80], include_lowest=True).head(7)"
   ]
  },
  {
   "cell_type": "code",
   "execution_count": 75,
   "id": "374012fa",
   "metadata": {},
   "outputs": [
    {
     "data": {
      "application/vnd.microsoft.datawrangler.viewer.v0+json": {
       "columns": [
        {
         "name": "Age",
         "rawType": "category",
         "type": "unknown"
        },
        {
         "name": "count",
         "rawType": "int64",
         "type": "integer"
        }
       ],
       "ref": "5499fe87-72ee-481e-807c-1b2b0fc72eaa",
       "rows": [
        [
         "(17, 67]",
         "592"
        ],
        [
         "(0, 17]",
         "113"
        ],
        [
         "(67, 80]",
         "7"
        ]
       ],
       "shape": {
        "columns": 1,
        "rows": 3
       }
      },
      "text/plain": [
       "Age\n",
       "(17, 67]    592\n",
       "(0, 17]     113\n",
       "(67, 80]      7\n",
       "Name: count, dtype: int64"
      ]
     },
     "execution_count": 75,
     "metadata": {},
     "output_type": "execute_result"
    }
   ],
   "source": [
    "pd.cut(titanic['Age'], bins=[0, 17, 67, 80]).value_counts()"
   ]
  },
  {
   "cell_type": "markdown",
   "id": "fa937c90",
   "metadata": {},
   "source": [
    "When setting the bin edges manually, make sure to cover the entire range,  \n",
    "since values that do not fall into an interval will be set to NA.\n"
   ]
  },
  {
   "cell_type": "code",
   "execution_count": null,
   "id": "3ba93cb0",
   "metadata": {},
   "outputs": [
    {
     "data": {
      "application/vnd.microsoft.datawrangler.viewer.v0+json": {
       "columns": [
        {
         "name": "index",
         "rawType": "int64",
         "type": "integer"
        },
        {
         "name": "Age",
         "rawType": "category",
         "type": "unknown"
        }
       ],
       "ref": "0990698a-f8d8-4e29-a47e-1886241b3a58",
       "rows": [
        [
         "0",
         null
        ],
        [
         "1",
         null
        ],
        [
         "2",
         null
        ],
        [
         "3",
         null
        ],
        [
         "4",
         null
        ],
        [
         "5",
         null
        ],
        [
         "6",
         null
        ]
       ],
       "shape": {
        "columns": 1,
        "rows": 7
       }
      },
      "text/plain": [
       "0    NaN\n",
       "1    NaN\n",
       "2    NaN\n",
       "3    NaN\n",
       "4    NaN\n",
       "5    NaN\n",
       "6    NaN\n",
       "Name: Age, dtype: category\n",
       "Categories (3, object): ['child' < 'grown-up' < 'senior']"
      ]
     },
     "execution_count": 76,
     "metadata": {},
     "output_type": "execute_result"
    }
   ],
   "source": [
    "pd.cut(\n",
    "    titanic['Age'], \n",
    "    bins=[64, 66, 67, 80],\n",
    "    labels=['child', 'grown-up', 'senior']\n",
    ").head(7)"
   ]
  },
  {
   "cell_type": "code",
   "execution_count": 77,
   "id": "02343a25",
   "metadata": {},
   "outputs": [
    {
     "data": {
      "application/vnd.microsoft.datawrangler.viewer.v0+json": {
       "columns": [
        {
         "name": "index",
         "rawType": "int64",
         "type": "integer"
        },
        {
         "name": "Age_coarse",
         "rawType": "category",
         "type": "unknown"
        }
       ],
       "ref": "8198d876-ef77-476b-ad49-ac6f76b6fc48",
       "rows": [
        [
         "0",
         "grown-up"
        ],
        [
         "1",
         "grown-up"
        ],
        [
         "2",
         "grown-up"
        ],
        [
         "3",
         "grown-up"
        ],
        [
         "4",
         "grown-up"
        ],
        [
         "5",
         null
        ],
        [
         "6",
         "grown-up"
        ],
        [
         "7",
         "child"
        ],
        [
         "8",
         "grown-up"
        ],
        [
         "9",
         "child"
        ],
        [
         "10",
         "child"
        ],
        [
         "11",
         "grown-up"
        ],
        [
         "12",
         "grown-up"
        ],
        [
         "13",
         "grown-up"
        ],
        [
         "14",
         "child"
        ],
        [
         "15",
         "grown-up"
        ],
        [
         "16",
         "child"
        ],
        [
         "17",
         null
        ],
        [
         "18",
         "grown-up"
        ],
        [
         "19",
         null
        ],
        [
         "20",
         "grown-up"
        ],
        [
         "21",
         "grown-up"
        ],
        [
         "22",
         "child"
        ],
        [
         "23",
         "grown-up"
        ],
        [
         "24",
         "child"
        ],
        [
         "25",
         "grown-up"
        ],
        [
         "26",
         null
        ],
        [
         "27",
         "grown-up"
        ],
        [
         "28",
         null
        ],
        [
         "29",
         null
        ],
        [
         "30",
         "grown-up"
        ],
        [
         "31",
         null
        ],
        [
         "32",
         null
        ],
        [
         "33",
         "grown-up"
        ],
        [
         "34",
         "grown-up"
        ],
        [
         "35",
         "grown-up"
        ],
        [
         "36",
         null
        ],
        [
         "37",
         "grown-up"
        ],
        [
         "38",
         "grown-up"
        ],
        [
         "39",
         "child"
        ],
        [
         "40",
         "grown-up"
        ],
        [
         "41",
         "grown-up"
        ],
        [
         "42",
         null
        ],
        [
         "43",
         "child"
        ],
        [
         "44",
         "grown-up"
        ],
        [
         "45",
         null
        ],
        [
         "46",
         null
        ],
        [
         "47",
         null
        ],
        [
         "48",
         null
        ],
        [
         "49",
         "grown-up"
        ]
       ],
       "shape": {
        "columns": 1,
        "rows": 889
       }
      },
      "text/plain": [
       "0      grown-up\n",
       "1      grown-up\n",
       "2      grown-up\n",
       "3      grown-up\n",
       "4      grown-up\n",
       "         ...   \n",
       "884    grown-up\n",
       "885    grown-up\n",
       "886         NaN\n",
       "887    grown-up\n",
       "888    grown-up\n",
       "Name: Age_coarse, Length: 889, dtype: category\n",
       "Categories (3, object): ['child' < 'grown-up' < 'senior']"
      ]
     },
     "execution_count": 77,
     "metadata": {},
     "output_type": "execute_result"
    }
   ],
   "source": [
    "titanic['Age_coarse'] = pd.cut(titanic['Age'], bins=[0, 17, 67, 80], labels=['child', 'grown-up', 'senior'])\n",
    "titanic['Age_coarse']"
   ]
  },
  {
   "cell_type": "markdown",
   "id": "09b9c4b1",
   "metadata": {},
   "source": [
    "Eine verwandte Funktion ist `qcut()`, die an Quantilen schneidet."
   ]
  },
  {
   "cell_type": "code",
   "execution_count": 78,
   "id": "41ab80c8",
   "metadata": {},
   "outputs": [
    {
     "data": {
      "application/vnd.microsoft.datawrangler.viewer.v0+json": {
       "columns": [
        {
         "name": "index",
         "rawType": "int64",
         "type": "integer"
        },
        {
         "name": "Age",
         "rawType": "category",
         "type": "unknown"
        }
       ],
       "ref": "15e8abdf-9fb8-4808-a5a4-ea4bf4bbdef3",
       "rows": [
        [
         "0",
         "(20.0, 28.0]"
        ],
        [
         "1",
         "(28.0, 38.0]"
        ],
        [
         "2",
         "(20.0, 28.0]"
        ],
        [
         "3",
         "(28.0, 38.0]"
        ],
        [
         "4",
         "(28.0, 38.0]"
        ]
       ],
       "shape": {
        "columns": 1,
        "rows": 5
       }
      },
      "text/plain": [
       "0    (20.0, 28.0]\n",
       "1    (28.0, 38.0]\n",
       "2    (20.0, 28.0]\n",
       "3    (28.0, 38.0]\n",
       "4    (28.0, 38.0]\n",
       "Name: Age, dtype: category\n",
       "Categories (4, interval[float64, right]): [(0.419, 20.0] < (20.0, 28.0] < (28.0, 38.0] < (38.0, 80.0]]"
      ]
     },
     "execution_count": 78,
     "metadata": {},
     "output_type": "execute_result"
    }
   ],
   "source": [
    "pd.qcut(titanic['Age'], 4).head()"
   ]
  },
  {
   "cell_type": "markdown",
   "id": "b17bfdc9",
   "metadata": {},
   "source": [
    "---\n",
    "\n",
    "Lecture: AI I - Basics \n",
    "\n",
    "Exercise: [**Exercise 3.5: Preprocessing with Pandas**](../03_data/exercises/05_preprocessing.ipynb)\n",
    "\n",
    "Next: [**Chapter 3.6: Additional Libraries and Tools**](../03_data/06_additionals.ipynb)"
   ]
  }
 ],
 "metadata": {
  "kernelspec": {
   "display_name": "ai-lecture",
   "language": "python",
   "name": "python3"
  },
  "language_info": {
   "codemirror_mode": {
    "name": "ipython",
    "version": 3
   },
   "file_extension": ".py",
   "mimetype": "text/x-python",
   "name": "python",
   "nbconvert_exporter": "python",
   "pygments_lexer": "ipython3",
   "version": "3.12.11"
  }
 },
 "nbformat": 4,
 "nbformat_minor": 5
}

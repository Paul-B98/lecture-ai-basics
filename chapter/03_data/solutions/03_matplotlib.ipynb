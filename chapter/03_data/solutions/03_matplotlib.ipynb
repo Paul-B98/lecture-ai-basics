{
 "cells": [
  {
   "cell_type": "markdown",
   "id": "f7360f2d",
   "metadata": {},
   "source": [
    "Lecture: AI I - Basics \n",
    "\n",
    "Previous:\n",
    "[**Chapter 3.3: Visualisation with Matplotlib**](../03_matplotlib.ipynb)\n",
    "\n",
    "---"
   ]
  },
  {
   "cell_type": "markdown",
   "id": "8bf4ad77",
   "metadata": {},
   "source": [
    "# Solution 3.3: Visualisation with Matplotlib\n",
    "\n"
   ]
  },
  {
   "cell_type": "markdown",
   "id": "f8f5d51b",
   "metadata": {},
   "source": [
    "---\n",
    "\n",
    "Lecture: AI I - Basics \n",
    "\n",
    "Next: [**Chapter 3.4: Visualisation with Seaborn**]()"
   ]
  }
 ],
 "metadata": {
  "language_info": {
   "name": "python"
  }
 },
 "nbformat": 4,
 "nbformat_minor": 5
}

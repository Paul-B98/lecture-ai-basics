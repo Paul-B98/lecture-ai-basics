{
 "cells": [
  {
   "cell_type": "markdown",
   "id": "60ad15d9",
   "metadata": {},
   "source": [
    "Lecture: AI I - Basics \n",
    "\n",
    "Previous:\n",
    "[**Chapter 3.4: Visualisation with Seaborn**](../04_seaborn.ipynb)\n",
    "\n",
    "---"
   ]
  },
  {
   "cell_type": "markdown",
   "id": "7304b019",
   "metadata": {},
   "source": [
    "# Solution 3.4: Visualisation with Seaborn\n"
   ]
  },
  {
   "cell_type": "markdown",
   "id": "37e248ed",
   "metadata": {},
   "source": [
    "---\n",
    "\n",
    "Lecture: AI I - Basics \n",
    "\n",
    "Next: [**Chapter 3.5: Preprocessing with Pandas**](../03_data/05_preprocessing.ipynb)"
   ]
  }
 ],
 "metadata": {
  "language_info": {
   "name": "python"
  }
 },
 "nbformat": 4,
 "nbformat_minor": 5
}

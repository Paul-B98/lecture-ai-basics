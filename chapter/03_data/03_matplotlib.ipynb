{
 "cells": [
  {
   "cell_type": "markdown",
   "id": "f7360f2d",
   "metadata": {},
   "source": [
    "Lecture: AI I - Basics \n",
    "\n",
    "Previous:\n",
    "[**Chapter 3.2: Pandas**](../03_data/03_matplotlib.ipynb)\n",
    "\n",
    "---"
   ]
  },
  {
   "cell_type": "markdown",
   "id": "8bf4ad77",
   "metadata": {},
   "source": [
    "# Chapter 3.3: Visualisation with Matplotlib\n",
    "\n",
    "- [](#)\n",
    "\n",
    "## Matplotlib\n",
    "\n",
    "[Matplotlib](https://matplotlib.org/stable/users/index.html) is the most widely used Python library for creating static, animated, and interactive visualizations. It provides a flexible plotting system inspired by MATLAB, allowing you to generate simple line charts as well as highly customized scientific figures. Many higher-level libraries, such as seaborn and pandas plotting, are built on top of Matplotlib, making it the cornerstone of the Python visualization ecosystem.\n",
    "\n",
    "## Gallery\n",
    "\n",
    "following the link below to explore a wide range of examples showcasing the capabilities of Matplotlib:"
   ]
  },
  {
   "cell_type": "code",
   "execution_count": 3,
   "id": "c249cfa4",
   "metadata": {},
   "outputs": [
    {
     "data": {
      "text/html": [
       "\n",
       "        <iframe\n",
       "            width=\"100%\"\n",
       "            height=\"750\"\n",
       "            src=\"https://matplotlib.org/stable/gallery/index\"\n",
       "            frameborder=\"0\"\n",
       "            allowfullscreen\n",
       "            \n",
       "        ></iframe>\n",
       "        "
      ],
      "text/plain": [
       "<IPython.lib.display.IFrame at 0x7bc81f542c90>"
      ]
     },
     "execution_count": 3,
     "metadata": {},
     "output_type": "execute_result"
    }
   ],
   "source": [
    "from IPython.display import IFrame\n",
    "\n",
    "IFrame(\n",
    "    \"https://matplotlib.org/stable/gallery/index\",\n",
    "    width=\"100%\",\n",
    "    height=750,\n",
    ")"
   ]
  },
  {
   "cell_type": "markdown",
   "id": "a75a9399",
   "metadata": {},
   "source": [
    "## Jupyter Backend\n",
    "\n",
    "In Jupyter Notebooks, the special command `%matplotlib inline` is a magic function that changes how Matplotlib displays plots. Instead of opening plots in a separate interactive window, this directive makes sure that all plots are rendered directly inside the notebook cells."
   ]
  },
  {
   "cell_type": "code",
   "execution_count": 4,
   "id": "8b91ba39",
   "metadata": {},
   "outputs": [],
   "source": [
    "%matplotlib inline"
   ]
  },
  {
   "cell_type": "markdown",
   "id": "d7fde248",
   "metadata": {},
   "source": [
    "## Import Convention\n",
    "\n",
    "When working with Matplotlib, the widely accepted convention is to import the `pyplot` [module](https://matplotlib.org/stable/api/pyplot_summary.html) under the alias `plt`:\n",
    "\n",
    "```python\n",
    "import matplotlib.pyplot as plt\n",
    "```"
   ]
  },
  {
   "cell_type": "code",
   "execution_count": 5,
   "id": "e06b7a50",
   "metadata": {},
   "outputs": [],
   "source": [
    "import matplotlib.pyplot as plt"
   ]
  },
  {
   "cell_type": "markdown",
   "id": "77fb8af2",
   "metadata": {},
   "source": [
    "## Plot Structure\n",
    "\n",
    "A typical Matplotlib plot consists of the following components:\n",
    "* **Figure**: The entire window or page that will contain the plot(s).\n",
    "* **Subplots and Axes**: Subplots are individual plots within the figure, arranged in a grid. Each subplot contains its own set of axes.\n",
    "* **Axis**: The area where data is plotted, including the x and y axes.\n",
    "* **Artists**: The visual elements of the plot, such as lines, markers, and text.\n",
    "* **Legend and Annotations**: The legend explains the symbols or colors used in the plot, while annotations provide additional context or information about specific points.\n",
    "\n",
    "### Figure\n",
    "\n",
    "The [Figure](https://matplotlib.org/stable/api/figure_api.html) is the overall container that holds everything in a plot. Think of it as the “canvas” on which all subplots, axes, and labels are drawn. A single script can create multiple figures, each independent of the others.\n",
    "`figsize` sets the width and height in inches."
   ]
  },
  {
   "cell_type": "code",
   "execution_count": null,
   "id": "e2408866",
   "metadata": {},
   "outputs": [
    {
     "data": {
      "text/plain": [
       "<Figure size 1000x1000 with 0 Axes>"
      ]
     },
     "metadata": {},
     "output_type": "display_data"
    }
   ],
   "source": [
    "fig = plt.figure(figsize=(5, 5))"
   ]
  },
  {
   "cell_type": "markdown",
   "id": "49d3b81e",
   "metadata": {},
   "source": [
    "To show the plot we need to call the `.show()` method on the figure object or `plt.show()`."
   ]
  },
  {
   "cell_type": "code",
   "execution_count": null,
   "id": "3df0c6f9",
   "metadata": {},
   "outputs": [
    {
     "name": "stderr",
     "output_type": "stream",
     "text": [
      "/tmp/ipykernel_12486/329384174.py:2: UserWarning: FigureCanvasAgg is non-interactive, and thus cannot be shown\n",
      "  fig.show()\n"
     ]
    },
    {
     "data": {
      "text/plain": [
       "<Figure size 1000x1000 with 0 Axes>"
      ]
     },
     "metadata": {},
     "output_type": "display_data"
    }
   ],
   "source": [
    "fig = plt.figure(figsize=(5, 5))\n",
    "fig.show()"
   ]
  },
  {
   "cell_type": "markdown",
   "id": "fe7ad1f8",
   "metadata": {},
   "source": [
    "To show an empty figure, we need to add a subplot to it."
   ]
  },
  {
   "cell_type": "code",
   "execution_count": 23,
   "id": "b9bdd796",
   "metadata": {},
   "outputs": [
    {
     "name": "stderr",
     "output_type": "stream",
     "text": [
      "/tmp/ipykernel_12486/4084723797.py:3: UserWarning: FigureCanvasAgg is non-interactive, and thus cannot be shown\n",
      "  fig.show()\n"
     ]
    },
    {
     "data": {
      "image/png": "[encoded data removed]",
      "text/plain": [
       "<Figure size 500x500 with 1 Axes>"
      ]
     },
     "metadata": {},
     "output_type": "display_data"
    }
   ],
   "source": [
    "fig = plt.figure(figsize=(5, 5))\n",
    "ax = fig.add_subplot(111)\n",
    "fig.show()"
   ]
  },
  {
   "cell_type": "markdown",
   "id": "d759468e",
   "metadata": {},
   "source": [
    "### Subplots and Axes\n",
    "\n",
    "Inside a figure, you can create subplots, which are grids of smaller plots. Each subplot is represented by an Axes object.\n",
    "- Axes (plural: Axes) are the actual plots where your data lives.\n",
    "- Each [Axes](https://matplotlib.org/stable/api/axes_api.html) has its own x-axis, y-axis, and labels.\n",
    "- The `plt.subplots()` function is the most common way to create them.\n",
    "\n",
    "> **Note**: We'll take another look at this later."
   ]
  },
  {
   "cell_type": "code",
   "execution_count": 24,
   "id": "b69c71af",
   "metadata": {},
   "outputs": [
    {
     "data": {
      "image/png": "[encoded data removed]",
      "text/plain": [
       "<Figure size 640x480 with 4 Axes>"
      ]
     },
     "metadata": {},
     "output_type": "display_data"
    }
   ],
   "source": [
    "fig, ax = plt.subplots(2, 2)"
   ]
  },
  {
   "cell_type": "markdown",
   "id": "b54e621e",
   "metadata": {},
   "source": [
    "# Axis\n",
    "\n",
    "Each [Axes](https://matplotlib.org/stable/api/axis_api.html) object contains an x-axis and a y-axis, which handle:\n",
    "- Ticks (the small marks along the axis).\n",
    "- Tick labels (numbers or text along the axis).\n",
    "- Gridlines (optional)."
   ]
  },
  {
   "cell_type": "code",
   "execution_count": 25,
   "id": "cee68dde",
   "metadata": {},
   "outputs": [
    {
     "name": "stderr",
     "output_type": "stream",
     "text": [
      "/tmp/ipykernel_12486/1180968291.py:6: UserWarning: FigureCanvasAgg is non-interactive, and thus cannot be shown\n",
      "  fig.show()\n"
     ]
    },
    {
     "data": {
      "image/png": "[encoded data removed]",
      "text/plain": [
       "<Figure size 500x500 with 1 Axes>"
      ]
     },
     "metadata": {},
     "output_type": "display_data"
    }
   ],
   "source": [
    "fig = plt.figure(figsize=(5, 5))\n",
    "ax = fig.add_subplot(111)\n",
    "ax.set_xlabel(\"X Label\")\n",
    "ax.set_ylabel(\"Y Label\")\n",
    "ax.set_title(\"Title\")\n",
    "fig.show()"
   ]
  },
  {
   "cell_type": "markdown",
   "id": "0b2f9c25",
   "metadata": {},
   "source": []
  },
  {
   "cell_type": "code",
   "execution_count": null,
   "id": "653b78e5",
   "metadata": {},
   "outputs": [],
   "source": []
  },
  {
   "cell_type": "markdown",
   "id": "f8f5d51b",
   "metadata": {},
   "source": [
    "---\n",
    "\n",
    "Lecture: AI I - Basics \n",
    "\n",
    "Exercise: [**Exercise 3.3: Visualisation with Matplotlib**](../03_data/exercises/03_matplotlib.ipynb)\n",
    "\n",
    "Next: [**Chapter 3.4: Visualisation with Seaborn**]()"
   ]
  }
 ],
 "metadata": {
  "kernelspec": {
   "display_name": "ai-lecture",
   "language": "python",
   "name": "python3"
  },
  "language_info": {
   "codemirror_mode": {
    "name": "ipython",
    "version": 3
   },
   "file_extension": ".py",
   "mimetype": "text/x-python",
   "name": "python",
   "nbconvert_exporter": "python",
   "pygments_lexer": "ipython3",
   "version": "3.12.11"
  }
 },
 "nbformat": 4,
 "nbformat_minor": 5
}

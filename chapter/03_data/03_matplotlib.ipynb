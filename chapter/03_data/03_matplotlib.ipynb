{
 "cells": [
  {
   "cell_type": "markdown",
   "id": "f7360f2d",
   "metadata": {},
   "source": [
    "Lecture: AI I - Basics \n",
    "\n",
    "Previous:\n",
    "[**Chapter 3.2: Pandas**](../03_data/03_matplotlib.ipynb)\n",
    "\n",
    "---"
   ]
  },
  {
   "cell_type": "markdown",
   "id": "8bf4ad77",
   "metadata": {},
   "source": [
    "# Chapter 3.3: Visualisation with Matplotlib\n",
    "\n",
    "- [](#)\n",
    "\n",
    "## Matplotlib\n",
    "\n",
    "[Matplotlib](https://matplotlib.org/stable/users/index.html) is the most widely used Python library for creating static, animated, and interactive visualizations. It provides a flexible plotting system inspired by MATLAB, allowing you to generate simple line charts as well as highly customized scientific figures. Many higher-level libraries, such as seaborn and pandas plotting, are built on top of Matplotlib, making it the cornerstone of the Python visualization ecosystem.\n",
    "\n",
    "## Gallery\n",
    "\n",
    "following the link below to explore a wide range of examples showcasing the capabilities of Matplotlib:"
   ]
  },
  {
   "cell_type": "code",
   "execution_count": 3,
   "id": "c249cfa4",
   "metadata": {},
   "outputs": [
    {
     "data": {
      "text/html": [
       "\n",
       "        <iframe\n",
       "            width=\"100%\"\n",
       "            height=\"750\"\n",
       "            src=\"https://matplotlib.org/stable/gallery/index\"\n",
       "            frameborder=\"0\"\n",
       "            allowfullscreen\n",
       "            \n",
       "        ></iframe>\n",
       "        "
      ],
      "text/plain": [
       "<IPython.lib.display.IFrame at 0x7bc81f542c90>"
      ]
     },
     "execution_count": 3,
     "metadata": {},
     "output_type": "execute_result"
    }
   ],
   "source": [
    "from IPython.display import IFrame\n",
    "\n",
    "IFrame(\n",
    "    \"https://matplotlib.org/stable/gallery/index\",\n",
    "    width=\"100%\",\n",
    "    height=750,\n",
    ")"
   ]
  },
  {
   "cell_type": "markdown",
   "id": "f8f5d51b",
   "metadata": {},
   "source": [
    "---\n",
    "\n",
    "Lecture: AI I - Basics \n",
    "\n",
    "Exercise: [**Exercise 3.3: Visualisation with Matplotlib**](../03_data/exercises/03_matplotlib.ipynb)\n",
    "\n",
    "Next: [**Chapter 3.4: Visualisation with Seaborn**]()"
   ]
  }
 ],
 "metadata": {
  "kernelspec": {
   "display_name": "ai-lecture",
   "language": "python",
   "name": "python3"
  },
  "language_info": {
   "codemirror_mode": {
    "name": "ipython",
    "version": 3
   },
   "file_extension": ".py",
   "mimetype": "text/x-python",
   "name": "python",
   "nbconvert_exporter": "python",
   "pygments_lexer": "ipython3",
   "version": "3.12.11"
  }
 },
 "nbformat": 4,
 "nbformat_minor": 5
}

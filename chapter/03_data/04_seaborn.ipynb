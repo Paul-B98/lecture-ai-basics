{
 "cells": [
  {
   "cell_type": "markdown",
   "id": "60ad15d9",
   "metadata": {},
   "source": [
    "Lecture: AI I - Basics \n",
    "\n",
    "Previous:\n",
    "[**Chapter 3.3: Visualisation with Matplotlib**](../03_data/03_matplotlib.ipynb)\n",
    "\n",
    "---"
   ]
  },
  {
   "cell_type": "markdown",
   "id": "7304b019",
   "metadata": {},
   "source": [
    "# Chapter 3.4: Visualisation with Seaborn\n",
    "\n",
    "- [Seaborn](#seaborn)\n",
    "- [Gallery](#gallery)\n",
    "\n",
    "## Seaborn\n",
    "\n",
    "[Seaborn](https://seaborn.pydata.org/tutorial.html) is a high-level data visualization library built on top of Matplotlib. While Matplotlib provides the essential plotting framework, Seaborn extends it with a focus on statistical graphics, aesthetics, and simplicity. This makes it especially valuable for data analysis and teaching, where quick and meaningful visualizations are essential.\n",
    "\n",
    "One of Seaborn’s strengths is its ability to create visually appealing plots with minimal code. Default themes and color palettes are designed to make figures more readable and presentation-ready out of the box, without requiring extensive manual styling. Seaborn also integrates tightly with pandas DataFrames, allowing you to directly pass columns as arguments without reshaping data.\n",
    "\n",
    "## Gallery"
   ]
  },
  {
   "cell_type": "code",
   "execution_count": 1,
   "id": "0ee28f05",
   "metadata": {},
   "outputs": [
    {
     "data": {
      "text/html": [
       "\n",
       "        <iframe\n",
       "            width=\"100%\"\n",
       "            height=\"750\"\n",
       "            src=\"https://seaborn.pydata.org/examples/index.html\"\n",
       "            frameborder=\"0\"\n",
       "            allowfullscreen\n",
       "            \n",
       "        ></iframe>\n",
       "        "
      ],
      "text/plain": [
       "<IPython.lib.display.IFrame at 0x7c649a32da60>"
      ]
     },
     "execution_count": 1,
     "metadata": {},
     "output_type": "execute_result"
    }
   ],
   "source": [
    "from IPython.display import IFrame\n",
    "\n",
    "IFrame(\n",
    "    \"https://seaborn.pydata.org/examples/index.html\",\n",
    "    width=\"100%\",\n",
    "    height=750,\n",
    ")"
   ]
  },
  {
   "cell_type": "markdown",
   "id": "7f267e7c",
   "metadata": {},
   "source": [
    "## Import Convention\n",
    "\n",
    "Seaborn is conventionally imported with the following import:"
   ]
  },
  {
   "cell_type": "code",
   "execution_count": null,
   "id": "6456389d",
   "metadata": {},
   "outputs": [],
   "source": [
    "import seaborn as sns"
   ]
  },
  {
   "cell_type": "markdown",
   "id": "f9f85eba",
   "metadata": {},
   "source": [
    "## Themes\n",
    "\n"
   ]
  },
  {
   "cell_type": "code",
   "execution_count": null,
   "id": "e7172659",
   "metadata": {},
   "outputs": [],
   "source": []
  },
  {
   "cell_type": "markdown",
   "id": "37e248ed",
   "metadata": {},
   "source": [
    "---\n",
    "\n",
    "Lecture: AI I - Basics \n",
    "\n",
    "Exercise: [**Exercise 3.4: Visualisation with Seaborn**](../03_data/exercises/04_seaborn.ipynb)\n",
    "\n",
    "Next: [**Chapter 3.5: Preprocessing with Pandas**](../03_data/05_preprocessing.ipynb)"
   ]
  }
 ],
 "metadata": {
  "kernelspec": {
   "display_name": "ai-lecture",
   "language": "python",
   "name": "python3"
  },
  "language_info": {
   "codemirror_mode": {
    "name": "ipython",
    "version": 3
   },
   "file_extension": ".py",
   "mimetype": "text/x-python",
   "name": "python",
   "nbconvert_exporter": "python",
   "pygments_lexer": "ipython3",
   "version": "3.12.11"
  }
 },
 "nbformat": 4,
 "nbformat_minor": 5
}

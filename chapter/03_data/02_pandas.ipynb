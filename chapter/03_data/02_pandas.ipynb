{
 "cells": [
  {
   "cell_type": "markdown",
   "id": "f021ec4d",
   "metadata": {},
   "source": [
    "Lecture: AI I - Basics \n",
    "\n",
    "Previous:\n",
    "[**Chapter 3.1: Numpy**](../03_data/01_numpy.ipynb)\n",
    "\n",
    "---"
   ]
  },
  {
   "cell_type": "markdown",
   "id": "8c192aea",
   "metadata": {},
   "source": [
    "# Chapter 3.2: Pandas\n",
    "\n",
    "- [The Pandas Series Object](#the-pandas-series-object)\n",
    "- [The Pandas DataFrame Object](#the-pandas-dataframe-object)\n",
    "- [The Pandas Index Object](#the-pandas-index-object)\n",
    "- [Indexing, Selection, and Assignment of Data](#indexing-selection-and-assignment-of-data)\n",
    "- [Reading Series and DataFrames](#reading-series-and-dataframes)\n",
    "- [Ufuncs and Aggregation](#ufuncs-and-aggregation)\n",
    "- [Group By](#group-by)\n",
    "- [Aggregate, Filter, Transform, Apply](#aggregate-filter-transform-apply)\n"
   ]
  },
  {
   "cell_type": "markdown",
   "id": "90adaf58",
   "metadata": {},
   "source": [
    "Pandas is a library for fast and efficient computation on large datasets.  \n",
    "As in NumPy, many operations in Pandas are vectorized, making them efficient and fast.\n",
    "\n",
    "Pandas is a newer package built on top of NumPy that provides an efficient implementation of a DataFrame.  \n",
    "DataFrames are essentially multidimensional arrays with attached row and column labels, often containing heterogeneous types and/or missing data.  \n",
    "In addition to providing a convenient storage interface for labeled data, Pandas implements a number of powerful data operations familiar to users of both database frameworks (→ relational algebra) and spreadsheet programs.\n",
    "\n",
    "As we have seen, NumPy’s ndarray data structure provides essential features for the kind of clean, well-organized data typically encountered in numerical computing tasks.  \n",
    "While it serves this purpose very well, its limitations become apparent when we need more flexibility (e.g., attaching labels to data, handling missing values, etc.) or when we attempt operations that do not map well to element-wise broadcasting (e.g., groupings, pivots, etc.).  \n",
    "These are each key components of analyzing the less structured data that exists in many forms in the world around us.  \n",
    "\n",
    "Pandas, and in particular its Series and DataFrame objects, build on the NumPy array structure and provide efficient access to these kinds of “data manipulation” tasks, which take up a large portion of a data scientist’s time.\n",
    "\n",
    "Just as we usually import NumPy as `np`, we import Pandas under the alias `pd`.  \n",
    "We also import NumPy, since we will often need it when working with Pandas:\n"
   ]
  },
  {
   "cell_type": "code",
   "execution_count": 1,
   "metadata": {},
   "outputs": [],
   "source": [
    "import numpy as np\n",
    "import pandas as pd"
   ]
  },
  {
   "cell_type": "markdown",
   "id": "dbf3ad7b",
   "metadata": {},
   "source": [
    "---\n",
    "\n",
    "Lecture: AI I - Basics \n",
    "\n",
    "Excersie: [**Excersie 3.2: Pandas**](../03_data/exercises/02_pandas.ipynb)\n",
    "\n",
    "Next: [**Chapter 3.3: Visualisation with Matplotlib**](../03_data/03_matplotlib.ipynb)"
   ]
  }
 ],
 "metadata": {
  "kernelspec": {
   "display_name": "ai-lecture",
   "language": "python",
   "name": "python3"
  },
  "language_info": {
   "codemirror_mode": {
    "name": "ipython",
    "version": 3
   },
   "file_extension": ".py",
   "mimetype": "text/x-python",
   "name": "python",
   "nbconvert_exporter": "python",
   "pygments_lexer": "ipython3",
   "version": "3.12.11"
  }
 },
 "nbformat": 4,
 "nbformat_minor": 5
}

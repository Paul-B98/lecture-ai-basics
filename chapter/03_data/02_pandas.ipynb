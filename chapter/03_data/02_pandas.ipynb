{
 "cells": [
  {
   "cell_type": "markdown",
   "id": "f021ec4d",
   "metadata": {},
   "source": [
    "Lecture: AI I - Basics \n",
    "\n",
    "Previous:\n",
    "[**Chapter 3.1: Numpy**](../03_data/01_numpy.ipynb)\n",
    "\n",
    "---"
   ]
  },
  {
   "cell_type": "markdown",
   "id": "8c192aea",
   "metadata": {},
   "source": [
    "# Chapter 3.2: Pandas\n",
    "\n",
    "- [](#)"
   ]
  },
  {
   "cell_type": "markdown",
   "id": "dbf3ad7b",
   "metadata": {},
   "source": [
    "---\n",
    "\n",
    "Lecture: AI I - Basics \n",
    "\n",
    "Excersie: [**Excersie 3.2: Pandas**](../03_data/exercises/02_pandas.ipynb)\n",
    "\n",
    "Next: [**Chapter 3.3: Visualisation with Matplotlib**](../03_data/03_matplotlib.ipynb)"
   ]
  }
 ],
 "metadata": {
  "language_info": {
   "name": "python"
  }
 },
 "nbformat": 4,
 "nbformat_minor": 5
}

{
 "cells": [
  {
   "cell_type": "markdown",
   "id": "f021ec4d",
   "metadata": {},
   "source": [
    "Lecture: AI I - Basics \n",
    "\n",
    "Previous:\n",
    "[**Chapter 3.1: Numpy**](../03_data/01_numpy.ipynb)\n",
    "\n",
    "---"
   ]
  },
  {
   "cell_type": "markdown",
   "id": "8c192aea",
   "metadata": {},
   "source": [
    "# Chapter 3.2: Pandas\n",
    "\n",
    "- [The Pandas Series Object](#the-pandas-series-object)\n",
    "- [The Pandas DataFrame Object](#the-pandas-dataframe-object)\n",
    "- [The Pandas Index Object](#the-pandas-index-object)\n",
    "- [Indexing, Selection, and Assignment of Data](#indexing-selection-and-assignment-of-data)\n",
    "- [Reading Series and DataFrames](#reading-series-and-dataframes)\n",
    "- [Ufuncs and Aggregation](#ufuncs-and-aggregation)\n",
    "- [Group By](#group-by)\n",
    "- [Aggregate, Filter, Transform, Apply](#aggregate-filter-transform-apply)\n"
   ]
  },
  {
   "cell_type": "markdown",
   "id": "90adaf58",
   "metadata": {},
   "source": [
    "Pandas is a library for fast and efficient computation on large datasets.  \n",
    "As in NumPy, many operations in Pandas are vectorized, making them efficient and fast.\n",
    "\n",
    "Pandas is a newer package built on top of NumPy that provides an efficient implementation of a DataFrame.  \n",
    "DataFrames are essentially multidimensional arrays with attached row and column labels, often containing heterogeneous types and/or missing data.  \n",
    "In addition to providing a convenient storage interface for labeled data, Pandas implements a number of powerful data operations familiar to users of both database frameworks (→ relational algebra) and spreadsheet programs.\n",
    "\n",
    "As we have seen, NumPy’s ndarray data structure provides essential features for the kind of clean, well-organized data typically encountered in numerical computing tasks.  \n",
    "While it serves this purpose very well, its limitations become apparent when we need more flexibility (e.g., attaching labels to data, handling missing values, etc.) or when we attempt operations that do not map well to element-wise broadcasting (e.g., groupings, pivots, etc.).  \n",
    "These are each key components of analyzing the less structured data that exists in many forms in the world around us.  \n",
    "\n",
    "Pandas, and in particular its Series and DataFrame objects, build on the NumPy array structure and provide efficient access to these kinds of “data manipulation” tasks, which take up a large portion of a data scientist’s time.\n",
    "\n",
    "Just as we usually import NumPy as `np`, we import Pandas under the alias `pd`.  \n",
    "We also import NumPy, since we will often need it when working with Pandas:\n"
   ]
  },
  {
   "cell_type": "code",
   "execution_count": 1,
   "metadata": {},
   "outputs": [],
   "source": [
    "import numpy as np\n",
    "import pandas as pd"
   ]
  },
  {
   "cell_type": "markdown",
   "id": "dc93e2c4",
   "metadata": {},
   "source": [
    "## The Pandas `Series` Object\n",
    "\n",
    "A Pandas `Series` is a one-dimensional array with indexed data.  \n",
    "It can be created from a list or an array as follows:\n"
   ]
  },
  {
   "cell_type": "code",
   "execution_count": 2,
   "id": "9721d655",
   "metadata": {},
   "outputs": [
    {
     "data": {
      "application/vnd.microsoft.datawrangler.viewer.v0+json": {
       "columns": [
        {
         "name": "index",
         "rawType": "int64",
         "type": "integer"
        },
        {
         "name": "0",
         "rawType": "float64",
         "type": "float"
        }
       ],
       "ref": "257e4e59-6b64-4a3c-bd8a-eefd6d744aaa",
       "rows": [
        [
         "0",
         "0.25"
        ],
        [
         "1",
         "0.5"
        ],
        [
         "2",
         null
        ],
        [
         "3",
         "1.0"
        ]
       ],
       "shape": {
        "columns": 1,
        "rows": 4
       }
      },
      "text/plain": [
       "0    0.25\n",
       "1    0.50\n",
       "2     NaN\n",
       "3    1.00\n",
       "dtype: float64"
      ]
     },
     "execution_count": 2,
     "metadata": {},
     "output_type": "execute_result"
    }
   ],
   "source": [
    "# Series with missing values \n",
    "data = pd.Series([0.25, 0.5, np.nan, 1.0])\n",
    "data"
   ]
  },
  {
   "cell_type": "code",
   "execution_count": 3,
   "id": "5c66aec4",
   "metadata": {},
   "outputs": [
    {
     "data": {
      "text/plain": [
       "pandas.core.series.Series"
      ]
     },
     "execution_count": 3,
     "metadata": {},
     "output_type": "execute_result"
    }
   ],
   "source": [
    "type(data)"
   ]
  },
  {
   "cell_type": "code",
   "execution_count": 4,
   "id": "e5fea95f",
   "metadata": {},
   "outputs": [
    {
     "data": {
      "text/plain": [
       "(array([0.25, 0.5 ,  nan, 1.  ]), numpy.ndarray)"
      ]
     },
     "execution_count": 4,
     "metadata": {},
     "output_type": "execute_result"
    }
   ],
   "source": [
    "data.values, type(data.values)"
   ]
  },
  {
   "cell_type": "markdown",
   "id": "aea259bc",
   "metadata": {},
   "source": [
    "The index is an array-like object of type `pd.Index`:\n"
   ]
  },
  {
   "cell_type": "code",
   "execution_count": 5,
   "id": "8569e604",
   "metadata": {},
   "outputs": [
    {
     "data": {
      "text/plain": [
       "(RangeIndex(start=0, stop=4, step=1),\n",
       " pandas.core.indexes.range.RangeIndex,\n",
       " [0, 1, 2, 3])"
      ]
     },
     "execution_count": 5,
     "metadata": {},
     "output_type": "execute_result"
    }
   ],
   "source": [
    "data.index, type(data.index), list(data.index)"
   ]
  },
  {
   "cell_type": "markdown",
   "id": "3d9436aa",
   "metadata": {},
   "source": [
    "As with a list or a NumPy array, the data can be accessed via the associated index using the familiar Python square-bracket notation:\n"
   ]
  },
  {
   "cell_type": "code",
   "execution_count": 6,
   "id": "5601221f",
   "metadata": {},
   "outputs": [
    {
     "data": {
      "application/vnd.microsoft.datawrangler.viewer.v0+json": {
       "columns": [
        {
         "name": "index",
         "rawType": "int64",
         "type": "integer"
        },
        {
         "name": "0",
         "rawType": "float64",
         "type": "float"
        }
       ],
       "ref": "07b6daf9-15f0-4698-8234-5b6e9d18275c",
       "rows": [
        [
         "1",
         "0.5"
        ],
        [
         "2",
         null
        ]
       ],
       "shape": {
        "columns": 1,
        "rows": 2
       }
      },
      "text/plain": [
       "1    0.5\n",
       "2    NaN\n",
       "dtype: float64"
      ]
     },
     "execution_count": 6,
     "metadata": {},
     "output_type": "execute_result"
    }
   ],
   "source": [
    "data[1:3]"
   ]
  },
  {
   "cell_type": "code",
   "execution_count": 7,
   "id": "f9982a88",
   "metadata": {},
   "outputs": [
    {
     "data": {
      "text/plain": [
       "numpy.float64"
      ]
     },
     "execution_count": 7,
     "metadata": {},
     "output_type": "execute_result"
    }
   ],
   "source": [
    "type(data[1])"
   ]
  },
  {
   "cell_type": "code",
   "execution_count": 8,
   "id": "24c41481",
   "metadata": {},
   "outputs": [
    {
     "name": "stdout",
     "output_type": "stream",
     "text": [
      "['T', '_AXIS_LEN', '_AXIS_ORDERS', '_AXIS_TO_AXIS_NUMBER', '_HANDLED_TYPES', '__abs__', '__add__', '__and__', '__annotations__', '__array__', '__array_priority__', '__array_ufunc__', '__bool__', '__class__', '__column_consortium_standard__', '__contains__', '__copy__', '__deepcopy__', '__delattr__', '__delitem__', '__dict__', '__dir__', '__divmod__', '__doc__', '__eq__', '__finalize__', '__float__', '__floordiv__', '__format__', '__ge__', '__getattr__', '__getattribute__', '__getitem__', '__getstate__', '__gt__', '__hash__', '__iadd__', '__iand__', '__ifloordiv__', '__imod__', '__imul__', '__init__', '__init_subclass__', '__int__', '__invert__', '__ior__', '__ipow__', '__isub__', '__iter__', '__itruediv__', '__ixor__', '__le__', '__len__', '__lt__', '__matmul__', '__mod__', '__module__', '__mul__', '__ne__', '__neg__', '__new__', '__nonzero__', '__or__', '__pandas_priority__', '__pos__', '__pow__', '__radd__', '__rand__', '__rdivmod__', '__reduce__', '__reduce_ex__', '__repr__', '__rfloordiv__', '__rmatmul__', '__rmod__', '__rmul__', '__ror__', '__round__', '__rpow__', '__rsub__', '__rtruediv__', '__rxor__', '__setattr__', '__setitem__', '__setstate__', '__sizeof__', '__str__', '__sub__', '__subclasshook__', '__truediv__', '__weakref__', '__xor__', '_accessors', '_accum_func', '_agg_examples_doc', '_agg_see_also_doc', '_align_for_op', '_align_frame', '_align_series', '_append', '_arith_method', '_as_manager', '_attrs', '_binop', '_can_hold_na', '_check_inplace_and_allows_duplicate_labels', '_check_is_chained_assignment_possible', '_check_label_or_level_ambiguity', '_check_setitem_copy', '_clear_item_cache', '_clip_with_one_bound', '_clip_with_scalar', '_cmp_method', '_consolidate', '_consolidate_inplace', '_construct_axes_dict', '_construct_result', '_constructor', '_constructor_expanddim', '_constructor_expanddim_from_mgr', '_constructor_from_mgr', '_data', '_deprecate_downcast', '_dir_additions', '_dir_deletions', '_drop_axis', '_drop_labels_or_levels', '_duplicated', '_find_valid_index', '_flags', '_flex_method', '_from_mgr', '_get_axis', '_get_axis_name', '_get_axis_number', '_get_axis_resolvers', '_get_block_manager_axis', '_get_bool_data', '_get_cacher', '_get_cleaned_column_resolvers', '_get_index_resolvers', '_get_label_or_level_values', '_get_numeric_data', '_get_rows_with_mask', '_get_value', '_get_values_tuple', '_get_with', '_getitem_slice', '_gotitem', '_hidden_attrs', '_indexed_same', '_info_axis', '_info_axis_name', '_info_axis_number', '_init_dict', '_init_mgr', '_inplace_method', '_internal_names', '_internal_names_set', '_is_cached', '_is_copy', '_is_label_or_level_reference', '_is_label_reference', '_is_level_reference', '_is_mixed_type', '_is_view', '_is_view_after_cow_rules', '_item_cache', '_ixs', '_logical_func', '_logical_method', '_map_values', '_maybe_update_cacher', '_memory_usage', '_metadata', '_mgr', '_min_count_stat_function', '_name', '_needs_reindex_multi', '_pad_or_backfill', '_protect_consolidate', '_reduce', '_references', '_reindex_axes', '_reindex_indexer', '_reindex_multi', '_reindex_with_indexers', '_rename', '_replace_single', '_repr_data_resource_', '_repr_latex_', '_reset_cache', '_reset_cacher', '_set_as_cached', '_set_axis', '_set_axis_name', '_set_axis_nocheck', '_set_is_copy', '_set_labels', '_set_name', '_set_value', '_set_values', '_set_with', '_set_with_engine', '_shift_with_freq', '_slice', '_stat_function', '_stat_function_ddof', '_take_with_is_copy', '_to_latex_via_styler', '_typ', '_update_inplace', '_validate_dtype', '_values', '_where', 'abs', 'add', 'add_prefix', 'add_suffix', 'agg', 'aggregate', 'align', 'all', 'any', 'apply', 'argmax', 'argmin', 'argsort', 'array', 'asfreq', 'asof', 'astype', 'at', 'at_time', 'attrs', 'autocorr', 'axes', 'backfill', 'between', 'between_time', 'bfill', 'bool', 'case_when', 'clip', 'combine', 'combine_first', 'compare', 'convert_dtypes', 'copy', 'corr', 'count', 'cov', 'cummax', 'cummin', 'cumprod', 'cumsum', 'describe', 'diff', 'div', 'divide', 'divmod', 'dot', 'drop', 'drop_duplicates', 'droplevel', 'dropna', 'dtype', 'dtypes', 'duplicated', 'empty', 'eq', 'equals', 'ewm', 'expanding', 'explode', 'factorize', 'ffill', 'fillna', 'filter', 'first', 'first_valid_index', 'flags', 'floordiv', 'ge', 'get', 'groupby', 'gt', 'hasnans', 'head', 'hist', 'iat', 'idxmax', 'idxmin', 'iloc', 'index', 'infer_objects', 'info', 'interpolate', 'is_monotonic_decreasing', 'is_monotonic_increasing', 'is_unique', 'isin', 'isna', 'isnull', 'item', 'items', 'keys', 'kurt', 'kurtosis', 'last', 'last_valid_index', 'le', 'list', 'loc', 'lt', 'map', 'mask', 'max', 'mean', 'median', 'memory_usage', 'min', 'mod', 'mode', 'mul', 'multiply', 'name', 'nbytes', 'ndim', 'ne', 'nlargest', 'notna', 'notnull', 'nsmallest', 'nunique', 'pad', 'pct_change', 'pipe', 'plot', 'pop', 'pow', 'prod', 'product', 'quantile', 'radd', 'rank', 'ravel', 'rdiv', 'rdivmod', 'reindex', 'reindex_like', 'rename', 'rename_axis', 'reorder_levels', 'repeat', 'replace', 'resample', 'reset_index', 'rfloordiv', 'rmod', 'rmul', 'rolling', 'round', 'rpow', 'rsub', 'rtruediv', 'sample', 'searchsorted', 'sem', 'set_axis', 'set_flags', 'shape', 'shift', 'size', 'skew', 'sort_index', 'sort_values', 'squeeze', 'std', 'struct', 'sub', 'subtract', 'sum', 'swapaxes', 'swaplevel', 'tail', 'take', 'to_clipboard', 'to_csv', 'to_dict', 'to_excel', 'to_frame', 'to_hdf', 'to_json', 'to_latex', 'to_list', 'to_markdown', 'to_numpy', 'to_period', 'to_pickle', 'to_sql', 'to_string', 'to_timestamp', 'to_xarray', 'transform', 'transpose', 'truediv', 'truncate', 'tz_convert', 'tz_localize', 'unique', 'unstack', 'update', 'value_counts', 'values', 'var', 'view', 'where', 'xs']\n"
     ]
    }
   ],
   "source": [
    "print(dir(data))"
   ]
  },
  {
   "cell_type": "markdown",
   "id": "ee9a6f72",
   "metadata": {},
   "source": [
    "### Series as a Generalized NumPy Array\n",
    "\n",
    "From what we’ve seen so far, the Series object might appear to be essentially interchangeable with a one-dimensional NumPy array.  \n",
    "The key difference, however, is the presence of the index: while a NumPy array has an implicitly defined integer index used to access its values, a Pandas Series has an explicitly defined index that is linked to its values.\n",
    "\n",
    "This explicit index definition gives the Series object additional capabilities.  \n",
    "For example, the index does not have to be an integer; it can consist of values of any type.  \n",
    "If we want, we can use strings as the index:\n"
   ]
  },
  {
   "cell_type": "code",
   "execution_count": 9,
   "id": "b75c205f",
   "metadata": {},
   "outputs": [
    {
     "data": {
      "application/vnd.microsoft.datawrangler.viewer.v0+json": {
       "columns": [
        {
         "name": "index",
         "rawType": "object",
         "type": "string"
        },
        {
         "name": "0",
         "rawType": "float64",
         "type": "float"
        }
       ],
       "ref": "037430b5-6bed-4990-a63c-fd7f536a8ec5",
       "rows": [
        [
         "a",
         "0.25"
        ],
        [
         "b",
         "0.5"
        ],
        [
         "d",
         "0.75"
        ],
        [
         "c",
         "1.0"
        ]
       ],
       "shape": {
        "columns": 1,
        "rows": 4
       }
      },
      "text/plain": [
       "a    0.25\n",
       "b    0.50\n",
       "d    0.75\n",
       "c    1.00\n",
       "dtype: float64"
      ]
     },
     "execution_count": 9,
     "metadata": {},
     "output_type": "execute_result"
    }
   ],
   "source": [
    "data = pd.Series([0.25, 0.5, 0.75, 1.0], index=['a', 'b', 'd', 'c'])\n",
    "data"
   ]
  },
  {
   "cell_type": "code",
   "execution_count": 10,
   "id": "dfed8bc4",
   "metadata": {},
   "outputs": [
    {
     "data": {
      "application/vnd.microsoft.datawrangler.viewer.v0+json": {
       "columns": [
        {
         "name": "index",
         "rawType": "object",
         "type": "string"
        },
        {
         "name": "0",
         "rawType": "float64",
         "type": "float"
        }
       ],
       "ref": "e8fc7874-835e-470c-a62e-15d477a63cc8",
       "rows": [
        [
         "A",
         "0.25"
        ],
        [
         "b",
         "0.5"
        ],
        [
         "C",
         "0.75"
        ],
        [
         "D",
         "1.0"
        ]
       ],
       "shape": {
        "columns": 1,
        "rows": 4
       }
      },
      "text/plain": [
       "A    0.25\n",
       "b    0.50\n",
       "C    0.75\n",
       "D    1.00\n",
       "dtype: float64"
      ]
     },
     "execution_count": 10,
     "metadata": {},
     "output_type": "execute_result"
    }
   ],
   "source": [
    "data.index = list(\"AbCD\")\n",
    "data"
   ]
  },
  {
   "cell_type": "code",
   "execution_count": 11,
   "id": "dc46fa25",
   "metadata": {},
   "outputs": [
    {
     "name": "stderr",
     "output_type": "stream",
     "text": [
      "/tmp/ipykernel_12045/2695335825.py:1: FutureWarning: Series.__getitem__ treating keys as positions is deprecated. In a future version, integer keys will always be treated as labels (consistent with DataFrame behavior). To access a value by position, use `ser.iloc[pos]`\n",
      "  data[\"b\"] == data[1] == data.values[1]\n"
     ]
    },
    {
     "data": {
      "text/plain": [
       "np.True_"
      ]
     },
     "execution_count": 11,
     "metadata": {},
     "output_type": "execute_result"
    }
   ],
   "source": [
    "data[\"b\"] == data[1] == data.values[1]"
   ]
  },
  {
   "cell_type": "code",
   "execution_count": 12,
   "id": "0c516862",
   "metadata": {},
   "outputs": [
    {
     "data": {
      "application/vnd.microsoft.datawrangler.viewer.v0+json": {
       "columns": [
        {
         "name": "index",
         "rawType": "int64",
         "type": "integer"
        },
        {
         "name": "0",
         "rawType": "float64",
         "type": "float"
        }
       ],
       "ref": "25eb6a92-2abe-4d3e-8a5c-d3b63afd4beb",
       "rows": [
        [
         "3",
         "0.25"
        ],
        [
         "7",
         "0.5"
        ],
        [
         "2",
         "0.75"
        ],
        [
         "4",
         "1.0"
        ]
       ],
       "shape": {
        "columns": 1,
        "rows": 4
       }
      },
      "text/plain": [
       "3    0.25\n",
       "7    0.50\n",
       "2    0.75\n",
       "4    1.00\n",
       "dtype: float64"
      ]
     },
     "execution_count": 12,
     "metadata": {},
     "output_type": "execute_result"
    }
   ],
   "source": [
    "data = pd.Series([0.25, 0.5, 0.75, 1.0], index=[3, 7, 2, 4])\n",
    "data"
   ]
  },
  {
   "cell_type": "code",
   "execution_count": 13,
   "id": "491e390b",
   "metadata": {},
   "outputs": [
    {
     "data": {
      "text/plain": [
       "Index([3, 7, 2, 4], dtype='int64')"
      ]
     },
     "execution_count": 13,
     "metadata": {},
     "output_type": "execute_result"
    }
   ],
   "source": [
    "data.index"
   ]
  },
  {
   "cell_type": "markdown",
   "id": "a4ca4825",
   "metadata": {},
   "source": [
    "When an explicit index is present, it takes precedence! (*As long as we are not slicing!*)\n"
   ]
  },
  {
   "cell_type": "code",
   "execution_count": 14,
   "id": "c6308876",
   "metadata": {},
   "outputs": [
    {
     "data": {
      "text/plain": [
       "np.float64(0.25)"
      ]
     },
     "execution_count": 14,
     "metadata": {},
     "output_type": "execute_result"
    }
   ],
   "source": [
    "data[3]"
   ]
  },
  {
   "cell_type": "code",
   "execution_count": 15,
   "id": "5daab6e6",
   "metadata": {},
   "outputs": [
    {
     "data": {
      "application/vnd.microsoft.datawrangler.viewer.v0+json": {
       "columns": [
        {
         "name": "index",
         "rawType": "int64",
         "type": "integer"
        },
        {
         "name": "0",
         "rawType": "float64",
         "type": "float"
        }
       ],
       "ref": "b6250350-8484-4ad7-9d1d-5ef5ff5808af",
       "rows": [
        [
         "7",
         "0.5"
        ],
        [
         "2",
         "0.75"
        ]
       ],
       "shape": {
        "columns": 1,
        "rows": 2
       }
      },
      "text/plain": [
       "7    0.50\n",
       "2    0.75\n",
       "dtype: float64"
      ]
     },
     "execution_count": 15,
     "metadata": {},
     "output_type": "execute_result"
    }
   ],
   "source": [
    "data[1:3]"
   ]
  },
  {
   "cell_type": "code",
   "execution_count": 16,
   "id": "5b9b9203",
   "metadata": {},
   "outputs": [
    {
     "data": {
      "text/plain": [
       "numpy.float64"
      ]
     },
     "execution_count": 16,
     "metadata": {},
     "output_type": "execute_result"
    }
   ],
   "source": [
    "type(data[3])"
   ]
  },
  {
   "cell_type": "markdown",
   "id": "08a022f7",
   "metadata": {},
   "source": [
    "Note that explicit indices do not have to be unique!\n"
   ]
  },
  {
   "cell_type": "code",
   "execution_count": 17,
   "id": "ef5f0379",
   "metadata": {},
   "outputs": [
    {
     "data": {
      "application/vnd.microsoft.datawrangler.viewer.v0+json": {
       "columns": [
        {
         "name": "index",
         "rawType": "int64",
         "type": "integer"
        },
        {
         "name": "0",
         "rawType": "float64",
         "type": "float"
        }
       ],
       "ref": "28ebbf46-bb32-45e5-a4b2-6cdf840c4a79",
       "rows": [
        [
         "3",
         "0.25"
        ],
        [
         "7",
         "0.5"
        ],
        [
         "2",
         "0.75"
        ],
        [
         "4",
         "1.0"
        ],
        [
         "3",
         "0.25"
        ],
        [
         "7",
         "0.5"
        ],
        [
         "2",
         "0.75"
        ],
        [
         "4",
         "1.0"
        ]
       ],
       "shape": {
        "columns": 1,
        "rows": 8
       }
      },
      "text/plain": [
       "3    0.25\n",
       "7    0.50\n",
       "2    0.75\n",
       "4    1.00\n",
       "3    0.25\n",
       "7    0.50\n",
       "2    0.75\n",
       "4    1.00\n",
       "dtype: float64"
      ]
     },
     "execution_count": 17,
     "metadata": {},
     "output_type": "execute_result"
    }
   ],
   "source": [
    "d2 = pd.concat([data, data])\n",
    "d2"
   ]
  },
  {
   "cell_type": "code",
   "execution_count": 18,
   "id": "1aa40927",
   "metadata": {},
   "outputs": [
    {
     "data": {
      "application/vnd.microsoft.datawrangler.viewer.v0+json": {
       "columns": [
        {
         "name": "index",
         "rawType": "int64",
         "type": "integer"
        },
        {
         "name": "0",
         "rawType": "float64",
         "type": "float"
        }
       ],
       "ref": "78b9c55d-c6ef-4b02-9f06-aec46a0e3837",
       "rows": [
        [
         "7",
         "0.5"
        ],
        [
         "7",
         "0.5"
        ]
       ],
       "shape": {
        "columns": 1,
        "rows": 2
       }
      },
      "text/plain": [
       "7    0.5\n",
       "7    0.5\n",
       "dtype: float64"
      ]
     },
     "execution_count": 18,
     "metadata": {},
     "output_type": "execute_result"
    }
   ],
   "source": [
    "d2[7]"
   ]
  },
  {
   "cell_type": "code",
   "execution_count": 19,
   "id": "d2cb615f",
   "metadata": {},
   "outputs": [],
   "source": [
    "d2[7] = 2"
   ]
  },
  {
   "cell_type": "code",
   "execution_count": 20,
   "id": "26a1c8fa",
   "metadata": {},
   "outputs": [
    {
     "data": {
      "application/vnd.microsoft.datawrangler.viewer.v0+json": {
       "columns": [
        {
         "name": "index",
         "rawType": "int64",
         "type": "integer"
        },
        {
         "name": "0",
         "rawType": "float64",
         "type": "float"
        }
       ],
       "ref": "003ad924-0529-414f-9d7d-41746745dee3",
       "rows": [
        [
         "3",
         "0.25"
        ],
        [
         "7",
         "2.0"
        ],
        [
         "2",
         "0.75"
        ],
        [
         "4",
         "1.0"
        ],
        [
         "3",
         "0.25"
        ],
        [
         "7",
         "2.0"
        ],
        [
         "2",
         "0.75"
        ],
        [
         "4",
         "1.0"
        ]
       ],
       "shape": {
        "columns": 1,
        "rows": 8
       }
      },
      "text/plain": [
       "3    0.25\n",
       "7    2.00\n",
       "2    0.75\n",
       "4    1.00\n",
       "3    0.25\n",
       "7    2.00\n",
       "2    0.75\n",
       "4    1.00\n",
       "dtype: float64"
      ]
     },
     "execution_count": 20,
     "metadata": {},
     "output_type": "execute_result"
    }
   ],
   "source": [
    "d2"
   ]
  },
  {
   "cell_type": "markdown",
   "id": "cca989fd",
   "metadata": {},
   "source": [
    "### Series as a Specialized Dictionary\n",
    "\n",
    "In this sense, you can think of a Pandas Series as a specialized version of a Python dictionary.  \n",
    "A dictionary is a structure that maps arbitrary keys to a set of arbitrary values, while a Series is a structure that maps typed keys to a set of typed values.  \n",
    "\n",
    "This typing is important: just as the type-specific compiled code behind a NumPy array makes it more efficient for certain operations than a Python list, the type information of a Pandas Series makes it much more efficient than a Python dictionary for specific operations.\n",
    "\n",
    "The Series-as-dictionary analogy becomes even clearer when a Series object is constructed directly from a Python dictionary:\n"
   ]
  },
  {
   "cell_type": "code",
   "execution_count": 21,
   "id": "37426536",
   "metadata": {},
   "outputs": [
    {
     "data": {
      "application/vnd.microsoft.datawrangler.viewer.v0+json": {
       "columns": [
        {
         "name": "index",
         "rawType": "object",
         "type": "string"
        },
        {
         "name": "0",
         "rawType": "int64",
         "type": "integer"
        }
       ],
       "ref": "a5bc30d5-9c26-4a39-8102-9e8a2e74603d",
       "rows": [
        [
         "California",
         "38332521"
        ],
        [
         "Texas",
         "26448193"
        ],
        [
         "New York",
         "19651127"
        ],
        [
         "Florida",
         "19552860"
        ],
        [
         "Illinois",
         "12882135"
        ]
       ],
       "shape": {
        "columns": 1,
        "rows": 5
       }
      },
      "text/plain": [
       "California    38332521\n",
       "Texas         26448193\n",
       "New York      19651127\n",
       "Florida       19552860\n",
       "Illinois      12882135\n",
       "dtype: int64"
      ]
     },
     "execution_count": 21,
     "metadata": {},
     "output_type": "execute_result"
    }
   ],
   "source": [
    "population_dict = {\n",
    "    'California': 38332521,\n",
    "    'Texas': 26448193,\n",
    "    'New York': 19651127,\n",
    "    'Florida': 19552860,\n",
    "    'Illinois': 12882135\n",
    "}\n",
    "\n",
    "population = pd.Series(population_dict)\n",
    "population"
   ]
  },
  {
   "cell_type": "code",
   "execution_count": 22,
   "id": "dff9b1ac",
   "metadata": {},
   "outputs": [
    {
     "data": {
      "text/plain": [
       "np.int64(26448193)"
      ]
     },
     "execution_count": 22,
     "metadata": {},
     "output_type": "execute_result"
    }
   ],
   "source": [
    "population['Texas']"
   ]
  },
  {
   "cell_type": "markdown",
   "id": "32f83d9f",
   "metadata": {},
   "source": [
    "In contrast to a dictionary, however, a Series also supports array-like operations such as slicing:\n"
   ]
  },
  {
   "cell_type": "code",
   "execution_count": 23,
   "id": "23167b79",
   "metadata": {},
   "outputs": [
    {
     "data": {
      "application/vnd.microsoft.datawrangler.viewer.v0+json": {
       "columns": [
        {
         "name": "index",
         "rawType": "object",
         "type": "string"
        },
        {
         "name": "0",
         "rawType": "int64",
         "type": "integer"
        }
       ],
       "ref": "b30b8d5c-fbf8-460c-8b01-ad62e888e882",
       "rows": [
        [
         "California",
         "38332521"
        ],
        [
         "Texas",
         "26448193"
        ],
        [
         "New York",
         "19651127"
        ],
        [
         "Florida",
         "19552860"
        ],
        [
         "Illinois",
         "12882135"
        ]
       ],
       "shape": {
        "columns": 1,
        "rows": 5
       }
      },
      "text/plain": [
       "California    38332521\n",
       "Texas         26448193\n",
       "New York      19651127\n",
       "Florida       19552860\n",
       "Illinois      12882135\n",
       "dtype: int64"
      ]
     },
     "execution_count": 23,
     "metadata": {},
     "output_type": "execute_result"
    }
   ],
   "source": [
    "population['California':'Illinois']"
   ]
  },
  {
   "cell_type": "markdown",
   "id": "dc2112a1",
   "metadata": {},
   "source": [
    "Note that Illinois is included!\n"
   ]
  },
  {
   "cell_type": "markdown",
   "id": "5ce1b3df",
   "metadata": {},
   "source": [
    "### Creating Series Objects\n",
    "\n",
    "Data can be a scalar:\n"
   ]
  },
  {
   "cell_type": "code",
   "execution_count": 24,
   "id": "353c4ba5",
   "metadata": {},
   "outputs": [
    {
     "data": {
      "application/vnd.microsoft.datawrangler.viewer.v0+json": {
       "columns": [
        {
         "name": "index",
         "rawType": "int64",
         "type": "integer"
        },
        {
         "name": "0",
         "rawType": "int64",
         "type": "integer"
        }
       ],
       "ref": "861f7ed8-00f4-4419-96ef-9d7433bbbc16",
       "rows": [
        [
         "100",
         "5"
        ],
        [
         "200",
         "5"
        ],
        [
         "300",
         "5"
        ]
       ],
       "shape": {
        "columns": 1,
        "rows": 3
       }
      },
      "text/plain": [
       "100    5\n",
       "200    5\n",
       "300    5\n",
       "dtype: int64"
      ]
     },
     "execution_count": 24,
     "metadata": {},
     "output_type": "execute_result"
    }
   ],
   "source": [
    "pd.Series(5, index=[100, 200, 300])"
   ]
  },
  {
   "cell_type": "markdown",
   "id": "628033d8",
   "metadata": {},
   "source": [
    "Data can be a dictionary:\n"
   ]
  },
  {
   "cell_type": "code",
   "execution_count": 25,
   "id": "a65d514d",
   "metadata": {},
   "outputs": [
    {
     "data": {
      "application/vnd.microsoft.datawrangler.viewer.v0+json": {
       "columns": [
        {
         "name": "index",
         "rawType": "int64",
         "type": "integer"
        },
        {
         "name": "0",
         "rawType": "object",
         "type": "string"
        }
       ],
       "ref": "d69e5105-4ac5-4d70-a5d3-97ba67f76cdb",
       "rows": [
        [
         "2",
         "a"
        ],
        [
         "1",
         "b"
        ],
        [
         "3",
         "c"
        ]
       ],
       "shape": {
        "columns": 1,
        "rows": 3
       }
      },
      "text/plain": [
       "2    a\n",
       "1    b\n",
       "3    c\n",
       "dtype: object"
      ]
     },
     "execution_count": 25,
     "metadata": {},
     "output_type": "execute_result"
    }
   ],
   "source": [
    "ser = pd.Series({2:'a', 1:'b', 3:'c'})\n",
    "ser"
   ]
  },
  {
   "cell_type": "code",
   "execution_count": 26,
   "id": "1f5d4720",
   "metadata": {},
   "outputs": [
    {
     "data": {
      "text/plain": [
       "{2: 'a', 1: 'b', 3: 'c'}"
      ]
     },
     "execution_count": 26,
     "metadata": {},
     "output_type": "execute_result"
    }
   ],
   "source": [
    "ser.to_dict()"
   ]
  },
  {
   "cell_type": "code",
   "execution_count": 27,
   "id": "2b2beda5",
   "metadata": {},
   "outputs": [
    {
     "data": {
      "text/plain": [
       "['a', 'b', 'c']"
      ]
     },
     "execution_count": 27,
     "metadata": {},
     "output_type": "execute_result"
    }
   ],
   "source": [
    "list(ser.values)"
   ]
  },
  {
   "cell_type": "markdown",
   "id": "c80c2808",
   "metadata": {},
   "source": [
    "## The Pandas DataFrame Object\n",
    "\n",
    "The next fundamental structure in Pandas is the DataFrame.  \n",
    "Like the Series object, it can be thought of either as a generalization of a NumPy array or as a specialization of a Python dictionary.  \n",
    "We’ll now take a look at each of these perspectives.\n"
   ]
  },
  {
   "cell_type": "markdown",
   "id": "60c0faa6",
   "metadata": {},
   "source": [
    "### DataFrame as a Generalized NumPy Array\n",
    "\n",
    "If a Series is analogous to a one-dimensional array with flexible indices, then a DataFrame is analogous to a two-dimensional array with flexible row indices and flexible column names.  \n",
    "Just as you can think of a two-dimensional array as an ordered sequence of aligned one-dimensional columns, you can think of a DataFrame as a sequence of aligned Series objects.  \n",
    "By “aligned” we mean that they share the same index.\n",
    "\n",
    "To demonstrate this, let’s first construct a new Series that lists the area of each of the five states discussed in the previous section:\n"
   ]
  },
  {
   "cell_type": "code",
   "execution_count": 28,
   "id": "3a37c567",
   "metadata": {},
   "outputs": [
    {
     "data": {
      "application/vnd.microsoft.datawrangler.viewer.v0+json": {
       "columns": [
        {
         "name": "index",
         "rawType": "object",
         "type": "string"
        },
        {
         "name": "0",
         "rawType": "int64",
         "type": "integer"
        }
       ],
       "ref": "82f88bfa-4a91-4f1a-ab1c-98b8a02ab17b",
       "rows": [
        [
         "California",
         "423967"
        ],
        [
         "Texas",
         "695662"
        ],
        [
         "New York",
         "141297"
        ],
        [
         "Florida",
         "170312"
        ],
        [
         "Illinois",
         "149995"
        ]
       ],
       "shape": {
        "columns": 1,
        "rows": 5
       }
      },
      "text/plain": [
       "California    423967\n",
       "Texas         695662\n",
       "New York      141297\n",
       "Florida       170312\n",
       "Illinois      149995\n",
       "dtype: int64"
      ]
     },
     "execution_count": 28,
     "metadata": {},
     "output_type": "execute_result"
    }
   ],
   "source": [
    "area_dict = {'California': 423967, 'Texas': 695662, 'New York': 141297,\n",
    "             'Florida': 170312, 'Illinois': 149995}\n",
    "area = pd.Series(area_dict)\n",
    "area"
   ]
  },
  {
   "cell_type": "markdown",
   "id": "559e688e",
   "metadata": {},
   "source": [
    "Now that we have this along with the population Series from earlier, we can use a dictionary to construct a single two-dimensional object containing this information:\n"
   ]
  },
  {
   "cell_type": "code",
   "execution_count": 29,
   "id": "033afa45",
   "metadata": {},
   "outputs": [
    {
     "data": {
      "application/vnd.microsoft.datawrangler.viewer.v0+json": {
       "columns": [
        {
         "name": "index",
         "rawType": "object",
         "type": "string"
        },
        {
         "name": "population",
         "rawType": "int64",
         "type": "integer"
        },
        {
         "name": "area",
         "rawType": "int64",
         "type": "integer"
        },
        {
         "name": "country",
         "rawType": "object",
         "type": "string"
        }
       ],
       "ref": "13f0814b-07c7-409e-9e9b-89461e805f0e",
       "rows": [
        [
         "California",
         "38332521",
         "423967",
         "USA"
        ],
        [
         "Texas",
         "26448193",
         "695662",
         "USA"
        ],
        [
         "New York",
         "19651127",
         "141297",
         "USA"
        ],
        [
         "Florida",
         "19552860",
         "170312",
         "USA"
        ],
        [
         "Illinois",
         "12882135",
         "149995",
         "USA"
        ]
       ],
       "shape": {
        "columns": 3,
        "rows": 5
       }
      },
      "text/html": [
       "<div>\n",
       "<style scoped>\n",
       "    .dataframe tbody tr th:only-of-type {\n",
       "        vertical-align: middle;\n",
       "    }\n",
       "\n",
       "    .dataframe tbody tr th {\n",
       "        vertical-align: top;\n",
       "    }\n",
       "\n",
       "    .dataframe thead th {\n",
       "        text-align: right;\n",
       "    }\n",
       "</style>\n",
       "<table border=\"1\" class=\"dataframe\">\n",
       "  <thead>\n",
       "    <tr style=\"text-align: right;\">\n",
       "      <th></th>\n",
       "      <th>population</th>\n",
       "      <th>area</th>\n",
       "      <th>country</th>\n",
       "    </tr>\n",
       "  </thead>\n",
       "  <tbody>\n",
       "    <tr>\n",
       "      <th>California</th>\n",
       "      <td>38332521</td>\n",
       "      <td>423967</td>\n",
       "      <td>USA</td>\n",
       "    </tr>\n",
       "    <tr>\n",
       "      <th>Texas</th>\n",
       "      <td>26448193</td>\n",
       "      <td>695662</td>\n",
       "      <td>USA</td>\n",
       "    </tr>\n",
       "    <tr>\n",
       "      <th>New York</th>\n",
       "      <td>19651127</td>\n",
       "      <td>141297</td>\n",
       "      <td>USA</td>\n",
       "    </tr>\n",
       "    <tr>\n",
       "      <th>Florida</th>\n",
       "      <td>19552860</td>\n",
       "      <td>170312</td>\n",
       "      <td>USA</td>\n",
       "    </tr>\n",
       "    <tr>\n",
       "      <th>Illinois</th>\n",
       "      <td>12882135</td>\n",
       "      <td>149995</td>\n",
       "      <td>USA</td>\n",
       "    </tr>\n",
       "  </tbody>\n",
       "</table>\n",
       "</div>"
      ],
      "text/plain": [
       "            population    area country\n",
       "California    38332521  423967     USA\n",
       "Texas         26448193  695662     USA\n",
       "New York      19651127  141297     USA\n",
       "Florida       19552860  170312     USA\n",
       "Illinois      12882135  149995     USA"
      ]
     },
     "execution_count": 29,
     "metadata": {},
     "output_type": "execute_result"
    }
   ],
   "source": [
    "states = pd.DataFrame({'population': population,\n",
    "                       'area': area,\n",
    "                       'country': 'USA'})\n",
    "states"
   ]
  },
  {
   "cell_type": "code",
   "execution_count": 30,
   "id": "97230e82",
   "metadata": {},
   "outputs": [
    {
     "name": "stdout",
     "output_type": "stream",
     "text": [
      "population     int64\n",
      "area           int64\n",
      "country       object\n",
      "dtype: object\n"
     ]
    }
   ],
   "source": [
    "print(states.dtypes)"
   ]
  },
  {
   "cell_type": "markdown",
   "id": "ff87708c",
   "metadata": {},
   "source": [
    "That looks like a generalized dictionary!  \n",
    "The keys are the state names, and the values are like a list `[area, country, population]`.\n"
   ]
  },
  {
   "cell_type": "code",
   "execution_count": 31,
   "id": "f0902f17",
   "metadata": {},
   "outputs": [
    {
     "data": {
      "application/vnd.microsoft.datawrangler.viewer.v0+json": {
       "columns": [
        {
         "name": "index",
         "rawType": "object",
         "type": "string"
        },
        {
         "name": "population",
         "rawType": "int64",
         "type": "integer"
        },
        {
         "name": "area",
         "rawType": "int64",
         "type": "integer"
        },
        {
         "name": "country",
         "rawType": "object",
         "type": "string"
        }
       ],
       "ref": "ec891588-673e-4fe4-bdd6-46b02cc10aa1",
       "rows": [
        [
         "California",
         "38332521",
         "423967",
         "USA"
        ],
        [
         "Texas",
         "26448193",
         "695662",
         "USA"
        ],
        [
         "New York",
         "19651127",
         "141297",
         "USA"
        ],
        [
         "Florida",
         "19552860",
         "170312",
         "USA"
        ],
        [
         "Illinois",
         "12882135",
         "149995",
         "USA"
        ]
       ],
       "shape": {
        "columns": 3,
        "rows": 5
       }
      },
      "text/html": [
       "<div>\n",
       "<style scoped>\n",
       "    .dataframe tbody tr th:only-of-type {\n",
       "        vertical-align: middle;\n",
       "    }\n",
       "\n",
       "    .dataframe tbody tr th {\n",
       "        vertical-align: top;\n",
       "    }\n",
       "\n",
       "    .dataframe thead th {\n",
       "        text-align: right;\n",
       "    }\n",
       "</style>\n",
       "<table border=\"1\" class=\"dataframe\">\n",
       "  <thead>\n",
       "    <tr style=\"text-align: right;\">\n",
       "      <th></th>\n",
       "      <th>population</th>\n",
       "      <th>area</th>\n",
       "      <th>country</th>\n",
       "    </tr>\n",
       "  </thead>\n",
       "  <tbody>\n",
       "    <tr>\n",
       "      <th>California</th>\n",
       "      <td>38332521</td>\n",
       "      <td>423967</td>\n",
       "      <td>USA</td>\n",
       "    </tr>\n",
       "    <tr>\n",
       "      <th>Texas</th>\n",
       "      <td>26448193</td>\n",
       "      <td>695662</td>\n",
       "      <td>USA</td>\n",
       "    </tr>\n",
       "    <tr>\n",
       "      <th>New York</th>\n",
       "      <td>19651127</td>\n",
       "      <td>141297</td>\n",
       "      <td>USA</td>\n",
       "    </tr>\n",
       "    <tr>\n",
       "      <th>Florida</th>\n",
       "      <td>19552860</td>\n",
       "      <td>170312</td>\n",
       "      <td>USA</td>\n",
       "    </tr>\n",
       "    <tr>\n",
       "      <th>Illinois</th>\n",
       "      <td>12882135</td>\n",
       "      <td>149995</td>\n",
       "      <td>USA</td>\n",
       "    </tr>\n",
       "  </tbody>\n",
       "</table>\n",
       "</div>"
      ],
      "text/plain": [
       "            population    area country\n",
       "California    38332521  423967     USA\n",
       "Texas         26448193  695662     USA\n",
       "New York      19651127  141297     USA\n",
       "Florida       19552860  170312     USA\n",
       "Illinois      12882135  149995     USA"
      ]
     },
     "execution_count": 31,
     "metadata": {},
     "output_type": "execute_result"
    }
   ],
   "source": [
    "states.sort_values(by=\"population\", ascending=False)"
   ]
  },
  {
   "cell_type": "code",
   "execution_count": 32,
   "id": "dd922389",
   "metadata": {},
   "outputs": [
    {
     "data": {
      "text/plain": [
       "(California    38332521\n",
       " Texas         26448193\n",
       " New York      19651127\n",
       " Florida       19552860\n",
       " Illinois      12882135\n",
       " Name: population, dtype: int64,\n",
       " pandas.core.series.Series)"
      ]
     },
     "execution_count": 32,
     "metadata": {},
     "output_type": "execute_result"
    }
   ],
   "source": [
    "states['population'], type(states['population'])"
   ]
  },
  {
   "cell_type": "markdown",
   "id": "6289db45",
   "metadata": {},
   "source": [
    "Retrieve the \"keys\" (indices) of the DataFrame where \"population\" has its maximum value:\n"
   ]
  },
  {
   "cell_type": "code",
   "execution_count": 33,
   "id": "3493f366",
   "metadata": {},
   "outputs": [
    {
     "data": {
      "text/plain": [
       "'California'"
      ]
     },
     "execution_count": 33,
     "metadata": {},
     "output_type": "execute_result"
    }
   ],
   "source": [
    "states[\"population\"].idxmax()"
   ]
  },
  {
   "cell_type": "markdown",
   "id": "69688cf5",
   "metadata": {},
   "source": [
    "Gibt die Serie am angegebenen Index zurück:"
   ]
  },
  {
   "cell_type": "code",
   "execution_count": 34,
   "id": "a4d096ba",
   "metadata": {},
   "outputs": [
    {
     "data": {
      "application/vnd.microsoft.datawrangler.viewer.v0+json": {
       "columns": [
        {
         "name": "index",
         "rawType": "object",
         "type": "string"
        },
        {
         "name": "California",
         "rawType": "object",
         "type": "unknown"
        }
       ],
       "ref": "afc24d06-334a-4c88-9ed7-d0e78c4de5ef",
       "rows": [
        [
         "population",
         "38332521"
        ],
        [
         "area",
         "423967"
        ],
        [
         "country",
         "USA"
        ]
       ],
       "shape": {
        "columns": 1,
        "rows": 3
       }
      },
      "text/plain": [
       "population    38332521\n",
       "area            423967\n",
       "country            USA\n",
       "Name: California, dtype: object"
      ]
     },
     "execution_count": 34,
     "metadata": {},
     "output_type": "execute_result"
    }
   ],
   "source": [
    "states.loc[states[\"population\"].idxmax()]"
   ]
  },
  {
   "cell_type": "markdown",
   "id": "d2c7314f",
   "metadata": {},
   "source": [
    "Return the Series at the specified index:\n"
   ]
  },
  {
   "cell_type": "code",
   "execution_count": 35,
   "id": "f68fd863",
   "metadata": {},
   "outputs": [
    {
     "data": {
      "application/vnd.microsoft.datawrangler.viewer.v0+json": {
       "columns": [
        {
         "name": "index",
         "rawType": "object",
         "type": "string"
        },
        {
         "name": "0",
         "rawType": "object",
         "type": "unknown"
        }
       ],
       "ref": "69f26d77-b42d-4119-9785-ac5d2dd2c05a",
       "rows": [
        [
         "population",
         "38332521"
        ],
        [
         "area",
         "695662"
        ],
        [
         "country",
         "USA"
        ]
       ],
       "shape": {
        "columns": 1,
        "rows": 3
       }
      },
      "text/plain": [
       "population    38332521\n",
       "area            695662\n",
       "country            USA\n",
       "dtype: object"
      ]
     },
     "execution_count": 35,
     "metadata": {},
     "output_type": "execute_result"
    }
   ],
   "source": [
    "states.max()"
   ]
  },
  {
   "cell_type": "code",
   "execution_count": 36,
   "id": "df3b7117",
   "metadata": {},
   "outputs": [
    {
     "name": "stdout",
     "output_type": "stream",
     "text": [
      "KeyError: 'California'\n"
     ]
    }
   ],
   "source": [
    "try:\n",
    "    states['California']\n",
    "except KeyError as e:\n",
    "    print(\"KeyError:\", e)"
   ]
  },
  {
   "cell_type": "code",
   "execution_count": 37,
   "id": "0892b2b7",
   "metadata": {},
   "outputs": [
    {
     "data": {
      "application/vnd.microsoft.datawrangler.viewer.v0+json": {
       "columns": [
        {
         "name": "index",
         "rawType": "object",
         "type": "string"
        },
        {
         "name": "California",
         "rawType": "object",
         "type": "unknown"
        }
       ],
       "ref": "d4d2a880-dc70-4ba0-8527-b944e97549d7",
       "rows": [
        [
         "population",
         "38332521"
        ],
        [
         "area",
         "423967"
        ],
        [
         "country",
         "USA"
        ]
       ],
       "shape": {
        "columns": 1,
        "rows": 3
       }
      },
      "text/plain": [
       "population    38332521\n",
       "area            423967\n",
       "country            USA\n",
       "Name: California, dtype: object"
      ]
     },
     "execution_count": 37,
     "metadata": {},
     "output_type": "execute_result"
    }
   ],
   "source": [
    "states.loc['California']"
   ]
  },
  {
   "cell_type": "code",
   "execution_count": 38,
   "id": "263d47d3",
   "metadata": {},
   "outputs": [
    {
     "data": {
      "text/plain": [
       "Index(['California', 'Texas', 'New York', 'Florida', 'Illinois'], dtype='object')"
      ]
     },
     "execution_count": 38,
     "metadata": {},
     "output_type": "execute_result"
    }
   ],
   "source": [
    "states.index"
   ]
  },
  {
   "cell_type": "code",
   "execution_count": 39,
   "id": "03751a4d",
   "metadata": {},
   "outputs": [
    {
     "data": {
      "text/plain": [
       "Index(['population', 'area', 'country'], dtype='object')"
      ]
     },
     "execution_count": 39,
     "metadata": {},
     "output_type": "execute_result"
    }
   ],
   "source": [
    "states.columns"
   ]
  },
  {
   "cell_type": "code",
   "execution_count": 40,
   "id": "9dc11835",
   "metadata": {},
   "outputs": [
    {
     "data": {
      "text/plain": [
       "array([[38332521, 423967, 'USA'],\n",
       "       [26448193, 695662, 'USA'],\n",
       "       [19651127, 141297, 'USA'],\n",
       "       [19552860, 170312, 'USA'],\n",
       "       [12882135, 149995, 'USA']], dtype=object)"
      ]
     },
     "execution_count": 40,
     "metadata": {},
     "output_type": "execute_result"
    }
   ],
   "source": [
    "states.values"
   ]
  },
  {
   "cell_type": "code",
   "execution_count": 41,
   "id": "70bf2803",
   "metadata": {},
   "outputs": [
    {
     "data": {
      "text/plain": [
       "numpy.ndarray"
      ]
     },
     "execution_count": 41,
     "metadata": {},
     "output_type": "execute_result"
    }
   ],
   "source": [
    "type(states.values)"
   ]
  },
  {
   "cell_type": "markdown",
   "id": "be37e22a",
   "metadata": {},
   "source": [
    "You can think of a DataFrame as a generalization of a two-dimensional NumPy array, where both rows and columns have a generalized index for accessing the data.\n"
   ]
  },
  {
   "cell_type": "markdown",
   "id": "d206e12d",
   "metadata": {},
   "source": [
    "### DataFrame as a Specialized Dictionary\n",
    "\n",
    "Similarly, we can think of a DataFrame as a specialization of a dictionary.  \n",
    "Where a dictionary maps a key to a value, a DataFrame maps a column name to a Series of column data.  \n",
    "For example, if you request the attribute `\"area\"`, you get the `Series` object containing the areas we saw earlier.\n",
    "\n",
    "Note that indexing a DataFrame with square brackets returns the *column*!\n"
   ]
  },
  {
   "cell_type": "code",
   "execution_count": 42,
   "id": "3d027c9a",
   "metadata": {},
   "outputs": [
    {
     "data": {
      "application/vnd.microsoft.datawrangler.viewer.v0+json": {
       "columns": [
        {
         "name": "index",
         "rawType": "object",
         "type": "string"
        },
        {
         "name": "area",
         "rawType": "int64",
         "type": "integer"
        }
       ],
       "ref": "47e1724d-d0f8-4ebc-86b8-e24db2828ebc",
       "rows": [
        [
         "California",
         "423967"
        ],
        [
         "Texas",
         "695662"
        ],
        [
         "New York",
         "141297"
        ],
        [
         "Florida",
         "170312"
        ],
        [
         "Illinois",
         "149995"
        ]
       ],
       "shape": {
        "columns": 1,
        "rows": 5
       }
      },
      "text/plain": [
       "California    423967\n",
       "Texas         695662\n",
       "New York      141297\n",
       "Florida       170312\n",
       "Illinois      149995\n",
       "Name: area, dtype: int64"
      ]
     },
     "execution_count": 42,
     "metadata": {},
     "output_type": "execute_result"
    }
   ],
   "source": [
    "states[\"area\"]"
   ]
  },
  {
   "cell_type": "code",
   "execution_count": 43,
   "id": "2de178d4",
   "metadata": {},
   "outputs": [
    {
     "data": {
      "text/plain": [
       "pandas.core.series.Series"
      ]
     },
     "execution_count": 43,
     "metadata": {},
     "output_type": "execute_result"
    }
   ],
   "source": [
    "type(states[\"area\"])"
   ]
  },
  {
   "cell_type": "markdown",
   "id": "a2957e35",
   "metadata": {},
   "source": [
    "### Creating DataFrame Objects\n",
    "\n",
    "A Pandas DataFrame can be constructed in several ways:\n"
   ]
  },
  {
   "cell_type": "markdown",
   "id": "806771f8",
   "metadata": {},
   "source": [
    "#### From a Single Series Object\n",
    "\n",
    "A DataFrame is a collection of Series objects, and a single-column DataFrame can be constructed from just one Series:\n"
   ]
  },
  {
   "cell_type": "code",
   "execution_count": 44,
   "id": "b7f5fa55",
   "metadata": {},
   "outputs": [
    {
     "data": {
      "application/vnd.microsoft.datawrangler.viewer.v0+json": {
       "columns": [
        {
         "name": "index",
         "rawType": "object",
         "type": "string"
        },
        {
         "name": "0",
         "rawType": "int64",
         "type": "integer"
        }
       ],
       "ref": "16052eb8-6250-488b-8a53-e0a2538a67a0",
       "rows": [
        [
         "California",
         "38332521"
        ],
        [
         "Texas",
         "26448193"
        ],
        [
         "New York",
         "19651127"
        ],
        [
         "Florida",
         "19552860"
        ],
        [
         "Illinois",
         "12882135"
        ]
       ],
       "shape": {
        "columns": 1,
        "rows": 5
       }
      },
      "text/plain": [
       "California    38332521\n",
       "Texas         26448193\n",
       "New York      19651127\n",
       "Florida       19552860\n",
       "Illinois      12882135\n",
       "dtype: int64"
      ]
     },
     "execution_count": 44,
     "metadata": {},
     "output_type": "execute_result"
    }
   ],
   "source": [
    "population"
   ]
  },
  {
   "cell_type": "code",
   "execution_count": 45,
   "id": "264ebf24",
   "metadata": {},
   "outputs": [
    {
     "data": {
      "application/vnd.microsoft.datawrangler.viewer.v0+json": {
       "columns": [
        {
         "name": "index",
         "rawType": "object",
         "type": "string"
        },
        {
         "name": "population",
         "rawType": "int64",
         "type": "integer"
        }
       ],
       "ref": "af5a299c-7e8e-48f6-bb39-0c0de6c46dbb",
       "rows": [
        [
         "California",
         "38332521"
        ],
        [
         "Texas",
         "26448193"
        ],
        [
         "New York",
         "19651127"
        ],
        [
         "Florida",
         "19552860"
        ],
        [
         "Illinois",
         "12882135"
        ]
       ],
       "shape": {
        "columns": 1,
        "rows": 5
       }
      },
      "text/html": [
       "<div>\n",
       "<style scoped>\n",
       "    .dataframe tbody tr th:only-of-type {\n",
       "        vertical-align: middle;\n",
       "    }\n",
       "\n",
       "    .dataframe tbody tr th {\n",
       "        vertical-align: top;\n",
       "    }\n",
       "\n",
       "    .dataframe thead th {\n",
       "        text-align: right;\n",
       "    }\n",
       "</style>\n",
       "<table border=\"1\" class=\"dataframe\">\n",
       "  <thead>\n",
       "    <tr style=\"text-align: right;\">\n",
       "      <th></th>\n",
       "      <th>population</th>\n",
       "    </tr>\n",
       "  </thead>\n",
       "  <tbody>\n",
       "    <tr>\n",
       "      <th>California</th>\n",
       "      <td>38332521</td>\n",
       "    </tr>\n",
       "    <tr>\n",
       "      <th>Texas</th>\n",
       "      <td>26448193</td>\n",
       "    </tr>\n",
       "    <tr>\n",
       "      <th>New York</th>\n",
       "      <td>19651127</td>\n",
       "    </tr>\n",
       "    <tr>\n",
       "      <th>Florida</th>\n",
       "      <td>19552860</td>\n",
       "    </tr>\n",
       "    <tr>\n",
       "      <th>Illinois</th>\n",
       "      <td>12882135</td>\n",
       "    </tr>\n",
       "  </tbody>\n",
       "</table>\n",
       "</div>"
      ],
      "text/plain": [
       "            population\n",
       "California    38332521\n",
       "Texas         26448193\n",
       "New York      19651127\n",
       "Florida       19552860\n",
       "Illinois      12882135"
      ]
     },
     "execution_count": 45,
     "metadata": {},
     "output_type": "execute_result"
    }
   ],
   "source": [
    "pd.DataFrame(population, columns=['population'])"
   ]
  },
  {
   "cell_type": "markdown",
   "id": "621958bf",
   "metadata": {},
   "source": [
    "#### From Multiple Series Objects\n"
   ]
  },
  {
   "cell_type": "code",
   "execution_count": 46,
   "id": "e50cb05f",
   "metadata": {},
   "outputs": [
    {
     "data": {
      "application/vnd.microsoft.datawrangler.viewer.v0+json": {
       "columns": [
        {
         "name": "index",
         "rawType": "int64",
         "type": "integer"
        },
        {
         "name": "0",
         "rawType": "object",
         "type": "string"
        },
        {
         "name": "1",
         "rawType": "object",
         "type": "string"
        }
       ],
       "ref": "a8d40d9d-fba3-4908-afac-3f5e6463bccd",
       "rows": [
        [
         "0",
         "100",
         "10"
        ],
        [
         "1",
         "200",
         "20"
        ],
        [
         "2",
         "python",
         "php"
        ],
        [
         "3",
         "300.12",
         "30.12"
        ],
        [
         "4",
         "400",
         "40"
        ]
       ],
       "shape": {
        "columns": 2,
        "rows": 5
       }
      },
      "text/html": [
       "<div>\n",
       "<style scoped>\n",
       "    .dataframe tbody tr th:only-of-type {\n",
       "        vertical-align: middle;\n",
       "    }\n",
       "\n",
       "    .dataframe tbody tr th {\n",
       "        vertical-align: top;\n",
       "    }\n",
       "\n",
       "    .dataframe thead th {\n",
       "        text-align: right;\n",
       "    }\n",
       "</style>\n",
       "<table border=\"1\" class=\"dataframe\">\n",
       "  <thead>\n",
       "    <tr style=\"text-align: right;\">\n",
       "      <th></th>\n",
       "      <th>0</th>\n",
       "      <th>1</th>\n",
       "    </tr>\n",
       "  </thead>\n",
       "  <tbody>\n",
       "    <tr>\n",
       "      <th>0</th>\n",
       "      <td>100</td>\n",
       "      <td>10</td>\n",
       "    </tr>\n",
       "    <tr>\n",
       "      <th>1</th>\n",
       "      <td>200</td>\n",
       "      <td>20</td>\n",
       "    </tr>\n",
       "    <tr>\n",
       "      <th>2</th>\n",
       "      <td>python</td>\n",
       "      <td>php</td>\n",
       "    </tr>\n",
       "    <tr>\n",
       "      <th>3</th>\n",
       "      <td>300.12</td>\n",
       "      <td>30.12</td>\n",
       "    </tr>\n",
       "    <tr>\n",
       "      <th>4</th>\n",
       "      <td>400</td>\n",
       "      <td>40</td>\n",
       "    </tr>\n",
       "  </tbody>\n",
       "</table>\n",
       "</div>"
      ],
      "text/plain": [
       "        0      1\n",
       "0     100     10\n",
       "1     200     20\n",
       "2  python    php\n",
       "3  300.12  30.12\n",
       "4     400     40"
      ]
     },
     "execution_count": 46,
     "metadata": {},
     "output_type": "execute_result"
    }
   ],
   "source": [
    "s1 = pd.Series(['100', '200', 'python', '300.12', '400'])\n",
    "s2 = pd.Series(['10', '20', 'php', '30.12', '40'])\n",
    "df = pd.concat([s1, s2], axis='columns')\n",
    "df"
   ]
  },
  {
   "cell_type": "markdown",
   "id": "3fbb4238",
   "metadata": {},
   "source": [
    "Note that many functions in Pandas take the `axis` argument—in this case, you can choose between 0/`index` and 1/`columns`.  \n",
    "If you want to be explicit, I recommend using the string version!\n"
   ]
  },
  {
   "cell_type": "markdown",
   "id": "220b568b",
   "metadata": {},
   "source": [
    "#### From a List of Dictionaries\n",
    "\n",
    "Any list of dictionaries can be turned into a DataFrame.  \n",
    "We’ll use a simple list comprehension to generate some data.  \n",
    "Even if some keys are missing from the dictionaries, Pandas will fill those with NaN (i.e., “not a number”) values:\n"
   ]
  },
  {
   "cell_type": "code",
   "execution_count": 47,
   "id": "ae86200c",
   "metadata": {},
   "outputs": [
    {
     "data": {
      "application/vnd.microsoft.datawrangler.viewer.v0+json": {
       "columns": [
        {
         "name": "index",
         "rawType": "object",
         "type": "string"
        },
        {
         "name": "a",
         "rawType": "float64",
         "type": "float"
        },
        {
         "name": "b",
         "rawType": "int64",
         "type": "integer"
        },
        {
         "name": "c",
         "rawType": "float64",
         "type": "float"
        }
       ],
       "ref": "9bba22e5-bab0-4ee1-915b-e59a0b28060a",
       "rows": [
        [
         "first_dict",
         "1.0",
         "2",
         null
        ],
        [
         "second_dict",
         null,
         "3",
         "4.0"
        ]
       ],
       "shape": {
        "columns": 3,
        "rows": 2
       }
      },
      "text/html": [
       "<div>\n",
       "<style scoped>\n",
       "    .dataframe tbody tr th:only-of-type {\n",
       "        vertical-align: middle;\n",
       "    }\n",
       "\n",
       "    .dataframe tbody tr th {\n",
       "        vertical-align: top;\n",
       "    }\n",
       "\n",
       "    .dataframe thead th {\n",
       "        text-align: right;\n",
       "    }\n",
       "</style>\n",
       "<table border=\"1\" class=\"dataframe\">\n",
       "  <thead>\n",
       "    <tr style=\"text-align: right;\">\n",
       "      <th></th>\n",
       "      <th>a</th>\n",
       "      <th>b</th>\n",
       "      <th>c</th>\n",
       "    </tr>\n",
       "  </thead>\n",
       "  <tbody>\n",
       "    <tr>\n",
       "      <th>first_dict</th>\n",
       "      <td>1.0</td>\n",
       "      <td>2</td>\n",
       "      <td>NaN</td>\n",
       "    </tr>\n",
       "    <tr>\n",
       "      <th>second_dict</th>\n",
       "      <td>NaN</td>\n",
       "      <td>3</td>\n",
       "      <td>4.0</td>\n",
       "    </tr>\n",
       "  </tbody>\n",
       "</table>\n",
       "</div>"
      ],
      "text/plain": [
       "               a  b    c\n",
       "first_dict   1.0  2  NaN\n",
       "second_dict  NaN  3  4.0"
      ]
     },
     "execution_count": 47,
     "metadata": {},
     "output_type": "execute_result"
    }
   ],
   "source": [
    "df = pd.DataFrame([{'a': 1, 'b': 2}, {'b': 3, 'c': 4}], index=[\"first_dict\", \"second_dict\"])\n",
    "df"
   ]
  },
  {
   "cell_type": "markdown",
   "id": "0aa3ff8c",
   "metadata": {},
   "source": [
    "Since each column must have a consistent data type and `np.NaN` is a float, some of the numbers will be converted to floats:\n"
   ]
  },
  {
   "cell_type": "code",
   "execution_count": 48,
   "id": "d7fcfb14",
   "metadata": {},
   "outputs": [
    {
     "data": {
      "application/vnd.microsoft.datawrangler.viewer.v0+json": {
       "columns": [
        {
         "name": "index",
         "rawType": "object",
         "type": "string"
        },
        {
         "name": "a",
         "rawType": "float64",
         "type": "float"
        }
       ],
       "ref": "517060a3-0687-4764-85d5-1e32d7fba3af",
       "rows": [
        [
         "first_dict",
         "1.0"
        ],
        [
         "second_dict",
         null
        ]
       ],
       "shape": {
        "columns": 1,
        "rows": 2
       }
      },
      "text/plain": [
       "first_dict     1.0\n",
       "second_dict    NaN\n",
       "Name: a, dtype: float64"
      ]
     },
     "execution_count": 48,
     "metadata": {},
     "output_type": "execute_result"
    }
   ],
   "source": [
    "df['a']"
   ]
  },
  {
   "cell_type": "code",
   "execution_count": 49,
   "id": "f21ac6ee",
   "metadata": {},
   "outputs": [
    {
     "data": {
      "application/vnd.microsoft.datawrangler.viewer.v0+json": {
       "columns": [
        {
         "name": "index",
         "rawType": "object",
         "type": "string"
        },
        {
         "name": "b",
         "rawType": "int64",
         "type": "integer"
        }
       ],
       "ref": "00375820-2ce0-46d0-8cb7-4c955fabbac1",
       "rows": [
        [
         "first_dict",
         "2"
        ],
        [
         "second_dict",
         "3"
        ]
       ],
       "shape": {
        "columns": 1,
        "rows": 2
       }
      },
      "text/plain": [
       "first_dict     2\n",
       "second_dict    3\n",
       "Name: b, dtype: int64"
      ]
     },
     "execution_count": 49,
     "metadata": {},
     "output_type": "execute_result"
    }
   ],
   "source": [
    "df['b']"
   ]
  },
  {
   "cell_type": "code",
   "execution_count": 50,
   "id": "2e407de2",
   "metadata": {},
   "outputs": [
    {
     "data": {
      "text/plain": [
       "float"
      ]
     },
     "execution_count": 50,
     "metadata": {},
     "output_type": "execute_result"
    }
   ],
   "source": [
    "type(np.nan)"
   ]
  },
  {
   "cell_type": "code",
   "execution_count": 51,
   "id": "64f7ae5b",
   "metadata": {},
   "outputs": [
    {
     "data": {
      "application/vnd.microsoft.datawrangler.viewer.v0+json": {
       "columns": [
        {
         "name": "index",
         "rawType": "object",
         "type": "string"
        },
        {
         "name": "0",
         "rawType": "object",
         "type": "unknown"
        }
       ],
       "ref": "ea9e35ca-6142-4c5e-8334-3558963fba5e",
       "rows": [
        [
         "a",
         "float64"
        ],
        [
         "b",
         "int64"
        ],
        [
         "c",
         "float64"
        ]
       ],
       "shape": {
        "columns": 1,
        "rows": 3
       }
      },
      "text/plain": [
       "a    float64\n",
       "b      int64\n",
       "c    float64\n",
       "dtype: object"
      ]
     },
     "execution_count": 51,
     "metadata": {},
     "output_type": "execute_result"
    }
   ],
   "source": [
    "df.dtypes"
   ]
  },
  {
   "cell_type": "markdown",
   "id": "9e6810d7",
   "metadata": {},
   "source": [
    "If we wanted to retrieve the rows, Pandas would have to explicitly enforce the numbers:\n"
   ]
  },
  {
   "cell_type": "code",
   "execution_count": 52,
   "id": "4507b9e2",
   "metadata": {},
   "outputs": [
    {
     "data": {
      "application/vnd.microsoft.datawrangler.viewer.v0+json": {
       "columns": [
        {
         "name": "index",
         "rawType": "object",
         "type": "string"
        },
        {
         "name": "a",
         "rawType": "float64",
         "type": "float"
        },
        {
         "name": "b",
         "rawType": "int64",
         "type": "integer"
        },
        {
         "name": "c",
         "rawType": "float64",
         "type": "float"
        }
       ],
       "ref": "e56032d9-237c-4489-bc34-ee3d778576fc",
       "rows": [
        [
         "first_dict",
         "1.0",
         "2",
         null
        ],
        [
         "second_dict",
         null,
         "3",
         "4.0"
        ]
       ],
       "shape": {
        "columns": 3,
        "rows": 2
       }
      },
      "text/html": [
       "<div>\n",
       "<style scoped>\n",
       "    .dataframe tbody tr th:only-of-type {\n",
       "        vertical-align: middle;\n",
       "    }\n",
       "\n",
       "    .dataframe tbody tr th {\n",
       "        vertical-align: top;\n",
       "    }\n",
       "\n",
       "    .dataframe thead th {\n",
       "        text-align: right;\n",
       "    }\n",
       "</style>\n",
       "<table border=\"1\" class=\"dataframe\">\n",
       "  <thead>\n",
       "    <tr style=\"text-align: right;\">\n",
       "      <th></th>\n",
       "      <th>a</th>\n",
       "      <th>b</th>\n",
       "      <th>c</th>\n",
       "    </tr>\n",
       "  </thead>\n",
       "  <tbody>\n",
       "    <tr>\n",
       "      <th>first_dict</th>\n",
       "      <td>1.0</td>\n",
       "      <td>2</td>\n",
       "      <td>NaN</td>\n",
       "    </tr>\n",
       "    <tr>\n",
       "      <th>second_dict</th>\n",
       "      <td>NaN</td>\n",
       "      <td>3</td>\n",
       "      <td>4.0</td>\n",
       "    </tr>\n",
       "  </tbody>\n",
       "</table>\n",
       "</div>"
      ],
      "text/plain": [
       "               a  b    c\n",
       "first_dict   1.0  2  NaN\n",
       "second_dict  NaN  3  4.0"
      ]
     },
     "execution_count": 52,
     "metadata": {},
     "output_type": "execute_result"
    }
   ],
   "source": [
    "df"
   ]
  },
  {
   "cell_type": "code",
   "execution_count": 53,
   "id": "8c092899",
   "metadata": {},
   "outputs": [
    {
     "data": {
      "application/vnd.microsoft.datawrangler.viewer.v0+json": {
       "columns": [
        {
         "name": "index",
         "rawType": "object",
         "type": "string"
        },
        {
         "name": "first_dict",
         "rawType": "float64",
         "type": "float"
        }
       ],
       "ref": "8976999e-ef0e-4860-86fd-415985c5d368",
       "rows": [
        [
         "a",
         "1.0"
        ],
        [
         "b",
         "2.0"
        ],
        [
         "c",
         null
        ]
       ],
       "shape": {
        "columns": 1,
        "rows": 3
       }
      },
      "text/plain": [
       "a    1.0\n",
       "b    2.0\n",
       "c    NaN\n",
       "Name: first_dict, dtype: float64"
      ]
     },
     "execution_count": 53,
     "metadata": {},
     "output_type": "execute_result"
    }
   ],
   "source": [
    "df.loc['first_dict']"
   ]
  },
  {
   "cell_type": "markdown",
   "id": "868a4161",
   "metadata": {},
   "source": [
    "#### From a Two-Dimensional NumPy Array\n",
    "\n",
    "From a two-dimensional array of data, we can create a DataFrame with specified column and index names.  \n",
    "If none are provided, an integer index will be used for each column:\n"
   ]
  },
  {
   "cell_type": "code",
   "execution_count": 54,
   "id": "9b9583d7",
   "metadata": {},
   "outputs": [
    {
     "data": {
      "application/vnd.microsoft.datawrangler.viewer.v0+json": {
       "columns": [
        {
         "name": "index",
         "rawType": "datetime64[ns]",
         "type": "datetime"
        },
        {
         "name": "A",
         "rawType": "float64",
         "type": "float"
        },
        {
         "name": "B",
         "rawType": "float64",
         "type": "float"
        },
        {
         "name": "C",
         "rawType": "float64",
         "type": "float"
        },
        {
         "name": "D",
         "rawType": "float64",
         "type": "float"
        }
       ],
       "ref": "fb6c36d0-f430-4b8d-aa71-329d5de709ea",
       "rows": [
        [
         "2013-01-01 00:00:00",
         "-0.852176538103289",
         "0.9870767003363283",
         "-0.8773522948354071",
         "0.004227796905047929"
        ],
        [
         "2013-01-02 00:00:00",
         "-0.5720418179151294",
         "1.2029976815262864",
         "-0.31482934392774664",
         "-1.3951337107949833"
        ],
        [
         "2013-01-03 00:00:00",
         "-1.6129464938748619",
         "2.2517269239929982",
         "0.5075961046636738",
         "-0.9338510780811117"
        ],
        [
         "2013-01-04 00:00:00",
         "-0.6396190927687745",
         "0.6489637608607925",
         "-1.8850118263351068",
         "0.8833140592940267"
        ],
        [
         "2013-01-05 00:00:00",
         "0.5674752541949125",
         "-1.1591346927554902",
         "-1.139363289792675",
         "0.15176437709939064"
        ],
        [
         "2013-01-06 00:00:00",
         "-0.6801838991744618",
         "-0.8580350728102342",
         "0.40191621644747866",
         "1.408602923448453"
        ]
       ],
       "shape": {
        "columns": 4,
        "rows": 6
       }
      },
      "text/html": [
       "<div>\n",
       "<style scoped>\n",
       "    .dataframe tbody tr th:only-of-type {\n",
       "        vertical-align: middle;\n",
       "    }\n",
       "\n",
       "    .dataframe tbody tr th {\n",
       "        vertical-align: top;\n",
       "    }\n",
       "\n",
       "    .dataframe thead th {\n",
       "        text-align: right;\n",
       "    }\n",
       "</style>\n",
       "<table border=\"1\" class=\"dataframe\">\n",
       "  <thead>\n",
       "    <tr style=\"text-align: right;\">\n",
       "      <th></th>\n",
       "      <th>A</th>\n",
       "      <th>B</th>\n",
       "      <th>C</th>\n",
       "      <th>D</th>\n",
       "    </tr>\n",
       "  </thead>\n",
       "  <tbody>\n",
       "    <tr>\n",
       "      <th>2013-01-01</th>\n",
       "      <td>-0.852177</td>\n",
       "      <td>0.987077</td>\n",
       "      <td>-0.877352</td>\n",
       "      <td>0.004228</td>\n",
       "    </tr>\n",
       "    <tr>\n",
       "      <th>2013-01-02</th>\n",
       "      <td>-0.572042</td>\n",
       "      <td>1.202998</td>\n",
       "      <td>-0.314829</td>\n",
       "      <td>-1.395134</td>\n",
       "    </tr>\n",
       "    <tr>\n",
       "      <th>2013-01-03</th>\n",
       "      <td>-1.612946</td>\n",
       "      <td>2.251727</td>\n",
       "      <td>0.507596</td>\n",
       "      <td>-0.933851</td>\n",
       "    </tr>\n",
       "    <tr>\n",
       "      <th>2013-01-04</th>\n",
       "      <td>-0.639619</td>\n",
       "      <td>0.648964</td>\n",
       "      <td>-1.885012</td>\n",
       "      <td>0.883314</td>\n",
       "    </tr>\n",
       "    <tr>\n",
       "      <th>2013-01-05</th>\n",
       "      <td>0.567475</td>\n",
       "      <td>-1.159135</td>\n",
       "      <td>-1.139363</td>\n",
       "      <td>0.151764</td>\n",
       "    </tr>\n",
       "    <tr>\n",
       "      <th>2013-01-06</th>\n",
       "      <td>-0.680184</td>\n",
       "      <td>-0.858035</td>\n",
       "      <td>0.401916</td>\n",
       "      <td>1.408603</td>\n",
       "    </tr>\n",
       "  </tbody>\n",
       "</table>\n",
       "</div>"
      ],
      "text/plain": [
       "                   A         B         C         D\n",
       "2013-01-01 -0.852177  0.987077 -0.877352  0.004228\n",
       "2013-01-02 -0.572042  1.202998 -0.314829 -1.395134\n",
       "2013-01-03 -1.612946  2.251727  0.507596 -0.933851\n",
       "2013-01-04 -0.639619  0.648964 -1.885012  0.883314\n",
       "2013-01-05  0.567475 -1.159135 -1.139363  0.151764\n",
       "2013-01-06 -0.680184 -0.858035  0.401916  1.408603"
      ]
     },
     "execution_count": 54,
     "metadata": {},
     "output_type": "execute_result"
    }
   ],
   "source": [
    "dates = pd.date_range('20130101', periods=6)\n",
    "df = pd.DataFrame(np.random.randn(6,4), index=dates, columns=list('ABCD'))\n",
    "df"
   ]
  },
  {
   "cell_type": "markdown",
   "id": "5fe43cf8",
   "metadata": {},
   "source": [
    "## The Pandas Index Object\n",
    "\n",
    "We’ve seen that both the Series and the DataFrame objects contain an explicit index that allows you to reference and modify data.  \n",
    "This Index object is an interesting structure in its own right, and can be thought of as an immutable array:\n"
   ]
  },
  {
   "cell_type": "code",
   "execution_count": 55,
   "id": "a63dbf4c",
   "metadata": {},
   "outputs": [
    {
     "data": {
      "text/plain": [
       "Index([2, 3, 5, 7, 11], dtype='int64')"
      ]
     },
     "execution_count": 55,
     "metadata": {},
     "output_type": "execute_result"
    }
   ],
   "source": [
    "ind = pd.Index([2, 3, 5, 7, 11])\n",
    "ind"
   ]
  },
  {
   "cell_type": "code",
   "execution_count": 56,
   "id": "742f3e27",
   "metadata": {},
   "outputs": [
    {
     "name": "stdout",
     "output_type": "stream",
     "text": [
      "TypeError: Index does not support mutable operations\n"
     ]
    }
   ],
   "source": [
    "try:\n",
    "    ind[0] = 1\n",
    "except TypeError as e:\n",
    "    print(\"TypeError:\", e)"
   ]
  },
  {
   "cell_type": "code",
   "execution_count": 57,
   "id": "e4add971",
   "metadata": {},
   "outputs": [
    {
     "data": {
      "application/vnd.microsoft.datawrangler.viewer.v0+json": {
       "columns": [
        {
         "name": "index",
         "rawType": "int64",
         "type": "integer"
        },
        {
         "name": "0",
         "rawType": "int64",
         "type": "integer"
        }
       ],
       "ref": "d789da6c-2d0c-4ec4-8585-3f3784ee6082",
       "rows": [
        [
         "2",
         "0"
        ],
        [
         "3",
         "0"
        ],
        [
         "5",
         "0"
        ],
        [
         "7",
         "0"
        ],
        [
         "11",
         "0"
        ]
       ],
       "shape": {
        "columns": 1,
        "rows": 5
       }
      },
      "text/plain": [
       "2     0\n",
       "3     0\n",
       "5     0\n",
       "7     0\n",
       "11    0\n",
       "dtype: int64"
      ]
     },
     "execution_count": 57,
     "metadata": {},
     "output_type": "execute_result"
    }
   ],
   "source": [
    "sr = pd.Series(0, index=ind)\n",
    "sr"
   ]
  },
  {
   "cell_type": "markdown",
   "id": "23558100",
   "metadata": {},
   "source": [
    "Index objects have a name:\n"
   ]
  },
  {
   "cell_type": "code",
   "execution_count": 58,
   "id": "f7eb744a",
   "metadata": {},
   "outputs": [
    {
     "data": {
      "text/plain": [
       "Index([2, 3, 5, 7, 11], dtype='int64', name='indexx')"
      ]
     },
     "execution_count": 58,
     "metadata": {},
     "output_type": "execute_result"
    }
   ],
   "source": [
    "ind.names = ['indexx']\n",
    "ind"
   ]
  },
  {
   "cell_type": "code",
   "execution_count": 59,
   "id": "329e3671",
   "metadata": {},
   "outputs": [
    {
     "data": {
      "application/vnd.microsoft.datawrangler.viewer.v0+json": {
       "columns": [
        {
         "name": "indexx",
         "rawType": "int64",
         "type": "integer"
        },
        {
         "name": "0",
         "rawType": "int64",
         "type": "integer"
        }
       ],
       "ref": "31443b58-568e-411a-a443-daaf3d685fbd",
       "rows": [
        [
         "2",
         "0"
        ],
        [
         "3",
         "0"
        ],
        [
         "5",
         "0"
        ],
        [
         "7",
         "0"
        ],
        [
         "11",
         "0"
        ]
       ],
       "shape": {
        "columns": 1,
        "rows": 5
       }
      },
      "text/plain": [
       "indexx\n",
       "2     0\n",
       "3     0\n",
       "5     0\n",
       "7     0\n",
       "11    0\n",
       "dtype: int64"
      ]
     },
     "execution_count": 59,
     "metadata": {},
     "output_type": "execute_result"
    }
   ],
   "source": [
    "sr = pd.Series(np.zeros_like(ind), index=ind)\n",
    "sr"
   ]
  },
  {
   "cell_type": "code",
   "execution_count": 60,
   "id": "375e52d4",
   "metadata": {},
   "outputs": [
    {
     "data": {
      "application/vnd.microsoft.datawrangler.viewer.v0+json": {
       "columns": [
        {
         "name": "indexx",
         "rawType": "int64",
         "type": "integer"
        },
        {
         "name": "first",
         "rawType": "int64",
         "type": "integer"
        }
       ],
       "ref": "296f6ee6-20f4-4871-8a00-1ae79641d4d9",
       "rows": [
        [
         "2",
         "0"
        ],
        [
         "3",
         "0"
        ],
        [
         "5",
         "0"
        ],
        [
         "7",
         "0"
        ],
        [
         "11",
         "0"
        ]
       ],
       "shape": {
        "columns": 1,
        "rows": 5
       }
      },
      "text/html": [
       "<div>\n",
       "<style scoped>\n",
       "    .dataframe tbody tr th:only-of-type {\n",
       "        vertical-align: middle;\n",
       "    }\n",
       "\n",
       "    .dataframe tbody tr th {\n",
       "        vertical-align: top;\n",
       "    }\n",
       "\n",
       "    .dataframe thead th {\n",
       "        text-align: right;\n",
       "    }\n",
       "</style>\n",
       "<table border=\"1\" class=\"dataframe\">\n",
       "  <thead>\n",
       "    <tr style=\"text-align: right;\">\n",
       "      <th></th>\n",
       "      <th>first</th>\n",
       "    </tr>\n",
       "    <tr>\n",
       "      <th>indexx</th>\n",
       "      <th></th>\n",
       "    </tr>\n",
       "  </thead>\n",
       "  <tbody>\n",
       "    <tr>\n",
       "      <th>2</th>\n",
       "      <td>0</td>\n",
       "    </tr>\n",
       "    <tr>\n",
       "      <th>3</th>\n",
       "      <td>0</td>\n",
       "    </tr>\n",
       "    <tr>\n",
       "      <th>5</th>\n",
       "      <td>0</td>\n",
       "    </tr>\n",
       "    <tr>\n",
       "      <th>7</th>\n",
       "      <td>0</td>\n",
       "    </tr>\n",
       "    <tr>\n",
       "      <th>11</th>\n",
       "      <td>0</td>\n",
       "    </tr>\n",
       "  </tbody>\n",
       "</table>\n",
       "</div>"
      ],
      "text/plain": [
       "        first\n",
       "indexx       \n",
       "2           0\n",
       "3           0\n",
       "5           0\n",
       "7           0\n",
       "11          0"
      ]
     },
     "execution_count": 60,
     "metadata": {},
     "output_type": "execute_result"
    }
   ],
   "source": [
    "df = pd.DataFrame(np.zeros_like(ind), index=ind, columns=['first'])\n",
    "df"
   ]
  },
  {
   "cell_type": "code",
   "execution_count": 61,
   "id": "9528428a",
   "metadata": {},
   "outputs": [
    {
     "data": {
      "application/vnd.microsoft.datawrangler.viewer.v0+json": {
       "columns": [
        {
         "name": "index",
         "rawType": "int64",
         "type": "integer"
        },
        {
         "name": "first",
         "rawType": "int64",
         "type": "integer"
        }
       ],
       "ref": "6b07e68a-83cc-4615-85ae-247be9383834",
       "rows": [
        [
         "2",
         "0"
        ],
        [
         "3",
         "0"
        ],
        [
         "5",
         "0"
        ],
        [
         "7",
         "0"
        ],
        [
         "11",
         "0"
        ]
       ],
       "shape": {
        "columns": 1,
        "rows": 5
       }
      },
      "text/html": [
       "<div>\n",
       "<style scoped>\n",
       "    .dataframe tbody tr th:only-of-type {\n",
       "        vertical-align: middle;\n",
       "    }\n",
       "\n",
       "    .dataframe tbody tr th {\n",
       "        vertical-align: top;\n",
       "    }\n",
       "\n",
       "    .dataframe thead th {\n",
       "        text-align: right;\n",
       "    }\n",
       "</style>\n",
       "<table border=\"1\" class=\"dataframe\">\n",
       "  <thead>\n",
       "    <tr style=\"text-align: right;\">\n",
       "      <th></th>\n",
       "      <th>first</th>\n",
       "    </tr>\n",
       "  </thead>\n",
       "  <tbody>\n",
       "    <tr>\n",
       "      <th>2</th>\n",
       "      <td>0</td>\n",
       "    </tr>\n",
       "    <tr>\n",
       "      <th>3</th>\n",
       "      <td>0</td>\n",
       "    </tr>\n",
       "    <tr>\n",
       "      <th>5</th>\n",
       "      <td>0</td>\n",
       "    </tr>\n",
       "    <tr>\n",
       "      <th>7</th>\n",
       "      <td>0</td>\n",
       "    </tr>\n",
       "    <tr>\n",
       "      <th>11</th>\n",
       "      <td>0</td>\n",
       "    </tr>\n",
       "  </tbody>\n",
       "</table>\n",
       "</div>"
      ],
      "text/plain": [
       "    first\n",
       "2       0\n",
       "3       0\n",
       "5       0\n",
       "7       0\n",
       "11      0"
      ]
     },
     "execution_count": 61,
     "metadata": {},
     "output_type": "execute_result"
    }
   ],
   "source": [
    "df.index.names = [None]\n",
    "df"
   ]
  },
  {
   "cell_type": "markdown",
   "id": "bbd2f017",
   "metadata": {},
   "source": [
    "Index objects also have many of the attributes familiar from NumPy arrays:\n"
   ]
  },
  {
   "cell_type": "code",
   "execution_count": 62,
   "id": "9f348870",
   "metadata": {},
   "outputs": [
    {
     "data": {
      "text/plain": [
       "(5, (5,), 1, dtype('int64'))"
      ]
     },
     "execution_count": 62,
     "metadata": {},
     "output_type": "execute_result"
    }
   ],
   "source": [
    "ind.size, ind.shape, ind.ndim, ind.dtype"
   ]
  },
  {
   "cell_type": "markdown",
   "id": "c210dafa",
   "metadata": {},
   "source": [
    "While thinking of indices as immutable lists is natural, indices also support set operations:\n"
   ]
  },
  {
   "cell_type": "code",
   "execution_count": 63,
   "id": "216aa1e5",
   "metadata": {},
   "outputs": [],
   "source": [
    "indA = pd.Index([1, 3, 5, 7, 9])\n",
    "indB = pd.Index([2, 3, 5, 7, 11])"
   ]
  },
  {
   "cell_type": "code",
   "execution_count": 64,
   "id": "e6a7646a",
   "metadata": {},
   "outputs": [
    {
     "data": {
      "text/plain": [
       "Index([0, 3, 5, 7, 9], dtype='int64')"
      ]
     },
     "execution_count": 64,
     "metadata": {},
     "output_type": "execute_result"
    }
   ],
   "source": [
    "indA & indB"
   ]
  },
  {
   "cell_type": "code",
   "execution_count": 65,
   "id": "b252757f",
   "metadata": {},
   "outputs": [
    {
     "data": {
      "text/plain": [
       "Index([3, 3, 5, 7, 11], dtype='int64')"
      ]
     },
     "execution_count": 65,
     "metadata": {},
     "output_type": "execute_result"
    }
   ],
   "source": [
    "indA | indB"
   ]
  },
  {
   "cell_type": "code",
   "execution_count": 66,
   "id": "2e4773bb",
   "metadata": {},
   "outputs": [
    {
     "data": {
      "text/plain": [
       "Index([3, 0, 0, 0, 2], dtype='int64')"
      ]
     },
     "execution_count": 66,
     "metadata": {},
     "output_type": "execute_result"
    }
   ],
   "source": [
    "indA ^ indB"
   ]
  },
  {
   "cell_type": "markdown",
   "id": "317c3133",
   "metadata": {},
   "source": [
    "## Indexing, Selection, and Assignment of Data\n",
    "\n",
    "From the NumPy notebook, we are already familiar with indexing, slicing, masking, and fancy indexing:\n"
   ]
  },
  {
   "cell_type": "code",
   "execution_count": 67,
   "id": "ceb5ceaa",
   "metadata": {},
   "outputs": [
    {
     "data": {
      "text/plain": [
       "array([[ 0,  1,  2,  3],\n",
       "       [ 4,  5,  6,  7],\n",
       "       [ 8,  9, 10, 11],\n",
       "       [12, 13, 14, 15]])"
      ]
     },
     "execution_count": 67,
     "metadata": {},
     "output_type": "execute_result"
    }
   ],
   "source": [
    "a = np.arange(16).reshape(4,4)\n",
    "a"
   ]
  },
  {
   "cell_type": "markdown",
   "id": "aa85f380",
   "metadata": {},
   "source": [
    "Select the values from the second and fourth columns that are divisible by 3:"
   ]
  },
  {
   "cell_type": "code",
   "execution_count": 68,
   "id": "dd89af4b",
   "metadata": {},
   "outputs": [
    {
     "data": {
      "text/plain": [
       "array([ 3,  9, 15])"
      ]
     },
     "execution_count": 68,
     "metadata": {},
     "output_type": "execute_result"
    }
   ],
   "source": [
    "a[:, [1, 3]][a[:, [1, 3]] % 3 == 0]"
   ]
  },
  {
   "cell_type": "markdown",
   "id": "f5852f75",
   "metadata": {},
   "source": [
    "Here we will look at similar ways of accessing and modifying values in Pandas Series and DataFrame objects.  \n",
    "The corresponding patterns in Pandas are very similar to those in NumPy, although there are a few special considerations to keep in mind.\n",
    "\n",
    "We’ll start with the simple case of the one-dimensional Series object, and then move on to the slightly more complex two-dimensional DataFrame object.\n"
   ]
  },
  {
   "cell_type": "markdown",
   "id": "e7fa6764",
   "metadata": {},
   "source": [
    "### Data Selection in Series\n",
    "\n",
    "As we saw in the previous section, a Series object behaves in many ways like a one-dimensional NumPy array and in many ways like a standard Python dictionary.  \n",
    "Keeping these two overlapping analogies in mind will help us understand the patterns of data indexing and selection in these arrays.\n"
   ]
  },
  {
   "cell_type": "markdown",
   "id": "bc75ee43",
   "metadata": {},
   "source": [
    "#### Series as a Dictionary\n",
    "\n",
    "Like a dictionary, the Series object maps a collection of keys to a collection of values, which means that most of the corresponding functions work just as well for it:\n"
   ]
  },
  {
   "cell_type": "code",
   "execution_count": 69,
   "id": "a9bdf130",
   "metadata": {},
   "outputs": [
    {
     "data": {
      "application/vnd.microsoft.datawrangler.viewer.v0+json": {
       "columns": [
        {
         "name": "index",
         "rawType": "object",
         "type": "string"
        },
        {
         "name": "0",
         "rawType": "float64",
         "type": "float"
        }
       ],
       "ref": "032dc150-f745-4661-9a63-db476b64b86c",
       "rows": [
        [
         "a",
         "0.25"
        ],
        [
         "b",
         "0.5"
        ],
        [
         "c",
         "0.75"
        ],
        [
         "d",
         "1.0"
        ]
       ],
       "shape": {
        "columns": 1,
        "rows": 4
       }
      },
      "text/plain": [
       "a    0.25\n",
       "b    0.50\n",
       "c    0.75\n",
       "d    1.00\n",
       "dtype: float64"
      ]
     },
     "execution_count": 69,
     "metadata": {},
     "output_type": "execute_result"
    }
   ],
   "source": [
    "data = pd.Series([0.25, 0.5, 0.75, 1.0], index=['a', 'b', 'c', 'd'])\n",
    "data"
   ]
  },
  {
   "cell_type": "code",
   "execution_count": 70,
   "id": "7f2fab71",
   "metadata": {},
   "outputs": [
    {
     "data": {
      "text/plain": [
       "True"
      ]
     },
     "execution_count": 70,
     "metadata": {},
     "output_type": "execute_result"
    }
   ],
   "source": [
    "data.__contains__('b')"
   ]
  },
  {
   "cell_type": "code",
   "execution_count": 71,
   "id": "b65fd8b1",
   "metadata": {},
   "outputs": [
    {
     "data": {
      "text/plain": [
       "True"
      ]
     },
     "execution_count": 71,
     "metadata": {},
     "output_type": "execute_result"
    }
   ],
   "source": [
    "'b' in data"
   ]
  },
  {
   "cell_type": "code",
   "execution_count": 72,
   "id": "50496d6a",
   "metadata": {},
   "outputs": [
    {
     "data": {
      "text/plain": [
       "True"
      ]
     },
     "execution_count": 72,
     "metadata": {},
     "output_type": "execute_result"
    }
   ],
   "source": [
    "np.array_equal(data.keys(), data.index)"
   ]
  },
  {
   "cell_type": "code",
   "execution_count": 73,
   "id": "6f7e6933",
   "metadata": {},
   "outputs": [
    {
     "data": {
      "application/vnd.microsoft.datawrangler.viewer.v0+json": {
       "columns": [
        {
         "name": "index",
         "rawType": "object",
         "type": "string"
        },
        {
         "name": "0",
         "rawType": "float64",
         "type": "float"
        }
       ],
       "ref": "c9c0d5ab-4206-487e-989c-8adb103f882a",
       "rows": [
        [
         "a",
         "0.25"
        ],
        [
         "b",
         "0.5"
        ],
        [
         "c",
         "0.75"
        ],
        [
         "d",
         "1.0"
        ]
       ],
       "shape": {
        "columns": 1,
        "rows": 4
       }
      },
      "text/plain": [
       "a    0.25\n",
       "b    0.50\n",
       "c    0.75\n",
       "d    1.00\n",
       "dtype: float64"
      ]
     },
     "execution_count": 73,
     "metadata": {},
     "output_type": "execute_result"
    }
   ],
   "source": [
    "data"
   ]
  },
  {
   "cell_type": "code",
   "execution_count": 74,
   "id": "7bd56435",
   "metadata": {},
   "outputs": [
    {
     "data": {
      "text/plain": [
       "[('a', 0.25), ('b', 0.5), ('c', 0.75), ('d', 1.0)]"
      ]
     },
     "execution_count": 74,
     "metadata": {},
     "output_type": "execute_result"
    }
   ],
   "source": [
    "list(data.items())"
   ]
  },
  {
   "cell_type": "code",
   "execution_count": 75,
   "id": "2418ab1a",
   "metadata": {},
   "outputs": [
    {
     "data": {
      "application/vnd.microsoft.datawrangler.viewer.v0+json": {
       "columns": [
        {
         "name": "index",
         "rawType": "object",
         "type": "string"
        },
        {
         "name": "0",
         "rawType": "float64",
         "type": "float"
        }
       ],
       "ref": "eb2e8fc8-0273-4074-a32a-cf28670a2d1d",
       "rows": [
        [
         "a",
         "0.25"
        ],
        [
         "b",
         "0.5"
        ],
        [
         "c",
         "0.75"
        ],
        [
         "d",
         "1.0"
        ],
        [
         "e",
         "1.25"
        ]
       ],
       "shape": {
        "columns": 1,
        "rows": 5
       }
      },
      "text/plain": [
       "a    0.25\n",
       "b    0.50\n",
       "c    0.75\n",
       "d    1.00\n",
       "e    1.25\n",
       "dtype: float64"
      ]
     },
     "execution_count": 75,
     "metadata": {},
     "output_type": "execute_result"
    }
   ],
   "source": [
    "data['e'] = 1.25\n",
    "data"
   ]
  },
  {
   "cell_type": "markdown",
   "id": "1240f436",
   "metadata": {},
   "source": [
    "#### Series as a One-Dimensional Array\n",
    "\n",
    "Series builds on this dictionary-like interface and provides array-style element selection using the same basic mechanisms as NumPy arrays—namely slicing, masking, and fancy indexing.  \n",
    "Examples include the following:\n",
    "\n",
    "* Slicing by explicit index\n"
   ]
  },
  {
   "cell_type": "code",
   "execution_count": 76,
   "id": "b1959a5b",
   "metadata": {},
   "outputs": [
    {
     "data": {
      "application/vnd.microsoft.datawrangler.viewer.v0+json": {
       "columns": [
        {
         "name": "index",
         "rawType": "object",
         "type": "string"
        },
        {
         "name": "0",
         "rawType": "float64",
         "type": "float"
        }
       ],
       "ref": "71be47a5-1418-4592-bc75-f4a2724511e3",
       "rows": [
        [
         "a",
         "0.25"
        ],
        [
         "b",
         "0.5"
        ],
        [
         "c",
         "0.75"
        ]
       ],
       "shape": {
        "columns": 1,
        "rows": 3
       }
      },
      "text/plain": [
       "a    0.25\n",
       "b    0.50\n",
       "c    0.75\n",
       "dtype: float64"
      ]
     },
     "execution_count": 76,
     "metadata": {},
     "output_type": "execute_result"
    }
   ],
   "source": [
    "data['a':'c']"
   ]
  },
  {
   "cell_type": "markdown",
   "id": "261cac6a",
   "metadata": {},
   "source": [
    "* Slicing by implicit integer index\n",
    "\n",
    "(Note that when slicing with an explicit index, e.g. `data['a':'c']`, the final index is included in the slice, whereas when slicing with an implicit index, e.g. `data[0:2]`, the final index is excluded from the slice.)\n"
   ]
  },
  {
   "cell_type": "code",
   "execution_count": 77,
   "id": "e6768c26",
   "metadata": {},
   "outputs": [
    {
     "data": {
      "application/vnd.microsoft.datawrangler.viewer.v0+json": {
       "columns": [
        {
         "name": "index",
         "rawType": "object",
         "type": "string"
        },
        {
         "name": "0",
         "rawType": "float64",
         "type": "float"
        }
       ],
       "ref": "8761fa55-2b1f-4dba-9ea2-43cbd27a7039",
       "rows": [
        [
         "a",
         "0.25"
        ],
        [
         "b",
         "0.5"
        ]
       ],
       "shape": {
        "columns": 1,
        "rows": 2
       }
      },
      "text/plain": [
       "a    0.25\n",
       "b    0.50\n",
       "dtype: float64"
      ]
     },
     "execution_count": 77,
     "metadata": {},
     "output_type": "execute_result"
    }
   ],
   "source": [
    "data[0:2]"
   ]
  },
  {
   "cell_type": "code",
   "execution_count": 78,
   "id": "6c82b16d",
   "metadata": {},
   "outputs": [
    {
     "data": {
      "application/vnd.microsoft.datawrangler.viewer.v0+json": {
       "columns": [
        {
         "name": "index",
         "rawType": "object",
         "type": "string"
        },
        {
         "name": "0",
         "rawType": "bool",
         "type": "boolean"
        }
       ],
       "ref": "b59777df-9186-4bc9-8187-8710e1ccafa6",
       "rows": [
        [
         "a",
         "False"
        ],
        [
         "b",
         "True"
        ],
        [
         "c",
         "True"
        ],
        [
         "d",
         "False"
        ],
        [
         "e",
         "False"
        ]
       ],
       "shape": {
        "columns": 1,
        "rows": 5
       }
      },
      "text/plain": [
       "a    False\n",
       "b     True\n",
       "c     True\n",
       "d    False\n",
       "e    False\n",
       "dtype: bool"
      ]
     },
     "execution_count": 78,
     "metadata": {},
     "output_type": "execute_result"
    }
   ],
   "source": [
    "(data > 0.3) & (data < 0.8)"
   ]
  },
  {
   "cell_type": "markdown",
   "id": "8cde7fd3",
   "metadata": {},
   "source": [
    "* Masking"
   ]
  },
  {
   "cell_type": "code",
   "execution_count": 79,
   "id": "caa44b5e",
   "metadata": {},
   "outputs": [
    {
     "data": {
      "application/vnd.microsoft.datawrangler.viewer.v0+json": {
       "columns": [
        {
         "name": "index",
         "rawType": "object",
         "type": "string"
        },
        {
         "name": "0",
         "rawType": "float64",
         "type": "float"
        }
       ],
       "ref": "cd009305-3920-44be-a893-88231373698e",
       "rows": [
        [
         "b",
         "0.5"
        ],
        [
         "c",
         "0.75"
        ]
       ],
       "shape": {
        "columns": 1,
        "rows": 2
       }
      },
      "text/plain": [
       "b    0.50\n",
       "c    0.75\n",
       "dtype: float64"
      ]
     },
     "execution_count": 79,
     "metadata": {},
     "output_type": "execute_result"
    }
   ],
   "source": [
    "data[(data > 0.3) & (data < 0.8)]"
   ]
  },
  {
   "cell_type": "markdown",
   "id": "9a1e1310",
   "metadata": {},
   "source": [
    "* Fancy indexing"
   ]
  },
  {
   "cell_type": "code",
   "execution_count": 80,
   "id": "e534e193",
   "metadata": {},
   "outputs": [
    {
     "data": {
      "application/vnd.microsoft.datawrangler.viewer.v0+json": {
       "columns": [
        {
         "name": "index",
         "rawType": "object",
         "type": "string"
        },
        {
         "name": "0",
         "rawType": "float64",
         "type": "float"
        }
       ],
       "ref": "dc711c2f-dfbb-4b1b-b922-58fb84f2892d",
       "rows": [
        [
         "a",
         "0.25"
        ],
        [
         "e",
         "1.25"
        ]
       ],
       "shape": {
        "columns": 1,
        "rows": 2
       }
      },
      "text/plain": [
       "a    0.25\n",
       "e    1.25\n",
       "dtype: float64"
      ]
     },
     "execution_count": 80,
     "metadata": {},
     "output_type": "execute_result"
    }
   ],
   "source": [
    "data[['a', 'e']]"
   ]
  },
  {
   "cell_type": "code",
   "execution_count": 81,
   "id": "cffa53ab",
   "metadata": {},
   "outputs": [
    {
     "data": {
      "application/vnd.microsoft.datawrangler.viewer.v0+json": {
       "columns": [
        {
         "name": "index",
         "rawType": "int64",
         "type": "integer"
        },
        {
         "name": "0",
         "rawType": "float64",
         "type": "float"
        }
       ],
       "ref": "3799f9cd-b728-4834-a59b-8dff204f21e4",
       "rows": [
        [
         "1",
         "0.25"
        ],
        [
         "2",
         "0.5"
        ],
        [
         "3",
         "0.75"
        ],
        [
         "4",
         "1.0"
        ]
       ],
       "shape": {
        "columns": 1,
        "rows": 4
       }
      },
      "text/plain": [
       "1    0.25\n",
       "2    0.50\n",
       "3    0.75\n",
       "4    1.00\n",
       "dtype: float64"
      ]
     },
     "execution_count": 81,
     "metadata": {},
     "output_type": "execute_result"
    }
   ],
   "source": [
    "data = pd.Series([0.25, 0.5, 0.75, 1.0], index=[1, 2, 3, 4])\n",
    "data"
   ]
  },
  {
   "cell_type": "code",
   "execution_count": 82,
   "id": "9c68b57f",
   "metadata": {},
   "outputs": [
    {
     "data": {
      "application/vnd.microsoft.datawrangler.viewer.v0+json": {
       "columns": [
        {
         "name": "index",
         "rawType": "int64",
         "type": "integer"
        },
        {
         "name": "0",
         "rawType": "float64",
         "type": "float"
        }
       ],
       "ref": "9006d0be-7639-41f2-92fb-527b77bf5410",
       "rows": [
        [
         "2",
         "0.5"
        ],
        [
         "3",
         "0.75"
        ]
       ],
       "shape": {
        "columns": 1,
        "rows": 2
       }
      },
      "text/plain": [
       "2    0.50\n",
       "3    0.75\n",
       "dtype: float64"
      ]
     },
     "execution_count": 82,
     "metadata": {},
     "output_type": "execute_result"
    }
   ],
   "source": [
    "data[1:3]"
   ]
  },
  {
   "cell_type": "markdown",
   "id": "4de0b44d",
   "metadata": {},
   "source": [
    "**If your Series has an explicit integer index, an indexing operation like `data[1]` uses the explicit index, whereas a slicing operation like `data[1:3]` uses the implicit Python-style index.**\n"
   ]
  },
  {
   "cell_type": "code",
   "execution_count": 83,
   "id": "46e15ee4",
   "metadata": {},
   "outputs": [
    {
     "data": {
      "application/vnd.microsoft.datawrangler.viewer.v0+json": {
       "columns": [
        {
         "name": "index",
         "rawType": "int64",
         "type": "integer"
        },
        {
         "name": "0",
         "rawType": "object",
         "type": "string"
        }
       ],
       "ref": "bc3ea2a7-f8d1-4079-a043-56ccaeb0edfe",
       "rows": [
        [
         "1",
         "a"
        ],
        [
         "5",
         "b"
        ],
        [
         "3",
         "c"
        ]
       ],
       "shape": {
        "columns": 1,
        "rows": 3
       }
      },
      "text/plain": [
       "1    a\n",
       "5    b\n",
       "3    c\n",
       "dtype: object"
      ]
     },
     "execution_count": 83,
     "metadata": {},
     "output_type": "execute_result"
    }
   ],
   "source": [
    "data = pd.Series(['a', 'b', 'c'], index=[1, 5, 3])\n",
    "data"
   ]
  },
  {
   "cell_type": "markdown",
   "id": "4609fc6b",
   "metadata": {},
   "source": [
    "Explicit index when indexing:\n"
   ]
  },
  {
   "cell_type": "code",
   "execution_count": 84,
   "id": "0590b03e",
   "metadata": {},
   "outputs": [
    {
     "data": {
      "text/plain": [
       "'a'"
      ]
     },
     "execution_count": 84,
     "metadata": {},
     "output_type": "execute_result"
    }
   ],
   "source": [
    "data[1]"
   ]
  },
  {
   "cell_type": "markdown",
   "id": "50ee8ed1",
   "metadata": {},
   "source": [
    "Implicit index when slicing:\n"
   ]
  },
  {
   "cell_type": "code",
   "execution_count": 85,
   "id": "68283e86",
   "metadata": {},
   "outputs": [
    {
     "data": {
      "application/vnd.microsoft.datawrangler.viewer.v0+json": {
       "columns": [
        {
         "name": "index",
         "rawType": "int64",
         "type": "integer"
        },
        {
         "name": "0",
         "rawType": "object",
         "type": "string"
        }
       ],
       "ref": "53c2a805-298c-458d-a5c6-c703520f33c1",
       "rows": [
        [
         "5",
         "b"
        ],
        [
         "3",
         "c"
        ]
       ],
       "shape": {
        "columns": 1,
        "rows": 2
       }
      },
      "text/plain": [
       "5    b\n",
       "3    c\n",
       "dtype: object"
      ]
     },
     "execution_count": 85,
     "metadata": {},
     "output_type": "execute_result"
    }
   ],
   "source": [
    "data[1:3]"
   ]
  },
  {
   "cell_type": "markdown",
   "id": "10a0fa3a",
   "metadata": {},
   "source": [
    "The `loc` attribute enables indexing and slicing that *always* refer to the explicit index:\n"
   ]
  },
  {
   "cell_type": "code",
   "execution_count": 86,
   "id": "c4f94be3",
   "metadata": {},
   "outputs": [
    {
     "data": {
      "text/plain": [
       "'a'"
      ]
     },
     "execution_count": 86,
     "metadata": {},
     "output_type": "execute_result"
    }
   ],
   "source": [
    "data.loc[1]"
   ]
  },
  {
   "cell_type": "code",
   "execution_count": 87,
   "id": "8d559fe6",
   "metadata": {},
   "outputs": [
    {
     "data": {
      "application/vnd.microsoft.datawrangler.viewer.v0+json": {
       "columns": [
        {
         "name": "index",
         "rawType": "int64",
         "type": "integer"
        },
        {
         "name": "0",
         "rawType": "object",
         "type": "string"
        }
       ],
       "ref": "bbea6800-f335-4b02-b6f1-a6a57c61366d",
       "rows": [
        [
         "1",
         "a"
        ],
        [
         "5",
         "b"
        ],
        [
         "3",
         "c"
        ]
       ],
       "shape": {
        "columns": 1,
        "rows": 3
       }
      },
      "text/plain": [
       "1    a\n",
       "5    b\n",
       "3    c\n",
       "dtype: object"
      ]
     },
     "execution_count": 87,
     "metadata": {},
     "output_type": "execute_result"
    }
   ],
   "source": [
    "data.loc[1:3]"
   ]
  },
  {
   "cell_type": "markdown",
   "id": "c3722619",
   "metadata": {},
   "source": [
    "Note that `loc` may, but does not always, raise an index error when slicing:\n"
   ]
  },
  {
   "cell_type": "code",
   "execution_count": 88,
   "id": "2576758b",
   "metadata": {},
   "outputs": [
    {
     "data": {
      "application/vnd.microsoft.datawrangler.viewer.v0+json": {
       "columns": [
        {
         "name": "index",
         "rawType": "int64",
         "type": "integer"
        },
        {
         "name": "0",
         "rawType": "object",
         "type": "string"
        }
       ],
       "ref": "e57870c5-6fdf-4980-80be-4a66c7bf23e1",
       "rows": [
        [
         "1",
         "a"
        ],
        [
         "5",
         "b"
        ],
        [
         "3",
         "c"
        ]
       ],
       "shape": {
        "columns": 1,
        "rows": 3
       }
      },
      "text/plain": [
       "1    a\n",
       "5    b\n",
       "3    c\n",
       "dtype: object"
      ]
     },
     "execution_count": 88,
     "metadata": {},
     "output_type": "execute_result"
    }
   ],
   "source": [
    "data = pd.Series(['a', 'b', 'c'], index=[1, 5, 3])\n",
    "data"
   ]
  },
  {
   "cell_type": "code",
   "execution_count": 89,
   "id": "cdc8f82a",
   "metadata": {},
   "outputs": [
    {
     "name": "stdout",
     "output_type": "stream",
     "text": [
      "KeyError: 10\n"
     ]
    }
   ],
   "source": [
    "try:\n",
    "    data.loc[3:10]\n",
    "except KeyError as e:\n",
    "    print(\"KeyError:\", e)"
   ]
  },
  {
   "cell_type": "code",
   "execution_count": 90,
   "id": "6b2b8534",
   "metadata": {},
   "outputs": [
    {
     "name": "stdout",
     "output_type": "stream",
     "text": [
      "KeyError: 'a'\n"
     ]
    }
   ],
   "source": [
    "try:\n",
    "    data.loc['a':'z']\n",
    "except KeyError as e:\n",
    "    print(\"KeyError:\", e)"
   ]
  },
  {
   "cell_type": "markdown",
   "id": "4a771c93",
   "metadata": {},
   "source": [
    "The `iloc` attribute enables indexing and slicing that always refer to the implicit Python-style index:\n"
   ]
  },
  {
   "cell_type": "code",
   "execution_count": 91,
   "id": "c4fbf7df",
   "metadata": {},
   "outputs": [
    {
     "data": {
      "text/plain": [
       "'b'"
      ]
     },
     "execution_count": 91,
     "metadata": {},
     "output_type": "execute_result"
    }
   ],
   "source": [
    "data.iloc[1]"
   ]
  },
  {
   "cell_type": "code",
   "execution_count": 92,
   "id": "a005d69e",
   "metadata": {},
   "outputs": [
    {
     "data": {
      "application/vnd.microsoft.datawrangler.viewer.v0+json": {
       "columns": [
        {
         "name": "index",
         "rawType": "int64",
         "type": "integer"
        },
        {
         "name": "0",
         "rawType": "object",
         "type": "string"
        }
       ],
       "ref": "7224e54c-ab77-4385-96f7-0281d001371f",
       "rows": [
        [
         "5",
         "b"
        ],
        [
         "3",
         "c"
        ]
       ],
       "shape": {
        "columns": 1,
        "rows": 2
       }
      },
      "text/plain": [
       "5    b\n",
       "3    c\n",
       "dtype: object"
      ]
     },
     "execution_count": 92,
     "metadata": {},
     "output_type": "execute_result"
    }
   ],
   "source": [
    "data.iloc[1:3]"
   ]
  },
  {
   "cell_type": "markdown",
   "id": "9e52cc2b",
   "metadata": {},
   "source": [
    "Please, save yourself the pain and always be explicit about what you are doing—always use `.loc` and `.iloc`.\n",
    "\n",
    "**Explicit is better than implicit.**\n",
    "\n",
    "The statement does **not** mean that explicit indices are better than implicit ones,  \n",
    "but rather that you should be explicit about which one you are using.\n"
   ]
  },
  {
   "cell_type": "markdown",
   "id": "9e73e6b7",
   "metadata": {},
   "source": [
    "### Addendum: Indexing\n",
    "\n",
    "From [the docs][1]: In earlier versions, using `.loc[list-of-labels]` worked as long as at least one of the keys was found (otherwise a `KeyError` was raised).  \n",
    "This behavior is now deprecated!\n",
    "\n",
    "[1]: https://pandas.pydata.org/pandas-docs/stable/user_guide/indexing.html#deprecate-loc-reindex-listlike\n"
   ]
  },
  {
   "cell_type": "code",
   "execution_count": 93,
   "id": "a7e03d01",
   "metadata": {},
   "outputs": [
    {
     "data": {
      "application/vnd.microsoft.datawrangler.viewer.v0+json": {
       "columns": [
        {
         "name": "index",
         "rawType": "int64",
         "type": "integer"
        },
        {
         "name": "0",
         "rawType": "int64",
         "type": "integer"
        }
       ],
       "ref": "3c35c407-63e9-445a-a32b-996898dc6c2d",
       "rows": [
        [
         "0",
         "1"
        ],
        [
         "1",
         "2"
        ],
        [
         "2",
         "3"
        ]
       ],
       "shape": {
        "columns": 1,
        "rows": 3
       }
      },
      "text/plain": [
       "0    1\n",
       "1    2\n",
       "2    3\n",
       "dtype: int64"
      ]
     },
     "execution_count": 93,
     "metadata": {},
     "output_type": "execute_result"
    }
   ],
   "source": [
    "s = pd.Series([1, 2, 3])\n",
    "s"
   ]
  },
  {
   "cell_type": "code",
   "execution_count": 94,
   "id": "1a01d47c",
   "metadata": {},
   "outputs": [
    {
     "name": "stdout",
     "output_type": "stream",
     "text": [
      "KeyError: '[3] not in index'\n"
     ]
    }
   ],
   "source": [
    "try:\n",
    "    s.loc[[1, 2, 3]]\n",
    "except KeyError as e:\n",
    "    print(\"KeyError:\", e)"
   ]
  },
  {
   "cell_type": "markdown",
   "id": "f0c76ebf",
   "metadata": {},
   "source": [
    "Instead, you should use [`reindex`][1], which aligns the Series/DataFrame to a new index with optional filling logic.\n",
    "\n",
    "[1]: https://pandas.pydata.org/pandas-docs/stable/reference/api/pandas.DataFrame.reindex.html\n"
   ]
  },
  {
   "cell_type": "code",
   "execution_count": 95,
   "id": "a6ded4e0",
   "metadata": {},
   "outputs": [
    {
     "data": {
      "application/vnd.microsoft.datawrangler.viewer.v0+json": {
       "columns": [
        {
         "name": "index",
         "rawType": "int64",
         "type": "integer"
        },
        {
         "name": "0",
         "rawType": "float64",
         "type": "float"
        }
       ],
       "ref": "9e25f03c-25cd-4f19-8546-5933da70ea88",
       "rows": [
        [
         "1",
         "2.0"
        ],
        [
         "2",
         "3.0"
        ],
        [
         "3",
         null
        ]
       ],
       "shape": {
        "columns": 1,
        "rows": 3
       }
      },
      "text/plain": [
       "1    2.0\n",
       "2    3.0\n",
       "3    NaN\n",
       "dtype: float64"
      ]
     },
     "execution_count": 95,
     "metadata": {},
     "output_type": "execute_result"
    }
   ],
   "source": [
    "s.reindex([1, 2, 3])"
   ]
  },
  {
   "cell_type": "markdown",
   "id": "dbf3ad7b",
   "metadata": {},
   "source": [
    "---\n",
    "\n",
    "Lecture: AI I - Basics \n",
    "\n",
    "Excersie: [**Excersie 3.2: Pandas**](../03_data/exercises/02_pandas.ipynb)\n",
    "\n",
    "Next: [**Chapter 3.3: Visualisation with Matplotlib**](../03_data/03_matplotlib.ipynb)"
   ]
  }
 ],
 "metadata": {
  "kernelspec": {
   "display_name": "ai-lecture",
   "language": "python",
   "name": "python3"
  },
  "language_info": {
   "codemirror_mode": {
    "name": "ipython",
    "version": 3
   },
   "file_extension": ".py",
   "mimetype": "text/x-python",
   "name": "python",
   "nbconvert_exporter": "python",
   "pygments_lexer": "ipython3",
   "version": "3.12.11"
  }
 },
 "nbformat": 4,
 "nbformat_minor": 5
}

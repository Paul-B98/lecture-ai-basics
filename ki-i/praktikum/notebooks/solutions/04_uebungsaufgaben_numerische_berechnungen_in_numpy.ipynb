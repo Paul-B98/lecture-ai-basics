{
 "cells": [
  {
   "cell_type": "markdown",
   "metadata": {},
   "source": [
    "Wahlpflichtfach Künstliche Intelligenz I: Praktikum \n",
    "\n",
    "---"
   ]
  },
  {
   "cell_type": "markdown",
   "metadata": {},
   "source": [
    "# 04 - Übungsaufgaben Numerische Berechnungen in Numpy\n",
    "\n",
    "- [Aufgabe 1 - Gaussian](#Aufgabe-1---Gaussian)\n",
    "- [Aufgabe 2 - Numpy Arrays](#Aufgabe-2---Numpy-Arrays)\n",
    "- [Aufgabe 3 - Indizierung](#Aufgabe-3---Indizierung)\n",
    "- [Aufgabe 4 - Maskieren](#Aufgabe-4---Maskieren)\n",
    "- [Aufgabe 5 - Paarweise Abstände](#Aufgabe-5---Paarweise-Abstände)\n",
    "- [Aufgabe 6 - Gleitender Mittelwert](#Aufgabe-6---Gleitender-Mittelwert)\n",
    "- [Aufgabe 7 - Wiederholung macht den Meister: Masken & Slicing](#Aufgabe-7---Wiederholung-macht-den-Meister:-Masken-&-Slicing)\n",
    "- [Aufgabe 8 - Temperaturen in Heidelberg](#Aufgabe-8---Temperaturen-in-Heidelberg)\n",
    "- [Aufgabe 9 - Subarray](#Aufgabe-9---Subarray)"
   ]
  },
  {
   "cell_type": "markdown",
   "metadata": {},
   "source": [
    "Dies ist das Übungsblatt zum Notebook [**04 - Numerische Berechnungen in Numpy**](04%20-%20Numerische%20Berechnungen%20in%20Numpy.ipynb)"
   ]
  },
  {
   "cell_type": "markdown",
   "metadata": {},
   "source": [
    "## Aufgabe 1 - Gaussian\n",
    "\n",
    "Importiere die Funktionen `exp` aus `numpy` oder `math`.\n",
    "\n",
    "Definiere eine **einzeilige** (`lambda`-) Funktion mit dem Namen `gaussian`, welche die Argumente `x`, `mu`, `sigma` und `A` annimmt und den Wert $$A\\,\\mathrm{exp}\\!\\left(\\frac{(x-\\mu)^2}{2\\sigma^2}\\right)$$ zurückgibt."
   ]
  },
  {
   "cell_type": "code",
   "execution_count": null,
   "metadata": {},
   "outputs": [],
   "source": [
    "### BEGIN SOLUTION\n",
    "from numpy import exp\n",
    "gaussian = lambda x, mu, sigma, A: A * exp((x-mu)**2/2/sigma**2)\n",
    "### END SOLUTION"
   ]
  },
  {
   "cell_type": "code",
   "execution_count": null,
   "metadata": {},
   "outputs": [],
   "source": [
    "from numpy.testing import assert_almost_equal\n",
    "\n",
    "try:\n",
    "    exp\n",
    "except NameError:\n",
    "    raise NameError(\"Es gibt keine Funktion mit dem Namen 'exp'. Hast du die Funktion mit der `from module import function_name` Syntax importiert?\")\n",
    "try:\n",
    "    gaussian\n",
    "except NameError:\n",
    "    raise NameError(\"Es gibt keine Funktion mit dem Namen 'gaussian'. Stelle sicher, dass deine Funktion so benannt ist.\")\n",
    "assert gaussian(x=0, mu=0, sigma=1, A=1) == 1, \"gaussian(x=0, mu=0, sigma=1, A=1) sollte 1 ergeben. Prüfe den Code deiner Funktion.\"\n",
    "assert_almost_equal(gaussian(x=0, mu=1, sigma=2, A=3), 3.4, 1, \"gaussian(x=0, mu=0, sigma=1, A=1) sollte 1 ergeben. Prüfe den Code deiner Funktion.\")\n",
    "print(\"👍 Stimmt so.\")"
   ]
  },
  {
   "cell_type": "markdown",
   "metadata": {},
   "source": [
    "## Aufgabe 2 - Numpy Arrays"
   ]
  },
  {
   "cell_type": "markdown",
   "metadata": {},
   "source": [
    "a) Erstelle ein Array `a`, das 11 Werte zwischen $10^{-20}$ und $10^{-10}$ in logarithmischem Abstand enthält."
   ]
  },
  {
   "cell_type": "code",
   "execution_count": null,
   "metadata": {},
   "outputs": [],
   "source": [
    "### BEGIN SOLUTION\n",
    "import numpy as np\n",
    "a = np.logspace(-20, -10, 11)\n",
    "### END SOLUTION"
   ]
  },
  {
   "cell_type": "code",
   "execution_count": null,
   "metadata": {},
   "outputs": [],
   "source": [
    "from numpy.testing import assert_allclose\n",
    "try:\n",
    "    a\n",
    "except NameError:\n",
    "    raise NameError(\"Es gibt keine Variable 'a'. Weise das Array einer Variablen mit diesem Namen zu.\")\n",
    "assert_allclose(a, [1e-20, 1e-19, 1e-18, 1e-17, 1e-16, 1e-15, 1e-14, 1e-13, 1e-12, 1e-11, 1e-10])\n",
    "print(\"Jup.\")"
   ]
  },
  {
   "cell_type": "markdown",
   "metadata": {},
   "source": [
    "b) Erstelle ein Array `b`, das 2x10 Nullen enthält.\n",
    "\n",
    "**Hinweis:** Verwende die passende Funktion, die `numpy` bereitstellt."
   ]
  },
  {
   "cell_type": "code",
   "execution_count": null,
   "metadata": {},
   "outputs": [],
   "source": [
    "### BEGIN SOLUTION\n",
    "b = np.zeros((2, 10))\n",
    "### END SOLUTION"
   ]
  },
  {
   "cell_type": "code",
   "execution_count": null,
   "metadata": {},
   "outputs": [],
   "source": [
    "from numpy.testing import assert_array_equal\n",
    "try:\n",
    "    b\n",
    "except NameError:\n",
    "    raise NameError(\"Es gibt keine Variable 'b'. Weise das Array einer Variablen mit diesem Namen zu.\")\n",
    "assert_array_equal(b, [[0, 0, 0, 0, 0, 0, 0, 0, 0, 0], [0, 0, 0, 0, 0, 0, 0, 0, 0, 0]])\n",
    "print(\"Gut.\")"
   ]
  },
  {
   "cell_type": "markdown",
   "metadata": {},
   "source": [
    "c) Erstelle ein Array `c`, das der Einheitsmatrix in 3 Dimensionen entspricht.\n",
    "\n",
    "**Hinweis:** Auch hier stellt `numpy` bereits eine passende Funktion bereit."
   ]
  },
  {
   "cell_type": "code",
   "execution_count": null,
   "metadata": {},
   "outputs": [],
   "source": [
    "### BEGIN SOLUTION\n",
    "c = np.identity(3)\n",
    "### END SOLUTION"
   ]
  },
  {
   "cell_type": "code",
   "execution_count": null,
   "metadata": {},
   "outputs": [],
   "source": [
    "from numpy.testing import assert_array_equal\n",
    "try:\n",
    "    c\n",
    "except NameError:\n",
    "    raise NameError(\"Es gibt keine Variable 'c'. Weise das Array einer Variablen mit diesem Namen zu.\")\n",
    "assert_array_equal(c, [[1, 0, 0], [0, 1, 0], [0, 0, 1]])\n",
    "print(\"Richtig.\")"
   ]
  },
  {
   "cell_type": "markdown",
   "metadata": {},
   "source": [
    "d) Erstelle ein Array `d`, das $100$ Werte zwischen $-5$ und $5$ in linearem Abstand enthält. Dies wird eine Raumachse darstellen."
   ]
  },
  {
   "cell_type": "code",
   "execution_count": null,
   "metadata": {},
   "outputs": [],
   "source": [
    "### BEGIN SOLUTION\n",
    "d = np.linspace(-5, 5, 100)\n",
    "### END SOLUTION"
   ]
  },
  {
   "cell_type": "code",
   "execution_count": null,
   "metadata": {},
   "outputs": [],
   "source": [
    "from numpy.testing import assert_array_almost_equal\n",
    "try:\n",
    "    d\n",
    "except NameError:\n",
    "    raise NameError(\"Es gibt keine Variable 'd'. Weise das Array einer Variablen mit diesem Namen zu.\")\n",
    "assert_array_almost_equal(d[:5], [-5., -4.8989899, -4.7979798, -4.6969697, -4.5959596], 4)\n",
    "print(\"Stimmt.\")"
   ]
  },
  {
   "cell_type": "markdown",
   "metadata": {},
   "source": [
    "e) Erstelle zwei zweidimensionale Arrays `x` und `y`, die jeweils in einer Richtung konstant sind und in der anderen die Raumachse `d` enthalten. So können wir gleich mit Koordinaten arbeiten.\n",
    "\n",
    "**Hinweis:** Versuche, die Funktion `numpy.meshgrid` zu verstehen. Schreib dann `x, y = np.meshgrid(d, d)`."
   ]
  },
  {
   "cell_type": "code",
   "execution_count": null,
   "metadata": {},
   "outputs": [],
   "source": [
    "#np.meshgrid?\n",
    "### BEGIN SOLUTION\n",
    "x, y = np.meshgrid(d, d)\n",
    "### END SOLUTION"
   ]
  },
  {
   "cell_type": "code",
   "execution_count": null,
   "metadata": {},
   "outputs": [],
   "source": [
    "from numpy.testing import assert_array_almost_equal\n",
    "try:\n",
    "    x, y\n",
    "except NameError:\n",
    "    raise NameError(\"Es gibt keine Variable 'x' oder 'y'. Weise das Array einer Variablen mit diesem Namen zu.\")\n",
    "assert_array_almost_equal(x[:5,0], [-5, -5, -5, -5, -5], 4)\n",
    "assert_array_almost_equal(x[0,:5], [-5., -4.8989899, -4.7979798, -4.6969697, -4.5959596], 4)\n",
    "assert_array_almost_equal(y[0,:5], [-5, -5, -5, -5, -5], 4)\n",
    "assert_array_almost_equal(y[:5,0], [-5., -4.8989899, -4.7979798, -4.6969697, -4.5959596], 4)\n",
    "print(\"Alles klar? 😉\")"
   ]
  },
  {
   "cell_type": "markdown",
   "metadata": {},
   "source": [
    "f) Berechne aus `x` und `y` ein zweidimensionales Array `r`, dessen Werte den Abstand zum Ursprung $r=\\sqrt{x^2+y^2}$ darstellen.\n",
    "\n",
    "**Erinnerung:** Mathematische Operationen und Funktionen werden elementweise auf Numpy Arrays angewendet, du kannst also einfach mit ihnen rechnen. Denk' daran, die Funktionen aus dem `numpy` Modul zu verwenden, wie bspw. `np.sqrt`."
   ]
  },
  {
   "cell_type": "code",
   "execution_count": null,
   "metadata": {},
   "outputs": [],
   "source": [
    "### BEGIN SOLUTION\n",
    "r = np.sqrt(x**2 + y**2)\n",
    "### END SOLUTION"
   ]
  },
  {
   "cell_type": "code",
   "execution_count": null,
   "metadata": {},
   "outputs": [],
   "source": [
    "from numpy.testing import assert_array_almost_equal\n",
    "try:\n",
    "    r\n",
    "except NameError:\n",
    "    raise NameError(\"Es gibt keine Variable 'r'. Weise das Array einer Variablen mit diesem Namen zu.\")\n",
    "assert_array_almost_equal(r[0,:3], [ 7.07106781, 7.00000729, 6.92969048], 4)\n",
    "print(\"👍\")"
   ]
  },
  {
   "cell_type": "markdown",
   "metadata": {},
   "source": [
    "g) Berechne schließlich für jeden Punkt des zweidimensionalen Raums den Wert $E = \\frac{x}{r}\\sin{\\!(\\pi r)}$. Kommt's dir bekannt vor?"
   ]
  },
  {
   "cell_type": "code",
   "execution_count": null,
   "metadata": {},
   "outputs": [],
   "source": [
    "### BEGIN SOLUTION\n",
    "E = x/r*np.sin(r*np.pi)\n",
    "### END SOLUTION\n",
    "import matplotlib.pyplot as plt\n",
    "plt.contour(x, y, E)"
   ]
  },
  {
   "cell_type": "code",
   "execution_count": null,
   "metadata": {},
   "outputs": [],
   "source": [
    "from numpy.testing import assert_array_almost_equal\n",
    "try:\n",
    "    E\n",
    "except NameError:\n",
    "    raise NameError(\"Es gibt keine Variable 'E'. Weise das Array einer Variablen mit diesem Namen zu.\")\n",
    "assert_array_almost_equal(E[0,:3], [ 1.56564647e-01, 1.60235697e-05, -1.51695015e-01 ], 4)\n",
    "print(\"Sehr gut! 👏\")"
   ]
  },
  {
   "cell_type": "markdown",
   "metadata": {},
   "source": [
    "## Aufgabe 3 - Indizierung\n",
    "\n",
    "Schreiben Sie eine Funktion `checkerboard(shape)`, die ein shape-Tupel `(rows, cols)` annimmt und ein 2D-Numpy-Array mit einem Schachbrettmuster zurückgibt, das aus `0`en und `1`en besteht. Es sollte mit einer `0` in der oberen linken Ecke beginnen."
   ]
  },
  {
   "cell_type": "code",
   "execution_count": null,
   "metadata": {},
   "outputs": [],
   "source": [
    "### BEGIN SOLUTION\n",
    "def checkerboard(shape):\n",
    "    checkerboard_array = np.zeros(shape=shape)\n",
    "\n",
    "    checkerboard_array[1::2,0::2] = 1\n",
    "    checkerboard_array[0::2,1::2] = 1\n",
    "    return checkerboard_array\n",
    "### END SOLUTION"
   ]
  },
  {
   "cell_type": "code",
   "execution_count": null,
   "metadata": {},
   "outputs": [],
   "source": [
    "assert checkerboard((3, 3)).tolist() == [[0, 1, 0],\n",
    "                                                [1, 0, 1],\n",
    "                                                [0, 1, 0]]\n",
    "\n",
    "assert checkerboard((4, 4)).tolist() == [[0, 1, 0, 1],\n",
    "                                                [1, 0, 1, 0],\n",
    "                                                [0, 1, 0, 1],\n",
    "                                                [1, 0, 1, 0]]\n",
    "\n",
    "assert checkerboard((8, 8)).tolist() == [[0, 1, 0, 1, 0, 1, 0, 1],\n",
    "                                                [1, 0, 1, 0, 1, 0, 1, 0],\n",
    "                                                [0, 1, 0, 1, 0, 1, 0, 1],\n",
    "                                                [1, 0, 1, 0, 1, 0, 1, 0],\n",
    "                                                [0, 1, 0, 1, 0, 1, 0, 1],\n",
    "                                                [1, 0, 1, 0, 1, 0, 1, 0],\n",
    "                                                [0, 1, 0, 1, 0, 1, 0, 1],\n",
    "                                                [1, 0, 1, 0, 1, 0, 1, 0]]"
   ]
  },
  {
   "cell_type": "markdown",
   "metadata": {},
   "source": [
    "## Aufgabe 4 - Maskieren\n",
    "\n",
    "Schreiben Sie eine Funktion `make_positive(array)`, die einem Numpy-Array die positive Seite zeigt, indem sie alle negativen Werte (< 0) durch den Mittelwert der positiven Werte (> 0) ersetzt. Stellen Sie sicher, dass Sie das ursprüngliche Array unverändert lassen. Ihre Implementierung sollte für Arrays mit beliebiger Dimensionalität funktionieren."
   ]
  },
  {
   "cell_type": "code",
   "execution_count": null,
   "metadata": {},
   "outputs": [],
   "source": [
    "### BEGIN SOLUTION\n",
    "def make_positive(array):\n",
    "    positive_array = np.copy(array)\n",
    "    positive_array_mask = positive_array > 0\n",
    "    negative_array_mask = positive_array < 0\n",
    "    positive_values = positive_array[positive_array_mask]\n",
    "    positive_mean = np.mean(positive_values)\n",
    "    positive_array[negative_array_mask] = positive_mean\n",
    "    \n",
    "    return positive_array\n",
    "### END SOLUTION"
   ]
  },
  {
   "cell_type": "code",
   "execution_count": null,
   "metadata": {},
   "outputs": [],
   "source": [
    "input_array_1 = np.array([[-2, 2], [2, 4], [1, 1]])\n",
    "expected_1 = np.array([[2, 2], [2, 4], [1, 1]])\n",
    "array_before = np.copy(input_array_1)\n",
    "assert np.allclose(make_positive(input_array_1), expected_1)\n",
    "assert np.array_equal(array_before, input_array_1)\n",
    "\n",
    "input_array_2 = np.array([[[-1, -2, -4, 2], [-1, 4, 0, 3]], [[4, 0, 2, 1], [2, 2, 3, 0]], [[-4, 3, -4, -5], [0, 3, -2, 1]]])\n",
    "expected_2 = np.array([[[2, 2, 2, 2], [2, 4, 0, 3]],\n",
    "                      [[4, 0, 2, 1], [2, 2, 3, 0]],\n",
    "                      [[2, 3, 2, 2], [0, 3, 2, 1]]])\n",
    "# This would be the actual correct result. expected_2 is left in, because the correction comes very late.\n",
    "expected_2_float = np.array([[[2.5, 2.5, 2.5, 2. ],\n",
    "    [2.5, 4. , 0. , 3. ]],\n",
    "\n",
    "   [[4. , 0. , 2. , 1. ],\n",
    "    [2. , 2. , 3. , 0. ]],\n",
    "\n",
    "   [[2.5, 3. , 2.5, 2.5],\n",
    "    [0. , 3. , 2.5, 1. ]]])\n",
    "\n",
    "array_before = np.copy(input_array_2)\n",
    "assert (np.allclose(make_positive(input_array_2), expected_2)\n",
    "        or np.allclose(make_positive(input_array_2), expected_2_float))\n",
    "assert np.array_equal(array_before, input_array_2)\n",
    "\n",
    "input_array_3 = np.array([[0.9397899554879413, -1.2772317651031768], [-0.8951136762742923, -1.7484346071066659], [-2.258031974906138, 2.433197056837755]])\n",
    "expected_3 = np.array([[0.9397899554879413, 1.686493506162848],\n",
    "                       [1.686493506162848, 1.686493506162848],\n",
    "                       [1.686493506162848, 2.433197056837755]])\n",
    "array_before = np.copy(input_array_3)\n",
    "assert np.allclose(make_positive(input_array_3), expected_3)\n",
    "assert np.array_equal(array_before, input_array_3)"
   ]
  },
  {
   "cell_type": "markdown",
   "metadata": {},
   "source": [
    "## Aufgabe 5 - Paarweise Abstände \n",
    "\n",
    "Schreiben Sie eine Funktion `pairwise_distances(coords)` mit dem folgenden Verhalten. In einem `n x 2`-Array, in dem jede Zeile als 2D-Vektor betrachtet werden kann, soll die `n x n`-Matrix berechnet werden, die die paarweisen Abstände zwischen allen Vektoren enthält. Das bedeutet, dass der Eintrag in der Abstandsmatrix `[i, j]` dem Abstand von Vektor `i` zu Vektor `j` entsprechen soll. Der Abstand soll der [Euklidische Abstand](https://de.wikipedia.org/wiki/Euklidischer_Abstand) zwischen den jeweiligen Vektoren sein."
   ]
  },
  {
   "cell_type": "code",
   "execution_count": null,
   "metadata": {},
   "outputs": [],
   "source": [
    "### BEGIN SOLUTION\n",
    "def pairwise_distances(coords):\n",
    "    distance_matrix = np.zeros((coords.shape[0],coords.shape[0]))\n",
    "    for i in range(coords.shape[0]):\n",
    "        for j in range(coords.shape[0]):\n",
    "            distance_matrix[i,j] = np.sqrt((coords[i][0]-coords[j][0])**2 + (coords[i][1]-coords[j][1])**2)\n",
    "            \n",
    "    return distance_matrix\n",
    "### END SOLUTION"
   ]
  },
  {
   "cell_type": "code",
   "execution_count": null,
   "metadata": {},
   "outputs": [],
   "source": [
    "input_array_1 = np.array([[0.2398088073272696, 0.5226281228092247], [0.755564158494803, 0.7127951710848355],\n",
    " [0.3652256521465531, 0.012569140456776928], [0.505393607258859, 0.9595478799929672]])\n",
    "expected_1 = np.array([[0.0, 0.5496972698747958, 0.5252518923743529, 0.5113063271388326], [0.5496972698747958, 0.0, 0.8016736514987314, 0.35138611819364357],\n",
    "  [0.5252518923743529, 0.8016736514987314, 0.0, 0.9572960820842823], [0.5113063271388326, 0.35138611819364357, 0.9572960820842823, 0.0]])\n",
    "assert np.allclose(pairwise_distances(input_array_1), expected_1)\n",
    "\n",
    "input_array_2 = np.array([[0.17314547482155107, 0.38900068389742826], [0.010261033578648271, 0.6171436839357264]])\n",
    "expected_2 = np.array([[0.0, 0.28032226038166774], [0.28032226038166774, 0.0]])\n",
    "assert np.allclose(pairwise_distances(input_array_2), expected_2)\n",
    "\n",
    "input_array_3 = np.array([[0.40884954895322, 0.9964806111736711], [0.7140964329398977, 0.5799675045043642], [0.9564778142801861, 0.2600879564515638]])\n",
    "expected_3 = np.array([[0.0, 0.5163901898863821, 0.9176986754451021], [0.5163901898863821, 0.0, 0.40133733851074727], [0.9176986754451021, 0.40133733851074727, 0.0]])\n",
    "assert np.allclose(pairwise_distances(input_array_3), expected_3)"
   ]
  },
  {
   "cell_type": "markdown",
   "metadata": {},
   "source": [
    "## Aufgabe 6 - Gleitender Mittelwert\n",
    "\n",
    "Schreiben Sie eine Funktion `moving_average(array1d, windowsize)`. Sie soll aus einem 1D-Array ein Array berechnen, das die Mittelwerte eines gleitenden Fensters mit der Größe `windowsize` enthält. Die Mittelwerte sollen auf der Basis aller Werte im aktuellen Fenster berechnet werden, dann soll das Fenster einen Schritt nach rechts gehen, bis es auf den Rand des ursprünglichen Arrays trifft. Das resultierende Array sollte kleiner sein als das ursprüngliche, da der Durchschnitt nur dort berechnet werden kann, wo das Fenster vollständig passt."
   ]
  },
  {
   "cell_type": "code",
   "execution_count": null,
   "metadata": {},
   "outputs": [],
   "source": [
    "### BEGIN SOLUTION\n",
    "def moving_average(array1d, windowsize):\n",
    "    moving_average_array = np.zeros((0,0))\n",
    "\n",
    "    sub_array = np.zeros((1,windowsize))\n",
    "    end_of_array = False\n",
    "    upper_bound = windowsize\n",
    "    lower_bound = 0\n",
    "    while not end_of_array:\n",
    "        sub_array = np.copy(array1d[lower_bound:upper_bound])\n",
    "        moving_average_array = np.append(moving_average_array,np.mean(sub_array))\n",
    "        #moving_average_array[:,lower_bound] = np.mean(sub_array)\n",
    "        lower_bound += 1\n",
    "        upper_bound += 1\n",
    "        if upper_bound > len(array1d):\n",
    "            end_of_array = True\n",
    "            \n",
    "    return moving_average_array\n",
    "### END SOLUTION"
   ]
  },
  {
   "cell_type": "code",
   "execution_count": null,
   "metadata": {},
   "outputs": [],
   "source": [
    "input_array_1 = np.array([0, 1, 2, 3, 4, 5, 6, 7, 8, 9, 10, 11, 12, 13, 14, 15, 16, 17, 18, 19])\n",
    "expected_1 = np.array([1.0, 2.0, 3.0, 4.0, 5.0, 6.0, 7.0, 8.0, 9.0, 10.0, 11.0, 12.0, 13.0, 14.0, 15.0, 16.0, 17.0, 18.0])\n",
    "array_before = np.copy(input_array_1)\n",
    "assert np.allclose(moving_average(input_array_1, 3), expected_1)\n",
    "assert np.array_equal(array_before, input_array_1)\n",
    "\n",
    "input_array_2 = np.array([8.713907215201782, 9.85947180188376, 7.330418199299023, 3.453566577518857, 3.7872276336671797, 4.353726132720289, 2.5996543651602613, 8.894726500483136, 7.337019440947192, 1.1937980431375805])\n",
    "expected_2 = np.array([8.63459907212819, 6.881152192900547, 4.85707080349502, 3.8648401146354416, 3.5802027105159104, 5.282702332787896, 6.277133435530199, 5.808514661522639])\n",
    "array_before = np.copy(input_array_2)\n",
    "assert np.allclose(moving_average(input_array_2, 3), expected_2)\n",
    "assert np.array_equal(array_before, input_array_2)\n",
    "\n",
    "input_array_3 = np.array([0, 1, 2, 3, 4, 5, 6, 7, 8, 9, -10, -9, -8, -7, -6, -5, -4, -3, -2, -1])\n",
    "expected_3 = np.array([1.0, 2.0, 3.0, 4.0, 5.0, 6.0, 7.0, 8.0, 2.3333333333333335, -3.3333333333333335, -9.0, -8.0, -7.0, -6.0, -5.0, -4.0, -3.0, -2.0])\n",
    "array_before = np.copy(input_array_3)\n",
    "assert np.allclose(moving_average(input_array_3, 3), expected_3)\n",
    "assert np.array_equal(array_before, input_array_3)\n",
    "\n",
    "expected_4 = np.array([ 1.5,  2.5,  3.5,  4.5,  5.5,  6.5,  7.5,  8.5,  9.5, 10.5, 11.5,\n",
    "                        12.5, 13.5, 14.5, 15.5, 16.5, 17.5])\n",
    "array_before = np.copy(input_array_1)\n",
    "assert np.allclose(moving_average(input_array_1, 4), expected_4)\n",
    "assert np.array_equal(array_before, input_array_1)\n",
    "\n",
    "expected_5 = np.array([ 2.,  3.,  4.,  5.,  6.,  7.,  8.,  9., 10., 11., 12., 13., 14.,\n",
    "                       15., 16., 17.])\n",
    "array_before = np.copy(input_array_1)\n",
    "assert np.allclose(moving_average(input_array_1, 5), expected_5)\n",
    "assert np.array_equal(array_before, input_array_1)"
   ]
  },
  {
   "cell_type": "markdown",
   "metadata": {},
   "source": [
    "## Aufgabe 7 - Wiederholung macht den Meister: Masken & Slicing"
   ]
  },
  {
   "cell_type": "markdown",
   "metadata": {},
   "source": [
    "a) Gegeben ein Array `x` der Länge `n`, berechne das Array `dx` der Länge `n-1` mit den Werten `dx[i] = x[i+1] - x[i]`. Verwende keine Schleifen sondern Slicing!\n",
    "\n",
    "**Hinweis:** Du musst zwei Arrays subtrahieren, von denen das eine der um 1 versetzte hintere und das andere der vordere Teil von `x` ist.\n",
    "\n",
    "**Erinnerung:** Mit negativen Zahlen im Subskript wählst du Indizes vom Ende einer Reihe aus."
   ]
  },
  {
   "cell_type": "code",
   "execution_count": null,
   "metadata": {},
   "outputs": [],
   "source": [
    "x = np.array([ 1, 1, 2, 3, 5, 8 ])\n",
    "### BEGIN SOLUTION\n",
    "dx = x[1:] - x[:-1]\n",
    "### END SOLUTION"
   ]
  },
  {
   "cell_type": "code",
   "execution_count": null,
   "metadata": {},
   "outputs": [],
   "source": [
    "from numpy.testing import assert_array_equal\n",
    "try:\n",
    "    dx\n",
    "except NameError:\n",
    "    raise NameError(\"Es gibt keine Variable 'dx'. Weise das Array einer Variablen mit diesem Namen zu.\")\n",
    "assert_array_equal(dx, [0, 1, 1, 2, 3])\n",
    "print(\"EZ 😉\")"
   ]
  },
  {
   "cell_type": "markdown",
   "metadata": {},
   "source": [
    "b) Erstelle eine Maske `binary_donut`, die nur für Werte von `r` zwischen $5$ und $2$ `True` ist, und sonst `False`."
   ]
  },
  {
   "cell_type": "code",
   "execution_count": null,
   "metadata": {},
   "outputs": [],
   "source": [
    "x, y = np.meshgrid(np.arange(-5, 6), np.arange(-5, 6))\n",
    "r = np.sqrt(x**2 + y**2)\n",
    "### BEGIN SOLUTION\n",
    "binary_donut = (r > 2) & (r < 5)\n",
    "### END SOLUTION"
   ]
  },
  {
   "cell_type": "code",
   "execution_count": null,
   "metadata": {},
   "outputs": [],
   "source": [
    "from numpy.testing import assert_array_equal\n",
    "try:\n",
    "    binary_donut\n",
    "except NameError:\n",
    "    raise NameError(\"Es gibt keine Variable 'binary_donut'. Weise das Array einer Variablen mit diesem Namen zu.\")\n",
    "assert_array_equal(binary_donut[1,:], [False, False, False, True, True, True, True, True, False, False, False])\n",
    "print(\"mhm 🍩!\")"
   ]
  },
  {
   "cell_type": "markdown",
   "metadata": {},
   "source": [
    "c) Wähle aus `z` solche Werte, die der Maske `binary_donut` entsprechen, und weise sie der Variable `n` zu."
   ]
  },
  {
   "cell_type": "code",
   "execution_count": null,
   "metadata": {},
   "outputs": [],
   "source": [
    "z = x + y\n",
    "print(z)\n",
    "### BEGIN SOLUTION\n",
    "n = z[binary_donut]\n",
    "### END SOLUTION\n",
    "print(n)"
   ]
  },
  {
   "cell_type": "code",
   "execution_count": null,
   "metadata": {},
   "outputs": [],
   "source": [
    "from numpy.testing import assert_array_equal\n",
    "try:\n",
    "    n\n",
    "except NameError:\n",
    "    raise NameError(\"Es gibt keine Variable 'n'. Weise das Array einer Variablen mit diesem Namen zu.\")\n",
    "assert_array_equal(n[:10], [-6, -5, -4, -3, -2, -6, -5, -4, -3, -2])\n",
    "print(\"👌\")"
   ]
  },
  {
   "cell_type": "markdown",
   "metadata": {},
   "source": [
    "## Aufgabe 8 - Temperaturen in Heidelberg\n",
    "\n",
    "Die Datei `data/temperatures.txt` enthält Temperaturdaten aus Heidelberg von 1995 bis einschließlich 2012."
   ]
  },
  {
   "cell_type": "markdown",
   "metadata": {},
   "source": [
    "a) Lies die Daten mithilfe der `numpy.loadtxt` Funktion ein und weise die beiden Spalten zwei Variablen `date` und `T` zu."
   ]
  },
  {
   "cell_type": "code",
   "execution_count": null,
   "metadata": {},
   "outputs": [],
   "source": [
    "### BEGIN SOLUTION\n",
    "date, T = np.loadtxt('../data/04/temperatures.txt', unpack=True)\n",
    "### END SOLUTION"
   ]
  },
  {
   "cell_type": "code",
   "execution_count": null,
   "metadata": {},
   "outputs": [],
   "source": [
    "from numpy.testing import assert_array_almost_equal\n",
    "try:\n",
    "    date\n",
    "except NameError:\n",
    "    raise NameError(\"Es gibt keine Variable 'date'. Weise das Array einer Variablen mit diesem Namen zu.\")\n",
    "try:\n",
    "    T\n",
    "except NameError:\n",
    "    raise NameError(\"Es gibt keine Variable 'T'. Weise das Array einer Variablen mit diesem Namen zu.\")\n",
    "\n",
    "assert_array_almost_equal(date[:3], [ 1995.00274, 1995.00548, 1995.00821], 4, \"Das Array 'date' enthält nicht die richtigen Daten. Verwende die 'unpack=True' Funktion von 'numpy.loadtxt' wie im Hinweis oben.\")\n",
    "assert_array_almost_equal(T[:3], [ 0.944444, -1.61111, -3.55556], 4, \"Das Array 'T' enthält nicht die richtigen Daten. Verwende die 'unpack=True' Funktion von 'numpy.loadtxt' wie im Hinweis oben.\")\n",
    "print(\"Daten eingelesen!\")"
   ]
  },
  {
   "cell_type": "markdown",
   "metadata": {},
   "source": [
    "b) Berechne für jedes Jahr von 1995 bis einschließlich 2012 die Durchschnittstemperatur, die minimale und die maximale Temperatur. Füge dabei der Liste `yearly_temperatures` für jedes Jahr eine Zeile mit dem Jahr und diesen drei Werten hinzu.\n",
    "\n",
    "Die Datei enthält fehlerhafte Daten, die durch den Wert `+/-99` gekennzeichnet sind und nicht in die Berechnung mit einbezogen werden dürfen.\n",
    "\n",
    "**Hinweis:** Gehe die Jahre in einer for-Schleife durch und verwende eine Maske für das Array `T`, sodass du nur die Temperaturdaten des entsprechenden Jahres als Slice erhälst. Darauf kannst du dann die Numpy Funktionen für den Mittelwert, das Minimum und das Maximum anwenden.\n",
    "\n",
    "**Erinnerung:** Mehrere Masken kannst du mit dem `&`-Operator kombinieren."
   ]
  },
  {
   "cell_type": "code",
   "execution_count": null,
   "metadata": {},
   "outputs": [],
   "source": [
    "### BEGIN SOLUTION\n",
    "yearly_temperatures = []\n",
    "for year in range(1995, 2013):\n",
    "    temperatures = T[(date >= year) & (date < year + 1) & (np.abs(T) != 99)]\n",
    "    yearly_temperatures.append([year, np.mean(temperatures), np.min(temperatures), np.max(temperatures)])\n",
    "    ### END SOLUTION\n",
    "from tabulate import tabulate\n",
    "print(tabulate(yearly_temperatures, headers=[\"Jahr\", \"Durchschnitt [°C]\", \"Minimal [°C]\", \"Maximal [°C]\"]))"
   ]
  },
  {
   "cell_type": "code",
   "execution_count": null,
   "metadata": {},
   "outputs": [],
   "source": [
    "from numpy.testing import assert_array_almost_equal\n",
    "assert_array_almost_equal(yearly_temperatures[0], [ 1995, 8.7656, -13.2778, 25.9444 ], 4, \"Die Daten sind nicht richtig. Überprüfe, ob jedes Element der Liste 'yearly_temperatures' wiederum eine Liste mit den Werten Jahr, Durchschnittstemperatur, Minimum und Maximum ist und du die fehlerhaften Werte +/-99 herausgefiltert hast.\")\n",
    "print(\"Ganz schön warm, oder? ☀️🌴😅\")"
   ]
  },
  {
   "cell_type": "markdown",
   "metadata": {},
   "source": [
    "c) Berechne diese Daten analog aufgeteilt in Monate statt Jahre, also bspw. die Durschnittstemperatur im Januar im ganzen gemessenen Zeitraum.\n",
    "\n",
    "**Hinweis:** Den Zeitpunkt innerhalb eines Jahres, wobei `0` dem Jahresanfang und `1` dem Jahresende entspricht, erhälst du mit dem Modulo Operator: `date % 1`"
   ]
  },
  {
   "cell_type": "code",
   "execution_count": null,
   "metadata": {},
   "outputs": [],
   "source": [
    "### BEGIN SOLUTION\n",
    "monthly_temperatures = []\n",
    "for month in range(0, 12):\n",
    "    temperatures = T[(date % 1 >= month / 12) & (date % 1 < (month + 1) / 12) & (np.abs(T) != 99)]\n",
    "    monthly_temperatures.append([month, np.mean(temperatures), np.min(temperatures), np.max(temperatures)])\n",
    "### END SOLUTION\n",
    "from tabulate import tabulate\n",
    "print(tabulate(monthly_temperatures, headers=[\"Monat\", \"Durchschnitt [°C]\", \"Minimal [°C]\", \"Maximal [°C]\"]))"
   ]
  },
  {
   "cell_type": "code",
   "execution_count": null,
   "metadata": {},
   "outputs": [],
   "source": [
    "from numpy.testing import assert_array_almost_equal\n",
    "assert_array_almost_equal(monthly_temperatures[0][1:], [ -0.8494, -16.7778, 12.2222 ], 4, \"Die Daten sind nicht richtig. Überprüfe, ob jedes Element der Liste 'monthly_temperatures' wiederum eine Liste mit den Werten Monat, Durchschnittstemperatur, Minimum und Maximum ist und du die fehlerhaften Werte +/-99 herausgefiltert hast.\")\n",
    "print(\"👍 Sieht richtig aus.\")"
   ]
  },
  {
   "cell_type": "markdown",
   "metadata": {},
   "source": [
    "## Aufgabe 9 - Subarray\n",
    "\n",
    "Für dies Aufgabe müssen Sie die `shape` und den Slicing-Zugriff von Numpy-Arrays verstehen.\n",
    "\n",
    "Ihre Aufgabe ist es, eine Funktion `subarray()` zu erstellen, die ein Subarray eines gegebenen Arrays zurückgibt. Sie können die Form des neuen Subarrays (wie viele Zeilen und Spalten) und den Punkt, an dem es zentriert ist, angeben. Wenn sich das Subarray mit dem Rand des ursprünglichen Arrays überschneidet, kann ein Füllwert angegeben werden, ansonsten sollte die Überschneidung weggelassen werden. Die Funktionssignatur sollte wie folgt lauten:\n",
    "\n",
    "```python\n",
    "import numpy as np\n",
    "\n",
    "def sub_array(array, shape, center, fill=None):\n",
    "    # ... your code here\n",
    "```\n",
    "\n",
    "Sie können davon ausgehen, dass das Eingabe-Array ein Numpy-Array mit beliebigen Werten ist. Der `shape`-Parameter wird ein Tupel mit `(rows, cols)` sein, der `center` ein Tupel mit den Koordinaten `(row, col)` und `fill` ist standardmäßig auf `None` gesetzt, kann aber mit einem beliebigen Wert belegt werden, der für die Füllung der Überlappung verwendet werden soll. Die Funktion sollte das entsprechende Unterarray als Numpy-Array zurückgeben. Hier sehen Sie ein paar Illustrationen zum Verhalten der Funktion:\n",
    "\n",
    "\n",
    "**Beispiel 1:** Eingangs-Array hat die Form (5, 6). Sub-Array-Mittelpunkt ist (2, 2), Sub-Array (rot) hat Form (3, 3). Das Ergebnis ist ein 3x3-Sub-Patch.\n",
    "\n",
    "\n",
    "**Beispiel 2:** Eingangs-Array hat die Form (5, 6). Sub-Array-Mittelpunkt ist (2, 2), Sub-Array (rot) hat die Form (4, 3). Das Ergebnis ist ein 4x3-Sub-Patch. Beachten Sie die Lage des Zentrums für eine gerade Anzahl von Zeilen oder Spalten.\n",
    "\n",
    "\n",
    "**Beispiel 3:** Eingangs-Array hat die Form (5, 6). Sub-Array-Mittelpunkt ist (3, 2), Sub-Array (rot) hat Form (4, 5). Hier ist `fill=None`. Das Ergebnis ist ein 3x5-Sub-Patch.\n",
    "\n",
    "\n",
    "**Beispiel 4:** Eingangs-Array hat die Form (5, 6). Sub-Array-Mittelpunkt ist (3, 4), Sub-Array (rot) hat Form (5, 5). Hier ist `fill=1`. Das Ergebnis ist ein 5x5 Sub-Patch."
   ]
  },
  {
   "cell_type": "code",
   "execution_count": null,
   "metadata": {},
   "outputs": [],
   "source": [
    "### BEGIN SOLUTION\n",
    "def subarray(array, shape, center, fill=None):\n",
    "    \"\"\"Calculate sub_array of numpy array.\"\"\"\n",
    "    # initializations:\n",
    "    m,n = shape\n",
    "    x,y = center\n",
    "    subarray = np.full(shape=shape,fill_value=fill)\n",
    "    sliced_list = []\n",
    "    new_row = True\n",
    "    v_old = 0\n",
    "    \n",
    "    # calculate start values for x to start the kernel on the top left corner:\n",
    "    if m % 2 == 0:\n",
    "        x = x - ((m-1)//2)\n",
    "    else:    \n",
    "        x = x - (m//2)\n",
    "    \n",
    "    # calculate start values for y to start the kernel on the top left corner:\n",
    "    if n % 2 == 0:\n",
    "        y = y - ((n-1)//2) \n",
    "    else:    \n",
    "        y = y - (n//2) \n",
    "        \n",
    "    # fill up subarray with the corresponding values from array starting at (x,y), which represent the top left corner of the subarray\n",
    "    for i in range(m):\n",
    "        for j in range(n):\n",
    "            # only fill up the value from array, if the boundarys of array are not expired:\n",
    "            if x + i <= (len(array)-1) and y + j <= (len(array[0])-1) and x + i >= 0 and y + j >= 0:\n",
    "                subarray[i][j] = array[x+i][y+j]\n",
    "\n",
    "    # only if parameter fill is none, cut out the values from subarray that are not filled from the array (value = None)\n",
    "    if fill == None:\n",
    "        # proceed, only if there are some values that are not filled from the array\n",
    "        if None in subarray:\n",
    "            for v in range(m):\n",
    "                # always make a new row, when 'None' appears or when there is a new row in the subarray with missing values\n",
    "                if not new_row:\n",
    "                    new_row = v_old < v\n",
    "                for u in range(n):\n",
    "                    # only filled values (!= should be considered in the return array)\n",
    "                    if subarray[v][u] is not None:    \n",
    "                        if new_row:\n",
    "                            sliced_list.append([])\n",
    "                            new_row = False\n",
    "                        sliced_list[len(sliced_list)-1].append(subarray[v][u])\n",
    "                    else:\n",
    "                        new_row = True\n",
    "                v_old = v\n",
    "            subarray = np.array(sliced_list)\n",
    "    return subarray\n",
    "### END SOLUTION"
   ]
  },
  {
   "cell_type": "code",
   "execution_count": null,
   "metadata": {},
   "outputs": [],
   "source": [
    "def dummy_array():\n",
    "    return np.arange(1, 31).reshape((5, 6))\n",
    "\n",
    "\n",
    "def test_simple_case(dummy_array):\n",
    "    arg_sets = [\n",
    "        dict(shape=(3, 3), center=(2, 2), fill=None),\n",
    "    ]\n",
    "\n",
    "    targets = [\n",
    "        [[8, 9, 10], [14, 15, 16], [20, 21, 22]]\n",
    "    ]\n",
    "\n",
    "    for args, target in zip(arg_sets, targets):\n",
    "\n",
    "        result = subarray(array=dummy_array, **args)\n",
    "\n",
    "        assert isinstance(result, np.ndarray)\n",
    "        assert result.tolist() == target, 'Test run returned wrong result!'\n",
    "\n",
    "def test_even_number_of_rows_or_cols(dummy_array):\n",
    "    arg_sets = [\n",
    "        dict(shape=(4, 3), center=(2, 2), fill=None),\n",
    "        dict(shape=(3, 4), center=(2, 2), fill=None),\n",
    "        dict(shape=(4, 4), center=(2, 2), fill=None),\n",
    "    ]\n",
    "\n",
    "    targets = [\n",
    "        [[8, 9, 10], [14, 15, 16], [20, 21, 22], [26, 27, 28]],\n",
    "        [[8, 9, 10, 11], [14, 15, 16, 17], [20, 21, 22, 23]],\n",
    "        [[8, 9, 10, 11], [14, 15, 16, 17], [20, 21, 22, 23], [26, 27, 28, 29]],\n",
    "    ]\n",
    "\n",
    "    for args, target in zip(arg_sets, targets):\n",
    "\n",
    "        result = subarray(array=dummy_array, **args)\n",
    "\n",
    "        assert isinstance(result, np.ndarray)\n",
    "        assert result.tolist() == target, 'Test run returned wrong result!'\n",
    "\n",
    "def test_fill_without_overlap(dummy_array):\n",
    "    arg_sets = [\n",
    "        dict(shape=(3, 3), center=(2, 2), fill=0),\n",
    "    ]\n",
    "\n",
    "    targets = [\n",
    "        [[8, 9, 10], [14, 15, 16], [20, 21, 22]],\n",
    "    ]\n",
    "\n",
    "    for args, target in zip(arg_sets, targets):\n",
    "\n",
    "        result = subarray(array=dummy_array, **args)\n",
    "\n",
    "        assert isinstance(result, np.ndarray)\n",
    "        assert result.tolist() == target, 'Test run returned wrong result!'\n",
    "\n",
    "def test_overlaps_without_fill(dummy_array):\n",
    "    arg_sets = [\n",
    "        dict(shape=(3, 5), center=(2, 0), fill=None),\n",
    "        dict(shape=(3, 5), center=(2, 5), fill=None),\n",
    "        dict(shape=(5, 3), center=(0, 2), fill=None),\n",
    "        dict(shape=(5, 3), center=(4, 2), fill=None),\n",
    "        dict(shape=(9, 9), center=(2, 2), fill=None),\n",
    "    ]\n",
    "\n",
    "    targets = [\n",
    "        [[7, 8, 9], [13, 14, 15], [19, 20, 21]],\n",
    "        [[10, 11, 12], [16, 17, 18], [22, 23, 24]],\n",
    "        [[2, 3, 4], [8, 9, 10], [14, 15, 16]],\n",
    "        [[14, 15, 16], [20, 21, 22], [26, 27, 28]],\n",
    "        [[1, 2, 3, 4, 5, 6], [7, 8, 9, 10, 11, 12], [13, 14, 15, 16, 17, 18], [19, 20, 21, 22, 23, 24], [25, 26, 27, 28, 29, 30]],\n",
    "    ]\n",
    "\n",
    "    for args, target in zip(arg_sets, targets):\n",
    "\n",
    "        result = subarray(array=dummy_array, **args)\n",
    "\n",
    "        assert isinstance(result, np.ndarray)\n",
    "        assert result.tolist() == target, 'Test run returned wrong result!'\n",
    "\n",
    "def test_overlaps_with_fill(dummy_array):\n",
    "    arg_sets = [\n",
    "        dict(shape=(3, 5), center=(2, 0), fill=0),\n",
    "        dict(shape=(3, 5), center=(2, 5), fill=0),\n",
    "        dict(shape=(5, 3), center=(0, 2), fill=0),\n",
    "        dict(shape=(5, 3), center=(4, 2), fill=0),\n",
    "        dict(shape=(9, 9), center=(2, 2), fill=0),\n",
    "    ]\n",
    "\n",
    "    targets = [\n",
    "        [[0, 0, 7, 8, 9], [0, 0, 13, 14, 15], [0, 0, 19, 20, 21]],\n",
    "        [[10, 11, 12, 0, 0], [16, 17, 18, 0, 0], [22, 23, 24, 0, 0]],\n",
    "        [[0, 0, 0], [0, 0, 0], [2, 3, 4], [8, 9, 10], [14, 15, 16]],\n",
    "        [[14, 15, 16], [20, 21, 22], [26, 27, 28], [0, 0, 0], [0, 0, 0]],\n",
    "        [[0, 0, 0, 0, 0, 0, 0, 0, 0], [0, 0, 0, 0, 0, 0, 0, 0, 0], [0, 0, 1, 2, 3, 4, 5, 6, 0], [0, 0, 7, 8, 9, 10, 11, 12, 0], [0, 0, 13, 14, 15, 16, 17, 18, 0], [0, 0, 19, 20, 21, 22, 23, 24, 0], [0, 0, 25, 26, 27, 28, 29, 30, 0], [0, 0, 0, 0, 0, 0, 0, 0, 0], [0, 0, 0, 0, 0, 0, 0, 0, 0]]\n",
    "    ]\n",
    "\n",
    "    for args, target in zip(arg_sets, targets):\n",
    "\n",
    "        result = subarray(array=dummy_array, **args)\n",
    "\n",
    "        assert isinstance(result, np.ndarray)\n",
    "        assert result.tolist() == target, 'Test run returned wrong result!'\n",
    "        \n",
    "test_simple_case(dummy_array())\n",
    "test_even_number_of_rows_or_cols(dummy_array())\n",
    "test_fill_without_overlap(dummy_array())\n",
    "test_overlaps_without_fill(dummy_array())\n",
    "test_overlaps_with_fill(dummy_array())"
   ]
  },
  {
   "cell_type": "markdown",
   "metadata": {},
   "source": [
    "---\n",
    "\n",
    "Wahlpflichtfach Künstliche Intelligenz I: Praktikum"
   ]
  }
 ],
 "metadata": {
  "kernelspec": {
   "display_name": "Python 3 (ipykernel)",
   "language": "python",
   "name": "python3"
  },
  "language_info": {
   "codemirror_mode": {
    "name": "ipython",
    "version": 3
   },
   "file_extension": ".py",
   "mimetype": "text/x-python",
   "name": "python",
   "nbconvert_exporter": "python",
   "pygments_lexer": "ipython3",
   "version": "3.11.3"
  }
 },
 "nbformat": 4,
 "nbformat_minor": 2
}

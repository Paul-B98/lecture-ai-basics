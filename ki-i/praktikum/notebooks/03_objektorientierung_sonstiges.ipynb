{
 "cells": [
  {
   "cell_type": "markdown",
   "metadata": {},
   "source": [
    "Wahlpflichtfach Künstliche Intelligenz I: Praktikum\n",
    "\n",
    "---"
   ]
  },
  {
   "cell_type": "markdown",
   "metadata": {},
   "source": [
    "# 03 - Kontrollfluss und Objektorientierung\n",
    "\n",
    "- [Funktionen](#Funktionen)\n",
    "- [Klassen](#Klassen)\n",
    "- [Typisierung](#Typisierung)\n",
    "- [The Python Data Model](#The-Python-Data-Model)\n",
    "- [Iterables und Iteratoren](#Iterables-und-Iteratoren)\n",
    "- [Properties](#Properties)\n",
    "- [Exceptions](#Exceptions)\n",
    "- [Factory-Methoden](#Factory-Methoden)\n",
    "- [Generators](#Generators)\n",
    "- [Kontextmanager (und IO)](#Kontextmanager-(und-IO))\n",
    "- [Map, Filter & Reduce](#Map,-Filter-&-Reduce)\n",
    "- [Decorators](#Decorators)\n",
    "- [Module](#Module)"
   ]
  },
  {
   "cell_type": "markdown",
   "metadata": {},
   "source": [
    "#### Erzeugen von Objekten\n",
    "\n",
    "Objekte einer Klasse meineKlasse können durch den Aufruf:\n",
    "\n",
    "```python\n",
    "ref=meineKlasse(arg1,arg2,...)\n",
    "```\n",
    "\n",
    "erzeugt werden. Die innerhalb der geschweiften Klammern angeführten Argumente werden dem Konstruktor übergeben. Enthält der Konstruktor als Parameter nur self, dann können die geschweiften Klammern nach dem Klassennamen ganz weggelassen werden."
   ]
  },
  {
   "cell_type": "code",
   "execution_count": null,
   "metadata": {},
   "outputs": [],
   "source": [
    "class Konto:\n",
    "        angelegteKonten=0\n",
    "\n",
    "        def __init__(self, inhaber, autorisiert=[\"Bankangestellter\"], startkap=0):\n",
    "            self.__inhaber = inhaber\n",
    "            self.__autorisiert = autorisiert\n",
    "            self.__kontostand = startkap\n",
    "            Konto.angelegteKonten += 1\n",
    "\n",
    "        def __del__(self):\n",
    "            Konto.angelegteKonten -= 1\n",
    "\n",
    "        def einzahlen(self,betrag):\n",
    "            if isinstance(betrag, (float, int)) and betrag>0:\n",
    "                self.__kontostand +=betrag\n",
    "                print(\"Neuer Kontostand:    \", self.__kontostand)\n",
    "            else:\n",
    "                print(\"FEHLER: Falsche Betragsangabe\")\n",
    "            return self.__kontostand\n",
    "\n",
    "        def auszahlen(self, betrag,initiator):\n",
    "            if not initiator in self.__autorisiert:\n",
    "                print(f\"{initiator} ist nicht berechtigt\")\n",
    "            elif self.__kontostand < betrag:\n",
    "                print(f\"Es befinden sich nur noch {self.__kontostand:10.2f} Euro auf dem Konto\")\n",
    "            else:\n",
    "                self.__kontostand -= betrag\n",
    "            return self.__kontostand\n",
    "\n",
    "        def abfrage(self):\n",
    "            return self.__kontostand"
   ]
  },
  {
   "cell_type": "code",
   "execution_count": null,
   "metadata": {},
   "outputs": [],
   "source": [
    "kontoSchwarz=Konto(\"Schwarz\",[\"Schwarz\",\"Bankangestellter\",\"Papa\"],10)\n",
    "print(kontoSchwarz.einzahlen(1499.00))\n",
    "print(kontoSchwarz.auszahlen(1000, \"Freundin\"))\n",
    "print(kontoSchwarz.abfrage())\n",
    "print(kontoSchwarz.auszahlen(1600, \"Papa\"))\n",
    "print(kontoSchwarz.auszahlen(900, \"Schwarz\"))\n",
    "\n",
    "print(\"Anzahl der Konten  :\",Konto.angelegteKonten)\n",
    "\n",
    "kontoWeiss=Konto(\"Weiss\")\n",
    "\n",
    "print(\"Anzahl der Konten  :\",Konto.angelegteKonten)\n",
    "\n",
    "print(\"Kontostand von Schwarz :\",kontoSchwarz.abfrage())\n",
    "print(\"Kontostand von Weiss :\",kontoWeiss.abfrage())\n",
    "\n",
    "del(kontoWeiss)\n",
    "\n",
    "print(\"Anzahl der Konten  :\",Konto.angelegteKonten)"
   ]
  },
  {
   "cell_type": "code",
   "execution_count": null,
   "metadata": {},
   "outputs": [],
   "source": [
    "class GiroKonto(Konto):\n",
    "    pass"
   ]
  },
  {
   "cell_type": "code",
   "execution_count": null,
   "metadata": {},
   "outputs": [],
   "source": [
    "kontoPhilipp = GiroKonto(\"Philipp\", [\"Philipp\", \"Bankangestellter\"], 10)\n",
    "print(kontoPhilipp.einzahlen(1000.00))"
   ]
  },
  {
   "cell_type": "markdown",
   "metadata": {},
   "source": [
    "## Fortgeschrittenes Python\n",
    "\n",
    "Bis jetzt haben Sie das **Bread and Butter** der Programmierung in Python kennengelernt. Sie können jetzt mit einfachen Datentypen, grundlegenden Operatoren, Datensammlungen und Kontrollfluss umgehen. Außerdem wissen Sie, wie Sie in Python Schleifen erstellen und Codeabschnitte mit Funktionen wiederverwenden können. In diesem Abschnitt sehen wir uns eine Reihe von Spracheigenschaften an, die Python im Vergleich zu anderen Programmiersprachen besonders machen. "
   ]
  },
  {
   "cell_type": "markdown",
   "metadata": {},
   "source": [
    "Alle Datentypen sind Objekte?! Zumindest sind alle eine Instanz von `object`:"
   ]
  },
  {
   "cell_type": "code",
   "execution_count": null,
   "metadata": {},
   "outputs": [],
   "source": [
    "isinstance(2, object), isinstance(2.0, object), isinstance(True, object), "
   ]
  },
  {
   "cell_type": "markdown",
   "metadata": {},
   "source": [
    "Objekte haben normalerweise Methoden. Selbst etwas so Einfaches wie ein Boolean hat eine Menge Methoden:"
   ]
  },
  {
   "cell_type": "code",
   "execution_count": null,
   "metadata": {},
   "outputs": [],
   "source": [
    "dir(True)"
   ]
  },
  {
   "cell_type": "markdown",
   "metadata": {},
   "source": [
    "## Properties\n",
    "\n",
    "Andere Sprachen definieren oft *getter* und *setter*, um den Zugriff auf Objektattribute zu beschränken. In Python können wir Getter- und Setter-Logik mit `Properties` hinzufügen."
   ]
  },
  {
   "cell_type": "code",
   "execution_count": null,
   "metadata": {},
   "outputs": [],
   "source": [
    "class Triple:\n",
    "    def __init__(self, num1, num2, num3):\n",
    "        self._nums = num1, num2, num3\n",
    "        \n",
    "    def __repr__(self):\n",
    "        \"\"\"A string representation for inspecting objects at runtime.\"\"\"\n",
    "        return f\"Triple({self.nums[0]}, {self.nums[1]}, {self.nums[2]})\"\n",
    "    \n",
    "a = Triple(1, 2, 3)"
   ]
  },
  {
   "cell_type": "code",
   "execution_count": null,
   "metadata": {},
   "outputs": [],
   "source": [
    "class Triple():\n",
    "    def __init__(self, num1, num2, num3):\n",
    "        self._nums = num1, num2, num3\n",
    "      \n",
    "    @property\n",
    "    def nums(self):\n",
    "        return self._nums\n",
    "\n",
    "    \n",
    "a = Triple(1, 2, 3)\n",
    "a.nums"
   ]
  },
  {
   "cell_type": "markdown",
   "metadata": {},
   "source": [
    "Standardmäßig können wir Attribute, die über Eigenschaften deklariert sind, nicht zuweisen."
   ]
  },
  {
   "cell_type": "code",
   "execution_count": null,
   "metadata": {},
   "outputs": [],
   "source": [
    "a.nums = 10, 11, 12"
   ]
  },
  {
   "cell_type": "markdown",
   "metadata": {},
   "source": [
    "Aber wir können einen Setter mit einem anderen Dekorator hinzufügen. Dies ist nützlich für die Einbeziehung von Validierungslogik."
   ]
  },
  {
   "cell_type": "code",
   "execution_count": null,
   "metadata": {},
   "outputs": [],
   "source": [
    "class Triple():\n",
    "    def __init__(self, num1, num2, num3):\n",
    "        self._nums = num1, num2, num3\n",
    "      \n",
    "    @property\n",
    "    def nums(self):\n",
    "        return self._nums\n",
    "    \n",
    "    @nums.setter\n",
    "    def nums(self, value):\n",
    "        if len(value) == 3:\n",
    "            self._nums = value\n",
    "        else:\n",
    "            raise ValueError(\"Three values are required to set the data.\")\n",
    "    \n",
    "a = Triple(1, 2, 3)\n",
    "a.nums = (4, 5, 6)\n",
    "a.nums"
   ]
  },
  {
   "cell_type": "markdown",
   "metadata": {},
   "source": [
    "Mit `properties` können wir Getter- und Setter-Logik hinzufügen, ohne dass diese in den Schnittstellen unserer Objekte auftauchen. Das bedeutet auch, dass Sie Ihre Klassen zunächst mit einfachen Attributen schreiben und später bei Bedarf Getter und Setter hinzufügen können."
   ]
  },
  {
   "cell_type": "markdown",
   "metadata": {},
   "source": [
    "## Factory-Methoden\n",
    "\n",
    "Manchmal möchten wir unsere Objekte auf unterschiedliche Weise initialisieren können. Ein klassisches Muster der objektorientierten Programmierung ist die `Factory`. Eine `Factory` hat nur den Zweck, andere Objekte zu initialisieren. In Python brauchen wir dieses Muster nicht wirklich, sondern wir können stattdessen *Factory-Methoden* verwenden, um unser Objekt auf unterschiedliche Weise zu initialisieren. Dazu können wir Klassenmethoden, die die Klasse statt der Instanz als erstes Argument nehmen."
   ]
  },
  {
   "cell_type": "code",
   "execution_count": null,
   "metadata": {},
   "outputs": [],
   "source": [
    "class Triple():\n",
    "    def __init__(self, num1, num2, num3):\n",
    "        self._nums = num1, num2, num3\n",
    "    \n",
    "    def __repr__(self):\n",
    "        \"\"\"A string representation for inspecting objects at runtime.\"\"\"\n",
    "        return f\"Triple({self.nums[0]}, {self.nums[1]}, {self.nums[2]})\"\n",
    "    \n",
    "    @property\n",
    "    def nums(self):\n",
    "        return self._nums\n",
    "    \n",
    "    @classmethod\n",
    "    def from_value(cls, num):\n",
    "        return cls(num, num, num)\n",
    "\n",
    "Triple.from_value(3)"
   ]
  },
  {
   "cell_type": "markdown",
   "metadata": {},
   "source": [
    "## Decorators\n",
    "\n",
    "Decorators sind Funktionen, die die Funktionalität anderer Funktionen oder Klassen verändern. Dies sollte in der Regel auf transparente Weise geschehen, d.h. die Schnittstelle der ursprünglichen Funktion bleibt gleich, während die Funktionalität um sie herum hinzugefügt wird."
   ]
  },
  {
   "cell_type": "code",
   "execution_count": null,
   "metadata": {},
   "outputs": [],
   "source": [
    "def substract(x, y):\n",
    "    return x - y\n",
    "\n",
    "def decorated_substract(*args, **kwargs):\n",
    "    print('~~~ result of', substract.__name__, '~~~')\n",
    "    result = substract(*args, **kwargs)              \n",
    "    print(result)                               \n",
    "    print('~~~~~~~~~~~~~~~~~~~~~~~~~~~')        \n",
    "    return result    \n",
    "    \n",
    "decorated_substract(5, 2);"
   ]
  },
  {
   "cell_type": "markdown",
   "metadata": {},
   "source": [
    "Dies erzeugt jedoch nur eine neue Funktion, die ein geändertes Verhalten der Substract-Funktion enthält. Was ist, wenn wir das Verhalten beliebiger Funktionen ändern wollen?"
   ]
  },
  {
   "cell_type": "code",
   "execution_count": null,
   "metadata": {},
   "outputs": [],
   "source": [
    "def substract(x, y):\n",
    "    return x - y\n",
    "\n",
    "def add(x, y):\n",
    "    return x + y\n",
    "\n",
    "def decorated(func, *args, **kwargs):\n",
    "    result = func(*args, **kwargs)              \n",
    "    print('~~~ result of', func.__name__, '~~~')\n",
    "    print(result)                               \n",
    "    print('~~~~~~~~~~~~~~~~~~~~~~~~~~~')        \n",
    "    return result    \n",
    "    \n",
    "decorated(add, 5, 2)"
   ]
  },
  {
   "cell_type": "code",
   "execution_count": null,
   "metadata": {},
   "outputs": [],
   "source": [
    "decorated(substract, 5, 2)"
   ]
  },
  {
   "cell_type": "markdown",
   "metadata": {},
   "source": [
    "Damit sind wir noch nicht einverstanden, denn wir wollen das Verhalten von `add` selbst ändern!"
   ]
  },
  {
   "cell_type": "code",
   "execution_count": null,
   "metadata": {},
   "outputs": [],
   "source": [
    "def print_decorator(func):                           # func is the method which will be decorated by this\n",
    "        \n",
    "    print(\"This occurs when we re-define the function\")\n",
    "    \n",
    "    #if we define function = decorated(function), the new function will be this:\n",
    "    \n",
    "    def inner(*args, **kwargs):                      # we define a new function here, taking any parameters...\n",
    "        result = func(*args, **kwargs)               # which, when called, executes the original function with these parameters...\n",
    "        print('~~~ result of', func.__name__, '~~~') # prints name of original funciton...\n",
    "        print(result)                                # prints the result of the function...\n",
    "        print('~~~~~~~~~~~~~~~~~~~~~~~~~~~')         # some lines...\n",
    "        return result                                # and returns that result of that function \n",
    "    \n",
    "    return inner   # the new function is this inner function!"
   ]
  },
  {
   "cell_type": "code",
   "execution_count": null,
   "metadata": {},
   "outputs": [],
   "source": [
    "decorated_add = print_decorator(add)"
   ]
  },
  {
   "cell_type": "code",
   "execution_count": null,
   "metadata": {},
   "outputs": [],
   "source": [
    "decorated_add(3, 5)"
   ]
  },
  {
   "cell_type": "code",
   "execution_count": null,
   "metadata": {},
   "outputs": [],
   "source": [
    "add = print_decorator(add)\n",
    "add(3,5)"
   ]
  },
  {
   "cell_type": "markdown",
   "metadata": {},
   "source": [
    "Python bietet eine Syntax für die Zuweisung `function = decorated(function)`. Dies ist jedoch nur *syntactic sugar* für den direkten Aufruf des Dekorators. "
   ]
  },
  {
   "cell_type": "code",
   "execution_count": null,
   "metadata": {},
   "outputs": [],
   "source": [
    "@print_decorator #multiply = print_decorator(multiply)  \n",
    "def multiply(x, y):\n",
    "    return x * y\n",
    "\n",
    "multiply(3, 5)\n",
    "multiply(4, 5)"
   ]
  },
  {
   "cell_type": "markdown",
   "metadata": {},
   "source": [
    "Ein weiteres Beispiel:"
   ]
  },
  {
   "cell_type": "code",
   "execution_count": null,
   "metadata": {},
   "outputs": [],
   "source": [
    "def bold(fn):\n",
    "    \"\"\"wraps the result of a function such that it's bold\"\"\"\n",
    "    def wrapped():\n",
    "        return f\"<b>{fn()}</b>\"\n",
    "    return wrapped\n",
    "\n",
    "\n",
    "@bold #hello = bold(hello)\n",
    "def hello():\n",
    "    \"\"\"prints 'hello world'\"\"\"\n",
    "    return \"hello world\"\n",
    "\n",
    "hello()"
   ]
  },
  {
   "cell_type": "code",
   "execution_count": null,
   "metadata": {},
   "outputs": [],
   "source": [
    "from IPython.display import HTML\n",
    "HTML(hello())"
   ]
  },
  {
   "cell_type": "markdown",
   "metadata": {},
   "source": [
    "Wir können sogar Decorators verketten!"
   ]
  },
  {
   "cell_type": "code",
   "execution_count": null,
   "metadata": {},
   "outputs": [],
   "source": [
    "def bold(fn):\n",
    "    \"\"\"wraps the result of a function such that it's bold\"\"\"\n",
    "    def wrapped():\n",
    "        return f\"<b>{fn()}</b>\"\n",
    "    return wrapped\n",
    "\n",
    "def italic(fn):\n",
    "    \"\"\"wraps the result of a function such that it's italics\"\"\"\n",
    "    def wrapped():\n",
    "        return f\"<i>{fn()}</i>\"\n",
    "    return wrapped\n",
    "\n",
    "@bold #hello = bold(hello)\n",
    "@italic #hello = italic(bold(hello))\n",
    "def hello():\n",
    "    \"\"\"prints 'hello world'\"\"\"\n",
    "    return \"hello world\"\n",
    "\n",
    "hello()"
   ]
  },
  {
   "cell_type": "code",
   "execution_count": null,
   "metadata": {},
   "outputs": [],
   "source": [
    "hello?"
   ]
  },
  {
   "cell_type": "markdown",
   "metadata": {},
   "source": [
    "Das war's dann auch schon fast mit dem Grundwissen über Dekoratoren! Es gibt nur noch eine wichtige Sache: Wenn wir die ursprüngliche Funktion durch die dekorierte Version ersetzen, verlieren wir alle Informationen der ursprünglichen Funktion, wie ihren Docstring, Informationen über Argumente, usw. Um das zu kompensieren, verwenden wir *einen weiteren Dekorator*, nämlich `functools.wraps`. Dieser kopiert einfach den Docstring der Originalfunktion in die neue Funktion."
   ]
  },
  {
   "cell_type": "code",
   "execution_count": null,
   "metadata": {},
   "outputs": [],
   "source": [
    "from functools import wraps\n",
    "from IPython.display import HTML\n",
    "\n",
    "def html(fn):\n",
    "    @wraps(fn)\n",
    "    def wrapped():\n",
    "        return HTML(fn())\n",
    "    return wrapped\n",
    "\n",
    "\n",
    "def bold(fn):\n",
    "    @wraps(fn)\n",
    "    def wrapped():\n",
    "        return f\"<b>{fn()}</b>\"\n",
    "    return wrapped\n",
    "\n",
    "def italic(fn):\n",
    "    @wraps(fn)\n",
    "    def wrapped():\n",
    "        return f\"<i>{fn()}</i>\"\n",
    "    return wrapped\n",
    "\n",
    "@html\n",
    "@bold\n",
    "@italic\n",
    "def hello():\n",
    "    \"\"\"prints 'hello world'\"\"\"\n",
    "    return \"hello world\"\n",
    "\n",
    "hello()"
   ]
  },
  {
   "cell_type": "code",
   "execution_count": null,
   "metadata": {},
   "outputs": [],
   "source": [
    "hello?"
   ]
  },
  {
   "cell_type": "markdown",
   "metadata": {},
   "source": [
    "**Wiederholen Sie für sich das Konzept der Decorator!**\n",
    "\n",
    "Bearbeiten Sie inbesondere die folgende **Übung** und schreiben Sie die Antwort am Ende der Bearbeitungszeit in den Chat: \n",
    "\n",
    "Definieren und wenden Sie einen Dekorator an, der eine Zeichenkette rot erscheinen lässt. Sie können dies erreichen, indem Sie die Zeichenkette in `<span style='color: red'> str </span>` wrappen."
   ]
  },
  {
   "cell_type": "markdown",
   "metadata": {},
   "source": [
    "## Module\n",
    "### Funktionen aus Modulen importieren\n",
    "\n",
    "Die beruhigende Nachricht ist: viele Probleme wurden schon gelöst. Für häufige Aufgaben, wie bspw. das Sortieren von Listen, existieren sogar hochoptimierte und getestete Lösungen, die wir tunlichst verwenden sollten, anstatt unsere eigene zu schreiben!\n",
    "\n",
    "Abgesehen von einigen grundlegenden Datentypen und Funktionen wie `print` oder `len` sind diese Funktionen nicht in der Python Standard Library enthalten sondern in **Modulen** ausgelagert. Mit der folgenden Syntax können wir ein Modul **importieren**, um auf die enthaltenen Funktionen zugreifen zu können:\n",
    "\n",
    "```python\n",
    "import module\n",
    "module.function_name()\n",
    "```\n",
    "\n",
    "Häufig verwendeten Modulen können wir einen abgekürzten Namen geben:\n",
    "\n",
    "```python\n",
    "import module as m\n",
    "m.function_name()\n",
    "```\n",
    "\n",
    "Wir können auch nur einzelne Funktionen eines Moduls importieren:\n",
    "\n",
    "```python\n",
    "from module import function_name\n",
    "function_name()\n",
    "```"
   ]
  },
  {
   "cell_type": "markdown",
   "metadata": {},
   "source": [
    "Anstatt die Funktion `factorial` aus der obigen Aufgabe selbst zu schreiben, können wir nun einfach die gleichnamige Funktion aus dem Modul `math` verwenden:"
   ]
  },
  {
   "cell_type": "markdown",
   "metadata": {},
   "source": [
    "> Es gibt natürlich nicht nur Module für die wissenschaftliche Anwendung. Python wird höchst vielseitig eingesetzt, sodass du bspw. auch\n",
    "> - einen [Webservice programmieren](http://www.djangoproject.com) oder\n",
    "> - ein [Spiel entwickeln](http://www.pygame.org) kannst!"
   ]
  },
  {
   "cell_type": "markdown",
   "metadata": {},
   "source": [
    "Nun kannst du vollständige Programme schreiben und Funktionen aus Modulen verwenden. Erinnere dich daran - du musst nicht alles selbst schreiben! Baue lieber auf der Vorarbeit von schlauen Entwicklern auf der ganzen Welt auf, die schon hochoptimierte und getestete Lösungen für viele Probleme geschrieben haben. [giyf](http://www.google.de).\n",
    "\n",
    "In den nächsten drei Lektionen lernen wir die Grundlagen jeweils eines Moduls, das in der wissenschaftlichen Programmierung mit Python allgegenwärtig ist und beginnen mit dem Numerik-Modul _Numpy_."
   ]
  },
  {
   "cell_type": "markdown",
   "metadata": {},
   "source": [
    "**Recherchieren Sie jetzt selber nach interessanten [Modulen](https://docs.python.org/3/py-modindex.html) und Bibliotheken, die Ihnen die Programmierung in Python erleichtern könnten! Es gibt sehr viel und so gut wie alles ist in Pythin einfach installierbar, importierbar und nutzbar. Anschließend können Sie direkt in das Übungsblatt einsteigen.**\n",
    "\n",
    "Hier ist das Übungsblatt zu diesem Notebook: [**03 - Übungsaufgaben Objektorientierung und Sonstiges**](03_uebungsaufgaben_objektorientierung_sonstiges.ipynb)"
   ]
  },
  {
   "cell_type": "markdown",
   "metadata": {},
   "source": [
    "---\n",
    "\n",
    "Wahlpflichtfach Künstliche Intelligenz I: Praktikum"
   ]
  }
 ],
 "metadata": {
  "kernelspec": {
   "display_name": "ai-lecture",
   "language": "python",
   "name": "python3"
  },
  "language_info": {
   "codemirror_mode": {
    "name": "ipython",
    "version": 3
   },
   "file_extension": ".py",
   "mimetype": "text/x-python",
   "name": "python",
   "nbconvert_exporter": "python",
   "pygments_lexer": "ipython3",
   "version": "3.12.11"
  }
 },
 "nbformat": 4,
 "nbformat_minor": 4
}

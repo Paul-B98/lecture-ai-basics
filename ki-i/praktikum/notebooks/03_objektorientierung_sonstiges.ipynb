{
 "cells": [
  {
   "cell_type": "markdown",
   "metadata": {},
   "source": [
    "Wahlpflichtfach Künstliche Intelligenz I: Praktikum\n",
    "\n",
    "---"
   ]
  },
  {
   "cell_type": "markdown",
   "metadata": {},
   "source": [
    "# 03 - Kontrollfluss und Objektorientierung\n",
    "\n",
    "- [Funktionen](#Funktionen)\n",
    "- [Klassen](#Klassen)\n",
    "- [Typisierung](#Typisierung)\n",
    "- [The Python Data Model](#The-Python-Data-Model)\n",
    "- [Iterables und Iteratoren](#Iterables-und-Iteratoren)\n",
    "- [Properties](#Properties)\n",
    "- [Exceptions](#Exceptions)\n",
    "- [Factory-Methoden](#Factory-Methoden)\n",
    "- [Generators](#Generators)\n",
    "- [Kontextmanager (und IO)](#Kontextmanager-(und-IO))\n",
    "- [Map, Filter & Reduce](#Map,-Filter-&-Reduce)\n",
    "- [Decorators](#Decorators)\n",
    "- [Module](#Module)"
   ]
  },
  {
   "cell_type": "markdown",
   "metadata": {},
   "source": [
    "#### Erzeugen von Objekten\n",
    "\n",
    "Objekte einer Klasse meineKlasse können durch den Aufruf:\n",
    "\n",
    "```python\n",
    "ref=meineKlasse(arg1,arg2,...)\n",
    "```\n",
    "\n",
    "erzeugt werden. Die innerhalb der geschweiften Klammern angeführten Argumente werden dem Konstruktor übergeben. Enthält der Konstruktor als Parameter nur self, dann können die geschweiften Klammern nach dem Klassennamen ganz weggelassen werden."
   ]
  },
  {
   "cell_type": "code",
   "execution_count": null,
   "metadata": {},
   "outputs": [],
   "source": [
    "class Konto:\n",
    "        angelegteKonten=0\n",
    "\n",
    "        def __init__(self, inhaber, autorisiert=[\"Bankangestellter\"], startkap=0):\n",
    "            self.__inhaber = inhaber\n",
    "            self.__autorisiert = autorisiert\n",
    "            self.__kontostand = startkap\n",
    "            Konto.angelegteKonten += 1\n",
    "\n",
    "        def __del__(self):\n",
    "            Konto.angelegteKonten -= 1\n",
    "\n",
    "        def einzahlen(self,betrag):\n",
    "            if isinstance(betrag, (float, int)) and betrag>0:\n",
    "                self.__kontostand +=betrag\n",
    "                print(\"Neuer Kontostand:    \", self.__kontostand)\n",
    "            else:\n",
    "                print(\"FEHLER: Falsche Betragsangabe\")\n",
    "            return self.__kontostand\n",
    "\n",
    "        def auszahlen(self, betrag,initiator):\n",
    "            if not initiator in self.__autorisiert:\n",
    "                print(f\"{initiator} ist nicht berechtigt\")\n",
    "            elif self.__kontostand < betrag:\n",
    "                print(f\"Es befinden sich nur noch {self.__kontostand:10.2f} Euro auf dem Konto\")\n",
    "            else:\n",
    "                self.__kontostand -= betrag\n",
    "            return self.__kontostand\n",
    "\n",
    "        def abfrage(self):\n",
    "            return self.__kontostand"
   ]
  },
  {
   "cell_type": "code",
   "execution_count": null,
   "metadata": {},
   "outputs": [],
   "source": [
    "kontoSchwarz=Konto(\"Schwarz\",[\"Schwarz\",\"Bankangestellter\",\"Papa\"],10)\n",
    "print(kontoSchwarz.einzahlen(1499.00))\n",
    "print(kontoSchwarz.auszahlen(1000, \"Freundin\"))\n",
    "print(kontoSchwarz.abfrage())\n",
    "print(kontoSchwarz.auszahlen(1600, \"Papa\"))\n",
    "print(kontoSchwarz.auszahlen(900, \"Schwarz\"))\n",
    "\n",
    "print(\"Anzahl der Konten  :\",Konto.angelegteKonten)\n",
    "\n",
    "kontoWeiss=Konto(\"Weiss\")\n",
    "\n",
    "print(\"Anzahl der Konten  :\",Konto.angelegteKonten)\n",
    "\n",
    "print(\"Kontostand von Schwarz :\",kontoSchwarz.abfrage())\n",
    "print(\"Kontostand von Weiss :\",kontoWeiss.abfrage())\n",
    "\n",
    "del(kontoWeiss)\n",
    "\n",
    "print(\"Anzahl der Konten  :\",Konto.angelegteKonten)"
   ]
  },
  {
   "cell_type": "code",
   "execution_count": null,
   "metadata": {},
   "outputs": [],
   "source": [
    "class GiroKonto(Konto):\n",
    "    pass"
   ]
  },
  {
   "cell_type": "code",
   "execution_count": null,
   "metadata": {},
   "outputs": [],
   "source": [
    "kontoPhilipp = GiroKonto(\"Philipp\", [\"Philipp\", \"Bankangestellter\"], 10)\n",
    "print(kontoPhilipp.einzahlen(1000.00))"
   ]
  },
  {
   "cell_type": "markdown",
   "metadata": {},
   "source": [
    "## Fortgeschrittenes Python\n",
    "\n",
    "Bis jetzt haben Sie das **Bread and Butter** der Programmierung in Python kennengelernt. Sie können jetzt mit einfachen Datentypen, grundlegenden Operatoren, Datensammlungen und Kontrollfluss umgehen. Außerdem wissen Sie, wie Sie in Python Schleifen erstellen und Codeabschnitte mit Funktionen wiederverwenden können. In diesem Abschnitt sehen wir uns eine Reihe von Spracheigenschaften an, die Python im Vergleich zu anderen Programmiersprachen besonders machen. "
   ]
  },
  {
   "cell_type": "markdown",
   "metadata": {},
   "source": [
    "Alle Datentypen sind Objekte?! Zumindest sind alle eine Instanz von `object`:"
   ]
  },
  {
   "cell_type": "code",
   "execution_count": null,
   "metadata": {},
   "outputs": [],
   "source": [
    "isinstance(2, object), isinstance(2.0, object), isinstance(True, object), "
   ]
  },
  {
   "cell_type": "markdown",
   "metadata": {},
   "source": [
    "Objekte haben normalerweise Methoden. Selbst etwas so Einfaches wie ein Boolean hat eine Menge Methoden:"
   ]
  },
  {
   "cell_type": "code",
   "execution_count": null,
   "metadata": {},
   "outputs": [],
   "source": [
    "dir(True)"
   ]
  },
  {
   "cell_type": "markdown",
   "metadata": {},
   "source": [
    "## Module\n",
    "### Funktionen aus Modulen importieren\n",
    "\n",
    "Die beruhigende Nachricht ist: viele Probleme wurden schon gelöst. Für häufige Aufgaben, wie bspw. das Sortieren von Listen, existieren sogar hochoptimierte und getestete Lösungen, die wir tunlichst verwenden sollten, anstatt unsere eigene zu schreiben!\n",
    "\n",
    "Abgesehen von einigen grundlegenden Datentypen und Funktionen wie `print` oder `len` sind diese Funktionen nicht in der Python Standard Library enthalten sondern in **Modulen** ausgelagert. Mit der folgenden Syntax können wir ein Modul **importieren**, um auf die enthaltenen Funktionen zugreifen zu können:\n",
    "\n",
    "```python\n",
    "import module\n",
    "module.function_name()\n",
    "```\n",
    "\n",
    "Häufig verwendeten Modulen können wir einen abgekürzten Namen geben:\n",
    "\n",
    "```python\n",
    "import module as m\n",
    "m.function_name()\n",
    "```\n",
    "\n",
    "Wir können auch nur einzelne Funktionen eines Moduls importieren:\n",
    "\n",
    "```python\n",
    "from module import function_name\n",
    "function_name()\n",
    "```"
   ]
  },
  {
   "cell_type": "markdown",
   "metadata": {},
   "source": [
    "Anstatt die Funktion `factorial` aus der obigen Aufgabe selbst zu schreiben, können wir nun einfach die gleichnamige Funktion aus dem Modul `math` verwenden:"
   ]
  },
  {
   "cell_type": "markdown",
   "metadata": {},
   "source": [
    "> Es gibt natürlich nicht nur Module für die wissenschaftliche Anwendung. Python wird höchst vielseitig eingesetzt, sodass du bspw. auch\n",
    "> - einen [Webservice programmieren](http://www.djangoproject.com) oder\n",
    "> - ein [Spiel entwickeln](http://www.pygame.org) kannst!"
   ]
  },
  {
   "cell_type": "markdown",
   "metadata": {},
   "source": [
    "Nun kannst du vollständige Programme schreiben und Funktionen aus Modulen verwenden. Erinnere dich daran - du musst nicht alles selbst schreiben! Baue lieber auf der Vorarbeit von schlauen Entwicklern auf der ganzen Welt auf, die schon hochoptimierte und getestete Lösungen für viele Probleme geschrieben haben. [giyf](http://www.google.de).\n",
    "\n",
    "In den nächsten drei Lektionen lernen wir die Grundlagen jeweils eines Moduls, das in der wissenschaftlichen Programmierung mit Python allgegenwärtig ist und beginnen mit dem Numerik-Modul _Numpy_."
   ]
  },
  {
   "cell_type": "markdown",
   "metadata": {},
   "source": [
    "**Recherchieren Sie jetzt selber nach interessanten [Modulen](https://docs.python.org/3/py-modindex.html) und Bibliotheken, die Ihnen die Programmierung in Python erleichtern könnten! Es gibt sehr viel und so gut wie alles ist in Pythin einfach installierbar, importierbar und nutzbar. Anschließend können Sie direkt in das Übungsblatt einsteigen.**\n",
    "\n",
    "Hier ist das Übungsblatt zu diesem Notebook: [**03 - Übungsaufgaben Objektorientierung und Sonstiges**](03_uebungsaufgaben_objektorientierung_sonstiges.ipynb)"
   ]
  },
  {
   "cell_type": "markdown",
   "metadata": {},
   "source": [
    "---\n",
    "\n",
    "Wahlpflichtfach Künstliche Intelligenz I: Praktikum"
   ]
  }
 ],
 "metadata": {
  "kernelspec": {
   "display_name": "ai-lecture",
   "language": "python",
   "name": "python3"
  },
  "language_info": {
   "codemirror_mode": {
    "name": "ipython",
    "version": 3
   },
   "file_extension": ".py",
   "mimetype": "text/x-python",
   "name": "python",
   "nbconvert_exporter": "python",
   "pygments_lexer": "ipython3",
   "version": "3.12.11"
  }
 },
 "nbformat": 4,
 "nbformat_minor": 4
}

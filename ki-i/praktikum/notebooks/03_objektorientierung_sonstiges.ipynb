{
 "cells": [
  {
   "cell_type": "markdown",
   "metadata": {},
   "source": [
    "Wahlpflichtfach Künstliche Intelligenz I: Praktikum\n",
    "\n",
    "---"
   ]
  },
  {
   "cell_type": "markdown",
   "metadata": {},
   "source": [
    "# 03 - Kontrollfluss und Objektorientierung\n",
    "\n",
    "- [Funktionen](#Funktionen)\n",
    "- [Klassen](#Klassen)\n",
    "- [Typisierung](#Typisierung)\n",
    "- [The Python Data Model](#The-Python-Data-Model)\n",
    "- [Iterables und Iteratoren](#Iterables-und-Iteratoren)\n",
    "- [Properties](#Properties)\n",
    "- [Exceptions](#Exceptions)\n",
    "- [Factory-Methoden](#Factory-Methoden)\n",
    "- [Generators](#Generators)\n",
    "- [Kontextmanager (und IO)](#Kontextmanager-(und-IO))\n",
    "- [Map, Filter & Reduce](#Map,-Filter-&-Reduce)\n",
    "- [Decorators](#Decorators)\n",
    "- [Module](#Module)"
   ]
  },
  {
   "cell_type": "markdown",
   "metadata": {},
   "source": [
    "## Klassen\n",
    "\n",
    "Python unterstützt auch die objektorientierte Programmierung. Es können Klassen definiert werden, die Attribute und Methoden kapseln. Durch die gemeinsame Definition von Attributen und Methoden innerhalb des Namensraums einer Klasse wird Modularisierung und Zugriffskontrolle erreicht. Da die Klassenarchitektur möglichst an die reale Welt angepasst sein sollte (d.h. was in der realen Welt zusammengehört, sollte auch innerhalb einer Klasse modelliert werden) wird die Verständlichkeit des Codes gegenüber anderen Programmieransätzen wie z.B. der prozeduralen Programmierung deutlich verbessert. Wie in anderen Programmiersprachen, definieren auch in Python Klassen nur einen abstrakten Bauplan. Konkrete Realisierungen von Klassen werden Objekte, oder Instanzen genannt. Da von einer Klasse beliebig viele Instanzen erzeugt werden können, wird mit der Objektorientierung auch der Vorteil des Code-Reuse erreicht. Jedes Objekt einer Klasse bildet einen eigenen Namensraum (abgesehen von den statischen Attributen). Attribute und Methoden können von aussen zugänglich (public) oder nicht zugänglich (privat) sein. Python unterstützt auch das Konzept der Vererbung, welches sowohl Code-Reuse als auch Verständlichkeit fördert. Im Gegensatz zu Java ist in Python Mehrfachvererbung möglich. Ein weiterer Unterschied zu Java ist, dass in Python alles Objekt ist, d.h. es gibt keine primitve Typen, selbst ganze Zahlen, oder boolsche Variablen sind in Python Objekte.\n",
    "\n",
    "Die Syntax zur Definition von Klassen in Python ist einfach:"
   ]
  },
  {
   "cell_type": "code",
   "execution_count": null,
   "metadata": {},
   "outputs": [],
   "source": [
    "class Greeter:\n",
    "\n",
    "    # Constructor\n",
    "    def __init__(self, name):\n",
    "        self.name = name  # Create an instance variable\n",
    "\n",
    "    # Instance method\n",
    "    def greet(self, loud=False):\n",
    "        if loud:\n",
    "            print(f'HELLO, {self.name.upper()}!')\n",
    "        else:\n",
    "            print(f'Hello, {self.name}')\n",
    "\n",
    "g = Greeter('Fred')  # Construct an instance of the Greeter class\n",
    "g.greet()            # Call an instance method; prints \"Hello, Fred\"\n",
    "g.greet(loud=True)   # Call an instance method; prints \"HELLO, FRED!\""
   ]
  },
  {
   "cell_type": "markdown",
   "metadata": {},
   "source": [
    "Und nun nochmal im Detail \n",
    "\n",
    "#### Definition von Klassen \n",
    "\n",
    "Die Definition einer Klasse beginnt in Python mit einer Kopfzeile der Form:\n",
    "\n",
    "```python\n",
    "class meineKlasse:\n",
    "```\n",
    "\n",
    "Dem Schlüsselwort `class` folgt der Name der Klasse. Nach dem Klassennamen folgt im Fall, dass die Klasse von keiner anderen Klasse abgeleitet wird der Doppelpunkt. Alle folgenden Anweisungen, die den Rumpf der Klassendefinition bilden, müssen wie in Python üblich eingerückt werden. Die Definition einer Klasse kann jedoch nicht nur aus der Kopfzeile bestehen (Syntaxfehler). Während des Entwicklungsprozess kann es vorkommen, dass man zunächst nur den Kopf einer Klasse definieren möchte, die Definition des Klassenrumpfs jedoch erst später schreiben möchte. Um in diesem Fall einen Syntaxfehler zu vermeiden, ist in Python das Schlüsselwort `pass` vorgesehen. Dieses Schlüsselwort kann überall dort eingefügt werden wo vorübergehend noch kein Anweisungsblock geschrieben werden soll, ein solcher aber für die syntaktische Korrektheit notwendig wäre.\n",
    "\n",
    "Folgender Programmcode erzeugt also keinen Syntaxfehler:"
   ]
  },
  {
   "cell_type": "code",
   "execution_count": null,
   "metadata": {},
   "outputs": [],
   "source": [
    "class MeineKlasse:\n",
    "    pass"
   ]
  },
  {
   "cell_type": "markdown",
   "metadata": {},
   "source": [
    "Das Schlüsselwort `pass` kann auch als vorübergehender Rumpf einer Funktionsdefinition oder als vorübergehender Rumpf einer Kontrollstruktur (z.B. if-then-else Anweisung) benutzt werden."
   ]
  },
  {
   "cell_type": "markdown",
   "metadata": {},
   "source": [
    "#### Methoden\n",
    "\n",
    "Methoden sind Funktionen, die innerhalb einer Klasse definiert werden. Sie sind innerhalb der Klasse sichtbar und benutzbar. Von aussen kann auf Methoden nur über eine Referenz auf ein Objekt dieser Klasse zugegriffen werden und dies auch nur dann, wenn die Methode nicht als privat deklariert wird. Eine weitere Besonderheit von Methoden ist, dass das erste Element innerhalb der Parameterliste immer self sein muss. Über den Parameter self erhält die Methode beim Aufruf eine Referenz auf das Objekt für welches sie aufgerufen wird. Folgender Code definiert 2 Methoden innerhalb einer Klasse. Der Rumpf der Methoden wird vorerst noch nicht definiert:"
   ]
  },
  {
   "cell_type": "code",
   "execution_count": null,
   "metadata": {},
   "outputs": [],
   "source": [
    "class meineKlasse:\n",
    "    MEIN_NAME = \"Paul\"\n",
    "    \n",
    "    def methode1(self, par1, par2):\n",
    "        pass\n",
    "    def methode2(self, par1='a', par2=3):\n",
    "        pass"
   ]
  },
  {
   "cell_type": "markdown",
   "metadata": {},
   "source": [
    "#### Attribute\n",
    "\n",
    "Wie in anderen Programmiersprachen wird auch in Python zwischen Instanzattributen und Klassenattributen (statische Attribute) unterschieden, wobei letztere eher in Ausnahmefällen verwendet werden. Wie der Name schon sagt gehören **Instanzattribute** zu den individuellen Instanzen einer Klasse. D.h. werden zwei Objekte derselben Klasse instanziert, dann wird für beide beim Erzeugen ein jeweils eigener Pool von Instanzattributen angelegt. Der Wert des Instanzattributs `att` in Objekt 1 ist völlig unabhängig vom Wert des Instanzattributs `att` in Objekt 2 derselben Klasse. Hingegen wird ein **Klassenattribut** pro Klasse nur einmal angelegt. D.h. alle Objekte einer Klasse können gemeinsam auf das eine Klassenattribut zugreifen. Häufig werden Klassenattribute verwendet um die aktuell instanzierten Objekte einer Klasse zu zählen.\n",
    "\n",
    "Klassenattribute werden in Python direkt im `class`-Block unter Zuweisung eines Initialwerts definiert (d.h. nicht innerhalb des Konstruktors oder einer anderen Methode). Instanzattribute hingegen werden im Konstruktor definiert und mit Initialwerten versehen."
   ]
  },
  {
   "cell_type": "markdown",
   "metadata": {},
   "source": [
    "#### Sichtbarkeit\n",
    "\n",
    "Wie oben bereits erwähnt werden innerhalb von Klassen Attribute und Methoden definiert. Die Sichtbarkeit von Methoden und Attributen ausserhalb der Klasse in der sie definiert sind kann vom Programmierer eingestellt werden. Ein wesentliches Prinzip der objektorientierten Programmierung ist es, Attribute nur über Methoden von aussen zugänglich zu machen, d.h. auf Attribute sollte aus Gründen der Sicherheit und Zugriffskontrolle von ausserhalb nicht direkt zugegriffen werden, sondern nur über Methoden, die u.a. die Zulässigkeit des Zugriffs kontrollieren. Python unterstützt folgende 3 Sichtbarkeitsstufen:\n",
    "\n",
    "* `public` Attribute und Methoden sind von ausserhalb direkt über eine Referenz auf das Objekt der Klasse zugänglich. Beispiel: `ref.att` und `ref.meth()` definieren den Zugriff auf ein `public` Attribut `att` und eine `public` Methode `meth()`, die in einer Klasse definiert sind, von deren Typ das Objekt ist, auf welches `ref` zeigt. Default, also ohne spezielle Kennzeichnung, sind in Python alle Attribute und Methoden `public`.\n",
    "* `private` Attribute und Methoden sind von aussen nicht sichtbar. Attribute und Methoden werden als private deklariert, indem man ihren Namen mit dem Prefix `__` (doppelter Unterstrich) versieht.\n",
    "* `protected` Attribute und Methoden werden gekennzeichnet, indem man dem Namen einen einfachen Unterstrich `_` voranstellt. Technisch ist für diese Attribute und Methoden der Zugriff von aussen genauso möglich wie im Fall `public`. Wird ein Attribut oder eine Methode als `protected` definiert, so soll das lediglich andere Programmierer darauf hinweisen, dass sie keinen direkten Zugriff von aussen implementieren sollen. Es handelt sich hierbei also nur um eine Konvention oder Empfehlung.\n",
    "\n",
    "In Python ist es nicht möglich, komplett private Attribute/Methoden zu erstellen. Es gibt jedoch zwei Konventionen:\n",
    "* Attribute oder Methoden, die privat sein sollen, beginnen mit einem einzelnen Unterstrich (_attribute, _method). Auf diese kann jedoch wie auf jede andere Methode oder jedes Attribut zugegriffen werden.\n",
    "* Attribute oder Methoden, die *wirklich* privat sein sollen, beginnen mit zwei führenden Unterstrichen (und enden mit weniger als zwei Unterstrichen) Alle Attribute und Methoden (\\__attribute, \\__method) mit zwei führenden Unterstrichen werden vom Compiler textuell durch _class\\__method oder _class\\__method ersetzt. Dies wird *Name Mangling* genannt.\n",
    "\n",
    "Wenn sie innerhalb eines Pakets gebündelt sind, werden Klassen mit einem führenden Unterstrich nicht durch ```von Paket importieren *``` importiert."
   ]
  },
  {
   "cell_type": "code",
   "execution_count": null,
   "metadata": {},
   "outputs": [],
   "source": [
    "class MyClass():\n",
    "    def __init__(self):\n",
    "        self.__superprivate = \"world!\"\n",
    "        self._semiprivate = \"Hello\"\n",
    "\n",
    "a = MyClass()\n",
    "print(a._semiprivate)\n",
    "print(a._MyClass__superprivate)\n",
    "print(a.__superprivate)"
   ]
  },
  {
   "cell_type": "markdown",
   "metadata": {},
   "source": [
    "#### Konstruktor\n",
    "\n",
    "Beim Erzeugen eines Objekts wird für dieses ein eigener Satz von Instanzattributen angelegt. Diese Erzeugung und Initialisierung wird in einer speziellen Methoden durchgeführt, dem Konstruktor. Der Konstruktor wird in Python durch die Kopfzeile:\n",
    "\n",
    "\n",
    "```python\n",
    "def __init__(self):\n",
    "```\n",
    "\n",
    "definiert. Es handelt sich hierbei um eine spezielle private Methode, die von aussen nicht direkt aufgerufen werden kann, sondern nur automatisch beim Erzeugen eines neuen Objekts aufgerufen wird. Wie alle anderen Methoden erhält auch der Konstruktor als ersten Parameter (`self`) eine Referenz auf das zugehörige Objekt. Im Rumpf des Konstruktors müssen alle Instanzattribute der Klasse angelegt werden. Da diese Attribute zum gerade erzeugten Objekt gehören und dieses mit `self` referenziert wird, ist den Namen der Instanzattribute jeweils `self`. voranzustellen. Der Konstruktor einer Klasse mit einem Instanzattribut `instatt` könnte wie folgt aussehen:"
   ]
  },
  {
   "cell_type": "code",
   "execution_count": null,
   "metadata": {},
   "outputs": [],
   "source": [
    "def __init__(self):\n",
    "    self.instatt =\" start\"\n",
    "    print(self.instatt)"
   ]
  },
  {
   "cell_type": "markdown",
   "metadata": {},
   "source": [
    "Um die Instanzattribute von Objekten beim Erzeugen individuell einzustellen, muss der Konstruktor diese Initialwerte aufnehmen können. Die Parameterliste des Konstruktors muss also entsprechend erweitert werden:"
   ]
  },
  {
   "cell_type": "code",
   "execution_count": null,
   "metadata": {},
   "outputs": [],
   "source": [
    "def __init__(self, inittext):\n",
    "    self.instatt = inittext\n",
    "    print(self.instatt)"
   ]
  },
  {
   "cell_type": "markdown",
   "metadata": {},
   "source": [
    "Für die Parameterübergabe an Konstruktoren und Methoden gelten die gleichen Freiheiten wie im Fall der Funktionen, d.h. durch Vorbelegung der Parameter mit Standardwerten muss beim Aufruf nicht zwingend für alle Parameter ein Argument übergeben werden."
   ]
  },
  {
   "cell_type": "markdown",
   "metadata": {},
   "source": [
    "#### Destruktor\n",
    "\n",
    "Ist `objref` eine Referenz auf ein Objekt, dann kann das Objekt durch:\n",
    "\n",
    "```python\n",
    "del(objref)\n",
    "```\n",
    "\n",
    "gelöscht werden. Sollen bei einem derartigen Löschen von Objekten bestimmte Aktionen durchgeführt werden, so kann für die entsprechende Klasse ein Destruktor definiert werden. Der Destruktor ist eine spezielle Methode, die automatisch beim Löschen eines Objekts mit del() aufgerufen wird. Der Destruktor muss mit der Kopfzeile:\n",
    "\n",
    "```python\n",
    "def __del__()\n",
    "```"
   ]
  },
  {
   "cell_type": "markdown",
   "metadata": {},
   "source": [
    "#### Erzeugen von Objekten\n",
    "\n",
    "Objekte einer Klasse meineKlasse können durch den Aufruf:\n",
    "\n",
    "```python\n",
    "ref=meineKlasse(arg1,arg2,...)\n",
    "```\n",
    "\n",
    "erzeugt werden. Die innerhalb der geschweiften Klammern angeführten Argumente werden dem Konstruktor übergeben. Enthält der Konstruktor als Parameter nur self, dann können die geschweiften Klammern nach dem Klassennamen ganz weggelassen werden."
   ]
  },
  {
   "cell_type": "markdown",
   "metadata": {},
   "source": [
    "#### Umfassendes Beispiel\n",
    "\n",
    "Folgende Klasse kapselt die Daten und Funktionen für eine einfache Kontoverwaltung:"
   ]
  },
  {
   "cell_type": "code",
   "execution_count": null,
   "metadata": {},
   "outputs": [],
   "source": [
    "class Konto:\n",
    "        angelegteKonten=0\n",
    "\n",
    "        def __init__(self, inhaber, autorisiert=[\"Bankangestellter\"], startkap=0):\n",
    "            self.__inhaber = inhaber\n",
    "            self.__autorisiert = autorisiert\n",
    "            self.__kontostand = startkap\n",
    "            Konto.angelegteKonten += 1\n",
    "\n",
    "        def __del__(self):\n",
    "            Konto.angelegteKonten -= 1\n",
    "\n",
    "        def einzahlen(self,betrag):\n",
    "            if isinstance(betrag, (float, int)) and betrag>0:\n",
    "                self.__kontostand +=betrag\n",
    "                print(\"Neuer Kontostand:    \", self.__kontostand)\n",
    "            else:\n",
    "                print(\"FEHLER: Falsche Betragsangabe\")\n",
    "            return self.__kontostand\n",
    "\n",
    "        def auszahlen(self, betrag,initiator):\n",
    "            if not initiator in self.__autorisiert:\n",
    "                print(f\"{initiator} ist nicht berechtigt\")\n",
    "            elif self.__kontostand < betrag:\n",
    "                print(f\"Es befinden sich nur noch {self.__kontostand:10.2f} Euro auf dem Konto\")\n",
    "            else:\n",
    "                self.__kontostand -= betrag\n",
    "            return self.__kontostand\n",
    "\n",
    "        def abfrage(self):\n",
    "            return self.__kontostand"
   ]
  },
  {
   "cell_type": "markdown",
   "metadata": {},
   "source": [
    "Die Klasse enthält drei Instanzattribute, die im Konstruktor angelegt werden. Ausserdem ist ein Klassenattribut (`angelegteKonten`) definiert mit dem die Anzahl der angelegten Konten gezählt werden soll. Hierfür wird bei jedem Erzeugen eines neuen Objekts der Klasse die Zählvariable inkrementiert und bei jedem Löschen eines Objekts im Destruktor dekrementiert. Sämtliche Attribute sind als `private` deklariert, d.h. man kann auf sie nur über die als `public` definierten Methoden zugreifen.\n",
    "\n",
    "Der folgende Programmcode zeigt wie Objekte der Klasse `Konto` angelegt und benutzt werden können:"
   ]
  },
  {
   "cell_type": "code",
   "execution_count": null,
   "metadata": {},
   "outputs": [],
   "source": [
    "kontoSchwarz=Konto(\"Schwarz\",[\"Schwarz\",\"Bankangestellter\",\"Papa\"],10)\n",
    "print(kontoSchwarz.einzahlen(1499.00))\n",
    "print(kontoSchwarz.auszahlen(1000, \"Freundin\"))\n",
    "print(kontoSchwarz.abfrage())\n",
    "print(kontoSchwarz.auszahlen(1600, \"Papa\"))\n",
    "print(kontoSchwarz.auszahlen(900, \"Schwarz\"))\n",
    "\n",
    "print(\"Anzahl der Konten  :\",Konto.angelegteKonten)\n",
    "\n",
    "kontoWeiss=Konto(\"Weiss\")\n",
    "\n",
    "print(\"Anzahl der Konten  :\",Konto.angelegteKonten)\n",
    "\n",
    "print(\"Kontostand von Schwarz :\",kontoSchwarz.abfrage())\n",
    "print(\"Kontostand von Weiss :\",kontoWeiss.abfrage())\n",
    "\n",
    "del(kontoWeiss)\n",
    "\n",
    "print(\"Anzahl der Konten  :\",Konto.angelegteKonten)"
   ]
  },
  {
   "cell_type": "markdown",
   "metadata": {},
   "source": [
    "#### Vererbung\n",
    "\n",
    "Soll eine Klasse `meineKlasse` von den Klassen `C1`, `C2`, usw. abgeleitet werden, dann muss die Klassendefinition mit der Kopfzeile:\n",
    "\n",
    "\n",
    "```python\n",
    "class meineKlasse(C1,C2,...):\n",
    "```\n",
    "\n",
    "beginnen. Alle Attribute und Methoden der Elternklassen `C1`, `C2`,... sind dann auch in `meineKlasse` verfügbar und können dort ggf. überschrieben werden."
   ]
  },
  {
   "cell_type": "code",
   "execution_count": null,
   "metadata": {},
   "outputs": [],
   "source": [
    "class GiroKonto(Konto):\n",
    "    pass"
   ]
  },
  {
   "cell_type": "code",
   "execution_count": null,
   "metadata": {},
   "outputs": [],
   "source": [
    "kontoPhilipp = GiroKonto(\"Philipp\", [\"Philipp\", \"Bankangestellter\"], 10)\n",
    "print(kontoPhilipp.einzahlen(1000.00))"
   ]
  },
  {
   "cell_type": "markdown",
   "metadata": {},
   "source": [
    "Ein weiteres Beispiel:"
   ]
  },
  {
   "cell_type": "code",
   "execution_count": null,
   "metadata": {},
   "outputs": [],
   "source": [
    "class Animal:\n",
    "    def is_living():\n",
    "        return True\n",
    "\n",
    "    \n",
    "class LandAnimal(Animal):\n",
    "    def __init__(self):\n",
    "        self.has_legs = True\n",
    "        \n",
    "    def walk(self):\n",
    "        return \"tap tap\"\n",
    "    \n",
    "    \n",
    "animal = LandAnimal()\n",
    "print(type(animal))\n",
    "print(isinstance(animal, LandAnimal))\n",
    "print(isinstance(animal, Animal))\n",
    "print(issubclass(LandAnimal, Animal))"
   ]
  },
  {
   "cell_type": "code",
   "execution_count": null,
   "metadata": {},
   "outputs": [],
   "source": [
    "animal.has_legs"
   ]
  },
  {
   "cell_type": "code",
   "execution_count": null,
   "metadata": {},
   "outputs": [],
   "source": [
    "animal.walk()"
   ]
  },
  {
   "cell_type": "markdown",
   "metadata": {},
   "source": [
    "#### Mehrfachvererbung\n",
    "\n",
    "Tatsächlich unterstützt Python sogar **Mehrfachvererbung** -- Methoden und Attribute, die in beiden Elternklassen definiert sind, werden in der Reihenfolge übernommen"
   ]
  },
  {
   "cell_type": "code",
   "execution_count": null,
   "metadata": {},
   "outputs": [],
   "source": [
    "class WaterAnimal(Animal):\n",
    "    def __init__(self):\n",
    "        self.has_legs = False\n",
    "    \n",
    "    def swim(self):\n",
    "        return \"splash\"\n",
    "\n",
    "class Amphibian(LandAnimal, WaterAnimal):\n",
    "    pass"
   ]
  },
  {
   "cell_type": "code",
   "execution_count": null,
   "metadata": {},
   "outputs": [],
   "source": [
    "amphibian = Amphibian()\n",
    "isinstance(amphibian, LandAnimal), isinstance(amphibian, WaterAnimal)"
   ]
  },
  {
   "cell_type": "code",
   "execution_count": null,
   "metadata": {},
   "outputs": [],
   "source": [
    "amphibian.walk(), amphibian.swim()"
   ]
  },
  {
   "cell_type": "code",
   "execution_count": null,
   "metadata": {},
   "outputs": [],
   "source": [
    "amphibian.has_legs"
   ]
  },
  {
   "cell_type": "markdown",
   "metadata": {},
   "source": [
    "#### super\n",
    "Um den Konstruktor (oder eine beliebige Methode) einer Superklasse aufzurufen, verwenden Sie super().method. Wenn Sie sich nicht sicher sind, was die Argumente sind, können Sie einfach *args und \\**kwargs verwenden"
   ]
  },
  {
   "cell_type": "code",
   "execution_count": null,
   "metadata": {},
   "outputs": [],
   "source": [
    "class Frog(Amphibian):\n",
    "    def __init__(self, is_poisonous=True):\n",
    "        self.eats_flies = True\n",
    "        self.is_poisonous = is_poisonous\n",
    "        super().__init__()\n",
    "        \n",
    "c = Frog()\n",
    "c.eats_flies, c.is_poisonous, c.has_legs # The last one wouldn't exist if we didn't call the super-constructor."
   ]
  },
  {
   "cell_type": "markdown",
   "metadata": {},
   "source": [
    "Sie können viele weitere Informationen über Python-Klassen [in der Dokumentation](https://docs.python.org/3.11/tutorial/classes.html) nachlesen."
   ]
  },
  {
   "cell_type": "markdown",
   "metadata": {},
   "source": [
    "**Versuchen Sie sich jetzt selbst an objektorientierter Programmierung! Erstellen Sie Ihre eigene Klasse mit eigenen Attributen und Methoden. Sie können auch die Vererbung von Klassen ausprobieren. Bei Fragen können Sie auch sehr gut die Dokumentation hinzuziehen!**"
   ]
  },
  {
   "cell_type": "markdown",
   "metadata": {},
   "source": [
    "## Fortgeschrittenes Python\n",
    "\n",
    "Bis jetzt haben Sie das **Bread and Butter** der Programmierung in Python kennengelernt. Sie können jetzt mit einfachen Datentypen, grundlegenden Operatoren, Datensammlungen und Kontrollfluss umgehen. Außerdem wissen Sie, wie Sie in Python Schleifen erstellen und Codeabschnitte mit Funktionen wiederverwenden können. In diesem Abschnitt sehen wir uns eine Reihe von Spracheigenschaften an, die Python im Vergleich zu anderen Programmiersprachen besonders machen. "
   ]
  },
  {
   "cell_type": "markdown",
   "metadata": {},
   "source": [
    "Alle Datentypen sind Objekte?! Zumindest sind alle eine Instanz von `object`:"
   ]
  },
  {
   "cell_type": "code",
   "execution_count": null,
   "metadata": {},
   "outputs": [],
   "source": [
    "isinstance(2, object), isinstance(2.0, object), isinstance(True, object), "
   ]
  },
  {
   "cell_type": "markdown",
   "metadata": {},
   "source": [
    "Objekte haben normalerweise Methoden. Selbst etwas so Einfaches wie ein Boolean hat eine Menge Methoden:"
   ]
  },
  {
   "cell_type": "code",
   "execution_count": null,
   "metadata": {},
   "outputs": [],
   "source": [
    "dir(True)"
   ]
  },
  {
   "cell_type": "markdown",
   "metadata": {},
   "source": [
    "## Typisierung\n",
    "\n",
    "Python ist dynamisch typisiert, aber stark typisiert. \n",
    "\n",
    "Stellen Sie sich diesen Code vor:\n",
    "```\n",
    "variable = 3\n",
    "variable = 'hallo'\n",
    "```\n",
    "Hier hat sich `variable` nicht geändert - denn `variable` ist kein Objekt, sondern einfach ein Name. In der ersten Zeile ist der Name `variable` an ein `int`-Objekt gebunden, und in der Zeile danach ist derselbe Name an ein `string`-Objekt gebunden -- Python ist dynamisch typisiert, weil wir Referenzen herumreichen und den Typ erst in der letzten möglichen Minute überprüfen. Wir sagen, es ist stark typisiert, weil Objekte ihren Typ nicht ändern.\n",
    "\n",
    "Um den Typ eines Objekts zu ermitteln, verwenden Sie die Funktion `type`. Wir können Variablen so oft neu zuweisen, wie wir wollen, mit jedem Typ, den wir wollen! Das ist ein Beispiel für dynmaische Typisierung:"
   ]
  },
  {
   "cell_type": "code",
   "execution_count": null,
   "metadata": {},
   "outputs": [],
   "source": [
    "variable = 3\n",
    "print(type(variable))\n",
    "variable = 'hallo'\n",
    "print(type(variable))"
   ]
  },
  {
   "cell_type": "markdown",
   "metadata": {},
   "source": [
    "A tool to interactively explore memory layout in Python programs: http://pythontutor.com/live.html#mode=edit."
   ]
  },
  {
   "cell_type": "markdown",
   "metadata": {},
   "source": [
    "### Duck Typing\n",
    "\n",
    "> *\"If it looks like a duck and quacks like a duck, it probably is a duck\"*.\n",
    "\n",
    "Der Typ einer Variablen wird erst in der letztmöglichen Minute geprüft. Tatsächlich ist eigentlich die Philosophie des **duck typing**, dass es nicht einmal wichtig ist, welchen Typ eine Variable hat - das Einzige, was zählt, ist, ob man mit ihr machen kann, was man will."
   ]
  },
  {
   "cell_type": "code",
   "execution_count": null,
   "metadata": {},
   "outputs": [],
   "source": [
    "class Animal:\n",
    "    def is_living():\n",
    "        return True\n",
    "    \n",
    "class LandAnimal(Animal):\n",
    "    \n",
    "    def __init__(self):\n",
    "        self.has_legs = True\n",
    "        \n",
    "    def walk(self):\n",
    "        return \"tap tap\"\n",
    "    \n",
    "class WaterAnimal(Animal):\n",
    "    def __init__(self):\n",
    "        self.has_legs = False\n",
    "    \n",
    "    def swim(self):\n",
    "        return \"splash\""
   ]
  },
  {
   "cell_type": "code",
   "execution_count": null,
   "metadata": {},
   "outputs": [],
   "source": [
    "def move_forward(animal):\n",
    "    if isinstance(animal, LandAnimal):\n",
    "        print(animal.walk())\n",
    "    if isinstance(animal, WaterAnimal):\n",
    "        print(animal.swim())"
   ]
  },
  {
   "cell_type": "code",
   "execution_count": null,
   "metadata": {},
   "outputs": [],
   "source": [
    "import random\n",
    "animal = LandAnimal() if random.randint(0,1) else WaterAnimal()\n",
    "\n",
    "move_forward(animal)"
   ]
  },
  {
   "cell_type": "code",
   "execution_count": null,
   "metadata": {},
   "outputs": [],
   "source": [
    "class DuckLikeAnimal(LandAnimal, WaterAnimal):\n",
    "    pass\n",
    "\n",
    "move_forward(DuckLikeAnimal())"
   ]
  },
  {
   "cell_type": "markdown",
   "metadata": {},
   "source": [
    "> **duck-typing** <br>\n",
    "> A programming style which does not look at an object’s type to determine if it has the right interface; instead, the method or attribute is simply called or used (“If it looks like a duck and quacks like a duck, it must be a duck.”) By emphasizing interfaces rather than specific types, well-designed code improves its flexibility by allowing polymorphic substitution. Duck-typing avoids tests using type() or isinstance(). (Note, however, that duck-typing can be complemented with abstract base classes.) Instead, it typically employs hasattr() tests or EAFP programming.\n",
    "\n",
    "[Dokumentation](https://docs.python.org/3/glossary.html?highlight=duck#term-duck-typing)\n",
    "\n"
   ]
  },
  {
   "cell_type": "code",
   "execution_count": null,
   "metadata": {},
   "outputs": [],
   "source": [
    "class DuckLikeAnimal(LandAnimal, WaterAnimal):\n",
    "    def __init__(self, *args, **kwargs):\n",
    "        self.looks_like = \"duck\"\n",
    "        self.quacks_like = \"duck\"\n",
    "        super().__init__(*args, **kwargs)    "
   ]
  },
  {
   "cell_type": "code",
   "execution_count": null,
   "metadata": {},
   "outputs": [],
   "source": [
    "duck_like = DuckLikeAnimal()\n",
    "\n",
    "if duck_like.looks_like == \"duck\" and duck_like.quacks_like == \"duck\":\n",
    "    print(\"For all that matters, it is a duck!\")"
   ]
  },
  {
   "cell_type": "markdown",
   "metadata": {},
   "source": [
    "Die Bewegung unseres Tieres *the pythonic way* würde also unser Prinzip der Enten-Typisierung zusammen mit dem EAFP-Prinzip (kommt später noch) beinhalten:"
   ]
  },
  {
   "cell_type": "code",
   "execution_count": null,
   "metadata": {},
   "outputs": [],
   "source": [
    "animal = DuckLikeAnimal()\n",
    "\n",
    "try:\n",
    "    print(animal.walk())\n",
    "except AttributeError:\n",
    "    print(animal.swim())"
   ]
  },
  {
   "cell_type": "markdown",
   "metadata": {},
   "source": [
    "### PEP 8 Naming Conventions\n",
    "\n",
    "[PEP 8](https://www.python.org/dev/peps/pep-0008/), d.h. das Python Enhancement Proposal Nummer 8, ist eine Stilanleitung zum Schreiben von Python-Code. Ein offizieller Styleguide sorgt dafür, dass Python-Code über verschiedene Projekte hinweg sehr ähnlich aussieht. Seine Rolle für den Erfolg von Python sollte nicht unterschätzt werden. Wenn Sie sich über den Stil Ihres Codes unsicher sind, werfen Sie einen Blick in PEP 8. Hier sind die Empfehlungen von PEP 8 für Variablennamen: \n",
    "\n",
    "`module_name, package_name, ClassName, method_name, ExceptionName, function_name, GLOBAL_CONSTANT_NAME, global_var_name, instance_var_name, function_parameter_name, local_var_name`"
   ]
  },
  {
   "cell_type": "markdown",
   "metadata": {},
   "source": [
    "## The Python Data Model\n",
    "\n",
    "Wir haben bereits Mathe-Operatoren auf Zahlen gesehen:"
   ]
  },
  {
   "cell_type": "code",
   "execution_count": null,
   "metadata": {},
   "outputs": [],
   "source": [
    "# Standard math operators work as expected on numbers\n",
    "a = 2\n",
    "b = 3\n",
    "\n",
    "print('a + b = ', a + b)\n",
    "print('a - b = ', a - b)\n",
    "print('a * b = ', a * b)\n",
    "print('a ** b = ', a ** b)  # a to the power of b (a^b is a bit-wise XOR!)\n",
    "print('a / b = ', a / b)\n",
    "print('a // b = ', a // b)  # Floor division \n",
    "print('b % a = ', b % a)    # Modulo operator (divide, return remainder)"
   ]
  },
  {
   "cell_type": "markdown",
   "metadata": {},
   "source": [
    "Und wir haben diese Operatoren auch bei Strings gesehen!"
   ]
  },
  {
   "cell_type": "code",
   "execution_count": null,
   "metadata": {},
   "outputs": [],
   "source": [
    "print('hello' + 'world')\n",
    "print('hello' * 3)"
   ]
  },
  {
   "cell_type": "markdown",
   "metadata": {},
   "source": [
    "Woher weiß Python also, *welches davon* es verwenden soll?  \n",
    "  \n",
    "Unter der Haube ist die meiste Python-Syntax nur *syntatic sugar* für Methodenaufrufe. \n",
    "\n",
    "Wenn Sie also aufrufen..."
   ]
  },
  {
   "cell_type": "code",
   "execution_count": null,
   "metadata": {},
   "outputs": [],
   "source": [
    "mylist = [1, 2, 3]\n",
    "len(mylist)"
   ]
  },
  {
   "cell_type": "markdown",
   "metadata": {},
   "source": [
    "Was Python daraus macht, ist eigentlich:"
   ]
  },
  {
   "cell_type": "code",
   "execution_count": null,
   "metadata": {},
   "outputs": [],
   "source": [
    "mylist.__len__()"
   ]
  },
  {
   "cell_type": "markdown",
   "metadata": {},
   "source": [
    "Also, unter der Haube von Python ist im Grunde folgendes:"
   ]
  },
  {
   "cell_type": "code",
   "execution_count": null,
   "metadata": {},
   "outputs": [],
   "source": [
    "def len(obj):\n",
    "    return obj.__len__()"
   ]
  },
  {
   "cell_type": "markdown",
   "metadata": {},
   "source": [
    "Wenn Sie die Methoden kennen, die von der allgemeinen Syntax implizit aufgerufen werden, können Sie Objekte entwerfen, die sich wunderbar in die Sprache integrieren.\n",
    "\n",
    "Ein weiteres Beispiel:"
   ]
  },
  {
   "cell_type": "code",
   "execution_count": null,
   "metadata": {},
   "outputs": [],
   "source": [
    "3 + 3 "
   ]
  },
  {
   "cell_type": "markdown",
   "metadata": {},
   "source": [
    "... macht in Wirklichkeit:"
   ]
  },
  {
   "cell_type": "code",
   "execution_count": null,
   "metadata": {},
   "outputs": [],
   "source": [
    "(3).__add__(3)"
   ]
  },
  {
   "cell_type": "markdown",
   "metadata": {},
   "source": [
    "Lassen Sie uns herausfinden, wie wir Objekte erstellen können, die sich gut mit dem Rest der Sprache verhalten. Als Beispiel schauen wir uns eine Klasse zur Darstellung von Tripeln numerischer Werte an."
   ]
  },
  {
   "cell_type": "code",
   "execution_count": null,
   "metadata": {},
   "outputs": [],
   "source": [
    "class Triple:\n",
    "    def __init__(self, num1, num2, num3):\n",
    "        self.nums = num1, num2, num3"
   ]
  },
  {
   "cell_type": "code",
   "execution_count": null,
   "metadata": {},
   "outputs": [],
   "source": [
    "Triple(1, 2, 3)"
   ]
  },
  {
   "cell_type": "code",
   "execution_count": null,
   "metadata": {},
   "outputs": [],
   "source": [
    "range(1, 5)"
   ]
  },
  {
   "cell_type": "markdown",
   "metadata": {},
   "source": [
    "Die String-Darstellung unserer Klasse ist nicht wirklich informativ. Wir können dies beheben, indem wir `__repr__` implementieren."
   ]
  },
  {
   "cell_type": "code",
   "execution_count": null,
   "metadata": {},
   "outputs": [],
   "source": [
    "class Triple:\n",
    "    def __init__(self, num1, num2, num3):\n",
    "        self.nums = num1, num2, num3\n",
    "        \n",
    "    def __repr__(self):\n",
    "        \"\"\"A string representation for inspecting objects at runtime.\"\"\"\n",
    "        return f\"Triple({self.nums[0]}, {self.nums[1]}, {self.nums[2]})\"\n",
    "    \n",
    "Triple(1, 2, 3)"
   ]
  },
  {
   "cell_type": "markdown",
   "metadata": {},
   "source": [
    "Um die Addition zwischen `Triple`s zu ermöglichen, müssen wir `__add__` implementieren. Wir definieren die Addition `Triple`s genauso wie die elementweise Addition der drei Zahlen.  "
   ]
  },
  {
   "cell_type": "code",
   "execution_count": null,
   "metadata": {},
   "outputs": [],
   "source": [
    "class Triple:\n",
    "    def __init__(self, num1, num2, num3):\n",
    "        self.nums = num1, num2, num3\n",
    "        \n",
    "    def __repr__(self):\n",
    "        \"\"\"A string representation for inspecting objects at runtime.\"\"\"\n",
    "        return f\"Triple({self.nums[0]}, {self.nums[1]}, {self.nums[2]})\"\n",
    "    \n",
    "    def __add__(self, other):\n",
    "        num1 = self.nums[0] + other.nums[0]\n",
    "        num2 = self.nums[1] + other.nums[1]\n",
    "        num3 = self.nums[2] + other.nums[2]\n",
    "        return Triple(num1, num2, num3)\n",
    "        \n",
    "    \n",
    "a = Triple(1, 2, 3)\n",
    "b = Triple(2, 3, 4)"
   ]
  },
  {
   "cell_type": "markdown",
   "metadata": {},
   "source": [
    "Da wir `__add__` implementiert haben, können wir Tripel mit dem Plus-Operator addieren. Die folgenden drei Ausdrücke sind alle gleich! Der erste ist der schnelle Weg, der intern auf den zweiten abbildet, der wiederum intern auf den dritten abbildet!"
   ]
  },
  {
   "cell_type": "code",
   "execution_count": null,
   "metadata": {},
   "outputs": [],
   "source": [
    "print(a + b)\n",
    "print(a.__add__(b))\n",
    "print(Triple.__add__(a, b))"
   ]
  },
  {
   "cell_type": "code",
   "execution_count": null,
   "metadata": {},
   "outputs": [],
   "source": [
    "class Triple:\n",
    "    def __init__(self, num1, num2, num3):\n",
    "        self.nums = num1, num2, num3\n",
    "        \n",
    "    def __repr__(self):\n",
    "        \"\"\"A string representation for inspecting objects at runtime.\"\"\"\n",
    "        return f\"Triple({self.nums[0]}, {self.nums[1]}, {self.nums[2]})\"\n",
    "    \n",
    "    def __add__(self, other):\n",
    "        if isinstance(other, Triple):\n",
    "            num1 = self.nums[0] + other.nums[0]\n",
    "            num2 = self.nums[1] + other.nums[1]\n",
    "            num3 = self.nums[2] + other.nums[2]\n",
    "            return Triple(num1, num2, num3)\n",
    "        elif isinstance(other, int):\n",
    "            return Triple(self.nums[0] + other, self.nums[1] + other, self.nums[2] + other)\n",
    "        else:\n",
    "            return NotImplementedError\n",
    "        \n",
    "    \n",
    "a = Triple(1, 2, 3)\n",
    "b = Triple(2, 3, 4)"
   ]
  },
  {
   "cell_type": "code",
   "execution_count": null,
   "metadata": {},
   "outputs": [],
   "source": [
    "a + 1"
   ]
  },
  {
   "cell_type": "markdown",
   "metadata": {},
   "source": [
    "Nun wäre es schön, die Addition zwischen Tripel und skalaren Zahlen zu ermöglichen, indem man den Skalar einfach elementweise zu allen drei Tripelwerten addiert. Aber der Ausdruck"
   ]
  },
  {
   "cell_type": "code",
   "execution_count": null,
   "metadata": {},
   "outputs": [],
   "source": [
    "1 + Triple(1, 2, 3)"
   ]
  },
  {
   "cell_type": "markdown",
   "metadata": {},
   "source": [
    "... wird interpretiert als ..."
   ]
  },
  {
   "cell_type": "code",
   "execution_count": null,
   "metadata": {},
   "outputs": [],
   "source": [
    "int.__add__(1, Triple(1, 2, 3))"
   ]
  },
  {
   "cell_type": "markdown",
   "metadata": {},
   "source": [
    "... der den speziellen Wert `NotImplemented` zurückgibt. Wenn eine Binäroperation beim Aufruf auf dem ersten Operanden nicht funktioniert, versucht Python, die Reihenfolge der Operanden umzukehren, indem es `__radd__` auf dem anderen aufruft. Wenn auch dies nicht funktioniert, wird ein `TypeError` ausgelöst. Durch die Implementierung von `__radd__` können wir die skalare Addition zum Laufen bringen, ohne den Behaivor der `int`s zu ändern."
   ]
  },
  {
   "cell_type": "code",
   "execution_count": null,
   "metadata": {},
   "outputs": [],
   "source": [
    "class Triple:\n",
    "    def __init__(self, num1, num2, num3):\n",
    "        self.nums = num1, num2, num3\n",
    "        \n",
    "    def __repr__(self):\n",
    "        \"\"\"A string representation for inspecting objects at runtime.\"\"\"\n",
    "        return f\"Triple({self.nums[0]}, {self.nums[1]}, {self.nums[2]})\"\n",
    "    \n",
    "    def __add__(self, other):\n",
    "        if isinstance(other, Triple):\n",
    "            num1 = self.nums[0] + other.nums[0]\n",
    "            num2 = self.nums[1] + other.nums[1]\n",
    "            num3 = self.nums[2] + other.nums[2]\n",
    "            return Triple(num1, num2, num3)\n",
    "        elif isinstance(other, int):\n",
    "            return Triple(self.nums[0] + other, self.nums[1] + other, self.nums[2] + other)\n",
    "        else:\n",
    "            return NotImplementedError\n",
    "    \n",
    "    def __radd__(self, other):\n",
    "        num1 = self.nums[0] + other\n",
    "        num2 = self.nums[1] + other\n",
    "        num3 = self.nums[2] + other\n",
    "        return Triple(num1, num2, num3)\n",
    "    \n",
    "    def __contains__(self, value):\n",
    "        return value in self.nums"
   ]
  },
  {
   "cell_type": "code",
   "execution_count": null,
   "metadata": {},
   "outputs": [],
   "source": [
    "1 + Triple(1, 2, 3)"
   ]
  },
  {
   "cell_type": "code",
   "execution_count": null,
   "metadata": {},
   "outputs": [],
   "source": [
    "Triple(1, 5, 7) + 2"
   ]
  },
  {
   "cell_type": "code",
   "execution_count": null,
   "metadata": {},
   "outputs": [],
   "source": [
    "4 in Triple(1, 2, 3)"
   ]
  },
  {
   "cell_type": "markdown",
   "metadata": {},
   "source": [
    "2 in Triple(1, 2, 3) "
   ]
  },
  {
   "cell_type": "markdown",
   "metadata": {},
   "source": [
    "Sie können mehr über das Datenmodell von Python unter https://docs.python.org/3/reference/datamodel.html lesen."
   ]
  },
  {
   "cell_type": "markdown",
   "metadata": {},
   "source": [
    "**Wiederholen Sie für sich selber das gehörte\"**\n",
    "\n",
    "Bearbeiten Sie inbesondere die folgende **Übung** und schreiben Sie die Antwort am Ende der Bearbeitungszeit in den Chat: \n",
    "\n",
    "Machen Sie den \"in\"-Operator auf unsere Tripel anwendbar. Dazu müssen wir `__contains__` implementieren. Die Anweisung \n",
    "\n",
    "```python \n",
    "3 in Tripel(1, 2, 3)\n",
    "```\n",
    "\n",
    "sollte nach der Definition von `__contains__` zu `True` werden."
   ]
  },
  {
   "cell_type": "markdown",
   "metadata": {},
   "source": [
    "### Wahrheitswertprüfung\n",
    "\n",
    "Jedes Objekt kann auf Wahrheitswert getestet werden, zur Verwendung in einer `if`- oder `while`-Bedingung oder als Operand der booleschen Operationen. Die folgenden Objekte werden als falsch angesehen:\n",
    "* `None`\n",
    "* `False`\n",
    "* Nullen von numerischen Typen (`0`, `0.0`)\n",
    "* Leere Sequenzen und Sammlungen: `''`, `()`, `[]`, `{}`, `set()`\n",
    "* Objekte von benutzerdefinierten Klassen, die bei `len(obj)` 0 zurückgeben\n",
    "\n",
    "> **object.__bool__(self)** <br>\n",
    ">  Called to implement truth value testing and the built-in operation bool(); should return False or True. When this method is not defined, __len__() is called, if it is defined, and the object is considered true if its result is nonzero. If a class defines neither __len__() nor __bool__(), all its instances are considered true.\n",
    "\n",
    "[Dokumentation](https://docs.python.org/3/reference/datamodel.html#object.__bool__)"
   ]
  },
  {
   "cell_type": "code",
   "execution_count": null,
   "metadata": {},
   "outputs": [],
   "source": [
    "def find_truthyness(var):\n",
    "    try:\n",
    "        return var.__bool__()\n",
    "    except AttributeError:\n",
    "        try:\n",
    "            return var.__len__() != 0\n",
    "        except AttributeError:\n",
    "            return True"
   ]
  },
  {
   "cell_type": "code",
   "execution_count": null,
   "metadata": {},
   "outputs": [],
   "source": [
    "print(find_truthyness(\"\"))\n",
    "print(find_truthyness(\"asdf\"), '\\n')\n",
    "\n",
    "print(find_truthyness([]))\n",
    "print(find_truthyness([1, 2]), '\\n')\n",
    "\n",
    "print(find_truthyness(0))  #int.__bool__(0)\n",
    "print(find_truthyness(1))  #int.__bool__(1)"
   ]
  },
  {
   "cell_type": "markdown",
   "metadata": {},
   "source": [
    "Weitere Informationen hier: https://docs.python.org/3/reference/datamodel.html#special-method-names"
   ]
  },
  {
   "cell_type": "markdown",
   "metadata": {},
   "source": [
    "## Properties\n",
    "\n",
    "Andere Sprachen definieren oft *getter* und *setter*, um den Zugriff auf Objektattribute zu beschränken. In Python können wir Getter- und Setter-Logik mit `Properties` hinzufügen."
   ]
  },
  {
   "cell_type": "code",
   "execution_count": null,
   "metadata": {},
   "outputs": [],
   "source": [
    "class Triple:\n",
    "    def __init__(self, num1, num2, num3):\n",
    "        self._nums = num1, num2, num3\n",
    "        \n",
    "    def __repr__(self):\n",
    "        \"\"\"A string representation for inspecting objects at runtime.\"\"\"\n",
    "        return f\"Triple({self.nums[0]}, {self.nums[1]}, {self.nums[2]})\"\n",
    "    \n",
    "a = Triple(1, 2, 3)"
   ]
  },
  {
   "cell_type": "code",
   "execution_count": null,
   "metadata": {},
   "outputs": [],
   "source": [
    "class Triple():\n",
    "    def __init__(self, num1, num2, num3):\n",
    "        self._nums = num1, num2, num3\n",
    "      \n",
    "    @property\n",
    "    def nums(self):\n",
    "        return self._nums\n",
    "\n",
    "    \n",
    "a = Triple(1, 2, 3)\n",
    "a.nums"
   ]
  },
  {
   "cell_type": "markdown",
   "metadata": {},
   "source": [
    "Standardmäßig können wir Attribute, die über Eigenschaften deklariert sind, nicht zuweisen."
   ]
  },
  {
   "cell_type": "code",
   "execution_count": null,
   "metadata": {},
   "outputs": [],
   "source": [
    "a.nums = 10, 11, 12"
   ]
  },
  {
   "cell_type": "markdown",
   "metadata": {},
   "source": [
    "Aber wir können einen Setter mit einem anderen Dekorator hinzufügen. Dies ist nützlich für die Einbeziehung von Validierungslogik."
   ]
  },
  {
   "cell_type": "code",
   "execution_count": null,
   "metadata": {},
   "outputs": [],
   "source": [
    "class Triple():\n",
    "    def __init__(self, num1, num2, num3):\n",
    "        self._nums = num1, num2, num3\n",
    "      \n",
    "    @property\n",
    "    def nums(self):\n",
    "        return self._nums\n",
    "    \n",
    "    @nums.setter\n",
    "    def nums(self, value):\n",
    "        if len(value) == 3:\n",
    "            self._nums = value\n",
    "        else:\n",
    "            raise ValueError(\"Three values are required to set the data.\")\n",
    "    \n",
    "a = Triple(1, 2, 3)\n",
    "a.nums = (4, 5, 6)\n",
    "a.nums"
   ]
  },
  {
   "cell_type": "markdown",
   "metadata": {},
   "source": [
    "Mit `properties` können wir Getter- und Setter-Logik hinzufügen, ohne dass diese in den Schnittstellen unserer Objekte auftauchen. Das bedeutet auch, dass Sie Ihre Klassen zunächst mit einfachen Attributen schreiben und später bei Bedarf Getter und Setter hinzufügen können."
   ]
  },
  {
   "cell_type": "code",
   "execution_count": null,
   "metadata": {},
   "outputs": [],
   "source": [
    "lst = [1, 2, 3, 4, 5]\n",
    "\n",
    "def even_odd(num):\n",
    "    return \"even\" if num % 2 == 0 else \"odd\"\n",
    "\n",
    "dct = {}\n",
    "for elem in lst:\n",
    "    try:\n",
    "       dct[even_odd(elem)].append(elem) \n",
    "    except KeyError:\n",
    "        dct[even_odd(elem)] = [elem]\n",
    "        \n",
    "print(dct)"
   ]
  },
  {
   "cell_type": "code",
   "execution_count": null,
   "metadata": {},
   "outputs": [],
   "source": [
    "class Animal:\n",
    "    def is_living():\n",
    "        return True\n",
    "    \n",
    "class LandAnimal(Animal):\n",
    "    \n",
    "    def __init__(self):\n",
    "        self.has_legs = True\n",
    "        \n",
    "    def walk(self):\n",
    "        return \"tap tap\"\n",
    "    \n",
    "class WaterAnimal(Animal):\n",
    "    def __init__(self):\n",
    "        self.has_legs = False\n",
    "    \n",
    "    def swim(self):\n",
    "        return \"splash\""
   ]
  },
  {
   "cell_type": "markdown",
   "metadata": {},
   "source": [
    "## Factory-Methoden\n",
    "\n",
    "Manchmal möchten wir unsere Objekte auf unterschiedliche Weise initialisieren können. Ein klassisches Muster der objektorientierten Programmierung ist die `Factory`. Eine `Factory` hat nur den Zweck, andere Objekte zu initialisieren. In Python brauchen wir dieses Muster nicht wirklich, sondern wir können stattdessen *Factory-Methoden* verwenden, um unser Objekt auf unterschiedliche Weise zu initialisieren. Dazu können wir Klassenmethoden, die die Klasse statt der Instanz als erstes Argument nehmen."
   ]
  },
  {
   "cell_type": "code",
   "execution_count": null,
   "metadata": {},
   "outputs": [],
   "source": [
    "class Triple():\n",
    "    def __init__(self, num1, num2, num3):\n",
    "        self._nums = num1, num2, num3\n",
    "    \n",
    "    def __repr__(self):\n",
    "        \"\"\"A string representation for inspecting objects at runtime.\"\"\"\n",
    "        return f\"Triple({self.nums[0]}, {self.nums[1]}, {self.nums[2]})\"\n",
    "    \n",
    "    @property\n",
    "    def nums(self):\n",
    "        return self._nums\n",
    "    \n",
    "    @classmethod\n",
    "    def from_value(cls, num):\n",
    "        return cls(num, num, num)\n",
    "\n",
    "Triple.from_value(3)"
   ]
  },
  {
   "cell_type": "markdown",
   "metadata": {},
   "source": [
    "## Decorators\n",
    "\n",
    "Decorators sind Funktionen, die die Funktionalität anderer Funktionen oder Klassen verändern. Dies sollte in der Regel auf transparente Weise geschehen, d.h. die Schnittstelle der ursprünglichen Funktion bleibt gleich, während die Funktionalität um sie herum hinzugefügt wird."
   ]
  },
  {
   "cell_type": "code",
   "execution_count": null,
   "metadata": {},
   "outputs": [],
   "source": [
    "def substract(x, y):\n",
    "    return x - y\n",
    "\n",
    "def decorated_substract(*args, **kwargs):\n",
    "    print('~~~ result of', substract.__name__, '~~~')\n",
    "    result = substract(*args, **kwargs)              \n",
    "    print(result)                               \n",
    "    print('~~~~~~~~~~~~~~~~~~~~~~~~~~~')        \n",
    "    return result    \n",
    "    \n",
    "decorated_substract(5, 2);"
   ]
  },
  {
   "cell_type": "markdown",
   "metadata": {},
   "source": [
    "Dies erzeugt jedoch nur eine neue Funktion, die ein geändertes Verhalten der Substract-Funktion enthält. Was ist, wenn wir das Verhalten beliebiger Funktionen ändern wollen?"
   ]
  },
  {
   "cell_type": "code",
   "execution_count": null,
   "metadata": {},
   "outputs": [],
   "source": [
    "def substract(x, y):\n",
    "    return x - y\n",
    "\n",
    "def add(x, y):\n",
    "    return x + y\n",
    "\n",
    "def decorated(func, *args, **kwargs):\n",
    "    result = func(*args, **kwargs)              \n",
    "    print('~~~ result of', func.__name__, '~~~')\n",
    "    print(result)                               \n",
    "    print('~~~~~~~~~~~~~~~~~~~~~~~~~~~')        \n",
    "    return result    \n",
    "    \n",
    "decorated(add, 5, 2)"
   ]
  },
  {
   "cell_type": "code",
   "execution_count": null,
   "metadata": {},
   "outputs": [],
   "source": [
    "decorated(substract, 5, 2)"
   ]
  },
  {
   "cell_type": "markdown",
   "metadata": {},
   "source": [
    "Damit sind wir noch nicht einverstanden, denn wir wollen das Verhalten von `add` selbst ändern!"
   ]
  },
  {
   "cell_type": "code",
   "execution_count": null,
   "metadata": {},
   "outputs": [],
   "source": [
    "def print_decorator(func):                           # func is the method which will be decorated by this\n",
    "        \n",
    "    print(\"This occurs when we re-define the function\")\n",
    "    \n",
    "    #if we define function = decorated(function), the new function will be this:\n",
    "    \n",
    "    def inner(*args, **kwargs):                      # we define a new function here, taking any parameters...\n",
    "        result = func(*args, **kwargs)               # which, when called, executes the original function with these parameters...\n",
    "        print('~~~ result of', func.__name__, '~~~') # prints name of original funciton...\n",
    "        print(result)                                # prints the result of the function...\n",
    "        print('~~~~~~~~~~~~~~~~~~~~~~~~~~~')         # some lines...\n",
    "        return result                                # and returns that result of that function \n",
    "    \n",
    "    return inner   # the new function is this inner function!"
   ]
  },
  {
   "cell_type": "code",
   "execution_count": null,
   "metadata": {},
   "outputs": [],
   "source": [
    "decorated_add = print_decorator(add)"
   ]
  },
  {
   "cell_type": "code",
   "execution_count": null,
   "metadata": {},
   "outputs": [],
   "source": [
    "decorated_add(3, 5)"
   ]
  },
  {
   "cell_type": "code",
   "execution_count": null,
   "metadata": {},
   "outputs": [],
   "source": [
    "add = print_decorator(add)\n",
    "add(3,5)"
   ]
  },
  {
   "cell_type": "markdown",
   "metadata": {},
   "source": [
    "Python bietet eine Syntax für die Zuweisung `function = decorated(function)`. Dies ist jedoch nur *syntactic sugar* für den direkten Aufruf des Dekorators. "
   ]
  },
  {
   "cell_type": "code",
   "execution_count": null,
   "metadata": {},
   "outputs": [],
   "source": [
    "@print_decorator #multiply = print_decorator(multiply)  \n",
    "def multiply(x, y):\n",
    "    return x * y\n",
    "\n",
    "multiply(3, 5)\n",
    "multiply(4, 5)"
   ]
  },
  {
   "cell_type": "markdown",
   "metadata": {},
   "source": [
    "Ein weiteres Beispiel:"
   ]
  },
  {
   "cell_type": "code",
   "execution_count": null,
   "metadata": {},
   "outputs": [],
   "source": [
    "def bold(fn):\n",
    "    \"\"\"wraps the result of a function such that it's bold\"\"\"\n",
    "    def wrapped():\n",
    "        return f\"<b>{fn()}</b>\"\n",
    "    return wrapped\n",
    "\n",
    "\n",
    "@bold #hello = bold(hello)\n",
    "def hello():\n",
    "    \"\"\"prints 'hello world'\"\"\"\n",
    "    return \"hello world\"\n",
    "\n",
    "hello()"
   ]
  },
  {
   "cell_type": "code",
   "execution_count": null,
   "metadata": {},
   "outputs": [],
   "source": [
    "from IPython.display import HTML\n",
    "HTML(hello())"
   ]
  },
  {
   "cell_type": "markdown",
   "metadata": {},
   "source": [
    "Wir können sogar Decorators verketten!"
   ]
  },
  {
   "cell_type": "code",
   "execution_count": null,
   "metadata": {},
   "outputs": [],
   "source": [
    "def bold(fn):\n",
    "    \"\"\"wraps the result of a function such that it's bold\"\"\"\n",
    "    def wrapped():\n",
    "        return f\"<b>{fn()}</b>\"\n",
    "    return wrapped\n",
    "\n",
    "def italic(fn):\n",
    "    \"\"\"wraps the result of a function such that it's italics\"\"\"\n",
    "    def wrapped():\n",
    "        return f\"<i>{fn()}</i>\"\n",
    "    return wrapped\n",
    "\n",
    "@bold #hello = bold(hello)\n",
    "@italic #hello = italic(bold(hello))\n",
    "def hello():\n",
    "    \"\"\"prints 'hello world'\"\"\"\n",
    "    return \"hello world\"\n",
    "\n",
    "hello()"
   ]
  },
  {
   "cell_type": "code",
   "execution_count": null,
   "metadata": {},
   "outputs": [],
   "source": [
    "hello?"
   ]
  },
  {
   "cell_type": "markdown",
   "metadata": {},
   "source": [
    "Das war's dann auch schon fast mit dem Grundwissen über Dekoratoren! Es gibt nur noch eine wichtige Sache: Wenn wir die ursprüngliche Funktion durch die dekorierte Version ersetzen, verlieren wir alle Informationen der ursprünglichen Funktion, wie ihren Docstring, Informationen über Argumente, usw. Um das zu kompensieren, verwenden wir *einen weiteren Dekorator*, nämlich `functools.wraps`. Dieser kopiert einfach den Docstring der Originalfunktion in die neue Funktion."
   ]
  },
  {
   "cell_type": "code",
   "execution_count": null,
   "metadata": {},
   "outputs": [],
   "source": [
    "from functools import wraps\n",
    "from IPython.display import HTML\n",
    "\n",
    "def html(fn):\n",
    "    @wraps(fn)\n",
    "    def wrapped():\n",
    "        return HTML(fn())\n",
    "    return wrapped\n",
    "\n",
    "\n",
    "def bold(fn):\n",
    "    @wraps(fn)\n",
    "    def wrapped():\n",
    "        return f\"<b>{fn()}</b>\"\n",
    "    return wrapped\n",
    "\n",
    "def italic(fn):\n",
    "    @wraps(fn)\n",
    "    def wrapped():\n",
    "        return f\"<i>{fn()}</i>\"\n",
    "    return wrapped\n",
    "\n",
    "@html\n",
    "@bold\n",
    "@italic\n",
    "def hello():\n",
    "    \"\"\"prints 'hello world'\"\"\"\n",
    "    return \"hello world\"\n",
    "\n",
    "hello()"
   ]
  },
  {
   "cell_type": "code",
   "execution_count": null,
   "metadata": {},
   "outputs": [],
   "source": [
    "hello?"
   ]
  },
  {
   "cell_type": "markdown",
   "metadata": {},
   "source": [
    "**Wiederholen Sie für sich das Konzept der Decorator!**\n",
    "\n",
    "Bearbeiten Sie inbesondere die folgende **Übung** und schreiben Sie die Antwort am Ende der Bearbeitungszeit in den Chat: \n",
    "\n",
    "Definieren und wenden Sie einen Dekorator an, der eine Zeichenkette rot erscheinen lässt. Sie können dies erreichen, indem Sie die Zeichenkette in `<span style='color: red'> str </span>` wrappen."
   ]
  },
  {
   "cell_type": "markdown",
   "metadata": {},
   "source": [
    "## Module\n",
    "### Funktionen aus Modulen importieren\n",
    "\n",
    "Die beruhigende Nachricht ist: viele Probleme wurden schon gelöst. Für häufige Aufgaben, wie bspw. das Sortieren von Listen, existieren sogar hochoptimierte und getestete Lösungen, die wir tunlichst verwenden sollten, anstatt unsere eigene zu schreiben!\n",
    "\n",
    "Abgesehen von einigen grundlegenden Datentypen und Funktionen wie `print` oder `len` sind diese Funktionen nicht in der Python Standard Library enthalten sondern in **Modulen** ausgelagert. Mit der folgenden Syntax können wir ein Modul **importieren**, um auf die enthaltenen Funktionen zugreifen zu können:\n",
    "\n",
    "```python\n",
    "import module\n",
    "module.function_name()\n",
    "```\n",
    "\n",
    "Häufig verwendeten Modulen können wir einen abgekürzten Namen geben:\n",
    "\n",
    "```python\n",
    "import module as m\n",
    "m.function_name()\n",
    "```\n",
    "\n",
    "Wir können auch nur einzelne Funktionen eines Moduls importieren:\n",
    "\n",
    "```python\n",
    "from module import function_name\n",
    "function_name()\n",
    "```"
   ]
  },
  {
   "cell_type": "markdown",
   "metadata": {},
   "source": [
    "Anstatt die Funktion `factorial` aus der obigen Aufgabe selbst zu schreiben, können wir nun einfach die gleichnamige Funktion aus dem Modul `math` verwenden:"
   ]
  },
  {
   "cell_type": "markdown",
   "metadata": {},
   "source": [
    "> Es gibt natürlich nicht nur Module für die wissenschaftliche Anwendung. Python wird höchst vielseitig eingesetzt, sodass du bspw. auch\n",
    "> - einen [Webservice programmieren](http://www.djangoproject.com) oder\n",
    "> - ein [Spiel entwickeln](http://www.pygame.org) kannst!"
   ]
  },
  {
   "cell_type": "markdown",
   "metadata": {},
   "source": [
    "Nun kannst du vollständige Programme schreiben und Funktionen aus Modulen verwenden. Erinnere dich daran - du musst nicht alles selbst schreiben! Baue lieber auf der Vorarbeit von schlauen Entwicklern auf der ganzen Welt auf, die schon hochoptimierte und getestete Lösungen für viele Probleme geschrieben haben. [giyf](http://www.google.de).\n",
    "\n",
    "In den nächsten drei Lektionen lernen wir die Grundlagen jeweils eines Moduls, das in der wissenschaftlichen Programmierung mit Python allgegenwärtig ist und beginnen mit dem Numerik-Modul _Numpy_."
   ]
  },
  {
   "cell_type": "markdown",
   "metadata": {},
   "source": [
    "**Recherchieren Sie jetzt selber nach interessanten [Modulen](https://docs.python.org/3/py-modindex.html) und Bibliotheken, die Ihnen die Programmierung in Python erleichtern könnten! Es gibt sehr viel und so gut wie alles ist in Pythin einfach installierbar, importierbar und nutzbar. Anschließend können Sie direkt in das Übungsblatt einsteigen.**\n",
    "\n",
    "Hier ist das Übungsblatt zu diesem Notebook: [**03 - Übungsaufgaben Objektorientierung und Sonstiges**](03_uebungsaufgaben_objektorientierung_sonstiges.ipynb)"
   ]
  },
  {
   "cell_type": "markdown",
   "metadata": {},
   "source": [
    "---\n",
    "\n",
    "Wahlpflichtfach Künstliche Intelligenz I: Praktikum"
   ]
  }
 ],
 "metadata": {
  "kernelspec": {
   "display_name": "ai-lecture",
   "language": "python",
   "name": "python3"
  },
  "language_info": {
   "codemirror_mode": {
    "name": "ipython",
    "version": 3
   },
   "file_extension": ".py",
   "mimetype": "text/x-python",
   "name": "python",
   "nbconvert_exporter": "python",
   "pygments_lexer": "ipython3",
   "version": "3.12.11"
  }
 },
 "nbformat": 4,
 "nbformat_minor": 4
}

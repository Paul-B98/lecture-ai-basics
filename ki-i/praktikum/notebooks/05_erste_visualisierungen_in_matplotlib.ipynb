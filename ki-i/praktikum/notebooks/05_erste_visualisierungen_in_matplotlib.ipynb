{
 "cells": [
  {
   "cell_type": "markdown",
   "metadata": {},
   "source": [
    "Wahlpflichtach Künstliche Intelligenz I: Praktikum\n",
    "\n",
    "---"
   ]
  },
  {
   "cell_type": "markdown",
   "metadata": {},
   "source": [
    "# 05 - Erste Visualisierungen in Matplotlib"
   ]
  },
  {
   "cell_type": "markdown",
   "metadata": {},
   "source": [
    "- [Anatomie-eines-\"Plots\"](#Anatomie-eines-\"Plots\")\n",
    "- [Grundlegendes Plotten](#Grundlegendes-Plotten)\n",
    "- [Plotten von Funktionen](#Plotten-von-Funktionen)\n",
    "- [Eingangsdaten: 2D-Arrays oder Bilder](#Eingangsdaten:-2D-Arrays-oder-Bilder)\n",
    "- [Visualisierung statistischer Verteilungen](#Visualisierung-statistischer-Verteilungen)\n",
    "- [Plots mit Anmerkungen versehen](#Plots-mit-Anmerkungen-versehen)\n",
    "- [Wie man \"Matplotlib\" spricht](#Wie-man-\"Matplotlib\"-spricht)\n",
    "- [Begrenzungen, Legenden und Layouts](#Begrenzungen,-Legenden-und-Layouts)\n",
    "- [Plots speichern](#Plots-speichern)"
   ]
  },
  {
   "cell_type": "markdown",
   "metadata": {},
   "source": [
    "Wir können mit Numpy nun numerisch Daten auswerten, und um diese zu visualisieren können wir mit dem **Matplotlib** Modul Plots von wissenschaftlicher Qualität erstellen.\n",
    "\n",
    "### Online-Dokumentation\n",
    "Die Projekt-Website [matplotlib.org](http://matplotlib.org) ist die wichtigste Online-Ressource für die Dokumentation der Bibliothek. Sie enthält [Beispiele](http://matplotlib.org/examples/index.html), [FAQs](http://matplotlib.org/faq/index.html), [API-Dokumentation](http://matplotlib.org/api/index.html), und, am wichtigsten, die [Galerie](http://matplotlib.org/gallery.html).\n",
    "\n",
    "### Galerie\n",
    "Viele Benutzer von Matplotlib werden oft mit der Frage konfrontiert: \"Ich möchte eine Figur machen, die X mit Y in der gleichen Figur hat, aber sie muss wie Z aussehen\". Viel Glück, wenn Sie mit dieser Frage eine Antwort über eine Websuche erhalten! Aus diesem Grund ist die [gallery](http://matplotlib.org/gallery.html) so nützlich, denn sie zeigt die Vielfalt der Möglichkeiten, wie man Figuren herstellen kann. Blättern Sie durch die Galerie, klicken Sie auf eine beliebige Figur, die Teile von dem enthält, was Sie sehen wollen, und den Code, der sie erzeugt hat. Schon bald werden Sie wie ein Chefkoch sein, der Komponenten mischt und zusammenfügt, um Ihr Meisterwerk herzustellen!\n",
    "\n",
    "Wie immer, wenn Sie ein neues und interessantes Diagramm haben, das eine Funktion von Matplotlib demonstriert, zögern Sie nicht, eine prägnante, gut kommentierte Version des Codes zur Aufnahme in die Galerie einzureichen."
   ]
  },
  {
   "cell_type": "code",
   "execution_count": null,
   "metadata": {},
   "outputs": [],
   "source": [
    "from IPython.display import IFrame\n",
    "\n",
    "IFrame(\n",
    "    \"https://matplotlib.org/gallery.html#lines_bars_and_markers\",\n",
    "    width=\"100%\",\n",
    "    height=500,\n",
    ")"
   ]
  },
  {
   "cell_type": "markdown",
   "metadata": {},
   "source": [
    "### Kurzer Hinweis zu \"Backends\" und Jupyter-Notebooks\n",
    "Matplotlib hat mehrere Backends. Die Backends erlauben es, Matlpotlib auf einer Vielzahl von Plattformen mit einer Vielzahl von GUI-Toolkits (GTK, Qt, Wx, etc.) zu verwenden, die alle so geschrieben sind, dass es Ihnen die meiste Zeit egal sein wird, welches Backend Sie verwenden. "
   ]
  },
  {
   "cell_type": "code",
   "execution_count": null,
   "metadata": {},
   "outputs": [],
   "source": [
    "import matplotlib\n",
    "\n",
    "print(matplotlib.__version__)\n",
    "print(matplotlib.get_backend())"
   ]
  },
  {
   "cell_type": "markdown",
   "metadata": {},
   "source": [
    "Normalerweise müssten wir uns darüber nicht allzu viele Gedanken machen, aber IPython/Jupyter-Notebooks verhalten sich einen Hauch anders als \"normales\" Python. In JupyterLab-Notebooks wollen wir \n",
    "entweder das `inline`-Backend verwenden, um Zahlen statisch in das Notizbuch einzubetten oder das `widget`-Backend verwenden, um interaktive Zahlen zu erhalten. \n",
    "\n",
    "\n",
    "Wir können dies auf zwei Arten tun:\n",
    "\n",
    "1. Der IPython ``%matplotlib backend_name`` \"magic\" Befehl (oder ``plt.ion()``, der sich ähnlich verhält)\n",
    "   - Die Zahlen werden von IPython automatisch angezeigt, auch wenn Sie ``plt.show()`` nicht aufrufen.\n",
    "     \n",
    "2. ``matplotlib.use(\"backend_name\")``\n",
    "   - Die Zahlen werden nur angezeigt, wenn Sie ``plt.show()`` aufrufen.\n",
    "\n",
    "Hier werden wir die erste Methode verwenden, da die interaktive Inline-Anzeige in jupyter lab noch nicht funktioniert (im reinen Notebook funktioniert sie einwandfrei). Wir verwenden aber trotzdem `plt.show()`, um zu demonstrieren, wie der Code in einem einfachen Python-Skript aussehen würde.\n",
    "\n",
    "Mehr Informationen über Backends: https://matplotlib.org/3.2.1/tutorials/introductory/usage.html#backends\n",
    "\n",
    "Lassen Sie uns für den Moment das `inline`-Backend verwenden."
   ]
  },
  {
   "cell_type": "code",
   "execution_count": 3,
   "metadata": {},
   "outputs": [],
   "source": [
    "# Zeige Plots direkt im Jupyter Notebook an\n",
    "%matplotlib inline"
   ]
  },
  {
   "cell_type": "markdown",
   "metadata": {},
   "source": [
    "Per Konvention importieren wir das PyPlot Submodul von Matplotlib unter dem Namen `plt`:"
   ]
  },
  {
   "cell_type": "code",
   "execution_count": 4,
   "metadata": {},
   "outputs": [],
   "source": [
    "# Anschließend können wir das Modul importieren\n",
    "import matplotlib.pyplot as plt # Die Abkürzung `plt` ist Konvention\n",
    "# Numpy brauchen wir immer.\n",
    "import numpy as np"
   ]
  },
  {
   "cell_type": "markdown",
   "metadata": {},
   "source": [
    "> **Hinweis:** Matplotlib kann mit verschiedenen _Backends_ arbeiten um Plots zu speichern oder auch interaktiv anzuzeigen. Der Aufruf `%matplotlib inline` konfiguriert das Modul für die **statische Anzeige** von Plots im Jupyter Notebook und muss **vor** dem Import von PyPlot ausgeführt werden. Dabei können auch Anzeigeparameter gesetzt werden:\n",
    ">\n",
    "> ```python\n",
    "> %matplotlib inline\n",
    "> import matplotlib\n",
    "> # Setzte Anzeigeparameter, z.B.:\n",
    "> matplotlib.rcParams['figure.figsize'] = (10.0, 8.0)\n",
    "> import matplotlib.pyplot as plt\n",
    "> ```\n",
    ">\n",
    "> Folgender Aufruf konfiguriert das Jupyter Notebook alternativ für die Verwendung des **interaktiven Backends**:\n",
    ">\n",
    "> ```python\n",
    "> %matplotlib notebook\n",
    "> ```\n",
    ">\n",
    "> Versucht's mal!"
   ]
  },
  {
   "cell_type": "markdown",
   "metadata": {},
   "source": [
    "## Anatomie eines \"Plots\"\n",
    "\n",
    "Matplotlib ist ein großes Projekt und kann anfangs entmutigend wirken. Wenn Sie jedoch die Komponenten lernen, sollte es sich viel kleiner und zugänglicher anfühlen.\n",
    "\n",
    "Der Begriff \"Plot\" wird für viele verschiedene Dinge verwendet.  Hier werden wir eine einheitliche Terminologie verwenden (die sich in den Namen der zugrunde liegenden Klassen usw. widerspiegelt):\n",
    "\n",
    "Die ``Figur`` ist der oberste Container in dieser Hierarchie.  Es ist das übergeordnete Fenster/Seite, auf dem alles gezeichnet wird.  Sie können mehrere unabhängige Figuren haben und ``Figuren`` können mehrere ``Achsen`` enthalten. \n",
    "\n",
    "Die meisten Zeichenvorgänge finden auf einer ``Achse`` statt.  Die Achse ist der Bereich, auf dem die Daten geplottet werden und alle damit verbundenen Markierungen/Labels/etc.  Normalerweise werden wir eine Achse mit einem Aufruf von ``Subplot`` einrichten (der die Achsen auf ein reguläres Gitter setzt), daher sind ``Achsen`` und ``Subplot`` in den meisten Fällen synonym.\n",
    "\n",
    "Jede ``Axes`` hat eine ``XAxis`` und eine ``YAxis``.  Diese enthalten die Ticks, die Positionen der Ticks, die Beschriftungen, usw.  In diesem Tutorial werden wir hauptsächlich Ticks, Tick-Labels und Datengrenzen durch andere Mechanismen kontrollieren, daher werden wir den individuellen ``Achsen``-Teil der Dinge nicht so sehr anfassen.  Es ist jedoch erwähnenswert, hier zu erklären, woher der Begriff ``Achsen`` kommt."
   ]
  },
  {
   "cell_type": "code",
   "execution_count": 5,
   "metadata": {},
   "outputs": [],
   "source": []
  },
  {
   "cell_type": "code",
   "execution_count": null,
   "metadata": {},
   "outputs": [],
   "source": [
    "fig = plt.figure()"
   ]
  },
  {
   "cell_type": "markdown",
   "metadata": {},
   "source": [
    "Awww, es ist nichts passiert! Das liegt daran, dass matplotlib standardmäßig nichts anzeigt, bis es dazu aufgefordert wird.\n",
    "\n",
    "Stattdessen müssen wir ``plt.show()`` aufrufen."
   ]
  },
  {
   "cell_type": "code",
   "execution_count": 7,
   "metadata": {},
   "outputs": [],
   "source": [
    "plt.show()"
   ]
  },
  {
   "cell_type": "markdown",
   "metadata": {},
   "source": [
    "Immer noch nichts. Das liegt daran, dass das Notebook keine leeren Zahlen anzeigen will. In einem einfachen Python-Skript würden Sie hier tatsächlich eine leere Figur erhalten. Um die Figur tatsächlich im Notebook zu sehen, müssen wir einige Achsen hinzufügen..."
   ]
  },
  {
   "cell_type": "markdown",
   "metadata": {},
   "source": [
    "### Achsen\n",
    "\n",
    "Alle Diagramme werden in Bezug auf eine [`Axes`](http://matplotlib.org/api/axes_api.html#matplotlib.axes.Axes) erstellt. Eine *Achse* besteht aus [`Axis`](http://matplotlib.org/api/axis_api.html#matplotlib.axis.Axis) Objekten und vielen anderen Dingen. Ein *Axes*-Objekt muss zu einer *Figure* (und nur einer *Figure*) gehören. Die meisten Befehle, die Sie jemals erteilen werden, beziehen sich auf dieses *Axes*-Objekt.\n",
    "\n",
    "Typischerweise werden Sie eine *Figur* einrichten und dann eine *Achse* zu ihr hinzufügen. \n",
    "\n",
    "Sie können `fig.add_axes` verwenden, aber in den meisten Fällen werden Sie feststellen, dass das Hinzufügen eines Subplots Ihren Bedürfnissen perfekt entspricht. (Wiederum ist ein \"Subplot\" nur eine Achse in einem Gittersystem). "
   ]
  },
  {
   "cell_type": "code",
   "execution_count": null,
   "metadata": {},
   "outputs": [],
   "source": [
    "fig = plt.figure()\n",
    "ax = fig.add_subplot(111)\n",
    "plt.show()"
   ]
  },
  {
   "cell_type": "markdown",
   "metadata": {},
   "source": [
    "Sie können die Größe der Figur durch das Argument ``figsize`` steuern, das ein Tupel von ``(Breite, Höhe)`` in Zoll erwartet. \n",
    "\n",
    "Eine wirklich nützliche Hilfsfunktion ist [`figaspect`](http://matplotlib.org/api/figure_api.html?highlight=figaspect#matplotlib.figure.figaspect)"
   ]
  },
  {
   "cell_type": "code",
   "execution_count": null,
   "metadata": {},
   "outputs": [],
   "source": [
    "fig = plt.figure(figsize=(5, 10))  # Twice as high as wide.\n",
    "ax = fig.add_subplot(111)\n",
    "plt.show()"
   ]
  },
  {
   "cell_type": "markdown",
   "metadata": {},
   "source": [
    "Die Objekte von Matplotlib haben typischerweise viele \"explizite Setter\" -- in anderen Worten, Funktionen, die mit ``set_<irgendwas>`` beginnen und eine bestimmte Option steuern. \n",
    "\n",
    "Um dies zu demonstrieren (und als Beispiel für IPythons Tab-Completion), versuchen Sie, `ax.set_` in eine Code-Zelle einzutippen, und drücken Sie dann die `<Tab>`-Taste.  Sie werden eine lange Liste von \"Achsen\"-Methoden sehen, die mit \"set\" beginnen."
   ]
  },
  {
   "cell_type": "code",
   "execution_count": null,
   "metadata": {},
   "outputs": [],
   "source": [
    "fig = plt.figure()\n",
    "ax = fig.add_subplot(111)\n",
    "ax.set_xlim([0.5, 4.5])\n",
    "ax.set_ylim([-2, 8])\n",
    "ax.set_title(\"An Example Axes\")\n",
    "ax.set_ylabel(\"Y-Axis\")\n",
    "ax.set_xlabel(\"X-Axis\")\n",
    "plt.show()"
   ]
  },
  {
   "cell_type": "markdown",
   "metadata": {},
   "source": [
    "Es ist klar, dass dies schnell repetitiv werden kann.  Daher kann Matplotlibs `set`-Methode sehr praktisch sein.  Sie nimmt jedes kwarg, das Sie ihr übergeben und versucht, den entsprechenden \"Setter\" aufzurufen.  Zum Beispiel würde `ax.set(foo='bar')` `ax.set_foo('bar')` aufrufen.\n",
    "\n",
    "Beachten Sie, dass die `set`-Methode nicht nur für `Axes` gilt; sie gilt für mehr oder weniger alle Matplotlib-Objekte.\n",
    "\n",
    "Es gibt jedoch Fälle, in denen Sie Dinge wie `ax.set_xlabel('Some Label', size=25)` verwenden möchten, um andere Optionen für eine bestimmte Funktion zu steuern."
   ]
  },
  {
   "cell_type": "code",
   "execution_count": null,
   "metadata": {},
   "outputs": [],
   "source": [
    "fig = plt.figure()\n",
    "ax = fig.add_subplot(111)\n",
    "ax.set(\n",
    "    xlim=[0.5, 4.5], \n",
    "    ylim=[-2, 8], \n",
    "    title='An Example Axes',\n",
    "    ylabel='Y-Axis', \n",
    "    xlabel='X-Axis',\n",
    ")\n",
    "plt.show()"
   ]
  },
  {
   "cell_type": "markdown",
   "metadata": {},
   "source": [
    "## Grundlegendes Plotten\n",
    "\n",
    "Die meisten Plotvorgänge finden auf einer `Axes` statt.  Wenn Sie also etwas auf einer Achse plotten, dann werden Sie eine ihrer Methoden verwenden.\n",
    "\n",
    "Wir werden die verschiedenen Plot-Methoden im nächsten Abschnitt ausführlicher besprechen.  Für den Moment wollen wir uns auf zwei Methoden konzentrieren: `plot` und `scatter`.\n",
    "\n",
    "`plot` zeichnet Punkte mit Linien, die sie verbinden.  `scatter` zeichnet unverbundene Punkte, optional skaliert oder gefärbt durch zusätzliche Variablen.\n",
    "\n",
    "Als grundlegendes Beispiel:"
   ]
  },
  {
   "cell_type": "code",
   "execution_count": null,
   "metadata": {},
   "outputs": [],
   "source": [
    "fig = plt.figure()\n",
    "ax = fig.add_subplot(111)\n",
    "ax.plot([1, 2, 3, 4], [10, 20, 25, 35])\n",
    "plt.show()"
   ]
  },
  {
   "cell_type": "code",
   "execution_count": null,
   "metadata": {},
   "outputs": [],
   "source": [
    "fig = plt.figure()\n",
    "ax = fig.add_subplot(111)\n",
    "ax.scatter([1, 2, 3, 4], [10, 20, 25, 35])\n",
    "plt.show()"
   ]
  },
  {
   "cell_type": "markdown",
   "metadata": {},
   "source": [
    "Mehrere Aufrufe der Plot-Funktion führen zu mehreren Plots. Dies funktioniert mit vielen Funktionen in matplotlib (plot, scatter, bar, etc.) und weist den verschiedenen Aufrufen unterschiedliche Farben zu."
   ]
  },
  {
   "cell_type": "code",
   "execution_count": null,
   "metadata": {},
   "outputs": [],
   "source": [
    "fig = plt.figure()\n",
    "ax = fig.add_subplot(111)\n",
    "ax.plot([10, 20, 25, 35])\n",
    "ax.plot([65, 34, 12, -12])\n",
    "plt.show()"
   ]
  },
  {
   "cell_type": "markdown",
   "metadata": {},
   "source": [
    "### Axes-Methoden (objektorientierte Schnittstelle) vs. pyplot (Zustandsmaschinen-Schnittstelle)\n",
    "\n",
    "Interessanterweise existieren so gut wie alle Methoden eines `Axes`-Objekts als Funktion im `pyplot`-Modul (und umgekehrt). Wenn Sie zum Beispiel `plt.xlim(1, 10)` aufrufen, ruft `pyplot` `ax.set_xlim(1, 10)` auf, egal welche `Axes` gerade *aktuell* ist. Hier ist eine äquivalente Version des obigen Beispiels, die nur `pyplot` verwendet."
   ]
  },
  {
   "cell_type": "code",
   "execution_count": null,
   "metadata": {},
   "outputs": [],
   "source": [
    "plt.figure()\n",
    "plt.plot([10, 20, 25, 35])\n",
    "plt.show()"
   ]
  },
  {
   "cell_type": "markdown",
   "metadata": {},
   "source": [
    "Viel sauberer, und viel klarer! Also, warum werden die meisten dieser Beispiele nicht dem pyplot-Ansatz folgen? Weil [PEP20](http://www.python.org/dev/peps/pep-0020/) \"The Zen of Python\" sagt:\n",
    "\n",
    "\"Explicit is better than implicit\"\n",
    "\n",
    "Während sehr einfache Plots mit kurzen Skripten von der Prägnanz des impliziten pyplot-Ansatzes profitieren, werden Sie bei komplizierteren Plots oder bei der Arbeit innerhalb größerer Skripte das *Axes*- und/oder *Figure*-Objekt explizit übergeben wollen, um darauf zu operieren.\n",
    "\n",
    "Der Vorteil, die Achsen, mit denen wir arbeiten, in unserem Code klar festzuhalten, wird deutlicher, wenn wir anfangen, mehrere Achsen in einer Figur zu haben."
   ]
  },
  {
   "cell_type": "markdown",
   "metadata": {},
   "source": [
    "### Mehrere Achsen\n",
    "\n",
    "Wir haben bereits erwähnt, dass eine Figur mehr als eine `Achse` haben kann.  Wenn Sie möchten, dass Ihre Achsen auf einem regelmäßigen Rastersystem liegen, dann ist es am einfachsten, `plt.subplots(...)` zu verwenden, um eine Figur zu erstellen und die Achsen automatisch hinzuzufügen.\n",
    "\n",
    "Zum Beispiel:"
   ]
  },
  {
   "cell_type": "code",
   "execution_count": null,
   "metadata": {},
   "outputs": [],
   "source": [
    "fig, axes = plt.subplots(nrows=2, ncols=2)\n",
    "plt.show()"
   ]
  },
  {
   "cell_type": "markdown",
   "metadata": {},
   "source": [
    "`plt.subplots(...)` erstellt eine neue Figur und fügt ihr 4 Subplots hinzu.  Das zurückgegebene \"Achsen\"-Objekt ist ein 2D-Numpy-Objekt-Array.  Jedes Element in dem Array ist eine der Teilflächen.  Sie sind so angeordnet, wie Sie sie in der Abbildung sehen.  \n",
    "\n",
    "Wenn wir also mit einer dieser Achsen arbeiten wollen, können wir das Array \"axes\" indizieren und die Methoden dieses Elements verwenden.\n",
    "\n",
    "Zum Beispiel:"
   ]
  },
  {
   "cell_type": "code",
   "execution_count": null,
   "metadata": {},
   "outputs": [],
   "source": [
    "fig, axes = plt.subplots(nrows=2, ncols=2)\n",
    "axes[0, 0].set(title=\"Upper Left\")\n",
    "axes[0, 1].set(title=\"Upper Right\")\n",
    "axes[1, 0].set(title=\"Lower Left\")\n",
    "axes[1, 1].set(title=\"Lower Right\")\n",
    "\n",
    "# tight_layout makes sure titles and tick labels do not overlap.\n",
    "fig.tight_layout()\n",
    "\n",
    "plt.show()"
   ]
  },
  {
   "cell_type": "markdown",
   "metadata": {},
   "source": [
    "Eine wirklich nette Sache an `plt.subplots()` ist, dass es, wenn es ohne Argumente aufgerufen wird, eine neue Figur mit einem einzelnen Subplot erzeugt. \n",
    "\n",
    "Jedes Mal, wenn Sie etwas sehen wie\n",
    "\n",
    "```python\n",
    "fig = plt.figure()\n",
    "ax = fig.add_subplot(111)\n",
    "```\n",
    "\n",
    "können Sie es ersetzen durch:\n",
    "\n",
    "```python\n",
    "fig, ax = plt.subplots()\n",
    "```\n",
    "\n",
    "Wir werden diesen Ansatz für den Rest der Beispiele verwenden.  Es ist viel sauberer.  \n",
    "\n",
    "Beachten Sie jedoch, dass wir immer noch eine Abbildung erstellen und ihr Achsen hinzufügen.  Wenn wir anfangen, Plot-Layouts zu erstellen, die nicht durch \"subplots\" beschrieben werden können, werden wir wieder zuerst die Figur erstellen und ihr dann nach und nach Achsen hinzufügen.\n",
    "\n",
    "Apropos Titel: Sie können auch einen Obertitel für eine ganze Figur festlegen."
   ]
  },
  {
   "cell_type": "code",
   "execution_count": null,
   "metadata": {},
   "outputs": [],
   "source": [
    "fig, axes = plt.subplots(nrows=2, ncols=2)\n",
    "axes[0, 0].set(title=\"Upper Left\")\n",
    "axes[0, 1].set(title=\"Upper Right\")\n",
    "axes[1, 0].set(title=\"Lower Left\")\n",
    "axes[1, 1].set(title=\"Lower Right\")\n",
    "\n",
    "# tight_layout makes sure titles and tick labels do not overlap.\n",
    "fig.tight_layout()\n",
    "fig.suptitle(\"Four subplots\")\n",
    "\n",
    "plt.show()"
   ]
  },
  {
   "cell_type": "markdown",
   "metadata": {},
   "source": [
    "**Beschäftigen Sie sich jetzt erneut mit den Grundlagen von Matplotlib! Machen Sie sich insbesondere den Grundaufbau und die Anatomie von Plots bewusst.**"
   ]
  },
  {
   "cell_type": "markdown",
   "metadata": {},
   "source": [
    "## Plotten von Funktionen\n",
    "\n",
    "Wir haben viel über die Darstellung von Daten gesprochen, aber noch nicht über das eigentliche Plotten von Daten. Matplotlib hat eine Reihe von verschiedenen Plot-Funktionen - viel mehr, als wir hier behandeln werden, in der Tat. Es gibt eine vollständigere Liste in der pyplot-Dokumentation, und die Matplotlib-Galerie ist ein großartiger Ort, um Beispiele für all diese Funktionen zu bekommen.  \n",
    "\n",
    "Allerdings kann eine vollständige Liste und/oder die Galerie am Anfang etwas überwältigend sein. Stattdessen werden wir es kondensieren und Ihnen einen Blick auf einige derjenigen geben, die Sie am wahrscheinlichsten benutzen werden, und dann eine Untermenge davon im Detail durchgehen.\n",
    "\n",
    "Hier ist ein vereinfachter visueller Überblick über die am häufigsten verwendeten Plot-Typen von matplotlib.  Schauen wir uns diese an, und dann gehen wir auf einige davon näher ein. Wenn Sie auf eines dieser Bilder klicken, gelangen Sie zu dem Code, der sie erzeugt hat. Wir überspringen das für den Moment, aber schauen Sie es sich später gerne an."
   ]
  },
  {
   "cell_type": "markdown",
   "metadata": {},
   "source": [
    "Entfernt das '`#`'-Zeichen und schaut euch die Argumente in der Dokumentation an, mit denen wir den Plot konfigurieren können:"
   ]
  },
  {
   "cell_type": "code",
   "execution_count": 19,
   "metadata": {},
   "outputs": [],
   "source": [
    "#plt.plot?"
   ]
  },
  {
   "cell_type": "markdown",
   "metadata": {},
   "source": [
    "### Eingangsdaten: 1D-Reihe\n",
    "\n",
    "Wir haben kurz `ax.plot(x, y)` und `ax.scatter(x, y)` erwähnt, um Linien bzw. Punkte zu zeichnen.  Wir werden einige ihrer Optionen (Marker, Farben, Linienstile, etc.) im nächsten Abschnitt behandeln. Kommen wir nun zu ein paar anderen gängigen Diagrammtypen.\n",
    "\n",
    "### Balkenplots: `ax.bar(...)` und `ax.barh(...)`\n",
    "\n",
    "Balkenplots sind einer der am häufigsten verwendeten Plot-Typen.  Matplotlibs Methode `ax.bar(...)` kann auch allgemeine Rechtecke plotten, aber die Voreinstellung ist für eine einfache Folge von x-, y-Werten optimiert, wobei die Rechtecke eine konstante Breite haben.  Es gibt auch `ax.barh(...)` (für horizontal), die eine konstante Höhe statt einer konstanten Breite annimmt."
   ]
  },
  {
   "cell_type": "markdown",
   "metadata": {},
   "source": [
    "### Einfaches Balkendiagramm"
   ]
  },
  {
   "cell_type": "code",
   "execution_count": null,
   "metadata": {},
   "outputs": [],
   "source": [
    "np.random.seed(2)\n",
    "x = np.arange(5)\n",
    "y = np.random.random(5) * 2\n",
    "\n",
    "fig, ax = plt.subplots()\n",
    "ax.bar(x, y)\n",
    "plt.show()"
   ]
  },
  {
   "cell_type": "code",
   "execution_count": null,
   "metadata": {},
   "outputs": [],
   "source": [
    "x"
   ]
  },
  {
   "cell_type": "code",
   "execution_count": null,
   "metadata": {},
   "outputs": [],
   "source": [
    "y"
   ]
  },
  {
   "cell_type": "markdown",
   "metadata": {},
   "source": [
    "Hinzufügen von Fehlerbalken..."
   ]
  },
  {
   "cell_type": "code",
   "execution_count": null,
   "metadata": {},
   "outputs": [],
   "source": [
    "np.random.seed(2)\n",
    "x = np.arange(5)\n",
    "y = np.random.random(5) * 2\n",
    "error = y * 0.1\n",
    "\n",
    "fig, ax = plt.subplots()\n",
    "ax.bar(x, y, yerr=error)\n",
    "plt.show()"
   ]
  },
  {
   "cell_type": "markdown",
   "metadata": {},
   "source": [
    "Wenn wir negative Werte haben, können wir mit `axhline` ein Achsen-\"Rückgrat\" zeichnen, um die Nulllinie zu markieren."
   ]
  },
  {
   "cell_type": "code",
   "execution_count": null,
   "metadata": {},
   "outputs": [],
   "source": [
    "np.random.seed(1)\n",
    "x = np.arange(5)\n",
    "y = np.random.randn(5)\n",
    "\n",
    "fig, ax = plt.subplots()\n",
    "ax.bar(x, y)\n",
    "ax.axhline(y=0, color='black', linewidth=2)\n",
    "plt.show()"
   ]
  },
  {
   "cell_type": "markdown",
   "metadata": {},
   "source": [
    "Matplotlib Plot-Methoden geben einen `Artist` oder eine Folge von Artists zurück.  Alles, was Sie in einer Matplotlib-Figur/Achse/etc sehen können, ist ein `Artist` von irgendeiner Art. Die meiste Zeit werden Sie diese zurückgegebenen Objekte nicht behalten müssen. Sie werden sie für spezielle Anpassungen erfassen wollen, die über den normalen Plotmechanismus nicht möglich sind.\n",
    "\n",
    "Schauen wir uns das letzte Beispiel noch einmal an und ändern wir, was gezeichnet wird.  Im Fall von `bar` wird ein Container-Artist zurückgegeben, so dass wir dessen Inhalt anstelle des Containers selbst ändern (also `for bar in vert_bars`)."
   ]
  },
  {
   "cell_type": "code",
   "execution_count": null,
   "metadata": {},
   "outputs": [],
   "source": [
    "fig, ax = plt.subplots()\n",
    "vert_bars = ax.bar(x, y) # Store the output of the call to .bar\n",
    "\n",
    "# We could have also done this with two separate calls to `ax.bar` and numpy boolean indexing.\n",
    "for bar, height in zip(vert_bars, y):\n",
    "    if height < 0:\n",
    "        bar.set(color='red')\n",
    "        \n",
    "ax.axhline(y=0, color='black', linewidth=2)\n",
    "\n",
    "plt.show()"
   ]
  },
  {
   "cell_type": "markdown",
   "metadata": {},
   "source": [
    "Wenn wir uns die von `ax.bar` zurückgegebenen Artists ansehen, können wir sehen, dass sie alle einfache Rechtecke sind."
   ]
  },
  {
   "cell_type": "code",
   "execution_count": null,
   "metadata": {},
   "outputs": [],
   "source": [
    "for bar in vert_bars:\n",
    "    print(bar)"
   ]
  },
  {
   "cell_type": "markdown",
   "metadata": {},
   "source": [
    "### Gefüllte Regionen: `ax.fill(x, y)`, `fill_between(...)`, etc\n",
    "\n",
    "Von diesen Funktionen ist `ax.fill_between(...)` wahrscheinlich diejenige, die Sie am häufigsten benutzen werden.  In ihrer einfachsten Form füllt sie zwischen den angegebenen y-Werten und 0 auf:"
   ]
  },
  {
   "cell_type": "code",
   "execution_count": null,
   "metadata": {},
   "outputs": [],
   "source": [
    "np.random.seed(1)\n",
    "y = np.random.randn(100).cumsum()\n",
    "x = np.linspace(0, 10, 100)\n",
    "\n",
    "fig, ax = plt.subplots()\n",
    "ax.fill_between(x, y, color='lightblue')\n",
    "plt.show()"
   ]
  },
  {
   "cell_type": "code",
   "execution_count": null,
   "metadata": {},
   "outputs": [],
   "source": [
    "x = np.linspace(0, 10, 200)\n",
    "y1 = 2 * x + 1\n",
    "y2 = 3 * x + 1.2\n",
    "y_mean = 0.5 * x * np.cos(2*x) + 2.5 * x + 1.1\n",
    "\n",
    "fig, ax = plt.subplots()\n",
    "\n",
    "# Plot the envelope with `fill_between`\n",
    "ax.fill_between(x, y1, y2, color='yellow')\n",
    "\n",
    "# Plot the \"centerline\" with `plot`\n",
    "ax.plot(x, y_mean, color='black')\n",
    "\n",
    "plt.show()"
   ]
  },
  {
   "cell_type": "markdown",
   "metadata": {},
   "source": [
    "## Eingangsdaten: 2D-Arrays oder Bilder\n",
    "\n",
    "Es gibt mehrere Optionen zum Plotten von 2D-Datensätzen.  `imshow`, `pcolor` und `pcolormesh` haben auf den ersten Blick eine Menge Überschneidungen.  Das obige Bild soll das etwas verdeutlichen.\n",
    "\n",
    "\n",
    "Kurz gesagt, `imshow` kann große Arrays sehr schnell interpolieren und darstellen, während `pcolormesh` und `pcolor` viel langsamer sind, aber mit flexiblen (d.h. mehr als nur rechteckigen) Anordnungen von Zellen umgehen können.\n",
    "\n",
    "Wir werden uns hier nicht zu sehr mit den Unterschieden und Überschneidungen aufhalten.  Sie haben überlappende Fähigkeiten, aber ein unterschiedliches Standardverhalten, weil ihre primären Anwendungsfälle etwas anders sind (es gibt auch `matshow`, das `imshow` mit anderen Standardeinstellungen ist).  \n",
    "\n",
    "Stattdessen werden wir uns auf das konzentrieren, was sie gemeinsam haben.\n",
    "\n",
    "`imshow`, `pcolor`, `pcolormesh`, `scatter` und alle anderen Matplotlib-Darstellungsmethoden, die einen Bereich von Datenwerten auf eine Farbkarte abbilden, geben Artists zurück, die Instanzen von `ScalarMappable` sind. In der Praxis bedeutet das, dass a) Sie einen Farbbalken für sie anzeigen können und b) sie mehrere Schlüsselwortargumente teilen."
   ]
  },
  {
   "cell_type": "markdown",
   "metadata": {},
   "source": [
    "### 2d-Daten mit `imshow` anzeigen"
   ]
  },
  {
   "cell_type": "code",
   "execution_count": null,
   "metadata": {},
   "outputs": [],
   "source": [
    "arr_2d = np.arange(9).reshape((3, 3))\n",
    "arr_2d"
   ]
  },
  {
   "cell_type": "code",
   "execution_count": null,
   "metadata": {},
   "outputs": [],
   "source": [
    "fig, ax = plt.subplots()\n",
    "ax.imshow(arr_2d)\n",
    "plt.show()"
   ]
  },
  {
   "cell_type": "markdown",
   "metadata": {},
   "source": [
    "`imshow` wird meist zur Anzeige von Bildern verwendet."
   ]
  },
  {
   "cell_type": "code",
   "execution_count": null,
   "metadata": {},
   "outputs": [],
   "source": [
    "# Read images into numpy array. Usually imageio would be used here.\n",
    "# see https://imageio.github.io/\n",
    "img = plt.imread(\"images/05/stinkbug.png\")\n",
    "\n",
    "fig, ax = plt.subplots()\n",
    "ax.imshow(img)\n",
    "ax.axis(\"off\")\n",
    "plt.show()"
   ]
  },
  {
   "cell_type": "markdown",
   "metadata": {},
   "source": [
    "Für die Visualisierung von Matrizen bietet `matshow` bessere Vorgaben, z.B. für die Achsenbeschriftung."
   ]
  },
  {
   "cell_type": "code",
   "execution_count": null,
   "metadata": {},
   "outputs": [],
   "source": [
    "fig, ax = plt.subplots()\n",
    "ax.matshow(arr_2d)\n",
    "plt.show()"
   ]
  },
  {
   "cell_type": "markdown",
   "metadata": {},
   "source": [
    "### Farbbalken\n",
    "\n",
    "Nur die Farben zu sehen, sagt nicht unbedingt etwas über die darunter liegenden Werte aus. Fügen wir der Abbildung einen Farbbalken hinzu, um anzuzeigen, welche Farben den Werten der aufgezeichneten `data` entsprechen. "
   ]
  },
  {
   "cell_type": "code",
   "execution_count": null,
   "metadata": {},
   "outputs": [],
   "source": [
    "fig, ax = plt.subplots()\n",
    "im = ax.imshow(arr_2d)\n",
    "fig.colorbar(im)\n",
    "plt.show()"
   ]
  },
  {
   "cell_type": "code",
   "execution_count": null,
   "metadata": {},
   "outputs": [],
   "source": [
    "arr_2d"
   ]
  },
  {
   "cell_type": "markdown",
   "metadata": {},
   "source": [
    "Sie werden feststellen, dass `colorbar` eine `Figure`-Methode ist und keine `Axes`-Methode.  Das liegt daran, dass `colorbar` nicht auf den Achsen operiert. Stattdessen werden die aktuellen Achsen um ein Stück verkleinert, eine _neue_ Achse zur Figur hinzugefügt und der Farbbalken auf diese Achse gesetzt.\n",
    "\n",
    "Die neue Achse, die `fig.colorbar` erzeugt, ist ziemlich eingeschränkt, wo sie positioniert werden kann.   Zum Beispiel liegt sie immer außerhalb der Achsen, von denen sie Platz \"stiehlt\". Manchmal möchten Sie vielleicht vermeiden, dass der Farbbalken Platz von einer Achse \"stiehlt\" oder dass er sogar _innerhalb_ einer anderen Achse liegt.  In diesem Fall können Sie die Achsen für den Farbbalken manuell erstellen und ihn dort positionieren, wo Sie es wünschen:"
   ]
  },
  {
   "cell_type": "code",
   "execution_count": null,
   "metadata": {},
   "outputs": [],
   "source": [
    "fig, ax = plt.subplots()\n",
    "cax = fig.add_axes([0.27, 0.8, 0.5, 0.05])\n",
    "\n",
    "im = ax.imshow(arr_2d)\n",
    "fig.colorbar(im, cax=cax, orientation='horizontal')\n",
    "plt.show()"
   ]
  },
  {
   "cell_type": "markdown",
   "metadata": {},
   "source": [
    "### Gemeinsame Parameter für `imshow`, `pcolormesh`, `contour`, `scatter`, etc\n",
    "  \n",
    "  Wie wir bereits erwähnt haben, hat jede Plot-Methode, die ein `ScalarMappable` erzeugt, einige gemeinsame kwargs.  Diejenigen, die Sie am häufigsten verwenden werden, sind:\n",
    "  \n",
    "  * `cmap` : Die Farbkarte (oder der Name der Farbkarte), die zur Darstellung der Eingabe verwendet wird.  (Wir werden die verschiedenen Farbkarten im nächsten Abschnitt durchgehen.)\n",
    "  * `vmin` : Der minimale Datenwert, der dem \"Boden\" der Farbkarte entspricht (standardmäßig das Minimum Ihrer Eingabedaten).\n",
    "  * `vmax` : Der maximale Datenwert, der dem \"oberen\" Bereich der Farbkarte entspricht (Standardwert ist der maximale Wert Ihrer Eingabedaten).\n",
    "  * `norm` : Eine `Normalize`-Instanz, um zu steuern, wie die Datenwerte auf die Farbkarte abgebildet werden. Standardmäßig ist dies eine lineare Skalierung zwischen `vmin` und `vmax`, aber auch andere Normen sind verfügbar (z.B. `LogNorm`, `PowerNorm`, etc).\n",
    "  \n",
    "`vmin` und `vmax` sind besonders nützlich.  Oftmals möchten Sie, dass die Farben auf einen bestimmten Bereich von Datenwerten abgebildet werden, der nicht das Minimum/Maximum Ihrer Eingabedaten ist. Zum Beispiel könnten Sie einen symmetrischen Wertebereich um 0 herum haben wollen.\n",
    "\n",
    "Als Beispiel dafür wollen wir eine divergente Farbzuordnung auf einige Beispieldaten anwenden. Beachten Sie, dass die Farbkarte **nicht** bei Null zentriert ist."
   ]
  },
  {
   "cell_type": "code",
   "execution_count": null,
   "metadata": {},
   "outputs": [],
   "source": [
    "from matplotlib.cbook import get_sample_data\n",
    "data = get_sample_data('axes_grid/bivariate_normal.npy')\n",
    "\n",
    "fig, ax = plt.subplots()\n",
    "im = ax.imshow(data, cmap='seismic')\n",
    "fig.colorbar(im)\n",
    "plt.show()"
   ]
  },
  {
   "cell_type": "code",
   "execution_count": null,
   "metadata": {},
   "outputs": [],
   "source": [
    "fig, ax = plt.subplots()\n",
    "im = ax.imshow(data, cmap='seismic', vmin=-2, vmax=2)\n",
    "fig.colorbar(im)\n",
    "plt.show()"
   ]
  },
  {
   "cell_type": "markdown",
   "metadata": {},
   "source": [
    "### Scatter für n-dimensionale Daten\n",
    "`scatter` erlaubt es, mehrere Dimensionen auf verschiedene Ästhetiken wie x-Position, Farbe, Größe und Form abzubilden."
   ]
  },
  {
   "cell_type": "code",
   "execution_count": null,
   "metadata": {},
   "outputs": [],
   "source": [
    "n = 50\n",
    "x1 = np.random.random(n)\n",
    "x2 = np.random.random(n) * 50\n",
    "x3 = np.random.random(n)\n",
    "y = x1 + x2 + x3\n",
    "\n",
    "fig, ax = plt.subplots()\n",
    "sc = ax.scatter(x=x1, y=y, s=x2, c=x3, marker='o')\n",
    "fig.colorbar(sc)\n",
    "plt.show()"
   ]
  },
  {
   "cell_type": "markdown",
   "metadata": {},
   "source": [
    "Es gibt viele verschiedene Marker, die Matplotlib unterstützt und die helfen können, verschiedene Verteilungen hervorzuheben. Schauen Sie unter https://matplotlib.org/3.2.1/api/markers_api.html#module-matplotlib.markers nach, um eine Liste der Marker-Optionen zu erhalten."
   ]
  },
  {
   "cell_type": "code",
   "execution_count": null,
   "metadata": {},
   "outputs": [],
   "source": [
    "num = 100\n",
    "x1 = np.random.normal(-1, 2, num)\n",
    "y1 = np.random.normal(3, 4, num)\n",
    "x2 = np.random.normal(3, 2, num)\n",
    "y2 = np.random.normal(1, 1, num)\n",
    "\n",
    "fig, ax = plt.subplots()\n",
    "ax.scatter(x1, y1, marker='.')\n",
    "ax.scatter(x2, y2, marker='x')\n",
    "plt.show()"
   ]
  },
  {
   "cell_type": "markdown",
   "metadata": {},
   "source": [
    "**Wiederholen Sie jetzt kurz die Verschiedenen Möglichkeiten, 1D-Datenreihen, 2D-Datenreihen und Bilder zu plotten! Sie können es am besten selbst ausprobieren!**\n"
   ]
  },
  {
   "cell_type": "markdown",
   "metadata": {},
   "source": [
    "## Visualisierung statistischer Verteilungen\n",
    "\n",
    "Ziehen Sie Samples aus einer Normalverteilung."
   ]
  },
  {
   "cell_type": "code",
   "execution_count": 41,
   "metadata": {},
   "outputs": [],
   "source": [
    "μ = 0\n",
    "σ = 1\n",
    "num_samples = 1000\n",
    "dist = np.random.normal(μ, σ, num_samples)"
   ]
  },
  {
   "cell_type": "markdown",
   "metadata": {},
   "source": [
    "**Nebenbemerkung zu Unicode-Zeichen als Variablen:** Seit Python 3 können wir beliebige Unicode-Zeichen wie μ und σ als Variablen verwenden. Dies kann in der wissenschaftlichen Programmierung sinnvoll sein, wenn starke Namenskonventionen bestehen. Ein gutes Beispiel sind Mittelwert und Standardabweichung einer Normalverteilung. Um gängige Zeichen einfach zu erhalten, können Sie den Latex-Stil verwenden und z. B. `\\mu` gefolgt von <kbd>tab</kbd> eingeben, um μ zu erhalten. Verwenden Sie dies jedoch nicht übermäßig. Eindeutig benannte Zeichen sind oft einfacher zu lesen."
   ]
  },
  {
   "cell_type": "markdown",
   "metadata": {},
   "source": [
    "### Histogramme\n",
    "Histogramme sind eine gute Möglichkeit, univariate Verteilungen zu visualisieren. Die Daten werden in gleichgroße Bins unterteilt. Dann wird gezählt, wie viele Datenpunkte in jedes Feld fallen. Schließlich zeichnen wir einen Balken mit der Breite des entsprechenden Bins und der Höhe der Zählung.\n",
    "\n",
    "Das Standardhistogramm sieht wie folgt aus."
   ]
  },
  {
   "cell_type": "code",
   "execution_count": null,
   "metadata": {},
   "outputs": [],
   "source": [
    "fig, ax = plt.subplots()\n",
    "ax.hist(dist)\n",
    "plt.show()"
   ]
  },
  {
   "cell_type": "markdown",
   "metadata": {},
   "source": [
    "Wir können die Anzahl der Bins steuern."
   ]
  },
  {
   "cell_type": "code",
   "execution_count": null,
   "metadata": {},
   "outputs": [],
   "source": [
    "fig, ax = plt.subplots()\n",
    "ax.hist(dist, bins=500)\n",
    "plt.show()"
   ]
  },
  {
   "cell_type": "markdown",
   "metadata": {},
   "source": [
    "Oder lassen Sie es automatisch ermitteln."
   ]
  },
  {
   "cell_type": "code",
   "execution_count": null,
   "metadata": {},
   "outputs": [],
   "source": [
    "fig, ax = plt.subplots()\n",
    "ax.hist(dist, bins='auto')\n",
    "plt.show()"
   ]
  },
  {
   "cell_type": "markdown",
   "metadata": {},
   "source": [
    "Mit `density=True` wird ein normalisiertes Histogramm erzeugt, das als Wahrscheinlichkeitsdichte interpretiert werden kann."
   ]
  },
  {
   "cell_type": "code",
   "execution_count": null,
   "metadata": {},
   "outputs": [],
   "source": [
    "fig, ax = plt.subplots()\n",
    "ax.hist(dist, bins='auto', density=True)\n",
    "plt.show()"
   ]
  },
  {
   "cell_type": "markdown",
   "metadata": {},
   "source": [
    "### Boxplots\n",
    "\n",
    "Boxplots sind eine weitere Standardmethode, um univariate Verteilungen zusammenzufassen. Sie bieten eine kompakte visuelle Beschreibung wichtiger *Zusammenfassungsstatistiken*. \n",
    "\n",
    "Eine Box wird am 25 %- und 75 %-Quantil gezeichnet, also dort, wo die meisten Daten liegen. Zusätzlich wird der Median durch eine Linie innerhalb des Kastens markiert.\n",
    "\n",
    "Die *Whisker* erstrecken sich über das 1,5-fache des *Zwischenquartilsbereichs* über die Quartile hinaus. Jeder Punkt darüber hinaus wird einzeln als *Flier* oder *Ausreißer* gezeichnet. Siehe auch https://flowingdata.com/2008/02/15/how-to-read-and-use-a-box-and-whisker-plot/ für eine schöne Illustration."
   ]
  },
  {
   "cell_type": "code",
   "execution_count": null,
   "metadata": {},
   "outputs": [],
   "source": [
    "fig, ax = plt.subplots()\n",
    "ax.boxplot(dist)\n",
    "plt.show()"
   ]
  },
  {
   "cell_type": "markdown",
   "metadata": {},
   "source": [
    "`boxplot` kann auch verwendet werden, um mehrere Verteilungen auf einmal darzustellen."
   ]
  },
  {
   "cell_type": "code",
   "execution_count": null,
   "metadata": {},
   "outputs": [],
   "source": [
    "import reprlib # This is for obtaining printable versions of large data sets.\n",
    "means = [0, -1, 2.5, 4.3, -3.6]\n",
    "sigmas = [1.2, 5, 3, 1.5, 2]\n",
    "# Each distribution has a different number of samples.\n",
    "nums = [150, 1000, 100, 200, 500]\n",
    "\n",
    "dists = [np.random.normal(*args) for args in zip(means, sigmas, nums)]\n",
    "reprlib.repr(dists)"
   ]
  },
  {
   "cell_type": "code",
   "execution_count": null,
   "metadata": {},
   "outputs": [],
   "source": [
    "fig, ax = plt.subplots()\n",
    "ax.boxplot(dists)\n",
    "plt.show()"
   ]
  },
  {
   "cell_type": "markdown",
   "metadata": {},
   "source": [
    "### Violinplots\n",
    "Violinplots sind eine dritte gängige Methode zur Visualisierung von Verteilungen. Für Violinplots wird eine *Kernel-Dichte-Schätzung* für den gesamten Bereich der Daten berechnet. Dies ergibt eine glatte Schätzung der Wahrscheinlichkeitsdichtefunktion, die den Daten zugrunde liegt.\n",
    "\n",
    "Die Funktion `Violinplot` verhält sich ähnlich wie `Boxplot`. Weitere Informationen finden Sie unter https://en.wikipedia.org/wiki/Violin_plot."
   ]
  },
  {
   "cell_type": "code",
   "execution_count": null,
   "metadata": {},
   "outputs": [],
   "source": [
    "fig, ax = plt.subplots()\n",
    "ax.violinplot(dist)\n",
    "plt.show()"
   ]
  },
  {
   "cell_type": "code",
   "execution_count": null,
   "metadata": {},
   "outputs": [],
   "source": [
    "fig, ax = plt.subplots()\n",
    "ax.violinplot(dists)\n",
    "plt.show()"
   ]
  },
  {
   "cell_type": "markdown",
   "metadata": {},
   "source": [
    "### Kreisdiagramme\n",
    "Kreisdiagramme sind eine bekannte Methode zur Visualisierung von kategorialen Verteilungen."
   ]
  },
  {
   "cell_type": "code",
   "execution_count": null,
   "metadata": {},
   "outputs": [],
   "source": [
    "# Pie chart, where the slices will be ordered and plotted counter-clockwise:\n",
    "labels = 'Frogs', 'Hogs', 'Dogs', 'Logs'\n",
    "sizes = [15, 30, 45, 20]\n",
    "\n",
    "fig, ax = plt.subplots()\n",
    "ax.pie(sizes, labels=labels, autopct='%1.1f%%')\n",
    "\n",
    "plt.show()"
   ]
  },
  {
   "cell_type": "markdown",
   "metadata": {},
   "source": [
    "## Plots mit Anmerkungen versehen\n",
    "\n",
    "Besonders bei wissenschaftlichen Abbildungen möchten Sie oft den Teil eines Plots hervorheben, der Ihre Hypothese unterstützt. Mit maplotlib haben Sie die volle Flexibilität, dies mit `annotate` zu tun. Standardmäßig wird nur Text an bestimmten x, y Koordinaten hinzugefügt.  "
   ]
  },
  {
   "cell_type": "code",
   "execution_count": null,
   "metadata": {},
   "outputs": [],
   "source": [
    "fig, ax = plt.subplots()\n",
    "\n",
    "t = np.arange(0.0, 5.0, 0.01)\n",
    "s = np.cos(2*np.pi*t)\n",
    "\n",
    "# Plot a line and add some simple annotations\n",
    "line, = ax.plot(t, s)\n",
    "ax.annotate('local maximum', xy=(3, 1))\n",
    "ax.set(ylim=(-2, 2))\n",
    "plt.show()"
   ]
  },
  {
   "cell_type": "markdown",
   "metadata": {},
   "source": [
    "Wir können den Text auch an eine andere x, y-Koordinate setzen, indem wir das Argument `xytext` verwenden."
   ]
  },
  {
   "cell_type": "code",
   "execution_count": null,
   "metadata": {},
   "outputs": [],
   "source": [
    "fig, ax = plt.subplots()\n",
    "\n",
    "t = np.arange(0.0, 5.0, 0.01)\n",
    "s = np.cos(2*np.pi*t)\n",
    "\n",
    "line, = ax.plot(t, s)\n",
    "ax.annotate(\n",
    "    'local maximum', \n",
    "    xy=(3, 1), \n",
    "    xytext=(3.5, 1.5)\n",
    ")\n",
    "\n",
    "ax.set(ylim=(-2, 2))\n",
    "plt.show()"
   ]
  },
  {
   "cell_type": "markdown",
   "metadata": {},
   "source": [
    "Da wir nun zwei x, y - Koordinaten haben, können wir sie mit Pfeilen verbinden."
   ]
  },
  {
   "cell_type": "code",
   "execution_count": null,
   "metadata": {},
   "outputs": [],
   "source": [
    "fig, ax = plt.subplots()\n",
    "\n",
    "t = np.arange(0.0, 5.0, 0.01)\n",
    "s = np.cos(2*np.pi*t)\n",
    "\n",
    "# Plot a line and add some simple annotations\n",
    "line, = ax.plot(t, s)\n",
    "ax.annotate(\n",
    "    'local maximum', \n",
    "    xy=(3, 1), \n",
    "    xytext=(3.5, 1.5),\n",
    "    arrowprops=dict()\n",
    ")\n",
    "\n",
    "ax.set(ylim=(-2, 2))"
   ]
  },
  {
   "cell_type": "markdown",
   "metadata": {},
   "source": [
    "Wenn es sein muss, können wir uns mit den Pfeilstilen sehr viel Mühe geben. Unter https://matplotlib.org/tutorials/text/annotations.html finden Sie eine detaillierte Übersicht."
   ]
  },
  {
   "cell_type": "code",
   "execution_count": null,
   "metadata": {},
   "outputs": [],
   "source": [
    "fig, ax = plt.subplots()\n",
    "\n",
    "t = np.arange(0.0, 5.0, 0.01)\n",
    "s = np.cos(2*np.pi*t)\n",
    "\n",
    "# Plot a line and add some simple annotations\n",
    "line, = ax.plot(t, s)\n",
    "ax.annotate(\n",
    "    'local maximum', \n",
    "    xy=(3, 1), \n",
    "    xytext=(3.5, 1.5),\n",
    "    arrowprops=dict(arrowstyle='wedge', connectionstyle=\"angle3\", facecolor=\"black\")\n",
    ")\n",
    "\n",
    "ax.set(ylim=(-2, 2))\n",
    "plt.show()"
   ]
  },
  {
   "cell_type": "markdown",
   "metadata": {},
   "source": [
    "**Machen Sie sich jetzt mit dem ersten Plotten von statistischen Verteilungen sowie dem Hinzufügen von Anmerkungen an Plots vertraut!**"
   ]
  },
  {
   "cell_type": "markdown",
   "metadata": {},
   "source": [
    "## Wie man \"Matplotlib\" spricht\n",
    "\n",
    "In den vorangegangenen Teilen haben Sie gelernt, wie Matplotlib die Erstellung von Diagrammen durch Figuren und Achsen organisiert. Wir haben die Komponenten einer grundlegenden Figur aufgeschlüsselt und gelernt, wie man sie erstellt. Sie haben auch gelernt, wie man eine oder mehrere Achsen zu einer Figur hinzufügt und wie man sie miteinander verbindet. Sie haben sogar gelernt, wie Sie einige der grundlegenden Erscheinungsbilder der Achsen ändern können. Schließlich haben wir einige der vielen Plot-Methoden besprochen, die Matplotlib zum Zeichnen auf diesen Achsen bietet. Mit all diesem Wissen sollten Sie nun in der Lage sein, großartige und wunderbare Figuren zu erstellen.\n",
    "\n",
    "Warum sind Sie noch hier?\n",
    "\n",
    "\"Wir wissen nicht, wie wir unsere Plots und Figuren steuern können!\" sagt irgendeine zufällige Stimme im hinteren Teil des Raumes.\n",
    "\n",
    "Aber natürlich! In den vorangegangenen Abschnitten haben Sie vielleicht etwas über die Struktur und die Syntax von Matplotlib gelernt, aber es wurde nicht viel von der Substanz und dem Vokabular der Bibliothek beschrieben. In diesem Abschnitt werden viele der Eigenschaften besprochen, die in der gesamten Bibliothek verwendet werden. Beachten Sie, dass viele der Beispiele in diesem Abschnitt zwar eine Art und Weise zeigen, wie eine bestimmte Eigenschaft gesetzt werden kann, dass diese Eigenschaft aber auch an anderer Stelle in einem völlig anderen Kontext anwendbar sein kann. Dies ist die \"Sprache\" von Matplotlib."
   ]
  },
  {
   "cell_type": "markdown",
   "metadata": {},
   "source": [
    "### Farben\n",
    "\n",
    "Dies ist vielleicht das wichtigste Vokabular in Matplotlib. Da Matplotlib eine Plot-Bibliothek ist, sind Farben mit allem verbunden, was in Ihren Figuren geplottet wird. Matplotlib unterstützt eine [sehr robuste Sprache](http://matplotlib.org/api/colors_api.html#module-matplotlib.colors) zum Spezifizieren von Farben, die einer Vielzahl von Benutzern vertraut sein sollte.\n",
    "\n",
    "Standardmäßig wählt Matplotlib unterschiedliche Farben, wenn Daten auf denselben Achsen kombiniert werden."
   ]
  },
  {
   "cell_type": "code",
   "execution_count": null,
   "metadata": {},
   "outputs": [],
   "source": [
    "t = np.arange(0.0, 5.0, 0.2)\n",
    "fig, ax = plt.subplots()\n",
    "ax.plot(t, t, linewidth=5)\n",
    "ax.plot(t, t**2, linewidth=5)\n",
    "ax.plot(t, t**3, linewidth=5)\n",
    "plt.show()"
   ]
  },
  {
   "cell_type": "markdown",
   "metadata": {},
   "source": [
    "#### Colornames\n",
    "\n",
    "Zunächst können Farben als Zeichenketten angegeben werden. Für sehr einfache Farben können Sie sogar mit nur einem einzigen Buchstaben auskommen:\n",
    "\n",
    "- b: blau\n",
    "- g: grün\n",
    "- r: rot\n",
    "- c: Cyan\n",
    "- m: magenta\n",
    "- y: gelb\n",
    "- k: schwarz\n",
    "- w: weiß\n",
    "\n",
    "Andere Farbnamen, die erlaubt sind, sind die HTML/CSS-Farbnamen wie \"burlywood\" und \"chartreuse\". Siehe die [vollständige Liste](https://www.w3schools.com/colors/colors_names.asp) der 147 Farbnamen."
   ]
  },
  {
   "cell_type": "markdown",
   "metadata": {},
   "source": [
    "#### Hex-Werte\n",
    "\n",
    "Farben können auch durch Angabe einer HTML/CSS-Hex-Zeichenkette angegeben werden, z. B. `'#0000FF'` für Blau. Unterstützung für einen optionalen Alphakanal wurde für v2.0 hinzugefügt. Weitere Informationen über Hex-Farben finden Sie unter https://en.wikipedia.org/wiki/Web_colors#Hex_triplet."
   ]
  },
  {
   "cell_type": "code",
   "execution_count": null,
   "metadata": {},
   "outputs": [],
   "source": [
    "t = np.arange(0.0, 5.0, 0.2)\n",
    "fig, ax = plt.subplots()\n",
    "ax.plot(t, t, linewidth=5, color='#00ffff')\n",
    "ax.plot(t, t**2, linewidth=5, color='#ff00ff')\n",
    "ax.plot(t, t**3, linewidth=5, color='#ffcc00')\n",
    "plt.show()"
   ]
  },
  {
   "cell_type": "markdown",
   "metadata": {},
   "source": [
    "### 256 Graustufen\n",
    "\n",
    "Eine Graustufe kann anstelle einer Farbe angegeben werden, indem eine String-Repräsentation einer Zahl zwischen 0 und 1 (einschließlich) übergeben wird. `'0.0'` ist schwarz, während `'1.0'` weiß ist. `'0.75'` wäre ein heller Grauton."
   ]
  },
  {
   "cell_type": "code",
   "execution_count": null,
   "metadata": {},
   "outputs": [],
   "source": [
    "t = np.arange(0.0, 5.0, 0.2)\n",
    "fig, ax = plt.subplots()\n",
    "ax.plot(t, t, linewidth=5, color='1.0')\n",
    "ax.plot(t, t**2, linewidth=5, color='0.5')\n",
    "ax.plot(t, t**3, linewidth=5, color='0.0')\n",
    "plt.show()"
   ]
  },
  {
   "cell_type": "markdown",
   "metadata": {},
   "source": [
    "### RGB[A]-Tupel\n",
    "\n",
    "Es kann sein, dass Sie auf Fälle stoßen, in denen die vorherigen Methoden zur Angabe von Farben nicht funktionieren. Dies kann manchmal in einigen der tieferen, unbekannteren Ebenen der Bibliothek vorkommen. Wenn alles andere versagt, ist die universelle Sprache der Farben für Matplotlib das RGB[A]-Tupel. Dies ist das \"Rot\"-, \"Grün\"-, \"Blau\"- und manchmal \"Alpha\"-Tupel von Fließkommazahlen im Bereich von [0, 1]. Eins bedeutet volle Sättigung dieses Kanals, also wäre ein rotes RGBA-Tupel `(1.0, 0.0, 0.0, 1.0)`, während ein teilweise transparentes grünes RGBA-Tupel `(0.0, 1.0, 0.0, 0.75)` wäre.  In der Dokumentation wird normalerweise angegeben, ob RGB- oder RGBA-Tupel akzeptiert werden. Manchmal wird eine Liste von Tupeln für mehrere Farben benötigt, und Sie können in solchen Fällen sogar ein Nx3- oder Nx4-Numpy-Array angeben.\n",
    "\n",
    "Bei Funktionen wie `plot()` und `scatter()` sieht es zwar so aus, als ob sie eine Farbspezifikation annehmen können, aber was sie wirklich brauchen, ist eine \"Formatspezifikation\", die die Farbe als Teil des Formats enthält. Leider sind solche Spezifikationen nur Zeichenketten und daher werden RGB[A]-Tupel für solche Argumente nicht unterstützt (Sie können aber trotzdem ein RGB[A]-Tupel für ein \"color\"-Argument übergeben).\n",
    "\n",
    "Oftmals gibt es ein separates Argument für \"alpha\", in dem Sie eine Farbe angeben können. Der Wert für \"alpha\" hat normalerweise Vorrang vor dem Alpha-Wert im RGBA-Tupel. Es gibt keine einfache Möglichkeit, diese Inkonsistenz zu umgehen."
   ]
  },
  {
   "cell_type": "code",
   "execution_count": null,
   "metadata": {},
   "outputs": [],
   "source": [
    "t = np.arange(0.0, 3.0, 0.2)\n",
    "fig, ax = plt.subplots()\n",
    "ax.plot(t, t, linewidth=5, color=(0, 0, 1))\n",
    "ax.plot(t, t**2, linewidth=5, color=(0, 0.5, 0.5))\n",
    "ax.plot(t, t**3, linewidth=5, color=(0, 0, 1, 0.3))\n",
    "# the alpha value can also be specified as an additional kwarg\n",
    "ax.plot(t, t**4, linewidth=5, color=(0, 1, 1), alpha=0.2)\n",
    "plt.show()"
   ]
  },
  {
   "cell_type": "markdown",
   "metadata": {},
   "source": [
    "### Cycle-Referenzen\n",
    "\n",
    "Mit dem Aufkommen immer ausgefallenerer Farbzyklen, die aus den vielen verfügbaren Stilen stammen, brauchten die Benutzer eine Möglichkeit, diese Farben im Stil zu referenzieren, ohne explizit zu wissen, was sie sind. Daher wurde in Version 2.0 die Möglichkeit hinzugefügt, die ersten 10 Iterationen des Farbzyklus zu referenzieren. Überall, wo man eine Farbe angeben kann, kann man eine 2-Zeichen-Zeichenkette 'C#' angeben. So wäre 'C0' die erste Farbe, 'C1' die zweite, und so weiter und so fort bis 'C9'."
   ]
  },
  {
   "cell_type": "code",
   "execution_count": null,
   "metadata": {},
   "outputs": [],
   "source": [
    "t = np.arange(0.0, 5.0, 0.2)\n",
    "fig, ax = plt.subplots()\n",
    "ax.plot(t, t, linewidth=5)\n",
    "ax.plot(t, t**2, linewidth=5)\n",
    "ax.plot(t, t**3, linewidth=5)\n",
    "plt.show()"
   ]
  },
  {
   "cell_type": "code",
   "execution_count": null,
   "metadata": {},
   "outputs": [],
   "source": [
    "t = np.arange(0.0, 5.0, 0.2)\n",
    "fig, ax = plt.subplots()\n",
    "ax.plot(t, t, linewidth=5, color='C2')\n",
    "ax.plot(t, t**2, linewidth=5, color='C3')\n",
    "ax.plot(t, t**3, linewidth=5, color='C0')\n",
    "plt.show()"
   ]
  },
  {
   "cell_type": "markdown",
   "metadata": {},
   "source": [
    "### Marker\n",
    "[Marker](http://matplotlib.org/api/markers_api.html) werden üblicherweise in [`plot()`](http://matplotlib.org/api/pyplot_api.html#matplotlib.pyplot.plot) und [`scatter()`](http://matplotlib.org/api/pyplot_api.html#matplotlib.pyplot.scatter) Plots verwendet, tauchen aber auch an anderen Stellen auf. Es steht eine große Anzahl von Markern zur Verfügung, und es können sogar eigene Marker angegeben werden.\n",
    "\n",
    "Marker     | Beschreibung       | Marker    |  Beschreibung      | Marker   | Beschreibung   | Marker    | Beschreibung  \n",
    ":----------|:-------------------|:----------|:-------------------|:---------|:---------------|:----------|:--------------\n",
    "\".\"        |  Punkt             | \"+\"       |  Plus              |\",\"       |  Pixel         | \"x\"       |  Kreuz\n",
    "\"o\"        |  Kreis             | \"D\"       |  Diamant           |\"d\"       |  Thin Diamant  |           |\n",
    "\"8\"        |  Achteck           | \"s\"       |  Quadrat           |\"p\"       |  Fünfeck       | \"\\*\"      |  Stern\n",
    "\"&#124;\"   |  vertikale Linie   | \"\\_\"      |  horizontale Linie | \"h\"      |  Sechseck 1    | \"H\"       |  Sechseck 2\n",
    "0          |  Tick links        | 4         |  Pfeil links       |\"<\"       | Dreieck links  | \"3\"       |  Tri links\n",
    "1          |  Tick rechts       | 5         |  Pfeil rechts      |\">\"       | Dreieck rechts | \"4\"       |  Tri rechts\n",
    "2          |  Tick oben         | 6         | Pfeil oben         |\"^\"       | Dreieck oben   | \"2\"       |  Tri oben\n",
    "3          |  Tick unten        | 7         |  Pfeil unten       |\"v\"       | Dreieck unten  | \"1\"       |  Tri unten\n",
    "\"None\"     |  Nichts            | `None`    |  Default           |\" \"       |  Nichts        |\"\"         |  Nichts"
   ]
  },
  {
   "cell_type": "code",
   "execution_count": null,
   "metadata": {},
   "outputs": [],
   "source": [
    "t = np.arange(0.0, 5.0, 0.2)\n",
    "fig, ax = plt.subplots()\n",
    "ax.plot(t, t, '.', linewidth=5)\n",
    "ax.plot(t, t**2, 'o', linewidth=5)\n",
    "ax.plot(t, t**3, marker='+', linewidth=1) # With explicit arguments, you can set maker and linestyle separately.\n",
    "ax.plot(t, -t, ls='', marker='v', linewidth=5) \n",
    "plt.show()"
   ]
  },
  {
   "cell_type": "markdown",
   "metadata": {},
   "source": [
    "### Linienstile\n",
    "\n",
    "Linienstile werden in etwa so häufig verwendet wie Farben. Es gibt ein paar vordefinierte Linienstile, die Sie verwenden können. Beachten Sie, dass es einige fortgeschrittene Techniken gibt, um einige benutzerdefinierte Linienstile festzulegen. [Hier](http://matplotlib.org/1.3.0/examples/lines_bars_and_markers/line_demo_dash_control.html) ist ein Beispiel für ein benutzerdefiniertes Strichmuster.\n",
    "\n",
    "Linienstil | Beschreibung\n",
    "-----------|------------------------------\n",
    "'-'        | durchgezogen\n",
    "'--'       | gestrichelt\n",
    "'-.'       | dashdot\n",
    "':'        | gepunktet\n",
    "'None '    | nichts zeichnen\n",
    "''         | nichts zeichnen\n",
    "''         | nichts zeichnen\n",
    "\n",
    "Verwechseln Sie außerdem nicht \".-\" (Linie mit Punktmarkierungen) und \"-.\" (Strich-Punkt-Linie), wenn Sie die Funktion ``plot`` verwenden!"
   ]
  },
  {
   "cell_type": "code",
   "execution_count": null,
   "metadata": {},
   "outputs": [],
   "source": [
    "t = np.arange(0.0, 5.0, 0.2)\n",
    "fig, ax = plt.subplots()\n",
    "ax.plot(t, t, linestyle='-', linewidth=5)\n",
    "ax.plot(t, t**2, linestyle='--', linewidth=5)\n",
    "ax.plot(t, t**3, linestyle='-.', linewidth=5)\n",
    "ax.plot(t, -t, linestyle=':', linewidth=5)\n",
    "plt.show()"
   ]
  },
  {
   "cell_type": "code",
   "execution_count": null,
   "metadata": {},
   "outputs": [],
   "source": [
    "fig, ax = plt.subplots(1, 1)\n",
    "ax.bar([1, 2, 3, 4], [10, 20, 15, 13], linestyle='--', edgecolor='r', linewidth=4)\n",
    "plt.show()"
   ]
  },
  {
   "cell_type": "markdown",
   "metadata": {},
   "source": [
    "### Colormaps\n",
    "\n",
    "Eine weitere sehr wichtige Eigenschaft vieler Figuren ist die Colormap. Die Aufgabe einer Colormap ist es, einen skalaren Wert mit einer Farbe in Beziehung zu setzen. Zusätzlich zum regulären Teil der Colormap können optional auch eine \"Über\"-, \"Unter\"- und \"Schlecht\"-Farbe definiert werden. NaNs lösen den \"schlechten\" Teil der Colormap aus.\n",
    "\n",
    "Wie wir alle wissen, erstellen wir Zahlen, um unseren Lesern Informationen visuell zu vermitteln. Es ist viel Sorgfalt und Überlegung in das Design dieser Colormaps geflossen. Die Wahl der zu verwendenden Farbkarte hängt davon ab, was Sie darstellen möchten. In mpl wurde bisher standardmäßig die \"jet\"-Farbkarte verwendet, aber das ist oft nicht die Farbkarte, die Sie verwenden möchten. Auf den Mailinglisten wurde viel darüber diskutiert, welche Farbkarte standardmäßig verwendet werden sollte. In der Version 2.0 von Matplotlib wurde eine neue Standard-Farbkarte, 'viridis', eingeführt, zusammen mit einigen anderen stilistischen Änderungen an den Standardeinstellungen.\n",
    "\n",
    "Hier ist der Vortrag (https://www.youtube.com/watch?v=xAoljeRJ3lU) von Nathaniel Smith und Stéfan van der Walt auf der SciPy 2015, in dem Colormaps hervorragend erklärt werden und wie die neuen perzeptiven einheitlichen Colormaps entwickelt wurden."
   ]
  },
  {
   "cell_type": "code",
   "execution_count": null,
   "metadata": {},
   "outputs": [],
   "source": [
    "def plot_cmap(name, value_range=(0, 1)):\n",
    "    gradient = np.linspace(*value_range, 256)\n",
    "    gradient = np.vstack((gradient, gradient))\n",
    "    fig, ax = plt.subplots(figsize=plt.figaspect(0.1))\n",
    "    ax.imshow(gradient, aspect='auto', cmap=plt.get_cmap(name), vmin=0, vmax=1)\n",
    "    pos = list(ax.get_position().bounds)\n",
    "    x_text = pos[0] - 0.01\n",
    "    y_text = pos[1] + pos[3]/2.\n",
    "    ax.set_title(name, fontsize=20)\n",
    "    ax.axis(\"off\")\n",
    "\n",
    "plot_cmap(\"jet\")"
   ]
  },
  {
   "cell_type": "code",
   "execution_count": null,
   "metadata": {},
   "outputs": [],
   "source": [
    "plot_cmap(\"viridis\")"
   ]
  },
  {
   "cell_type": "markdown",
   "metadata": {},
   "source": [
    "Hier finden Sie die vollständige Galerie aller vordefinierten Farbkarten, geordnet nach den Datentypen, für die sie normalerweise verwendet werden: https://matplotlib.org/3.1.0/tutorials/colors/colormaps.html"
   ]
  },
  {
   "cell_type": "markdown",
   "metadata": {},
   "source": [
    "### Mathtext\n",
    "\n",
    "Oftmals benötigen Sie einfach nur den hochgestellten oder einen anderen mathematischen Text in Ihren Beschriftungen. Für diejenigen, die mit LaTeX vertraut sind, bietet Matplotlib eine sehr einfache Möglichkeit, dies zu tun. Jeder Text, der von Dollarzeichen umgeben ist, wird als \"[mathtext](http://matplotlib.org/users/mathtext.html#mathtext-tutorial)\" behandelt. Beachten Sie, dass es aufgrund der in LaTeX weit verbreiteten Backslashes oft eine gute Idee ist, dem String-Literal ein `r` voranzustellen, damit Python die Backslashes nicht als Escape-Zeichen behandelt."
   ]
  },
  {
   "cell_type": "code",
   "execution_count": null,
   "metadata": {},
   "outputs": [],
   "source": [
    "print(r\"a\\nb\")"
   ]
  },
  {
   "cell_type": "code",
   "execution_count": null,
   "metadata": {},
   "outputs": [],
   "source": [
    "fig, ax = plt.subplots()\n",
    "ax.scatter([1, 2, 3, 4], [4, 3, 2, 1])\n",
    "ax.spines['top'].set(visible=False)  # Removing spines so they don't intersect with the title. tight_layout() is not sufficient here.\n",
    "ax.spines['right'].set(visible=False)\n",
    "ax.set_title(r'$\\sigma_i=\\frac{3}{5}$', fontsize=25)\n",
    "plt.show()"
   ]
  },
  {
   "cell_type": "markdown",
   "metadata": {},
   "source": [
    "## Begrenzungen, Legenden und Layouts\n",
    "\n",
    "In diesem Abschnitt konzentrieren wir uns darauf, was an den Rändern der Achsen passiert:  Ticks, ticklabels, limits, layouts, und legends."
   ]
  },
  {
   "cell_type": "code",
   "execution_count": null,
   "metadata": {},
   "outputs": [],
   "source": [
    "fig, ax = plt.subplots()\n",
    "ax.plot([1, 2, 3, 4], [10, 20, 25, 30])  # Philadelphia\n",
    "ax.plot([1, 2, 3, 4], [30, 23, 13, 4])  # Boston\n",
    "ax.set(ylabel='Temperature (deg C)', xlabel='Time', title='A tale of two cities')\n",
    "plt.show()"
   ]
  },
  {
   "cell_type": "code",
   "execution_count": null,
   "metadata": {},
   "outputs": [],
   "source": [
    "fig, ax = plt.subplots()\n",
    "ax.plot([1, 2, 3, 4], [10, 20, 25, 30], label='Philadelphia')\n",
    "ax.plot([1, 2, 3, 4], [30, 23, 13, 4], label='Boston')\n",
    "ax.set(ylabel='Temperature (deg C)', xlabel='Time', title='A tale of two cities')\n",
    "ax.legend()\n",
    "plt.show()"
   ]
  },
  {
   "cell_type": "markdown",
   "metadata": {},
   "source": [
    "Das Schlüsselwortargument `loc` erlaubt es, die Legende an verschiedenen Positionen zu positionieren. Das Argument `'best'` ist das Standardargument, das automatisch die Position wählt, die die Plot-Elemente so wenig wie möglich überlappt.\n",
    "\n",
    "| Location String | Location Code |\n",
    "| --- | --- |\n",
    "| best | 0 |\n",
    "| upper right | 1 |\n",
    "| upper left | 2 |\n",
    "| lower left | 3 |\n",
    "| lower right | 4 |\n",
    "| right | 5 |\n",
    "| center left | 6 |\n",
    "| center right | 7 |\n",
    "| lower center | 8 |\n",
    "| upper center | 9 |\n",
    "| center | 10 |"
   ]
  },
  {
   "cell_type": "code",
   "execution_count": null,
   "metadata": {},
   "outputs": [],
   "source": [
    "fig, ax = plt.subplots()\n",
    "ax.plot([1, 2, 3, 4], [10, 20, 25, 30], label='Philadelphia')\n",
    "ax.plot([1, 2, 3, 4], [30, 23, 13, 4], label='Boston')\n",
    "ax.set(ylabel='Temperature (deg C)', xlabel='Time', title='A tale of two cities')\n",
    "ax.legend(loc=\"center\")\n",
    "plt.show()"
   ]
  },
  {
   "cell_type": "markdown",
   "metadata": {},
   "source": [
    "### Ticks, Tick Lines, Tick Labels and Tickers\n",
    "\n",
    "Dies ist eine ständige Quelle der Verwirrung:\n",
    "\n",
    "* Ein Tick ist die *Position* eines Tick Labels.\n",
    "* Eine Tick Line ist die Linie, die die Position des Ticks angibt.\n",
    "* Ein Tick Label ist der Text, der an diesem Tick angezeigt wird.\n",
    "* Ein [`Ticker`](http://matplotlib.org/api/ticker_api.html#module-matplotlib.ticker) bestimmt automatisch die Ticks für eine Achse und formatiert die Tick Labels.\n",
    "\n",
    "Die Funktion [`tick_params()`](http://matplotlib.org/api/axes_api.html#matplotlib.axes.Axes.tick_params) wird häufig zur Konfiguration Ihrer Ticker verwendet."
   ]
  },
  {
   "cell_type": "code",
   "execution_count": null,
   "metadata": {},
   "outputs": [],
   "source": [
    "fig, ax = plt.subplots()\n",
    "ax.plot([1, 2, 3, 4], [10, 20, 25, 35])\n",
    "\n",
    "# Manually set ticks and tick labels *on the x-axis* (note ax.xaxis.set, not ax.set!)\n",
    "ax.xaxis.set(ticks=range(1, 5), ticklabels=[3, 100, -12, \"foo\"]) \n",
    "\n",
    "# Make the y-ticks a bit longer and go both in and out...\n",
    "ax.tick_params(axis='y', direction='in', length=10)\n",
    "\n",
    "plt.show()"
   ]
  },
  {
   "cell_type": "code",
   "execution_count": null,
   "metadata": {},
   "outputs": [],
   "source": [
    "data = [('apples', 2), ('oranges', 3), ('peaches', 1)]\n",
    "fruit, value = zip(*data)\n",
    "\n",
    "fig, ax = plt.subplots()\n",
    "x = np.arange(len(fruit))\n",
    "ax.bar(x, value, align='center', color='gray')\n",
    "ax.set(xticks=x, xticklabels=fruit)\n",
    "plt.show()"
   ]
  },
  {
   "cell_type": "markdown",
   "metadata": {},
   "source": [
    "### Subplot-Abstand\n",
    "Der Abstand zwischen den Subplots kann mit [`fig.subplots_adjust()`](http://matplotlib.org/api/pyplot_api.html?#matplotlib.pyplot.subplots_adjust) angepasst werden. Spielen Sie mit dem folgenden Beispiel herum, um zu sehen, wie sich die verschiedenen Argumente auf den Abstand auswirken."
   ]
  },
  {
   "cell_type": "code",
   "execution_count": null,
   "metadata": {},
   "outputs": [],
   "source": [
    "fig, axes = plt.subplots(2, 2, figsize=(9, 9))\n",
    "fig.subplots_adjust(wspace=0.3, hspace=0.7,\n",
    "                   left=0.125, right=0.8,\n",
    "                   top=0.7,    bottom=0.2)\n",
    "plt.show()"
   ]
  },
  {
   "cell_type": "markdown",
   "metadata": {},
   "source": [
    "Ein häufiger \"Fehler\" ist, dass die Beschriftungen nicht automatisch angepasst werden, um Überschneidungen mit denen eines anderen Subplots zu vermeiden. Matplotlib hat derzeit keine robuste Layout-Engine, da es eine Design-Entscheidung ist, die Menge an \"magischem Plotten\" zu minimieren. Wir beabsichtigen, den Benutzern eine vollständige, 100%ige Kontrolle über ihre Plots zu ermöglichen. LaTeX-Benutzer sind mit dem Ausmaß an Frustration vertraut, das bei der automatischen Platzierung von Abbildungen in ihren Dokumenten auftreten kann.\n",
    "\n",
    "Abgesehen davon gab es einige Bemühungen, Werkzeuge zu entwickeln, die den Benutzern helfen können, die häufigsten Probleme zu lösen. Die Funktion \"[Tight Layout](http://matplotlib.org/users/tight_layout_guide.html)\" versucht, wenn sie aufgerufen wird, die Größe von Rändern und Teilflächen so anzupassen, dass sich nichts überschneidet.\n",
    "\n",
    "Wenn Sie mehrere Teilflächen haben und überlappende Titel/Achsenbeschriftungen/etc. vermeiden möchten, ist \"fig.tight_layout\" eine gute Möglichkeit, dies zu tun:"
   ]
  },
  {
   "cell_type": "code",
   "execution_count": 75,
   "metadata": {},
   "outputs": [],
   "source": [
    "def example_plot(ax):\n",
    "    ax.plot([1, 2])\n",
    "    ax.set_xlabel('x-label', fontsize=16)\n",
    "    ax.set_ylabel('y-label', fontsize=8)\n",
    "    ax.set_title('Title', fontsize=24)"
   ]
  },
  {
   "cell_type": "code",
   "execution_count": null,
   "metadata": {},
   "outputs": [],
   "source": [
    "fig, ((ax1, ax2), (ax3, ax4)) = plt.subplots(nrows=2, ncols=2)\n",
    "example_plot(ax1)\n",
    "example_plot(ax2)\n",
    "example_plot(ax3)\n",
    "example_plot(ax4)\n",
    "\n",
    "plt.show()"
   ]
  },
  {
   "cell_type": "code",
   "execution_count": null,
   "metadata": {},
   "outputs": [],
   "source": [
    "fig, ((ax1, ax2), (ax3, ax4)) = plt.subplots(nrows=2, ncols=2)\n",
    "example_plot(ax1)\n",
    "example_plot(ax2)\n",
    "example_plot(ax3)\n",
    "example_plot(ax4)\n",
    "\n",
    "# Tight layout enabled.\n",
    "fig.tight_layout()\n",
    "\n",
    "plt.show()"
   ]
  },
  {
   "cell_type": "markdown",
   "metadata": {},
   "source": [
    "## Plots speichern\n",
    "\n",
    "Mit `matplotlib.pyplot.savefig` könnt ihr einen Plot als Bilddatei speichern:"
   ]
  },
  {
   "cell_type": "code",
   "execution_count": null,
   "metadata": {},
   "outputs": [],
   "source": [
    "plt.savefig('plots/my_plot.png')"
   ]
  },
  {
   "cell_type": "markdown",
   "metadata": {},
   "source": [
    "> **Hinweis:** Um einen Plot im **DIN A4-Format** zu speichern könnt ihr dessen Größe und Auflösung anpassen:\n",
    ">\n",
    "> ```python\n",
    "> fig = plt.gcf()\n",
    "> fig.set_size_inches(11.69, 8.27)\n",
    "> plt.savefig(filename, dpi=150)\n",
    "> ```"
   ]
  },
  {
   "cell_type": "markdown",
   "metadata": {},
   "source": [
    "> **Hinweis:** Um Plots in **LaTeX Dokumente** einzubinden bietet sich das [PGF Vektorformat](https://en.wikipedia.org/wiki/PGF/TikZ) statt Pixelgrafiken wie PNG an. Damit übernimmt LaTeX das Zeichnen des Plots und setzt zudem die enthaltenen Texte selbst, sodass die Fonts und Stile des Dokuments auch im Plot verwendet werden.\n",
    ">\n",
    "> Eine Beispiel-Implementierung findet ihr im [TexFig](https://github.com/knly/texfig) Repository."
   ]
  },
  {
   "cell_type": "markdown",
   "metadata": {},
   "source": [
    "# Seaborn\n",
    "Seaborn ist wie Matplotlib eine Bibliothek zum Darstellen von Daten und erweitert dabei Matplotlib. Beispiel sind hierfür Violinen Diagramme sowie weitere [Diagramme](https://seaborn.pydata.org/examples/index.html)."
   ]
  },
  {
   "cell_type": "code",
   "execution_count": null,
   "metadata": {},
   "outputs": [],
   "source": [
    "import seaborn as sns\n",
    "sns.set_theme(style=\"whitegrid\")\n",
    "\n",
    "tips = sns.load_dataset(\"tips\")\n",
    "tips = tips.rename(columns={\"day\": \"Tag\", \"total_bill\": \"Betrag\", \"smoker\": \"Raucher\"})\n",
    "tips[\"Raucher\"] = tips[\"Raucher\"].map(lambda s: \"Ja\" if s == \"Yes\" else \"Nein\")\n",
    "\n",
    "sns.violinplot(data=tips, x=\"Tag\", y=\"Betrag\", hue=\"Raucher\",\n",
    "               split=True, inner=\"quart\", linewidth=1,\n",
    "               palette={\"Ja\": \"b\", \"Nein\": \".85\"})"
   ]
  },
  {
   "cell_type": "markdown",
   "metadata": {},
   "source": [
    "## Weitere Literaturhinweise\n",
    "Matplotlib-Kapitel aus dem \"Python Data Science Handbook\" von Jake VanderPlas https://jakevdp.github.io/PythonDataScienceHandbook/04.00-introduction-to-matplotlib.html\n",
    "\n",
    "[Matplotlib-Tutorial aus Scipy 2018](https://youtu.be/6gdNUDs6QPc)"
   ]
  },
  {
   "cell_type": "code",
   "execution_count": null,
   "metadata": {},
   "outputs": [],
   "source": [
    "from IPython.display import YouTubeVideo\n",
    "YouTubeVideo(\"6gdNUDs6QPc\")"
   ]
  },
  {
   "cell_type": "markdown",
   "metadata": {},
   "source": [
    "Nun kannst du Daten mit Numpy analysieren und mit Matplotlib plotten. Lerne in der nächsten Lektion wie du mit dem Modul _Pandas_ größere Datenmengen genauer analysieren kannst.\n",
    "\n",
    "Hier ist das Übungsblatt zu diesem Notebook: [**05 - Übungsaufgaben Erste Visualisierungen in Matplotlib**](05_uebungsaufgaben_erste_visualisierungen_in_matplotlib.ipynb)"
   ]
  },
  {
   "cell_type": "markdown",
   "metadata": {},
   "source": [
    "---\n",
    "\n",
    "Wahlpflichtach Künstliche Intelligenz I: Praktikum "
   ]
  }
 ],
 "metadata": {
  "kernelspec": {
   "display_name": "Python 3 (ipykernel)",
   "language": "python",
   "name": "python3"
  },
  "language_info": {
   "codemirror_mode": {
    "name": "ipython",
    "version": 3
   },
   "file_extension": ".py",
   "mimetype": "text/x-python",
   "name": "python",
   "nbconvert_exporter": "python",
   "pygments_lexer": "ipython3",
   "version": "3.12.5"
  }
 },
 "nbformat": 4,
 "nbformat_minor": 1
}
